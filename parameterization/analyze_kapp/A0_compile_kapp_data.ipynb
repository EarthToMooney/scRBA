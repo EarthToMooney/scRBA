{
 "cells": [
  {
   "cell_type": "code",
   "execution_count": 1,
   "metadata": {},
   "outputs": [],
   "source": [
    "import pandas as pd\n",
    "import numpy as np\n",
    "\n",
    "import sys\n",
    "sys.path.append('../../pycore/')\n",
    "from simulate import RBA_result\n",
    "from utils import extract_details_from_rxnid"
   ]
  },
  {
   "cell_type": "code",
   "execution_count": 2,
   "metadata": {},
   "outputs": [],
   "source": [
    "df_cases = pd.read_csv('../datasets/data_list.txt', sep='\\t')\n",
    "cases = df_cases.data_id.to_list()\n",
    "df_cases.index = df_cases.data_id.to_list()"
   ]
  },
  {
   "cell_type": "code",
   "execution_count": 3,
   "metadata": {},
   "outputs": [],
   "source": [
    "df_compile = pd.DataFrame(columns=cases)\n",
    "\n",
    "for case in cases:\n",
    "    path_data = '../datasets/' + case + '/'\n",
    "    biom_id = df_cases.biomass_dilution_id[case]\n",
    "    mu = df_cases.growth_rate[case]\n",
    "    \n",
    "    # Get kapp (1/s)\n",
    "    path = path_data + 'kapps_in_vivo.txt'\n",
    "    df_kapp = pd.read_csv(path, sep='\\t')\n",
    "    \n",
    "    for i in df_kapp.index:\n",
    "        _,rxn,rdir,enz = extract_details_from_rxnid(df_kapp.rxnid[i])\n",
    "        regid = rxn + '_' + rdir\n",
    "        df_compile.loc[regid, case] = df_kapp.loc[i,'kapp (1/s)']"
   ]
  },
  {
   "cell_type": "code",
   "execution_count": 10,
   "metadata": {},
   "outputs": [],
   "source": [
    "df_compile['id'] = df_compile.index.to_list()"
   ]
  },
  {
   "cell_type": "code",
   "execution_count": 12,
   "metadata": {},
   "outputs": [],
   "source": [
    "df_rxnenz = pd.read_excel('./input/rxn_enz_stage1.xlsx')\n",
    "for i in df_rxnenz.index:\n",
    "    rxn = df_rxnenz.rxn_id[i]\n",
    "    rdir = df_rxnenz.direction[i]\n",
    "    entry = rxn + '_' + rdir\n",
    "    if entry in df_compile.index:\n",
    "        df_compile.loc[entry, 'subsystem_group'] = df_rxnenz.loc[i, 'subsystem_group']\n",
    "        df_compile.loc[entry, 'subsystem'] = df_rxnenz.loc[i, 'subsystem']"
   ]
  },
  {
   "cell_type": "code",
   "execution_count": 14,
   "metadata": {},
   "outputs": [],
   "source": [
    "idx_excl = ['ACALDCD_c_FWD']\n",
    "idx = [i for i in df_compile.index if i not in idx_excl]\n",
    "df_compile = df_compile.loc[idx,:]"
   ]
  },
  {
   "cell_type": "code",
   "execution_count": 15,
   "metadata": {},
   "outputs": [],
   "source": [
    "cols = df_compile.columns.to_list()\n",
    "df_compile = df_compile.loc[:, cols[-3:] + cols[:-3]]"
   ]
  },
  {
   "cell_type": "code",
   "execution_count": 16,
   "metadata": {},
   "outputs": [],
   "source": [
    "df_compile.to_excel('../results/kapp_inPerSec_frompy.xlsx', index=None)"
   ]
  },
  {
   "cell_type": "code",
   "execution_count": null,
   "metadata": {},
   "outputs": [],
   "source": []
  },
  {
   "cell_type": "code",
   "execution_count": null,
   "metadata": {},
   "outputs": [],
   "source": []
  },
  {
   "cell_type": "markdown",
   "metadata": {},
   "source": [
    "#### Compile pathway to rxn-enz entries"
   ]
  },
  {
   "cell_type": "code",
   "execution_count": 39,
   "metadata": {},
   "outputs": [],
   "source": [
    "import pandas as pd\n",
    "import numpy as np\n",
    "\n",
    "import sys\n",
    "sys.path.append('../../pycore/')\n",
    "from simulate import RBA_result\n",
    "from utils import extract_details_from_rxnid"
   ]
  },
  {
   "cell_type": "code",
   "execution_count": 44,
   "metadata": {},
   "outputs": [],
   "source": [
    "df_pw = pd.read_excel('./input/GSM_pathway_assignment.xlsx')\n",
    "df_pw.index = df_pw.rxnid.to_list()"
   ]
  },
  {
   "cell_type": "code",
   "execution_count": 45,
   "metadata": {},
   "outputs": [],
   "source": [
    "df_rxnenz = pd.read_excel('./input/rxn_enz_stage1.xlsx')"
   ]
  },
  {
   "cell_type": "code",
   "execution_count": 46,
   "metadata": {},
   "outputs": [],
   "source": [
    "for i in df_rxnenz.index:\n",
    "    rxn = df_rxnenz.rxn_id[i]\n",
    "    df_rxnenz.loc[i,'subsystem_group'] = df_pw.loc[rxn,'subsystem_group']\n",
    "    df_rxnenz.loc[i,'subsystem'] = df_pw.loc[rxn,'subsystem']"
   ]
  },
  {
   "cell_type": "code",
   "execution_count": 49,
   "metadata": {},
   "outputs": [],
   "source": [
    "df_rxnenz.to_excel('./input/rxn_enz_stage1_frompy.xlsx', index=None)"
   ]
  },
  {
   "cell_type": "code",
   "execution_count": null,
   "metadata": {},
   "outputs": [],
   "source": []
  },
  {
   "cell_type": "code",
   "execution_count": 12,
   "metadata": {},
   "outputs": [],
   "source": [
    "import cobra"
   ]
  },
  {
   "cell_type": "code",
   "execution_count": 13,
   "metadata": {},
   "outputs": [
    {
     "name": "stdout",
     "output_type": "stream",
     "text": [
      "Using license file /home/hvdinh16/Workspace/Softwares/gurobi910/linux64/gurobi.lic\n",
      "Academic license - for non-commercial use only - expires 2022-08-08\n"
     ]
    }
   ],
   "source": [
    "model = cobra.io.load_json_model('../../scRBA_build_GAMS_model/input/GSM_y834_hvd_v6_rba.json')"
   ]
  },
  {
   "cell_type": "code",
   "execution_count": null,
   "metadata": {},
   "outputs": [],
   "source": []
  }
 ],
 "metadata": {
  "kernelspec": {
   "display_name": "Python 3",
   "language": "python",
   "name": "python3"
  },
  "language_info": {
   "codemirror_mode": {
    "name": "ipython",
    "version": 3
   },
   "file_extension": ".py",
   "mimetype": "text/x-python",
   "name": "python",
   "nbconvert_exporter": "python",
   "pygments_lexer": "ipython3",
   "version": "3.7.9"
  }
 },
 "nbformat": 4,
 "nbformat_minor": 4
}
