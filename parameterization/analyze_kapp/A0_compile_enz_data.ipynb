{
 "cells": [
  {
   "cell_type": "code",
   "execution_count": 1,
   "metadata": {},
   "outputs": [],
   "source": [
    "import pandas as pd\n",
    "import numpy as np\n",
    "\n",
    "import sys\n",
    "sys.path.append('../../pycore/')\n",
    "from simulate import RBA_result\n",
    "from utils import extract_details_from_rxnid"
   ]
  },
  {
   "cell_type": "code",
   "execution_count": 2,
   "metadata": {},
   "outputs": [],
   "source": [
    "df_cases = pd.read_csv('../datasets/data_list.txt', sep='\\t')\n",
    "cases = df_cases.data_id.to_list()\n",
    "df_cases.index = df_cases.data_id.to_list()"
   ]
  },
  {
   "cell_type": "code",
   "execution_count": 3,
   "metadata": {},
   "outputs": [],
   "source": [
    "df_enzmw = pd.read_csv('./input/enz_mw.txt', sep='\\t')\n",
    "df_enzmw.index = df_enzmw.enz_id.to_list()"
   ]
  },
  {
   "cell_type": "code",
   "execution_count": 4,
   "metadata": {},
   "outputs": [],
   "source": [
    "df_compile = pd.DataFrame(columns=cases)\n",
    "\n",
    "for case in cases:\n",
    "    path_data = '../datasets/' + case + '/'\n",
    "    biom_id = df_cases.biomass_dilution_id[case]\n",
    "    mu = df_cases.growth_rate[case]\n",
    "    \n",
    "    # Get measurable enzyme index\n",
    "    path =  path_data + 'enz_from_proteome/enz_flux_calculation.txt' \n",
    "    res_esyn = RBA_result(biom_id=biom_id, twocol_format=True, warning=False);\n",
    "    res_esyn.load_raw_flux(path)\n",
    "    x = [k for k in list(res_esyn.raw_flux.keys()) if k.split('-')[0] == 'ENZLOAD']\n",
    "    eloads = [k for k in x if res_esyn.raw_flux[k] > 0]\n",
    "    \n",
    "    rxns_eload = []\n",
    "    for e in eloads:\n",
    "        _,rxn,rdir,enz = extract_details_from_rxnid(e)\n",
    "        rxns_eload.append(rxn)\n",
    "    rxns_eload = sorted(list(set(rxns_eload)))\n",
    "    \n",
    "    # Get calculated flux\n",
    "    path =  path_data + 'min_flux_sum/min_flux_sum.flux.txt' \n",
    "    res_metab = RBA_result(biom_id=biom_id)\n",
    "    res_metab.load_raw_flux(path)\n",
    "    res_metab.calculate_metabolic_flux()\n",
    "    rxns_flux = list(res_metab.metabolic_flux.keys())\n",
    "    \n",
    "    # Get calculated flux corresponding to measurable enzyme\n",
    "    rxns_idx = sorted(list(set(rxns_flux) & set(rxns_eload)))\n",
    "    enzs_idx = []\n",
    "    for e in eloads:\n",
    "        _,rxn,rdir,enz = extract_details_from_rxnid(e)\n",
    "        if rxn in rxns_flux:\n",
    "            enzs_idx.append(enz)\n",
    "    \n",
    "    for enz in enzs_idx:\n",
    "        df_compile.loc[enz,case] = res_esyn.raw_flux['ENZSYN-'+enz] / mu * df_enzmw.loc[enz,'MW (g/mmol)']"
   ]
  },
  {
   "cell_type": "code",
   "execution_count": 5,
   "metadata": {},
   "outputs": [],
   "source": [
    "df_compile['id'] = df_compile.index.to_list()"
   ]
  },
  {
   "cell_type": "code",
   "execution_count": 6,
   "metadata": {},
   "outputs": [],
   "source": [
    "df_rxnenz = pd.read_excel('./input/rxn_enz_stage1.xlsx')\n",
    "for i in df_rxnenz.index:\n",
    "    enzs = df_rxnenz.enzyme[i].split(',')\n",
    "    for e in enzs:\n",
    "        if e in df_compile.index:\n",
    "            df_compile.loc[e, 'subsystem_group'] = df_rxnenz.loc[i, 'subsystem_group']\n",
    "            df_compile.loc[e, 'subsystem'] = df_rxnenz.loc[i, 'subsystem']"
   ]
  },
  {
   "cell_type": "code",
   "execution_count": 7,
   "metadata": {
    "scrolled": true
   },
   "outputs": [],
   "source": [
    "cols = df_compile.columns.to_list()\n",
    "df_compile = df_compile.loc[:, cols[-3:] + cols[:-3]]"
   ]
  },
  {
   "cell_type": "code",
   "execution_count": 8,
   "metadata": {},
   "outputs": [],
   "source": [
    "df_compile.to_excel('./enzLevel_frompy.xlsx', index=None)"
   ]
  },
  {
   "cell_type": "code",
   "execution_count": null,
   "metadata": {},
   "outputs": [],
   "source": []
  },
  {
   "cell_type": "markdown",
   "metadata": {},
   "source": [
    "#### Compile pathway to rxn-enz entries"
   ]
  },
  {
   "cell_type": "code",
   "execution_count": 10,
   "metadata": {},
   "outputs": [],
   "source": [
    "import pandas as pd\n",
    "import numpy as np\n",
    "\n",
    "import sys\n",
    "sys.path.append('../../pycore/')\n",
    "from simulate import RBA_result\n",
    "from utils import extract_details_from_rxnid"
   ]
  },
  {
   "cell_type": "code",
   "execution_count": 11,
   "metadata": {},
   "outputs": [],
   "source": [
    "df_pw = pd.read_excel('./input/GSM_pathway_assignment.xlsx')\n",
    "df_pw.index = df_pw.rxnid.to_list()"
   ]
  },
  {
   "cell_type": "code",
   "execution_count": 12,
   "metadata": {},
   "outputs": [],
   "source": [
    "df_rxnenz = pd.read_excel('./input/rxn_enz_stage1.xlsx')"
   ]
  },
  {
   "cell_type": "code",
   "execution_count": 13,
   "metadata": {},
   "outputs": [],
   "source": [
    "for i in df_rxnenz.index:\n",
    "    rxn = df_rxnenz.rxn_id[i]\n",
    "    df_rxnenz.loc[i,'subsystem_group'] = df_pw.loc[rxn,'subsystem_group']\n",
    "    df_rxnenz.loc[i,'subsystem'] = df_pw.loc[rxn,'subsystem']"
   ]
  },
  {
   "cell_type": "code",
   "execution_count": 14,
   "metadata": {},
   "outputs": [],
   "source": [
    "df_rxnenz.to_excel('./input/rxn_enz_stage1_frompy.xlsx', index=None)"
   ]
  },
  {
   "cell_type": "code",
   "execution_count": null,
   "metadata": {},
   "outputs": [],
   "source": []
  },
  {
   "cell_type": "code",
   "execution_count": 14,
   "metadata": {},
   "outputs": [],
   "source": [
    "import cobra"
   ]
  },
  {
   "cell_type": "code",
   "execution_count": 15,
   "metadata": {},
   "outputs": [
    {
     "name": "stdout",
     "output_type": "stream",
     "text": [
      "Using license file /home/hvdinh16/Workspace/Softwares/gurobi910/linux64/gurobi.lic\n",
      "Academic license - for non-commercial use only - expires 2022-08-08\n"
     ]
    }
   ],
   "source": [
    "model = cobra.io.load_json_model('../../scRBA_build_GAMS_model/input/GSM_y834_hvd_v6_rba.json')"
   ]
  },
  {
   "cell_type": "code",
   "execution_count": 38,
   "metadata": {},
   "outputs": [
    {
     "data": {
      "text/html": [
       "\n",
       "        <table>\n",
       "            <tr>\n",
       "                <td><strong>Reaction identifier</strong></td><td>GPDDA1pp_c</td>\n",
       "            </tr><tr>\n",
       "                <td><strong>Name</strong></td><td>glycerophosphodiester phosphodiesterase (glycerophosphocholine)</td>\n",
       "            </tr><tr>\n",
       "                <td><strong>Memory address</strong></td>\n",
       "                <td>0x07f153b244450</td>\n",
       "            </tr><tr>\n",
       "                <td><strong>Stoichiometry</strong></td>\n",
       "                <td>\n",
       "                    <p style='text-align:right'>g3pc_c + h2o_c --> chol_c + glyc3p_c + h_c</p>\n",
       "                    <p style='text-align:right'>sn-glycero-3-phosphocholine [cytoplasm] + H2O [cytoplasm] --> choline [cytoplasm] + glycerol 3-phosphate [cytoplasm] + H+ [cytoplasm]</p>\n",
       "                </td>\n",
       "            </tr><tr>\n",
       "                <td><strong>GPR</strong></td><td>YPL110C</td>\n",
       "            </tr><tr>\n",
       "                <td><strong>Lower bound</strong></td><td>0.0</td>\n",
       "            </tr><tr>\n",
       "                <td><strong>Upper bound</strong></td><td>1000.0</td>\n",
       "            </tr>\n",
       "        </table>\n",
       "        "
      ],
      "text/plain": [
       "<Reaction GPDDA1pp_c at 0x7f153b244450>"
      ]
     },
     "execution_count": 38,
     "metadata": {},
     "output_type": "execute_result"
    }
   ],
   "source": [
    "model.reactions.GPDDA1pp_c"
   ]
  },
  {
   "cell_type": "code",
   "execution_count": null,
   "metadata": {},
   "outputs": [],
   "source": []
  }
 ],
 "metadata": {
  "kernelspec": {
   "display_name": "Python 3",
   "language": "python",
   "name": "python3"
  },
  "language_info": {
   "codemirror_mode": {
    "name": "ipython",
    "version": 3
   },
   "file_extension": ".py",
   "mimetype": "text/x-python",
   "name": "python",
   "nbconvert_exporter": "python",
   "pygments_lexer": "ipython3",
   "version": "3.7.9"
  }
 },
 "nbformat": 4,
 "nbformat_minor": 4
}
