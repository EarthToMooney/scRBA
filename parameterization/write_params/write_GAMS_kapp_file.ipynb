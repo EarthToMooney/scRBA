{
 "cells": [
  {
   "cell_type": "code",
   "execution_count": 1,
   "metadata": {},
   "outputs": [],
   "source": [
    "import pandas as pd\n",
    "import numpy as np\n",
    "\n",
    "import sys\n",
    "sys.path.append('../../pycore/')\n",
    "from utils import extract_details_from_rxnid"
   ]
  },
  {
   "cell_type": "markdown",
   "metadata": {},
   "source": [
    "#### C-lim"
   ]
  },
  {
   "cell_type": "code",
   "execution_count": 2,
   "metadata": {},
   "outputs": [],
   "source": [
    "# Stoichiometry\n",
    "df_stoich = pd.read_excel('../../build_GAMS_model/model/RBA_stoichiometry.xlsx')\n",
    "df_stoich.index = df_stoich.id.to_list()\n",
    "\n",
    "# Enzymes' apparent turnover rates (k_app) (unit: 1/s)\n",
    "# (script will convert the unit to 1/h)\n",
    "df_kapp = pd.read_excel('./clim/PARAMS_kapp_clim.xlsx')\n",
    "df_kapp.index = df_kapp.id.to_list()"
   ]
  },
  {
   "cell_type": "code",
   "execution_count": 3,
   "metadata": {},
   "outputs": [],
   "source": [
    "### Enzyme synthesis requirement coupled to metabolic reaction rate\n",
    "### Also, write enzyme apparent turnover rates file (kapp, indexed by reaction)\n",
    "idx = df_stoich[df_stoich.coupling_type == 'rxn_enz'].index\n",
    "eqn_list = []; kapp_list = [];\n",
    "\n",
    "for i in idx:\n",
    "    lhs = \"v('ENZLOAD-\" + df_stoich.id[i][4:] + \"') * \" + \"kapp('\" + i + \"')\"\n",
    "    kapp_list.append(\"'\" + i + \"' \" + str(round(df_kapp.loc[i, 'kapp (1/s)'] * 3600, 6)))\n",
    "\n",
    "kapp_list = ['/'] + kapp_list + ['/']\n",
    "with open('./clim/RBA_kapp_clim_per_hour.txt', 'w') as f:\n",
    "    f.write('\\n'.join(kapp_list))"
   ]
  },
  {
   "cell_type": "markdown",
   "metadata": {},
   "source": [
    "#### N-lim"
   ]
  },
  {
   "cell_type": "code",
   "execution_count": 4,
   "metadata": {},
   "outputs": [],
   "source": [
    "# Stoichiometry\n",
    "df_stoich = pd.read_excel('../../build_GAMS_model/model/RBA_stoichiometry.xlsx')\n",
    "df_stoich.index = df_stoich.id.to_list()\n",
    "\n",
    "# Enzymes' apparent turnover rates (k_app) (unit: 1/s)\n",
    "# (script will convert the unit to 1/h)\n",
    "df_kapp = pd.read_excel('./nlim/PARAMS_kapp_nlim.xlsx')\n",
    "df_kapp.index = df_kapp.id.to_list()"
   ]
  },
  {
   "cell_type": "code",
   "execution_count": 5,
   "metadata": {},
   "outputs": [],
   "source": [
    "### Enzyme synthesis requirement coupled to metabolic reaction rate\n",
    "### Also, write enzyme apparent turnover rates file (kapp, indexed by reaction)\n",
    "idx = df_stoich[df_stoich.coupling_type == 'rxn_enz'].index\n",
    "eqn_list = []; kapp_list = [];\n",
    "\n",
    "for i in idx:\n",
    "    lhs = \"v('ENZLOAD-\" + df_stoich.id[i][4:] + \"') * \" + \"kapp('\" + i + \"')\"\n",
    "    kapp_list.append(\"'\" + i + \"' \" + str(round(df_kapp.loc[i, 'kapp (1/s)'] * 3600, 6)))\n",
    "    \n",
    "kapp_list = ['/'] + kapp_list + ['/']\n",
    "with open('./nlim/RBA_kapp_nlim_per_hour.txt', 'w') as f:\n",
    "    f.write('\\n'.join(kapp_list))"
   ]
  },
  {
   "cell_type": "markdown",
   "metadata": {},
   "source": [
    "#### Batch"
   ]
  },
  {
   "cell_type": "code",
   "execution_count": 6,
   "metadata": {
    "scrolled": true
   },
   "outputs": [],
   "source": [
    "# Stoichiometry\n",
    "df_stoich = pd.read_excel('../../build_GAMS_model/model/RBA_stoichiometry.xlsx')\n",
    "df_stoich.index = df_stoich.id.to_list()\n",
    "\n",
    "# Enzymes' apparent turnover rates (k_app) (unit: 1/s)\n",
    "# (script will convert the unit to 1/h)\n",
    "df_kapp = pd.read_excel('./batch/PARAMS_kapp_batch.xlsx')\n",
    "df_kapp.index = df_kapp.id.to_list()"
   ]
  },
  {
   "cell_type": "code",
   "execution_count": 7,
   "metadata": {},
   "outputs": [],
   "source": [
    "### Enzyme synthesis requirement coupled to metabolic reaction rate\n",
    "### Also, write enzyme apparent turnover rates file (kapp, indexed by reaction)\n",
    "idx = df_stoich[df_stoich.coupling_type == 'rxn_enz'].index\n",
    "eqn_list = []; kapp_list = [];\n",
    "\n",
    "for i in idx:\n",
    "    lhs = \"v('ENZLOAD-\" + df_stoich.id[i][4:] + \"') * \" + \"kapp('\" + i + \"')\"\n",
    "    kapp_list.append(\"'\" + i + \"' \" + str(round(df_kapp.loc[i, 'kapp (1/s)'] * 3600, 6)))\n",
    "    \n",
    "kapp_list = ['/'] + kapp_list + ['/']\n",
    "with open('./batch/RBA_kapp_batch_per_hour.txt', 'w') as f:\n",
    "    f.write('\\n'.join(kapp_list))"
   ]
  },
  {
   "cell_type": "markdown",
   "metadata": {},
   "source": [
    "#### Vitro"
   ]
  },
  {
   "cell_type": "code",
   "execution_count": 8,
   "metadata": {},
   "outputs": [],
   "source": [
    "# Stoichiometry\n",
    "df_stoich = pd.read_excel('../../build_GAMS_model/model/RBA_stoichiometry.xlsx')\n",
    "df_stoich.index = df_stoich.id.to_list()\n",
    "\n",
    "# Enzymes' apparent turnover rates (k_app) (unit: 1/s)\n",
    "# (script will convert the unit to 1/h)\n",
    "df_kapp = pd.read_excel('./vitro/PARAMS_kapp_vitro.xlsx')\n",
    "df_kapp.index = df_kapp.id.to_list()"
   ]
  },
  {
   "cell_type": "code",
   "execution_count": 9,
   "metadata": {},
   "outputs": [],
   "source": [
    "### Enzyme synthesis requirement coupled to metabolic reaction rate\n",
    "### Also, write enzyme apparent turnover rates file (kapp, indexed by reaction)\n",
    "idx = df_stoich[df_stoich.coupling_type == 'rxn_enz'].index\n",
    "eqn_list = []; kapp_list = [];\n",
    "\n",
    "for i in idx:\n",
    "    lhs = \"v('ENZLOAD-\" + df_stoich.id[i][4:] + \"') * \" + \"kapp('\" + i + \"')\"\n",
    "    kapp_list.append(\"'\" + i + \"' \" + str(round(df_kapp.loc[i, 'kapp (1/s)'] * 3600, 6)))\n",
    "    \n",
    "kapp_list = ['/'] + kapp_list + ['/']\n",
    "with open('./vitro/RBA_kapp_vitro_per_hour.txt', 'w') as f:\n",
    "    f.write('\\n'.join(kapp_list))"
   ]
  },
  {
   "cell_type": "code",
   "execution_count": null,
   "metadata": {},
   "outputs": [],
   "source": []
  }
 ],
 "metadata": {
  "kernelspec": {
   "display_name": "Python 3",
   "language": "python",
   "name": "python3"
  },
  "language_info": {
   "codemirror_mode": {
    "name": "ipython",
    "version": 3
   },
   "file_extension": ".py",
   "mimetype": "text/x-python",
   "name": "python",
   "nbconvert_exporter": "python",
   "pygments_lexer": "ipython3",
   "version": "3.7.9"
  }
 },
 "nbformat": 4,
 "nbformat_minor": 4
}
