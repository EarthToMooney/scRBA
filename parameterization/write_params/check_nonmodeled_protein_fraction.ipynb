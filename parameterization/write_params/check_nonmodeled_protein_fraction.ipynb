{
 "cells": [
  {
   "cell_type": "code",
   "execution_count": 1,
   "metadata": {},
   "outputs": [],
   "source": [
    "import pandas as pd\n",
    "import numpy as np\n",
    "\n",
    "import sys\n",
    "sys.path.append('../../pycore/')\n",
    "from simulate import RBA_result\n",
    "from utils import extract_details_from_rxnid\n",
    "\n",
    "import matplotlib.pyplot as plt\n",
    "import matplotlib.patches as mp\n",
    "import seaborn as sns\n",
    "import matplotlib.lines as mlines\n",
    "%matplotlib inline"
   ]
  },
  {
   "cell_type": "code",
   "execution_count": 2,
   "metadata": {},
   "outputs": [],
   "source": [
    "df_misc = pd.read_excel('../Nlim_vs_Clim/glucose_uptake_N_and_C.xlsx')"
   ]
  },
  {
   "cell_type": "code",
   "execution_count": 6,
   "metadata": {},
   "outputs": [
    {
     "data": {
      "text/plain": [
       "<matplotlib.collections.PathCollection at 0x7f01929aeb10>"
      ]
     },
     "execution_count": 6,
     "metadata": {},
     "output_type": "execute_result"
    },
    {
     "data": {
      "image/png": "[encoded data removed]",
      "text/plain": [
       "<Figure size 432x288 with 1 Axes>"
      ]
     },
     "metadata": {
      "needs_background": "light"
     },
     "output_type": "display_data"
    }
   ],
   "source": [
    "df = df_misc[df_misc.tag == 'C']\n",
    "plt.scatter(df.growth_rate, df.non_metabolic_enzyme_fraction)"
   ]
  },
  {
   "cell_type": "code",
   "execution_count": 8,
   "metadata": {},
   "outputs": [
    {
     "name": "stdout",
     "output_type": "stream",
     "text": [
      "Using license file /home/hvdinh16/Workspace/Softwares/gurobi910/linux64/gurobi.lic\n",
      "Academic license - for non-commercial use only - expires 2022-08-08\n"
     ]
    }
   ],
   "source": [
    "import cobra\n",
    "model = cobra.io.load_json_model('../../build_GAMS_model/input/GSM_y834_hvd_v6_rba.json')"
   ]
  },
  {
   "cell_type": "code",
   "execution_count": 9,
   "metadata": {},
   "outputs": [
    {
     "data": {
      "text/html": [
       "\n",
       "        <table>\n",
       "            <tr>\n",
       "                <td><strong>Reaction identifier</strong></td><td>GLYtps_e</td>\n",
       "            </tr><tr>\n",
       "                <td><strong>Name</strong></td><td>glycine transport</td>\n",
       "            </tr><tr>\n",
       "                <td><strong>Memory address</strong></td>\n",
       "                <td>0x07f0183c47790</td>\n",
       "            </tr><tr>\n",
       "                <td><strong>Stoichiometry</strong></td>\n",
       "                <td>\n",
       "                    <p style='text-align:right'>gly_e + h_e <=> gly_c + h_c</p>\n",
       "                    <p style='text-align:right'>L-glycine [extracellular] + H+ [extracellular] <=> L-glycine [cytoplasm] + H+ [cytoplasm]</p>\n",
       "                </td>\n",
       "            </tr><tr>\n",
       "                <td><strong>GPR</strong></td><td>YCL025C or YKR039W or YOL020W or YOR348C or YPL265W</td>\n",
       "            </tr><tr>\n",
       "                <td><strong>Lower bound</strong></td><td>-1000.0</td>\n",
       "            </tr><tr>\n",
       "                <td><strong>Upper bound</strong></td><td>1000.0</td>\n",
       "            </tr>\n",
       "        </table>\n",
       "        "
      ],
      "text/plain": [
       "<Reaction GLYtps_e at 0x7f0183c47790>"
      ]
     },
     "execution_count": 9,
     "metadata": {},
     "output_type": "execute_result"
    }
   ],
   "source": [
    "model.reactions.GLYtps_e"
   ]
  },
  {
   "cell_type": "code",
   "execution_count": 10,
   "metadata": {},
   "outputs": [],
   "source": [
    "import json"
   ]
  },
  {
   "cell_type": "code",
   "execution_count": null,
   "metadata": {},
   "outputs": [],
   "source": [
    "json.dump(indent=4, separators=(\",\", \": \"), sort_keys=True)"
   ]
  },
  {
   "cell_type": "code",
   "execution_count": null,
   "metadata": {},
   "outputs": [],
   "source": []
  },
  {
   "cell_type": "code",
   "execution_count": 7,
   "metadata": {},
   "outputs": [
    {
     "data": {
      "text/plain": [
       "0.31595"
      ]
     },
     "execution_count": 7,
     "metadata": {},
     "output_type": "execute_result"
    }
   ],
   "source": [
    "np.median(df.non_metabolic_enzyme_fraction)"
   ]
  },
  {
   "cell_type": "code",
   "execution_count": 5,
   "metadata": {},
   "outputs": [
    {
     "data": {
      "text/html": [
       "<div>\n",
       "<style scoped>\n",
       "    .dataframe tbody tr th:only-of-type {\n",
       "        vertical-align: middle;\n",
       "    }\n",
       "\n",
       "    .dataframe tbody tr th {\n",
       "        vertical-align: top;\n",
       "    }\n",
       "\n",
       "    .dataframe thead th {\n",
       "        text-align: right;\n",
       "    }\n",
       "</style>\n",
       "<table border=\"1\" class=\"dataframe\">\n",
       "  <thead>\n",
       "    <tr style=\"text-align: right;\">\n",
       "      <th></th>\n",
       "      <th>tag</th>\n",
       "      <th>data_id</th>\n",
       "      <th>growth_rate</th>\n",
       "      <th>alias</th>\n",
       "      <th>glucose_uptake</th>\n",
       "      <th>non_metabolic_enzyme_fraction</th>\n",
       "    </tr>\n",
       "  </thead>\n",
       "  <tbody>\n",
       "    <tr>\n",
       "      <th>0</th>\n",
       "      <td>C</td>\n",
       "      <td>Lahtvee2017_chemoRef</td>\n",
       "      <td>0.1000</td>\n",
       "      <td>A07</td>\n",
       "      <td>1.230500</td>\n",
       "      <td>0.5616</td>\n",
       "    </tr>\n",
       "    <tr>\n",
       "      <th>1</th>\n",
       "      <td>C</td>\n",
       "      <td>Bjorkeroth2020_batchYNB</td>\n",
       "      <td>0.4236</td>\n",
       "      <td>B01</td>\n",
       "      <td>12.524600</td>\n",
       "      <td>0.3645</td>\n",
       "    </tr>\n",
       "    <tr>\n",
       "      <th>2</th>\n",
       "      <td>C</td>\n",
       "      <td>Bjorkeroth2020_batchYNBAA</td>\n",
       "      <td>0.4953</td>\n",
       "      <td>B02</td>\n",
       "      <td>12.970000</td>\n",
       "      <td>0.4118</td>\n",
       "    </tr>\n",
       "    <tr>\n",
       "      <th>3</th>\n",
       "      <td>C</td>\n",
       "      <td>Yu2020_chemoClim</td>\n",
       "      <td>0.2000</td>\n",
       "      <td>C01</td>\n",
       "      <td>2.439000</td>\n",
       "      <td>0.3285</td>\n",
       "    </tr>\n",
       "    <tr>\n",
       "      <th>4</th>\n",
       "      <td>C</td>\n",
       "      <td>Yu2021_chemoClimNH4_010</td>\n",
       "      <td>0.1000</td>\n",
       "      <td>D04</td>\n",
       "      <td>1.254000</td>\n",
       "      <td>0.3148</td>\n",
       "    </tr>\n",
       "    <tr>\n",
       "      <th>5</th>\n",
       "      <td>C</td>\n",
       "      <td>Elsemman2022_batchGlc</td>\n",
       "      <td>0.3710</td>\n",
       "      <td>E02</td>\n",
       "      <td>13.461735</td>\n",
       "      <td>0.2599</td>\n",
       "    </tr>\n",
       "    <tr>\n",
       "      <th>6</th>\n",
       "      <td>C</td>\n",
       "      <td>Elsemman2022_batchGlcCyHx1</td>\n",
       "      <td>0.1135</td>\n",
       "      <td>E03</td>\n",
       "      <td>4.581500</td>\n",
       "      <td>0.3699</td>\n",
       "    </tr>\n",
       "    <tr>\n",
       "      <th>7</th>\n",
       "      <td>C</td>\n",
       "      <td>Elsemman2022_batchGlcCyHx2</td>\n",
       "      <td>0.2003</td>\n",
       "      <td>E04</td>\n",
       "      <td>6.917200</td>\n",
       "      <td>0.3471</td>\n",
       "    </tr>\n",
       "    <tr>\n",
       "      <th>8</th>\n",
       "      <td>C</td>\n",
       "      <td>Elsemman2022_batchGlcCyHx3</td>\n",
       "      <td>0.3226</td>\n",
       "      <td>E05</td>\n",
       "      <td>11.481100</td>\n",
       "      <td>0.3171</td>\n",
       "    </tr>\n",
       "    <tr>\n",
       "      <th>9</th>\n",
       "      <td>C</td>\n",
       "      <td>Elsemman2022_batchGlcCyHx4</td>\n",
       "      <td>0.4100</td>\n",
       "      <td>E06</td>\n",
       "      <td>15.553230</td>\n",
       "      <td>0.2823</td>\n",
       "    </tr>\n",
       "    <tr>\n",
       "      <th>10</th>\n",
       "      <td>C</td>\n",
       "      <td>Elsemman2022_chemoGlc020</td>\n",
       "      <td>0.1990</td>\n",
       "      <td>E09</td>\n",
       "      <td>2.406250</td>\n",
       "      <td>0.3005</td>\n",
       "    </tr>\n",
       "    <tr>\n",
       "      <th>11</th>\n",
       "      <td>C</td>\n",
       "      <td>Elsemman2022_chemoGlc023</td>\n",
       "      <td>0.2270</td>\n",
       "      <td>E10</td>\n",
       "      <td>2.784980</td>\n",
       "      <td>0.3035</td>\n",
       "    </tr>\n",
       "    <tr>\n",
       "      <th>12</th>\n",
       "      <td>C</td>\n",
       "      <td>Elsemman2022_chemoGlc027</td>\n",
       "      <td>0.2705</td>\n",
       "      <td>E11</td>\n",
       "      <td>3.338685</td>\n",
       "      <td>0.3052</td>\n",
       "    </tr>\n",
       "    <tr>\n",
       "      <th>13</th>\n",
       "      <td>C</td>\n",
       "      <td>Elsemman2022_chemoGlc030</td>\n",
       "      <td>0.3012</td>\n",
       "      <td>E12</td>\n",
       "      <td>4.880417</td>\n",
       "      <td>0.3114</td>\n",
       "    </tr>\n",
       "  </tbody>\n",
       "</table>\n",
       "</div>"
      ],
      "text/plain": [
       "   tag                     data_id  growth_rate alias  glucose_uptake  \\\n",
       "0    C        Lahtvee2017_chemoRef       0.1000   A07        1.230500   \n",
       "1    C     Bjorkeroth2020_batchYNB       0.4236   B01       12.524600   \n",
       "2    C   Bjorkeroth2020_batchYNBAA       0.4953   B02       12.970000   \n",
       "3    C            Yu2020_chemoClim       0.2000   C01        2.439000   \n",
       "4    C     Yu2021_chemoClimNH4_010       0.1000   D04        1.254000   \n",
       "5    C       Elsemman2022_batchGlc       0.3710   E02       13.461735   \n",
       "6    C  Elsemman2022_batchGlcCyHx1       0.1135   E03        4.581500   \n",
       "7    C  Elsemman2022_batchGlcCyHx2       0.2003   E04        6.917200   \n",
       "8    C  Elsemman2022_batchGlcCyHx3       0.3226   E05       11.481100   \n",
       "9    C  Elsemman2022_batchGlcCyHx4       0.4100   E06       15.553230   \n",
       "10   C    Elsemman2022_chemoGlc020       0.1990   E09        2.406250   \n",
       "11   C    Elsemman2022_chemoGlc023       0.2270   E10        2.784980   \n",
       "12   C    Elsemman2022_chemoGlc027       0.2705   E11        3.338685   \n",
       "13   C    Elsemman2022_chemoGlc030       0.3012   E12        4.880417   \n",
       "\n",
       "    non_metabolic_enzyme_fraction  \n",
       "0                          0.5616  \n",
       "1                          0.3645  \n",
       "2                          0.4118  \n",
       "3                          0.3285  \n",
       "4                          0.3148  \n",
       "5                          0.2599  \n",
       "6                          0.3699  \n",
       "7                          0.3471  \n",
       "8                          0.3171  \n",
       "9                          0.2823  \n",
       "10                         0.3005  \n",
       "11                         0.3035  \n",
       "12                         0.3052  \n",
       "13                         0.3114  "
      ]
     },
     "execution_count": 5,
     "metadata": {},
     "output_type": "execute_result"
    }
   ],
   "source": [
    "df"
   ]
  },
  {
   "cell_type": "code",
   "execution_count": null,
   "metadata": {},
   "outputs": [],
   "source": []
  }
 ],
 "metadata": {
  "kernelspec": {
   "display_name": "Python 3",
   "language": "python",
   "name": "python3"
  },
  "language_info": {
   "codemirror_mode": {
    "name": "ipython",
    "version": 3
   },
   "file_extension": ".py",
   "mimetype": "text/x-python",
   "name": "python",
   "nbconvert_exporter": "python",
   "pygments_lexer": "ipython3",
   "version": "3.7.9"
  }
 },
 "nbformat": 4,
 "nbformat_minor": 4
}
