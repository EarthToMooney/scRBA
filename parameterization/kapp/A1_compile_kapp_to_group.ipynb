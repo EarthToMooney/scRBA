{
 "cells": [
  {
   "cell_type": "code",
   "execution_count": 1,
   "metadata": {},
   "outputs": [],
   "source": [
    "import pandas as pd"
   ]
  },
  {
   "cell_type": "code",
   "execution_count": 2,
   "metadata": {},
   "outputs": [],
   "source": [
    "### Load dataset group information\n",
    "df_group = pd.read_csv('./input/data_group.txt', sep='\\t')\n",
    "df_group.index = df_group.data_group.to_list()\n",
    "datasets = []; dgroup = dict();\n",
    "for i in df_group.index:\n",
    "    entries = df_group.data_entries[i].split(',')\n",
    "    for e in entries:\n",
    "        dgroup[e] = i\n",
    "    datasets += entries\n",
    "\n",
    "### Load kapp data\n",
    "df_kapp = pd.read_excel('./results/kapp_inPerSec.xlsx')\n",
    "df_kapp.index = df_kapp.id.to_list()\n",
    "rxns = df_kapp.index.to_list()"
   ]
  },
  {
   "cell_type": "code",
   "execution_count": 3,
   "metadata": {
    "scrolled": true
   },
   "outputs": [],
   "source": [
    "### Write kapp to group\n",
    "rxns = df_kapp.index.to_list()\n",
    "groups = df_group.data_group.to_list()\n",
    "df_kapp_gr = pd.DataFrame(index=rxns, columns=['id', 'subsystem_group', 'subsystem'] + groups)\n",
    "df_kapp_gr['id'] = df_kapp_gr.index.to_list()\n",
    "df_kapp_gr['subsystem_group'] = df_kapp['subsystem_group']\n",
    "df_kapp_gr['subsystem'] = df_kapp['subsystem']\n",
    "\n",
    "for rxn in rxns:\n",
    "    for group in groups:\n",
    "        dsets = df_group.data_entries[group].split(',')\n",
    "        kapps = [df_kapp.loc[rxn,d] for d in dsets if pd.isnull(df_kapp.loc[rxn,d]) == False]\n",
    "        if kapps == []:\n",
    "            continue\n",
    "        else:\n",
    "            kmax_within = max(kapps)\n",
    "            df_kapp_gr.loc[rxn, group] = kmax_within"
   ]
  },
  {
   "cell_type": "raw",
   "metadata": {},
   "source": [
    "# Save with tag \"frompy\", please manually copy results to the spreadsheet without \"frompy\"\n",
    "df_kapp_gr.to_excel('./results/kapp_bydatagroup_inPerSec_frompy.xlsx', index=None)"
   ]
  },
  {
   "cell_type": "code",
   "execution_count": null,
   "metadata": {},
   "outputs": [],
   "source": []
  }
 ],
 "metadata": {
  "kernelspec": {
   "display_name": "Python 3",
   "language": "python",
   "name": "python3"
  },
  "language_info": {
   "codemirror_mode": {
    "name": "ipython",
    "version": 3
   },
   "file_extension": ".py",
   "mimetype": "text/x-python",
   "name": "python",
   "nbconvert_exporter": "python",
   "pygments_lexer": "ipython3",
   "version": "3.7.9"
  }
 },
 "nbformat": 4,
 "nbformat_minor": 4
}
