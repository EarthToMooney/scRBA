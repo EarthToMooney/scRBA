{
 "cells": [
  {
   "cell_type": "code",
   "execution_count": 1,
   "metadata": {},
   "outputs": [],
   "source": [
    "import pandas as pd\n",
    "import numpy as np\n",
    "\n",
    "import sys\n",
    "sys.path.append('../../../../pycore/')\n",
    "from utils import metabolites_dict_from_reaction_equation_RBA"
   ]
  },
  {
   "cell_type": "code",
   "execution_count": 2,
   "metadata": {},
   "outputs": [],
   "source": [
    "# Load path\n",
    "path_gen = '../../../../build_model/'\n",
    "\n",
    "prot_path = path_gen + 'input/PROTEIN_stoich_curation.xlsx'\n",
    "model_xlsx_path = path_gen + 'model/RBA_stoichiometry.xlsx'\n",
    "ribonuc_path = path_gen + 'input/RIBOSOME_nucleus.xlsx'\n",
    "ribomito_path = path_gen + 'input/RIBOSOME_mitochondria.xlsx'"
   ]
  },
  {
   "cell_type": "code",
   "execution_count": 3,
   "metadata": {},
   "outputs": [],
   "source": [
    "df_raw = pd.read_excel('../raw_data_files/Bjorkeroth_Nielsen_2020_data_raw.xlsx',\n",
    "                         sheet_name='Proteomics', skiprows=[0])\n",
    "df_raw.index = df_raw.Gene.to_list()\n",
    "\n",
    "# Load protein\n",
    "df_prot = pd.read_excel(prot_path)\n",
    "df_prot.index = df_prot.id.to_list()\n",
    "# Strip compartment\n",
    "df_prot.index = [i.split('_')[0] if '_' in i else i for i in df_prot.index]\n",
    "df_prot['id'] = df_prot.index.to_list()\n",
    "df_prot = df_prot.drop_duplicates(subset=['id'])\n",
    "# Protein copy selector\n",
    "df_select = pd.read_csv('./input/protein_copies_selector.txt', sep='\\t')\n",
    "df_select.index = df_select.gene_src.to_list()\n",
    "\n",
    "# Ribosome (nucleus and mitochondrial)\n",
    "df_ribonuc = pd.read_excel(ribonuc_path)\n",
    "df_ribomito = pd.read_excel(ribomito_path)"
   ]
  },
  {
   "cell_type": "code",
   "execution_count": 4,
   "metadata": {},
   "outputs": [],
   "source": [
    "#### HANDLE MISSING MEASUREMENTS FOR SUBUNIT COMPONENT OF HETEROMERIC ENZYMES\n",
    "# E.g., missing subunit measurements for ATP synthase complex\n",
    "# Stoichiometry\n",
    "df_eqn = pd.read_excel(model_xlsx_path)\n",
    "df_eqn.index = df_eqn.id.to_list()"
   ]
  },
  {
   "cell_type": "markdown",
   "metadata": {},
   "source": [
    "Process data"
   ]
  },
  {
   "cell_type": "code",
   "execution_count": 5,
   "metadata": {},
   "outputs": [],
   "source": [
    "cols = ['id', 'name', 'uniprot', 'MW (g/mmol)', 'type', 'conc (g/gDW)', 'vtrans (mmol/gDW/h)']\n",
    "idx = [i for i in df_prot.index if i in df_raw.index]\n",
    "\n",
    "df_data = pd.DataFrame(columns=cols, index=idx)\n",
    "cols = ['id', 'name', 'uniprot', 'MW (g/mmol)']\n",
    "df_data.loc[idx, cols] = df_prot.loc[idx, cols]\n",
    "\n",
    "mu = 0.4953\n",
    "ptot = (36.94 + 34.22*mu) / 100\n",
    "\n",
    "cols_data = ['Rich_aerobic_1', 'Rich_aerobic_2']\n",
    "for i in df_data.index:\n",
    "    data = df_raw.loc[i, cols_data]\n",
    "    data = [c for c in data if pd.isnull(c) == False]\n",
    "    #if data == []:\n",
    "    #    df_data.loc[i, 'conc (g/gDW)'] = 0\n",
    "    #    df_data.loc[i, 'vtrans (mmol/gDW/h)'] = 0\n",
    "    if data != []:\n",
    "        c_avg = np.mean(data)\n",
    "        mw = df_prot.loc[i, 'MW (g/mmol)']\n",
    "        df_data.loc[i, 'conc (g/gDW)'] = c_avg * ptot\n",
    "        df_data.loc[i, 'vtrans (mmol/gDW/h)'] = mu * c_avg * ptot / mw\n",
    "        df_data.loc[i, 'type'] = 'truedata_enz'\n",
    "        \n",
    "        if i in df_ribonuc.id.to_list():\n",
    "            df_data.loc[i, 'type'] = 'truedata_ribonuc'\n",
    "        elif i in df_ribomito.id.to_list():\n",
    "            df_data.loc[i, 'type'] = 'truedata_ribomito'"
   ]
  },
  {
   "cell_type": "code",
   "execution_count": 6,
   "metadata": {},
   "outputs": [],
   "source": [
    "# Reindex - incorporate info from protein copy selector\n",
    "idx = [df_select.selected_compartmental_copy[i] if i in df_select.index \\\n",
    "       else i for i in df_data.index]\n",
    "df_data.index = idx\n",
    "df_data['id'] = df_data.index.to_list()"
   ]
  },
  {
   "cell_type": "code",
   "execution_count": 7,
   "metadata": {},
   "outputs": [],
   "source": [
    "# Clean out NaN rows\n",
    "df_data = df_data[df_data['conc (g/gDW)'].isnull() == False]"
   ]
  },
  {
   "cell_type": "markdown",
   "metadata": {},
   "source": [
    "Gap-fill data"
   ]
  },
  {
   "cell_type": "code",
   "execution_count": 8,
   "metadata": {},
   "outputs": [],
   "source": [
    "# Load protein\n",
    "df_prot = pd.read_excel(prot_path)\n",
    "df_prot.index = df_prot.id.to_list()"
   ]
  },
  {
   "cell_type": "code",
   "execution_count": 9,
   "metadata": {},
   "outputs": [],
   "source": [
    "idx_enzsyn = df_eqn[df_eqn.id.str.contains('ENZSYN-')].index\n",
    "cols = ['id', 'name', 'uniprot', 'MW (g/mmol)']\n",
    "\n",
    "for i in idx_enzsyn:\n",
    "    x = metabolites_dict_from_reaction_equation_RBA(df_eqn.reaction[i])\n",
    "    met_dict = dict()\n",
    "    for k,v in x.items():\n",
    "        if k == '':\n",
    "            continue\n",
    "        if v.is_integer():\n",
    "            met_dict[k] = int(v)\n",
    "        else:\n",
    "            met_dict[k] = v"
   ]
  },
  {
   "cell_type": "code",
   "execution_count": 10,
   "metadata": {
    "scrolled": true
   },
   "outputs": [],
   "source": [
    "idx_enzsyn = df_eqn[df_eqn.id.str.contains('ENZSYN-')].index\n",
    "cols = ['id', 'name', 'uniprot', 'MW (g/mmol)']\n",
    "\n",
    "for i in idx_enzsyn:\n",
    "    x = metabolites_dict_from_reaction_equation_RBA(df_eqn.reaction[i])\n",
    "    met_dict = dict()\n",
    "    for k,v in x.items():\n",
    "        if k == '':\n",
    "            continue\n",
    "        if v.is_integer():\n",
    "            met_dict[k] = int(v)\n",
    "        else:\n",
    "            met_dict[k] = v\n",
    "            \n",
    "    met_dict = {k.split('-', maxsplit=1)[1]:v for k,v in met_dict.items() if v < -1e-6}\n",
    "    in_data = set(met_dict) & set(df_data.index)\n",
    "    if len(in_data) > 0.5 and len(in_data) < len(met_dict):\n",
    "        #print(i, len(in_data), len(met_dict), ','.join(in_data))\n",
    "        vmin = min([df_data.loc[k, 'vtrans (mmol/gDW/h)'] / met_dict[k] for k in met_dict.keys() if k in in_data])\n",
    "        cmin = min([df_data.loc[k, 'conc (g/gDW)'] / met_dict[k] for k in met_dict.keys() if k in in_data])\n",
    "        for k in met_dict.keys():\n",
    "            if k not in in_data:\n",
    "                df_data.loc[k, cols] = df_prot.loc[k, cols]\n",
    "                df_data.loc[k, 'conc (g/gDW)'] = cmin * met_dict[k]\n",
    "                df_data.loc[k, 'vtrans (mmol/gDW/h)'] = vmin * met_dict[k]\n",
    "                df_data.loc[k, 'type'] = 'gapfill_subunit'"
   ]
  },
  {
   "cell_type": "raw",
   "metadata": {},
   "source": [
    "df_data.to_excel('./Bjorkeroth2020_batchYNBAA.xlsx', index=None)"
   ]
  },
  {
   "cell_type": "markdown",
   "metadata": {},
   "source": [
    "Calculate fraction of non-enzymatic and non-ribosomal proteins"
   ]
  },
  {
   "cell_type": "code",
   "execution_count": 12,
   "metadata": {},
   "outputs": [],
   "source": [
    "cols = ['id', 'pfrac (g protein/gDW)']\n",
    "idx = [i for i in df_raw.index if i not in df_prot.index]\n",
    "\n",
    "df_nomodel = pd.DataFrame(columns=cols, index=idx)\n",
    "cols = ['id', 'pfrac (g protein/gDW)']\n",
    "df_nomodel['id'] = idx\n",
    "\n",
    "cols_data = ['Rich_aerobic_1', 'Rich_aerobic_2']\n",
    "for i in df_nomodel.index:\n",
    "    data = df_raw.loc[i, cols_data]\n",
    "    data = [c for c in data if pd.isnull(c) == False]\n",
    "    \n",
    "    if data == []:\n",
    "        df_nomodel.loc[i, 'pfrac (g protein/gDW)'] = 0\n",
    "    elif data != []:\n",
    "        c_avg = np.mean(data)\n",
    "        df_nomodel.loc[i, 'pfrac (g protein/gDW)'] = c_avg"
   ]
  },
  {
   "cell_type": "code",
   "execution_count": 13,
   "metadata": {},
   "outputs": [
    {
     "data": {
      "text/plain": [
       "0.4118734793770407"
      ]
     },
     "execution_count": 13,
     "metadata": {},
     "output_type": "execute_result"
    }
   ],
   "source": [
    "df_nomodel['pfrac (g protein/gDW)'].sum()"
   ]
  },
  {
   "cell_type": "code",
   "execution_count": null,
   "metadata": {},
   "outputs": [],
   "source": []
  }
 ],
 "metadata": {
  "kernelspec": {
   "display_name": "Python 3",
   "language": "python",
   "name": "python3"
  },
  "language_info": {
   "codemirror_mode": {
    "name": "ipython",
    "version": 3
   },
   "file_extension": ".py",
   "mimetype": "text/x-python",
   "name": "python",
   "nbconvert_exporter": "python",
   "pygments_lexer": "ipython3",
   "version": "3.7.9"
  }
 },
 "nbformat": 4,
 "nbformat_minor": 4
}
