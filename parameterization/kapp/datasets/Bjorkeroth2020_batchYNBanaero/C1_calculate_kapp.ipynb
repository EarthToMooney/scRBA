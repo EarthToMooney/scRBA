{
 "cells": [
  {
   "cell_type": "code",
   "execution_count": 1,
   "metadata": {},
   "outputs": [],
   "source": [
    "import pandas as pd\n",
    "import sys\n",
    "sys.path.append('../../../../pycore/')\n",
    "from simulate import RBA_result\n",
    "from utils import extract_details_from_rxnid"
   ]
  },
  {
   "cell_type": "code",
   "execution_count": 2,
   "metadata": {},
   "outputs": [],
   "source": [
    "# Load enzyme info\n",
    "df_enz = pd.read_excel('../../../../build_model/input/ENZYME_stoich_curation_2021-10-01.xlsx')\n",
    "\n",
    "# Load path of set4 (enzyme-reaction many-to-many mapping)\n",
    "set4_path = '../kapp_ambiguousLoad_case_resolve_common.txt'"
   ]
  },
  {
   "cell_type": "code",
   "execution_count": 3,
   "metadata": {
    "scrolled": false
   },
   "outputs": [
    {
     "name": "stdout",
     "output_type": "stream",
     "text": [
      "BIOSYN-BIODILBATCHANAERO is not found in raw flux. No growth rate assigned\n",
      "Growth rate: 0.3221\n"
     ]
    }
   ],
   "source": [
    "biom_id = 'BIOSYN-BIODILBATCHANAERO'\n",
    "\n",
    "res_metab = RBA_result(biom_id=biom_id)\n",
    "res_metab.load_raw_flux('./min_flux_sum/min_flux_sum.flux.txt')\n",
    "res_metab.calculate_metabolic_flux()\n",
    "\n",
    "res_esyn = RBA_result(biom_id=biom_id, twocol_format=True)\n",
    "res_esyn.load_raw_flux('./enz_from_proteome/enz_flux_calculation.txt')\n",
    "\n",
    "mu = res_metab.growth_rate\n",
    "print('Growth rate:', mu)"
   ]
  },
  {
   "cell_type": "raw",
   "metadata": {},
   "source": [
    "res_metab.make_escher_csv('./flux.escher.csv')"
   ]
  },
  {
   "cell_type": "code",
   "execution_count": 4,
   "metadata": {},
   "outputs": [
    {
     "name": "stdout",
     "output_type": "stream",
     "text": [
      "EX_glc__D_e -18.391\n",
      "EX_co2_e 30.64\n",
      "EX_etoh_e 28.573851000373157\n",
      "EX_glyc_e 3.714883200126554\n",
      "EX_gcald_e 2.01570285039e-05\n",
      "EX_h_e 0.5854641155291647\n",
      "EX_succ_e 0.04160402402647907\n",
      "EX_h2o_e 4.199325345298954\n"
     ]
    }
   ],
   "source": [
    "print('EX_glc__D_e', res_metab.metabolic_flux['EX_glc__D_e'])\n",
    "#print('EX_o2_e', res_metab.metabolic_flux['EX_o2_e'])\n",
    "for k,v in res_metab.metabolic_flux.items():\n",
    "    if k[:3] == 'EX_' and v > 1e-6:\n",
    "        print(k,v)"
   ]
  },
  {
   "cell_type": "code",
   "execution_count": 5,
   "metadata": {},
   "outputs": [],
   "source": [
    "#### Map rxn to enz\n",
    "rxndict = {k:[] for k,v in res_metab.metabolic_flux.items() if abs(v) > 0}\n",
    "\n",
    "enzdict = dict()\n",
    "for k,v in res_esyn.raw_flux.items():\n",
    "    if k.split('-')[0] == 'ENZSYN' and v > 0:\n",
    "        _,enz = k.split('-', maxsplit=1)\n",
    "        enzdict[enz] = []\n",
    "        \n",
    "for i in df_enz.index:\n",
    "    rxn = df_enz.rxn_src[i]\n",
    "    enz = df_enz.enz[i]\n",
    "    if rxn in rxndict.keys() and enz in ['SPONT', 'UNKNOWN']:\n",
    "        rxndict[rxn].append('zeroCost')\n",
    "        \n",
    "    if rxn in rxndict.keys() and enz in enzdict.keys():\n",
    "        rxndict[rxn].append(enz)\n",
    "        enzdict[enz].append(rxn)\n",
    "        \n",
    "rxndict = {k:set(v) for k,v in rxndict.items()}\n",
    "rxndict = {k:v for k,v in rxndict.items() if v != {'zeroCost'}}\n",
    "enzdict = {k:set(v) for k,v in enzdict.items()}"
   ]
  },
  {
   "cell_type": "code",
   "execution_count": 6,
   "metadata": {},
   "outputs": [],
   "source": [
    "# Find enzymes whose together carry a total load of reactions\n",
    "x = {k:v for k,v in rxndict.items() if len(v) > 1.5}\n",
    "enz_share_rxn_load = set().union(*[v for v in x.values()])\n",
    "\n",
    "# Find enzymes whose individually carry loads of multiple reactions\n",
    "x = {k:v for k,v in enzdict.items() if len(v) > 1.5}\n",
    "enz_multiload = set(x.keys())\n",
    "\n",
    "# Set 1: Enzyme-reaction one-to-one load mapping\n",
    "set1 = set(enzdict.keys()) - enz_share_rxn_load - enz_multiload\n",
    "set1 = set([i for i in set1 if len(enzdict[i]) > 0.5])\n",
    "\n",
    "# Set 2: Enzyme-reaction one-to-many\n",
    "set2 = enz_multiload - enz_share_rxn_load\n",
    "\n",
    "# Set 3: Enzyme-reaction many-to-one\n",
    "set3 = enz_share_rxn_load - enz_multiload\n",
    "\n",
    "# Set 4: Enzyme-reaction many-to-many\n",
    "set4 = enz_share_rxn_load & enz_multiload"
   ]
  },
  {
   "cell_type": "code",
   "execution_count": 7,
   "metadata": {},
   "outputs": [],
   "source": [
    "# Check manual resolve of ambiguous load case covers set4\n",
    "with open(set4_path) as f:\n",
    "    text = f.read().split('\\n')[1:]\n",
    "text = [i for i in text if i != '']\n",
    "enzs = []\n",
    "for i in text:\n",
    "    enzs += i.split('\\t')[0].split(',')\n",
    "for i in set4 - set(enzs):\n",
    "    print(i)"
   ]
  },
  {
   "cell_type": "code",
   "execution_count": 8,
   "metadata": {
    "scrolled": true
   },
   "outputs": [],
   "source": [
    "# Find enzymes whose together carry a total load of reactions\n",
    "x = {k:v for k,v in rxndict.items() if len(v) > 1.5}\n",
    "enz_share_rxn_load = set().union(*[v for v in x.values()])\n",
    "\n",
    "# Find enzymes whose individually carry loads of multiple reactions\n",
    "x = {k:v for k,v in enzdict.items() if len(v) > 1.5}\n",
    "enz_multiload = set(x.keys())\n",
    "\n",
    "# Set 1: Enzyme-reaction one-to-one load mapping\n",
    "set1 = set(enzdict.keys()) - enz_share_rxn_load - enz_multiload\n",
    "set1 = set([i for i in set1 if len(enzdict[i]) > 0.5])\n",
    "\n",
    "# Set 2: Enzyme-reaction one-to-many\n",
    "set2 = enz_multiload - enz_share_rxn_load\n",
    "\n",
    "# Set 3: Enzyme-reaction many-to-one\n",
    "set3 = enz_share_rxn_load - enz_multiload\n",
    "\n",
    "# Set 4: Enzyme-reaction many-to-many\n",
    "with open(set4_path) as f:\n",
    "    text = f.read().split('\\n')[1:]\n",
    "text = [i for i in text if i != '']\n",
    "enzs = []\n",
    "for i in text:\n",
    "    enzs += i.split('\\t')[0].split(',')\n",
    "set4 = set(enzs)\n",
    "    \n",
    "# In manual checking, some enzymes in set2 and set3 requires special treatment in calculation\n",
    "# which are recorded in set4. Thus excluded those in set2 and set3\n",
    "set2 = set2 - set4\n",
    "set3 = set3 - set4\n",
    "\n",
    "kapp = dict()\n",
    "\n",
    "### Set 1: Enzyme-reaction one-to-one load mapping\n",
    "for enz in set1:\n",
    "    rxn = [i for i in enzdict[enz]][0]\n",
    "    rval = res_metab.metabolic_flux[rxn]\n",
    "    if rval > 0:\n",
    "        rdir = 'FWD'\n",
    "    elif rval < 0:\n",
    "        rdir = 'REV'\n",
    "    else:\n",
    "        print('rval == 0, check enzyme ' + enz + ' and reaction ' + rxn)\n",
    "    \n",
    "    rid = 'RXN-' + rxn + '_' + rdir + '-' + enz\n",
    "    \n",
    "    enzval = res_esyn.raw_flux['ENZSYN-' + enz]\n",
    "    kapp[rid] = mu * abs(rval) / enzval / 3600\n",
    "    \n",
    "### Set 2: Enzyme-reaction one-to-many\n",
    "for enz in set2:\n",
    "    rids = []; rvalsum = 0;\n",
    "    for rxn in enzdict[enz]:\n",
    "        rval = res_metab.metabolic_flux[rxn]\n",
    "        if rval > 0:\n",
    "            rdir = 'FWD'\n",
    "        elif rval < 0:\n",
    "            rdir = 'REV'\n",
    "        else:\n",
    "            print('rval == 0, check enzyme ' + enz + ' and reaction ' + rxn)\n",
    "\n",
    "        rids.append('RXN-' + rxn + '_' + rdir + '-' + enz)\n",
    "        rvalsum += abs(rval)\n",
    "        \n",
    "    enzval = res_esyn.raw_flux['ENZSYN-' + enz]\n",
    "    \n",
    "    for rid in rids:\n",
    "        kapp[rid] = mu * rvalsum / enzval / 3600\n",
    "        \n",
    "### Set 3: Enzyme-reaction many-to-one\n",
    "rxns = set().union(*[enzdict[enz] for enz in set3])\n",
    "for rxn in rxns:\n",
    "    rval = res_metab.metabolic_flux[rxn]\n",
    "    if rval > 0:\n",
    "        rdir = 'FWD'\n",
    "    elif rval < 0:\n",
    "        rdir = 'REV'\n",
    "    else:\n",
    "        print('rval == 0, check enzyme ' + enz + ' and reaction ' + rxn)\n",
    "        \n",
    "    rids = []; enzvals = [];\n",
    "    for enz in rxndict[rxn]:\n",
    "        rids.append('RXN-' + rxn + '_' + rdir + '-' + enz)\n",
    "        enzvals.append(res_esyn.raw_flux['ENZSYN-' + enz])\n",
    "    enzval = max(enzvals)\n",
    "        \n",
    "    for rid in rids:\n",
    "        kapp[rid] = mu * abs(rval) / enzval / 3600\n",
    "        \n",
    "### Set 4: Enzyme-reaction many-to-many\n",
    "with open(set4_path) as f:\n",
    "    text = f.read().split('\\n')[1:]\n",
    "text = [i for i in text if i != '']\n",
    "mapper = dict()\n",
    "for line in text:\n",
    "    k,v,rule = line.split('\\t')\n",
    "    if v not in ['noRxnFlux_resolveByManualCheck', 'disableManually']:\n",
    "        mapper[k] = (v,rule)\n",
    "        \n",
    "for enztext,x in mapper.items():\n",
    "    rxntext,rule = x\n",
    "    \n",
    "    # Parsing enzymes\n",
    "    enzs = enztext.split(',')\n",
    "    if rule == 'divmaxenz':\n",
    "        enzs_measured = []\n",
    "        for enz in enzs:\n",
    "            if 'ENZSYN-' + enz in res_esyn.raw_flux.keys():\n",
    "                enzs_measured.append(enz)\n",
    "        if enzs_measured == []:\n",
    "            continue\n",
    "        else:\n",
    "            enzval = max([res_esyn.raw_flux['ENZSYN-'+enz] for enz in enzs_measured])\n",
    "            \n",
    "    else:\n",
    "        enzval = 0\n",
    "        enzs_measured = []\n",
    "        for enz in enzs:\n",
    "            if 'ENZSYN-' + enz in res_esyn.raw_flux.keys():\n",
    "                enzs_measured.append(enz)\n",
    "                enzval += res_esyn.raw_flux['ENZSYN-'+enz]\n",
    "        if enzval == 0:\n",
    "            continue\n",
    "    \n",
    "    # Parsing reactions\n",
    "    rxns = rxntext.split(',')\n",
    "    rxnval = 0\n",
    "    rxns_on = []\n",
    "    for rxn in rxns:\n",
    "        if rxn in res_metab.metabolic_flux.keys():\n",
    "            rxns_on.append(rxn)\n",
    "            rxnval += abs(res_metab.metabolic_flux[rxn])\n",
    "    if rxnval < 1e-5:\n",
    "        continue\n",
    "    \n",
    "    rids = []\n",
    "    for rxn in rxns_on:\n",
    "        rval = res_metab.metabolic_flux[rxn]\n",
    "        if rval > 0:\n",
    "            rdir = 'FWD'\n",
    "        elif rval < 0:\n",
    "            rdir = 'REV'\n",
    "        else:\n",
    "            print('rval == 0, check enzyme ' + enz + ' and reaction ' + rxn)\n",
    "            \n",
    "        for enz in enzs_measured:\n",
    "            rids.append('RXN-' + rxn + '_' + rdir + '-' + enz)\n",
    "            \n",
    "    for rid in rids:\n",
    "        kapp[rid] = mu * rxnval / enzval / 3600"
   ]
  },
  {
   "cell_type": "markdown",
   "metadata": {},
   "source": [
    "#### Write calculated kapp (1/s)"
   ]
  },
  {
   "cell_type": "code",
   "execution_count": 9,
   "metadata": {},
   "outputs": [],
   "source": [
    "#Flux is numerically low, near zero\n",
    "with open('../exclude_parameterization_list.txt') as f:\n",
    "    excl = f.read().split('\\n')\n",
    "excl = [r for r in excl if r != '']\n",
    "excl += ['RXN-ATPS_m_FWD-ATPSCPLX']\n",
    "\n",
    "texts = ['rxnid\\tkapp (1/s)']\n",
    "for k,v in kapp.items():\n",
    "    if k not in excl:\n",
    "        texts.append(k + '\\t' + str(v))\n",
    "    \n",
    "with open('./kapps_in_vivo.txt', 'w') as f:\n",
    "    f.write('\\n'.join(texts))"
   ]
  },
  {
   "cell_type": "code",
   "execution_count": 10,
   "metadata": {},
   "outputs": [
    {
     "data": {
      "text/plain": [
       "11.637212022490683"
      ]
     },
     "execution_count": 10,
     "metadata": {},
     "output_type": "execute_result"
    }
   ],
   "source": [
    "import numpy as np\n",
    "np.median(list(kapp.values()))"
   ]
  },
  {
   "cell_type": "code",
   "execution_count": null,
   "metadata": {},
   "outputs": [],
   "source": []
  }
 ],
 "metadata": {
  "kernelspec": {
   "display_name": "Python 3",
   "language": "python",
   "name": "python3"
  },
  "language_info": {
   "codemirror_mode": {
    "name": "ipython",
    "version": 3
   },
   "file_extension": ".py",
   "mimetype": "text/x-python",
   "name": "python",
   "nbconvert_exporter": "python",
   "pygments_lexer": "ipython3",
   "version": "3.7.9"
  }
 },
 "nbformat": 4,
 "nbformat_minor": 4
}
