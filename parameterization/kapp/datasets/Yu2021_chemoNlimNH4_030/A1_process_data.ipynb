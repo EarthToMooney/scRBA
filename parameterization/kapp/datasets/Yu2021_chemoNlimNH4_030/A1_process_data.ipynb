{
 "cells": [
  {
   "cell_type": "code",
   "execution_count": 1,
   "metadata": {},
   "outputs": [],
   "source": [
    "import pandas as pd\n",
    "import numpy as np\n",
    "\n",
    "import sys\n",
    "sys.path.append('../../../../pycore/')\n",
    "from utils import metabolites_dict_from_reaction_equation_RBA"
   ]
  },
  {
   "cell_type": "code",
   "execution_count": 2,
   "metadata": {},
   "outputs": [],
   "source": [
    "mu = 0.3\n",
    "cols_data = ['prot.16', 'prot.17', 'prot.18']\n",
    "raw_data_path = '../raw_data_files/Yu2021_rawdata.xlsx'\n",
    "fout_name = './Yu2021_chemoNlimNH4_030.xlsx'"
   ]
  },
  {
   "cell_type": "code",
   "execution_count": 3,
   "metadata": {},
   "outputs": [],
   "source": [
    "# Load path\n",
    "path_gen = '../../../../build_model/'\n",
    "\n",
    "prot_path = path_gen + 'input/PROTEIN_stoich_curation_2021-09-28.xlsx'\n",
    "model_xlsx_path = path_gen + 'model/RBA_stoichiometry.xlsx'\n",
    "ribonuc_path = path_gen + 'input/RIBOSOME_nucleus.xlsx'\n",
    "ribomito_path = path_gen + 'input/RIBOSOME_mitochondria.xlsx'"
   ]
  },
  {
   "cell_type": "code",
   "execution_count": 4,
   "metadata": {},
   "outputs": [],
   "source": [
    "verified_dubious_genes = ['YJL182C', 'YPL044C', 'YML009W-B']\n",
    "df_raw = pd.read_excel(raw_data_path, sheet_name='Supplementary File 1b', skiprows=[0])\n",
    "df_raw.index = df_raw['standard_id'].to_list()\n",
    "idx = [i for i in df_raw.index if i not in verified_dubious_genes]\n",
    "df_raw = df_raw.loc[idx, :]\n",
    "\n",
    "# Load protein\n",
    "df_prot = pd.read_excel(prot_path)\n",
    "df_prot.index = df_prot.id.to_list()\n",
    "# Strip compartment\n",
    "df_prot.index = [i.split('_')[0] if '_' in i else i for i in df_prot.index]\n",
    "df_prot['id'] = df_prot.index.to_list()\n",
    "df_prot = df_prot.drop_duplicates(subset=['id'])\n",
    "# Protein copy selector\n",
    "df_select = pd.read_csv('./input/protein_copies_selector.txt', sep='\\t')\n",
    "df_select.index = df_select.gene_src.to_list()\n",
    "\n",
    "# Ribosome (nucleus and mitochondrial)\n",
    "df_ribonuc = pd.read_excel(ribonuc_path)\n",
    "df_ribomito = pd.read_excel(ribomito_path)"
   ]
  },
  {
   "cell_type": "code",
   "execution_count": 5,
   "metadata": {},
   "outputs": [],
   "source": [
    "#### HANDLE MISSING MEASUREMENTS FOR SUBUNIT COMPONENT OF HETEROMERIC ENZYMES\n",
    "# E.g., missing subunit measurements for ATP synthase complex\n",
    "# Stoichiometry\n",
    "df_eqn = pd.read_excel(model_xlsx_path)\n",
    "df_eqn.index = df_eqn.id.to_list()"
   ]
  },
  {
   "cell_type": "code",
   "execution_count": 6,
   "metadata": {},
   "outputs": [],
   "source": [
    "#### MW\n",
    "df_mw = pd.read_csv('../scProteins_MW.csv', sep='\\t')\n",
    "df_mw.index = df_mw.gene_id.to_list()"
   ]
  },
  {
   "cell_type": "markdown",
   "metadata": {},
   "source": [
    "Process data"
   ]
  },
  {
   "cell_type": "code",
   "execution_count": 7,
   "metadata": {},
   "outputs": [],
   "source": [
    "pdata_raw = df_raw.loc[:, cols_data].mean(axis=1).fillna(0)\n",
    "mw = df_mw.loc[pdata_raw.index.to_list(), 'MW (g/mmol)']\n",
    "\n",
    "weight_tot = sum(pdata_raw * mw)\n",
    "# pdata variable: protein fraction in proteome (g protein / gDW)\n",
    "pdata = (pdata_raw * mw) / weight_tot\n",
    "pdata = pdata[pdata > 0]"
   ]
  },
  {
   "cell_type": "code",
   "execution_count": 8,
   "metadata": {},
   "outputs": [],
   "source": [
    "cols = ['id', 'name', 'uniprot', 'MW (g/mmol)', 'type', 'conc (g/gDW)', 'vtrans (mmol/gDW/h)']\n",
    "idx = [i for i in df_prot.index if i in pdata.index]\n",
    "\n",
    "df_data = pd.DataFrame(columns=cols, index=idx)\n",
    "cols = ['id', 'name', 'uniprot', 'MW (g/mmol)']\n",
    "df_data.loc[idx, cols] = df_prot.loc[idx, cols]\n",
    "\n",
    "#ptot = (36.94 + 34.22*mu) / 100 #Clim\n",
    "ptot = (10.57 + 108.56*mu) / 100 #Nlim\n",
    "\n",
    "for i in df_data.index:\n",
    "    pval = pdata[i]\n",
    "    mw = df_data.loc[i, 'MW (g/mmol)']\n",
    "    df_data.loc[i, 'conc (g/gDW)'] = pval * ptot\n",
    "    df_data.loc[i, 'vtrans (mmol/gDW/h)'] = mu * pval * ptot / mw\n",
    "    df_data.loc[i, 'type'] = 'truedata_enz'\n",
    "    \n",
    "    if i in df_ribonuc.id.to_list():\n",
    "        df_data.loc[i, 'type'] = 'truedata_ribonuc'\n",
    "    elif i in  df_ribomito.id.to_list():\n",
    "        df_data.loc[i, 'type'] = 'truedata_ribomito'"
   ]
  },
  {
   "cell_type": "code",
   "execution_count": 9,
   "metadata": {},
   "outputs": [],
   "source": [
    "# Store index that matches the raw data\n",
    "idx_truedata_old = df_data.index.to_list()\n",
    "\n",
    "# Reindex - incorporate info from protein copy selector\n",
    "idx = [df_select.selected_compartmental_copy[i] if i in df_select.index \\\n",
    "       else i for i in df_data.index]\n",
    "df_data.index = idx\n",
    "df_data['id'] = df_data.index.to_list()"
   ]
  },
  {
   "cell_type": "code",
   "execution_count": 10,
   "metadata": {},
   "outputs": [],
   "source": [
    "# Clean out NaN rows\n",
    "df_data = df_data[df_data['conc (g/gDW)'].isnull() == False]"
   ]
  },
  {
   "cell_type": "markdown",
   "metadata": {},
   "source": [
    "Gap-fill data"
   ]
  },
  {
   "cell_type": "code",
   "execution_count": 11,
   "metadata": {},
   "outputs": [],
   "source": [
    "# Load protein\n",
    "df_prot = pd.read_excel(prot_path)\n",
    "df_prot.index = df_prot.id.to_list()"
   ]
  },
  {
   "cell_type": "code",
   "execution_count": 12,
   "metadata": {},
   "outputs": [],
   "source": [
    "idx_enzsyn = df_eqn[df_eqn.id.str.contains('ENZSYN-')].index\n",
    "cols = ['id', 'name', 'uniprot', 'MW (g/mmol)']\n",
    "\n",
    "for i in idx_enzsyn:\n",
    "    x = metabolites_dict_from_reaction_equation_RBA(df_eqn.reaction[i])\n",
    "    met_dict = dict()\n",
    "    for k,v in x.items():\n",
    "        if k == '':\n",
    "            continue\n",
    "        if v.is_integer():\n",
    "            met_dict[k] = int(v)\n",
    "        else:\n",
    "            met_dict[k] = v"
   ]
  },
  {
   "cell_type": "code",
   "execution_count": 13,
   "metadata": {
    "scrolled": true
   },
   "outputs": [],
   "source": [
    "idx_enzsyn = df_eqn[df_eqn.id.str.contains('ENZSYN-')].index\n",
    "cols = ['id', 'name', 'uniprot', 'MW (g/mmol)']\n",
    "\n",
    "for i in idx_enzsyn:\n",
    "    x = metabolites_dict_from_reaction_equation_RBA(df_eqn.reaction[i])\n",
    "    met_dict = dict()\n",
    "    for k,v in x.items():\n",
    "        if k == '':\n",
    "            continue\n",
    "        if v.is_integer():\n",
    "            met_dict[k] = int(v)\n",
    "        else:\n",
    "            met_dict[k] = v\n",
    "            \n",
    "    met_dict = {k.split('-', maxsplit=1)[1]:v for k,v in met_dict.items() if v < -1e-6}\n",
    "    in_data = set(met_dict) & set(df_data.index)\n",
    "    if len(in_data) > 0.5 and len(in_data) < len(met_dict):\n",
    "        #print(i, len(in_data), len(met_dict), ','.join(in_data))\n",
    "        vmin = min([df_data.loc[k, 'vtrans (mmol/gDW/h)'] / met_dict[k] for k in met_dict.keys() if k in in_data])\n",
    "        cmin = min([df_data.loc[k, 'conc (g/gDW)'] / met_dict[k] for k in met_dict.keys() if k in in_data])\n",
    "        for k in met_dict.keys():\n",
    "            if k not in in_data:\n",
    "                idx_truedata_old.append(k)\n",
    "                df_data.loc[k, cols] = df_prot.loc[k, cols]\n",
    "                df_data.loc[k, 'conc (g/gDW)'] = cmin * met_dict[k]\n",
    "                df_data.loc[k, 'vtrans (mmol/gDW/h)'] = vmin * met_dict[k]\n",
    "                df_data.loc[k, 'type'] = 'gapfill_subunit'"
   ]
  },
  {
   "cell_type": "raw",
   "metadata": {},
   "source": [
    "df_data.to_excel(fout_name, index=None)"
   ]
  },
  {
   "cell_type": "markdown",
   "metadata": {},
   "source": [
    "Calculate fraction of non-enzymatic and non-ribosomal proteins"
   ]
  },
  {
   "cell_type": "code",
   "execution_count": 15,
   "metadata": {
    "scrolled": true
   },
   "outputs": [
    {
     "data": {
      "text/plain": [
       "0.34517798810475026"
      ]
     },
     "execution_count": 15,
     "metadata": {},
     "output_type": "execute_result"
    }
   ],
   "source": [
    "idx = [i for i in pdata.index if i not in idx_truedata_old]\n",
    "pdata[idx].sum()"
   ]
  },
  {
   "cell_type": "code",
   "execution_count": null,
   "metadata": {},
   "outputs": [],
   "source": []
  }
 ],
 "metadata": {
  "kernelspec": {
   "display_name": "Python 3",
   "language": "python",
   "name": "python3"
  },
  "language_info": {
   "codemirror_mode": {
    "name": "ipython",
    "version": 3
   },
   "file_extension": ".py",
   "mimetype": "text/x-python",
   "name": "python",
   "nbconvert_exporter": "python",
   "pygments_lexer": "ipython3",
   "version": "3.7.9"
  }
 },
 "nbformat": 4,
 "nbformat_minor": 4
}
