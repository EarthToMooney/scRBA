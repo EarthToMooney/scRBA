{
 "cells": [
  {
   "cell_type": "code",
   "execution_count": 55,
   "metadata": {},
   "outputs": [],
   "source": [
    "import pandas as pd\n",
    "import numpy as np\n",
    "\n",
    "import sys\n",
    "sys.path.append('../../pycore/')\n",
    "from utils import extract_details_from_rxnid"
   ]
  },
  {
   "cell_type": "code",
   "execution_count": 56,
   "metadata": {},
   "outputs": [],
   "source": [
    "### Load info\n",
    "# Enzyme\n",
    "df_enz = pd.read_excel('../../build_model/input/ENZYME_stoich_curation.xlsx')\n",
    "df_enz.index = df_enz.id.to_list()\n",
    "\n",
    "# Stoichiometry\n",
    "df_stoich = pd.read_excel('../../build_model/model/RBA_stoichiometry.xlsx')\n",
    "df_stoich.index = df_stoich.id.to_list()\n",
    "\n",
    "# Excluded entries\n",
    "with open('./input/exclude_reactions.txt') as f:\n",
    "    rxns_excl = f.read().split('\\n')[:-1]\n",
    "    \n",
    "# kapp\n",
    "df_kapp = pd.read_excel('./results/kapp_bydatagroup_inPerSec.xlsx')\n",
    "df_kapp.index = df_kapp.id.to_list()"
   ]
  },
  {
   "cell_type": "code",
   "execution_count": 57,
   "metadata": {},
   "outputs": [
    {
     "data": {
      "text/plain": [
       "Index(['id', 'subsystem_group', 'subsystem', 'batch_std', 'batch_rich',\n",
       "       'batch_anaero', 'chemo_lowC', 'chemo_highC', 'chemo_lowN',\n",
       "       'chemo_highN', 'batch_Gal', 'batch_Malt', 'batch_Tre'],\n",
       "      dtype='object')"
      ]
     },
     "execution_count": 57,
     "metadata": {},
     "output_type": "execute_result"
    }
   ],
   "source": [
    "df_kapp.columns"
   ]
  },
  {
   "cell_type": "code",
   "execution_count": 58,
   "metadata": {},
   "outputs": [],
   "source": [
    "### Select the growth conditions\n",
    "cond = 'batch_Tre'\n",
    "outfile = '../../input/RBA_kapp_batch_Tre_per_hour.txt'\n",
    "\n",
    "#cond = 'batch_Malt'\n",
    "#outfile = '../../input/RBA_kapp_batch_Malt_per_hour.txt'\n",
    "\n",
    "#cond = 'batch_Gal'\n",
    "#outfile = '../../input/RBA_kapp_batch_Gal_per_hour.txt'\n",
    "\n",
    "#cond = 'chemo_highN'\n",
    "#outfile = '../../input/RBA_kapp_chemo_highN_per_hour.txt'\n",
    "\n",
    "#cond = 'chemo_lowN'\n",
    "#outfile = '../../input/RBA_kapp_chemo_lowN_per_hour.txt'\n",
    "\n",
    "#cond = 'chemo_highC'\n",
    "#outfile = '../../input/RBA_kapp_chemo_highC_per_hour.txt'\n",
    "\n",
    "#cond = 'chemo_lowC'\n",
    "#outfile = '../../input/RBA_kapp_chemo_lowC_per_hour.txt'\n",
    "\n",
    "#cond = 'batch_anaero'\n",
    "#outfile = '../../input/RBA_kapp_batch_anaero_per_hour.txt'\n",
    "\n",
    "#cond = 'batch_rich'\n",
    "#outfile = '../../input/RBA_kapp_batch_rich_per_hour.txt'\n",
    "\n",
    "#cond = 'batch_std'\n",
    "#outfile = '../../input/RBA_kapp_batch_per_hour.txt'"
   ]
  },
  {
   "cell_type": "code",
   "execution_count": 59,
   "metadata": {},
   "outputs": [],
   "source": [
    "kapp0 = df_kapp[cond]\n",
    "kapp0 = kapp0[kapp0.isnull() == False]"
   ]
  },
  {
   "cell_type": "code",
   "execution_count": 60,
   "metadata": {},
   "outputs": [],
   "source": [
    "# Get kapp\n",
    "kapp0 = df_kapp[cond]\n",
    "kapp0 = kapp0[kapp0.isnull() == False]\n",
    "med = round(np.median(kapp0), 1)\n",
    "\n",
    "# Map kapp to ENZLOAD entries\n",
    "idx = df_enz.index.to_list()\n",
    "df_write = pd.DataFrame(index=idx, columns=['id', 'kapp (1/s)', 'source'])\n",
    "df_write['id'] = df_write.index.to_list()\n",
    "idx_kapp = [i for i in kapp0.index if i not in rxns_excl]\n",
    "kapp0 = kapp0[idx_kapp]\n",
    "\n",
    "for i in df_enz.index:\n",
    "    _,rxn,rdir,enz = extract_details_from_rxnid(i)\n",
    "    if enz in ['SPONT', 'UNKNOWN']:\n",
    "        df_write.loc[i, 'source'] = enz\n",
    "        continue\n",
    "    \n",
    "    entry = rxn + '_' + rdir\n",
    "    if entry in kapp0.index:\n",
    "        df_write.loc[i, 'kapp (1/s)'] = kapp0[entry]\n",
    "        df_write.loc[i, 'source'] = 'parameterization'\n",
    "    else:\n",
    "        df_write.loc[i, 'kapp (1/s)'] = med\n",
    "        df_write.loc[i, 'source'] = 'kapp_median'\n",
    "        \n",
    "# Write to GAMS txt file\n",
    "idx = df_stoich[df_stoich.coupling_type == 'rxn_enz'].index\n",
    "kapp_list = []\n",
    "\n",
    "for i in idx:\n",
    "    lhs = \"v('ENZLOAD-\" + df_stoich.id[i][4:] + \"') * \" + \"kapp('\" + i + \"')\"\n",
    "    kapp_list.append(\"'\" + i + \"' \" + str(round(df_write.loc[i, 'kapp (1/s)'] * 3600, 6)))\n",
    "    \n",
    "kapp_list = ['/'] + kapp_list + ['/']\n",
    "with open(outfile, 'w') as f:\n",
    "    f.write('\\n'.join(kapp_list))"
   ]
  },
  {
   "cell_type": "code",
   "execution_count": null,
   "metadata": {},
   "outputs": [],
   "source": []
  }
 ],
 "metadata": {
  "kernelspec": {
   "display_name": "Python 3",
   "language": "python",
   "name": "python3"
  },
  "language_info": {
   "codemirror_mode": {
    "name": "ipython",
    "version": 3
   },
   "file_extension": ".py",
   "mimetype": "text/x-python",
   "name": "python",
   "nbconvert_exporter": "python",
   "pygments_lexer": "ipython3",
   "version": "3.7.9"
  }
 },
 "nbformat": 4,
 "nbformat_minor": 4
}
