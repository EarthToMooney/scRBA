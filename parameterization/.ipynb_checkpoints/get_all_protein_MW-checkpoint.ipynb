{
 "cells": [
  {
   "cell_type": "code",
   "execution_count": 1,
   "metadata": {},
   "outputs": [],
   "source": [
    "import pandas as pd"
   ]
  },
  {
   "cell_type": "code",
   "execution_count": 4,
   "metadata": {},
   "outputs": [],
   "source": [
    "df_all = pd.read_excel('../../SCProjects/genome/Scerevisiae_S288C/gene_info.xlsx')\n",
    "df_all.index = df_all.gene_id.to_list()"
   ]
  },
  {
   "cell_type": "code",
   "execution_count": 18,
   "metadata": {},
   "outputs": [],
   "source": [
    "df_map = pd.read_csv('../scRBA_build_GAMS_model/input/PROTEIN_amino_acid_map.txt',\n",
    "                     sep='\\t')\n",
    "df_map.index = df_map.aa_abbv.to_list()\n",
    "aas = df_map.aa_abbv.to_list()"
   ]
  },
  {
   "cell_type": "code",
   "execution_count": 26,
   "metadata": {},
   "outputs": [],
   "source": [
    "cols = ['gene_id', 'uniprot_id', 'MW (g/mmol)']\n",
    "df_mw = pd.DataFrame(index=df_all.index.to_list(), columns=cols)\n",
    "df_mw['gene_id'] = df_all['gene_id']\n",
    "df_mw['uniprot_id'] = df_all['uniprot_gene_id']\n",
    "for i in df_mw.index:\n",
    "    seq = df_all.sequence[i]\n",
    "    aa_count = pd.core.series.Series(index=aas, dtype='int')\n",
    "    for aa in aa_count.index:\n",
    "        aa_count[aa] = seq.count(aa)\n",
    "    mw = round(sum(aa_count * df_map.MW) / 1000, 5)\n",
    "    df_mw.loc[i, 'MW (g/mmol)'] = mw"
   ]
  },
  {
   "cell_type": "code",
   "execution_count": 28,
   "metadata": {},
   "outputs": [],
   "source": [
    "df_mw.to_csv('./scProteins_MW.csv', sep='\\t', index=None)"
   ]
  },
  {
   "cell_type": "code",
   "execution_count": null,
   "metadata": {},
   "outputs": [],
   "source": []
  }
 ],
 "metadata": {
  "kernelspec": {
   "display_name": "Python 3",
   "language": "python",
   "name": "python3"
  },
  "language_info": {
   "codemirror_mode": {
    "name": "ipython",
    "version": 3
   },
   "file_extension": ".py",
   "mimetype": "text/x-python",
   "name": "python",
   "nbconvert_exporter": "python",
   "pygments_lexer": "ipython3",
   "version": "3.7.9"
  }
 },
 "nbformat": 4,
 "nbformat_minor": 4
}
