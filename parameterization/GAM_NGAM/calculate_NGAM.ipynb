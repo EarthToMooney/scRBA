{
 "cells": [
  {
   "cell_type": "code",
   "execution_count": 1,
   "metadata": {},
   "outputs": [],
   "source": [
    "import cobra\n",
    "import pandas as pd\n",
    "from collections import OrderedDict\n",
    "\n",
    "def build_reaction_equation_from_metabolites_dict(met_dict, arrow='<=>', floatdecimal=6):\n",
    "    lhs = []; rhs = [];\n",
    "    for k,v in met_dict.items():\n",
    "        v = float(v)\n",
    "        if v == -1:\n",
    "            lhs.append(k)\n",
    "        elif v == 1:\n",
    "            rhs.append(k)\n",
    "        elif v < 0 and v != -1 and v.is_integer():\n",
    "            lhs.append(' '.join([str(-int(v)), k]))\n",
    "        elif v > 0 and v != 1 and v.is_integer():\n",
    "            rhs.append(' '.join([str(int(v)), k]))\n",
    "        elif v < 0 and v != -1:\n",
    "            lhs.append(' '.join([('{:.' + str(floatdecimal) + 'f}').format(-v), k]))\n",
    "        elif v > 0 and v != 1:\n",
    "            rhs.append(' '.join([('{:.' + str(floatdecimal) + 'f}').format(v), k]))\n",
    "    return ' '.join([ ' + '.join(lhs), arrow, ' + '.join(rhs)])"
   ]
  },
  {
   "attachments": {},
   "cell_type": "markdown",
   "metadata": {},
   "source": [
    "#### Literature\n",
    "Anaerobic near growth-arrest glucose uptake: Boender et al., 2009. pmid:19592533<br>\n",
    "vGlc = 0.5 mmol Glc / gDW / h<br>\n",
    "Aerobic near growth-arrest glucose uptake: Vos et al., 2016. pmid:27317316<br>\n",
    "vGlc = 0.039 mmol Glc / gDW / h<br>\n",
    "N-lim and P-lim growth-arrest data: Liu et al., 2019. pmid:31375494<br>"
   ]
  },
  {
   "cell_type": "code",
   "execution_count": 2,
   "metadata": {},
   "outputs": [
    {
     "name": "stdout",
     "output_type": "stream",
     "text": [
      "Using license file /home/hvdinh16/Workspace/Softwares/gurobi910/linux64/gurobi.lic\n",
      "Academic license - for non-commercial use only - expires 2023-07-30\n"
     ]
    }
   ],
   "source": [
    "model = cobra.io.load_json_model('../../build_model/input/GSM_iSace1144_rba.json')\n",
    "model.solver = 'cplex'"
   ]
  },
  {
   "cell_type": "code",
   "execution_count": 3,
   "metadata": {},
   "outputs": [],
   "source": [
    "# Remove GAM from biomass equation\n",
    "for biom in ['BIOMASS_AERO_SC_hvd', 'BIOMASS_BATCHANAERO_SC_hvd']:\n",
    "    adp = model.metabolites.adp_c\n",
    "    gam0 = model.reactions.get_by_id(biom).metabolites[adp]\n",
    "    met_dict = OrderedDict({met.id:v for met,v in model.reactions.get_by_id(biom).metabolites.items()})\n",
    "    for met in ['atp_c', 'h2o_c']:\n",
    "        met_dict[met] += gam0\n",
    "    for met in ['adp_c', 'pi_c', 'h_c']:\n",
    "        met_dict[met] -= gam0\n",
    "    biom_eqn = build_reaction_equation_from_metabolites_dict(met_dict, arrow='-->')\n",
    "    model.reactions.get_by_id(biom).reaction = biom_eqn"
   ]
  },
  {
   "cell_type": "code",
   "execution_count": 4,
   "metadata": {},
   "outputs": [
    {
     "name": "stdout",
     "output_type": "stream",
     "text": [
      "ATPM_c 0.9983999999999997\n"
     ]
    }
   ],
   "source": [
    "# Aerobic\n",
    "with model as m:\n",
    "    m.reactions.EX_glc__D_e.bounds = (-0.039, -0.039)\n",
    "    m.reactions.EX_o2_e.bounds = (-1000,1000)\n",
    "    m.reactions.ATPM_c.bounds = (0,1000)\n",
    "    m.reactions.FADH2t_c_m.knock_out()\n",
    "\n",
    "    m.objective = dict()\n",
    "    m.reactions.ATPM_c.objective_coefficient = 1\n",
    "    fba = m.optimize()\n",
    "    print('ATPM_c', fba['ATPM_c'])"
   ]
  },
  {
   "cell_type": "code",
   "execution_count": 5,
   "metadata": {},
   "outputs": [
    {
     "name": "stdout",
     "output_type": "stream",
     "text": [
      "ATPM_c 1.0\n"
     ]
    }
   ],
   "source": [
    "# Anaerobic\n",
    "with model as m:\n",
    "    m.reactions.EX_glc__D_e.bounds = (-0.5, -0.5)\n",
    "    m.reactions.EX_o2_e.bounds = (0,1000)\n",
    "    m.reactions.ATPM_c.bounds = (0,1000)\n",
    "    m.reactions.FADH2t_c_m.knock_out()\n",
    "\n",
    "    m.objective = dict()\n",
    "    m.reactions.ATPM_c.objective_coefficient = 1\n",
    "    fba = m.optimize()\n",
    "    print('ATPM_c', fba['ATPM_c'])"
   ]
  },
  {
   "cell_type": "code",
   "execution_count": 6,
   "metadata": {},
   "outputs": [
    {
     "name": "stdout",
     "output_type": "stream",
     "text": [
      "ATPM_c 3.9326666666666665\n"
     ]
    }
   ],
   "source": [
    "# Nitrogen-limited\n",
    "with model as m:\n",
    "    m.reactions.EX_glc__D_e.bounds = (-0.57, -0.57)\n",
    "    m.reactions.EX_o2_e.bounds = (-0.71, -0.71)\n",
    "    m.reactions.EX_etoh_e.bounds = (0.75, 1000)\n",
    "    m.reactions.EX_co2_e.bounds = (1.5,1000)\n",
    "    m.reactions.ATPM_c.bounds = (0,1000)\n",
    "    m.reactions.FADH2t_c_m.knock_out()\n",
    "\n",
    "    m.objective = dict()\n",
    "    m.reactions.ATPM_c.objective_coefficient = 1\n",
    "    fba = m.optimize()\n",
    "    print('ATPM_c', fba['ATPM_c'])"
   ]
  },
  {
   "cell_type": "code",
   "execution_count": 7,
   "metadata": {},
   "outputs": [
    {
     "name": "stdout",
     "output_type": "stream",
     "text": [
      "ATPM_c 4.757333333333332\n"
     ]
    }
   ],
   "source": [
    "# Phosphate-limited\n",
    "with model as m:\n",
    "    m.reactions.EX_glc__D_e.bounds = (-0.53, -0.53)\n",
    "    m.reactions.EX_o2_e.bounds = (-0.94, -0.94)\n",
    "    m.reactions.EX_etoh_e.bounds = (0.55, 1000)\n",
    "    m.reactions.EX_co2_e.bounds = (1.6,1000)\n",
    "    m.reactions.ATPM_c.bounds = (0,1000)\n",
    "    m.reactions.FADH2t_c_m.knock_out()\n",
    "\n",
    "    m.objective = dict()\n",
    "    m.reactions.ATPM_c.objective_coefficient = 1\n",
    "    fba = m.optimize()\n",
    "    print('ATPM_c', fba['ATPM_c'])"
   ]
  },
  {
   "cell_type": "code",
   "execution_count": null,
   "metadata": {},
   "outputs": [],
   "source": []
  }
 ],
 "metadata": {
  "kernelspec": {
   "display_name": "Python 3",
   "language": "python",
   "name": "python3"
  },
  "language_info": {
   "codemirror_mode": {
    "name": "ipython",
    "version": 3
   },
   "file_extension": ".py",
   "mimetype": "text/x-python",
   "name": "python",
   "nbconvert_exporter": "python",
   "pygments_lexer": "ipython3",
   "version": "3.7.9"
  }
 },
 "nbformat": 4,
 "nbformat_minor": 4
}
