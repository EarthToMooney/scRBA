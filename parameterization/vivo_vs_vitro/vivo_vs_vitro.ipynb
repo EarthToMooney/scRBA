{
 "cells": [
  {
   "cell_type": "code",
   "execution_count": 6,
   "metadata": {},
   "outputs": [],
   "source": [
    "import pandas as pd\n",
    "import numpy as np\n",
    "\n",
    "import sys\n",
    "sys.path.append('../../pycore/')\n",
    "from simulate import RBA_result\n",
    "from utils import extract_details_from_rxnid\n",
    "\n",
    "import matplotlib.pyplot as plt\n",
    "import matplotlib.patches as mp\n",
    "import seaborn as sns\n",
    "import matplotlib.lines as mlines\n",
    "%matplotlib inline"
   ]
  },
  {
   "cell_type": "code",
   "execution_count": 7,
   "metadata": {},
   "outputs": [],
   "source": [
    "df_kapp = pd.read_excel('../results/kapp_inPerSec.xlsx')\n",
    "df_kapp.index = df_kapp.id.to_list()\n",
    "\n",
    "cases = pd.read_csv('../input/data_list_batch.txt', sep='\\t')\n",
    "cases = cases.data_id.to_list()\n",
    "df_kapp = df_kapp.loc[:, cases]"
   ]
  },
  {
   "cell_type": "code",
   "execution_count": 8,
   "metadata": {},
   "outputs": [],
   "source": [
    "vivo_0 = pd.core.series.Series(dtype='float64')\n",
    "for i in df_kapp.index:\n",
    "    vals = [v for v in df_kapp.loc[i,:] if pd.isnull(v) == False]\n",
    "    if vals != []:\n",
    "        vivo_0[i] = np.max(vals)"
   ]
  },
  {
   "cell_type": "code",
   "execution_count": 9,
   "metadata": {},
   "outputs": [],
   "source": [
    "df_kcat = pd.read_excel('../input/rxn_enz_kcat_kapp.xlsx')\n",
    "idx = [df_kcat.rxn_id[i] + '_' + df_kcat.direction[i] for i in df_kcat.index]\n",
    "df_kcat.index = idx\n",
    "df = df_kcat[df_kcat['kcat_invitro (1/s)'].isnull() == False]\n",
    "df = df[df.organism.str.contains('saccharomyces cerevisiae', case=False)]\n",
    "idx = df.index.to_list()\n",
    "\n",
    "vitro_0 = pd.core.series.Series(dtype='float64')\n",
    "for i in idx:\n",
    "    vitro_0[df_kcat.rxn_id[i] + '_' + df_kcat.direction[i]] = df_kcat.loc[i, 'kcat_invitro (1/s)']"
   ]
  },
  {
   "cell_type": "code",
   "execution_count": 10,
   "metadata": {},
   "outputs": [],
   "source": [
    "df_note = pd.read_excel('../input/vivo_efficient_literature_records.xlsx')\n",
    "df_note.index = df_note.Reaction.to_list()\n",
    "df_note = df_note[df_note.evidence != 'None']"
   ]
  },
  {
   "cell_type": "code",
   "execution_count": 15,
   "metadata": {},
   "outputs": [
    {
     "data": {
      "image/png": "[encoded data removed]",
      "text/plain": [
       "<Figure size 360x360 with 1 Axes>"
      ]
     },
     "metadata": {
      "needs_background": "light"
     },
     "output_type": "display_data"
    }
   ],
   "source": [
    "idx = sorted(list(set(vivo_0.index) & set(vitro_0.index)))\n",
    "vivo_act = df_note[df_note.activation.isnull() == False].index.to_list()\n",
    "vivo_channel = df_note[df_note.channeling.isnull() == False].index.to_list()\n",
    "\n",
    "vivo_act = [i for i in vivo_act if i in idx]\n",
    "vivo_channel = [i for i in vivo_channel if i in idx]\n",
    "vivo_none = [i for i in idx if i not in vivo_act+vivo_channel]\n",
    "\n",
    "fig,ax = plt.subplots(figsize=(5,5))\n",
    "alpha = 0.7\n",
    "\n",
    "vivos = [vivo_act, vivo_channel, vivo_none]\n",
    "colors = ['#d50000', '#ffd600', '#9e9e9e']\n",
    "\n",
    "for i in range(0, len(vivos)):\n",
    "    vivo = np.log10(vivo_0[vivos[i]])\n",
    "    vitro = np.log10(vitro_0[vivos[i]])\n",
    "    ax.scatter(vitro, vivo, color=colors[i], edgecolor='k', alpha=alpha, zorder=5-i);\n",
    "\n",
    "lims = [-3,6.5]\n",
    "ticks = [-2, 0, 2, 4, 6]\n",
    "ticklabels = ['$10^{' + str(i) + '}$' for i in ticks]\n",
    "ax.set_xlim(lims);\n",
    "ax.set_xticks(ticks)\n",
    "ax.set_xticklabels(ticklabels, fontsize=16)\n",
    "ax.set_ylim(lims);\n",
    "ax.set_yticks(ticks)\n",
    "ax.set_yticklabels(ticklabels, fontsize=16)\n",
    "\n",
    "ax.text(-2.5, 5.8, 'n = 100', fontsize=16)\n",
    "\n",
    "line = mlines.Line2D([-3, 7], [-3, 7], color='k', linestyle='--', zorder=0)\n",
    "ax.add_line(line);\n",
    "\n",
    "ax.set_xlabel('$in$ $vitro$ $k_{cat}$ [s$^{-1}$]', fontsize=16);\n",
    "ax.set_ylabel('$in$ $vivo$ $k_{app}$ [s$^{-1}$]', fontsize=16);\n",
    "\n",
    "handles = [mlines.Line2D([], [], color='#d50000', lw=0, marker='o', markeredgecolor='k', alpha=alpha),\n",
    "           mlines.Line2D([], [], color='#ffd600', lw=0, marker='o', markeredgecolor='k', alpha=alpha),\n",
    "           mlines.Line2D([], [], color='#9e9e9e', lw=0, marker='o', markeredgecolor='k', alpha=alpha)]\n",
    "legend_labels = ['Enzyme activation', 'Substrate channeling', 'Above features not found']\n",
    "ax.legend(handles, legend_labels, ncol=1, bbox_to_anchor=(0.35,0.28), fontsize=12);\n",
    "\n",
    "plt.savefig('./figures/kapp_all_vivo_vs_vitro_scatter.png', transparent=True, bbox_inches='tight')"
   ]
  },
  {
   "cell_type": "code",
   "execution_count": 51,
   "metadata": {},
   "outputs": [
    {
     "data": {
      "text/plain": [
       "133.882751038822"
      ]
     },
     "execution_count": 51,
     "metadata": {},
     "output_type": "execute_result"
    }
   ],
   "source": [
    "vivo_0['G6PDH2i_c_FWD']"
   ]
  },
  {
   "cell_type": "code",
   "execution_count": 44,
   "metadata": {},
   "outputs": [
    {
     "data": {
      "text/plain": [
       "1500.0"
      ]
     },
     "execution_count": 44,
     "metadata": {},
     "output_type": "execute_result"
    }
   ],
   "source": [
    "vitro_0['FECOOR_m_FWD']"
   ]
  },
  {
   "cell_type": "code",
   "execution_count": null,
   "metadata": {},
   "outputs": [],
   "source": []
  },
  {
   "cell_type": "code",
   "execution_count": 25,
   "metadata": {},
   "outputs": [
    {
     "data": {
      "text/plain": [
       "487.0"
      ]
     },
     "execution_count": 25,
     "metadata": {},
     "output_type": "execute_result"
    }
   ],
   "source": [
    "i in viv"
   ]
  },
  {
   "cell_type": "code",
   "execution_count": 48,
   "metadata": {
    "scrolled": true
   },
   "outputs": [
    {
     "name": "stdout",
     "output_type": "stream",
     "text": [
      "FECOOR_m_FWD\tferrocytochrome-c:oxygen oxidoreductase\t(COX1 and COX2 and COX3 and COX9 and CYC7 and COX4 and COX13 and COX6 and COX5B and COX12 and COX8 and COX7) or (COX1 and COX2 and COX3 and COX9 and CYC7 and COX4 and COX13 and COX6 and COX12 and COX8 and COX7 and COX5A) or (COX1 and COX2 and COX3 and COX9 and COX4 and COX13 and COX6 and COX5B and CYC1 and COX12 and COX8 and COX7) or (COX1 and COX2 and COX3 and COX9 and COX4 and COX13 and COX6 and CYC1 and COX12 and COX8 and COX7 and COX5A) or (COX1 and COX2 and COX3 and COX9 and COX23 and COX20 and COX18 and COX16 and COX11 and COX19)\t812.559293223925\t375.0\n"
     ]
    }
   ],
   "source": [
    "i = 'FECOOR_m_FWD'\n",
    "v_vitro = vitro_0[i]\n",
    "rxn = i[:-4]\n",
    "name = model.reactions.get_by_id(rxn).name\n",
    "gpr = model.reactions.get_by_id(rxn).gene_name_reaction_rule\n",
    "\n",
    "if i in vivo_0.index:\n",
    "    v_vivo = vivo_0[i]\n",
    "    print('\\t'.join([i, name, gpr, str(v_vivo), str(v_vitro)]))"
   ]
  },
  {
   "cell_type": "code",
   "execution_count": 12,
   "metadata": {
    "scrolled": true
   },
   "outputs": [
    {
     "name": "stdout",
     "output_type": "stream",
     "text": [
      "13GS_c_FWD\t1,3-beta-glucan synthase\t(FKS1 and ) or (GSC2 and )\t38.6142772467268\t0.55\n",
      "ACGAMPM_c_FWD\tphosphoacetylglucosamine mutase\tPCM1\t5.1919900551619\t1.79\n",
      "ACGK_m_FWD\tacetylglutamate kinase\tARG5,6\t10.4666030542428\t7.7\n",
      "ACOADS160_rm_FWD\tpalmitoyl-CoA desaturase (n-C16:0CoA -> n-C16:1CoA), ER membrane\tOLE1\t17.7752915856412\t0.35\n",
      "ACOADS180_rm_FWD\tstearoyl-CoA desaturase (n-C18:0CoA -> n-C18:1CoA), ER membrane\tOLE1\t17.7752915856412\t0.35\n",
      "ALATA_L_m_REV\tL-alanine transaminase\tALT1\t223.268235794451\t8.64\n",
      "ALATRS_c_FWD\talanyl-tRNA synthetase\tALA1\t6.73325189680004\t3.3\n",
      "ANPRT_c_FWD\tanthranilate phosphoribosyltransferase\tTRP4\t13.0083891407792\t2.9\n",
      "ATPS_m_FWD\tATP synthase\t(ATP8 and ATP6 and OLI1 and ATP1 and ATP3 and ATP16 and ATP5 and TIM11 and ATP17 and ATP2 and ATP7 and ATP14 and ATP18 and ATP4 and ATP15) or (ATP8 and ATP6 and OLI1 and ATP1 and ATP3 and ATP16 and ATP5 and ATP17 and ATP2 and ATP7 and ATP14 and ATP18 and ATP4 and ATP15 and ATP20) or (ATP8 and ATP6 and OLI1 and ATP1 and ATP3 and ATP16 and ATP5 and TIM11 and ATP17 and ATP2 and ATP7 and ATP14 and ATP18 and ATP4 and ATP15 and ATP12 and ATP10 and ATP11 and ATP19 and VMA9)\t5406.66466389179\t80.0\n",
      "BPNT_c_FWD\t3',5'-bisphosphate nucleotidase\tMET22\t27.0233972957981\t11.0\n",
      "CYSTGL_c_FWD\tcystathionine g-lyase\tCYS3\t28.3037738678348\t1.81\n",
      "DMATT_c_FWD\tdimethylallyltranstransferase\tERG20\t2.28709953048047\t1.4\n",
      "DPMVD_c_FWD\tmevalonate pyrophoshate decarboxylase\tMVD1\t15.903564390534\t4.9\n",
      "FBA_c_FWD\tfructose-bisphosphate aldolase\tFBA1\t63.6116894919321\t4.14\n",
      "FECRq6_m_FWD\tubiquinol:ferricytochrome c reductase\t(COB and COR1 and QCR7 and RIP1 and CYC7 and QCR6 and QCR9 and QCR10 and QCR8 and CYT1 and QCR2) or (COB and COR1 and QCR7 and RIP1 and QCR6 and QCR9 and QCR10 and QCR8 and CYC1 and CYT1 and QCR2)\t3970.34719528909\t82.0\n",
      "GAPD_c_FWD\tglyceraldehyde-3-phosphate dehydrogenase\tTDH3 or TDH1 or TDH2\t1006.52667017686\t29.0\n",
      "GLNTRS_c_FWD\tglutaminyl-tRNA synthetase\tGLN4\t5.93198551168446\t1.4\n",
      "GLUDy_c_FWD\tglutamate dehydrogenase (NADP)\tGDH3 or GDH1\t105.246949590089\t14.0\n",
      "GLUTRS_c_FWD\tglutamyl-tRNA synthetase\tGUS1 and \t22.1648294744598\t1.5\n",
      "GLYTRS_c_FWD\tglycyl-tRNA synthetase\tGRS1 or GRS2\t9.27138224503817\t0.73\n",
      "GRTT_c_FWD\tgeranyltranstransferase\tERG20\t2.28709953048047\t1.6\n",
      "GTPCI_c_FWD\tGTP cyclohydrolase I\tFOL2\t0.134952506359761\t0.039\n",
      "HCITS_m_FWD\thomocitrate synthase\tLYS21\t15.9043092833572\t0.617\n",
      "HEX1_c_FWD\thexokinase (D-glucose:ATP)\tYLR446W or GLK1 or HXK1 or HXK2\t315.573982094441\t1.67\n",
      "HISTRS_c_FWD\thistidyl-tRNA synthetase\tHTS1\t13.5724757359157\t0.42\n",
      "IG3PS_c_FWD\tImidazole-glycerol-3-phosphate synthase\tHIS7\t9.39751421368511\t5.2\n",
      "ILETRS_c_FWD\tisoleucyl-tRNA synthetase\tILS1\t6.79366142558795\t0.13\n",
      "IMPC_c_FWD\tinosine monophosphate cyclohydrolase\tADE16 or ADE17\t11.2719456919168\t8.6\n",
      "IPDDI_c_FWD\tisopentenyl-diphosphate D-isomerase\tIDI1\t11.861425800533\t8.27\n",
      "IPPS_m_FWD\t2-isopropylmalate synthase\tLEU4\t32.1574737360187\t13.79\n",
      "lumpFACS160_c_FWD\tfatty-acyl-CoA synthase (n-C16:0CoA)\tFAS1 and FAS2\t14.3018931809926\t2.0\n",
      "lumpFACS180_c_FWD\tfatty-acyl-CoA synthase (n-C18:0CoA)\tFAS1 and FAS2\t14.3018931809926\t2.0\n",
      "METS_c_FWD\tmethionine synthase\tMET6\t0.408641704774613\t0.33\n",
      "METTRS_c_FWD\tmethionyl-tRNA synthetase\tMES1 and \t11.1159377365943\t6.0\n",
      "NADHq6_m_FWD\tNADH:ubiquinone oxidoreductase\tNDI1\t1949.95791561419\t550.0\n",
      "NDPK1_c_FWD\tnucleoside diphosphate kinase\tYNK1\t1729.53881760915\t13.3\n",
      "NDPK2_c_FWD\tnucleoside-diphosphate kinase (ATP:UDP)\tYNK1\t1729.53881760915\t13.3\n",
      "NDPK3_c_FWD\tnucleoside diphosphate kinase\tYNK1\t1729.53881760915\t13.3\n",
      "NDPK4_c_FWD\tnucleoside diphosphate kinase\tYNK1\t1729.53881760915\t13.3\n",
      "NDPK5_c_FWD\tnucleoside diphosphate kinase\tYNK1\t1729.53881760915\t13.3\n",
      "NDPK7_c_FWD\tnucleoside diphosphate kinase\tYNK1\t1729.53881760915\t13.3\n",
      "NDPK8_c_FWD\tnucleoside diphosphate kinase\tYNK1\t1729.53881760915\t13.3\n",
      "PC_c_FWD\tpyruvate carboxylase\tPYC2 or PYC1\t1609.0930915597\t60.0\n",
      "PFK_c_FWD\tphosphofructokinase\tPFK2 or (PFK1 and PFK2)\t1756.02137128192\t210.0\n",
      "PPA_m_FWD\tinorganic diphosphatase\tPPA2\t9025.87398512186\t260.0\n",
      "PPND2_c_FWD\tprephenate dehydrogenase (NADP)\tTYR1\t329.378897976207\t26.3\n",
      "PPNDH_c_FWD\tprephenate dehydratase\tPHA2\t49.3940357246979\t32.2\n",
      "PRFGS_c_FWD\t5'-phosphoribosylformyl glycinamidine synthetase\tADE6\t6.59007823758563\t2.5\n",
      "PSERT_c_FWD\tphosphoserine transaminase\tSER1\t21.4033217177018\t2.49\n",
      "PYRDC_c_FWD\tpyruvate decarboxylase\tPDC6 or PDC1 or PDC5\t612.055417437769\t207.0\n",
      "SERTRS_c_FWD\tseryl-tRNA synthetase\tSES1 or DIA4\t11.6485486781846\t0.99\n",
      "SUCDq6_m_FWD\tsuccinate dehydrogenase (ubiquinone-6)\t(SDH4 and SDH9 and SDH3 and SDH2) or (SDH4 and SDH3 and SDH1 and SDH2)\t1046.89990349572\t60.0\n",
      "SUCOAS_m_FWD\tsuccinate-CoA ligase (ADP-forming)\tLSC2 and LSC1\t513.695044336117\t201.0\n",
      "THRTRS_c_FWD\tthreonyl-tRNA synthetase\tTHS1\t5.25548990631436\t3.32\n",
      "VALTRS_c_FWD\tvalyl-tRNA synthetase\tVAS1\t9.50081536708926\t0.2\n"
     ]
    }
   ],
   "source": [
    "for i in vitro_0.index:\n",
    "    v_vitro = vitro_0[i]\n",
    "    rxn = i[:-4]\n",
    "    name = model.reactions.get_by_id(rxn).name\n",
    "    gpr = model.reactions.get_by_id(rxn).gene_name_reaction_rule\n",
    "    \n",
    "    if i in vivo_0.index:\n",
    "        v_vivo = vivo_0[i]\n",
    "        if v_vivo > 1.1*v_vitro:\n",
    "            print('\\t'.join([i, name, gpr, str(v_vivo), str(v_vitro)]))"
   ]
  },
  {
   "cell_type": "code",
   "execution_count": null,
   "metadata": {},
   "outputs": [],
   "source": []
  },
  {
   "cell_type": "code",
   "execution_count": 32,
   "metadata": {},
   "outputs": [
    {
     "name": "stdout",
     "output_type": "stream",
     "text": [
      "Using license file /home/hvdinh16/Workspace/Softwares/gurobi910/linux64/gurobi.lic\n",
      "Academic license - for non-commercial use only - expires 2022-08-08\n"
     ]
    }
   ],
   "source": [
    "import cobra\n",
    "model = cobra.io.load_json_model('../../build_GAMS_model/input/GSM_y834_hvd_v6_rba.json')"
   ]
  },
  {
   "cell_type": "code",
   "execution_count": 34,
   "metadata": {},
   "outputs": [
    {
     "data": {
      "text/html": [
       "\n",
       "        <table>\n",
       "            <tr>\n",
       "                <td><strong>Reaction identifier</strong></td><td>GLUTRS_c</td>\n",
       "            </tr><tr>\n",
       "                <td><strong>Name</strong></td><td>glutamyl-tRNA synthetase</td>\n",
       "            </tr><tr>\n",
       "                <td><strong>Memory address</strong></td>\n",
       "                <td>0x07f8e49c66d10</td>\n",
       "            </tr><tr>\n",
       "                <td><strong>Stoichiometry</strong></td>\n",
       "                <td>\n",
       "                    <p style='text-align:right'>atp_c + glu__L_c + trnaglu_c --> amp_c + glutrna_c + ppi_c</p>\n",
       "                    <p style='text-align:right'>ATP [cytoplasm] + L-glutamate [cytoplasm] + tRNA(Glu) [cytoplasm] --> AMP [cytoplasm] + Glu-tRNA(Glu) [cytoplasm] + diphosphate [cytoplasm]</p>\n",
       "                </td>\n",
       "            </tr><tr>\n",
       "                <td><strong>GPR</strong></td><td>YGL245W and YGL105W</td>\n",
       "            </tr><tr>\n",
       "                <td><strong>Lower bound</strong></td><td>0.0</td>\n",
       "            </tr><tr>\n",
       "                <td><strong>Upper bound</strong></td><td>1000.0</td>\n",
       "            </tr>\n",
       "        </table>\n",
       "        "
      ],
      "text/plain": [
       "<Reaction GLUTRS_c at 0x7f8e49c66d10>"
      ]
     },
     "execution_count": 34,
     "metadata": {},
     "output_type": "execute_result"
    }
   ],
   "source": [
    "model.reactions.GLUTRS_c"
   ]
  },
  {
   "cell_type": "code",
   "execution_count": null,
   "metadata": {},
   "outputs": [],
   "source": []
  },
  {
   "cell_type": "code",
   "execution_count": 60,
   "metadata": {
    "scrolled": false
   },
   "outputs": [
    {
     "name": "stdout",
     "output_type": "stream",
     "text": [
      "13GS_c_FWD\tCarbohydrate metabolism\t475.3\n",
      "ACGAMPM_c_FWD\tCarbohydrate metabolism\t10.6\n",
      "ACOADS160_rm_FWD\tFatty acid metabolism\t241.9\n",
      "ACOADS180_rm_FWD\tFatty acid metabolism\t241.9\n",
      "ALATA_L_m_REV\tAmino acid metabolism\t130.3\n",
      "ALATRS_c_FWD\ttRNA charging\t12.5\n",
      "ANPRT_c_FWD\tAmino acid metabolism\t32.6\n",
      "ATPS_m_FWD\tCitric acid cycle and energy metabolism\t761.8\n",
      "BPNT_c_FWD\tOther metabolism\t12.5\n",
      "CYSTGL_c_FWD\tAmino acid metabolism\t12.1\n",
      "DMATT_c_FWD\tLipid metabolism\t12.5\n",
      "DPMVD_c_FWD\tLipid metabolism\t18.4\n",
      "FBA_c_FWD\tGlycolytic pathways\t84.3\n",
      "FECRq6_m_FWD\tCitric acid cycle and energy metabolism\t910.5\n",
      "GAPD_c_FWD\tGlycolytic pathways\t65.9\n",
      "GLNTRS_c_FWD\ttRNA charging\t23.8\n",
      "GLUDy_c_FWD\tAmino acid metabolism\t100.5\n",
      "GLUTRS_c_FWD\ttRNA charging\t42.4\n",
      "GLYOX_c_FWD\tOther metabolism\t10.2\n",
      "GLYTRS_c_FWD\ttRNA charging\t71.4\n",
      "GRTT_c_FWD\tLipid metabolism\t10.9\n",
      "GTPCI_c_FWD\tCofactor biosynthesis and metabolism\t35.8\n",
      "HCITS_m_FWD\tAmino acid metabolism\t80.8\n",
      "HEX1_c_FWD\tGlycolytic pathways\t736.8\n",
      "HISTRS_c_FWD\ttRNA charging\t83.0\n",
      "ILETRS_c_FWD\ttRNA charging\t193.8\n",
      "LGTHL_c_FWD\tOther metabolism\t10.9\n",
      "NADHK1_c_FWD\tCofactor biosynthesis and metabolism\t375.7\n",
      "NDPK1_c_FWD\tNucleotide metabolism\t525.4\n",
      "ORNDC_c_FWD\tAmino acid metabolism\t7743.6\n",
      "ORNTA_c_FWD\tAmino acid metabolism\t51.3\n",
      "PC_c_FWD\tGlycolytic pathways\t12.8\n",
      "PFK_c_FWD\tGlycolytic pathways\t32.0\n",
      "PPA_m_FWD\tCitric acid cycle and energy metabolism\t462.0\n",
      "PPND2_c_FWD\tAmino acid metabolism\t28.0\n",
      "PPNDH_c_FWD\tAmino acid metabolism\t12.4\n",
      "PSERT_c_FWD\tAmino acid metabolism\t285.8\n",
      "RLFC2O_m_FWD\tGlycolytic pathways\t16.9\n",
      "SAM24MT_c_FWD\tLipid metabolism\t646.7\n",
      "SERTRS_c_FWD\ttRNA charging\t46.3\n",
      "SUCDq6_m_FWD\tCitric acid cycle and energy metabolism\t184.1\n",
      "SUCOAS_m_FWD\tCitric acid cycle and energy metabolism\t48.9\n",
      "TYRTRS_c_FWD\ttRNA charging\t12.6\n",
      "VALTRS_c_FWD\ttRNA charging\t122.0\n",
      "lumpFACS160_c_FWD\tFatty acid metabolism\t16.5\n"
     ]
    }
   ],
   "source": [
    "idx_check = x[x > 1].index\n",
    "for i in idx_check:\n",
    "    print('\\t'.join([i, df_kcat.subsystem_group1p5[i], str(round(10**x[i],1))]))"
   ]
  },
  {
   "cell_type": "code",
   "execution_count": null,
   "metadata": {},
   "outputs": [],
   "source": []
  },
  {
   "cell_type": "code",
   "execution_count": null,
   "metadata": {},
   "outputs": [],
   "source": []
  },
  {
   "cell_type": "code",
   "execution_count": 15,
   "metadata": {},
   "outputs": [
    {
     "data": {
      "text/plain": [
       "['13GS_c_FWD',\n",
       " 'AASADy_c_FWD',\n",
       " 'AATA_c_FWD',\n",
       " 'ACGAMPM_c_FWD',\n",
       " 'ACGK_m_FWD',\n",
       " 'ACOADS160_rm_FWD',\n",
       " 'ACOADS180_rm_FWD',\n",
       " 'ADNK1_c_FWD',\n",
       " 'ALATA_L_m_REV',\n",
       " 'ALATRS_c_FWD',\n",
       " 'ALCD2i1_c_FWD',\n",
       " 'ANPRT_c_FWD',\n",
       " 'ARGTRS_c_FWD',\n",
       " 'ASNTRS_c_FWD',\n",
       " 'ASPK_c_FWD',\n",
       " 'ASPTRS_c_FWD',\n",
       " 'ATPPRT_c_FWD',\n",
       " 'ATPS_m_FWD',\n",
       " 'BPNT_c_FWD',\n",
       " 'CDPDAGS_rm_FWD',\n",
       " 'CHLPCTD_c_FWD',\n",
       " 'CHOLK_c_FWD',\n",
       " 'CHORM_c_FWD',\n",
       " 'CS_m_FWD',\n",
       " 'CYSTGL_c_FWD',\n",
       " 'CYSTRS_c_FWD',\n",
       " 'CYSTS_c_FWD',\n",
       " 'DHFRi_c_FWD',\n",
       " 'DHNPA2i_m_FWD',\n",
       " 'DHORDfum_c_FWD',\n",
       " 'DMATT_c_FWD',\n",
       " 'DOLPMT_c_FWD',\n",
       " 'DPMVD_c_FWD',\n",
       " 'DTMPK_c_FWD',\n",
       " 'DUTPDP_c_FWD',\n",
       " 'ENO_c_FWD',\n",
       " 'FBA_c_FWD',\n",
       " 'FECRq6_m_FWD',\n",
       " 'FKYNH_c_FWD',\n",
       " 'GALUi_c_FWD',\n",
       " 'GAPD_c_FWD',\n",
       " 'GF6PTA_c_FWD',\n",
       " 'GK1_c_FWD',\n",
       " 'GLNS_c_FWD',\n",
       " 'GLNTRS_c_FWD',\n",
       " 'GLUDy_c_FWD',\n",
       " 'GLUTRS_c_FWD',\n",
       " 'GLYOX_c_FWD',\n",
       " 'GLYTRS_c_FWD',\n",
       " 'GRTT_c_FWD',\n",
       " 'GTHO_c_FWD',\n",
       " 'GTPCI_c_FWD',\n",
       " 'HCITS_m_FWD',\n",
       " 'HCO3E_c_FWD',\n",
       " 'HEX1_c_FWD',\n",
       " 'HICITD_m_FWD',\n",
       " 'HISTD_c_FWD',\n",
       " 'HISTRS_c_FWD',\n",
       " 'IG3PS_c_FWD',\n",
       " 'ILETRS_c_FWD',\n",
       " 'IMPC_c_FWD',\n",
       " 'IPDDI_c_FWD',\n",
       " 'IPPS_m_FWD',\n",
       " 'LEUTRS_c_FWD',\n",
       " 'LGTHL_c_FWD',\n",
       " 'MAN6PI_c_REV',\n",
       " 'METS_c_FWD',\n",
       " 'METTRS_c_FWD',\n",
       " 'NADHK1_c_FWD',\n",
       " 'NADHq6_m_FWD',\n",
       " 'NADS2_c_FWD',\n",
       " 'NAMNPP_c_FWD',\n",
       " 'NDPK1_c_FWD',\n",
       " 'NDPK2_c_FWD',\n",
       " 'NDPK3_c_FWD',\n",
       " 'NDPK4_c_FWD',\n",
       " 'NDPK5_c_FWD',\n",
       " 'NDPK7_c_FWD',\n",
       " 'NDPK8_c_FWD',\n",
       " 'OMPDC_c_FWD',\n",
       " 'ORNDC_c_FWD',\n",
       " 'ORNTA_c_FWD',\n",
       " 'PC_c_FWD',\n",
       " 'PFK_c_FWD',\n",
       " 'PGI_c_FWD',\n",
       " 'PGK_c_FWD',\n",
       " 'PGM_c_FWD',\n",
       " 'PHETRS_c_FWD',\n",
       " 'PLAA2pe_l_FWD',\n",
       " 'PPA_c_FWD',\n",
       " 'PPA_m_FWD',\n",
       " 'PPND2_c_FWD',\n",
       " 'PPNDH_c_FWD',\n",
       " 'PPYRDC_c_FWD',\n",
       " 'PRFGS_c_FWD',\n",
       " 'PROTRS_c_FWD',\n",
       " 'PSERT_c_FWD',\n",
       " 'PTPAT_c_FWD',\n",
       " 'PYK_c_FWD',\n",
       " 'PYRDC_c_FWD',\n",
       " 'RLFC2O_m_FWD',\n",
       " 'RPE_c_FWD',\n",
       " 'RPE_c_REV',\n",
       " 'SAM24MT_c_FWD',\n",
       " 'SERTRS_c_FWD',\n",
       " 'SHK3Di_c_FWD',\n",
       " 'SQLS_c_FWD',\n",
       " 'SUCDq6_m_FWD',\n",
       " 'SUCOAS_m_FWD',\n",
       " 'THRTRS_c_FWD',\n",
       " 'TKT1_c_FWD',\n",
       " 'TKT2_c_FWD',\n",
       " 'TPI_c_FWD',\n",
       " 'TRDR_c_FWD',\n",
       " 'TYRTRS_c_FWD',\n",
       " 'UAGDP_c_FWD',\n",
       " 'VALTRS_c_FWD',\n",
       " 'lumpFACS160_c_FWD']"
      ]
     },
     "execution_count": 15,
     "metadata": {},
     "output_type": "execute_result"
    }
   ],
   "source": [
    "idx"
   ]
  },
  {
   "cell_type": "code",
   "execution_count": 8,
   "metadata": {
    "scrolled": true
   },
   "outputs": [
    {
     "data": {
      "text/plain": [
       "GTHO_c_FWD   -2.650724\n",
       "dtype: float64"
      ]
     },
     "execution_count": 8,
     "metadata": {},
     "output_type": "execute_result"
    }
   ],
   "source": [
    "vivo[(vivo < -1)]"
   ]
  },
  {
   "cell_type": "code",
   "execution_count": 7,
   "metadata": {},
   "outputs": [
    {
     "data": {
      "text/plain": [
       "0.8521263980747535"
      ]
     },
     "execution_count": 7,
     "metadata": {},
     "output_type": "execute_result"
    }
   ],
   "source": [
    "vivo['SAM24MT_c_FWD']"
   ]
  },
  {
   "cell_type": "code",
   "execution_count": 17,
   "metadata": {},
   "outputs": [
    {
     "data": {
      "text/plain": [
       "13GS_c_FWD          -0.259637\n",
       "AASADy_c_FWD         1.620136\n",
       "AATA_c_FWD           1.264818\n",
       "ACGAMPM_c_FWD        0.252853\n",
       "ACGK_m_FWD           0.886491\n",
       "                       ...   \n",
       "TRDR_c_FWD           1.640481\n",
       "TYRTRS_c_FWD         0.783904\n",
       "UAGDP_c_FWD          1.187521\n",
       "VALTRS_c_FWD        -0.698970\n",
       "lumpFACS160_c_FWD    0.301030\n",
       "Length: 118, dtype: float64"
      ]
     },
     "execution_count": 17,
     "metadata": {},
     "output_type": "execute_result"
    }
   ],
   "source": [
    "vitro"
   ]
  },
  {
   "cell_type": "code",
   "execution_count": 10,
   "metadata": {},
   "outputs": [
    {
     "data": {
      "text/plain": [
       "13GS_c_FWD            0.55\n",
       "AASADy_c_FWD         41.70\n",
       "AATA_c_FWD           18.40\n",
       "ACGAMPM_c_FWD         1.79\n",
       "ACGK_m_FWD            7.70\n",
       "                     ...  \n",
       "TRDR_c_FWD           43.70\n",
       "TYRTRS_c_FWD          6.08\n",
       "UAGDP_c_FWD          15.40\n",
       "VALTRS_c_FWD          0.20\n",
       "lumpFACS160_c_FWD     2.00\n",
       "Length: 118, dtype: float64"
      ]
     },
     "execution_count": 10,
     "metadata": {},
     "output_type": "execute_result"
    }
   ],
   "source": [
    "vitro"
   ]
  },
  {
   "cell_type": "code",
   "execution_count": 6,
   "metadata": {},
   "outputs": [
    {
     "data": {
      "text/plain": [
       "['13GS_c_FWD',\n",
       " 'AASADy_c_FWD',\n",
       " 'AATA_c_FWD',\n",
       " 'ACGAMPM_c_FWD',\n",
       " 'ACGK_m_FWD',\n",
       " 'ACOADS160_rm_FWD',\n",
       " 'ACOADS180_rm_FWD',\n",
       " 'ADNK1_c_FWD',\n",
       " 'ALATA_L_m_REV',\n",
       " 'ALATRS_c_FWD',\n",
       " 'ALCD2i1_c_FWD',\n",
       " 'ANPRT_c_FWD',\n",
       " 'ARGTRS_c_FWD',\n",
       " 'ASNTRS_c_FWD',\n",
       " 'ASPK_c_FWD',\n",
       " 'ASPTRS_c_FWD',\n",
       " 'ATPPRT_c_FWD',\n",
       " 'ATPS_m_FWD',\n",
       " 'BPNT_c_FWD',\n",
       " 'CDPDAGS_rm_FWD',\n",
       " 'CHLPCTD_c_FWD',\n",
       " 'CHOLK_c_FWD',\n",
       " 'CHORM_c_FWD',\n",
       " 'CS_m_FWD',\n",
       " 'CYSTGL_c_FWD',\n",
       " 'CYSTRS_c_FWD',\n",
       " 'CYSTS_c_FWD',\n",
       " 'DHFRi_c_FWD',\n",
       " 'DHNPA2i_m_FWD',\n",
       " 'DHORDfum_c_FWD',\n",
       " 'DMATT_c_FWD',\n",
       " 'DOLPMT_c_FWD',\n",
       " 'DPMVD_c_FWD',\n",
       " 'DTMPK_c_FWD',\n",
       " 'DUTPDP_c_FWD',\n",
       " 'ENO_c_FWD',\n",
       " 'FBA_c_FWD',\n",
       " 'FECRq6_m_FWD',\n",
       " 'FKYNH_c_FWD',\n",
       " 'GALUi_c_FWD',\n",
       " 'GAPD_c_FWD',\n",
       " 'GF6PTA_c_FWD',\n",
       " 'GK1_c_FWD',\n",
       " 'GLNS_c_FWD',\n",
       " 'GLNTRS_c_FWD',\n",
       " 'GLUDy_c_FWD',\n",
       " 'GLUTRS_c_FWD',\n",
       " 'GLYOX_c_FWD',\n",
       " 'GLYTRS_c_FWD',\n",
       " 'GRTT_c_FWD',\n",
       " 'GTHO_c_FWD',\n",
       " 'GTPCI_c_FWD',\n",
       " 'HCITS_m_FWD',\n",
       " 'HCO3E_c_FWD',\n",
       " 'HEX1_c_FWD',\n",
       " 'HICITD_m_FWD',\n",
       " 'HISTD_c_FWD',\n",
       " 'HISTRS_c_FWD',\n",
       " 'IG3PS_c_FWD',\n",
       " 'ILETRS_c_FWD',\n",
       " 'IMPC_c_FWD',\n",
       " 'IPDDI_c_FWD',\n",
       " 'IPPS_m_FWD',\n",
       " 'LEUTRS_c_FWD',\n",
       " 'LGTHL_c_FWD',\n",
       " 'MAN6PI_c_REV',\n",
       " 'METS_c_FWD',\n",
       " 'METTRS_c_FWD',\n",
       " 'NADHK1_c_FWD',\n",
       " 'NADHq6_m_FWD',\n",
       " 'NADS2_c_FWD',\n",
       " 'NAMNPP_c_FWD',\n",
       " 'NDPK1_c_FWD',\n",
       " 'NDPK2_c_FWD',\n",
       " 'NDPK3_c_FWD',\n",
       " 'NDPK4_c_FWD',\n",
       " 'NDPK5_c_FWD',\n",
       " 'NDPK7_c_FWD',\n",
       " 'NDPK8_c_FWD',\n",
       " 'OMPDC_c_FWD',\n",
       " 'ORNDC_c_FWD',\n",
       " 'ORNTA_c_FWD',\n",
       " 'PC_c_FWD',\n",
       " 'PFK_c_FWD',\n",
       " 'PGI_c_FWD',\n",
       " 'PGK_c_FWD',\n",
       " 'PGM_c_FWD',\n",
       " 'PHETRS_c_FWD',\n",
       " 'PLAA2pe_l_FWD',\n",
       " 'PPA_c_FWD',\n",
       " 'PPA_m_FWD',\n",
       " 'PPND2_c_FWD',\n",
       " 'PPNDH_c_FWD',\n",
       " 'PPYRDC_c_FWD',\n",
       " 'PRFGS_c_FWD',\n",
       " 'PROTRS_c_FWD',\n",
       " 'PSERT_c_FWD',\n",
       " 'PTPAT_c_FWD',\n",
       " 'PYK_c_FWD',\n",
       " 'PYRDC_c_FWD',\n",
       " 'RLFC2O_m_FWD',\n",
       " 'RPE_c_FWD',\n",
       " 'RPE_c_REV',\n",
       " 'SAM24MT_c_FWD',\n",
       " 'SERTRS_c_FWD',\n",
       " 'SHK3Di_c_FWD',\n",
       " 'SQLS_c_FWD',\n",
       " 'SUCDq6_m_FWD',\n",
       " 'SUCOAS_m_FWD',\n",
       " 'THRTRS_c_FWD',\n",
       " 'TKT1_c_FWD',\n",
       " 'TKT2_c_FWD',\n",
       " 'TPI_c_FWD',\n",
       " 'TRDR_c_FWD',\n",
       " 'TYRTRS_c_FWD',\n",
       " 'UAGDP_c_FWD',\n",
       " 'VALTRS_c_FWD',\n",
       " 'lumpFACS160_c_FWD']"
      ]
     },
     "execution_count": 6,
     "metadata": {},
     "output_type": "execute_result"
    }
   ],
   "source": [
    "idx"
   ]
  },
  {
   "cell_type": "code",
   "execution_count": null,
   "metadata": {},
   "outputs": [],
   "source": []
  },
  {
   "cell_type": "code",
   "execution_count": null,
   "metadata": {},
   "outputs": [],
   "source": []
  },
  {
   "cell_type": "code",
   "execution_count": 7,
   "metadata": {},
   "outputs": [
    {
     "data": {
      "text/plain": [
       "118"
      ]
     },
     "execution_count": 7,
     "metadata": {},
     "output_type": "execute_result"
    }
   ],
   "source": [
    "len(idx)"
   ]
  },
  {
   "cell_type": "code",
   "execution_count": 35,
   "metadata": {},
   "outputs": [
    {
     "name": "stdout",
     "output_type": "stream",
     "text": [
      "Using license file /home/hvdinh16/Workspace/Softwares/gurobi910/linux64/gurobi.lic\n",
      "Academic license - for non-commercial use only - expires 2022-08-08\n"
     ]
    }
   ],
   "source": [
    "import cobra\n",
    "model = cobra.io.load_json_model('../../scRBA_build_GAMS_model/input/GSM_y834_hvd_v6_rba.json')"
   ]
  },
  {
   "cell_type": "code",
   "execution_count": 45,
   "metadata": {},
   "outputs": [
    {
     "name": "stdout",
     "output_type": "stream",
     "text": [
      "NDPK3_c atp_c + cdp_c --> adp_c + ctp_c\n",
      "NDPK8_c atp_c + dadp_c --> adp_c + datp_c\n",
      "NDPK7_c atp_c + dcdp_c --> adp_c + dctp_c\n",
      "NDPK5_c atp_c + dgdp_c --> adp_c + dgtp_c\n",
      "NDPK4_c atp_c + dtdp_c --> adp_c + dttp_c\n",
      "NDPK1_c atp_c + gdp_c --> adp_c + gtp_c\n",
      "NDPK9_c atp_c + idp_c --> adp_c + itp_c\n",
      "NDPK10_c atp_c + didp_c --> adp_c + ditp_c\n",
      "NDPK6_c atp_c + dudp_c --> adp_c + dutp_c\n",
      "NDPK2_c atp_c + udp_c --> adp_c + utp_c\n"
     ]
    }
   ],
   "source": [
    "for rxn in model.reactions:\n",
    "    if rxn.id[:4] == 'NDPK':\n",
    "        print(rxn.id, rxn.reaction)"
   ]
  },
  {
   "cell_type": "code",
   "execution_count": null,
   "metadata": {},
   "outputs": [],
   "source": []
  },
  {
   "cell_type": "code",
   "execution_count": null,
   "metadata": {},
   "outputs": [],
   "source": []
  },
  {
   "cell_type": "code",
   "execution_count": 63,
   "metadata": {},
   "outputs": [
    {
     "data": {
      "text/html": [
       "\n",
       "        <table>\n",
       "            <tr>\n",
       "                <td><strong>Reaction identifier</strong></td><td>BPNT_c</td>\n",
       "            </tr><tr>\n",
       "                <td><strong>Name</strong></td><td>3',5'-bisphosphate nucleotidase</td>\n",
       "            </tr><tr>\n",
       "                <td><strong>Memory address</strong></td>\n",
       "                <td>0x07efe176547d0</td>\n",
       "            </tr><tr>\n",
       "                <td><strong>Stoichiometry</strong></td>\n",
       "                <td>\n",
       "                    <p style='text-align:right'>h2o_c + pap_c --> amp_c + pi_c</p>\n",
       "                    <p style='text-align:right'>H2O [cytoplasm] + adenosine 3',5'-bismonophosphate [cytoplasm] --> AMP [cytoplasm] + phosphate [cytoplasm]</p>\n",
       "                </td>\n",
       "            </tr><tr>\n",
       "                <td><strong>GPR</strong></td><td>YOL064C</td>\n",
       "            </tr><tr>\n",
       "                <td><strong>Lower bound</strong></td><td>0.0</td>\n",
       "            </tr><tr>\n",
       "                <td><strong>Upper bound</strong></td><td>1000.0</td>\n",
       "            </tr>\n",
       "        </table>\n",
       "        "
      ],
      "text/plain": [
       "<Reaction BPNT_c at 0x7efe176547d0>"
      ]
     },
     "execution_count": 63,
     "metadata": {},
     "output_type": "execute_result"
    }
   ],
   "source": [
    "model.reactions.BPNT_c"
   ]
  },
  {
   "cell_type": "code",
   "execution_count": null,
   "metadata": {},
   "outputs": [],
   "source": []
  }
 ],
 "metadata": {
  "kernelspec": {
   "display_name": "Python 3",
   "language": "python",
   "name": "python3"
  },
  "language_info": {
   "codemirror_mode": {
    "name": "ipython",
    "version": 3
   },
   "file_extension": ".py",
   "mimetype": "text/x-python",
   "name": "python",
   "nbconvert_exporter": "python",
   "pygments_lexer": "ipython3",
   "version": "3.7.9"
  }
 },
 "nbformat": 4,
 "nbformat_minor": 4
}
