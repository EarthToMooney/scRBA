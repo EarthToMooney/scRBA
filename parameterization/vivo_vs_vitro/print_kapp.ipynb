{
 "cells": [
  {
   "cell_type": "code",
   "execution_count": 1,
   "metadata": {},
   "outputs": [],
   "source": [
    "import pandas as pd"
   ]
  },
  {
   "cell_type": "code",
   "execution_count": 2,
   "metadata": {},
   "outputs": [],
   "source": [
    "df_kapp = pd.read_excel('../../parameterization/results/kapp_inPerSec.xlsx')\n",
    "df_kapp.index = df_kapp.id.to_list()"
   ]
  },
  {
   "cell_type": "code",
   "execution_count": 6,
   "metadata": {},
   "outputs": [],
   "source": [
    "df_enzl = pd.read_excel('../../parameterization/analyze_kapp/enzLevel.xlsx')\n",
    "df_enzl.index = df_enzl.id.to_list()"
   ]
  },
  {
   "cell_type": "code",
   "execution_count": 11,
   "metadata": {},
   "outputs": [
    {
     "data": {
      "text/plain": [
       "id                                                                   YNL104C_m\n",
       "subsystem_group                                          Amino acid metabolism\n",
       "subsystem                          Valine, leucine and isoleucine biosynthesis\n",
       "Lahtvee2017_chemoEtoh1                                                     NaN\n",
       "Lahtvee2017_chemoEtoh2                                                     NaN\n",
       "Lahtvee2017_chemoEtoh3                                                     NaN\n",
       "Lahtvee2017_chemoNaCl1                                                     NaN\n",
       "Lahtvee2017_chemoNaCl2                                                     NaN\n",
       "Lahtvee2017_chemoNaCl3                                                     NaN\n",
       "Lahtvee2017_chemoRef                                                       NaN\n",
       "Lahtvee2017_chemoT1                                                        NaN\n",
       "Lahtvee2017_chemoT2                                                        NaN\n",
       "Lahtvee2017_chemoT3                                                        NaN\n",
       "Bjorkeroth2020_batchYNB                                               0.000192\n",
       "Bjorkeroth2020_batchYNBAA                                             0.000096\n",
       "Bjorkeroth2020_batchYNBAAanaero                                        0.00008\n",
       "Bjorkeroth2020_batchYNBanaero                                         0.000178\n",
       "Yu2020_chemoClim                                                      0.000264\n",
       "Yu2020_chemoNlimCN30                                                  0.000103\n",
       "Yu2020_chemoNlimCN50                                                  0.000095\n",
       "Yu2021_chemoClimGlnLowGlc_010                                          0.00114\n",
       "Yu2021_chemoClimGln_010                                               0.001018\n",
       "Yu2021_chemoClimIle_010                                               0.001148\n",
       "Yu2021_chemoClimNH4_010                                               0.001415\n",
       "Yu2021_chemoClimPhe_010                                               0.001666\n",
       "Yu2021_chemoNlimGln_010                                               0.000376\n",
       "Yu2021_chemoNlimIle_010                                               0.000446\n",
       "Yu2021_chemoNlimNH4_005                                               0.000277\n",
       "Yu2021_chemoNlimNH4_010                                               0.000323\n",
       "Yu2021_chemoNlimNH4_013                                               0.000346\n",
       "Yu2021_chemoNlimNH4_018                                               0.000466\n",
       "Yu2021_chemoNlimNH4_030                                               0.000634\n",
       "Yu2021_chemoNlimNH4_035                                               0.000688\n",
       "Yu2021_chemoNlimPhe_010                                                0.00038\n",
       "Elsemman2022_batchGal                                                 0.000402\n",
       "Elsemman2022_batchGlc                                                 0.000322\n",
       "Elsemman2022_batchGlcCyHx1                                            0.000416\n",
       "Elsemman2022_batchGlcCyHx2                                            0.000409\n",
       "Elsemman2022_batchGlcCyHx3                                            0.000342\n",
       "Elsemman2022_batchGlcCyHx4                                            0.000389\n",
       "Elsemman2022_batchMalt                                                0.000338\n",
       "Elsemman2022_batchTre                                                 0.000709\n",
       "Elsemman2022_chemoGlc020                                               0.00087\n",
       "Elsemman2022_chemoGlc023                                              0.000837\n",
       "Elsemman2022_chemoGlc027                                              0.000685\n",
       "Elsemman2022_chemoGlc030                                              0.000593\n",
       "Name: YNL104C_m, dtype: object"
      ]
     },
     "execution_count": 11,
     "metadata": {},
     "output_type": "execute_result"
    }
   ],
   "source": [
    "df_enzl.loc['YNL104C_m', :]"
   ]
  },
  {
   "cell_type": "code",
   "execution_count": null,
   "metadata": {},
   "outputs": [],
   "source": [
    "YBL099W and YJR121W and YBR039W and YDL004W and YPL271W and Q0085 and Q0080 and Q0130 and YPL078C and YDR298C and YKL016C and YDR377W and YLR295C and YML081C-A and YDR322C-A and YOL077W-A and YPR020W\n"
   ]
  },
  {
   "cell_type": "code",
   "execution_count": 12,
   "metadata": {
    "scrolled": true
   },
   "outputs": [
    {
     "data": {
      "text/plain": [
       "id                                                                   YOR108W\n",
       "subsystem_group                                        Amino acid metabolism\n",
       "subsystem                          Valine, leucine and isoleucine metabolism\n",
       "Lahtvee2017_chemoEtoh1                                              0.000006\n",
       "Lahtvee2017_chemoEtoh2                                                   NaN\n",
       "Lahtvee2017_chemoEtoh3                                                   NaN\n",
       "Lahtvee2017_chemoNaCl1                                                   NaN\n",
       "Lahtvee2017_chemoNaCl2                                                   NaN\n",
       "Lahtvee2017_chemoNaCl3                                                   NaN\n",
       "Lahtvee2017_chemoRef                                                     NaN\n",
       "Lahtvee2017_chemoT1                                                      NaN\n",
       "Lahtvee2017_chemoT2                                                      NaN\n",
       "Lahtvee2017_chemoT3                                                      NaN\n",
       "Bjorkeroth2020_batchYNB                                                  NaN\n",
       "Bjorkeroth2020_batchYNBAA                                                NaN\n",
       "Bjorkeroth2020_batchYNBAAanaero                                          NaN\n",
       "Bjorkeroth2020_batchYNBanaero                                            NaN\n",
       "Yu2020_chemoClim                                                         NaN\n",
       "Yu2020_chemoNlimCN30                                                     NaN\n",
       "Yu2020_chemoNlimCN50                                                     NaN\n",
       "Yu2021_chemoClimGlnLowGlc_010                                            NaN\n",
       "Yu2021_chemoClimGln_010                                                  NaN\n",
       "Yu2021_chemoClimIle_010                                                  NaN\n",
       "Yu2021_chemoClimNH4_010                                                  NaN\n",
       "Yu2021_chemoClimPhe_010                                                  NaN\n",
       "Yu2021_chemoNlimGln_010                                                  NaN\n",
       "Yu2021_chemoNlimIle_010                                                  NaN\n",
       "Yu2021_chemoNlimNH4_005                                                  NaN\n",
       "Yu2021_chemoNlimNH4_010                                                  NaN\n",
       "Yu2021_chemoNlimNH4_013                                                  NaN\n",
       "Yu2021_chemoNlimNH4_018                                                  NaN\n",
       "Yu2021_chemoNlimNH4_030                                                  NaN\n",
       "Yu2021_chemoNlimNH4_035                                                  NaN\n",
       "Yu2021_chemoNlimPhe_010                                                  NaN\n",
       "Elsemman2022_batchGal                                                    NaN\n",
       "Elsemman2022_batchGlc                                                    NaN\n",
       "Elsemman2022_batchGlcCyHx1                                               NaN\n",
       "Elsemman2022_batchGlcCyHx2                                               NaN\n",
       "Elsemman2022_batchGlcCyHx3                                               NaN\n",
       "Elsemman2022_batchGlcCyHx4                                               NaN\n",
       "Elsemman2022_batchMalt                                                   NaN\n",
       "Elsemman2022_batchTre                                                    NaN\n",
       "Elsemman2022_chemoGlc020                                                 NaN\n",
       "Elsemman2022_chemoGlc023                                                 NaN\n",
       "Elsemman2022_chemoGlc027                                                 NaN\n",
       "Elsemman2022_chemoGlc030                                                 NaN\n",
       "Name: YOR108W, dtype: object"
      ]
     },
     "execution_count": 12,
     "metadata": {},
     "output_type": "execute_result"
    }
   ],
   "source": [
    "df_enzl.loc['YOR108W', :]"
   ]
  },
  {
   "cell_type": "code",
   "execution_count": null,
   "metadata": {},
   "outputs": [],
   "source": []
  },
  {
   "cell_type": "code",
   "execution_count": 16,
   "metadata": {
    "scrolled": false
   },
   "outputs": [
    {
     "data": {
      "text/plain": [
       "id                                          MDH_m_FWD\n",
       "subsystem_group                    Central metabolism\n",
       "subsystem                           Citric acid cycle\n",
       "Lahtvee2017_chemoEtoh1                      13.890262\n",
       "Lahtvee2017_chemoEtoh2                       6.482057\n",
       "Lahtvee2017_chemoEtoh3                      14.572796\n",
       "Lahtvee2017_chemoNaCl1                         8.6273\n",
       "Lahtvee2017_chemoNaCl2                       7.464929\n",
       "Lahtvee2017_chemoNaCl3                      12.229433\n",
       "Lahtvee2017_chemoRef                         9.209767\n",
       "Lahtvee2017_chemoT1                          7.871847\n",
       "Lahtvee2017_chemoT2                          7.816095\n",
       "Lahtvee2017_chemoT3                          35.82682\n",
       "Bjorkeroth2020_batchYNB                    849.245024\n",
       "Bjorkeroth2020_batchYNBAA                  775.223063\n",
       "Bjorkeroth2020_batchYNBAAanaero                   NaN\n",
       "Bjorkeroth2020_batchYNBanaero              100.367315\n",
       "Yu2020_chemoClim                          2220.906374\n",
       "Yu2020_chemoNlimCN30                       3075.75726\n",
       "Yu2020_chemoNlimCN50                      1479.748223\n",
       "Yu2021_chemoClimGlnLowGlc_010                     NaN\n",
       "Yu2021_chemoClimGln_010                    105.753605\n",
       "Yu2021_chemoClimIle_010                    205.355027\n",
       "Yu2021_chemoClimNH4_010                     127.88329\n",
       "Yu2021_chemoClimPhe_010                    197.100985\n",
       "Yu2021_chemoNlimGln_010                    237.773029\n",
       "Yu2021_chemoNlimIle_010                    377.922341\n",
       "Yu2021_chemoNlimNH4_005                     392.01192\n",
       "Yu2021_chemoNlimNH4_010                    419.094983\n",
       "Yu2021_chemoNlimNH4_013                    336.538973\n",
       "Yu2021_chemoNlimNH4_018                    437.336314\n",
       "Yu2021_chemoNlimNH4_030                    397.045855\n",
       "Yu2021_chemoNlimNH4_035                    471.988137\n",
       "Yu2021_chemoNlimPhe_010                    433.896911\n",
       "Elsemman2022_batchGal                       47.601486\n",
       "Elsemman2022_batchGlc                       59.917116\n",
       "Elsemman2022_batchGlcCyHx1                   25.37778\n",
       "Elsemman2022_batchGlcCyHx2                  53.919785\n",
       "Elsemman2022_batchGlcCyHx3                  77.218045\n",
       "Elsemman2022_batchGlcCyHx4                  83.075104\n",
       "Elsemman2022_batchMalt                      23.597339\n",
       "Elsemman2022_batchTre                       10.841325\n",
       "Elsemman2022_chemoGlc020                    49.562309\n",
       "Elsemman2022_chemoGlc023                    52.013572\n",
       "Elsemman2022_chemoGlc027                    55.002807\n",
       "Elsemman2022_chemoGlc030                    47.925717\n",
       "Name: MDH_m_FWD, dtype: object"
      ]
     },
     "execution_count": 16,
     "metadata": {},
     "output_type": "execute_result"
    }
   ],
   "source": [
    "df_kapp.loc['MDH_m_FWD']"
   ]
  },
  {
   "cell_type": "code",
   "execution_count": null,
   "metadata": {},
   "outputs": [],
   "source": []
  }
 ],
 "metadata": {
  "kernelspec": {
   "display_name": "Python 3",
   "language": "python",
   "name": "python3"
  },
  "language_info": {
   "codemirror_mode": {
    "name": "ipython",
    "version": 3
   },
   "file_extension": ".py",
   "mimetype": "text/x-python",
   "name": "python",
   "nbconvert_exporter": "python",
   "pygments_lexer": "ipython3",
   "version": "3.7.9"
  }
 },
 "nbformat": 4,
 "nbformat_minor": 4
}
