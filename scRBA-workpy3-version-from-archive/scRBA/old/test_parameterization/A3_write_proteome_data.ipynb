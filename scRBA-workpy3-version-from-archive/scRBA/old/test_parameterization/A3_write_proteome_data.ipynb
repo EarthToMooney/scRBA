{
 "cells": [
  {
   "cell_type": "code",
   "execution_count": 1,
   "metadata": {},
   "outputs": [],
   "source": [
    "import pandas as pd\n",
    "\n",
    "import sys\n",
    "sys.path.append('../pycore/')\n",
    "from utils import metabolites_dict_from_reaction_equation_RBA"
   ]
  },
  {
   "cell_type": "code",
   "execution_count": 2,
   "metadata": {},
   "outputs": [],
   "source": [
    "#### LOAD INPUTS AND PARAMETERS\n",
    "# Stoichiometry\n",
    "df_eqn = pd.read_excel('../scRBA_build_GAMS_model/model/RBA_stoichiometry.xlsx')\n",
    "df_eqn.index = df_eqn.id.to_list()\n",
    "\n",
    "# Get proteins\n",
    "met_list_raw = []\n",
    "for i in df_eqn.index:\n",
    "    met_dict = metabolites_dict_from_reaction_equation_RBA(df_eqn.reaction[i])\n",
    "    met_list_raw += met_dict.keys()\n",
    "\n",
    "met_list = sorted(list(set(met_list_raw)))\n",
    "met_list = [i for i in met_list if i != '']\n",
    "met_list = [i for i in met_list if i.split('-', maxsplit=1)[0] in ['PRO']]"
   ]
  },
  {
   "cell_type": "code",
   "execution_count": 3,
   "metadata": {},
   "outputs": [],
   "source": [
    "df_data = pd.read_excel('./Bjorkeroth_Nielsen_2020_data.xlsx')\n",
    "df_data.index = df_data['id'].to_list()\n",
    "df_data = df_data[df_data['conc (g/gDW)'] > 0]"
   ]
  },
  {
   "cell_type": "code",
   "execution_count": 4,
   "metadata": {},
   "outputs": [],
   "source": [
    "data = []; pro_data = []; pro_nodata = []\n",
    "for met in met_list:\n",
    "    _,sid = met.split('-', maxsplit=1)\n",
    "    if sid in df_data.index:\n",
    "        pro_data.append(\"'PROIN-\" + sid + \"'\")\n",
    "        data.append(\"'PROIN-\" + sid + \"' \" + str(df_data.loc[sid, 'vtrans (mmol/gDW/h)']))\n",
    "    else:\n",
    "        pro_nodata.append(\"'PROIN-\" + sid + \"'\")\n",
    "        \n",
    "data = ['/'] + data + ['/']\n",
    "pro_data = ['/'] + pro_data + ['/']\n",
    "pro_nodata = ['/'] + pro_nodata + ['/']"
   ]
  },
  {
   "cell_type": "code",
   "execution_count": 5,
   "metadata": {},
   "outputs": [],
   "source": [
    "with open('./enz_from_proteome/proteome_data.txt', 'w') as f:\n",
    "    f.write('\\n'.join(data))"
   ]
  },
  {
   "cell_type": "code",
   "execution_count": 6,
   "metadata": {},
   "outputs": [],
   "source": [
    "with open('./enz_from_proteome/rxns_pro_data.txt', 'w') as f:\n",
    "    f.write('\\n'.join(pro_data))"
   ]
  },
  {
   "cell_type": "code",
   "execution_count": 7,
   "metadata": {},
   "outputs": [],
   "source": [
    "with open('./enz_from_proteome/rxns_pro_nodata.txt', 'w') as f:\n",
    "    f.write('\\n'.join(pro_nodata))"
   ]
  },
  {
   "cell_type": "code",
   "execution_count": null,
   "metadata": {},
   "outputs": [],
   "source": []
  }
 ],
 "metadata": {
  "kernelspec": {
   "display_name": "Python 3",
   "language": "python",
   "name": "python3"
  },
  "language_info": {
   "codemirror_mode": {
    "name": "ipython",
    "version": 3
   },
   "file_extension": ".py",
   "mimetype": "text/x-python",
   "name": "python",
   "nbconvert_exporter": "python",
   "pygments_lexer": "ipython3",
   "version": "3.7.9"
  }
 },
 "nbformat": 4,
 "nbformat_minor": 4
}
