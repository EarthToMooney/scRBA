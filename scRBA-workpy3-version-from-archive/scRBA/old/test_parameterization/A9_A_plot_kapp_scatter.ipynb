{
 "cells": [
  {
   "cell_type": "code",
   "execution_count": 1,
   "metadata": {},
   "outputs": [],
   "source": [
    "import pandas as pd\n",
    "import numpy as np\n",
    "import cobra\n",
    "\n",
    "import matplotlib.pyplot as plt\n",
    "import matplotlib.lines as mlines\n",
    "%matplotlib inline\n",
    "\n",
    "import sys\n",
    "sys.path.append('../pycore/')\n",
    "from utils import extract_details_from_rxnid"
   ]
  },
  {
   "cell_type": "markdown",
   "metadata": {},
   "source": [
    "#### Pathway"
   ]
  },
  {
   "cell_type": "code",
   "execution_count": 2,
   "metadata": {},
   "outputs": [],
   "source": [
    "df_pw = pd.read_excel('../scRBA_build_GAMS_model/input/GSM_pathway_assignment.xlsx')\n",
    "df_pw.index = df_pw.rxnid.to_list()"
   ]
  },
  {
   "cell_type": "markdown",
   "metadata": {},
   "source": [
    "#### Turnover numbers"
   ]
  },
  {
   "cell_type": "code",
   "execution_count": 3,
   "metadata": {},
   "outputs": [],
   "source": [
    "df_invitro = pd.read_excel('../scRBA_build_GAMS_model/input/PARAMS_kapp_compiled.xlsx')\n",
    "df_invitro.index = df_invitro.id.to_list()\n",
    "excl = ['SPONT', 'TRANSPORT', 'UNKNOWN', 'median_kcat']\n",
    "idx = [i for i in df_invitro.index if df_invitro.source[i] not in excl]\n",
    "df_invitro = df_invitro.loc[idx,:]"
   ]
  },
  {
   "cell_type": "code",
   "execution_count": 4,
   "metadata": {},
   "outputs": [],
   "source": [
    "with open('./kapps_in_vivo.txt') as f:\n",
    "    texts = f.read().split('\\n')[1:]\n",
    "invivo = dict()\n",
    "for i in texts:\n",
    "    k,v = i.split('\\t')\n",
    "    invivo[k] = float(v)"
   ]
  },
  {
   "cell_type": "code",
   "execution_count": 5,
   "metadata": {},
   "outputs": [],
   "source": [
    "rxns_common = set(invivo.keys()) & set(df_invitro.index)\n",
    "rxns_common = sorted(list(rxns_common))\n",
    "\n",
    "cols = ['rxnid', 'rxncore', 'subsystem_group', 'invitro', 'invivo']\n",
    "df_data = pd.DataFrame(index=rxns_common, columns=cols)\n",
    "df_data['rxnid'] = rxns_common\n",
    "\n",
    "for rxn in rxns_common:\n",
    "    _,rxncore,_,_ = extract_details_from_rxnid(rxn)\n",
    "    df_data.loc[rxn, 'rxncore'] = rxncore\n",
    "    df_data.loc[rxn, 'subsystem_group'] = df_pw.subsystem_group[rxncore]\n",
    "    df_data.loc[rxn, 'invitro'] = df_invitro.loc[rxn, 'kapp (1/s)']\n",
    "    df_data.loc[rxn, 'invivo'] = invivo[rxn]\n",
    "    \n",
    "for rxn in rxns_common:\n",
    "    if df_data.subsystem_group[rxn] in ['Other biosynthetic metabolism', 'Other metabolism']:\n",
    "        df_data.loc[rxn, 'subsystem_group'] = 'Other'"
   ]
  },
  {
   "cell_type": "code",
   "execution_count": 6,
   "metadata": {},
   "outputs": [
    {
     "data": {
      "text/plain": [
       "{'Amino acid metabolism',\n",
       " 'Central metabolism',\n",
       " 'Other',\n",
       " 'RNA metabolism',\n",
       " 'tRNA charging'}"
      ]
     },
     "execution_count": 6,
     "metadata": {},
     "output_type": "execute_result"
    }
   ],
   "source": [
    "set(df_data.subsystem_group)"
   ]
  },
  {
   "cell_type": "markdown",
   "metadata": {},
   "source": [
    "#### Scatter plot"
   ]
  },
  {
   "cell_type": "code",
   "execution_count": 7,
   "metadata": {},
   "outputs": [
    {
     "data": {
      "text/html": [
       "<div>\n",
       "<style scoped>\n",
       "    .dataframe tbody tr th:only-of-type {\n",
       "        vertical-align: middle;\n",
       "    }\n",
       "\n",
       "    .dataframe tbody tr th {\n",
       "        vertical-align: top;\n",
       "    }\n",
       "\n",
       "    .dataframe thead th {\n",
       "        text-align: right;\n",
       "    }\n",
       "</style>\n",
       "<table border=\"1\" class=\"dataframe\">\n",
       "  <thead>\n",
       "    <tr style=\"text-align: right;\">\n",
       "      <th></th>\n",
       "      <th>rxnid</th>\n",
       "      <th>rxncore</th>\n",
       "      <th>subsystem_group</th>\n",
       "      <th>invitro</th>\n",
       "      <th>invivo</th>\n",
       "    </tr>\n",
       "  </thead>\n",
       "  <tbody>\n",
       "    <tr>\n",
       "      <th>RXN-FECRq6_m_FWD-FECRq6CPLX</th>\n",
       "      <td>RXN-FECRq6_m_FWD-FECRq6CPLX</td>\n",
       "      <td>FECRq6_m</td>\n",
       "      <td>Central metabolism</td>\n",
       "      <td>110</td>\n",
       "      <td>1.70857e+06</td>\n",
       "    </tr>\n",
       "  </tbody>\n",
       "</table>\n",
       "</div>"
      ],
      "text/plain": [
       "                                                   rxnid   rxncore  \\\n",
       "RXN-FECRq6_m_FWD-FECRq6CPLX  RXN-FECRq6_m_FWD-FECRq6CPLX  FECRq6_m   \n",
       "\n",
       "                                subsystem_group invitro       invivo  \n",
       "RXN-FECRq6_m_FWD-FECRq6CPLX  Central metabolism     110  1.70857e+06  "
      ]
     },
     "execution_count": 7,
     "metadata": {},
     "output_type": "execute_result"
    }
   ],
   "source": [
    "df_data[(df_data.subsystem_group == 'Central metabolism') & (df_data.invivo > 10**6)]"
   ]
  },
  {
   "cell_type": "code",
   "execution_count": 41,
   "metadata": {},
   "outputs": [
    {
     "name": "stdout",
     "output_type": "stream",
     "text": [
      "Central metabolism 61\n",
      "Amino acid metabolism 98\n",
      "RNA metabolism 49\n",
      "tRNA charging 22\n",
      "Other 166\n"
     ]
    }
   ],
   "source": [
    "groups = ['Central metabolism', 'Amino acid metabolism', 'RNA metabolism',\n",
    "          'tRNA charging', 'Other']\n",
    "for g in groups:\n",
    "    print(g, df_data[df_data.subsystem_group == g].shape[0])"
   ]
  },
  {
   "cell_type": "code",
   "execution_count": 42,
   "metadata": {},
   "outputs": [
    {
     "data": {
      "image/png": "[encoded data removed]",
      "text/plain": [
       "<Figure size 360x360 with 1 Axes>"
      ]
     },
     "metadata": {
      "needs_background": "light"
     },
     "output_type": "display_data"
    }
   ],
   "source": [
    "idx = df_data.index\n",
    "vitro_vals = df_data.invitro[idx]\n",
    "vivo_vals = df_data.invivo[idx]\n",
    "\n",
    "vitro_vals = np.log10(vitro_vals.to_list())\n",
    "vivo_vals = np.log10(vivo_vals.to_list())\n",
    "\n",
    "fig,ax = plt.subplots(figsize=(5,5))\n",
    "ax.scatter(vitro_vals, vivo_vals, zorder=2, color='#2979ff', edgecolor='k', s=50, alpha=0.5)\n",
    "\n",
    "ticks = [-3, 0, 3, 6]; ticklabels = [str(i) for i in ticks]\n",
    "ax.set_xticks(ticks); ax.set_xticklabels(ticklabels, fontsize=24)\n",
    "ax.set_yticks(ticks); ax.set_yticklabels(ticklabels, fontsize=24)\n",
    "ax.set_xlim(-4,7);\n",
    "ax.set_ylim(-4,7);\n",
    "\n",
    "line = mlines.Line2D([-4,7], [-4,7], color='k', linestyle='--', zorder=1)\n",
    "ax.add_line(line);\n",
    "\n",
    "plt.savefig('./figures/vivo_vs_vitro_all.png', transparent=True, bbox_inches='tight')"
   ]
  },
  {
   "cell_type": "code",
   "execution_count": 35,
   "metadata": {},
   "outputs": [
    {
     "data": {
      "image/png": "[encoded data removed]",
      "text/plain": [
       "<Figure size 360x360 with 1 Axes>"
      ]
     },
     "metadata": {
      "needs_background": "light"
     },
     "output_type": "display_data"
    }
   ],
   "source": [
    "idx = df_data[df_data.subsystem_group == 'Central metabolism'].index\n",
    "vitro_vals = df_data.invitro[idx]\n",
    "vivo_vals = df_data.invivo[idx]\n",
    "\n",
    "vitro_vals = np.log10(vitro_vals.to_list())\n",
    "vivo_vals = np.log10(vivo_vals.to_list())\n",
    "\n",
    "fig,ax = plt.subplots(figsize=(5,5))\n",
    "ax.scatter(vitro_vals, vivo_vals, zorder=2, color='#2979ff', edgecolor='k', s=50, alpha=0.5)\n",
    "\n",
    "ticks = [-3, 0, 3, 6]; ticklabels = [str(i) for i in ticks]\n",
    "ax.set_xticks(ticks); ax.set_xticklabels(ticklabels, fontsize=24)\n",
    "ax.set_yticks(ticks); ax.set_yticklabels(ticklabels, fontsize=24)\n",
    "ax.set_xlim(-4,7);\n",
    "ax.set_ylim(-4,7);\n",
    "\n",
    "line = mlines.Line2D([-4,7], [-4,7], color='k', linestyle='--', zorder=1)\n",
    "ax.add_line(line);\n",
    "\n",
    "plt.savefig('./figures/vivo_vs_vitro_central.png', transparent=True, bbox_inches='tight')"
   ]
  },
  {
   "cell_type": "code",
   "execution_count": 36,
   "metadata": {},
   "outputs": [
    {
     "data": {
      "image/png": "[encoded data removed]",
      "text/plain": [
       "<Figure size 360x360 with 1 Axes>"
      ]
     },
     "metadata": {
      "needs_background": "light"
     },
     "output_type": "display_data"
    }
   ],
   "source": [
    "idx = df_data[df_data.subsystem_group == 'Amino acid metabolism'].index\n",
    "vitro_vals = df_data.invitro[idx]\n",
    "vivo_vals = df_data.invivo[idx]\n",
    "\n",
    "vitro_vals = np.log10(vitro_vals.to_list())\n",
    "vivo_vals = np.log10(vivo_vals.to_list())\n",
    "\n",
    "fig,ax = plt.subplots(figsize=(5,5))\n",
    "ax.scatter(vitro_vals, vivo_vals, zorder=2, color='#2979ff', edgecolor='k', s=50, alpha=0.5)\n",
    "\n",
    "ticks = [-3, 0, 3, 6]; ticklabels = [str(i) for i in ticks]\n",
    "ax.set_xticks(ticks); ax.set_xticklabels(ticklabels, fontsize=24)\n",
    "ax.set_yticks(ticks); ax.set_yticklabels(ticklabels, fontsize=24)\n",
    "ax.set_xlim(-4,7);\n",
    "ax.set_ylim(-4,7);\n",
    "\n",
    "line = mlines.Line2D([-4,7], [-4,7], color='k', linestyle='--', zorder=1)\n",
    "ax.add_line(line);\n",
    "\n",
    "plt.savefig('./figures/vivo_vs_vitro_aminoacid.png', transparent=True, bbox_inches='tight')"
   ]
  },
  {
   "cell_type": "code",
   "execution_count": 37,
   "metadata": {},
   "outputs": [
    {
     "data": {
      "image/png": "[encoded data removed]",
      "text/plain": [
       "<Figure size 360x360 with 1 Axes>"
      ]
     },
     "metadata": {
      "needs_background": "light"
     },
     "output_type": "display_data"
    }
   ],
   "source": [
    "idx = df_data[df_data.subsystem_group == 'RNA metabolism'].index\n",
    "vitro_vals = df_data.invitro[idx]\n",
    "vivo_vals = df_data.invivo[idx]\n",
    "\n",
    "vitro_vals = np.log10(vitro_vals.to_list())\n",
    "vivo_vals = np.log10(vivo_vals.to_list())\n",
    "\n",
    "fig,ax = plt.subplots(figsize=(5,5))\n",
    "ax.scatter(vitro_vals, vivo_vals, zorder=2, color='#2979ff', edgecolor='k', s=50, alpha=0.5)\n",
    "\n",
    "ticks = [-3, 0, 3, 6]; ticklabels = [str(i) for i in ticks]\n",
    "ax.set_xticks(ticks); ax.set_xticklabels(ticklabels, fontsize=24)\n",
    "ax.set_yticks(ticks); ax.set_yticklabels(ticklabels, fontsize=24)\n",
    "ax.set_xlim(-4,7);\n",
    "ax.set_ylim(-4,7);\n",
    "\n",
    "line = mlines.Line2D([-4,7], [-4,7], color='k', linestyle='--', zorder=1)\n",
    "ax.add_line(line);\n",
    "\n",
    "plt.savefig('./figures/vivo_vs_vitro_rna.png', transparent=True, bbox_inches='tight')"
   ]
  },
  {
   "cell_type": "code",
   "execution_count": 38,
   "metadata": {},
   "outputs": [
    {
     "data": {
      "image/png": "[encoded data removed]",
      "text/plain": [
       "<Figure size 360x360 with 1 Axes>"
      ]
     },
     "metadata": {
      "needs_background": "light"
     },
     "output_type": "display_data"
    }
   ],
   "source": [
    "idx = df_data[df_data.subsystem_group == 'tRNA charging'].index\n",
    "vitro_vals = df_data.invitro[idx]\n",
    "vivo_vals = df_data.invivo[idx]\n",
    "\n",
    "vitro_vals = np.log10(vitro_vals.to_list())\n",
    "vivo_vals = np.log10(vivo_vals.to_list())\n",
    "\n",
    "fig,ax = plt.subplots(figsize=(5,5))\n",
    "ax.scatter(vitro_vals, vivo_vals, zorder=2, color='#2979ff', edgecolor='k', s=50, alpha=0.5)\n",
    "\n",
    "ticks = [-3, 0, 3, 6]; ticklabels = [str(i) for i in ticks]\n",
    "ax.set_xticks(ticks); ax.set_xticklabels(ticklabels, fontsize=24)\n",
    "ax.set_yticks(ticks); ax.set_yticklabels(ticklabels, fontsize=24)\n",
    "ax.set_xlim(-4,7);\n",
    "ax.set_ylim(-4,7);\n",
    "\n",
    "line = mlines.Line2D([-4,7], [-4,7], color='k', linestyle='--', zorder=1)\n",
    "ax.add_line(line);\n",
    "\n",
    "plt.savefig('./figures/vivo_vs_vitro_trnacharging.png', transparent=True, bbox_inches='tight')"
   ]
  },
  {
   "cell_type": "code",
   "execution_count": 39,
   "metadata": {},
   "outputs": [
    {
     "data": {
      "image/png": "[encoded data removed]",
      "text/plain": [
       "<Figure size 360x360 with 1 Axes>"
      ]
     },
     "metadata": {
      "needs_background": "light"
     },
     "output_type": "display_data"
    }
   ],
   "source": [
    "idx = df_data[df_data.subsystem_group == 'Other'].index\n",
    "vitro_vals = df_data.invitro[idx]\n",
    "vivo_vals = df_data.invivo[idx]\n",
    "\n",
    "vitro_vals = np.log10(vitro_vals.to_list())\n",
    "vivo_vals = np.log10(vivo_vals.to_list())\n",
    "\n",
    "fig,ax = plt.subplots(figsize=(5,5))\n",
    "ax.scatter(vitro_vals, vivo_vals, zorder=2, color='#2979ff', edgecolor='k', s=50, alpha=0.5)\n",
    "\n",
    "ticks = [-3, 0, 3, 6]; ticklabels = [str(i) for i in ticks]\n",
    "ax.set_xticks(ticks); ax.set_xticklabels(ticklabels, fontsize=24)\n",
    "ax.set_yticks(ticks); ax.set_yticklabels(ticklabels, fontsize=24)\n",
    "ax.set_xlim(-4,7);\n",
    "ax.set_ylim(-4,7);\n",
    "\n",
    "line = mlines.Line2D([-4,7], [-4,7], color='k', linestyle='--', zorder=1)\n",
    "ax.add_line(line);\n",
    "\n",
    "plt.savefig('./figures/vivo_vs_vitro_other.png', transparent=True, bbox_inches='tight')"
   ]
  },
  {
   "cell_type": "code",
   "execution_count": null,
   "metadata": {},
   "outputs": [],
   "source": []
  },
  {
   "cell_type": "code",
   "execution_count": null,
   "metadata": {},
   "outputs": [],
   "source": []
  },
  {
   "cell_type": "code",
   "execution_count": null,
   "metadata": {},
   "outputs": [],
   "source": []
  },
  {
   "cell_type": "code",
   "execution_count": 5,
   "metadata": {},
   "outputs": [
    {
     "data": {
      "image/png": "[encoded data removed]",
      "text/plain": [
       "<Figure size 360x360 with 1 Axes>"
      ]
     },
     "metadata": {
      "needs_background": "light"
     },
     "output_type": "display_data"
    }
   ],
   "source": [
    "fig,ax = plt.subplots(figsize=(5,5))\n",
    "ax.scatter(vitro_vals, vivo_vals, zorder=2)\n",
    "\n",
    "ax.set_xscale('log', base=10)\n",
    "ax.set_yscale('log', base=10)\n",
    "\n",
    "ticks = [-3, 0, 3, 6]\n",
    "ticks = [10**i for i in ticks]\n",
    "ax.set_xticks(ticks)\n",
    "ax.set_yticks(ticks)\n",
    "ax.set_xlim(10**-4, 10**7);\n",
    "ax.set_ylim(10**-4, 10**7);\n",
    "\n",
    "line = mlines.Line2D([10**-4, 10**7], [10**-4, 10**7], color='k', linestyle='--', zorder=1)\n",
    "ax.add_line(line);"
   ]
  },
  {
   "cell_type": "code",
   "execution_count": null,
   "metadata": {},
   "outputs": [],
   "source": []
  },
  {
   "cell_type": "code",
   "execution_count": null,
   "metadata": {},
   "outputs": [],
   "source": []
  },
  {
   "cell_type": "code",
   "execution_count": null,
   "metadata": {},
   "outputs": [],
   "source": []
  },
  {
   "cell_type": "markdown",
   "metadata": {},
   "source": [
    "#### Working scripts"
   ]
  },
  {
   "cell_type": "code",
   "execution_count": 6,
   "metadata": {
    "scrolled": true
   },
   "outputs": [
    {
     "name": "stdout",
     "output_type": "stream",
     "text": [
      "Using license file /home/hvdinh16/Workspace/Softwares/gurobi910/linux64/gurobi.lic\n",
      "Academic license - for non-commercial use only - expires 2022-08-08\n"
     ]
    }
   ],
   "source": [
    "model = cobra.io.load_json_model('../scRBA_build_GAMS_model/input/GSM_y834_hvd_v6_rba.json')"
   ]
  },
  {
   "cell_type": "code",
   "execution_count": 7,
   "metadata": {},
   "outputs": [],
   "source": [
    "rxns_pathway = dict()\n",
    "for rxn in rxns_common:\n",
    "    _,rxncore,_,_ = extract_details_from_rxnid(rxn)\n",
    "    rxns_pathway[rxncore] = model.reactions.get_by_id(rxncore).subsystem"
   ]
  },
  {
   "cell_type": "code",
   "execution_count": 8,
   "metadata": {},
   "outputs": [],
   "source": [
    "cols = ['rxnid', 'name', 'subsystem_group', 'subsystem']\n",
    "rxns_model = sorted([rxn.id for rxn in model.reactions])\n",
    "df_pathway = pd.DataFrame(columns=cols, index=rxns_model)\n",
    "df_pathway['rxnid'] = df_pathway.index.to_list()\n",
    "\n",
    "for rxn in df_pathway.index:\n",
    "    df_pathway.loc[rxn, 'subsystem'] = model.reactions.get_by_id(rxn).subsystem\n",
    "    df_pathway.loc[rxn, 'name'] = model.reactions.get_by_id(rxn).name"
   ]
  },
  {
   "cell_type": "code",
   "execution_count": 30,
   "metadata": {},
   "outputs": [],
   "source": [
    "pathway_group = {\n",
    "    'Central metabolism': ['Acetyl-CoA synthesis',\n",
    "                           'Citric acid cycle',\n",
    "                           'Glycolysis / Gluconeogenesis',\n",
    "                           'Glyoxylate metabolism',\n",
    "                           'Oxidative phosphorylation',\n",
    "                           'Pentose phosphate pathway',\n",
    "                           'Pyruvate metabolism',\n",
    "                           'Methylglyoxal metabolism'],\n",
    "    'Amino acid metabolism': ['Alanine, aspartate and glutamate metabolism',\n",
    "                              'Arginine and proline metabolism',\n",
    "                              'Cysteine and methionine metabolism',\n",
    "                              'Glycine, serine and threonine metabolism',\n",
    "                              'Histidine metabolism',\n",
    "                              'Lysine metabolism',\n",
    "                              'Phenylalanine, tyrosine and tryptophan metabolism',\n",
    "                              'Valine, leucine and isoleucine metabolism',\n",
    "                              'Valine, leucine and isoleucine biosynthesis',\n",
    "                              'Vitamin B6 metabolism'],\n",
    "    'RNA metabolism': ['Purine metabolism',\n",
    "                       'Pyrimidine metabolism'],\n",
    "    'Other biosynthetic metabolism': ['Biosynthesis of unsaturated fatty acids',\n",
    "                                      'Cell wall biosynthesis',\n",
    "                                      'Ergosterol biosynthesis',\n",
    "                                      'Fatty acid biosynthesis',\n",
    "                                      'Fatty acid elongation',\n",
    "                                      'Folate metabolism',\n",
    "                                      'Glycerophospholipid biosynthesis',\n",
    "                                      'Glycerophospholipid metabolism',\n",
    "                                      'Heme metabolism',\n",
    "                                      'N-Glycan biosynthesis',\n",
    "                                      'Nicotinate and nicotinamide metabolism',\n",
    "                                      'Nitrogen metabolism',\n",
    "                                      'Pantothenate and CoA biosynthesis',\n",
    "                                      'Pentose and glucuronate interconversions',\n",
    "                                      'Phospholipid biosynthesis',\n",
    "                                      'Riboflavin metabolism',\n",
    "                                      'Sphingolipid biosynthesis',\n",
    "                                      'Sulfur metabolism',\n",
    "                                      'Terpenoid backbone biosynthesis',\n",
    "                                      'Thiamine metabolism',\n",
    "                                      'Triacylglycerol biosynthesis',\n",
    "                                      'Biotin metabolism',\n",
    "                                      'Cofactors and prosthetic groups biosynthesis',\n",
    "                                      'GPI biosynthesis',\n",
    "                                      'Glycerolipid metabolism',\n",
    "                                      'O-Glycan biosynthesis',\n",
    "                                      'Sphingolipid metabolism',\n",
    "                                      'Ubiquinone and other terpenoid-quinone biosynthesis',\n",
    "                                      'Ubiquinone biosynthesis'],\n",
    "    'tRNA charging': ['Aminoacyl-tRNA biosynthesis'],\n",
    "    'Other metabolism': ['Detoxification',\n",
    "                         'Amino sugar and nucleotide sugar metabolism',\n",
    "                         'Fatty acid degradation',\n",
    "                         'Fructose and mannose metabolism',\n",
    "                         'Phosphonate and phosphinate metabolism',\n",
    "                         'Starch and sucrose metabolism',\n",
    "                         'Synthesis and degradation of ketone bodies',\n",
    "                         'Unassigned', '',\n",
    "                         'Alternative carbon metabolism',\n",
    "                         'Arachidonic acid metabolism',\n",
    "                         'Butanoate metabolism',\n",
    "                         'C5-Branched dibasic acid metabolism',\n",
    "                         'Galactose metabolism',\n",
    "                         'Glutathione metabolism',\n",
    "                         'Inositol phosphate metabolism',\n",
    "                         'Lipid metabolism',\n",
    "                         'Nucleotide metabolism',\n",
    "                         'Propanoate metabolism',\n",
    "                         'Steroid biosynthesis',\n",
    "                         'Taurine and hypotaurine metabolism',\n",
    "                         'Triacylglycerol degradation',\n",
    "                         'Tryptophan metabolism',\n",
    "                         'beta-Alanine metabolism'],\n",
    "    'Excluded': ['Transport', 'Exchange', 'Pseudoreaction']\n",
    "}\n",
    "\n",
    "pathway_group_rev = {}\n",
    "for k,vs in pathway_group.items():\n",
    "    for v in vs:\n",
    "        pathway_group_rev[v] = k"
   ]
  },
  {
   "cell_type": "code",
   "execution_count": 31,
   "metadata": {},
   "outputs": [],
   "source": [
    "for i in df_pathway.index:\n",
    "    ss = df_pathway.subsystem[i]\n",
    "    if ss in pathway_group_rev.keys():\n",
    "        df_pathway.loc[i, 'subsystem_group'] = pathway_group_rev[ss]"
   ]
  },
  {
   "cell_type": "code",
   "execution_count": null,
   "metadata": {},
   "outputs": [],
   "source": []
  },
  {
   "cell_type": "code",
   "execution_count": null,
   "metadata": {},
   "outputs": [],
   "source": []
  },
  {
   "cell_type": "code",
   "execution_count": null,
   "metadata": {},
   "outputs": [],
   "source": []
  },
  {
   "cell_type": "code",
   "execution_count": 34,
   "metadata": {},
   "outputs": [
    {
     "data": {
      "text/html": [
       "<div>\n",
       "<style scoped>\n",
       "    .dataframe tbody tr th:only-of-type {\n",
       "        vertical-align: middle;\n",
       "    }\n",
       "\n",
       "    .dataframe tbody tr th {\n",
       "        vertical-align: top;\n",
       "    }\n",
       "\n",
       "    .dataframe thead th {\n",
       "        text-align: right;\n",
       "    }\n",
       "</style>\n",
       "<table border=\"1\" class=\"dataframe\">\n",
       "  <thead>\n",
       "    <tr style=\"text-align: right;\">\n",
       "      <th></th>\n",
       "      <th>rxnid</th>\n",
       "      <th>name</th>\n",
       "      <th>subsystem_group</th>\n",
       "      <th>subsystem</th>\n",
       "    </tr>\n",
       "  </thead>\n",
       "  <tbody>\n",
       "    <tr>\n",
       "      <th>12AMANTF_g</th>\n",
       "      <td>12AMANTF_g</td>\n",
       "      <td>alpha 1,2-mannosyltransferase</td>\n",
       "      <td>Other biosynthetic metabolism</td>\n",
       "      <td>N-Glycan biosynthesis</td>\n",
       "    </tr>\n",
       "    <tr>\n",
       "      <th>13BDGLUCANt_c_en</th>\n",
       "      <td>13BDGLUCANt_c_en</td>\n",
       "      <td>(1-&gt;3)-beta-D-glucan transport</td>\n",
       "      <td>Excluded</td>\n",
       "      <td>Transport</td>\n",
       "    </tr>\n",
       "    <tr>\n",
       "      <th>13BGH_e</th>\n",
       "      <td>13BGH_e</td>\n",
       "      <td>exo-1,3-beta-glucan glucohydrase</td>\n",
       "      <td>Other metabolism</td>\n",
       "      <td>Starch and sucrose metabolism</td>\n",
       "    </tr>\n",
       "    <tr>\n",
       "      <th>13GS_c</th>\n",
       "      <td>13GS_c</td>\n",
       "      <td>1,3-beta-glucan synthase</td>\n",
       "      <td>Other metabolism</td>\n",
       "      <td>Starch and sucrose metabolism</td>\n",
       "    </tr>\n",
       "    <tr>\n",
       "      <th>14BMANTF_c</th>\n",
       "      <td>14BMANTF_c</td>\n",
       "      <td>beta-1,4 mannosyltransferase</td>\n",
       "      <td>Other biosynthetic metabolism</td>\n",
       "      <td>N-Glycan biosynthesis</td>\n",
       "    </tr>\n",
       "    <tr>\n",
       "      <th>...</th>\n",
       "      <td>...</td>\n",
       "      <td>...</td>\n",
       "      <td>...</td>\n",
       "      <td>...</td>\n",
       "    </tr>\n",
       "    <tr>\n",
       "      <th>compFALPD_rm</th>\n",
       "      <td>compFALPD_rm</td>\n",
       "      <td>Composition of fatty acid (from lipid)</td>\n",
       "      <td>Excluded</td>\n",
       "      <td>Pseudoreaction</td>\n",
       "    </tr>\n",
       "    <tr>\n",
       "      <th>lumpFACS160_c</th>\n",
       "      <td>lumpFACS160_c</td>\n",
       "      <td>fatty-acyl-CoA synthase (n-C16:0CoA)</td>\n",
       "      <td>Other biosynthetic metabolism</td>\n",
       "      <td>Fatty acid biosynthesis</td>\n",
       "    </tr>\n",
       "    <tr>\n",
       "      <th>lumpFACS180_c</th>\n",
       "      <td>lumpFACS180_c</td>\n",
       "      <td>fatty-acyl-CoA synthase (n-C18:0CoA)</td>\n",
       "      <td>Other biosynthetic metabolism</td>\n",
       "      <td>Fatty acid biosynthesis</td>\n",
       "    </tr>\n",
       "    <tr>\n",
       "      <th>r_4323_m</th>\n",
       "      <td>r_4323_m</td>\n",
       "      <td>protein N6-(octanoyl)lysine:sulfur sulfurtrans...</td>\n",
       "      <td>Other metabolism</td>\n",
       "      <td>Unassigned</td>\n",
       "    </tr>\n",
       "    <tr>\n",
       "      <th>r_4324_m</th>\n",
       "      <td>r_4324_m</td>\n",
       "      <td>octanoyl-[acp]:sulfur sulfurtransferase</td>\n",
       "      <td>Other metabolism</td>\n",
       "      <td>Unassigned</td>\n",
       "    </tr>\n",
       "  </tbody>\n",
       "</table>\n",
       "<p>1891 rows × 4 columns</p>\n",
       "</div>"
      ],
      "text/plain": [
       "                             rxnid  \\\n",
       "12AMANTF_g              12AMANTF_g   \n",
       "13BDGLUCANt_c_en  13BDGLUCANt_c_en   \n",
       "13BGH_e                    13BGH_e   \n",
       "13GS_c                      13GS_c   \n",
       "14BMANTF_c              14BMANTF_c   \n",
       "...                            ...   \n",
       "compFALPD_rm          compFALPD_rm   \n",
       "lumpFACS160_c        lumpFACS160_c   \n",
       "lumpFACS180_c        lumpFACS180_c   \n",
       "r_4323_m                  r_4323_m   \n",
       "r_4324_m                  r_4324_m   \n",
       "\n",
       "                                                               name  \\\n",
       "12AMANTF_g                            alpha 1,2-mannosyltransferase   \n",
       "13BDGLUCANt_c_en                     (1->3)-beta-D-glucan transport   \n",
       "13BGH_e                            exo-1,3-beta-glucan glucohydrase   \n",
       "13GS_c                                     1,3-beta-glucan synthase   \n",
       "14BMANTF_c                             beta-1,4 mannosyltransferase   \n",
       "...                                                             ...   \n",
       "compFALPD_rm                 Composition of fatty acid (from lipid)   \n",
       "lumpFACS160_c                  fatty-acyl-CoA synthase (n-C16:0CoA)   \n",
       "lumpFACS180_c                  fatty-acyl-CoA synthase (n-C18:0CoA)   \n",
       "r_4323_m          protein N6-(octanoyl)lysine:sulfur sulfurtrans...   \n",
       "r_4324_m                    octanoyl-[acp]:sulfur sulfurtransferase   \n",
       "\n",
       "                                subsystem_group                      subsystem  \n",
       "12AMANTF_g        Other biosynthetic metabolism          N-Glycan biosynthesis  \n",
       "13BDGLUCANt_c_en                       Excluded                      Transport  \n",
       "13BGH_e                        Other metabolism  Starch and sucrose metabolism  \n",
       "13GS_c                         Other metabolism  Starch and sucrose metabolism  \n",
       "14BMANTF_c        Other biosynthetic metabolism          N-Glycan biosynthesis  \n",
       "...                                         ...                            ...  \n",
       "compFALPD_rm                           Excluded                 Pseudoreaction  \n",
       "lumpFACS160_c     Other biosynthetic metabolism        Fatty acid biosynthesis  \n",
       "lumpFACS180_c     Other biosynthetic metabolism        Fatty acid biosynthesis  \n",
       "r_4323_m                       Other metabolism                     Unassigned  \n",
       "r_4324_m                       Other metabolism                     Unassigned  \n",
       "\n",
       "[1891 rows x 4 columns]"
      ]
     },
     "execution_count": 34,
     "metadata": {},
     "output_type": "execute_result"
    }
   ],
   "source": [
    "df_pathway"
   ]
  },
  {
   "cell_type": "code",
   "execution_count": null,
   "metadata": {},
   "outputs": [],
   "source": []
  },
  {
   "cell_type": "code",
   "execution_count": null,
   "metadata": {},
   "outputs": [],
   "source": []
  },
  {
   "cell_type": "code",
   "execution_count": null,
   "metadata": {},
   "outputs": [],
   "source": []
  },
  {
   "cell_type": "code",
   "execution_count": 97,
   "metadata": {},
   "outputs": [],
   "source": []
  },
  {
   "cell_type": "code",
   "execution_count": 35,
   "metadata": {},
   "outputs": [],
   "source": [
    "df_pathway.to_excel('./GSM_pathway_assignment_frompy.xlsx', index=None)"
   ]
  },
  {
   "cell_type": "code",
   "execution_count": null,
   "metadata": {},
   "outputs": [],
   "source": []
  },
  {
   "cell_type": "code",
   "execution_count": null,
   "metadata": {},
   "outputs": [],
   "source": []
  },
  {
   "cell_type": "code",
   "execution_count": null,
   "metadata": {},
   "outputs": [],
   "source": []
  },
  {
   "cell_type": "code",
   "execution_count": null,
   "metadata": {},
   "outputs": [],
   "source": []
  },
  {
   "cell_type": "code",
   "execution_count": null,
   "metadata": {},
   "outputs": [],
   "source": []
  },
  {
   "cell_type": "code",
   "execution_count": 26,
   "metadata": {},
   "outputs": [
    {
     "data": {
      "text/plain": [
       "65"
      ]
     },
     "execution_count": 26,
     "metadata": {},
     "output_type": "execute_result"
    }
   ],
   "source": [
    "len(set(invivo.keys()) - set(df_invitro.index))"
   ]
  },
  {
   "cell_type": "code",
   "execution_count": 27,
   "metadata": {},
   "outputs": [
    {
     "data": {
      "text/plain": [
       "396"
      ]
     },
     "execution_count": 27,
     "metadata": {},
     "output_type": "execute_result"
    }
   ],
   "source": [
    "len(set(invivo.keys()) & set(df_invitro.index))"
   ]
  },
  {
   "cell_type": "code",
   "execution_count": 28,
   "metadata": {},
   "outputs": [
    {
     "data": {
      "text/html": [
       "<div>\n",
       "<style scoped>\n",
       "    .dataframe tbody tr th:only-of-type {\n",
       "        vertical-align: middle;\n",
       "    }\n",
       "\n",
       "    .dataframe tbody tr th {\n",
       "        vertical-align: top;\n",
       "    }\n",
       "\n",
       "    .dataframe thead th {\n",
       "        text-align: right;\n",
       "    }\n",
       "</style>\n",
       "<table border=\"1\" class=\"dataframe\">\n",
       "  <thead>\n",
       "    <tr style=\"text-align: right;\">\n",
       "      <th></th>\n",
       "      <th>id</th>\n",
       "      <th>kapp (1/s)</th>\n",
       "      <th>source</th>\n",
       "    </tr>\n",
       "  </thead>\n",
       "  <tbody>\n",
       "    <tr>\n",
       "      <th>RXN-BTDDH_c_FWD-YAL060W</th>\n",
       "      <td>RXN-BTDDH_c_FWD-YAL060W</td>\n",
       "      <td>1633.333333</td>\n",
       "      <td>Chen2021_invitro_SABIORK</td>\n",
       "    </tr>\n",
       "    <tr>\n",
       "      <th>RXN-BTDDH_c_REV-YAL060W</th>\n",
       "      <td>RXN-BTDDH_c_REV-YAL060W</td>\n",
       "      <td>1633.333333</td>\n",
       "      <td>Chen2021_invitro_SABIORK</td>\n",
       "    </tr>\n",
       "    <tr>\n",
       "      <th>RXN-13GS_c_FWD-GSC2RHO1</th>\n",
       "      <td>RXN-13GS_c_FWD-GSC2RHO1</td>\n",
       "      <td>13.333547</td>\n",
       "      <td>Oftadeh2021_invitro_GECKO</td>\n",
       "    </tr>\n",
       "    <tr>\n",
       "      <th>RXN-13GS_c_FWD-GSC1RHO1</th>\n",
       "      <td>RXN-13GS_c_FWD-GSC1RHO1</td>\n",
       "      <td>13.333547</td>\n",
       "      <td>Oftadeh2021_invitro_GECKO</td>\n",
       "    </tr>\n",
       "    <tr>\n",
       "      <th>RXN-PRMICI_c_FWD-YIL020C</th>\n",
       "      <td>RXN-PRMICI_c_FWD-YIL020C</td>\n",
       "      <td>31.999836</td>\n",
       "      <td>Oftadeh2021_invitro_GECKO</td>\n",
       "    </tr>\n",
       "  </tbody>\n",
       "</table>\n",
       "</div>"
      ],
      "text/plain": [
       "                                                id   kapp (1/s)  \\\n",
       "RXN-BTDDH_c_FWD-YAL060W    RXN-BTDDH_c_FWD-YAL060W  1633.333333   \n",
       "RXN-BTDDH_c_REV-YAL060W    RXN-BTDDH_c_REV-YAL060W  1633.333333   \n",
       "RXN-13GS_c_FWD-GSC2RHO1    RXN-13GS_c_FWD-GSC2RHO1    13.333547   \n",
       "RXN-13GS_c_FWD-GSC1RHO1    RXN-13GS_c_FWD-GSC1RHO1    13.333547   \n",
       "RXN-PRMICI_c_FWD-YIL020C  RXN-PRMICI_c_FWD-YIL020C    31.999836   \n",
       "\n",
       "                                             source  \n",
       "RXN-BTDDH_c_FWD-YAL060W    Chen2021_invitro_SABIORK  \n",
       "RXN-BTDDH_c_REV-YAL060W    Chen2021_invitro_SABIORK  \n",
       "RXN-13GS_c_FWD-GSC2RHO1   Oftadeh2021_invitro_GECKO  \n",
       "RXN-13GS_c_FWD-GSC1RHO1   Oftadeh2021_invitro_GECKO  \n",
       "RXN-PRMICI_c_FWD-YIL020C  Oftadeh2021_invitro_GECKO  "
      ]
     },
     "execution_count": 28,
     "metadata": {},
     "output_type": "execute_result"
    }
   ],
   "source": [
    "df_invitro.head()"
   ]
  },
  {
   "cell_type": "code",
   "execution_count": 32,
   "metadata": {},
   "outputs": [
    {
     "data": {
      "text/plain": [
       "{'Chen2021_invitro_BRENDA',\n",
       " 'Chen2021_invitro_SA',\n",
       " 'Chen2021_invitro_SABIORK',\n",
       " 'Chen2021_invitro_literature',\n",
       " 'Oftadeh2021_invitro_GECKO',\n",
       " 'manual_curation'}"
      ]
     },
     "execution_count": 32,
     "metadata": {},
     "output_type": "execute_result"
    }
   ],
   "source": [
    "set(df_invitro.source)"
   ]
  },
  {
   "cell_type": "code",
   "execution_count": null,
   "metadata": {},
   "outputs": [],
   "source": []
  }
 ],
 "metadata": {
  "kernelspec": {
   "display_name": "Python 3",
   "language": "python",
   "name": "python3"
  },
  "language_info": {
   "codemirror_mode": {
    "name": "ipython",
    "version": 3
   },
   "file_extension": ".py",
   "mimetype": "text/x-python",
   "name": "python",
   "nbconvert_exporter": "python",
   "pygments_lexer": "ipython3",
   "version": "3.7.9"
  }
 },
 "nbformat": 4,
 "nbformat_minor": 4
}
