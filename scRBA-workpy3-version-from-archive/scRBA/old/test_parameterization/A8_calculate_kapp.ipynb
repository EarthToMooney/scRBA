{
 "cells": [
  {
   "cell_type": "code",
   "execution_count": 1,
   "metadata": {},
   "outputs": [],
   "source": [
    "import pandas as pd\n",
    "import sys\n",
    "sys.path.append('../pycore/')\n",
    "from simulate import RBA_result\n",
    "from utils import extract_details_from_rxnid"
   ]
  },
  {
   "cell_type": "code",
   "execution_count": 2,
   "metadata": {
    "scrolled": false
   },
   "outputs": [],
   "source": [
    "df_prot = pd.read_excel('../scRBA_build_GAMS_model/input/PROTEIN_stoich_curation.xlsx')\n",
    "df_prot.index = df_prot.id.to_list()\n",
    "protein_mw = {i:df_prot.loc[i, 'MW (g/mmol)'] for i in df_prot.index}\n",
    "protein_mw['PROTDUMMY'] = 44.026303\n",
    "\n",
    "df_enz = pd.read_excel('../scRBA_build_GAMS_model/input/ENZYME_stoich_curation_2021-10-01.xlsx')\n",
    "df_enz.index = df_enz.id.to_list()\n",
    "enzyme_mw = {'ENZLOAD-'+i[4:]:df_enz.loc[i, 'MW (g/mmol)'] for i in df_enz.index}\n",
    "\n",
    "res = RBA_result(protein_mw=protein_mw, enzyme_mw=enzyme_mw)\n",
    "res.load_and_calculate('./min_flux_sum.flux.txt')"
   ]
  },
  {
   "cell_type": "code",
   "execution_count": 3,
   "metadata": {},
   "outputs": [
    {
     "name": "stdout",
     "output_type": "stream",
     "text": [
      "EX_glc__D_e -13.2\n",
      "EX_o2_e -3.661257223231814\n",
      "EX_co2_e 24.06212277021086\n",
      "EX_etoh_e 19.580000000000013\n",
      "EX_gcald_e 2.5470073272547e-05\n",
      "EX_h_e 0.8666230236175908\n",
      "EX_h2o_e 12.73197283747805\n"
     ]
    }
   ],
   "source": [
    "print('EX_glc__D_e', res.metabolic_flux['EX_glc__D_e'])\n",
    "print('EX_o2_e', res.metabolic_flux['EX_o2_e'])\n",
    "for k,v in res.metabolic_flux.items():\n",
    "    if k[:3] == 'EX_' and v > 1e-6:\n",
    "        print(k,v)"
   ]
  },
  {
   "cell_type": "code",
   "execution_count": 4,
   "metadata": {},
   "outputs": [],
   "source": [
    "#### Map rxn to enz\n",
    "rxndict = {k:[] for k,v in res.metabolic_flux.items() if abs(v) > 0}\n",
    "\n",
    "enzdict = dict()\n",
    "for k,v in res.raw_flux.items():\n",
    "    if k.split('-')[0] == 'ENZSYN' and v > 0:\n",
    "        _,enz = k.split('-', maxsplit=1)\n",
    "        enzdict[enz] = []\n",
    "        \n",
    "for i in df_enz.index:\n",
    "    rxn = df_enz.rxn_src[i]\n",
    "    enz = df_enz.enz[i]\n",
    "    if rxn in rxndict.keys() and enz in ['SPONT', 'UNKNOWN']:\n",
    "        rxndict[rxn].append('zeroCost')\n",
    "        \n",
    "    if rxn in rxndict.keys() and enz in enzdict.keys():\n",
    "        rxndict[rxn].append(enz)\n",
    "        enzdict[enz].append(rxn)\n",
    "        \n",
    "rxndict = {k:set(v) for k,v in rxndict.items()}\n",
    "rxndict = {k:v for k,v in rxndict.items() if v != {'zeroCost'}}\n",
    "enzdict = {k:set(v) for k,v in enzdict.items()}"
   ]
  },
  {
   "cell_type": "code",
   "execution_count": 5,
   "metadata": {
    "scrolled": true
   },
   "outputs": [],
   "source": [
    "# Find enzymes whose together carry a total load of reactions\n",
    "x = {k:v for k,v in rxndict.items() if len(v) > 1.5}\n",
    "enz_share_rxn_load = set().union(*[v for v in x.values()])\n",
    "\n",
    "# Find enzymes whose individually carry loads of multiple reactions\n",
    "x = {k:v for k,v in enzdict.items() if len(v) > 1.5}\n",
    "enz_multiload = set(x.keys())\n",
    "\n",
    "# Set 1: Enzyme-reaction one-to-one load mapping\n",
    "set1 = set(enzdict.keys()) - enz_share_rxn_load - enz_multiload\n",
    "set1 = set([i for i in set1 if len(enzdict[i]) > 0.5])\n",
    "\n",
    "# Set 2: Enzyme-reaction one-to-many\n",
    "set2 = enz_multiload - enz_share_rxn_load\n",
    "\n",
    "# Set 3: Enzyme-reaction many-to-one\n",
    "set3 = enz_share_rxn_load - enz_multiload\n",
    "\n",
    "# Set 4: Enzyme-reaction many-to-many\n",
    "set4 = enz_share_rxn_load & enz_multiload\n",
    "\n",
    "mu = 0.407\n",
    "kapp = dict()\n",
    "for enz in set1:\n",
    "    rxn = [i for i in enzdict[enz]][0]\n",
    "    rval = res.metabolic_flux[rxn]\n",
    "    if rval > 0:\n",
    "        rdir = 'FWD'\n",
    "    elif rval < 0:\n",
    "        rdir = 'REV'\n",
    "    else:\n",
    "        print('rval == 0, check enzyme ' + enz + ' and reaction ' + rxn)\n",
    "    \n",
    "    rid = 'RXN-' + rxn + '_' + rdir + '-' + enz\n",
    "    \n",
    "    enzval = res.raw_flux['ENZSYN-' + enz]\n",
    "    kapp[rid] = abs(rval) / enzval / mu / 3600\n",
    "    \n",
    "for enz in set2:\n",
    "    rids = []; rvalsum = 0;\n",
    "    for rxn in enzdict[enz]:\n",
    "        rval = res.metabolic_flux[rxn]\n",
    "        if rval > 0:\n",
    "            rdir = 'FWD'\n",
    "        elif rval < 0:\n",
    "            rdir = 'REV'\n",
    "        else:\n",
    "            print('rval == 0, check enzyme ' + enz + ' and reaction ' + rxn)\n",
    "\n",
    "        rids.append('RXN-' + rxn + '_' + rdir + '-' + enz)\n",
    "        rvalsum += abs(rval)\n",
    "        \n",
    "    enzval = res.raw_flux['ENZSYN-' + enz]\n",
    "    \n",
    "    for rid in rids:\n",
    "        kapp[rid] = rvalsum / enzval / mu / 3600\n",
    "        \n",
    "rxns = set().union(*[enzdict[enz] for enz in set3])\n",
    "for rxn in rxns:\n",
    "    rval = res.metabolic_flux[rxn]\n",
    "    if rval > 0:\n",
    "        rdir = 'FWD'\n",
    "    elif rval < 0:\n",
    "        rdir = 'REV'\n",
    "    else:\n",
    "        print('rval == 0, check enzyme ' + enz + ' and reaction ' + rxn)\n",
    "        \n",
    "    rids = []; enzvalsum = 0;\n",
    "    for enz in rxndict[rxn]:\n",
    "        rids.append('RXN-' + rxn + '_' + rdir + '-' + enz)\n",
    "        enzvalsum += res.raw_flux['ENZSYN-' + enz]\n",
    "        \n",
    "    for rid in rids:\n",
    "        kapp[rid] = rval / enzvalsum / mu / 3600\n",
    "        \n",
    "with open('./kapp_ambiguousLoad_case_resolve.txt') as f:\n",
    "    text = f.read().split('\\n')[1:]\n",
    "text = [i for i in text if i != '']\n",
    "mapper = dict()\n",
    "for line in text:\n",
    "    k,v = line.split('\\t')\n",
    "    if v != 'noRxnFlux_resolveByManualCheck':\n",
    "        mapper[k] = v\n",
    "        \n",
    "for enztext,rxntext in mapper.items():\n",
    "    enzs = enztext.split(',')\n",
    "    rxns = rxntext.split(',')\n",
    "    \n",
    "    enzvalsum = sum([res.raw_flux['ENZSYN-'+enz] for enz in enzs])\n",
    "    rxnvalsum = sum([abs(res.metabolic_flux[rxn]) for rxn in rxns])\n",
    "    \n",
    "    rids = []\n",
    "    for rxn in rxns:\n",
    "        rval = res.metabolic_flux[rxn]\n",
    "        if rval > 0:\n",
    "            rdir = 'FWD'\n",
    "        elif rval < 0:\n",
    "            rdir = 'REV'\n",
    "        else:\n",
    "            print('rval == 0, check enzyme ' + enz + ' and reaction ' + rxn)\n",
    "            \n",
    "        for enz in enzs:\n",
    "            rids.append('RXN-' + rxn + '_' + rdir + '-' + enz)\n",
    "            \n",
    "    for rid in rids:\n",
    "        kapp[rid] = rvalsum / enzvalsum / mu / 3600"
   ]
  },
  {
   "cell_type": "markdown",
   "metadata": {},
   "source": [
    "#### Write calculated kapp (1/s)"
   ]
  },
  {
   "cell_type": "code",
   "execution_count": 9,
   "metadata": {},
   "outputs": [],
   "source": [
    "texts = ['rxnid\\tkapp (1/s)']\n",
    "for k,v in kapp.items():\n",
    "    texts.append(k + '\\t' + str(v))\n",
    "    \n",
    "with open('./kapps_in_vivo.txt', 'w') as f:\n",
    "    f.write('\\n'.join(texts))"
   ]
  },
  {
   "cell_type": "code",
   "execution_count": null,
   "metadata": {},
   "outputs": [],
   "source": []
  },
  {
   "cell_type": "code",
   "execution_count": null,
   "metadata": {},
   "outputs": [],
   "source": []
  },
  {
   "cell_type": "code",
   "execution_count": 58,
   "metadata": {},
   "outputs": [
    {
     "name": "stdout",
     "output_type": "stream",
     "text": [
      "YPR074C: {'TKT1_c', 'TKT2_c'}\n",
      "TKT1_c: {'YPR074C', 'YBR117C'}\n",
      "TKT2_c: {'YPR074C', 'YBR117C'}\n",
      "YBR117C: {'TKT1_c', 'TKT2_c'}\n"
     ]
    }
   ],
   "source": [
    "enz = 'YPR074C'\n",
    "print(enz + ':', enzdict[enz])\n",
    "for rxn in enzdict[enz]:\n",
    "    print(rxn + ':', rxndict[rxn])\n",
    "\n",
    "x = set().union(*[rxndict[rxn] for rxn in enzdict[enz]])\n",
    "for enz2 in x:\n",
    "    if enz2 != enz:\n",
    "        print(enz2 + ':', enzdict[enz])"
   ]
  },
  {
   "cell_type": "code",
   "execution_count": null,
   "metadata": {},
   "outputs": [],
   "source": []
  }
 ],
 "metadata": {
  "kernelspec": {
   "display_name": "Python 3",
   "language": "python",
   "name": "python3"
  },
  "language_info": {
   "codemirror_mode": {
    "name": "ipython",
    "version": 3
   },
   "file_extension": ".py",
   "mimetype": "text/x-python",
   "name": "python",
   "nbconvert_exporter": "python",
   "pygments_lexer": "ipython3",
   "version": "3.7.9"
  }
 },
 "nbformat": 4,
 "nbformat_minor": 4
}
