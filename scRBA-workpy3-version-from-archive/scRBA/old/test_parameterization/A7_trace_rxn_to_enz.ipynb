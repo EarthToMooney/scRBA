{
 "cells": [
  {
   "cell_type": "code",
   "execution_count": 1,
   "metadata": {},
   "outputs": [],
   "source": [
    "import pandas as pd\n",
    "mu = 0.407"
   ]
  },
  {
   "cell_type": "code",
   "execution_count": 2,
   "metadata": {},
   "outputs": [],
   "source": [
    "with open('./min_flux_violation.flux_noEnzRxns.txt') as f:\n",
    "    rxns = f.read().split('\\n')\n",
    "rxns = [i for i in rxns if i != '']\n",
    "rxns = [i.split('\\t')[0] for i in rxns]"
   ]
  },
  {
   "cell_type": "code",
   "execution_count": 3,
   "metadata": {},
   "outputs": [],
   "source": [
    "df_enz = pd.read_excel('../scRBA_build_GAMS_model/input/ENZYME_stoich_curation_2021-10-01.xlsx')\n",
    "df_enz.index = df_enz.id.to_list()"
   ]
  },
  {
   "cell_type": "code",
   "execution_count": 4,
   "metadata": {},
   "outputs": [],
   "source": [
    "df_prot = pd.read_excel('../scRBA_build_GAMS_model/input/PROTEIN_stoich_curation.xlsx')\n",
    "df_prot.index = df_prot.id.to_list()"
   ]
  },
  {
   "cell_type": "code",
   "execution_count": 5,
   "metadata": {},
   "outputs": [],
   "source": [
    "df_data = pd.read_excel('./Bjorkeroth_Nielsen_2020_data.xlsx')\n",
    "df_data.index = df_data.id.to_list()\n",
    "cmin = df_data['conc (g/gDW)'].min()"
   ]
  },
  {
   "cell_type": "code",
   "execution_count": 6,
   "metadata": {},
   "outputs": [],
   "source": [
    "for i in rxns:\n",
    "    prots = df_enz.protein_stoich[i].split(',')\n",
    "    prots = [j.split(':')[0] for j in prots]\n",
    "    \n",
    "    for p in prots:\n",
    "        df_data.loc[p, 'id'] = p\n",
    "        df_data.loc[p, 'name'] = df_prot.name[p]\n",
    "        df_data.loc[p, 'uniprot'] = df_prot.uniprot[p]\n",
    "        df_data.loc[p, 'MW (g/mmol)'] = df_prot.loc[p, 'MW (g/mmol)']\n",
    "        df_data.loc[p, 'type'] = 'gapfill_rbacalc'\n",
    "        df_data.loc[p, 'conc (g/gDW)'] = cmin\n",
    "        df_data.loc[p, 'vtrans (mmol/gDW/h)'] = cmin * mu / df_data.loc[p, 'MW (g/mmol)']"
   ]
  },
  {
   "cell_type": "code",
   "execution_count": 7,
   "metadata": {},
   "outputs": [],
   "source": [
    "df_data.to_excel('./Bjorkeroth_Nielsen_2020_data_gapfilled_frompy.xlsx', index=None)"
   ]
  },
  {
   "cell_type": "code",
   "execution_count": null,
   "metadata": {},
   "outputs": [],
   "source": []
  }
 ],
 "metadata": {
  "kernelspec": {
   "display_name": "Python 3",
   "language": "python",
   "name": "python3"
  },
  "language_info": {
   "codemirror_mode": {
    "name": "ipython",
    "version": 3
   },
   "file_extension": ".py",
   "mimetype": "text/x-python",
   "name": "python",
   "nbconvert_exporter": "python",
   "pygments_lexer": "ipython3",
   "version": "3.7.9"
  }
 },
 "nbformat": 4,
 "nbformat_minor": 4
}
