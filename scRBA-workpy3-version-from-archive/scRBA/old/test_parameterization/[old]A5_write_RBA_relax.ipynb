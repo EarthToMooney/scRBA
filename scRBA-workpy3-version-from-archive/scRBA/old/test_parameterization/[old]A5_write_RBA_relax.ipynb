{
 "cells": [
  {
   "cell_type": "code",
   "execution_count": 1,
   "metadata": {},
   "outputs": [],
   "source": [
    "import pandas as pd"
   ]
  },
  {
   "cell_type": "code",
   "execution_count": 2,
   "metadata": {},
   "outputs": [],
   "source": [
    "with open('./enz_flux_calculation.txt') as f:\n",
    "    x = f.read().split('\\n')\n",
    "x = [i for i in x if i != '']\n",
    "\n",
    "enzsyn_dict = dict(); enzload_dict = dict()\n",
    "for i in x:\n",
    "    enzid,v = i.split('\\t')\n",
    "    etype = enzid.split('-')[0]\n",
    "    if etype == 'ENZSYN':\n",
    "        if float(v) > 0:\n",
    "            enzsyn_dict[enzid] = float(v)\n",
    "    elif etype == 'ENZLOAD':\n",
    "        if float(v) > 0:\n",
    "            enzload_dict[enzid] = float(v)\n",
    "    else:\n",
    "        print('wtf')"
   ]
  },
  {
   "cell_type": "raw",
   "metadata": {},
   "source": [
    "df_enz = pd.read_excel('../scRBA_build_GAMS_model/input/ENZYME_stoich_curation_2021-10-01.xlsx')\n",
    "df_enz.index = df_enz.id.to_list()\n",
    "\n",
    "ptot = sum(enzsyn_dict.values())\n",
    "enzsyn_frac_dict = {k:v/ptot for k,v in enzsyn_dict.items()}"
   ]
  },
  {
   "cell_type": "code",
   "execution_count": null,
   "metadata": {},
   "outputs": [],
   "source": [
    "ptot = sum(enzsyn_dict.values())\n",
    "enzsyn_frac_dict = {k:v/ptot for k,v in enzsyn_dict.items()}"
   ]
  },
  {
   "cell_type": "code",
   "execution_count": null,
   "metadata": {},
   "outputs": [],
   "source": []
  },
  {
   "cell_type": "code",
   "execution_count": null,
   "metadata": {},
   "outputs": [],
   "source": []
  },
  {
   "cell_type": "code",
   "execution_count": 3,
   "metadata": {},
   "outputs": [],
   "source": [
    "#### Write enzyme load constraints based on enzyme flux calculated from proteome\n",
    "eqn_list = []; kappvars = []; venzUB = [];\n",
    "\n",
    "for k in enzload_dict.keys():\n",
    "    id_ = k.split('-', maxsplit=1)[1]\n",
    "    # Constraints\n",
    "    lhs = \"%mu% * v('RXN-\" + id_ + \"')\"\n",
    "    rhs = \"venzLoadUB('ENZLOAD-\" + id_ + \"') * \" + \"kappvar('ENZLOAD-\" + id_ + \"')\"\n",
    "    rhs += \" dv('\" + i + \"')\"\n",
    "    eqn_list.append(lhs + ' =l= ' + rhs + ';')\n",
    "    \n",
    "    # kapps as variables\n",
    "    kappvars.append(\"'ENZLOAD-\" + id_ + \"'\")\n",
    "    \n",
    "    # Enzyme flux upper bounds as constants\n",
    "    venzUB.append(\"'ENZLOAD-\" + id_ + \"' \" + str(enzload_dict[k]))\n",
    "    \n",
    "eqn_idx = ['EnzLoad'+str(i) for i in range(0, len(eqn_list))]\n",
    "eqn_list = ['EnzLoad'+str(i)+'.. ' + eqn_list[i] for i in range(0, len(eqn_list))]\n",
    "\n",
    "venzUB = ['/'] + venzUB + ['/']\n",
    "kappvars = ['/'] + kappvars + ['/']\n",
    "\n",
    "with open('./minFluxViolation/enzLoad_declares.txt', 'w') as f:\n",
    "    f.write('\\n'.join(eqn_idx))\n",
    "with open('./minFluxViolation/enzLoad_eqns.txt', 'w') as f:\n",
    "    f.write('\\n'.join(eqn_list))\n",
    "with open('./minFluxViolation/enzLoad_venzLoadUB.txt', 'w') as f:\n",
    "    f.write('\\n'.join(venzUB))\n",
    "with open('./minFluxViolation/enzLoad_kappvarset.txt', 'w') as f:\n",
    "    f.write('\\n'.join(kappvars))"
   ]
  },
  {
   "cell_type": "code",
   "execution_count": 4,
   "metadata": {},
   "outputs": [],
   "source": [
    "#### Write enzyme synthesis constraints based on enzyme flux calculated from proteome\n",
    "eqn_list = []; venzUB = []\n",
    "\n",
    "for k in enzsyn_dict.keys():\n",
    "    # Constraints\n",
    "    lhs = \"v('\" + k + \"')\"\n",
    "    rhs = \"venzSynUB('\" + k + \"')\"\n",
    "    eqn_list.append(lhs + ' =l= ' + rhs + ';')\n",
    "    \n",
    "    # Enzyme flux upper bounds as constants\n",
    "    venzUB.append(\"'\" + k + \"' \" + str(enzsyn_dict[k]))\n",
    "    \n",
    "eqn_idx = ['EnzSyn'+str(i) for i in range(0, len(eqn_list))]\n",
    "eqn_list = ['EnzSyn'+str(i)+'.. ' + eqn_list[i] for i in range(0, len(eqn_list))]\n",
    "\n",
    "venzUB = ['/'] + venzUB + ['/']\n",
    "\n",
    "with open('./minFluxViolation/enzSyn_declares.txt', 'w') as f:\n",
    "    f.write('\\n'.join(eqn_idx))\n",
    "with open('./minFluxViolation/enzSyn_eqns.txt', 'w') as f:\n",
    "    f.write('\\n'.join(eqn_list))\n",
    "with open('./minFluxViolation/enzSyn_venzSynUB.txt', 'w') as f:\n",
    "    f.write('\\n'.join(venzUB))"
   ]
  },
  {
   "cell_type": "code",
   "execution_count": 5,
   "metadata": {},
   "outputs": [],
   "source": [
    "df_eqn = pd.read_excel('../scRBA_build_GAMS_model/model/RBA_stoichiometry.xlsx')\n",
    "df_eqn.index = df_eqn.id.to_list()\n",
    "idx = df_eqn[df_eqn.id.str.contains('^ENZLOAD-')].index"
   ]
  },
  {
   "cell_type": "code",
   "execution_count": 6,
   "metadata": {},
   "outputs": [],
   "source": [
    "#### Add slack variables to reactions whose enzyme concentrations are zeroes or not presence in data\n",
    "eqn_list = []; venzUB = []\n",
    "\n",
    "for i in idx:\n",
    "    if i not in enzload_dict.keys():\n",
    "        # Constraints\n",
    "        lhs = \"v('\" + i + \"')\"\n",
    "        rhs = \"dv('\" + i + \"')\"\n",
    "        eqn_list.append(lhs + ' =l= ' + rhs + ';')\n",
    "\n",
    "eqn_idx = ['EnzFree'+str(i) for i in range(0, len(eqn_list))]\n",
    "eqn_list = ['EnzFree'+str(i)+'.. ' + eqn_list[i] for i in range(0, len(eqn_list))]\n",
    "\n",
    "with open('./minFluxViolation/enzFree_declares.txt', 'w') as f:\n",
    "    f.write('\\n'.join(eqn_idx))\n",
    "with open('./minFluxViolation/enzFree_eqns.txt', 'w') as f:\n",
    "    f.write('\\n'.join(eqn_list))"
   ]
  },
  {
   "cell_type": "code",
   "execution_count": 7,
   "metadata": {},
   "outputs": [],
   "source": [
    "df_enz = pd.read_excel('../scRBA_build_GAMS_model/input/ENZYME_stoich_curation_2021-10-01.xlsx')\n",
    "df_enz.index = df_enz.id.to_list()\n",
    "\n",
    "mw_dict = dict()\n",
    "for i in df_enz.index:\n",
    "    enzid = 'ENZSYN-' + i.split('-', maxsplit=2)[2]\n",
    "    mw_dict[enzid] = df_enz.loc[i, 'MW (g/mmol)']"
   ]
  },
  {
   "cell_type": "code",
   "execution_count": 28,
   "metadata": {},
   "outputs": [
    {
     "name": "stdout",
     "output_type": "stream",
     "text": [
      "0.2167681731914843\n"
     ]
    }
   ],
   "source": [
    "enztot = 0\n",
    "for k,v in enzsyn_dict.items():\n",
    "    enztot += v * mw_dict[k]\n",
    "print(enztot / 0.4)"
   ]
  },
  {
   "cell_type": "code",
   "execution_count": null,
   "metadata": {},
   "outputs": [],
   "source": []
  },
  {
   "cell_type": "code",
   "execution_count": null,
   "metadata": {},
   "outputs": [],
   "source": []
  }
 ],
 "metadata": {
  "kernelspec": {
   "display_name": "Python 3",
   "language": "python",
   "name": "python3"
  },
  "language_info": {
   "codemirror_mode": {
    "name": "ipython",
    "version": 3
   },
   "file_extension": ".py",
   "mimetype": "text/x-python",
   "name": "python",
   "nbconvert_exporter": "python",
   "pygments_lexer": "ipython3",
   "version": "3.7.9"
  }
 },
 "nbformat": 4,
 "nbformat_minor": 4
}
