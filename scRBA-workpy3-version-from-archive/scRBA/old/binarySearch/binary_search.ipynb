{
 "cells": [
  {
   "cell_type": "code",
   "execution_count": 1,
   "metadata": {},
   "outputs": [],
   "source": [
    "import cobra\n",
    "import pandas as pd\n",
    "import json\n",
    "from copy import deepcopy\n",
    "from custom_functions_scRBA import *\n",
    "\n",
    "import sys\n",
    "sys.path.append('/home/hvdinh16/Workspace/workpy3/common/')\n",
    "from custom_functions import make_escher_csv"
   ]
  },
  {
   "cell_type": "markdown",
   "metadata": {},
   "source": [
    "#### FBA optimization python function"
   ]
  },
  {
   "cell_type": "code",
   "execution_count": 2,
   "metadata": {},
   "outputs": [],
   "source": [
    "def evalModelAtMu(model, coeffs, mu, biomId='BIODIL-BIODILRESPIRATION'):\n",
    "#def evalModelAtMu(model, coeffs, mu, biomId='BIODIL-BIODILFERMENTATION'):\n",
    "    # Need to load cobraModel \"model\", unevaluated symbolic coefficients \"coeffs\",\n",
    "    # and growth rate at which the model is evaluated \"mu\"\n",
    "    # \"Unevaluated symbolic coefficients\" means the symbolic expression in string\n",
    "    # form before being evaluated into number in float form via eval(\"string\")\n",
    "    \n",
    "    # Evaluated symbolic coefficients\n",
    "    coeffs_eval = dict()\n",
    "    for k,v in coeffs.items():\n",
    "        coeffs_eval[k] = eval(str(v))\n",
    "    #coeffs_eval = {k:eval(str(v)) for k,v in coeffs.items()}\n",
    "    \n",
    "    # Implemented evaluated symbolic coefficients to model\n",
    "    for k,v in coeffs_eval.items():\n",
    "        r,m = k\n",
    "        rxn = model.reactions.get_by_id(r)\n",
    "        met = model.metabolites.get_by_id(m)\n",
    "        rxn.add_metabolites({met:v})\n",
    "        \n",
    "    # Set growth rate mu\n",
    "    model.reactions.get_by_id(biomId).bounds = (mu,mu)\n",
    "    \n",
    "    # Run FBA\n",
    "    fba = model.optimize()\n",
    "    \n",
    "    # Remove symbolic coefficients implementation\n",
    "    for k,v in coeffs_eval.items():\n",
    "        r,m = k\n",
    "        rxn = model.reactions.get_by_id(r)\n",
    "        met = model.metabolites.get_by_id(m)\n",
    "        rxn.subtract_metabolites({met:v})\n",
    "    \n",
    "    return(fba)"
   ]
  },
  {
   "cell_type": "code",
   "execution_count": 3,
   "metadata": {},
   "outputs": [],
   "source": [
    "def selectCoeffSet(mu, breakpoint, coeffs_low, coeffs_high):\n",
    "    if mu < breakpoint:\n",
    "        coeffs = deepcopy(coeffs_low)\n",
    "    else:\n",
    "        coeffs = deepcopy(coeffs_high)\n",
    "    return(coeffs)"
   ]
  },
  {
   "cell_type": "markdown",
   "metadata": {},
   "source": [
    "#### Prepare model"
   ]
  },
  {
   "cell_type": "code",
   "execution_count": 4,
   "metadata": {
    "scrolled": true
   },
   "outputs": [
    {
     "name": "stdout",
     "output_type": "stream",
     "text": [
      "Using license file /home/hvdinh16/Workspace/Softwares/gurobi910/linux64/gurobi.lic\n",
      "Academic license - for non-commercial use only - expires 2021-07-26\n"
     ]
    }
   ],
   "source": [
    "model = cobra.io.load_json_model('./models/cobraModel_constantStoichOnly_noObj.json')\n",
    "model.solver = 'cplex'\n",
    "model.solver.configuration.tolerances.feasibility = 1e-9\n",
    "model.solver.configuration.tolerances.optimality = 1e-7\n",
    "\n",
    "#rxn = cobra.Reaction('BIODIL-ProtBiomM2C')\n",
    "#model.add_reaction(rxn)\n",
    "#rxn.reaction = 'BIO-modeledProtBiom_m --> BIO-modeledProtBiom_c'\n",
    "\n",
    "model.reactions.get_by_id('DMRXNS-BIO-modeledProtBiom_m').bounds = (0,0)\n",
    "model.reactions.get_by_id('DMRXNS-BIO-modeledProtBiom_c').bounds = (0,0)\n",
    "model.reactions.get_by_id('DMRXNS-BIO-unmodeledProtBiom').bounds = (0,0)\n",
    "\n",
    "model.reactions.get_by_id('BIODIL-BIODILFERMENTATION').bounds = (0,0)\n",
    "#model.reactions.get_by_id('BIODIL-BIODILRESPIRATION').bounds = (0,0)"
   ]
  },
  {
   "cell_type": "code",
   "execution_count": 5,
   "metadata": {},
   "outputs": [],
   "source": [
    "with open('./models/symbolicStoich_lower_0_211.json') as f:\n",
    "    coeffs_low = json.load(f)\n",
    "with open('./models/symbolicStoich_higher_0_211.json') as f:\n",
    "    coeffs_high = json.load(f)\n",
    "    \n",
    "coeffs_low = {tuple(k.split(' | ')):v for k,v in coeffs_low.items()}\n",
    "coeffs_high = {tuple(k.split(' | ')):v for k,v in coeffs_high.items()}"
   ]
  },
  {
   "cell_type": "markdown",
   "metadata": {},
   "source": [
    "#### Binary search"
   ]
  },
  {
   "cell_type": "code",
   "execution_count": 6,
   "metadata": {},
   "outputs": [],
   "source": [
    "glc = 1000\n",
    "model.reactions.get_by_id('RXN-EX_glc__D_e_REV-SPONT').bounds = (0,glc)\n",
    "model.reactions.get_by_id('RXN-EX_glc__D_e_FWD-SPONT').bounds = (0,0)\n",
    "model.reactions.get_by_id('DMRXNS-BIO-rna_c').bounds = (0,0)"
   ]
  },
  {
   "cell_type": "code",
   "execution_count": 7,
   "metadata": {},
   "outputs": [
    {
     "name": "stderr",
     "output_type": "stream",
     "text": [
      "/home/hvdinh16/Workspace/workpy3/lib/python3.7/site-packages/cobra/util/solver.py:430: UserWarning: solver status is 'infeasible'\n",
      "  warn(\"solver status is '{}'\".format(status), UserWarning)\n"
     ]
    },
    {
     "name": "stdout",
     "output_type": "stream",
     "text": [
      "\u001b[92mmu = 0.2100000, status = optimal\u001b[0m\n",
      "\u001b[91mmu = 0.3150000, status = infeasible\u001b[0m\n",
      "\u001b[91mmu = 0.2625000, status = infeasible\u001b[0m\n",
      "\u001b[91mmu = 0.2362500, status = infeasible\u001b[0m\n",
      "\u001b[91mmu = 0.2231250, status = infeasible\u001b[0m\n",
      "\u001b[91mmu = 0.2165625, status = infeasible\u001b[0m\n",
      "\u001b[91mmu = 0.2132812, status = infeasible\u001b[0m\n",
      "\u001b[91mmu = 0.2116406, status = infeasible\u001b[0m\n",
      "\u001b[91mmu = 0.2108203, status = infeasible\u001b[0m\n",
      "\u001b[92mmu = 0.2104102, status = optimal\u001b[0m\n",
      "\u001b[92mmu = 0.2106152, status = optimal\u001b[0m\n",
      "\u001b[91mmu = 0.2107178, status = infeasible\u001b[0m\n",
      "\u001b[91mmu = 0.2106665, status = infeasible\u001b[0m\n",
      "\u001b[91mmu = 0.2106409, status = infeasible\u001b[0m\n",
      "\u001b[92mmu = 0.2106281, status = optimal\u001b[0m\n",
      "\u001b[92mmu = 0.2106345, status = optimal\u001b[0m\n"
     ]
    }
   ],
   "source": [
    "mu_min0 = 0; mu_max0 = 0.42; mu_tol = 1e-5; maxiter = 50;\n",
    "mu_min = mu_min0; mu_max = mu_max0; itercount = 0;\n",
    "\n",
    "class bcolors:\n",
    "    GREEN = '\\033[92m' #GREEN\n",
    "    RED = '\\033[91m' #RED\n",
    "    RESET = '\\033[0m' #RESET COLOR\n",
    "\n",
    "# Test evaluation at zero\n",
    "coeffs = selectCoeffSet(0, 0.211, coeffs_low, coeffs_high)\n",
    "fba = evalModelAtMu(model, coeffs, 0)\n",
    "if fba.status == 'infeasible':\n",
    "    print('Model is infeasible at mu = 0, check model connectivity')\n",
    "\n",
    "# Start binary search\n",
    "# Evaluate min feasibility\n",
    "mu = mu_min;\n",
    "coeffs = selectCoeffSet(mu, 0.211, coeffs_low, coeffs_high)\n",
    "fba = evalModelAtMu(model, coeffs, mu)\n",
    "if fba.status == 'infeasible':\n",
    "    mu_max = mu_min\n",
    "    mu_min = 0\n",
    "    print(f\"{bcolors.RED}mu = {mu:.7f}, status = {fba.status}{bcolors.RESET}\")\n",
    "    \n",
    "# Evaluate max infeasibility\n",
    "mu = mu_max;\n",
    "coeffs = selectCoeffSet(mu, 0.211, coeffs_low, coeffs_high)\n",
    "fba = evalModelAtMu(model, coeffs, mu)\n",
    "while fba.status == 'optimal':\n",
    "    print(f\"{bcolors.GREEN}mu = {mu:.7f}, status = {fba.status}{bcolors.RESET}\")\n",
    "    mu_max = 1.5*mu_max\n",
    "    mu = mu_max;\n",
    "    coeffs = selectCoeffSet(mu, 0.211, coeffs_low, coeffs_high)\n",
    "    fba = evalModelAtMu(model, coeffs, mu)\n",
    "\n",
    "# Update min-max\n",
    "mu = float(mu_min + mu_max) / 2; fba_final = None;\n",
    "while mu_max - mu_min > mu_tol and itercount < maxiter:\n",
    "    itercount += 1\n",
    "        \n",
    "    coeffs = selectCoeffSet(mu, 0.211, coeffs_low, coeffs_high)\n",
    "    fba = evalModelAtMu(model, coeffs, mu)\n",
    "    if fba.status == 'optimal':\n",
    "        mu_min = mu\n",
    "        fba_final = fba\n",
    "        print(f\"{bcolors.GREEN}mu = {mu:.7f}, status = {fba.status}{bcolors.RESET}\")\n",
    "    else:\n",
    "        mu_max = mu\n",
    "        print(f\"{bcolors.RED}mu = {mu:.7f}, status = {fba.status}{bcolors.RESET}\")\n",
    "        \n",
    "    mu = float(mu_min + mu_max) / 2"
   ]
  },
  {
   "cell_type": "code",
   "execution_count": 9,
   "metadata": {},
   "outputs": [],
   "source": [
    "make_escher_csv(fba_final, './test.escher.csv')"
   ]
  },
  {
   "cell_type": "code",
   "execution_count": null,
   "metadata": {},
   "outputs": [],
   "source": []
  },
  {
   "cell_type": "code",
   "execution_count": null,
   "metadata": {},
   "outputs": [],
   "source": []
  },
  {
   "cell_type": "code",
   "execution_count": 6,
   "metadata": {},
   "outputs": [],
   "source": [
    "glc = 1000\n",
    "model.reactions.get_by_id('RXN-EX_glc__D_e_REV-SPONT').bounds = (0,glc)\n",
    "model.reactions.get_by_id('RXN-EX_glc__D_e_FWD-SPONT').bounds = (0,0)\n",
    "#model.reactions.get_by_id('DMRXNS-BIO-rna_c').bounds = (0,0)"
   ]
  },
  {
   "cell_type": "code",
   "execution_count": 7,
   "metadata": {},
   "outputs": [
    {
     "name": "stdout",
     "output_type": "stream",
     "text": [
      "\u001b[92mmu = 0.4200000, status = optimal\u001b[0m\n",
      "\u001b[92mmu = 0.6300000, status = optimal\u001b[0m\n"
     ]
    },
    {
     "name": "stderr",
     "output_type": "stream",
     "text": [
      "/home/hvdinh16/Workspace/workpy3/lib/python3.7/site-packages/cobra/util/solver.py:430: UserWarning: solver status is 'infeasible'\n",
      "  warn(\"solver status is '{}'\".format(status), UserWarning)\n"
     ]
    },
    {
     "name": "stdout",
     "output_type": "stream",
     "text": [
      "\u001b[92mmu = 0.4725000, status = optimal\u001b[0m\n",
      "\u001b[91mmu = 0.7087500, status = infeasible\u001b[0m\n",
      "\u001b[92mmu = 0.5906250, status = optimal\u001b[0m\n",
      "\u001b[91mmu = 0.6496875, status = infeasible\u001b[0m\n",
      "\u001b[92mmu = 0.6201562, status = optimal\u001b[0m\n",
      "\u001b[92mmu = 0.6349219, status = optimal\u001b[0m\n",
      "\u001b[92mmu = 0.6423047, status = optimal\u001b[0m\n",
      "\u001b[91mmu = 0.6459961, status = infeasible\u001b[0m\n",
      "\u001b[92mmu = 0.6441504, status = optimal\u001b[0m\n",
      "\u001b[92mmu = 0.6450732, status = optimal\u001b[0m\n",
      "\u001b[91mmu = 0.6455347, status = infeasible\u001b[0m\n",
      "\u001b[92mmu = 0.6453040, status = optimal\u001b[0m\n",
      "\u001b[91mmu = 0.6454193, status = infeasible\u001b[0m\n",
      "\u001b[92mmu = 0.6453616, status = optimal\u001b[0m\n",
      "\u001b[92mmu = 0.6453905, status = optimal\u001b[0m\n",
      "\u001b[92mmu = 0.6454049, status = optimal\u001b[0m\n",
      "\u001b[91mmu = 0.6454121, status = infeasible\u001b[0m\n"
     ]
    }
   ],
   "source": [
    "mu_min0 = 0; mu_max0 = 0.42; mu_tol = 1e-5; maxiter = 50;\n",
    "mu_min = mu_min0; mu_max = mu_max0; itercount = 0;\n",
    "\n",
    "class bcolors:\n",
    "    GREEN = '\\033[92m' #GREEN\n",
    "    RED = '\\033[91m' #RED\n",
    "    RESET = '\\033[0m' #RESET COLOR\n",
    "\n",
    "# Test evaluation at zero\n",
    "coeffs = selectCoeffSet(0, 0.211, coeffs_low, coeffs_high)\n",
    "fba = evalModelAtMu(model, coeffs, 0)\n",
    "if fba.status == 'infeasible':\n",
    "    print('Model is infeasible at mu = 0, check model connectivity')\n",
    "\n",
    "# Start binary search\n",
    "# Evaluate min feasibility\n",
    "mu = mu_min;\n",
    "coeffs = selectCoeffSet(mu, 0.211, coeffs_low, coeffs_high)\n",
    "fba = evalModelAtMu(model, coeffs, mu)\n",
    "if fba.status == 'infeasible':\n",
    "    mu_max = mu_min\n",
    "    mu_min = 0\n",
    "    print(f\"{bcolors.RED}mu = {mu:.7f}, status = {fba.status}{bcolors.RESET}\")\n",
    "    \n",
    "# Evaluate max infeasibility\n",
    "mu = mu_max;\n",
    "coeffs = selectCoeffSet(mu, 0.211, coeffs_low, coeffs_high)\n",
    "fba = evalModelAtMu(model, coeffs, mu)\n",
    "while fba.status == 'optimal':\n",
    "    print(f\"{bcolors.GREEN}mu = {mu:.7f}, status = {fba.status}{bcolors.RESET}\")\n",
    "    mu_max = 1.5*mu_max\n",
    "    mu = mu_max;\n",
    "    coeffs = selectCoeffSet(mu, 0.211, coeffs_low, coeffs_high)\n",
    "    fba = evalModelAtMu(model, coeffs, mu)\n",
    "\n",
    "# Update min-max\n",
    "mu = float(mu_min + mu_max) / 2; fba_final = None;\n",
    "while mu_max - mu_min > mu_tol and itercount < maxiter:\n",
    "    itercount += 1\n",
    "        \n",
    "    coeffs = selectCoeffSet(mu, 0.211, coeffs_low, coeffs_high)\n",
    "    fba = evalModelAtMu(model, coeffs, mu)\n",
    "    if fba.status == 'optimal':\n",
    "        mu_min = mu\n",
    "        fba_final = fba\n",
    "        print(f\"{bcolors.GREEN}mu = {mu:.7f}, status = {fba.status}{bcolors.RESET}\")\n",
    "    else:\n",
    "        mu_max = mu\n",
    "        print(f\"{bcolors.RED}mu = {mu:.7f}, status = {fba.status}{bcolors.RESET}\")\n",
    "        \n",
    "    mu = float(mu_min + mu_max) / 2"
   ]
  },
  {
   "cell_type": "code",
   "execution_count": 8,
   "metadata": {},
   "outputs": [],
   "source": [
    "make_escher_csv(fba_final, './test_noLimit_rRNA.escher.csv')"
   ]
  },
  {
   "cell_type": "code",
   "execution_count": null,
   "metadata": {},
   "outputs": [],
   "source": []
  },
  {
   "cell_type": "code",
   "execution_count": null,
   "metadata": {},
   "outputs": [],
   "source": []
  },
  {
   "cell_type": "code",
   "execution_count": null,
   "metadata": {},
   "outputs": [],
   "source": []
  },
  {
   "cell_type": "code",
   "execution_count": 10,
   "metadata": {},
   "outputs": [
    {
     "name": "stdout",
     "output_type": "stream",
     "text": [
      "Growth rate: 0.5807128906249999\n",
      "Ethanol: 0.0\n",
      "RXN-EX_nh4_e_REV-SPONT 4.5886981276815435\n",
      "RXN-EX_co2_e_FWD-SPONT 17.052075763881046\n",
      "RXN-EX_glc__D_e_REV-SPONT 6.913949357429679\n",
      "RXN-EX_gcald_e_FWD-SPONT 6.13128510704866e-05\n",
      "RXN-EX_h_e_FWD-SPONT 1.6022524937540257\n",
      "RXN-EX_fe2_e_REV-SPONT 0.0003263360264448513\n",
      "RXN-EX_o2_e_REV-SPONT 16.20132383854176\n",
      "RXN-EX_pi_e_REV-SPONT 0.3908456937476686\n",
      "RXN-EX_k_e_REV-SPONT 0.13969527873621954\n",
      "RXN-EX_so4_e_REV-SPONT 0.15851320767951474\n",
      "RXN-EX_h2o_e_FWD-SPONT 29.7237158101146\n",
      "RXN-EX_cu2_e_REV-SPONT 8.58022324830105e-05\n",
      "RXN-EX_mn2_e_REV-SPONT 2.6051925646674407e-05\n",
      "RXN-EX_zn2_e_REV-SPONT 0.0005906148532357512\n",
      "RXN-EX_mg2_e_REV-SPONT 0.014983419046922093\n",
      "RXN-EX_ca2_e_REV-SPONT 0.0002973249999999999\n",
      "RXN-EX_cobalt2_e_REV-SPONT 1.3348413106883243e-05\n",
      "RXN-EX_ni2_e_REV-SPONT 2.617396632826903e-06\n"
     ]
    }
   ],
   "source": [
    "print('Growth rate:', fba_final.fluxes['BIODIL-BIODILRESPIRATION'])\n",
    "print('Ethanol:', fba_final.fluxes['RXN-EX_etoh_e_FWD-SPONT'])\n",
    "for rxn in fba_final.fluxes.index:\n",
    "    if rxn[:7] == 'RXN-EX_' and fba_final.fluxes[rxn] > 0:\n",
    "        print(rxn, fba_final[rxn])"
   ]
  },
  {
   "cell_type": "code",
   "execution_count": null,
   "metadata": {},
   "outputs": [],
   "source": []
  },
  {
   "cell_type": "code",
   "execution_count": null,
   "metadata": {},
   "outputs": [],
   "source": []
  },
  {
   "cell_type": "code",
   "execution_count": null,
   "metadata": {},
   "outputs": [],
   "source": []
  },
  {
   "cell_type": "code",
   "execution_count": null,
   "metadata": {},
   "outputs": [],
   "source": []
  },
  {
   "cell_type": "code",
   "execution_count": 15,
   "metadata": {},
   "outputs": [],
   "source": [
    "df_rxns = pd.read_excel('../scRBA_new/scRAM_network_frompy.xlsx')"
   ]
  },
  {
   "cell_type": "code",
   "execution_count": 16,
   "metadata": {},
   "outputs": [
    {
     "data": {
      "text/html": [
       "<div>\n",
       "<style scoped>\n",
       "    .dataframe tbody tr th:only-of-type {\n",
       "        vertical-align: middle;\n",
       "    }\n",
       "\n",
       "    .dataframe tbody tr th {\n",
       "        vertical-align: top;\n",
       "    }\n",
       "\n",
       "    .dataframe thead th {\n",
       "        text-align: right;\n",
       "    }\n",
       "</style>\n",
       "<table border=\"1\" class=\"dataframe\">\n",
       "  <thead>\n",
       "    <tr style=\"text-align: right;\">\n",
       "      <th></th>\n",
       "      <th>id</th>\n",
       "      <th>type</th>\n",
       "      <th>symbolic_coeffs</th>\n",
       "      <th>reaction</th>\n",
       "    </tr>\n",
       "  </thead>\n",
       "  <tbody>\n",
       "    <tr>\n",
       "      <th>1709</th>\n",
       "      <td>RXN-2PHETOHt_c_e_FWD-SPONT</td>\n",
       "      <td>metabolic</td>\n",
       "      <td>NaN</td>\n",
       "      <td>MET-2phetoh_e --&gt; MET-2phetoh_c</td>\n",
       "    </tr>\n",
       "    <tr>\n",
       "      <th>1710</th>\n",
       "      <td>RXN-2PHETOHt_c_e_REV-SPONT</td>\n",
       "      <td>metabolic</td>\n",
       "      <td>NaN</td>\n",
       "      <td>MET-2phetoh_c --&gt; MET-2phetoh_e</td>\n",
       "    </tr>\n",
       "    <tr>\n",
       "      <th>1928</th>\n",
       "      <td>RXN-ETOHt_c_e_FWD-SPONT</td>\n",
       "      <td>metabolic</td>\n",
       "      <td>NaN</td>\n",
       "      <td>MET-etoh_c --&gt; MET-etoh_e</td>\n",
       "    </tr>\n",
       "    <tr>\n",
       "      <th>1929</th>\n",
       "      <td>RXN-ETOHt_c_e_REV-SPONT</td>\n",
       "      <td>metabolic</td>\n",
       "      <td>NaN</td>\n",
       "      <td>MET-etoh_e --&gt; MET-etoh_c</td>\n",
       "    </tr>\n",
       "  </tbody>\n",
       "</table>\n",
       "</div>"
      ],
      "text/plain": [
       "                              id       type symbolic_coeffs  \\\n",
       "1709  RXN-2PHETOHt_c_e_FWD-SPONT  metabolic             NaN   \n",
       "1710  RXN-2PHETOHt_c_e_REV-SPONT  metabolic             NaN   \n",
       "1928     RXN-ETOHt_c_e_FWD-SPONT  metabolic             NaN   \n",
       "1929     RXN-ETOHt_c_e_REV-SPONT  metabolic             NaN   \n",
       "\n",
       "                             reaction  \n",
       "1709  MET-2phetoh_e --> MET-2phetoh_c  \n",
       "1710  MET-2phetoh_c --> MET-2phetoh_e  \n",
       "1928        MET-etoh_c --> MET-etoh_e  \n",
       "1929        MET-etoh_e --> MET-etoh_c  "
      ]
     },
     "execution_count": 16,
     "metadata": {},
     "output_type": "execute_result"
    }
   ],
   "source": [
    "df_rxns[df_rxns.id.str.contains('ETOHt_c_e')]"
   ]
  },
  {
   "cell_type": "code",
   "execution_count": null,
   "metadata": {},
   "outputs": [],
   "source": []
  },
  {
   "cell_type": "markdown",
   "metadata": {},
   "source": [
    "Test model evaluation"
   ]
  },
  {
   "cell_type": "code",
   "execution_count": 6,
   "metadata": {},
   "outputs": [],
   "source": [
    "mu = 0.1\n",
    "if mu < 0.211:\n",
    "    coeffs = deepcopy(coeffs_low)\n",
    "else:\n",
    "    coeffs = deepcopy(coeffs_high)\n",
    "fba = evalModelAtMu(model, coeffs, mu)"
   ]
  },
  {
   "cell_type": "code",
   "execution_count": 7,
   "metadata": {},
   "outputs": [
    {
     "data": {
      "text/html": [
       "<strong><em>Optimal</em> solution with objective value -108.724</strong><br><div>\n",
       "<style scoped>\n",
       "    .dataframe tbody tr th:only-of-type {\n",
       "        vertical-align: middle;\n",
       "    }\n",
       "\n",
       "    .dataframe tbody tr th {\n",
       "        vertical-align: top;\n",
       "    }\n",
       "\n",
       "    .dataframe thead th {\n",
       "        text-align: right;\n",
       "    }\n",
       "</style>\n",
       "<table border=\"1\" class=\"dataframe\">\n",
       "  <thead>\n",
       "    <tr style=\"text-align: right;\">\n",
       "      <th></th>\n",
       "      <th>fluxes</th>\n",
       "      <th>reduced_costs</th>\n",
       "    </tr>\n",
       "  </thead>\n",
       "  <tbody>\n",
       "    <tr>\n",
       "      <th>RXN-BTDDH_c_FWD-YAL060W</th>\n",
       "      <td>0.000000</td>\n",
       "      <td>-6.696900e-15</td>\n",
       "    </tr>\n",
       "    <tr>\n",
       "      <th>RXN-BTDDH_c_REV-YAL060W</th>\n",
       "      <td>0.000000</td>\n",
       "      <td>-3.979008e+00</td>\n",
       "    </tr>\n",
       "    <tr>\n",
       "      <th>RXN-13GS_c_FWD-GSC2RHO1</th>\n",
       "      <td>0.000000</td>\n",
       "      <td>-4.190353e-04</td>\n",
       "    </tr>\n",
       "    <tr>\n",
       "      <th>RXN-13GS_c_FWD-GSC1RHO1</th>\n",
       "      <td>0.098991</td>\n",
       "      <td>-1.708789e-14</td>\n",
       "    </tr>\n",
       "    <tr>\n",
       "      <th>RXN-16GS_c_FWD-YPR159W</th>\n",
       "      <td>0.026050</td>\n",
       "      <td>-1.730257e-14</td>\n",
       "    </tr>\n",
       "    <tr>\n",
       "      <th>...</th>\n",
       "      <td>...</td>\n",
       "      <td>...</td>\n",
       "    </tr>\n",
       "    <tr>\n",
       "      <th>BIODIL-BIODILRESPIRATION</th>\n",
       "      <td>0.100000</td>\n",
       "      <td>-2.174486e+03</td>\n",
       "    </tr>\n",
       "    <tr>\n",
       "      <th>DMRXNS-BIO-unmodeledProtBiom</th>\n",
       "      <td>0.000000</td>\n",
       "      <td>-1.758100e+03</td>\n",
       "    </tr>\n",
       "    <tr>\n",
       "      <th>DMRXNS-BIO-modeledProtBiom_c</th>\n",
       "      <td>0.000000</td>\n",
       "      <td>-1.758100e+03</td>\n",
       "    </tr>\n",
       "    <tr>\n",
       "      <th>DMRXNS-BIO-modeledProtBiom_m</th>\n",
       "      <td>0.000000</td>\n",
       "      <td>-1.758100e+03</td>\n",
       "    </tr>\n",
       "    <tr>\n",
       "      <th>DMRXNS-BIO-rna_c</th>\n",
       "      <td>0.002228</td>\n",
       "      <td>0.000000e+00</td>\n",
       "    </tr>\n",
       "  </tbody>\n",
       "</table>\n",
       "<p>5357 rows × 2 columns</p>\n",
       "</div>"
      ],
      "text/plain": [
       "<Solution -108.724 at 0x7fcae0d16390>"
      ]
     },
     "execution_count": 7,
     "metadata": {},
     "output_type": "execute_result"
    }
   ],
   "source": [
    "fba"
   ]
  },
  {
   "cell_type": "code",
   "execution_count": null,
   "metadata": {},
   "outputs": [],
   "source": []
  }
 ],
 "metadata": {
  "kernelspec": {
   "display_name": "Python 3",
   "language": "python",
   "name": "python3"
  },
  "language_info": {
   "codemirror_mode": {
    "name": "ipython",
    "version": 3
   },
   "file_extension": ".py",
   "mimetype": "text/x-python",
   "name": "python",
   "nbconvert_exporter": "python",
   "pygments_lexer": "ipython3",
   "version": "3.7.9"
  }
 },
 "nbformat": 4,
 "nbformat_minor": 4
}
