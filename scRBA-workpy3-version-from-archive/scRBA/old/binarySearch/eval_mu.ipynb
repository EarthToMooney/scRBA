{
 "cells": [
  {
   "cell_type": "code",
   "execution_count": 2,
   "metadata": {},
   "outputs": [],
   "source": [
    "import cobra\n",
    "import pandas as pd\n",
    "import json\n",
    "from copy import deepcopy\n",
    "from custom_functions_scRBA import *"
   ]
  },
  {
   "cell_type": "code",
   "execution_count": 3,
   "metadata": {},
   "outputs": [
    {
     "name": "stdout",
     "output_type": "stream",
     "text": [
      "Using license file /home/hvdinh16/Workspace/Softwares/gurobi910/linux64/gurobi.lic\n",
      "Academic license - for non-commercial use only - expires 2021-07-26\n"
     ]
    }
   ],
   "source": [
    "model = cobra.io.load_json_model('./models/cobraModel_constantStoichOnly.json')\n",
    "\n",
    "with open('./models/symbolicStoich_lower_0_211.json') as f:\n",
    "    coeffs_low = json.load(f)\n",
    "with open('./models/symbolicStoich_higher_0_211.json') as f:\n",
    "    coeffs_high = json.load(f)\n",
    "    \n",
    "coeffs_low = {tuple(k.split(' | ')):v for k,v in coeffs_low.items()}\n",
    "coeffs_high = {tuple(k.split(' | ')):v for k,v in coeffs_high.items()}"
   ]
  },
  {
   "cell_type": "code",
   "execution_count": 4,
   "metadata": {},
   "outputs": [],
   "source": [
    "model.solver = 'cplex'\n",
    "model.solver.configuration.tolerances.feasibility = 1e-9\n",
    "model.solver.configuration.tolerances.optimality = 1e-7"
   ]
  },
  {
   "cell_type": "code",
   "execution_count": 5,
   "metadata": {},
   "outputs": [],
   "source": [
    "mu = 0.1\n",
    "\n",
    "if mu < 0.211:\n",
    "    coeffs = deepcopy(coeffs_low)\n",
    "else:\n",
    "    coeffs = deepcopy(coeffs_high)\n",
    "coeffs = {k:eval(str(v)) for k,v in coeffs.items()}\n",
    "\n",
    "for k,v in coeffs.items():\n",
    "    r,m = k\n",
    "    rxn = model.reactions.get_by_id(r)\n",
    "    met = model.metabolites.get_by_id(m)\n",
    "    rxn.add_metabolites({met:v})"
   ]
  },
  {
   "cell_type": "code",
   "execution_count": 6,
   "metadata": {},
   "outputs": [
    {
     "data": {
      "text/html": [
       "<strong><em>Optimal</em> solution with objective value -108.724</strong><br><div>\n",
       "<style scoped>\n",
       "    .dataframe tbody tr th:only-of-type {\n",
       "        vertical-align: middle;\n",
       "    }\n",
       "\n",
       "    .dataframe tbody tr th {\n",
       "        vertical-align: top;\n",
       "    }\n",
       "\n",
       "    .dataframe thead th {\n",
       "        text-align: right;\n",
       "    }\n",
       "</style>\n",
       "<table border=\"1\" class=\"dataframe\">\n",
       "  <thead>\n",
       "    <tr style=\"text-align: right;\">\n",
       "      <th></th>\n",
       "      <th>fluxes</th>\n",
       "      <th>reduced_costs</th>\n",
       "    </tr>\n",
       "  </thead>\n",
       "  <tbody>\n",
       "    <tr>\n",
       "      <th>RXN-BTDDH_c_FWD-YAL060W</th>\n",
       "      <td>0.000000</td>\n",
       "      <td>-6.696900e-15</td>\n",
       "    </tr>\n",
       "    <tr>\n",
       "      <th>RXN-BTDDH_c_REV-YAL060W</th>\n",
       "      <td>0.000000</td>\n",
       "      <td>-3.979008e+00</td>\n",
       "    </tr>\n",
       "    <tr>\n",
       "      <th>RXN-13GS_c_FWD-GSC2RHO1</th>\n",
       "      <td>0.000000</td>\n",
       "      <td>-4.190353e-04</td>\n",
       "    </tr>\n",
       "    <tr>\n",
       "      <th>RXN-13GS_c_FWD-GSC1RHO1</th>\n",
       "      <td>0.098991</td>\n",
       "      <td>-1.708789e-14</td>\n",
       "    </tr>\n",
       "    <tr>\n",
       "      <th>RXN-16GS_c_FWD-YPR159W</th>\n",
       "      <td>0.026050</td>\n",
       "      <td>-1.730257e-14</td>\n",
       "    </tr>\n",
       "    <tr>\n",
       "      <th>...</th>\n",
       "      <td>...</td>\n",
       "      <td>...</td>\n",
       "    </tr>\n",
       "    <tr>\n",
       "      <th>BIODIL-BIODILRESPIRATION</th>\n",
       "      <td>0.100000</td>\n",
       "      <td>-2.174486e+03</td>\n",
       "    </tr>\n",
       "    <tr>\n",
       "      <th>DMRXNS-BIO-unmodeledProtBiom</th>\n",
       "      <td>0.000000</td>\n",
       "      <td>-1.758100e+03</td>\n",
       "    </tr>\n",
       "    <tr>\n",
       "      <th>DMRXNS-BIO-modeledProtBiom_c</th>\n",
       "      <td>0.000000</td>\n",
       "      <td>-1.758100e+03</td>\n",
       "    </tr>\n",
       "    <tr>\n",
       "      <th>DMRXNS-BIO-modeledProtBiom_m</th>\n",
       "      <td>0.000000</td>\n",
       "      <td>-1.758100e+03</td>\n",
       "    </tr>\n",
       "    <tr>\n",
       "      <th>DMRXNS-BIO-rna_c</th>\n",
       "      <td>0.002228</td>\n",
       "      <td>0.000000e+00</td>\n",
       "    </tr>\n",
       "  </tbody>\n",
       "</table>\n",
       "<p>5357 rows × 2 columns</p>\n",
       "</div>"
      ],
      "text/plain": [
       "<Solution -108.724 at 0x7f4364922e10>"
      ]
     },
     "execution_count": 6,
     "metadata": {},
     "output_type": "execute_result"
    }
   ],
   "source": [
    "model.reactions.get_by_id('DMRXNS-BIO-modeledProtBiom_m').bounds = (0,0)\n",
    "model.reactions.get_by_id('DMRXNS-BIO-modeledProtBiom_c').bounds = (0,0)\n",
    "model.reactions.get_by_id('DMRXNS-BIO-unmodeledProtBiom').bounds = (0,0)\n",
    "\n",
    "model.reactions.get_by_id('BIODIL-BIODILRESPIRATION').bounds = (mu,mu)\n",
    "model.reactions.get_by_id('BIODIL-BIODILFERMENTATION').bounds = (0,0)\n",
    "\n",
    "#model.objective = dict()\n",
    "#model.reactions.get_by_id('RXN-EX_glc__D_e_REV-SPONT').objective_coefficient = -1\n",
    "#model.reactions.get_by_id('RXN-EX_glc__D_e_FWD-SPONT').objective_coefficient = 1\n",
    "\n",
    "fba = model.optimize()\n",
    "fba"
   ]
  },
  {
   "cell_type": "code",
   "execution_count": 8,
   "metadata": {},
   "outputs": [
    {
     "data": {
      "text/plain": [
       "1.135894478210771"
      ]
     },
     "execution_count": 8,
     "metadata": {},
     "output_type": "execute_result"
    }
   ],
   "source": [
    "fba['RXN-EX_glc__D_e_REV-SPONT']"
   ]
  },
  {
   "cell_type": "code",
   "execution_count": 12,
   "metadata": {},
   "outputs": [],
   "source": [
    "df_flux = fba.fluxes\n",
    "df_flux = df_flux[df_flux > 1e-20]"
   ]
  },
  {
   "cell_type": "code",
   "execution_count": 13,
   "metadata": {},
   "outputs": [
    {
     "data": {
      "text/plain": [
       "RXN-13GS_c_FWD-GSC1RHO1      0.098991\n",
       "RXN-16GS_c_FWD-YPR159W       0.026050\n",
       "RXN-PRMICI_c_FWD-YIL020C     0.024389\n",
       "RXN-DHPPDA2_c_FWD-YOL066C    0.000102\n",
       "RXN-DRAPPRy_c_FWD-YBR153W    0.000102\n",
       "                               ...   \n",
       "BIODIL-PRO4                  0.007371\n",
       "BIODIL-PRO5                  0.006143\n",
       "BIODIL-PRO6                  0.013287\n",
       "BIODIL-BIODILRESPIRATION     0.100000\n",
       "DMRXNS-BIO-rna_c             0.002228\n",
       "Name: fluxes, Length: 1281, dtype: float64"
      ]
     },
     "execution_count": 13,
     "metadata": {},
     "output_type": "execute_result"
    }
   ],
   "source": [
    "df_flux"
   ]
  },
  {
   "cell_type": "code",
   "execution_count": 16,
   "metadata": {
    "scrolled": true
   },
   "outputs": [
    {
     "data": {
      "text/plain": [
       "1.135894478210771"
      ]
     },
     "execution_count": 16,
     "metadata": {},
     "output_type": "execute_result"
    }
   ],
   "source": [
    "df_flux['RXN-HEX1_c_FWD-YFR053C']"
   ]
  },
  {
   "cell_type": "code",
   "execution_count": 17,
   "metadata": {},
   "outputs": [
    {
     "data": {
      "text/plain": [
       "4.0970714241921687e-07"
      ]
     },
     "execution_count": 17,
     "metadata": {},
     "output_type": "execute_result"
    }
   ],
   "source": [
    "df_flux['ENZSYN-YFR053C']"
   ]
  },
  {
   "cell_type": "code",
   "execution_count": 18,
   "metadata": {},
   "outputs": [
    {
     "data": {
      "text/plain": [
       "8.194142848384337e-07"
      ]
     },
     "execution_count": 18,
     "metadata": {},
     "output_type": "execute_result"
    }
   ],
   "source": [
    "df_flux['PROSYN-YFR053C']"
   ]
  },
  {
   "cell_type": "code",
   "execution_count": 19,
   "metadata": {},
   "outputs": [
    {
     "data": {
      "text/plain": [
       "4.248957352697274e-06"
      ]
     },
     "execution_count": 19,
     "metadata": {},
     "output_type": "execute_result"
    }
   ],
   "source": [
    "df_flux['RIBO-riboactive_c']"
   ]
  },
  {
   "cell_type": "code",
   "execution_count": 22,
   "metadata": {},
   "outputs": [
    {
     "data": {
      "text/plain": [
       "4.248957352697274e-06"
      ]
     },
     "execution_count": 22,
     "metadata": {},
     "output_type": "execute_result"
    }
   ],
   "source": [
    "df_flux['RIBO-ribosome_c']"
   ]
  },
  {
   "cell_type": "code",
   "execution_count": null,
   "metadata": {},
   "outputs": [],
   "source": []
  },
  {
   "cell_type": "code",
   "execution_count": 27,
   "metadata": {},
   "outputs": [
    {
     "data": {
      "text/plain": [
       "ENZSYN-YBL030C       0.000005\n",
       "ENZSYN-YJR077C       0.000004\n",
       "ENZSYN-YPR192W_en    0.000004\n",
       "Name: fluxes, dtype: float64"
      ]
     },
     "execution_count": 27,
     "metadata": {},
     "output_type": "execute_result"
    }
   ],
   "source": [
    "df_flux[(df_flux.index.str.contains('ENZSYN-')) & (df_flux > 2e-6)]"
   ]
  },
  {
   "cell_type": "markdown",
   "metadata": {},
   "source": [
    "#### Check ENZSYN fluxes"
   ]
  },
  {
   "cell_type": "code",
   "execution_count": null,
   "metadata": {},
   "outputs": [],
   "source": [
    "df_enzsyn = df_flux[df_flux.index.str.contains('ENZSYN-')]"
   ]
  },
  {
   "cell_type": "code",
   "execution_count": 25,
   "metadata": {},
   "outputs": [
    {
     "data": {
      "text/plain": [
       "<AxesSubplot:>"
      ]
     },
     "execution_count": 25,
     "metadata": {},
     "output_type": "execute_result"
    },
    {
     "data": {
      "image/png": "[encoded data removed]",
      "text/plain": [
       "<Figure size 432x288 with 1 Axes>"
      ]
     },
     "metadata": {
      "needs_background": "light"
     },
     "output_type": "display_data"
    }
   ],
   "source": [
    "df_flux[df_flux.index.str.contains('ENZSYN-')].hist(bins=50)"
   ]
  },
  {
   "cell_type": "code",
   "execution_count": 26,
   "metadata": {},
   "outputs": [
    {
     "data": {
      "text/plain": [
       "<AxesSubplot:>"
      ]
     },
     "execution_count": 26,
     "metadata": {},
     "output_type": "execute_result"
    },
    {
     "data": {
      "image/png": "[encoded data removed]",
      "text/plain": [
       "<Figure size 432x288 with 1 Axes>"
      ]
     },
     "metadata": {
      "needs_background": "light"
     },
     "output_type": "display_data"
    }
   ],
   "source": [
    "df_flux[df_flux.index.str.contains('PROSYN-')].hist(bins=50)"
   ]
  },
  {
   "cell_type": "code",
   "execution_count": 32,
   "metadata": {},
   "outputs": [
    {
     "data": {
      "text/plain": [
       "<AxesSubplot:>"
      ]
     },
     "execution_count": 32,
     "metadata": {},
     "output_type": "execute_result"
    },
    {
     "data": {
      "image/png": "[encoded data removed]",
      "text/plain": [
       "<Figure size 432x288 with 1 Axes>"
      ]
     },
     "metadata": {
      "needs_background": "light"
     },
     "output_type": "display_data"
    }
   ],
   "source": [
    "df_flux[df_flux.index.str.contains('RXN-')].hist(bins=50)"
   ]
  },
  {
   "cell_type": "code",
   "execution_count": 21,
   "metadata": {},
   "outputs": [
    {
     "name": "stdout",
     "output_type": "stream",
     "text": [
      "ENZSYN-YGR267C 1.1361344399999986e-12\n"
     ]
    }
   ],
   "source": [
    "print(df_flux.idxmin(), df_flux.min())"
   ]
  },
  {
   "cell_type": "code",
   "execution_count": 9,
   "metadata": {},
   "outputs": [
    {
     "name": "stdout",
     "output_type": "stream",
     "text": [
      "RXN-H2Ot_c_m_REV-SPONT 12.347551392532004\n"
     ]
    }
   ],
   "source": [
    "print(df_flux.idxmax(), df_flux.max())"
   ]
  },
  {
   "cell_type": "code",
   "execution_count": 28,
   "metadata": {},
   "outputs": [
    {
     "data": {
      "text/plain": [
       "ENZSYN-YBL030C       0.000005\n",
       "ENZSYN-YJR077C       0.000004\n",
       "ENZSYN-YPR192W_en    0.000004\n",
       "Name: fluxes, dtype: float64"
      ]
     },
     "execution_count": 28,
     "metadata": {},
     "output_type": "execute_result"
    }
   ],
   "source": [
    "df_flux[(df_flux.index.str.contains('ENZSYN-')) & (df_flux > 2e-6)]"
   ]
  },
  {
   "cell_type": "code",
   "execution_count": 11,
   "metadata": {},
   "outputs": [],
   "source": [
    "df_rxns = pd.read_excel('../scRBA_new/scRAM_network_frompy.xlsx')"
   ]
  },
  {
   "cell_type": "code",
   "execution_count": 29,
   "metadata": {},
   "outputs": [
    {
     "data": {
      "text/html": [
       "<div>\n",
       "<style scoped>\n",
       "    .dataframe tbody tr th:only-of-type {\n",
       "        vertical-align: middle;\n",
       "    }\n",
       "\n",
       "    .dataframe tbody tr th {\n",
       "        vertical-align: top;\n",
       "    }\n",
       "\n",
       "    .dataframe thead th {\n",
       "        text-align: right;\n",
       "    }\n",
       "</style>\n",
       "<table border=\"1\" class=\"dataframe\">\n",
       "  <thead>\n",
       "    <tr style=\"text-align: right;\">\n",
       "      <th></th>\n",
       "      <th>id</th>\n",
       "      <th>type</th>\n",
       "      <th>symbolic_coeffs</th>\n",
       "      <th>reaction</th>\n",
       "    </tr>\n",
       "  </thead>\n",
       "  <tbody>\n",
       "    <tr>\n",
       "      <th>1195</th>\n",
       "      <td>RXN-ADPATPt_c_m_FWD-YBL030C</td>\n",
       "      <td>metabolic</td>\n",
       "      <td>mu/keff</td>\n",
       "      <td>MET-adp_c + MET-atp_m + mu/keff ENZ-YBL030C --...</td>\n",
       "    </tr>\n",
       "    <tr>\n",
       "      <th>1196</th>\n",
       "      <td>RXN-ADPATPt_c_m_REV-YBL030C</td>\n",
       "      <td>metabolic</td>\n",
       "      <td>mu/keff</td>\n",
       "      <td>MET-adp_m + MET-atp_c + mu/keff ENZ-YBL030C --...</td>\n",
       "    </tr>\n",
       "    <tr>\n",
       "      <th>3838</th>\n",
       "      <td>ENZSYN-YBL030C</td>\n",
       "      <td>enzyme</td>\n",
       "      <td>NaN</td>\n",
       "      <td>2 PRO-YBL030C --&gt; ENZ-YBL030C</td>\n",
       "    </tr>\n",
       "    <tr>\n",
       "      <th>4229</th>\n",
       "      <td>PROSYN-YBL030C</td>\n",
       "      <td>protein</td>\n",
       "      <td>mu*NAA/kribo</td>\n",
       "      <td>MET-fmettrna_c + MET-atp_c + 637 MET-h2o_c + 9...</td>\n",
       "    </tr>\n",
       "  </tbody>\n",
       "</table>\n",
       "</div>"
      ],
      "text/plain": [
       "                               id       type symbolic_coeffs  \\\n",
       "1195  RXN-ADPATPt_c_m_FWD-YBL030C  metabolic         mu/keff   \n",
       "1196  RXN-ADPATPt_c_m_REV-YBL030C  metabolic         mu/keff   \n",
       "3838               ENZSYN-YBL030C     enzyme             NaN   \n",
       "4229               PROSYN-YBL030C    protein    mu*NAA/kribo   \n",
       "\n",
       "                                               reaction  \n",
       "1195  MET-adp_c + MET-atp_m + mu/keff ENZ-YBL030C --...  \n",
       "1196  MET-adp_m + MET-atp_c + mu/keff ENZ-YBL030C --...  \n",
       "3838                      2 PRO-YBL030C --> ENZ-YBL030C  \n",
       "4229  MET-fmettrna_c + MET-atp_c + 637 MET-h2o_c + 9...  "
      ]
     },
     "execution_count": 29,
     "metadata": {},
     "output_type": "execute_result"
    }
   ],
   "source": [
    "df_rxns[df_rxns.reaction.str.contains('YBL030C')]"
   ]
  },
  {
   "cell_type": "code",
   "execution_count": 30,
   "metadata": {},
   "outputs": [
    {
     "data": {
      "text/html": [
       "<div>\n",
       "<style scoped>\n",
       "    .dataframe tbody tr th:only-of-type {\n",
       "        vertical-align: middle;\n",
       "    }\n",
       "\n",
       "    .dataframe tbody tr th {\n",
       "        vertical-align: top;\n",
       "    }\n",
       "\n",
       "    .dataframe thead th {\n",
       "        text-align: right;\n",
       "    }\n",
       "</style>\n",
       "<table border=\"1\" class=\"dataframe\">\n",
       "  <thead>\n",
       "    <tr style=\"text-align: right;\">\n",
       "      <th></th>\n",
       "      <th>id</th>\n",
       "      <th>type</th>\n",
       "      <th>symbolic_coeffs</th>\n",
       "      <th>reaction</th>\n",
       "    </tr>\n",
       "  </thead>\n",
       "  <tbody>\n",
       "    <tr>\n",
       "      <th>1573</th>\n",
       "      <td>RXN-PItps_m_FWD-YJR077C</td>\n",
       "      <td>metabolic</td>\n",
       "      <td>mu/keff</td>\n",
       "      <td>MET-h_c + MET-pi_c + mu/keff ENZ-YJR077C --&gt; M...</td>\n",
       "    </tr>\n",
       "    <tr>\n",
       "      <th>2610</th>\n",
       "      <td>RXN-PIt_m_mm_FWD-YJR077C</td>\n",
       "      <td>metabolic</td>\n",
       "      <td>mu/keff</td>\n",
       "      <td>MET-pi_m + mu/keff ENZ-YJR077C --&gt; MET-pi_mm</td>\n",
       "    </tr>\n",
       "    <tr>\n",
       "      <th>2611</th>\n",
       "      <td>RXN-PIt_m_mm_REV-YJR077C</td>\n",
       "      <td>metabolic</td>\n",
       "      <td>mu/keff</td>\n",
       "      <td>MET-pi_mm + mu/keff ENZ-YJR077C --&gt; MET-pi_m</td>\n",
       "    </tr>\n",
       "    <tr>\n",
       "      <th>3935</th>\n",
       "      <td>ENZSYN-YJR077C</td>\n",
       "      <td>enzyme</td>\n",
       "      <td>NaN</td>\n",
       "      <td>2 PRO-YJR077C --&gt; ENZ-YJR077C</td>\n",
       "    </tr>\n",
       "    <tr>\n",
       "      <th>4710</th>\n",
       "      <td>PROSYN-YJR077C</td>\n",
       "      <td>protein</td>\n",
       "      <td>mu*NAA/kribo</td>\n",
       "      <td>MET-fmettrna_c + MET-atp_c + 623 MET-h2o_c + 6...</td>\n",
       "    </tr>\n",
       "  </tbody>\n",
       "</table>\n",
       "</div>"
      ],
      "text/plain": [
       "                            id       type symbolic_coeffs  \\\n",
       "1573   RXN-PItps_m_FWD-YJR077C  metabolic         mu/keff   \n",
       "2610  RXN-PIt_m_mm_FWD-YJR077C  metabolic         mu/keff   \n",
       "2611  RXN-PIt_m_mm_REV-YJR077C  metabolic         mu/keff   \n",
       "3935            ENZSYN-YJR077C     enzyme             NaN   \n",
       "4710            PROSYN-YJR077C    protein    mu*NAA/kribo   \n",
       "\n",
       "                                               reaction  \n",
       "1573  MET-h_c + MET-pi_c + mu/keff ENZ-YJR077C --> M...  \n",
       "2610       MET-pi_m + mu/keff ENZ-YJR077C --> MET-pi_mm  \n",
       "2611       MET-pi_mm + mu/keff ENZ-YJR077C --> MET-pi_m  \n",
       "3935                      2 PRO-YJR077C --> ENZ-YJR077C  \n",
       "4710  MET-fmettrna_c + MET-atp_c + 623 MET-h2o_c + 6...  "
      ]
     },
     "execution_count": 30,
     "metadata": {},
     "output_type": "execute_result"
    }
   ],
   "source": [
    "df_rxns[df_rxns.reaction.str.contains('YJR077C')]"
   ]
  },
  {
   "cell_type": "code",
   "execution_count": 31,
   "metadata": {},
   "outputs": [
    {
     "data": {
      "text/html": [
       "<div>\n",
       "<style scoped>\n",
       "    .dataframe tbody tr th:only-of-type {\n",
       "        vertical-align: middle;\n",
       "    }\n",
       "\n",
       "    .dataframe tbody tr th {\n",
       "        vertical-align: top;\n",
       "    }\n",
       "\n",
       "    .dataframe thead th {\n",
       "        text-align: right;\n",
       "    }\n",
       "</style>\n",
       "<table border=\"1\" class=\"dataframe\">\n",
       "  <thead>\n",
       "    <tr style=\"text-align: right;\">\n",
       "      <th></th>\n",
       "      <th>id</th>\n",
       "      <th>type</th>\n",
       "      <th>symbolic_coeffs</th>\n",
       "      <th>reaction</th>\n",
       "    </tr>\n",
       "  </thead>\n",
       "  <tbody>\n",
       "    <tr>\n",
       "      <th>3186</th>\n",
       "      <td>RXN-H2Ot_c_e_FWD-YPR192W_en</td>\n",
       "      <td>metabolic</td>\n",
       "      <td>mu/keff</td>\n",
       "      <td>MET-h2o_e + mu/keff ENZ-YPR192W_en --&gt; MET-h2o_c</td>\n",
       "    </tr>\n",
       "    <tr>\n",
       "      <th>3187</th>\n",
       "      <td>RXN-H2Ot_c_e_REV-YPR192W_en</td>\n",
       "      <td>metabolic</td>\n",
       "      <td>mu/keff</td>\n",
       "      <td>MET-h2o_c + mu/keff ENZ-YPR192W_en --&gt; MET-h2o_e</td>\n",
       "    </tr>\n",
       "    <tr>\n",
       "      <th>3217</th>\n",
       "      <td>RXN-H2Ot_c_en_FWD-YPR192W_en</td>\n",
       "      <td>metabolic</td>\n",
       "      <td>mu/keff</td>\n",
       "      <td>MET-h2o_c + mu/keff ENZ-YPR192W_en --&gt; MET-h2o_en</td>\n",
       "    </tr>\n",
       "    <tr>\n",
       "      <th>3218</th>\n",
       "      <td>RXN-H2Ot_c_en_REV-YPR192W_en</td>\n",
       "      <td>metabolic</td>\n",
       "      <td>mu/keff</td>\n",
       "      <td>MET-h2o_en + mu/keff ENZ-YPR192W_en --&gt; MET-h2o_c</td>\n",
       "    </tr>\n",
       "    <tr>\n",
       "      <th>4162</th>\n",
       "      <td>ENZSYN-YPR192W_en</td>\n",
       "      <td>enzyme</td>\n",
       "      <td>NaN</td>\n",
       "      <td>PRO-YPR192W_en --&gt; ENZ-YPR192W_en</td>\n",
       "    </tr>\n",
       "    <tr>\n",
       "      <th>5135</th>\n",
       "      <td>PROSYN-YPR192W_en</td>\n",
       "      <td>protein</td>\n",
       "      <td>mu*NAA/kribo</td>\n",
       "      <td>MET-fmettrna_c + MET-atp_c + 611 MET-h2o_c + 1...</td>\n",
       "    </tr>\n",
       "  </tbody>\n",
       "</table>\n",
       "</div>"
      ],
      "text/plain": [
       "                                id       type symbolic_coeffs  \\\n",
       "3186   RXN-H2Ot_c_e_FWD-YPR192W_en  metabolic         mu/keff   \n",
       "3187   RXN-H2Ot_c_e_REV-YPR192W_en  metabolic         mu/keff   \n",
       "3217  RXN-H2Ot_c_en_FWD-YPR192W_en  metabolic         mu/keff   \n",
       "3218  RXN-H2Ot_c_en_REV-YPR192W_en  metabolic         mu/keff   \n",
       "4162             ENZSYN-YPR192W_en     enzyme             NaN   \n",
       "5135             PROSYN-YPR192W_en    protein    mu*NAA/kribo   \n",
       "\n",
       "                                               reaction  \n",
       "3186   MET-h2o_e + mu/keff ENZ-YPR192W_en --> MET-h2o_c  \n",
       "3187   MET-h2o_c + mu/keff ENZ-YPR192W_en --> MET-h2o_e  \n",
       "3217  MET-h2o_c + mu/keff ENZ-YPR192W_en --> MET-h2o_en  \n",
       "3218  MET-h2o_en + mu/keff ENZ-YPR192W_en --> MET-h2o_c  \n",
       "4162                  PRO-YPR192W_en --> ENZ-YPR192W_en  \n",
       "5135  MET-fmettrna_c + MET-atp_c + 611 MET-h2o_c + 1...  "
      ]
     },
     "execution_count": 31,
     "metadata": {},
     "output_type": "execute_result"
    }
   ],
   "source": [
    "df_rxns[df_rxns.reaction.str.contains('YPR192W_en')]"
   ]
  },
  {
   "cell_type": "code",
   "execution_count": 33,
   "metadata": {},
   "outputs": [
    {
     "data": {
      "text/plain": [
       "PROSYN-DUMMYPRO_c    0.000725\n",
       "Name: fluxes, dtype: float64"
      ]
     },
     "execution_count": 33,
     "metadata": {},
     "output_type": "execute_result"
    }
   ],
   "source": [
    "df_flux[(df_flux.index.str.contains('PROSYN-')) & (df_flux > 0.0005)]"
   ]
  },
  {
   "cell_type": "code",
   "execution_count": null,
   "metadata": {},
   "outputs": [],
   "source": []
  }
 ],
 "metadata": {
  "kernelspec": {
   "display_name": "Python 3",
   "language": "python",
   "name": "python3"
  },
  "language_info": {
   "codemirror_mode": {
    "name": "ipython",
    "version": 3
   },
   "file_extension": ".py",
   "mimetype": "text/x-python",
   "name": "python",
   "nbconvert_exporter": "python",
   "pygments_lexer": "ipython3",
   "version": "3.7.9"
  }
 },
 "nbformat": 4,
 "nbformat_minor": 4
}
