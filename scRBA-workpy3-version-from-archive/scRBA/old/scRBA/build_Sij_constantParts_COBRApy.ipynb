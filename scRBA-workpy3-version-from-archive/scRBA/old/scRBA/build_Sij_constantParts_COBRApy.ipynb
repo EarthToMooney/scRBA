{
 "cells": [
  {
   "cell_type": "code",
   "execution_count": 1,
   "metadata": {},
   "outputs": [],
   "source": [
    "import cobra\n",
    "import pandas as pd\n",
    "from custom_functions_scRBA import *"
   ]
  },
  {
   "cell_type": "code",
   "execution_count": 2,
   "metadata": {},
   "outputs": [
    {
     "name": "stdout",
     "output_type": "stream",
     "text": [
      "Using license file /home/hvdinh16/Workspace/Softwares/gurobi910/linux64/gurobi.lic\n",
      "Academic license - for non-commercial use only - expires 2022-08-08\n"
     ]
    }
   ],
   "source": [
    "model = cobra.Model('scRBA_model')\n",
    "model.solver = 'cplex'"
   ]
  },
  {
   "cell_type": "markdown",
   "metadata": {},
   "source": [
    "#### Add species to model"
   ]
  },
  {
   "cell_type": "code",
   "execution_count": 3,
   "metadata": {},
   "outputs": [],
   "source": [
    "with open('./model/RBA_species.txt') as f:\n",
    "    species = f.read().split('\\n')\n",
    "for m in species:\n",
    "    met = cobra.Metabolite(m)\n",
    "    model.add_metabolites(met)"
   ]
  },
  {
   "cell_type": "markdown",
   "metadata": {},
   "source": [
    "#### Add reactions to model"
   ]
  },
  {
   "cell_type": "code",
   "execution_count": 4,
   "metadata": {},
   "outputs": [],
   "source": [
    "# Add reactions\n",
    "df_rxns = pd.read_excel('./model/RBA_stoichiometry.xlsx')\n",
    "df_rxns.index = df_rxns.id.to_list()"
   ]
  },
  {
   "cell_type": "code",
   "execution_count": 5,
   "metadata": {},
   "outputs": [],
   "source": [
    "for r in df_rxns.index:\n",
    "    x = metabolites_dict_from_reaction_equation_RBA(df_rxns.reaction[r])\n",
    "    met_dict = dict()\n",
    "    for k,v in x.items():\n",
    "        if is_number(v):\n",
    "            met_dict[k] = v\n",
    "    \n",
    "    rxn = cobra.Reaction(r)\n",
    "    model.add_reaction(rxn)\n",
    "    rxn.reaction = build_reaction_equation_from_metabolites_dict_RBA(met_dict, arrow='-->')\n",
    "    rxn.bounds = (0,1e7)"
   ]
  },
  {
   "cell_type": "markdown",
   "metadata": {},
   "source": [
    "#### Save"
   ]
  },
  {
   "cell_type": "code",
   "execution_count": 6,
   "metadata": {},
   "outputs": [],
   "source": [
    "cobra.io.save_json_model(model, './model/RBA_constantSij.cobra.json')"
   ]
  },
  {
   "cell_type": "code",
   "execution_count": null,
   "metadata": {},
   "outputs": [],
   "source": []
  }
 ],
 "metadata": {
  "kernelspec": {
   "display_name": "Python 3",
   "language": "python",
   "name": "python3"
  },
  "language_info": {
   "codemirror_mode": {
    "name": "ipython",
    "version": 3
   },
   "file_extension": ".py",
   "mimetype": "text/x-python",
   "name": "python",
   "nbconvert_exporter": "python",
   "pygments_lexer": "ipython3",
   "version": "3.7.9"
  }
 },
 "nbformat": 4,
 "nbformat_minor": 4
}
