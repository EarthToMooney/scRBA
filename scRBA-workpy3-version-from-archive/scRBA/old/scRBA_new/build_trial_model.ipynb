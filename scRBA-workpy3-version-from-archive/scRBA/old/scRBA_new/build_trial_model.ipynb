{
 "cells": [
  {
   "cell_type": "code",
   "execution_count": 1,
   "metadata": {},
   "outputs": [],
   "source": [
    "import cobra\n",
    "import pandas as pd\n",
    "import json\n",
    "from custom_functions_scRBA import *"
   ]
  },
  {
   "cell_type": "markdown",
   "metadata": {},
   "source": [
    "#### Add reactions"
   ]
  },
  {
   "cell_type": "code",
   "execution_count": 2,
   "metadata": {},
   "outputs": [
    {
     "name": "stdout",
     "output_type": "stream",
     "text": [
      "Using license file /home/hvdinh16/Workspace/Softwares/gurobi910/linux64/gurobi.lic\n",
      "Academic license - for non-commercial use only - expires 2021-07-26\n"
     ]
    }
   ],
   "source": [
    "mu_s = [0, 0.1, 0.2, 0.3, 0.4, 0.5]\n",
    "for mu in mu_s:\n",
    "    # Create a blank model\n",
    "    model = cobra.Model('test')\n",
    "    \n",
    "    # Add metabolites and species\n",
    "    with open('./species.txt') as f:\n",
    "        species = f.read().split('\\n')\n",
    "    for m in species:\n",
    "        met = cobra.Metabolite(m)\n",
    "        model.add_metabolites(met)\n",
    "    \n",
    "    # Add reactions\n",
    "    df_rxns = pd.read_excel('./scRAM_network_frompy.xlsx')\n",
    "    df_rxns.index = df_rxns.id.to_list()\n",
    "\n",
    "    if mu > 0.211:\n",
    "        with open('./symbolic_stoich/sij_higher_0_211.json') as f:\n",
    "            coeffs = json.load(f)\n",
    "    else:\n",
    "        with open('./symbolic_stoich/sij_lower_0_211.json') as f:\n",
    "            coeffs = json.load(f)\n",
    "\n",
    "    coeffs = {k:eval(str(v)) for k,v in coeffs.items()}\n",
    "\n",
    "    for r in df_rxns.index:\n",
    "        x = metabolites_dict_from_reaction_equation_RBA(df_rxns.reaction[r])\n",
    "        met_dict = dict()\n",
    "        for k,v in x.items():\n",
    "            if is_number(v):\n",
    "                met_dict[k] = v\n",
    "            else:\n",
    "                met_dict[k] = coeffs[\"'\" + k + \"'.'\" + r + \"'\"]\n",
    "\n",
    "        rxn = cobra.Reaction(r)\n",
    "        model.add_reaction(rxn)\n",
    "        rxn.reaction = build_reaction_equation_from_metabolites_dict_RBA(met_dict, arrow='-->')\n",
    "    \n",
    "    # Save model\n",
    "    cobra.io.save_json_model(model, './models/cobraModel_' + str(mu) + '.json')"
   ]
  },
  {
   "cell_type": "code",
   "execution_count": null,
   "metadata": {},
   "outputs": [],
   "source": []
  },
  {
   "cell_type": "markdown",
   "metadata": {},
   "source": [
    "#### Test run time"
   ]
  },
  {
   "cell_type": "code",
   "execution_count": 2,
   "metadata": {},
   "outputs": [],
   "source": [
    "import time"
   ]
  },
  {
   "cell_type": "code",
   "execution_count": 4,
   "metadata": {},
   "outputs": [
    {
     "name": "stdout",
     "output_type": "stream",
     "text": [
      "Run time: 1.6807258168856303 min\n"
     ]
    }
   ],
   "source": [
    "start_time = time.time()\n",
    "\n",
    "mu = 0.1\n",
    "\n",
    "# Create a blank model\n",
    "model = cobra.Model('test')\n",
    "\n",
    "# Add metabolites and species\n",
    "with open('./species.txt') as f:\n",
    "    species = f.read().split('\\n')\n",
    "for m in species:\n",
    "    met = cobra.Metabolite(m)\n",
    "    model.add_metabolites(met)\n",
    "\n",
    "# Add reactions\n",
    "df_rxns = pd.read_excel('./scRAM_network_frompy.xlsx')\n",
    "df_rxns.index = df_rxns.id.to_list()\n",
    "\n",
    "if mu > 0.211:\n",
    "    with open('./sij_higher_0_211.json') as f:\n",
    "        coeffs = json.load(f)\n",
    "else:\n",
    "    with open('./sij_lower_0_211.json') as f:\n",
    "        coeffs = json.load(f)\n",
    "\n",
    "coeffs = {k:eval(str(v)) for k,v in coeffs.items()}\n",
    "\n",
    "for r in df_rxns.index:\n",
    "    x = metabolites_dict_from_reaction_equation_RBA(df_rxns.reaction[r])\n",
    "    met_dict = dict()\n",
    "    for k,v in x.items():\n",
    "        if is_number(v):\n",
    "            met_dict[k] = v\n",
    "        else:\n",
    "            met_dict[k] = coeffs[\"'\" + k + \"'.'\" + r + \"'\"]\n",
    "\n",
    "    rxn = cobra.Reaction(r)\n",
    "    model.add_reaction(rxn)\n",
    "    rxn.reaction = build_reaction_equation_from_metabolites_dict_RBA(met_dict, arrow='-->')\n",
    "\n",
    "# Save model\n",
    "cobra.io.save_json_model(model, './models/test_run_time_' + str(mu) + '.json')\n",
    "\n",
    "print('Run time:', (time.time() - start_time) / 60, 'min')"
   ]
  },
  {
   "cell_type": "code",
   "execution_count": null,
   "metadata": {},
   "outputs": [],
   "source": []
  }
 ],
 "metadata": {
  "kernelspec": {
   "display_name": "Python 3",
   "language": "python",
   "name": "python3"
  },
  "language_info": {
   "codemirror_mode": {
    "name": "ipython",
    "version": 3
   },
   "file_extension": ".py",
   "mimetype": "text/x-python",
   "name": "python",
   "nbconvert_exporter": "python",
   "pygments_lexer": "ipython3",
   "version": "3.7.9"
  }
 },
 "nbformat": 4,
 "nbformat_minor": 4
}
