{
 "cells": [
  {
   "cell_type": "code",
   "execution_count": 9,
   "metadata": {},
   "outputs": [],
   "source": [
    "import pandas as pd\n",
    "import json\n",
    "from copy import deepcopy\n",
    "from collections import OrderedDict\n",
    "from custom_functions_scRBA import *"
   ]
  },
  {
   "cell_type": "markdown",
   "metadata": {},
   "source": [
    "#### Load"
   ]
  },
  {
   "cell_type": "code",
   "execution_count": 2,
   "metadata": {},
   "outputs": [],
   "source": [
    "df_rxns = pd.read_excel('./scRAM_network.xlsx')\n",
    "df_rxns.index = df_rxns.id.to_list()\n",
    "df_rxns = df_rxns[df_rxns.symbolic_coeffs.isnull() == False]\n",
    "\n",
    "df_keff = pd.read_excel('./keff.xlsx')\n",
    "df_keff.index = df_keff.rxn_id.to_list()\n",
    "\n",
    "df_pro = pd.read_excel('../scRBA/curation/prot_stoich_curation_2021-05-21.xlsx')\n",
    "df_pro.index = df_pro.id.to_list()\n",
    "\n",
    "df_params = pd.read_excel('../scRBA/input/parameters_info.xlsx')\n",
    "df_params.index = df_params.param_id.to_list()"
   ]
  },
  {
   "cell_type": "markdown",
   "metadata": {},
   "source": [
    "#### Intialize storage dictionary"
   ]
  },
  {
   "cell_type": "code",
   "execution_count": 3,
   "metadata": {},
   "outputs": [],
   "source": [
    "stoich = OrderedDict()"
   ]
  },
  {
   "cell_type": "markdown",
   "metadata": {},
   "source": [
    "#### Write constant part of the stoichiometry"
   ]
  },
  {
   "cell_type": "code",
   "execution_count": 4,
   "metadata": {},
   "outputs": [],
   "source": [
    "for i in df_rxns.index:\n",
    "    rxn_id = df_rxns.id[i]\n",
    "    met_dict = metabolites_dict_from_reaction_equation_RBA(df_rxns.reaction[i])\n",
    "    met_dict = {k:v for k,v in met_dict.items() if k != ''}\n",
    "    for k,v in met_dict.items():\n",
    "        if is_number(v):\n",
    "            stoich[\"'\" + k + \"'.'\" + rxn_id + \"'\"] = v"
   ]
  },
  {
   "cell_type": "markdown",
   "metadata": {},
   "source": [
    "#### Write symbolic part of the stoichiometry"
   ]
  },
  {
   "cell_type": "code",
   "execution_count": 5,
   "metadata": {},
   "outputs": [],
   "source": [
    "kribo = 10.5; dummyNAA = 405;"
   ]
  },
  {
   "cell_type": "code",
   "execution_count": 6,
   "metadata": {},
   "outputs": [],
   "source": [
    "for i in df_rxns.index:\n",
    "    met_dict = metabolites_dict_from_reaction_equation_RBA(df_rxns.reaction[i])\n",
    "    met_dict = {k:v for k,v in met_dict.items() if k != '' and is_number(v) == False}\n",
    "    sym = df_rxns.symbolic_coeffs[i]\n",
    "    \n",
    "    for k,v in met_dict.items():\n",
    "        if v == '-mu/keff':\n",
    "            v = str(round(-1 / df_keff.keff[i], 12)) + '*mu'\n",
    "        elif v == '-mu*NAA/kribo':\n",
    "            pro_id = i[7:]\n",
    "            if pro_id in ['DUMMYPRO_c', 'DUMMYPRO_m']:\n",
    "                v = str(round(dummyNAA / kribo, 12)) + '*mu'\n",
    "            else:\n",
    "                v = str(round((len(df_pro.sequence[pro_id]) - 1) / kribo, 12)) + '*mu'\n",
    "        else:\n",
    "            v = df_params.string[v]\n",
    "            \n",
    "        stoich[\"'\" + k + \"'.'\" + i + \"'\"] = str(v)"
   ]
  },
  {
   "cell_type": "markdown",
   "metadata": {},
   "source": [
    "#### Save"
   ]
  },
  {
   "cell_type": "markdown",
   "metadata": {},
   "source": [
    "For mu < 0.211"
   ]
  },
  {
   "cell_type": "code",
   "execution_count": 7,
   "metadata": {},
   "outputs": [],
   "source": [
    "with open('./GAMSmodel/sij_lower_0_211.json', 'w') as f: \n",
    "    json.dump(stoich, f)"
   ]
  },
  {
   "cell_type": "markdown",
   "metadata": {},
   "source": [
    "For mu > 0.211"
   ]
  },
  {
   "cell_type": "code",
   "execution_count": 20,
   "metadata": {},
   "outputs": [],
   "source": [
    "stoich_higher = deepcopy(stoich)\n",
    "stoich_higher[\"'BIO-unmodeledProtBiom'.'BIODIL-BIODIL'\"] = -0.188002131616\n",
    "stoich_higher[\"'BIO-modeledProtBiom_c'.'BIODIL-BIODIL'\"] = -0.253186705097\n",
    "stoich_higher[\"'BIO-modeledProtBiom_m'.'BIODIL-BIODIL'\"] = -0.022098821287\n",
    "stoich_higher[\"'MET-mannan_c'.'BIODIL-BIODIL'\"] = -0.539010001587\n",
    "stoich_higher[\"'MET-13BDglucan_en'.'BIODIL-BIODIL'\"] = -0.836427660720\n",
    "stoich_higher[\"'MET-16BDglucan_en'.'BIODIL-BIODIL'\"] = -0.220112542295\n",
    "stoich_higher[\"'MET-chtn_c'.'BIODIL-BIODIL'\"] = -0.019775196008\n",
    "stoich_higher[\"'MET-glycogen_c'.'BIODIL-BIODIL'\"] = -0.403253827394\n",
    "stoich_higher[\"'MET-tre_c'.'BIODIL-BIODIL'\"] = -0.020213206243\n",
    "stoich_higher[\"'BIO-rna_c'.'BIODIL-BIODIL'\"] = -0.07219476"
   ]
  },
  {
   "cell_type": "code",
   "execution_count": 21,
   "metadata": {},
   "outputs": [],
   "source": [
    "with open('./GAMSmodel/sij_higher_0_211.json', 'w') as f: \n",
    "    json.dump(stoich_higher, f)"
   ]
  },
  {
   "cell_type": "code",
   "execution_count": null,
   "metadata": {},
   "outputs": [],
   "source": []
  }
 ],
 "metadata": {
  "kernelspec": {
   "display_name": "Python 3",
   "language": "python",
   "name": "python3"
  },
  "language_info": {
   "codemirror_mode": {
    "name": "ipython",
    "version": 3
   },
   "file_extension": ".py",
   "mimetype": "text/x-python",
   "name": "python",
   "nbconvert_exporter": "python",
   "pygments_lexer": "ipython3",
   "version": "3.7.9"
  }
 },
 "nbformat": 4,
 "nbformat_minor": 4
}
