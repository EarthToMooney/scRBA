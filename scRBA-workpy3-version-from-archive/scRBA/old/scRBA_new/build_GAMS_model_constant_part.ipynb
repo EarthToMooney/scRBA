{
 "cells": [
  {
   "cell_type": "code",
   "execution_count": 6,
   "metadata": {},
   "outputs": [],
   "source": [
    "import pandas as pd\n",
    "from custom_functions_scRBA import *"
   ]
  },
  {
   "cell_type": "markdown",
   "metadata": {},
   "source": [
    "#### Write reactions"
   ]
  },
  {
   "cell_type": "code",
   "execution_count": 11,
   "metadata": {},
   "outputs": [],
   "source": [
    "df_rxns = pd.read_excel('./scRAM_network.xlsx')"
   ]
  },
  {
   "cell_type": "code",
   "execution_count": 12,
   "metadata": {},
   "outputs": [],
   "source": [
    "rxns = ['/', '* List of reactions']\n",
    "rxns += [\"'\" + i + \"'\" for i in df_rxns.id]\n",
    "rxns += ['/']\n",
    "with open('./GAMSmodel/rxns.txt', 'w') as f:\n",
    "    f.write('\\n'.join(rxns))"
   ]
  },
  {
   "cell_type": "markdown",
   "metadata": {},
   "source": [
    "#### Write stoichiometry\n",
    "Write only for non-symbolic relations, symbolic relations will be handled later"
   ]
  },
  {
   "cell_type": "code",
   "execution_count": 19,
   "metadata": {},
   "outputs": [],
   "source": [
    "stoich = ['/', '* List of stoichiometric relations']\n",
    "for i in df_rxns.index:\n",
    "    rxn_id = df_rxns.id[i]\n",
    "    met_dict = metabolites_dict_from_reaction_equation_RBA(df_rxns.reaction[i])\n",
    "    met_dict = {k:v for k,v in met_dict.items() if k != ''}\n",
    "    for k,v in met_dict.items():\n",
    "        if is_number(v):\n",
    "            stoich.append(\"'\" + rxn_id + \"'.'\" + k + \"' \" + str(v))\n",
    "stoich.append('/')\n",
    "with open('./GAMSmodel/sij_constant.txt', 'w') as f:\n",
    "    f.write('\\n'.join(stoich))"
   ]
  },
  {
   "cell_type": "markdown",
   "metadata": {},
   "source": [
    "#### Write species"
   ]
  },
  {
   "cell_type": "code",
   "execution_count": 18,
   "metadata": {},
   "outputs": [],
   "source": [
    "with open('./species.txt') as f:\n",
    "    specs = f.read().split('\\n')\n",
    "specs = [i for i in specs if i != '']\n",
    "\n",
    "specs_write = ['/', '* List of species']\n",
    "specs_write += [\"'\" + i + \"'\" for i in specs]\n",
    "specs_write += ['/']\n",
    "with open('./GAMSmodel/species.txt', 'w') as f:\n",
    "    f.write('\\n'.join(specs_write))"
   ]
  },
  {
   "cell_type": "code",
   "execution_count": null,
   "metadata": {},
   "outputs": [],
   "source": []
  }
 ],
 "metadata": {
  "kernelspec": {
   "display_name": "Python 3",
   "language": "python",
   "name": "python3"
  },
  "language_info": {
   "codemirror_mode": {
    "name": "ipython",
    "version": 3
   },
   "file_extension": ".py",
   "mimetype": "text/x-python",
   "name": "python",
   "nbconvert_exporter": "python",
   "pygments_lexer": "ipython3",
   "version": "3.7.9"
  }
 },
 "nbformat": 4,
 "nbformat_minor": 4
}
