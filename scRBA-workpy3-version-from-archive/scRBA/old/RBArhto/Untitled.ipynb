{
 "cells": [
  {
   "cell_type": "code",
   "execution_count": 1,
   "metadata": {},
   "outputs": [],
   "source": [
    "import cobra\n",
    "import pandas as pd\n",
    "import io, re\n",
    "from bioservices.uniprot import UniProt\n",
    "import bioservices.xmltools\n",
    "\n",
    "import sys\n",
    "sys.path.append('/home/hvdinh16/Workspace/workpy3/common/')\n",
    "from custom_functions import *\n",
    "\n",
    "import lxml\n",
    "from lxml import etree\n",
    "from lxml.etree import ElementTree"
   ]
  },
  {
   "cell_type": "code",
   "execution_count": 2,
   "metadata": {},
   "outputs": [
    {
     "name": "stdout",
     "output_type": "stream",
     "text": [
      "Academic license - for non-commercial use only\n"
     ]
    }
   ],
   "source": [
    "model = cobra.io.load_json_model('./gsmodel/iRhtoC_r2_2.json')"
   ]
  },
  {
   "cell_type": "code",
   "execution_count": 3,
   "metadata": {},
   "outputs": [
    {
     "data": {
      "text/plain": [
       "['SPONT', 'TRUE', 'UNKNOWN']"
      ]
     },
     "execution_count": 3,
     "metadata": {},
     "output_type": "execute_result"
    }
   ],
   "source": [
    "[g.id for g in model.genes if g.id[:2] != 'rt']"
   ]
  },
  {
   "cell_type": "code",
   "execution_count": 4,
   "metadata": {},
   "outputs": [
    {
     "name": "stderr",
     "output_type": "stream",
     "text": [
      "INFO    [bioservices:UniProt]:  Initialising UniProt service (REST)\n"
     ]
    }
   ],
   "source": [
    "idx = [g.id for g in model.genes if g not in ['UNKNOWN', 'SPONT', 'TRUE']]\n",
    "cols = ['id', 'name', 'sc_id', 'uniprot', 'uniprot_name', 'uniprot_subunit', 'uniprot_subloc', 'check']\n",
    "df_info = pd.DataFrame(index=idx, columns=cols)\n",
    "df_info['id'] = idx\n",
    "\n",
    "for gid in df_info.index:\n",
    "    g = model.genes.get_by_id(gid)\n",
    "    if 'rt' not in g.name:\n",
    "        df_info.loc[g.id, 'name'] = g.name\n",
    "    \n",
    "    if 'sc_id' in g.annotation.keys():\n",
    "        df_info.loc[g.id, 'sc_id'] = g.annotation['sc_id']\n",
    "        \n",
    "uniprot = UniProt(verbose=True)\n",
    "\n",
    "cofactor_attrib_list = []\n",
    "subloc_attrib_list = []\n",
    "subunit_attrib_list = []\n",
    "\n",
    "for i in df_info.index:\n",
    "    if pd.isnull(df_info.sc_id[i]):\n",
    "        continue\n",
    "        \n",
    "    if ',' not in df_info.sc_id[i]:\n",
    "        sc_id = df_info.sc_id[i]\n",
    "    else:\n",
    "        sc_id = df_info.sc_id[i].split(',')[0]\n",
    "    qstr = 'gene:' + df_info.sc_id[i] + ' AND taxonomy:4932 AND reviewed:yes'\n",
    "    \n",
    "    search = uniprot.search(qstr)\n",
    "    if search == '':\n",
    "        continue\n",
    "    df_search = pd.read_table(io.StringIO(search))\n",
    "    \n",
    "    uniprot_id = df_search.Entry[0]\n",
    "    retrieve = uniprot.retrieve(uniprot_id, frmt='xml')\n",
    "    \n",
    "    lxmlET = etree.fromstring(retrieve.data.encode())\n",
    "    for elem in lxmlET.getiterator():\n",
    "        elem.tag = etree.QName(elem.tag).localname\n",
    "    etree.cleanup_namespaces(lxmlET)\n",
    "    uniprot_entry = lxmlET.find('entry')\n",
    "    \n",
    "    for elem in uniprot_entry.iter(tag='comment'):\n",
    "\n",
    "        # Extract cofactor info\n",
    "        if elem.attrib['type'] == 'cofactor':\n",
    "            for cofactor_entry in elem.getchildren():\n",
    "                cofactor_attrib_list.append(cofactor_entry.tag)\n",
    "\n",
    "        # Extract subcellular location\n",
    "        elif elem.attrib['type'] == 'subcellular location':\n",
    "            for subloc_entry in elem.getchildren():\n",
    "                subloc_attrib_list.append(subloc_entry.tag)\n",
    "\n",
    "        # Extract subunit information\n",
    "        elif elem.attrib['type'] == 'subunit':\n",
    "            for subunit_entry in elem.getchildren():\n",
    "                subunit_attrib_list.append(subunit_entry.tag)"
   ]
  },
  {
   "cell_type": "code",
   "execution_count": 5,
   "metadata": {},
   "outputs": [],
   "source": [
    "cofactor_attrib_list = set(cofactor_attrib_list)\n",
    "subloc_attrib_list = set(subloc_attrib_list)\n",
    "subunit_attrib_list = set(subunit_attrib_list)"
   ]
  },
  {
   "cell_type": "code",
   "execution_count": 6,
   "metadata": {},
   "outputs": [
    {
     "name": "stdout",
     "output_type": "stream",
     "text": [
      "cofactor_attrib_list\n",
      "{'cofactor', 'text'}\n",
      "subloc_attrib_list\n",
      "{'subcellularLocation', 'text', 'molecule'}\n",
      "subunit_attrib_list\n",
      "{'text'}\n"
     ]
    }
   ],
   "source": [
    "print('cofactor_attrib_list')\n",
    "print(cofactor_attrib_list)\n",
    "print('subloc_attrib_list')\n",
    "print(subloc_attrib_list)\n",
    "print('subunit_attrib_list')\n",
    "print(subunit_attrib_list)"
   ]
  },
  {
   "cell_type": "code",
   "execution_count": 15,
   "metadata": {},
   "outputs": [
    {
     "data": {
      "text/plain": [
       "[<Element subcellularLocation at 0x7f0334640e60>,\n",
       " <Element subcellularLocation at 0x7f03341597d0>]"
      ]
     },
     "execution_count": 15,
     "metadata": {},
     "output_type": "execute_result"
    }
   ],
   "source": [
    "elem.findall('subcellularLocation')"
   ]
  },
  {
   "cell_type": "code",
   "execution_count": 12,
   "metadata": {},
   "outputs": [
    {
     "data": {
      "text/plain": [
       "'subcellularLocation'"
      ]
     },
     "execution_count": 12,
     "metadata": {},
     "output_type": "execute_result"
    }
   ],
   "source": [
    "elem.getchildren()[0].tag"
   ]
  },
  {
   "cell_type": "code",
   "execution_count": null,
   "metadata": {},
   "outputs": [],
   "source": []
  }
 ],
 "metadata": {
  "kernelspec": {
   "display_name": "Python 3",
   "language": "python",
   "name": "python3"
  },
  "language_info": {
   "codemirror_mode": {
    "name": "ipython",
    "version": 3
   },
   "file_extension": ".py",
   "mimetype": "text/x-python",
   "name": "python",
   "nbconvert_exporter": "python",
   "pygments_lexer": "ipython3",
   "version": "3.7.4"
  }
 },
 "nbformat": 4,
 "nbformat_minor": 2
}
