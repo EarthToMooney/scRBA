{
 "cells": [
  {
   "cell_type": "code",
   "execution_count": 1,
   "metadata": {},
   "outputs": [],
   "source": [
    "import cobra,rba,lxml\n",
    "from lxml import etree\n",
    "import pandas as pd\n",
    "from collections import OrderedDict"
   ]
  },
  {
   "cell_type": "code",
   "execution_count": 2,
   "metadata": {},
   "outputs": [
    {
     "name": "stdout",
     "output_type": "stream",
     "text": [
      "Academic license - for non-commercial use only\n"
     ]
    }
   ],
   "source": [
    "rtGSM = cobra.io.load_json_model('./gsmodel/iRhtoC_r2_2.json')\n",
    "gs_excl = [g.id for g in rtGSM.genes if g.id[:2] != 'rt']"
   ]
  },
  {
   "cell_type": "code",
   "execution_count": 3,
   "metadata": {},
   "outputs": [],
   "source": [
    "proteinsET = etree.Element('RBAProteins')\n",
    "\n",
    "elems = ['listOfComponents', 'listOfMacromolecules']\n",
    "for e in elems:\n",
    "    proteinsET.append(etree.Element(e))"
   ]
  },
  {
   "cell_type": "code",
   "execution_count": 4,
   "metadata": {},
   "outputs": [],
   "source": [
    "aas = 'ACDEFGHIKLMNPQRSTVWY'\n",
    "aas = [i for i in aas]\n",
    "\n",
    "comET = proteinsET.find('listOfComponents')\n",
    "for aa in aas:\n",
    "    att_dict = OrderedDict({'id':'COM-' + aa, 'type': 'amino_acid', 'weight':'1'})\n",
    "    comET.append(etree.Element('component', attrib=att_dict))"
   ]
  },
  {
   "cell_type": "code",
   "execution_count": 5,
   "metadata": {},
   "outputs": [],
   "source": [
    "df_genes = pd.read_excel('./data/genes_info_compilation_with_mito.xlsx', sheet_name='genes')\n",
    "df_genes.index = df_genes.gene_id.to_list()"
   ]
  },
  {
   "cell_type": "code",
   "execution_count": 6,
   "metadata": {},
   "outputs": [],
   "source": [
    "macET = proteinsET.find('listOfMacromolecules')\n",
    "for g in rtGSM.genes:\n",
    "    if g.id in gs_excl:\n",
    "        continue\n",
    "    \n",
    "    att_dict = OrderedDict({'id':'MAC-' + g.id, 'compartment': 'PART-c'})\n",
    "    macE = etree.SubElement(macET, 'macromolecule', attrib=att_dict)\n",
    "    \n",
    "    prot_seq = df_genes.sequence[g.id]\n",
    "    macE_com = etree.SubElement(macE, 'composition')\n",
    "    for aa in aas:\n",
    "        att_dict = {'component':'COM-'+aa, 'stoichiometry':str(prot_seq.count(aa))}\n",
    "        macE_com.append(etree.Element('componentReference', attrib=att_dict))"
   ]
  },
  {
   "cell_type": "code",
   "execution_count": 7,
   "metadata": {},
   "outputs": [],
   "source": [
    "with open('./proteins.xml', 'wb') as f:\n",
    "    f.write(etree.tostring(proteinsET, pretty_print=True))"
   ]
  },
  {
   "cell_type": "code",
   "execution_count": null,
   "metadata": {},
   "outputs": [],
   "source": []
  }
 ],
 "metadata": {
  "kernelspec": {
   "display_name": "Python 3",
   "language": "python",
   "name": "python3"
  },
  "language_info": {
   "codemirror_mode": {
    "name": "ipython",
    "version": 3
   },
   "file_extension": ".py",
   "mimetype": "text/x-python",
   "name": "python",
   "nbconvert_exporter": "python",
   "pygments_lexer": "ipython3",
   "version": "3.7.4"
  }
 },
 "nbformat": 4,
 "nbformat_minor": 2
}
