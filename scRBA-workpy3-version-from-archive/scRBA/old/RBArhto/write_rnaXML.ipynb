{
 "cells": [
  {
   "cell_type": "code",
   "execution_count": 1,
   "metadata": {},
   "outputs": [],
   "source": [
    "import cobra,rba,lxml\n",
    "from lxml import etree\n",
    "import pandas as pd\n",
    "from collections import OrderedDict\n",
    "\n",
    "from Bio import Seq,SeqIO"
   ]
  },
  {
   "cell_type": "markdown",
   "metadata": {},
   "source": [
    "#### Writing requirement file"
   ]
  },
  {
   "cell_type": "code",
   "execution_count": 2,
   "metadata": {},
   "outputs": [
    {
     "name": "stdout",
     "output_type": "stream",
     "text": [
      "Academic license - for non-commercial use only\n"
     ]
    }
   ],
   "source": [
    "rtGSM = cobra.io.load_json_model('./gsmodel/iRhtoC_r2_2.json')"
   ]
  },
  {
   "cell_type": "code",
   "execution_count": 3,
   "metadata": {},
   "outputs": [],
   "source": [
    "rnaET = etree.Element('RBARnas')\n",
    "\n",
    "elems = ['listOfComponents', 'listOfMacromolecules']\n",
    "for e in elems:\n",
    "    rnaET.append(etree.Element(e))"
   ]
  },
  {
   "cell_type": "code",
   "execution_count": 4,
   "metadata": {},
   "outputs": [],
   "source": [
    "comET = rnaET.find('listOfComponents')\n",
    "\n",
    "att_dict = OrderedDict({'id':'COM-nurA', 'type': 'Nucleotide', 'weight':'2.9036'})\n",
    "comET.append(etree.Element('component', attrib=att_dict))\n",
    "\n",
    "att_dict = OrderedDict({'id':'COM-nurC', 'type': 'Nucleotide', 'weight':'2.7017'})\n",
    "comET.append(etree.Element('component', attrib=att_dict))\n",
    "\n",
    "att_dict = OrderedDict({'id':'COM-nurG', 'type': 'Nucleotide', 'weight':'3.0382'})\n",
    "comET.append(etree.Element('component', attrib=att_dict))\n",
    "\n",
    "att_dict = OrderedDict({'id':'COM-nurT', 'type': 'Nucleotide', 'weight':'2.7102'})\n",
    "comET.append(etree.Element('component', attrib=att_dict))"
   ]
  },
  {
   "cell_type": "code",
   "execution_count": 5,
   "metadata": {},
   "outputs": [],
   "source": [
    "df_rnas = pd.read_excel('./data/SaceRNA/RNA_stoich.xlsx', sheet_name='RNAs')\n",
    "df_rnas.index = df_rnas.RNAid.to_list()\n",
    "df_rnas = df_rnas.iloc[:25, :]"
   ]
  },
  {
   "cell_type": "code",
   "execution_count": 6,
   "metadata": {},
   "outputs": [],
   "source": [
    "macET = rnaET.find('listOfMacromolecules')\n",
    "\n",
    "for i in df_rnas.index:\n",
    "    att_dict = OrderedDict({'id':'MAC-' + i, 'compartment': 'PART-c'})\n",
    "    macE = etree.SubElement(macET, 'macromolecule', attrib=att_dict)\n",
    "\n",
    "    macE_com = etree.SubElement(macE, 'composition')\n",
    "    for base in 'ACGU':\n",
    "        stoich = float(df_rnas.loc[i,base])\n",
    "        stoich_str = str(stoich)\n",
    "        if len(stoich_str.split('.')[1]) > 6:\n",
    "            stoich_in = round(stoich, 6)\n",
    "        else:\n",
    "            stoich_in = stoich\n",
    "        \n",
    "        att_dict = {'component':'COM-nur' + base, 'stoichiometry':str(stoich_in)}\n",
    "        macE_com.append(etree.Element('componentReference', attrib=att_dict))"
   ]
  },
  {
   "cell_type": "code",
   "execution_count": 7,
   "metadata": {},
   "outputs": [],
   "source": [
    "with open('./rnas.xml', 'wb') as f:\n",
    "    f.write(etree.tostring(rnaET, pretty_print=True))"
   ]
  },
  {
   "cell_type": "code",
   "execution_count": null,
   "metadata": {},
   "outputs": [],
   "source": []
  },
  {
   "cell_type": "markdown",
   "metadata": {},
   "source": [
    "#### Working scripts"
   ]
  },
  {
   "cell_type": "code",
   "execution_count": 65,
   "metadata": {},
   "outputs": [],
   "source": [
    "df_rnas = pd.read_excel('./data/SaceRNA/RNA_stoich.xlsx', sheet_name='RNAs')\n",
    "df_rnas.index = df_rnas.RNAid.to_list()"
   ]
  },
  {
   "cell_type": "code",
   "execution_count": 74,
   "metadata": {},
   "outputs": [
    {
     "name": "stdout",
     "output_type": "stream",
     "text": [
      "899\t662\t966\t869\n"
     ]
    }
   ],
   "source": [
    "rnaid = 'rrna25s_c'\n",
    "base_dict = count_rna(df_rnas.Sequence[rnaid])\n",
    "print('\\t'.join([str(base_dict[k]) for k in 'ACGU']))"
   ]
  },
  {
   "cell_type": "code",
   "execution_count": null,
   "metadata": {},
   "outputs": [],
   "source": []
  },
  {
   "cell_type": "code",
   "execution_count": 66,
   "metadata": {},
   "outputs": [
    {
     "data": {
      "text/html": [
       "<div>\n",
       "<style scoped>\n",
       "    .dataframe tbody tr th:only-of-type {\n",
       "        vertical-align: middle;\n",
       "    }\n",
       "\n",
       "    .dataframe tbody tr th {\n",
       "        vertical-align: top;\n",
       "    }\n",
       "\n",
       "    .dataframe thead th {\n",
       "        text-align: right;\n",
       "    }\n",
       "</style>\n",
       "<table border=\"1\" class=\"dataframe\">\n",
       "  <thead>\n",
       "    <tr style=\"text-align: right;\">\n",
       "      <th></th>\n",
       "      <th>RNAid</th>\n",
       "      <th>A</th>\n",
       "      <th>C</th>\n",
       "      <th>G</th>\n",
       "      <th>U</th>\n",
       "      <th>Reference</th>\n",
       "      <th>Notes</th>\n",
       "      <th>Sequence</th>\n",
       "    </tr>\n",
       "  </thead>\n",
       "  <tbody>\n",
       "    <tr>\n",
       "      <th>trnaala_c</th>\n",
       "      <td>trnaala_c</td>\n",
       "      <td>10.500000</td>\n",
       "      <td>19.5</td>\n",
       "      <td>26.000000</td>\n",
       "      <td>17.000000</td>\n",
       "      <td>NaN</td>\n",
       "      <td>NaN</td>\n",
       "      <td>NaN</td>\n",
       "    </tr>\n",
       "    <tr>\n",
       "      <th>trnaarg_c</th>\n",
       "      <td>trnaarg_c</td>\n",
       "      <td>14.666667</td>\n",
       "      <td>19.0</td>\n",
       "      <td>22.333333</td>\n",
       "      <td>16.333333</td>\n",
       "      <td>NaN</td>\n",
       "      <td>NaN</td>\n",
       "      <td>NaN</td>\n",
       "    </tr>\n",
       "    <tr>\n",
       "      <th>trnaasn_c</th>\n",
       "      <td>trnaasn_c</td>\n",
       "      <td>16.000000</td>\n",
       "      <td>18.0</td>\n",
       "      <td>22.000000</td>\n",
       "      <td>18.000000</td>\n",
       "      <td>NaN</td>\n",
       "      <td>NaN</td>\n",
       "      <td>NaN</td>\n",
       "    </tr>\n",
       "    <tr>\n",
       "      <th>trnaasp_c</th>\n",
       "      <td>trnaasp_c</td>\n",
       "      <td>12.000000</td>\n",
       "      <td>16.5</td>\n",
       "      <td>24.000000</td>\n",
       "      <td>19.000000</td>\n",
       "      <td>NaN</td>\n",
       "      <td>NaN</td>\n",
       "      <td>NaN</td>\n",
       "    </tr>\n",
       "    <tr>\n",
       "      <th>trnacys_c</th>\n",
       "      <td>trnacys_c</td>\n",
       "      <td>13.000000</td>\n",
       "      <td>16.0</td>\n",
       "      <td>23.000000</td>\n",
       "      <td>20.000000</td>\n",
       "      <td>NaN</td>\n",
       "      <td>NaN</td>\n",
       "      <td>NaN</td>\n",
       "    </tr>\n",
       "    <tr>\n",
       "      <th>...</th>\n",
       "      <td>...</td>\n",
       "      <td>...</td>\n",
       "      <td>...</td>\n",
       "      <td>...</td>\n",
       "      <td>...</td>\n",
       "      <td>...</td>\n",
       "      <td>...</td>\n",
       "      <td>...</td>\n",
       "    </tr>\n",
       "    <tr>\n",
       "      <th>Tyr|GTA</th>\n",
       "      <td>Tyr|GTA</td>\n",
       "      <td>16.000000</td>\n",
       "      <td>19.0</td>\n",
       "      <td>23.000000</td>\n",
       "      <td>17.000000</td>\n",
       "      <td>tRNAdb:tdbD00003654</td>\n",
       "      <td>NaN</td>\n",
       "      <td>CUCUCGGUAGCCAAGUUGGUUUAAGGCGCAAGACUGUAAAUCUUGA...</td>\n",
       "    </tr>\n",
       "    <tr>\n",
       "      <th>Tyr|GTA</th>\n",
       "      <td>Tyr|GTA</td>\n",
       "      <td>15.000000</td>\n",
       "      <td>19.0</td>\n",
       "      <td>23.000000</td>\n",
       "      <td>18.000000</td>\n",
       "      <td>tRNAdb:tdbD00003655</td>\n",
       "      <td>NaN</td>\n",
       "      <td>CUCUCGGUAGCCAAGUUGGUUUAAGGCGCAAGACUGUAAUUCUUGA...</td>\n",
       "    </tr>\n",
       "    <tr>\n",
       "      <th>Val|AAC</th>\n",
       "      <td>Val|AAC</td>\n",
       "      <td>15.000000</td>\n",
       "      <td>19.0</td>\n",
       "      <td>20.000000</td>\n",
       "      <td>20.000000</td>\n",
       "      <td>tRNAdb:tdbD00003245</td>\n",
       "      <td>NaN</td>\n",
       "      <td>GGUUUCGUGGUCUAGUCGGUUAUGGCAUCUGCUUAACACGCAGAAC...</td>\n",
       "    </tr>\n",
       "    <tr>\n",
       "      <th>Val|AAC</th>\n",
       "      <td>Val|AAC</td>\n",
       "      <td>14.000000</td>\n",
       "      <td>19.0</td>\n",
       "      <td>21.000000</td>\n",
       "      <td>20.000000</td>\n",
       "      <td>tRNAdb:tdbD00003246</td>\n",
       "      <td>NaN</td>\n",
       "      <td>GGUUUCGUGGUCUAGUCGGUUAUGGCAUCUGCUUAACACGCAGAAC...</td>\n",
       "    </tr>\n",
       "    <tr>\n",
       "      <th>Val|TAC</th>\n",
       "      <td>Val|TAC</td>\n",
       "      <td>16.000000</td>\n",
       "      <td>20.0</td>\n",
       "      <td>21.000000</td>\n",
       "      <td>17.000000</td>\n",
       "      <td>tRNAdb:tdbD00003247</td>\n",
       "      <td>NaN</td>\n",
       "      <td>GGUCCAAUGGUCCAGUGGUUCAAGACGUCGCCUUUACACGGCGAAG...</td>\n",
       "    </tr>\n",
       "  </tbody>\n",
       "</table>\n",
       "<p>76 rows × 8 columns</p>\n",
       "</div>"
      ],
      "text/plain": [
       "               RNAid          A     C          G          U  \\\n",
       "trnaala_c  trnaala_c  10.500000  19.5  26.000000  17.000000   \n",
       "trnaarg_c  trnaarg_c  14.666667  19.0  22.333333  16.333333   \n",
       "trnaasn_c  trnaasn_c  16.000000  18.0  22.000000  18.000000   \n",
       "trnaasp_c  trnaasp_c  12.000000  16.5  24.000000  19.000000   \n",
       "trnacys_c  trnacys_c  13.000000  16.0  23.000000  20.000000   \n",
       "...              ...        ...   ...        ...        ...   \n",
       "Tyr|GTA      Tyr|GTA  16.000000  19.0  23.000000  17.000000   \n",
       "Tyr|GTA      Tyr|GTA  15.000000  19.0  23.000000  18.000000   \n",
       "Val|AAC      Val|AAC  15.000000  19.0  20.000000  20.000000   \n",
       "Val|AAC      Val|AAC  14.000000  19.0  21.000000  20.000000   \n",
       "Val|TAC      Val|TAC  16.000000  20.0  21.000000  17.000000   \n",
       "\n",
       "                     Reference  Notes  \\\n",
       "trnaala_c                  NaN    NaN   \n",
       "trnaarg_c                  NaN    NaN   \n",
       "trnaasn_c                  NaN    NaN   \n",
       "trnaasp_c                  NaN    NaN   \n",
       "trnacys_c                  NaN    NaN   \n",
       "...                        ...    ...   \n",
       "Tyr|GTA    tRNAdb:tdbD00003654    NaN   \n",
       "Tyr|GTA    tRNAdb:tdbD00003655    NaN   \n",
       "Val|AAC    tRNAdb:tdbD00003245    NaN   \n",
       "Val|AAC    tRNAdb:tdbD00003246    NaN   \n",
       "Val|TAC    tRNAdb:tdbD00003247    NaN   \n",
       "\n",
       "                                                    Sequence  \n",
       "trnaala_c                                                NaN  \n",
       "trnaarg_c                                                NaN  \n",
       "trnaasn_c                                                NaN  \n",
       "trnaasp_c                                                NaN  \n",
       "trnacys_c                                                NaN  \n",
       "...                                                      ...  \n",
       "Tyr|GTA    CUCUCGGUAGCCAAGUUGGUUUAAGGCGCAAGACUGUAAAUCUUGA...  \n",
       "Tyr|GTA    CUCUCGGUAGCCAAGUUGGUUUAAGGCGCAAGACUGUAAUUCUUGA...  \n",
       "Val|AAC    GGUUUCGUGGUCUAGUCGGUUAUGGCAUCUGCUUAACACGCAGAAC...  \n",
       "Val|AAC    GGUUUCGUGGUCUAGUCGGUUAUGGCAUCUGCUUAACACGCAGAAC...  \n",
       "Val|TAC    GGUCCAAUGGUCCAGUGGUUCAAGACGUCGCCUUUACACGGCGAAG...  \n",
       "\n",
       "[76 rows x 8 columns]"
      ]
     },
     "execution_count": 66,
     "metadata": {},
     "output_type": "execute_result"
    }
   ],
   "source": [
    "df_rnas"
   ]
  },
  {
   "cell_type": "code",
   "execution_count": 49,
   "metadata": {},
   "outputs": [],
   "source": [
    "def count_dna(seq):\n",
    "    base_dict = {i:0 for i in 'ACGT'}\n",
    "    for i in 'ACGT':\n",
    "        base_dict[i] = seq.count(i)\n",
    "    return base_dict\n",
    "\n",
    "def count_rna(seq):\n",
    "    base_dict = {i:0 for i in 'ACGU'}\n",
    "    for i in 'ACGU':\n",
    "        base_dict[i] = seq.count(i)\n",
    "    return base_dict"
   ]
  },
  {
   "cell_type": "code",
   "execution_count": null,
   "metadata": {},
   "outputs": [],
   "source": []
  },
  {
   "cell_type": "code",
   "execution_count": 30,
   "metadata": {},
   "outputs": [],
   "source": [
    "x = SeqIO.read('./data/Sace_rrna/S288C_RDN5-1_RDN5-1_coding.fsa', 'fasta')"
   ]
  },
  {
   "cell_type": "code",
   "execution_count": 31,
   "metadata": {},
   "outputs": [
    {
     "data": {
      "text/plain": [
       "'GGUUGCGGCCAUAUCUACCAGAAAGCACCGUUUCCCGUCCGAUCAACUGUAGUUAAGCUGGUAAGAGCCUGACCGAGUAGUGUAGUGGGUGACCAUACGCGAAACUCAGGUGCUGCAAUCU'"
      ]
     },
     "execution_count": 31,
     "metadata": {},
     "output_type": "execute_result"
    }
   ],
   "source": [
    "str(x.seq.transcribe())"
   ]
  },
  {
   "cell_type": "code",
   "execution_count": null,
   "metadata": {},
   "outputs": [],
   "source": []
  },
  {
   "cell_type": "code",
   "execution_count": 36,
   "metadata": {},
   "outputs": [],
   "source": [
    "seqs = []\n",
    "for seq in SeqIO.parse('./data/SaceRNA/tRNA_64_codons.fst', 'fasta'):\n",
    "    seqs.append(seq)"
   ]
  },
  {
   "cell_type": "code",
   "execution_count": 55,
   "metadata": {},
   "outputs": [
    {
     "data": {
      "text/plain": [
       "'tdbD00000219|Saccharomyces_cerevisiae|4932|Ala|AGC'"
      ]
     },
     "execution_count": 55,
     "metadata": {},
     "output_type": "execute_result"
    }
   ],
   "source": [
    "x1.id"
   ]
  },
  {
   "cell_type": "code",
   "execution_count": 58,
   "metadata": {},
   "outputs": [
    {
     "data": {
      "text/plain": [
       "{'A': 16, 'C': 20, 'G': 21, 'U': 0}"
      ]
     },
     "execution_count": 58,
     "metadata": {},
     "output_type": "execute_result"
    }
   ],
   "source": [
    "count_rna(str(seq.seq))"
   ]
  },
  {
   "cell_type": "code",
   "execution_count": 60,
   "metadata": {
    "scrolled": false
   },
   "outputs": [
    {
     "name": "stdout",
     "output_type": "stream",
     "text": [
      "9\t20\t27\t17\n",
      "12\t19\t25\t17\n",
      "15\t20\t23\t15\n",
      "14\t19\t23\t16\n",
      "15\t18\t21\t18\n",
      "16\t18\t22\t18\n",
      "12\t16\t24\t19\n",
      "12\t17\t24\t19\n",
      "13\t16\t23\t20\n",
      "14\t18\t19\t20\n",
      "13\t17\t20\t22\n",
      "13\t18\t20\t22\n",
      "13\t22\t20\t17\n",
      "15\t21\t19\t17\n",
      "15\t21\t20\t16\n",
      "12\t19\t22\t18\n",
      "12\t19\t22\t18\n",
      "17\t14\t20\t21\n",
      "15\t20\t23\t16\n",
      "13\t21\t20\t19\n",
      "14\t21\t27\t10\n",
      "15\t22\t25\t10\n",
      "20\t18\t23\t21\n",
      "15\t21\t29\t19\n",
      "15\t20\t29\t20\n",
      "14\t18\t22\t19\n",
      "14\t17\t23\t18\n",
      "14\t16\t22\t21\n",
      "19\t17\t20\t17\n",
      "19\t18\t20\t16\n",
      "17\t16\t23\t17\n",
      "16\t16\t24\t17\n",
      "15\t18\t22\t18\n",
      "16\t17\t22\t18\n",
      "8\t19\t25\t20\n",
      "8\t20\t25\t19\n",
      "16\t17\t27\t22\n",
      "14\t21\t27\t20\n",
      "13\t22\t27\t19\n",
      "13\t20\t27\t22\n",
      "14\t20\t27\t21\n",
      "20\t15\t20\t18\n",
      "15\t18\t23\t16\n",
      "15\t15\t21\t21\n",
      "16\t16\t20\t20\n",
      "15\t16\t20\t22\n",
      "16\t19\t23\t17\n",
      "15\t19\t23\t18\n",
      "15\t19\t20\t20\n",
      "14\t19\t21\t20\n",
      "16\t20\t21\t17\n",
      "9\t20\t27\t17\n",
      "12\t19\t25\t17\n",
      "13\t20\t25\t15\n",
      "15\t20\t23\t15\n",
      "10\t18\t24\t19\n",
      "14\t19\t23\t16\n",
      "15\t18\t21\t18\n",
      "16\t18\t22\t18\n",
      "14\t18\t21\t17\n",
      "12\t17\t24\t19\n",
      "13\t16\t23\t20\n",
      "14\t18\t19\t20\n",
      "14\t15\t19\t23\n",
      "13\t17\t20\t22\n",
      "15\t15\t18\t23\n",
      "13\t22\t20\t17\n",
      "15\t21\t20\t16\n",
      "15\t21\t19\t17\n",
      "12\t19\t22\t18\n",
      "12\t18\t22\t19\n",
      "12\t19\t22\t18\n",
      "11\t19\t22\t19\n",
      "17\t14\t20\t21\n",
      "15\t20\t23\t16\n",
      "13\t21\t20\t19\n",
      "14\t21\t20\t18\n",
      "20\t18\t23\t21\n",
      "20\t18\t23\t21\n",
      "20\t18\t23\t21\n",
      "20\t18\t23\t21\n",
      "20\t18\t23\t21\n",
      "12\t22\t29\t18\n",
      "15\t20\t29\t20\n",
      "15\t16\t25\t25\n",
      "15\t16\t25\t25\n",
      "14\t17\t22\t18\n",
      "14\t18\t22\t19\n",
      "14\t16\t22\t21\n",
      "14\t16\t22\t21\n",
      "19\t18\t20\t16\n",
      "15\t22\t25\t10\n",
      "16\t17\t24\t16\n",
      "17\t16\t23\t17\n",
      "17\t16\t23\t17\n",
      "17\t16\t23\t17\n",
      "16\t17\t24\t16\n",
      "7\t18\t29\t17\n",
      "8\t19\t25\t20\n",
      "8\t19\t25\t20\n",
      "8\t19\t25\t20\n",
      "8\t19\t25\t20\n",
      "8\t19\t25\t20\n",
      "8\t19\t25\t20\n",
      "9\t19\t25\t19\n",
      "16\t17\t27\t22\n",
      "16\t17\t27\t22\n",
      "14\t21\t27\t20\n",
      "13\t20\t27\t22\n",
      "14\t20\t27\t21\n",
      "20\t15\t20\t18\n",
      "15\t18\t23\t16\n",
      "16\t14\t20\t22\n",
      "15\t15\t21\t21\n",
      "16\t16\t20\t20\n",
      "16\t19\t23\t17\n",
      "16\t19\t23\t17\n",
      "14\t19\t21\t20\n",
      "15\t19\t20\t20\n",
      "15\t20\t19\t18\n",
      "16\t20\t21\t17\n"
     ]
    }
   ],
   "source": [
    "for seq in seqs:\n",
    "    base_dict = count_rna(str(seq.seq.transcribe()))\n",
    "    print('\\t'.join([str(base_dict[b]) for b in 'ACGU']))"
   ]
  },
  {
   "cell_type": "code",
   "execution_count": null,
   "metadata": {},
   "outputs": [],
   "source": []
  },
  {
   "cell_type": "code",
   "execution_count": 40,
   "metadata": {},
   "outputs": [],
   "source": [
    "x1 = seqs[0]\n",
    "x2 = seqs[1]"
   ]
  },
  {
   "cell_type": "code",
   "execution_count": 50,
   "metadata": {},
   "outputs": [
    {
     "data": {
      "text/plain": [
       "{'A': 9, 'C': 20, 'G': 27, 'U': 17}"
      ]
     },
     "execution_count": 50,
     "metadata": {},
     "output_type": "execute_result"
    }
   ],
   "source": [
    "count_rna(x1.seq.transcribe())"
   ]
  },
  {
   "cell_type": "code",
   "execution_count": 51,
   "metadata": {},
   "outputs": [
    {
     "data": {
      "text/plain": [
       "{'A': 12, 'C': 19, 'G': 25, 'U': 17}"
      ]
     },
     "execution_count": 51,
     "metadata": {},
     "output_type": "execute_result"
    }
   ],
   "source": [
    "count_rna(x2.seq.transcribe())"
   ]
  },
  {
   "cell_type": "code",
   "execution_count": 48,
   "metadata": {},
   "outputs": [
    {
     "data": {
      "text/plain": [
       "SeqRecord(seq=Seq('GGGCGTGTGGCGTAGTCGGTAGCGCGCTCCCTTAGCATGGGAGAGGTCTCCGGT...CCA', SingleLetterAlphabet()), id='tdbD00000219|Saccharomyces_cerevisiae|4932|Ala|AGC', name='tdbD00000219|Saccharomyces_cerevisiae|4932|Ala|AGC', description='tdbD00000219|Saccharomyces_cerevisiae|4932|Ala|AGC', dbxrefs=[])"
      ]
     },
     "execution_count": 48,
     "metadata": {},
     "output_type": "execute_result"
    }
   ],
   "source": [
    "x1"
   ]
  },
  {
   "cell_type": "code",
   "execution_count": 42,
   "metadata": {},
   "outputs": [
    {
     "data": {
      "text/plain": [
       "SeqRecord(seq=Seq('GGGCACATGGCGCAGTTGGTAGCGCGCTTCCCTTGCAAGGAAGAGGTCATCGGT...CCA', SingleLetterAlphabet()), id='tdbD00000218|Saccharomyces_cerevisiae|4932|Ala|TGC', name='tdbD00000218|Saccharomyces_cerevisiae|4932|Ala|TGC', description='tdbD00000218|Saccharomyces_cerevisiae|4932|Ala|TGC', dbxrefs=[])"
      ]
     },
     "execution_count": 42,
     "metadata": {},
     "output_type": "execute_result"
    }
   ],
   "source": [
    "x2"
   ]
  },
  {
   "cell_type": "code",
   "execution_count": 52,
   "metadata": {},
   "outputs": [
    {
     "data": {
      "text/plain": [
       "'tdbD00000219|Saccharomyces_cerevisiae|4932|Ala|AGC'"
      ]
     },
     "execution_count": 52,
     "metadata": {},
     "output_type": "execute_result"
    }
   ],
   "source": [
    "x1.id"
   ]
  },
  {
   "cell_type": "code",
   "execution_count": null,
   "metadata": {},
   "outputs": [],
   "source": []
  },
  {
   "cell_type": "code",
   "execution_count": 2,
   "metadata": {
    "scrolled": true
   },
   "outputs": [
    {
     "name": "stdout",
     "output_type": "stream",
     "text": [
      "Academic license - for non-commercial use only\n"
     ]
    }
   ],
   "source": [
    "rtGSM = cobra.io.load_json_model('./gsmodel/iRhtoC_r2_2.json')"
   ]
  },
  {
   "cell_type": "code",
   "execution_count": 3,
   "metadata": {},
   "outputs": [
    {
     "name": "stdout",
     "output_type": "stream",
     "text": [
      "trnaala_c\n",
      "trnaarg_c\n",
      "trnaasn_c\n",
      "trnaasn_m\n",
      "trnaasp_c\n",
      "trnacys_c\n",
      "trnagln_c\n",
      "trnaglu_c\n",
      "trnaglu_m\n",
      "trnagly_c\n",
      "trnahis_c\n",
      "trnahis_m\n",
      "trnaile_c\n",
      "trnaile_m\n",
      "trnaleu_c\n",
      "trnalys_c\n",
      "trnamet_c\n",
      "trnamet_m\n",
      "trnaphe_c\n",
      "trnaphe_m\n",
      "trnapro_c\n",
      "trnaser_c\n",
      "trnathr_c\n",
      "trnatrp_c\n",
      "trnatrp_m\n",
      "trnatyr_c\n",
      "trnatyr_m\n",
      "trnaval_c\n",
      "trnaval_m\n"
     ]
    }
   ],
   "source": [
    "for met in rtGSM.metabolites:\n",
    "    if met.id[:4] == 'trna':\n",
    "        print(met.id)"
   ]
  },
  {
   "cell_type": "code",
   "execution_count": null,
   "metadata": {},
   "outputs": [],
   "source": []
  }
 ],
 "metadata": {
  "kernelspec": {
   "display_name": "Python 3",
   "language": "python",
   "name": "python3"
  },
  "language_info": {
   "codemirror_mode": {
    "name": "ipython",
    "version": 3
   },
   "file_extension": ".py",
   "mimetype": "text/x-python",
   "name": "python",
   "nbconvert_exporter": "python",
   "pygments_lexer": "ipython3",
   "version": "3.7.4"
  }
 },
 "nbformat": 4,
 "nbformat_minor": 2
}
