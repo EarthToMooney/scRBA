{
 "cells": [
  {
   "cell_type": "code",
   "execution_count": 1,
   "metadata": {},
   "outputs": [],
   "source": [
    "import cobra\n",
    "import pandas as pd"
   ]
  },
  {
   "cell_type": "code",
   "execution_count": 2,
   "metadata": {},
   "outputs": [],
   "source": [
    "model = cobra.io.load_json_model('./input/model/y834_hvd_v3_rba.json')"
   ]
  },
  {
   "cell_type": "markdown",
   "metadata": {},
   "source": [
    "#### Automated assignments"
   ]
  },
  {
   "cell_type": "raw",
   "metadata": {},
   "source": [
    "df_uni_raw = pd.read_excel('./enz_info_uniprot_step2.xlsx')\n",
    "df_uni_raw.index = df_uni_raw.id.to_list()\n",
    "\n",
    "cols = ['id', 'name', 'uniprot', 'uniprot_name', 'subunit', 'subloc',\n",
    "        'subloc_assigned', 'cofactor', 'notes']\n",
    "cols_trans = ['name', 'uniprot', 'uniprot_name', 'subunit', 'subloc',\n",
    "              'cofactor', 'notes']\n",
    "\n",
    "df_uni = pd.DataFrame(columns=cols)\n",
    "\n",
    "for i in df_uni_raw.index:\n",
    "    sublocs = df_uni_raw.subloc_assigned[i].split(',')\n",
    "    for subloc in sublocs:\n",
    "        i2 = i + '_' + subloc\n",
    "        df_uni.loc[i2, 'id'] = i2\n",
    "        df_uni.loc[i2, cols_trans] = df_uni_raw.loc[i, cols_trans]\n",
    "        df_uni.loc[i2, 'subloc_assigned'] = subloc"
   ]
  },
  {
   "cell_type": "code",
   "execution_count": 5,
   "metadata": {},
   "outputs": [],
   "source": [
    "df_uni = pd.read_excel('./output/enz_info_uniprot_step2.xlsx')\n",
    "df_uni.index = df_uni.id.to_list()"
   ]
  },
  {
   "cell_type": "code",
   "execution_count": 6,
   "metadata": {
    "scrolled": true
   },
   "outputs": [],
   "source": [
    "cols = ['id', 'gpr', 'subloc_assigned', 'notes']\n",
    "df_rxns = pd.DataFrame(columns=cols)\n",
    "\n",
    "for rxn in model.reactions:\n",
    "    if rxn.subsystem == 'Exchange':\n",
    "        i = 'RXN-' + rxn.id + '-SPONT'\n",
    "        df_rxns.loc[i, 'id'] = i\n",
    "        df_rxns.loc[i, 'gpr'] = 'SPONT'\n",
    "        continue\n",
    "        \n",
    "    genes = [g.id for g in rxn.genes]\n",
    "    if len(genes) == 0:\n",
    "        i = 'RXN-' + rxn.id + '-DUMMYENZ'\n",
    "        df_rxns.loc[i, 'id'] = i\n",
    "        df_rxns.loc[i, 'gpr'] = 'DUMMYENZ'\n",
    "        #df_rxns.loc[i, 'notes'] = 'useDummyEnzyme'\n",
    "        \n",
    "    else:\n",
    "        gpr = rxn.gene_reaction_rule\n",
    "        # If not composed of different subunits\n",
    "        if ' and ' not in gpr:\n",
    "            for g in genes:\n",
    "                if g == 'UNKNOWN':\n",
    "                    i = 'RXN-' + rxn.id + '-DUMMYENZ'\n",
    "                    df_rxns.loc[i, 'id'] = i\n",
    "                    df_rxns.loc[i, 'gpr'] = 'DUMMYENZ'\n",
    "                elif g in ['TRUE', 'SPONT']:\n",
    "                    i = 'RXN-' + rxn.id + '-SPONT'\n",
    "                    df_rxns.loc[i, 'id'] = i\n",
    "                    df_rxns.loc[i, 'gpr'] = 'SPONT'\n",
    "                else:\n",
    "                    i = 'RXN-' + rxn.id + '-' + g\n",
    "                    df_rxns.loc[i, 'id'] = i\n",
    "                    df_rxns.loc[i, 'gpr'] = g\n",
    "                    df_rxns.loc[i, 'subloc_assigned'] = df_uni.subloc_assigned[g]\n",
    "                    if g in df_uni.index:\n",
    "                        sublocs = df_uni.subloc_assigned[g].split(',')\n",
    "                        if len(sublocs) > 1.5:\n",
    "                            df_rxns.loc[i, 'notes'] = 'manualMultiCompartment'\n",
    "                            \n",
    "                    else:\n",
    "                        df_rxns.loc[i, 'notes'] = 'missingEnzEntry'\n",
    "                        \n",
    "        # If composed of subunits\n",
    "        else:\n",
    "            i = 'RXN-' + rxn.id\n",
    "            df_rxns.loc[i, 'id'] = i\n",
    "            df_rxns.loc[i, 'gpr'] = rxn.gene_reaction_rule\n",
    "            df_rxns.loc[i, 'notes'] = 'manualBuildSubunit'\n",
    "            sublocs = sum([df_uni.subloc_assigned[g].split(',') for g in genes], [])\n",
    "            sublocs = set(sublocs)\n",
    "            df_rxns.loc[i, 'subloc_assigned'] = ','.join(sublocs)"
   ]
  },
  {
   "cell_type": "markdown",
   "metadata": {},
   "source": [
    "#### Export entries required manual curation"
   ]
  },
  {
   "cell_type": "raw",
   "metadata": {},
   "source": [
    "df = df_rxns[df_rxns.notes.isnull() == False]"
   ]
  },
  {
   "cell_type": "raw",
   "metadata": {},
   "source": [
    "df.to_excel('./rxn2enz_entriesRequireCuration.xlsx', index=None)"
   ]
  },
  {
   "cell_type": "markdown",
   "metadata": {},
   "source": [
    "#### Incorporated manual curation"
   ]
  },
  {
   "cell_type": "code",
   "execution_count": 7,
   "metadata": {},
   "outputs": [],
   "source": [
    "df_cure = pd.read_excel('./curation/rxn2enz_curation.xlsx')"
   ]
  },
  {
   "cell_type": "code",
   "execution_count": 8,
   "metadata": {
    "scrolled": true
   },
   "outputs": [],
   "source": [
    "df_rxns2 = df_rxns.copy()\n",
    "df_rxns2 = df_rxns2[df_rxns2.notes.isnull()]\n",
    "\n",
    "if 'enz' not in df_rxns2.columns:\n",
    "    df_rxns2.insert(2, 'enz', df_rxns2.gpr)\n",
    "\n",
    "cols = ['gpr', 'enz', 'subloc_assigned', 'notes']\n",
    "for i in df_cure.index:\n",
    "    rxn = df_cure.id[i] + '-' + df_cure.enz[i]\n",
    "    df_rxns2.loc[rxn, 'id'] = rxn\n",
    "    df_rxns2.loc[rxn, cols] = df_cure.loc[i, cols]"
   ]
  },
  {
   "cell_type": "markdown",
   "metadata": {},
   "source": [
    "#### Spliting reversible rxns into forward and reverse reactions"
   ]
  },
  {
   "cell_type": "code",
   "execution_count": 9,
   "metadata": {},
   "outputs": [],
   "source": [
    "cols = ['id', 'rxn_src', 'enz', 'gpr']\n",
    "df_rxns3 = pd.DataFrame(columns=cols)\n",
    "\n",
    "rxns_model = [rxn.id for rxn in model.reactions]\n",
    "\n",
    "for i in df_rxns2.index:\n",
    "    entry = df_rxns2.id[i]\n",
    "    header = entry.split('-')[0]\n",
    "    rxnid = entry.split('-')[1]\n",
    "    gid = entry[len(header)+len(rxnid)+2:]\n",
    "    \n",
    "    if rxnid not in rxns_model:\n",
    "        continue\n",
    "    \n",
    "    rxn = model.reactions.get_by_id(rxnid)\n",
    "    if rxn.upper_bound > 0:\n",
    "        enew = 'RXN-' + rxnid + '_FWD' + '-' + gid\n",
    "        df_rxns3.loc[enew, 'id'] = enew\n",
    "        df_rxns3.loc[enew, 'rxn_src'] = rxn.id\n",
    "        df_rxns3.loc[enew, 'enz'] = df_rxns2.enz[i]\n",
    "        df_rxns3.loc[enew, 'gpr'] = df_rxns2.gpr[i]\n",
    "    if rxn.lower_bound < 0:\n",
    "        enew = 'RXN-' + rxnid + '_REV' + '-' + gid\n",
    "        df_rxns3.loc[enew, 'id'] = enew\n",
    "        df_rxns3.loc[enew, 'rxn_src'] = rxn.id\n",
    "        df_rxns3.loc[enew, 'enz'] = df_rxns2.enz[i]\n",
    "        df_rxns3.loc[enew, 'gpr'] = df_rxns2.gpr[i]"
   ]
  },
  {
   "cell_type": "code",
   "execution_count": 11,
   "metadata": {},
   "outputs": [],
   "source": [
    "df_rxns3.to_excel('./output/rxns_enz.xlsx', index=False)"
   ]
  },
  {
   "cell_type": "code",
   "execution_count": null,
   "metadata": {},
   "outputs": [],
   "source": []
  },
  {
   "cell_type": "code",
   "execution_count": null,
   "metadata": {},
   "outputs": [],
   "source": []
  }
 ],
 "metadata": {
  "kernelspec": {
   "display_name": "Python 3",
   "language": "python",
   "name": "python3"
  },
  "language_info": {
   "codemirror_mode": {
    "name": "ipython",
    "version": 3
   },
   "file_extension": ".py",
   "mimetype": "text/x-python",
   "name": "python",
   "nbconvert_exporter": "python",
   "pygments_lexer": "ipython3",
   "version": "3.7.9"
  }
 },
 "nbformat": 4,
 "nbformat_minor": 4
}
