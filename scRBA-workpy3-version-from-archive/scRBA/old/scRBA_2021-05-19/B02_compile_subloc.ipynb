{
 "cells": [
  {
   "cell_type": "code",
   "execution_count": 1,
   "metadata": {},
   "outputs": [],
   "source": [
    "import cobra\n",
    "import pandas as pd"
   ]
  },
  {
   "cell_type": "markdown",
   "metadata": {},
   "source": [
    "Load"
   ]
  },
  {
   "cell_type": "code",
   "execution_count": 2,
   "metadata": {},
   "outputs": [],
   "source": [
    "model = cobra.io.load_json_model('./input/model/y834_hvd_v3_rba.json')"
   ]
  },
  {
   "cell_type": "code",
   "execution_count": 3,
   "metadata": {},
   "outputs": [
    {
     "data": {
      "text/html": [
       "\n",
       "        <table>\n",
       "            <tr>\n",
       "                <td><strong>Name</strong></td>\n",
       "                <td>yeastGEM_hvd</td>\n",
       "            </tr><tr>\n",
       "                <td><strong>Memory address</strong></td>\n",
       "                <td>0x07fd6a1e66f10</td>\n",
       "            </tr><tr>\n",
       "                <td><strong>Number of metabolites</strong></td>\n",
       "                <td>1597</td>\n",
       "            </tr><tr>\n",
       "                <td><strong>Number of reactions</strong></td>\n",
       "                <td>1893</td>\n",
       "            </tr><tr>\n",
       "                <td><strong>Number of groups</strong></td>\n",
       "                <td>0</td>\n",
       "            </tr><tr>\n",
       "                <td><strong>Objective expression</strong></td>\n",
       "                <td>1.0*BIOMASS_SC_hvd - 1.0*BIOMASS_SC_hvd_reverse_d556b</td>\n",
       "            </tr><tr>\n",
       "                <td><strong>Compartments</strong></td>\n",
       "                <td>cell envelope, cytoplasm, extracellular, mitochondrion, nucleus, peroxisome, endoplasmic reticulum, Golgi, lipid particle, vacuole, endoplasmic reticulum membrane, vacuolar membrane, Golgi membrane, mitochondrial membrane, </td>\n",
       "            </tr>\n",
       "          </table>"
      ],
      "text/plain": [
       "<Model yeastGEM_hvd at 0x7fd6a1e66f10>"
      ]
     },
     "execution_count": 3,
     "metadata": {},
     "output_type": "execute_result"
    }
   ],
   "source": [
    "model"
   ]
  },
  {
   "cell_type": "code",
   "execution_count": 3,
   "metadata": {},
   "outputs": [],
   "source": [
    "df_uniprot = pd.read_excel('./enz_info_uniprot.xlsx')\n",
    "df_uniprot.index = df_uniprot.id.to_list()\n",
    "\n",
    "df_add = pd.read_excel('./enz_info_uniprot_manExtract.xlsx')\n",
    "df_add.index = df_add.id.to_list()\n",
    "\n",
    "idx_null = df_uniprot[df_uniprot.subloc.isnull()].index\n",
    "for i in idx_null:\n",
    "    if i in df_add.index:\n",
    "        df_uniprot.loc[i,'subloc'] = df_add.loc[i,'subloc']"
   ]
  },
  {
   "cell_type": "code",
   "execution_count": 4,
   "metadata": {},
   "outputs": [],
   "source": [
    "cols = ['id', 'name', 'uniprot', 'uniprot_name', 'uniprot_subloc',\n",
    "        'gem_subloc', 'uniprot_membrane', 'compiled_subloc']\n",
    "idx = df_uniprot.index.to_list()\n",
    "df_subloc = pd.DataFrame(columns=cols, index=idx)\n",
    "\n",
    "df_subloc['id'] = df_subloc.index\n",
    "df_subloc['name'] = df_uniprot.name\n",
    "df_subloc['uniprot'] = df_uniprot.uniprot\n",
    "df_subloc['uniprot_name'] = df_uniprot.uniprot_name"
   ]
  },
  {
   "cell_type": "markdown",
   "metadata": {},
   "source": [
    "Grouping subloc entries"
   ]
  },
  {
   "cell_type": "code",
   "execution_count": 5,
   "metadata": {},
   "outputs": [],
   "source": [
    "sublocs = []\n",
    "for i in df_uniprot.index:\n",
    "    x = df_uniprot.subloc[i]\n",
    "    if pd.isnull(x) == False:\n",
    "        sublocs += x.split(' | ')\n",
    "sublocs = set(sublocs)"
   ]
  },
  {
   "cell_type": "code",
   "execution_count": 6,
   "metadata": {},
   "outputs": [],
   "source": [
    "subloc_groups = {\n",
    "    'c': ['Bud membrane', 'Bud neck', 'Cytoplasm', 'Cytoplasmic granule membrane',\n",
    "          'Cytoplasmic vesicle','Cytoplasmic vesicle membrane', 'Endosome',\n",
    "          'Endosome membrane', 'Endomembrane system', 'Late endosome membrane',\n",
    "          'Prevacuolar compartment membrane', 'Prospore', 'Prospore membrane',\n",
    "          'NotAvail'],\n",
    "    'en': ['Cell membrane', 'Plasma membrane'],\n",
    "    'rm': ['Endoplasmic reticulum membrane', 'Microsome membrane'],\n",
    "    'r': ['Endoplasmic reticulum', 'Microsome'],\n",
    "    'e': ['Extracellular', 'Secreted'],\n",
    "    'g': ['Golgi apparatus'],\n",
    "    'gm': ['Golgi apparatus membrane'],\n",
    "    'l': ['Lipid droplet'],\n",
    "    'm': ['Mitochondrion', 'Mitochondrion matrix'],\n",
    "    'mm': ['Mitochondrion inner membrane', 'Mitochondrion intermembrane space',\n",
    "           'Mitochondrion membrane', 'Mitochondrion outer membrane'],\n",
    "    'n': ['Nucleus', 'Nucleus envelope', 'Nucleus inner membrane',\n",
    "          'Nucleus membrane', 'Chromosome'],\n",
    "    'x': ['Peroxisome', 'Peroxisome matrix', 'Peroxisome membrane'],\n",
    "    'v': ['Vacuole'],\n",
    "    'vm': ['Vacuole membrane'],\n",
    "    'unknown_membrane': ['Membrane', 'Periplasm']\n",
    "}\n",
    "\n",
    "subloc_conv = {}\n",
    "for k,vs in subloc_groups.items():\n",
    "    for v in vs:\n",
    "        subloc_conv[v] = k"
   ]
  },
  {
   "cell_type": "code",
   "execution_count": 7,
   "metadata": {},
   "outputs": [],
   "source": [
    "for i in df_subloc.index:\n",
    "    g = model.genes.get_by_id(i)\n",
    "    gem_comps = [r.id.split('_')[-1] for r in g.reactions]\n",
    "    gem_comps = set(gem_comps)\n",
    "    df_subloc.loc[i, 'gem_subloc'] = ','.join(gem_comps)\n",
    "    \n",
    "    unisubloc = df_uniprot.subloc[i]\n",
    "    if pd.isnull(unisubloc):\n",
    "        df_subloc.loc[i, 'uniprot_subloc'] = 'c'\n",
    "    else:\n",
    "        uni_comps = set([subloc_conv[i] for i in unisubloc.split(' | ')])\n",
    "        df_subloc.loc[i, 'uniprot_subloc'] = ','.join(uni_comps)"
   ]
  },
  {
   "cell_type": "markdown",
   "metadata": {},
   "source": [
    "Compile subloc entries"
   ]
  },
  {
   "cell_type": "code",
   "execution_count": 8,
   "metadata": {},
   "outputs": [],
   "source": [
    "# Confirmed identical subloc assignments\n",
    "for i in df_subloc.index:\n",
    "    uni_comps = df_subloc.uniprot_subloc[i].split(',')\n",
    "    gem_comps = df_subloc.gem_subloc[i].split(',')\n",
    "    if set(uni_comps) == set(gem_comps):\n",
    "        df_subloc.loc[i, 'compiled_subloc'] = ','.join(set(uni_comps))\n",
    "\n",
    "# Confirmed membrane-type subloc assignments from uniprot\n",
    "for i in df_subloc.index:\n",
    "    uni_comps = df_subloc.uniprot_subloc[i].split(',')\n",
    "    if len(set(uni_comps) & {'mm', 'rm', 'en', 'gm', 'vm', 'unknown_membrane'}) > 0.5:\n",
    "        df_subloc.loc[i, 'uniprot_membrane'] = True\n",
    "    else:\n",
    "        df_subloc.loc[i, 'uniprot_membrane'] = False\n",
    "        \n",
    "# Resolve membrane-type subloc assignments conflict\n",
    "for i in df_subloc.index:\n",
    "    uni_comps = set(df_subloc.uniprot_subloc[i].split(','))\n",
    "    gem_comps = set(df_subloc.gem_subloc[i].split(','))\n",
    "    \n",
    "    if df_subloc.uniprot_membrane[i]:\n",
    "        if 'unknown_membrane' in uni_comps:\n",
    "            if len(uni_comps & {'mm', 'rm', 'en', 'gm', 'vm', 'unknown_membrane'}) > 1.5:\n",
    "                uni_comps = set([c for c in uni_comps if c != 'unknown_membrane'])\n",
    "        \n",
    "        if uni_comps in [{'mm'}, {'m', 'mm'}] and gem_comps in [{'m'}, {'mm'}, {'m', 'mm'}]:\n",
    "            df_subloc.loc[i, 'compiled_subloc'] = 'mm'\n",
    "        elif uni_comps in [{'rm'}, {'r', 'rm'}] and gem_comps in [{'r'}, {'rm'}, {'r', 'rm'}]:\n",
    "            df_subloc.loc[i, 'compiled_subloc'] = 'rm'\n",
    "        elif uni_comps in [{'gm'}, {'g', 'gm'}] and gem_comps in [{'g'}, {'gm'}, {'g', 'gm'}]:\n",
    "            df_subloc.loc[i, 'compiled_subloc'] = 'gm'\n",
    "        elif uni_comps in [{'vm'}, {'v', 'vm'}] and gem_comps in [{'v'}, {'vm'}, {'v', 'vm'}]:\n",
    "            df_subloc.loc[i, 'compiled_subloc'] = 'vm'\n",
    "        elif uni_comps in [{'en'}, {'e', 'en'}] and gem_comps in [{'e'}, {'en'}, {'e', 'en'}]:\n",
    "            df_subloc.loc[i, 'compiled_subloc'] = 'en'\n",
    "            \n",
    "        elif uni_comps == {'unknown_membrane'}:\n",
    "            if set(gem_comps) in [{'mm'}, {'m'}, {'mm', 'm'}]:\n",
    "                df_subloc.loc[i, 'compiled_subloc'] = 'mm'\n",
    "            elif set(gem_comps) in [{'rm'}, {'r'}, {'rm', 'r'}]:\n",
    "                df_subloc.loc[i, 'compiled_subloc'] = 'rm'\n",
    "            elif set(gem_comps) in [{'gm'}, {'g'}, {'gm', 'g'}]:\n",
    "                df_subloc.loc[i, 'compiled_subloc'] = 'gm'\n",
    "            elif set(gem_comps) in [{'vm'}, {'v'}, {'vm', 'v'}]:\n",
    "                df_subloc.loc[i, 'compiled_subloc'] = 'vm'\n",
    "            elif set(gem_comps) in [{'en'}, {'e'}, {'en', 'e'}]:\n",
    "                df_subloc.loc[i, 'compiled_subloc'] = 'en'"
   ]
  },
  {
   "cell_type": "code",
   "execution_count": 9,
   "metadata": {},
   "outputs": [],
   "source": [
    "df_subloc.to_excel('./enz_subloc_compiled.xlsx', index=False)"
   ]
  },
  {
   "cell_type": "raw",
   "metadata": {},
   "source": [
    "df_x = pd.read_excel('./enzyme_subloc_curation_raw.xlsx')\n",
    "df_x.index = df_x.id.to_list()"
   ]
  },
  {
   "cell_type": "code",
   "execution_count": null,
   "metadata": {},
   "outputs": [],
   "source": []
  }
 ],
 "metadata": {
  "kernelspec": {
   "display_name": "Python 3",
   "language": "python",
   "name": "python3"
  },
  "language_info": {
   "codemirror_mode": {
    "name": "ipython",
    "version": 3
   },
   "file_extension": ".py",
   "mimetype": "text/x-python",
   "name": "python",
   "nbconvert_exporter": "python",
   "pygments_lexer": "ipython3",
   "version": "3.7.9"
  }
 },
 "nbformat": 4,
 "nbformat_minor": 4
}
