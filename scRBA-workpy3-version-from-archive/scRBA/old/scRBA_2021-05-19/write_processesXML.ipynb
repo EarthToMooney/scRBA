{
 "cells": [
  {
   "cell_type": "code",
   "execution_count": 1,
   "metadata": {},
   "outputs": [],
   "source": [
    "import cobra,rba,lxml\n",
    "from lxml import etree\n",
    "import pandas as pd\n",
    "from collections import OrderedDict"
   ]
  },
  {
   "cell_type": "markdown",
   "metadata": {},
   "source": [
    "### Opening\n",
    "Provided information are separated into two categories: process and processingMap"
   ]
  },
  {
   "cell_type": "code",
   "execution_count": 2,
   "metadata": {},
   "outputs": [],
   "source": [
    "proET = etree.Element('RBAProcesses')\n",
    "\n",
    "elems = ['listOfProcesses', 'listOfProcessingMaps']\n",
    "for e in elems:\n",
    "    proET.append(etree.Element(e))"
   ]
  },
  {
   "cell_type": "markdown",
   "metadata": {},
   "source": [
    "### List of processes\n",
    "#### Declare process entries"
   ]
  },
  {
   "cell_type": "code",
   "execution_count": 3,
   "metadata": {},
   "outputs": [],
   "source": [
    "prolistET = proET.find('listOfProcesses')\n",
    "\n",
    "att_dict = OrderedDict({'id':'PRO-TRNSL', 'name':'Translation process'})\n",
    "prolistET.append(etree.Element('process', attrib=att_dict))\n",
    "att_dict = OrderedDict({'id':'PRO-TRNSC', 'name':'Transcription process'})\n",
    "prolistET.append(etree.Element('process', attrib=att_dict))\n",
    "att_dict = OrderedDict({'id':'PRO-REPL', 'name':'Replication process'})\n",
    "prolistET.append(etree.Element('process', attrib=att_dict))\n",
    "att_dict = OrderedDict({'id':'PRO-RNADEG', 'name':'RNA degradation process'})\n",
    "prolistET.append(etree.Element('process', attrib=att_dict))"
   ]
  },
  {
   "cell_type": "markdown",
   "metadata": {},
   "source": [
    "#### Translation"
   ]
  },
  {
   "cell_type": "markdown",
   "metadata": {},
   "source": [
    "Declare entries"
   ]
  },
  {
   "cell_type": "code",
   "execution_count": 4,
   "metadata": {},
   "outputs": [],
   "source": [
    "ET = [i for i in prolistET if i.attrib['id'] == 'PRO-TRNSL'][0]\n",
    "elems = ['machinery', 'processings']\n",
    "for e in elems:\n",
    "    ET.append(etree.Element(e))"
   ]
  },
  {
   "cell_type": "markdown",
   "metadata": {},
   "source": [
    "Machinery composition"
   ]
  },
  {
   "cell_type": "code",
   "execution_count": 5,
   "metadata": {},
   "outputs": [],
   "source": [
    "ETmach = ET.find('machinery')\n",
    "ETmach.append(etree.Element('machineryComposition'))\n",
    "ETmach.append(etree.Element('capacity', attrib={'value': 'ribosome_capacity'}))"
   ]
  },
  {
   "cell_type": "code",
   "execution_count": 6,
   "metadata": {},
   "outputs": [],
   "source": [
    "ETmachcomp = ETmach.find('machineryComposition')\n",
    "df_mach = pd.read_excel('./input/translation_elongation_machinery.xlsx')\n",
    "df_mach = df_mach[df_mach.paralog.isnull()]"
   ]
  },
  {
   "cell_type": "code",
   "execution_count": 7,
   "metadata": {},
   "outputs": [],
   "source": [
    "ETmachcomp.append(etree.Element('listOfReactants'))"
   ]
  },
  {
   "cell_type": "code",
   "execution_count": 8,
   "metadata": {},
   "outputs": [],
   "source": [
    "ETmcLOR = ETmachcomp.find('listOfReactants')\n",
    "for i in df_mach.index:\n",
    "    att_dict = OrderedDict({'species':'MAC-'+df_mach.id[i], 'stoichiometry':'1'})\n",
    "    ETmcLOR.append(etree.Element('speciesReference', attrib=att_dict))"
   ]
  },
  {
   "cell_type": "raw",
   "metadata": {},
   "source": [
    "att_dict = OrderedDict({'species':'MET-gtp_c', 'stoichiometry':'2'})\n",
    "ETmcLOR.append(etree.Element('speciesReference', attrib=att_dict))\n",
    "att_dict = OrderedDict({'species':'MET-h2o_c', 'stoichiometry':'2'})\n",
    "ETmcLOR.append(etree.Element('speciesReference', attrib=att_dict))"
   ]
  },
  {
   "cell_type": "raw",
   "metadata": {},
   "source": [
    "ETmachcomp.append(etree.Element('listOfProducts'))"
   ]
  },
  {
   "cell_type": "raw",
   "metadata": {},
   "source": [
    "ETmcLOP = ETmachcomp.find('listOfProducts')\n",
    "att_dict = OrderedDict({'species':'MET-gdp_c', 'stoichiometry':'2'})\n",
    "ETmcLOP.append(etree.Element('speciesReference', attrib=att_dict))\n",
    "att_dict = OrderedDict({'species':'MET-pi_c', 'stoichiometry':'2'})\n",
    "ETmcLOP.append(etree.Element('speciesReference', attrib=att_dict))\n",
    "att_dict = OrderedDict({'species':'MET-h_c', 'stoichiometry':'2'})\n",
    "ETmcLOP.append(etree.Element('speciesReference', attrib=att_dict))"
   ]
  },
  {
   "cell_type": "markdown",
   "metadata": {},
   "source": [
    "Processing map"
   ]
  },
  {
   "cell_type": "code",
   "execution_count": 9,
   "metadata": {},
   "outputs": [],
   "source": [
    "prg = ET.find('processings')\n",
    "prg.append(etree.Element('listOfProductions'))"
   ]
  },
  {
   "cell_type": "code",
   "execution_count": 10,
   "metadata": {},
   "outputs": [],
   "source": [
    "prgLOP = prg.find('listOfProductions')\n",
    "att_dict = OrderedDict({'processingMap':'PRM-TRNSL', 'set':'protein'})\n",
    "prgLOP.append(etree.Element('processing', attrib=att_dict))"
   ]
  },
  {
   "cell_type": "code",
   "execution_count": 11,
   "metadata": {},
   "outputs": [],
   "source": [
    "pLPp = prgLOP.find('processing')\n",
    "pLPp.append(etree.Element('listOfInputs'))"
   ]
  },
  {
   "cell_type": "code",
   "execution_count": 12,
   "metadata": {},
   "outputs": [],
   "source": [
    "pLPpLOI = pLPp.find('listOfInputs')\n",
    "df_prot = pd.read_excel('./curation/prot_stoich_curation.xlsx')\n",
    "for i in df_prot.index:\n",
    "    att_dict = OrderedDict({'id':'MAC-' + df_prot.id[i], 'stoichiometry':'1'})\n",
    "    pLPpLOI.append(etree.Element('speciesReference', attrib=att_dict))"
   ]
  },
  {
   "cell_type": "markdown",
   "metadata": {},
   "source": [
    "#### Transcription\n",
    "Processings"
   ]
  },
  {
   "cell_type": "code",
   "execution_count": 13,
   "metadata": {},
   "outputs": [],
   "source": [
    "ET = [i for i in prolistET if i.attrib['id'] == 'PRO-TRNSC'][0]\n",
    "ET.append(etree.Element('processings'))"
   ]
  },
  {
   "cell_type": "code",
   "execution_count": 14,
   "metadata": {},
   "outputs": [],
   "source": [
    "ETpg = ET.find('processings')\n",
    "ETpg.append(etree.Element('listOfProductions'))"
   ]
  },
  {
   "cell_type": "code",
   "execution_count": 15,
   "metadata": {},
   "outputs": [],
   "source": [
    "ETpgLOP = ETpg.find('listOfProductions')\n",
    "att_dict = OrderedDict({'processingMap':'PRM-TRNSC', 'set':'rna'})\n",
    "ETpgLOP.append(etree.Element('processing', attrib=att_dict))"
   ]
  },
  {
   "cell_type": "code",
   "execution_count": 16,
   "metadata": {},
   "outputs": [],
   "source": [
    "EpLPp = ETpgLOP.find('processing')\n",
    "EpLPp.append(etree.Element('listOfInputs'))"
   ]
  },
  {
   "cell_type": "code",
   "execution_count": 17,
   "metadata": {},
   "outputs": [],
   "source": [
    "EpLPpLOI = EpLPp.find('listOfInputs')\n",
    "\n",
    "df_rnas = pd.read_excel('./input/scRNA/RNA_stoich.xlsx', sheet_name='RNAs')\n",
    "df_rnas.index = df_rnas.RNAid.to_list()\n",
    "df_rnas = df_rnas.iloc[:25, :]\n",
    "\n",
    "for i in df_rnas.index:\n",
    "    att_dict = OrderedDict({'species':'MAC-' + df_rnas.RNAid[i], 'stoichiometry':'1'})\n",
    "    EpLPpLOI.append(etree.Element('speciesReference', attrib=att_dict))"
   ]
  },
  {
   "cell_type": "markdown",
   "metadata": {},
   "source": [
    "#### Replication\n",
    "Processings"
   ]
  },
  {
   "cell_type": "code",
   "execution_count": 18,
   "metadata": {},
   "outputs": [],
   "source": [
    "ET = [i for i in prolistET if i.attrib['id'] == 'PRO-REPL'][0]\n",
    "ET.append(etree.Element('processings'))"
   ]
  },
  {
   "cell_type": "code",
   "execution_count": 19,
   "metadata": {},
   "outputs": [],
   "source": [
    "ETpg = ET.find('processings')\n",
    "ETpg.append(etree.Element('listOfProductions'))"
   ]
  },
  {
   "cell_type": "code",
   "execution_count": 20,
   "metadata": {},
   "outputs": [],
   "source": [
    "ETpgLOP = ETpg.find('listOfProductions')\n",
    "att_dict = OrderedDict({'processingMap':'PRM-REPL', 'set':'dna'})\n",
    "ETpgLOP.append(etree.Element('processing', attrib=att_dict))"
   ]
  },
  {
   "cell_type": "code",
   "execution_count": 21,
   "metadata": {},
   "outputs": [],
   "source": [
    "EpLPp = ETpgLOP.find('processing')\n",
    "EpLPp.append(etree.Element('listOfInputs'))"
   ]
  },
  {
   "cell_type": "code",
   "execution_count": 22,
   "metadata": {},
   "outputs": [],
   "source": [
    "EpLPpLOI = EpLPp.find('listOfInputs')\n",
    "att_dict = OrderedDict({'species':'MAC-dna', 'stoichiometry':'1'})\n",
    "EpLPpLOI.append(etree.Element('speciesReference', attrib=att_dict))"
   ]
  },
  {
   "cell_type": "markdown",
   "metadata": {},
   "source": [
    "#### RNA degradation\n",
    "Processings"
   ]
  },
  {
   "cell_type": "code",
   "execution_count": 23,
   "metadata": {},
   "outputs": [],
   "source": [
    "ET = [i for i in prolistET if i.attrib['id'] == 'PRO-RNADEG'][0]\n",
    "ET.append(etree.Element('processings'))"
   ]
  },
  {
   "cell_type": "code",
   "execution_count": 24,
   "metadata": {},
   "outputs": [],
   "source": [
    "ETpg = ET.find('processings')\n",
    "ETpg.append(etree.Element('listOfDegradations'))"
   ]
  },
  {
   "cell_type": "code",
   "execution_count": 25,
   "metadata": {},
   "outputs": [],
   "source": [
    "ETpgLOD = ETpg.find('listOfDegradations')\n",
    "att_dict = OrderedDict({'processingMap':'PRM-RNADEG', 'set':'rna'})\n",
    "ETpgLOD.append(etree.Element('processing', attrib=att_dict))"
   ]
  },
  {
   "cell_type": "code",
   "execution_count": 26,
   "metadata": {},
   "outputs": [],
   "source": [
    "EpLDp = ETpgLOD.find('processing')\n",
    "EpLDp.append(etree.Element('listOfInputs'))"
   ]
  },
  {
   "cell_type": "code",
   "execution_count": 27,
   "metadata": {},
   "outputs": [],
   "source": [
    "EpLDpLOI = EpLDp.find('listOfInputs')\n",
    "\n",
    "df_rnas = pd.read_excel('./input/scRNA/RNA_stoich.xlsx', sheet_name='RNAs')\n",
    "df_rnas.index = df_rnas.RNAid.to_list()\n",
    "df_rnas = df_rnas.iloc[:25, :]\n",
    "\n",
    "for i in df_rnas.index:\n",
    "    att_dict = OrderedDict({'id':'MAC-' + df_rnas.RNAid[i], 'stoichiometry':'1'})\n",
    "    EpLDpLOI.append(etree.Element('speciesReference', attrib=att_dict))"
   ]
  },
  {
   "cell_type": "markdown",
   "metadata": {},
   "source": [
    "### List of processing maps\n",
    "#### Declare processing map entries"
   ]
  },
  {
   "cell_type": "code",
   "execution_count": 28,
   "metadata": {},
   "outputs": [],
   "source": [
    "prmLET = proET.find('listOfProcessingMaps')\n",
    "\n",
    "att_dict = OrderedDict({'id':'PRM-TRNSL'})\n",
    "prmLET.append(etree.Element('processingMap', attrib=att_dict))\n",
    "att_dict = OrderedDict({'id':'PRM-TRNSC'})\n",
    "prmLET.append(etree.Element('processingMap', attrib=att_dict))\n",
    "att_dict = OrderedDict({'id':'PRM-REPL'})\n",
    "prmLET.append(etree.Element('processingMap', attrib=att_dict))\n",
    "att_dict = OrderedDict({'id':'PRM-RNADEG'})\n",
    "prmLET.append(etree.Element('processingMap', attrib=att_dict))"
   ]
  },
  {
   "cell_type": "markdown",
   "metadata": {},
   "source": [
    "#### Translation\n",
    "Constant processing: Energetic cost of initiation and formylation of Met-tRNA"
   ]
  },
  {
   "cell_type": "code",
   "execution_count": 29,
   "metadata": {},
   "outputs": [],
   "source": [
    "ET = [i for i in prmLET if i.attrib['id'] == 'PRM-TRNSL'][0]"
   ]
  },
  {
   "cell_type": "code",
   "execution_count": 30,
   "metadata": {},
   "outputs": [],
   "source": [
    "ET.append(etree.Element('constantProcessing'))\n",
    "ETpmCP = ET.find('constantProcessing')\n",
    "ETpmCP.append(etree.Element('listOfReactants'))"
   ]
  },
  {
   "cell_type": "code",
   "execution_count": 31,
   "metadata": {},
   "outputs": [],
   "source": [
    "ETpmCPlor = ETpmCP.find('listOfReactants')\n",
    "att_dict = OrderedDict({'species':'MET-fmettrna_c', 'stoichiometry':'1'})\n",
    "ETpmCPlor.append(etree.Element('speciesReference', attrib=att_dict))\n",
    "att_dict = OrderedDict({'species':'MET-atp_c', 'stoichiometry':'1'})\n",
    "ETpmCPlor.append(etree.Element('speciesReference', attrib=att_dict))\n",
    "att_dict = OrderedDict({'species':'MET-h2o_c', 'stoichiometry':'1'})\n",
    "ETpmCPlor.append(etree.Element('speciesReference', attrib=att_dict))"
   ]
  },
  {
   "cell_type": "code",
   "execution_count": 32,
   "metadata": {},
   "outputs": [],
   "source": [
    "ETpmCP.append(etree.Element('listOfProducts'))"
   ]
  },
  {
   "cell_type": "code",
   "execution_count": 33,
   "metadata": {},
   "outputs": [],
   "source": [
    "ETpmCPlop = ETpmCP.find('listOfProducts')\n",
    "att_dict = OrderedDict({'species':'MET-mettrna_c', 'stoichiometry':'1'})\n",
    "ETpmCPlop.append(etree.Element('speciesReference', attrib=att_dict))\n",
    "att_dict = OrderedDict({'species':'MET-for_c', 'stoichiometry':'1'})\n",
    "ETpmCPlop.append(etree.Element('speciesReference', attrib=att_dict))\n",
    "att_dict = OrderedDict({'species':'MET-adp_c', 'stoichiometry':'1'})\n",
    "ETpmCPlop.append(etree.Element('speciesReference', attrib=att_dict))\n",
    "att_dict = OrderedDict({'species':'MET-pi_c', 'stoichiometry':'1'})\n",
    "ETpmCPlop.append(etree.Element('speciesReference', attrib=att_dict))\n",
    "att_dict = OrderedDict({'species':'MET-h_c', 'stoichiometry':'1'})\n",
    "ETpmCPlop.append(etree.Element('speciesReference', attrib=att_dict))"
   ]
  },
  {
   "cell_type": "markdown",
   "metadata": {},
   "source": [
    "Component processing: incoming amino acid and energetic cost of translation elongation"
   ]
  },
  {
   "cell_type": "code",
   "execution_count": 34,
   "metadata": {},
   "outputs": [],
   "source": [
    "trnaL = [('A', 'alatrna_c', 'trnaala_c'), ('R', 'argtrna_c', 'trnaarg_c'),\n",
    "         ('N', 'asntrna_c', 'trnaasn_c'), ('D', 'asptrna_c', 'trnaasp_c'),\n",
    "         ('C', 'cystrna_c', 'trnacys_c'), ('Q', 'glntrna_c', 'trnagln_c'),\n",
    "         ('E', 'glutrna_c', 'trnaglu_c'), ('G', 'glytrna_c', 'trnagly_c'),\n",
    "         ('H', 'histrna_c', 'trnahis_c'), ('I', 'iletrna_c', 'trnaile_c'),\n",
    "         ('L', 'leutrna_c', 'trnaleu_c'), ('K', 'lystrna_c', 'trnalys_c'),\n",
    "         ('M', 'mettrna_c', 'trnamet_c'), ('F', 'phetrna_c', 'trnaphe_c'),\n",
    "         ('P', 'protrna_c', 'trnapro_c'), ('S', 'sertrna_c', 'trnaser_c'),\n",
    "         ('T', 'thrtrna_c', 'trnathr_c'), ('W', 'trptrna_c', 'trnatrp_c'),\n",
    "         ('Y', 'tyrtrna_c', 'trnatyr_c'), ('V', 'valtrna_c', 'trnaval_c')]"
   ]
  },
  {
   "cell_type": "code",
   "execution_count": 35,
   "metadata": {},
   "outputs": [],
   "source": [
    "ET.append(etree.Element('listOfComponentProcessings'))"
   ]
  },
  {
   "cell_type": "code",
   "execution_count": 36,
   "metadata": {},
   "outputs": [],
   "source": [
    "ETpmLCP = ET.find('listOfComponentProcessings')\n",
    "for aa,m_in,m_out in trnaL:\n",
    "    att_dict = OrderedDict({'component':'COM-' + aa, 'machineryCost':'1'})\n",
    "    ETpmLCPcp = etree.SubElement(ETpmLCP, 'componentProcessing', attrib=att_dict)\n",
    "    \n",
    "    ETpmLCPcpLOR = etree.SubElement(ETpmLCPcp, 'listOfReactants')\n",
    "    att_dict = OrderedDict({'speciesReference':'MET-' + m_in, 'stoichiometry':'1'})\n",
    "    ETpmLCPcpLOR.append(etree.Element('species', attrib=att_dict))\n",
    "    att_dict = OrderedDict({'speciesReference':'MET-gtp_c', 'stoichiometry':'2'})\n",
    "    ETpmLCPcpLOR.append(etree.Element('species', attrib=att_dict))\n",
    "    att_dict = OrderedDict({'speciesReference':'MET-h2o_c', 'stoichiometry':'2'})\n",
    "    ETpmLCPcpLOR.append(etree.Element('species', attrib=att_dict))\n",
    "    \n",
    "    ETpmLCPcpLOP = etree.SubElement(ETpmLCPcp, 'listOfProducts')\n",
    "    att_dict = OrderedDict({'speciesReference':'MET-' + m_out, 'stoichiometry':'1'})\n",
    "    ETpmLCPcpLOP.append(etree.Element('species', attrib=att_dict))\n",
    "    att_dict = OrderedDict({'speciesReference':'MET-gdp_c', 'stoichiometry':'2'})\n",
    "    ETpmLCPcpLOP.append(etree.Element('species', attrib=att_dict))\n",
    "    att_dict = OrderedDict({'speciesReference':'MET-pi_c', 'stoichiometry':'2'})\n",
    "    ETpmLCPcpLOP.append(etree.Element('species', attrib=att_dict))\n",
    "    att_dict = OrderedDict({'speciesReference':'MET-h_c', 'stoichiometry':'3'})\n",
    "    ETpmLCPcpLOP.append(etree.Element('species', attrib=att_dict))"
   ]
  },
  {
   "cell_type": "code",
   "execution_count": 37,
   "metadata": {},
   "outputs": [],
   "source": [
    "df_prot = pd.read_excel('./curation/prot_stoich_curation.xlsx')\n",
    "df_prot.index = df_prot.id.to_list()\n",
    "\n",
    "cofs_all = []\n",
    "for i in df_prot.index:\n",
    "    cofs = df_prot.cofactor_stoich[i]\n",
    "    if pd.isnull(cofs) == False:\n",
    "        cofs_all += [cof.split(':')[0] for cof in cofs.split(',')]\n",
    "        \n",
    "cofs_all = sorted(list(set(cofs_all)))"
   ]
  },
  {
   "cell_type": "code",
   "execution_count": 38,
   "metadata": {},
   "outputs": [],
   "source": [
    "for cof in cofs_all:\n",
    "    att_dict = OrderedDict({'component':'COM-' + cof, 'machineryCost':'0'})\n",
    "    ETpmLCPcp = etree.SubElement(ETpmLCP, 'componentProcessing', attrib=att_dict)\n",
    "    \n",
    "    ETpmLCPcpLOR = etree.SubElement(ETpmLCPcp, 'listOfReactants')\n",
    "    att_dict = OrderedDict({'species':'MET-' + cof, 'stoichiometry':'1'})\n",
    "    ETpmLCPcpLOR.append(etree.Element('speciesReference', attrib=att_dict))"
   ]
  },
  {
   "cell_type": "markdown",
   "metadata": {},
   "source": [
    "#### Transcription\n",
    "Component processing: incoming nucleotide splitting out pyrophosphate"
   ]
  },
  {
   "cell_type": "code",
   "execution_count": 39,
   "metadata": {},
   "outputs": [],
   "source": [
    "ET = [i for i in prmLET if i.attrib['id'] == 'PRM-TRNSC'][0]\n",
    "ETlcp = etree.SubElement(ET, 'listOfComponentProcessings')"
   ]
  },
  {
   "cell_type": "code",
   "execution_count": 40,
   "metadata": {},
   "outputs": [],
   "source": [
    "nurL = [('nurA', 'atp_c'), ('nurC', 'ctp_c'),\n",
    "        ('nurG', 'gtp_c'), ('nurU', 'utp_c')]"
   ]
  },
  {
   "cell_type": "code",
   "execution_count": 41,
   "metadata": {},
   "outputs": [],
   "source": [
    "for nur,m_in in nurL:\n",
    "    att_dict = OrderedDict({'component':'COM-' + nur, 'machineryCost':'0'})\n",
    "    ETlcpCP = etree.SubElement(ETlcp, 'componentProcessing', attrib=att_dict)\n",
    "    \n",
    "    ETlcpCPlor = etree.SubElement(ETlcpCP, 'listOfReactants')\n",
    "    att_dict = OrderedDict({'speciesReference':'MET-' + m_in, 'stoichiometry':'1'})\n",
    "    ETlcpCPlor.append(etree.Element('species', attrib=att_dict))\n",
    "    att_dict = OrderedDict({'speciesReference':'MET-h2o_c', 'stoichiometry':'1'})\n",
    "    ETlcpCPlor.append(etree.Element('species', attrib=att_dict))\n",
    "    \n",
    "    ETlcpCPlop = etree.SubElement(ETlcpCP, 'listOfProducts')\n",
    "    att_dict = OrderedDict({'speciesReference':'MET-ppi_c', 'stoichiometry':'1'})\n",
    "    ETlcpCPlop.append(etree.Element('species', attrib=att_dict))\n",
    "    att_dict = OrderedDict({'speciesReference':'MET-h_c', 'stoichiometry':'1'})\n",
    "    ETlcpCPlop.append(etree.Element('species', attrib=att_dict))"
   ]
  },
  {
   "cell_type": "markdown",
   "metadata": {},
   "source": [
    "#### RNA degradation\n",
    "Component processing: degrade into monophosphate nucleotide"
   ]
  },
  {
   "cell_type": "code",
   "execution_count": 42,
   "metadata": {},
   "outputs": [],
   "source": [
    "ET = [i for i in prmLET if i.attrib['id'] == 'PRM-RNADEG'][0]\n",
    "ETlcp = etree.SubElement(ET, 'listOfComponentProcessings')"
   ]
  },
  {
   "cell_type": "code",
   "execution_count": 43,
   "metadata": {},
   "outputs": [],
   "source": [
    "nurL = [('nurA', 'amp_c'), ('nurC', 'cmp_c'),\n",
    "        ('nurG', 'gmp_c'), ('nurU', 'ump_c')]"
   ]
  },
  {
   "cell_type": "code",
   "execution_count": 44,
   "metadata": {},
   "outputs": [],
   "source": [
    "for nur,m_out in nurL:\n",
    "    att_dict = OrderedDict({'component':'COM-' + nur, 'machineryCost':'0'})\n",
    "    ETlcpCP = etree.SubElement(ETlcp, 'componentProcessing', attrib=att_dict)\n",
    "    \n",
    "    ETlcpCPlor = etree.SubElement(ETlcpCP, 'listOfReactants')\n",
    "    att_dict = OrderedDict({'speciesReference':'MET-h2o_c', 'stoichiometry':'1'})\n",
    "    ETlcpCPlor.append(etree.Element('species', attrib=att_dict))\n",
    "    \n",
    "    ETlcpCPlop = etree.SubElement(ETlcpCP, 'listOfProducts')\n",
    "    att_dict = OrderedDict({'speciesReference':'MET-' + m_out, 'stoichiometry':'1'})\n",
    "    ETlcpCPlop.append(etree.Element('species', attrib=att_dict))\n",
    "    att_dict = OrderedDict({'speciesReference':'MET-h_c', 'stoichiometry':'1'})\n",
    "    ETlcpCPlop.append(etree.Element('species', attrib=att_dict))"
   ]
  },
  {
   "cell_type": "markdown",
   "metadata": {},
   "source": [
    "#### Replication\n",
    "Duplicate DNA"
   ]
  },
  {
   "cell_type": "code",
   "execution_count": 45,
   "metadata": {},
   "outputs": [],
   "source": [
    "ET = [i for i in prmLET if i.attrib['id'] == 'PRM-REPL'][0]\n",
    "ETlcp = etree.SubElement(ET, 'listOfComponentProcessings')"
   ]
  },
  {
   "cell_type": "code",
   "execution_count": 46,
   "metadata": {},
   "outputs": [],
   "source": [
    "nudL = [('nudA', 'amp_c'), ('nudC', 'cmp_c'),\n",
    "        ('nudG', 'gmp_c'), ('nudU', 'ump_c')]"
   ]
  },
  {
   "cell_type": "code",
   "execution_count": 47,
   "metadata": {},
   "outputs": [],
   "source": [
    "for nud,m_in in nudL:\n",
    "    att_dict = OrderedDict({'component':'COM-' + nud, 'machineryCost':'0'})\n",
    "    ETlcpCP = etree.SubElement(ETlcp, 'componentProcessing', attrib=att_dict)\n",
    "    \n",
    "    ETlcpCPlor = etree.SubElement(ETlcpCP, 'listOfReactants')\n",
    "    att_dict = OrderedDict({'speciesReference':'MET-' + m_in, 'stoichiometry':'1'})\n",
    "    ETlcpCPlor.append(etree.Element('species', attrib=att_dict))\n",
    "    att_dict = OrderedDict({'speciesReference':'MET-h2o_c', 'stoichiometry':'1'})\n",
    "    ETlcpCPlor.append(etree.Element('species', attrib=att_dict))\n",
    "    \n",
    "    ETlcpCPlop = etree.SubElement(ETlcpCP, 'listOfProducts')\n",
    "    att_dict = OrderedDict({'speciesReference':'MET-ppi_c', 'stoichiometry':'1'})\n",
    "    ETlcpCPlop.append(etree.Element('species', attrib=att_dict))\n",
    "    att_dict = OrderedDict({'speciesReference':'MET-h_c', 'stoichiometry':'1'})\n",
    "    ETlcpCPlop.append(etree.Element('species', attrib=att_dict))"
   ]
  },
  {
   "cell_type": "markdown",
   "metadata": {},
   "source": [
    "#### Save"
   ]
  },
  {
   "cell_type": "code",
   "execution_count": 48,
   "metadata": {},
   "outputs": [],
   "source": [
    "with open('./rbaModel/processes.xml', 'wb') as f:\n",
    "    f.write(etree.tostring(proET, pretty_print=True))"
   ]
  },
  {
   "cell_type": "code",
   "execution_count": null,
   "metadata": {},
   "outputs": [],
   "source": []
  }
 ],
 "metadata": {
  "kernelspec": {
   "display_name": "Python 3",
   "language": "python",
   "name": "python3"
  },
  "language_info": {
   "codemirror_mode": {
    "name": "ipython",
    "version": 3
   },
   "file_extension": ".py",
   "mimetype": "text/x-python",
   "name": "python",
   "nbconvert_exporter": "python",
   "pygments_lexer": "ipython3",
   "version": "3.7.9"
  }
 },
 "nbformat": 4,
 "nbformat_minor": 4
}
