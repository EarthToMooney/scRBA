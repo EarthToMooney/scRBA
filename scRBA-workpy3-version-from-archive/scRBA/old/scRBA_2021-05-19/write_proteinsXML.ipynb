{
 "cells": [
  {
   "cell_type": "code",
   "execution_count": 1,
   "metadata": {},
   "outputs": [],
   "source": [
    "import cobra,rba,lxml\n",
    "from lxml import etree\n",
    "import pandas as pd\n",
    "from collections import OrderedDict"
   ]
  },
  {
   "cell_type": "code",
   "execution_count": 2,
   "metadata": {},
   "outputs": [],
   "source": [
    "mModel = cobra.io.load_json_model('./input/model/y834_hvd_v3_rba.json')\n",
    "gs_excl = []"
   ]
  },
  {
   "cell_type": "code",
   "execution_count": 3,
   "metadata": {},
   "outputs": [],
   "source": [
    "df_prot = pd.read_excel('./curation/prot_stoich_curation.xlsx')\n",
    "df_prot.index = df_prot.id.to_list()\n",
    "\n",
    "cofs_all = []\n",
    "for i in df_prot.index:\n",
    "    cofs = df_prot.cofactor_stoich[i]\n",
    "    if pd.isnull(cofs) == False:\n",
    "        cofs_all += [cof.split(':')[0] for cof in cofs.split(',')]\n",
    "        \n",
    "cofs_all = sorted(list(set(cofs_all)))"
   ]
  },
  {
   "cell_type": "code",
   "execution_count": 4,
   "metadata": {},
   "outputs": [],
   "source": [
    "proteinsET = etree.Element('RBAProteins')\n",
    "\n",
    "elems = ['listOfComponents', 'listOfMacromolecules']\n",
    "for e in elems:\n",
    "    proteinsET.append(etree.Element(e))"
   ]
  },
  {
   "cell_type": "code",
   "execution_count": 5,
   "metadata": {},
   "outputs": [],
   "source": [
    "aas = 'ACDEFGHIKLMNPQRSTVWY'\n",
    "aas = [i for i in aas]\n",
    "\n",
    "comET = proteinsET.find('listOfComponents')\n",
    "for aa in aas:\n",
    "    att_dict = OrderedDict({'id':'COM-' + aa, 'type': 'amino_acid', 'weight':'1'})\n",
    "    comET.append(etree.Element('component', attrib=att_dict))\n",
    "    \n",
    "for cof in cofs_all:\n",
    "    att_dict = OrderedDict({'id':'COM-' + cof, 'type': 'cofactor', 'weight':'0'})\n",
    "    comET.append(etree.Element('component', attrib=att_dict))"
   ]
  },
  {
   "cell_type": "code",
   "execution_count": 7,
   "metadata": {},
   "outputs": [],
   "source": [
    "macET = proteinsET.find('listOfMacromolecules')\n",
    "for i in df_prot.index:\n",
    "    \n",
    "    g = df_prot.id[i]\n",
    "    comp = df_prot.subloc_assigned[i]\n",
    "    \n",
    "    att_dict = OrderedDict({'id':'MAC-'+g, 'compartment': 'PART-'+comp})\n",
    "    macE = etree.SubElement(macET, 'macromolecule', attrib=att_dict)\n",
    "\n",
    "    prot_seq = df_prot.sequence[i]\n",
    "    macE_com = etree.SubElement(macE, 'composition')\n",
    "    for aa in aas:\n",
    "        att_dict = {'component':'COM-'+aa, 'stoichiometry':str(prot_seq.count(aa))}\n",
    "        macE_com.append(etree.Element('componentReference', attrib=att_dict))\n",
    "        \n",
    "    cofs = df_prot.cofactor_stoich[i]\n",
    "    if pd.isnull(cofs) == False:\n",
    "        cof_dict = {c.split(':')[0]:c.split(':')[1] for c in cofs.split(',')}\n",
    "        keys = sorted(cof_dict.keys())\n",
    "        for k in keys:\n",
    "            att_dict = {'component':'COM-'+k, 'stoichiometry':str(cof_dict[k])}\n",
    "            macE_com.append(etree.Element('componentReference', attrib=att_dict))"
   ]
  },
  {
   "cell_type": "code",
   "execution_count": 8,
   "metadata": {},
   "outputs": [],
   "source": [
    "with open('./rbaModel/proteins.xml', 'wb') as f:\n",
    "    f.write(etree.tostring(proteinsET, pretty_print=True))"
   ]
  },
  {
   "cell_type": "code",
   "execution_count": null,
   "metadata": {},
   "outputs": [],
   "source": []
  }
 ],
 "metadata": {
  "kernelspec": {
   "display_name": "Python 3",
   "language": "python",
   "name": "python3"
  },
  "language_info": {
   "codemirror_mode": {
    "name": "ipython",
    "version": 3
   },
   "file_extension": ".py",
   "mimetype": "text/x-python",
   "name": "python",
   "nbconvert_exporter": "python",
   "pygments_lexer": "ipython3",
   "version": "3.7.9"
  }
 },
 "nbformat": 4,
 "nbformat_minor": 2
}
