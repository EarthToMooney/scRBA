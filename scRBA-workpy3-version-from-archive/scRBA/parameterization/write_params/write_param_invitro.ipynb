{
 "cells": [
  {
   "cell_type": "code",
   "execution_count": 1,
   "metadata": {},
   "outputs": [],
   "source": [
    "import pandas as pd\n",
    "import numpy as np\n",
    "\n",
    "import sys\n",
    "sys.path.append('../../pycore/')\n",
    "from utils import extract_details_from_rxnid"
   ]
  },
  {
   "cell_type": "code",
   "execution_count": 2,
   "metadata": {},
   "outputs": [],
   "source": [
    "df_enz = pd.read_excel('../../build_GAMS_model/input/ENZYME_stoich_curation_2021-10-01.xlsx')\n",
    "df_enz.index = df_enz.id.to_list()"
   ]
  },
  {
   "cell_type": "code",
   "execution_count": 14,
   "metadata": {},
   "outputs": [],
   "source": [
    "df_kcat = pd.read_excel('../input/rxn_enz_kcat_kapp.xlsx')\n",
    "idx = [df_kcat.rxn_id[i] + '_' + df_kcat.direction[i] for i in df_kcat.index]\n",
    "df_kcat.index = idx"
   ]
  },
  {
   "cell_type": "code",
   "execution_count": 26,
   "metadata": {},
   "outputs": [],
   "source": [
    "vitro_0 = pd.core.series.Series(dtype='float64')\n",
    "df = df_kcat\n",
    "for i in df.index:\n",
    "    kcat = df_kcat.loc[i, 'kcat_invitro (1/s)'].max()\n",
    "    if pd.isnull(kcat) == False:\n",
    "        vitro_0[i] = kcat"
   ]
  },
  {
   "cell_type": "code",
   "execution_count": 28,
   "metadata": {},
   "outputs": [],
   "source": [
    "idx = df_enz.index.to_list()\n",
    "df_write = pd.DataFrame(index=idx, columns=['id', 'kapp (1/s)', 'source'])\n",
    "df_write['id'] = df_write.index.to_list()\n",
    "med = round(np.median(vitro_0), 0)\n",
    "\n",
    "for i in df_enz.index:\n",
    "    _,rxn,rdir,enz = extract_details_from_rxnid(i)\n",
    "    if enz in ['SPONT', 'UNKNOWN']:\n",
    "        df_write.loc[i, 'source'] = enz\n",
    "        continue\n",
    "    \n",
    "    entry = rxn + '_' + rdir\n",
    "    if entry in vitro_0.index:\n",
    "        df_write.loc[i, 'kapp (1/s)'] = vitro_0[entry]\n",
    "        df_write.loc[i, 'source'] = 'parameterization'\n",
    "    else:\n",
    "        df_write.loc[i, 'kapp (1/s)'] = med\n",
    "        df_write.loc[i, 'source'] = 'kapp_median'"
   ]
  },
  {
   "cell_type": "code",
   "execution_count": 29,
   "metadata": {},
   "outputs": [],
   "source": [
    "df_write.to_excel('PARAMS_kapp_vitro_frompy.xlsx', index=None)"
   ]
  },
  {
   "cell_type": "code",
   "execution_count": null,
   "metadata": {},
   "outputs": [],
   "source": []
  }
 ],
 "metadata": {
  "kernelspec": {
   "display_name": "Python 3",
   "language": "python",
   "name": "python3"
  },
  "language_info": {
   "codemirror_mode": {
    "name": "ipython",
    "version": 3
   },
   "file_extension": ".py",
   "mimetype": "text/x-python",
   "name": "python",
   "nbconvert_exporter": "python",
   "pygments_lexer": "ipython3",
   "version": "3.7.9"
  }
 },
 "nbformat": 4,
 "nbformat_minor": 4
}
