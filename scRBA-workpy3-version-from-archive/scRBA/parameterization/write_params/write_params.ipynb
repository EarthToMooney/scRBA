{
 "cells": [
  {
   "cell_type": "code",
   "execution_count": 1,
   "metadata": {},
   "outputs": [],
   "source": [
    "import pandas as pd\n",
    "import numpy as np\n",
    "\n",
    "import sys\n",
    "sys.path.append('../../pycore/')\n",
    "from utils import extract_details_from_rxnid"
   ]
  },
  {
   "cell_type": "code",
   "execution_count": 2,
   "metadata": {},
   "outputs": [],
   "source": [
    "df_enz = pd.read_excel('../../build_GAMS_model/input/ENZYME_stoich_curation_2021-10-01.xlsx')\n",
    "df_enz.index = df_enz.id.to_list()"
   ]
  },
  {
   "cell_type": "code",
   "execution_count": 3,
   "metadata": {},
   "outputs": [],
   "source": [
    "with open('./exclude_reactions.txt') as f:\n",
    "    rxns_excl = f.read().split('\\n')[:-1]"
   ]
  },
  {
   "cell_type": "markdown",
   "metadata": {},
   "source": [
    "#### C-lim"
   ]
  },
  {
   "cell_type": "code",
   "execution_count": 4,
   "metadata": {},
   "outputs": [],
   "source": [
    "df_kapp = pd.read_excel('../results/kapp_inPerSec.xlsx')\n",
    "df_kapp.index = df_kapp.id.to_list()\n",
    "\n",
    "casesC = pd.read_csv('../input/data_list_clim.txt', sep='\\t')\n",
    "casesC = casesC.data_id.to_list()"
   ]
  },
  {
   "cell_type": "code",
   "execution_count": 5,
   "metadata": {
    "scrolled": true
   },
   "outputs": [],
   "source": [
    "clim_0 = pd.core.series.Series(dtype='float64')\n",
    "df = df_kapp.loc[:, casesC]\n",
    "for i in df.index:\n",
    "    vals = [v for v in df.loc[i,:] if pd.isnull(v) == False]\n",
    "    if vals != []:\n",
    "        clim_0[i] = np.max(vals)"
   ]
  },
  {
   "cell_type": "code",
   "execution_count": 6,
   "metadata": {},
   "outputs": [
    {
     "name": "stdout",
     "output_type": "stream",
     "text": [
      "kapp median = 13.8 1/s\n"
     ]
    }
   ],
   "source": [
    "idx = df_enz.index.to_list()\n",
    "df_write = pd.DataFrame(index=idx, columns=['id', 'kapp (1/s)', 'source'])\n",
    "df_write['id'] = df_write.index.to_list()\n",
    "idx_kapp = [i for i in clim_0.index if i not in rxns_excl]\n",
    "clim_0 = clim_0[idx_kapp]\n",
    "med = round(np.median(clim_0), 1)\n",
    "print('kapp median =', med, '1/s')\n",
    "\n",
    "for i in df_enz.index:\n",
    "    _,rxn,rdir,enz = extract_details_from_rxnid(i)\n",
    "    if enz in ['SPONT', 'UNKNOWN']:\n",
    "        df_write.loc[i, 'source'] = enz\n",
    "        continue\n",
    "    \n",
    "    entry = rxn + '_' + rdir\n",
    "    if entry in clim_0.index:\n",
    "        df_write.loc[i, 'kapp (1/s)'] = clim_0[entry]\n",
    "        df_write.loc[i, 'source'] = 'parameterization'\n",
    "    else:\n",
    "        df_write.loc[i, 'kapp (1/s)'] = med\n",
    "        df_write.loc[i, 'source'] = 'kapp_median'"
   ]
  },
  {
   "cell_type": "code",
   "execution_count": 7,
   "metadata": {},
   "outputs": [
    {
     "data": {
      "text/plain": [
       "4306.88638076974"
      ]
     },
     "execution_count": 7,
     "metadata": {},
     "output_type": "execute_result"
    }
   ],
   "source": [
    "clim_0['ATPS_m_FWD']"
   ]
  },
  {
   "cell_type": "code",
   "execution_count": 8,
   "metadata": {},
   "outputs": [],
   "source": [
    "df_write.to_excel('./clim/PARAMS_kapp_clim_frompy.xlsx', index=None)"
   ]
  },
  {
   "cell_type": "markdown",
   "metadata": {},
   "source": [
    "#### Nlim"
   ]
  },
  {
   "cell_type": "code",
   "execution_count": 9,
   "metadata": {},
   "outputs": [],
   "source": [
    "df_kapp = pd.read_excel('../results/kapp_inPerSec.xlsx')\n",
    "df_kapp.index = df_kapp.id.to_list()\n",
    "\n",
    "casesN = pd.read_csv('../input/data_list_nlim.txt', sep='\\t')\n",
    "casesN = casesN.data_id.to_list()"
   ]
  },
  {
   "cell_type": "code",
   "execution_count": 10,
   "metadata": {},
   "outputs": [],
   "source": [
    "nlim_0 = pd.core.series.Series(dtype='float64')\n",
    "df = df_kapp.loc[:, casesN]\n",
    "for i in df.index:\n",
    "    vals = [v for v in df.loc[i,:] if pd.isnull(v) == False]\n",
    "    if vals != []:\n",
    "        nlim_0[i] = np.max(vals)"
   ]
  },
  {
   "cell_type": "code",
   "execution_count": 11,
   "metadata": {},
   "outputs": [
    {
     "name": "stdout",
     "output_type": "stream",
     "text": [
      "kapp median = 18.8 1/s\n"
     ]
    }
   ],
   "source": [
    "idx = df_enz.index.to_list()\n",
    "df_write = pd.DataFrame(index=idx, columns=['id', 'kapp (1/s)', 'source'])\n",
    "df_write['id'] = df_write.index.to_list()\n",
    "idx_kapp = [i for i in nlim_0.index if i not in rxns_excl]\n",
    "nlim_0 = nlim_0[idx_kapp]\n",
    "med = round(np.median(nlim_0), 1)\n",
    "print('kapp median =', med, '1/s')\n",
    "\n",
    "for i in df_enz.index:\n",
    "    _,rxn,rdir,enz = extract_details_from_rxnid(i)\n",
    "    if enz in ['SPONT', 'UNKNOWN']:\n",
    "        df_write.loc[i, 'source'] = enz\n",
    "        continue\n",
    "    \n",
    "    entry = rxn + '_' + rdir\n",
    "    if entry in nlim_0.index:\n",
    "        df_write.loc[i, 'kapp (1/s)'] = nlim_0[entry]\n",
    "        df_write.loc[i, 'source'] = 'parameterization'\n",
    "    else:\n",
    "        df_write.loc[i, 'kapp (1/s)'] = med\n",
    "        df_write.loc[i, 'source'] = 'kapp_median'"
   ]
  },
  {
   "cell_type": "code",
   "execution_count": 12,
   "metadata": {},
   "outputs": [
    {
     "data": {
      "text/plain": [
       "5621.02313303183"
      ]
     },
     "execution_count": 12,
     "metadata": {},
     "output_type": "execute_result"
    }
   ],
   "source": [
    "nlim_0['ATPS_m_FWD']"
   ]
  },
  {
   "cell_type": "code",
   "execution_count": 13,
   "metadata": {},
   "outputs": [],
   "source": [
    "df_write.to_excel('./nlim/PARAMS_kapp_nlim_frompy.xlsx', index=None)"
   ]
  },
  {
   "cell_type": "markdown",
   "metadata": {},
   "source": [
    "#### Batch"
   ]
  },
  {
   "cell_type": "code",
   "execution_count": 14,
   "metadata": {},
   "outputs": [],
   "source": [
    "df_kapp = pd.read_excel('../results/kapp_inPerSec.xlsx')\n",
    "df_kapp.index = df_kapp.id.to_list()\n",
    "\n",
    "casesB = pd.read_csv('../input/data_list_batch.txt', sep='\\t')\n",
    "casesB = casesB.data_id.to_list()"
   ]
  },
  {
   "cell_type": "code",
   "execution_count": 15,
   "metadata": {},
   "outputs": [],
   "source": [
    "batch_0 = pd.core.series.Series(dtype='float64')\n",
    "df = df_kapp.loc[:, casesB]\n",
    "for i in df.index:\n",
    "    vals = [v for v in df.loc[i,:] if pd.isnull(v) == False]\n",
    "    if vals != []:\n",
    "        batch_0[i] = np.max(vals)"
   ]
  },
  {
   "cell_type": "code",
   "execution_count": 16,
   "metadata": {},
   "outputs": [
    {
     "name": "stdout",
     "output_type": "stream",
     "text": [
      "kapp median = 13.1 1/s\n"
     ]
    }
   ],
   "source": [
    "idx = df_enz.index.to_list()\n",
    "df_write = pd.DataFrame(index=idx, columns=['id', 'kapp (1/s)', 'source'])\n",
    "df_write['id'] = df_write.index.to_list()\n",
    "idx_kapp = [i for i in batch_0.index if i not in rxns_excl]\n",
    "batch_0 = batch_0[idx_kapp]\n",
    "med = round(np.median(batch_0), 1)\n",
    "print('kapp median =', med, '1/s')\n",
    "\n",
    "for i in df_enz.index:\n",
    "    _,rxn,rdir,enz = extract_details_from_rxnid(i)\n",
    "    if enz in ['SPONT', 'UNKNOWN']:\n",
    "        df_write.loc[i, 'source'] = enz\n",
    "        continue\n",
    "    \n",
    "    entry = rxn + '_' + rdir\n",
    "    if entry in batch_0.index:\n",
    "        df_write.loc[i, 'kapp (1/s)'] = batch_0[entry]\n",
    "        df_write.loc[i, 'source'] = 'parameterization'\n",
    "    else:\n",
    "        df_write.loc[i, 'kapp (1/s)'] = med\n",
    "        df_write.loc[i, 'source'] = 'kapp_median'"
   ]
  },
  {
   "cell_type": "code",
   "execution_count": 17,
   "metadata": {},
   "outputs": [
    {
     "data": {
      "text/plain": [
       "5406.66466389179"
      ]
     },
     "execution_count": 17,
     "metadata": {},
     "output_type": "execute_result"
    }
   ],
   "source": [
    "batch_0['ATPS_m_FWD']"
   ]
  },
  {
   "cell_type": "code",
   "execution_count": 18,
   "metadata": {},
   "outputs": [],
   "source": [
    "df_write.to_excel('./batch/PARAMS_kapp_batch_frompy.xlsx', index=None)"
   ]
  },
  {
   "cell_type": "markdown",
   "metadata": {},
   "source": [
    "#### Grand median"
   ]
  },
  {
   "cell_type": "code",
   "execution_count": 19,
   "metadata": {},
   "outputs": [
    {
     "name": "stdout",
     "output_type": "stream",
     "text": [
      "15.00011319593175\n"
     ]
    }
   ],
   "source": [
    "df_kapp = pd.read_excel('../results/kapp_inPerSec.xlsx')\n",
    "df_kapp.index = df_kapp.id.to_list()\n",
    "\n",
    "casesC = pd.read_csv('../input/data_list_clim.txt', sep='\\t')\n",
    "casesC = casesC.data_id.to_list()\n",
    "        \n",
    "grand_med = np.median(clim_0.to_list() + nlim_0.to_list() + batch_0.to_list())\n",
    "print(grand_med)"
   ]
  },
  {
   "cell_type": "code",
   "execution_count": null,
   "metadata": {},
   "outputs": [],
   "source": []
  }
 ],
 "metadata": {
  "kernelspec": {
   "display_name": "Python 3",
   "language": "python",
   "name": "python3"
  },
  "language_info": {
   "codemirror_mode": {
    "name": "ipython",
    "version": 3
   },
   "file_extension": ".py",
   "mimetype": "text/x-python",
   "name": "python",
   "nbconvert_exporter": "python",
   "pygments_lexer": "ipython3",
   "version": "3.7.9"
  }
 },
 "nbformat": 4,
 "nbformat_minor": 4
}
