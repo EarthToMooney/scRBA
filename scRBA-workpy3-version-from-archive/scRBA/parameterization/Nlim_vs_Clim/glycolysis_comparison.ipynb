{
 "cells": [
  {
   "cell_type": "code",
   "execution_count": 1,
   "metadata": {},
   "outputs": [],
   "source": [
    "import pandas as pd\n",
    "import numpy as np\n",
    "\n",
    "import sys\n",
    "sys.path.append('../../pycore/')\n",
    "from simulate import RBA_result\n",
    "from utils import extract_details_from_rxnid\n",
    "\n",
    "import matplotlib.pyplot as plt\n",
    "import matplotlib.patches as mp\n",
    "import matplotlib.lines as mlines\n",
    "from matplotlib.transforms import ScaledTranslation\n",
    "%matplotlib inline"
   ]
  },
  {
   "cell_type": "code",
   "execution_count": 2,
   "metadata": {},
   "outputs": [],
   "source": [
    "df_kapp = pd.read_excel('../results/kapp_inPerSec.xlsx')\n",
    "df_kapp.index = df_kapp.id.to_list()\n",
    "\n",
    "casesC = pd.read_csv('../input/data_list_clim.txt', sep='\\t')\n",
    "casesC = casesC.data_id.to_list()\n",
    "\n",
    "casesN = pd.read_csv('../input/data_list_nlim.txt', sep='\\t')\n",
    "casesN = casesN.data_id.to_list()"
   ]
  },
  {
   "cell_type": "code",
   "execution_count": 3,
   "metadata": {},
   "outputs": [],
   "source": [
    "clim_0 = pd.core.series.Series(dtype='float64')\n",
    "df = df_kapp.loc[:, casesC]\n",
    "for i in df.index:\n",
    "    vals = [v for v in df.loc[i,:] if pd.isnull(v) == False]\n",
    "    if vals != []:\n",
    "        clim_0[i] = np.max(vals)\n",
    "        \n",
    "nlim_0 = pd.core.series.Series(dtype='float64')\n",
    "df = df_kapp.loc[:, casesN]\n",
    "for i in df.index:\n",
    "    vals = [v for v in df.loc[i,:] if pd.isnull(v) == False]\n",
    "    if vals != []:\n",
    "        nlim_0[i] = np.max(vals)"
   ]
  },
  {
   "cell_type": "code",
   "execution_count": 4,
   "metadata": {},
   "outputs": [],
   "source": [
    "idx = sorted(list(set(clim_0.index) & set(nlim_0.index)))\n",
    "clim = np.log10(clim_0[idx])\n",
    "nlim = np.log10(nlim_0[idx])"
   ]
  },
  {
   "cell_type": "code",
   "execution_count": 5,
   "metadata": {},
   "outputs": [],
   "source": [
    "glys = ['HEX1_c_FWD', 'PGI_c_FWD', 'PFK_c_FWD', 'FBA_c_FWD', 'TPI_c_FWD',\n",
    "        'GAPD_c_FWD', 'PGK_c_FWD', 'PGM_c_FWD', 'ENO_c_FWD', 'PYK_c_FWD']\n",
    "\n",
    "glys_labels = [i[:-4] for i in glys]"
   ]
  },
  {
   "cell_type": "code",
   "execution_count": 6,
   "metadata": {
    "scrolled": true
   },
   "outputs": [
    {
     "data": {
      "image/png": "[encoded data removed]",
      "text/plain": [
       "<Figure size 720x216 with 1 Axes>"
      ]
     },
     "metadata": {
      "needs_background": "light"
     },
     "output_type": "display_data"
    }
   ],
   "source": [
    "fig,ax = plt.subplots(figsize=(10,3))\n",
    "\n",
    "N = len(glys)\n",
    "for i in range(0,N):\n",
    "    rxn = glys[i]\n",
    "    ax.scatter(i, clim[rxn], color='#d50000', s=50)\n",
    "    ax.scatter(i, nlim[rxn], color='#448aff', s=50)\n",
    "\n",
    "yticks = [0,1,2,3,4,5]\n",
    "yticklabels = ['10$^' + str(i) + '$' for i in yticks]\n",
    "ax.set_ylim(0,5)\n",
    "ax.set_yticks(yticks)\n",
    "ax.set_yticklabels(yticklabels, fontsize=14);\n",
    "ax.set_ylabel('$k_{cat}$ (   ) or $k_{app}$ (   ) [s$^{-1}$]', fontsize=16)\n",
    "\n",
    "xticks = range(0,N)\n",
    "ax.set_xticks(xticks)\n",
    "ax.set_xticklabels(glys_labels, fontsize=16);\n",
    "\n",
    "offset = ScaledTranslation(0.2, 0, fig.dpi_scale_trans)\n",
    "for label_obj in ax.get_xticklabels():\n",
    "    label_obj.set_rotation(45)\n",
    "    label_obj.set_transform(label_obj.get_transform() + offset)\n",
    "    label_obj.set_horizontalalignment('right')\n",
    "    \n",
    "plt.savefig('./figures/glys_NvsC_frompy.png', transparent=True, bbox_inches='tight')"
   ]
  },
  {
   "cell_type": "code",
   "execution_count": 10,
   "metadata": {},
   "outputs": [
    {
     "data": {
      "text/plain": [
       "4.581046375667812"
      ]
     },
     "execution_count": 10,
     "metadata": {},
     "output_type": "execute_result"
    }
   ],
   "source": [
    "10**(nlim['PFK_c_FWD'] - clim['PFK_c_FWD'])"
   ]
  },
  {
   "cell_type": "code",
   "execution_count": 11,
   "metadata": {},
   "outputs": [
    {
     "data": {
      "text/plain": [
       "6.474204379949383"
      ]
     },
     "execution_count": 11,
     "metadata": {},
     "output_type": "execute_result"
    }
   ],
   "source": [
    "10**(nlim['PYRDC_c_FWD'] - clim['PYRDC_c_FWD'])"
   ]
  },
  {
   "cell_type": "code",
   "execution_count": 21,
   "metadata": {},
   "outputs": [
    {
     "data": {
      "text/plain": [
       "2.5490032620257876"
      ]
     },
     "execution_count": 21,
     "metadata": {},
     "output_type": "execute_result"
    }
   ],
   "source": [
    "vitro['PGK_c_FWD']"
   ]
  },
  {
   "cell_type": "code",
   "execution_count": 32,
   "metadata": {},
   "outputs": [
    {
     "data": {
      "text/plain": [
       "736.7699868804071"
      ]
     },
     "execution_count": 32,
     "metadata": {},
     "output_type": "execute_result"
    }
   ],
   "source": [
    "rxn = 'HEX1_c_FWD'\n",
    "10**(vivo[rxn] - vitro[rxn])"
   ]
  },
  {
   "cell_type": "code",
   "execution_count": 33,
   "metadata": {},
   "outputs": [
    {
     "data": {
      "text/plain": [
       "84.34565602310889"
      ]
     },
     "execution_count": 33,
     "metadata": {},
     "output_type": "execute_result"
    }
   ],
   "source": [
    "rxn = 'FBA_c_FWD'\n",
    "10**(vivo[rxn] - vitro[rxn])"
   ]
  },
  {
   "cell_type": "code",
   "execution_count": 34,
   "metadata": {},
   "outputs": [
    {
     "name": "stdout",
     "output_type": "stream",
     "text": [
      "Using license file /home/hvdinh16/Workspace/Softwares/gurobi910/linux64/gurobi.lic\n",
      "Academic license - for non-commercial use only - expires 2022-08-08\n"
     ]
    }
   ],
   "source": [
    "import cobra\n",
    "model = cobra.io.load_json_model('../../scRBA_build_GAMS_model/input/GSM_y834_hvd_v6_rba.json')"
   ]
  },
  {
   "cell_type": "code",
   "execution_count": 23,
   "metadata": {},
   "outputs": [
    {
     "data": {
      "text/html": [
       "\n",
       "        <table>\n",
       "            <tr>\n",
       "                <td><strong>Reaction identifier</strong></td><td>PGK_c</td>\n",
       "            </tr><tr>\n",
       "                <td><strong>Name</strong></td><td>phosphoglycerate kinase</td>\n",
       "            </tr><tr>\n",
       "                <td><strong>Memory address</strong></td>\n",
       "                <td>0x07fe8137277d0</td>\n",
       "            </tr><tr>\n",
       "                <td><strong>Stoichiometry</strong></td>\n",
       "                <td>\n",
       "                    <p style='text-align:right'>13dpg_c + adp_c <=> 3pg_c + atp_c</p>\n",
       "                    <p style='text-align:right'>1,3-bisphospho-D-glycerate [cytoplasm] + ADP [cytoplasm] <=> 3-phosphonato-D-glycerate(3-) [cytoplasm] + ATP [cytoplasm]</p>\n",
       "                </td>\n",
       "            </tr><tr>\n",
       "                <td><strong>GPR</strong></td><td>YCR012W</td>\n",
       "            </tr><tr>\n",
       "                <td><strong>Lower bound</strong></td><td>-1000.0</td>\n",
       "            </tr><tr>\n",
       "                <td><strong>Upper bound</strong></td><td>1000.0</td>\n",
       "            </tr>\n",
       "        </table>\n",
       "        "
      ],
      "text/plain": [
       "<Reaction PGK_c at 0x7fe8137277d0>"
      ]
     },
     "execution_count": 23,
     "metadata": {},
     "output_type": "execute_result"
    }
   ],
   "source": [
    "model.reactions.PGK_c"
   ]
  },
  {
   "cell_type": "code",
   "execution_count": null,
   "metadata": {},
   "outputs": [],
   "source": []
  }
 ],
 "metadata": {
  "kernelspec": {
   "display_name": "Python 3",
   "language": "python",
   "name": "python3"
  },
  "language_info": {
   "codemirror_mode": {
    "name": "ipython",
    "version": 3
   },
   "file_extension": ".py",
   "mimetype": "text/x-python",
   "name": "python",
   "nbconvert_exporter": "python",
   "pygments_lexer": "ipython3",
   "version": "3.7.9"
  }
 },
 "nbformat": 4,
 "nbformat_minor": 4
}
