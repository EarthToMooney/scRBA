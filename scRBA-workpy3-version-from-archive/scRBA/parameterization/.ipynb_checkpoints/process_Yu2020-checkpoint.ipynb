{
 "cells": [
  {
   "cell_type": "code",
   "execution_count": 2,
   "metadata": {},
   "outputs": [],
   "source": [
    "import pandas as pd"
   ]
  },
  {
   "cell_type": "code",
   "execution_count": 14,
   "metadata": {},
   "outputs": [],
   "source": [
    "df_db = pd.read_excel('../../SCProjects/genome/Scerevisiae_S288C/gene_info.xlsx')"
   ]
  },
  {
   "cell_type": "code",
   "execution_count": 11,
   "metadata": {},
   "outputs": [],
   "source": [
    "df_raw = pd.read_excel('./raw_data_files/Yu2020_proteomics.xlsx', skiprows=1)\n",
    "df_raw = df_raw.loc[:, ['Gene', 'UniProtKB Accession']]"
   ]
  },
  {
   "cell_type": "code",
   "execution_count": 28,
   "metadata": {},
   "outputs": [],
   "source": [
    "gene_ids = df_db.gene_id.to_list()\n",
    "u_ids = df_db.uniprot_gene_id.to_list()\n",
    "\n",
    "for i in df_raw.index:\n",
    "    gid = df_raw.Gene[i]\n",
    "    uid = df_raw.loc[i, 'UniProtKB Accession']\n",
    "    \n",
    "    if gid in gene_ids:\n",
    "        df_raw.loc[i, 'ref_id'] = gid\n",
    "    elif gid in u_ids:\n",
    "        df = df_db[df_db.uniprot_gene_id == gid]\n",
    "        df_raw.loc[i, 'ref_id'] = df.gene_id.to_list()[0]\n",
    "    elif uid in gene_ids:\n",
    "        df_raw.loc[i, 'ref_id'] = uid\n",
    "    elif uid in u_ids:\n",
    "        df = df_db[df_db.uniprot_gene_id == uid]\n",
    "        df_raw.loc[i, 'ref_id'] = df.gene_id.to_list()[0]\n",
    "    else:\n",
    "        print(gid,uid)"
   ]
  },
  {
   "cell_type": "code",
   "execution_count": 30,
   "metadata": {},
   "outputs": [],
   "source": [
    "df_raw.to_csv('./yu2020_ids.csv', sep='\\t', index=False)"
   ]
  },
  {
   "cell_type": "code",
   "execution_count": 25,
   "metadata": {},
   "outputs": [
    {
     "data": {
      "text/plain": [
       "False"
      ]
     },
     "execution_count": 25,
     "metadata": {},
     "output_type": "execute_result"
    }
   ],
   "source": [
    "'YPR010C-A' in df_db.gene_id"
   ]
  },
  {
   "cell_type": "code",
   "execution_count": 21,
   "metadata": {},
   "outputs": [
    {
     "data": {
      "text/plain": [
       "False"
      ]
     },
     "execution_count": 21,
     "metadata": {},
     "output_type": "execute_result"
    }
   ],
   "source": [
    "'STE2' in df_db.uniprot_gene_id"
   ]
  },
  {
   "cell_type": "code",
   "execution_count": 16,
   "metadata": {},
   "outputs": [
    {
     "data": {
      "text/html": [
       "<div>\n",
       "<style scoped>\n",
       "    .dataframe tbody tr th:only-of-type {\n",
       "        vertical-align: middle;\n",
       "    }\n",
       "\n",
       "    .dataframe tbody tr th {\n",
       "        vertical-align: top;\n",
       "    }\n",
       "\n",
       "    .dataframe thead th {\n",
       "        text-align: right;\n",
       "    }\n",
       "</style>\n",
       "<table border=\"1\" class=\"dataframe\">\n",
       "  <thead>\n",
       "    <tr style=\"text-align: right;\">\n",
       "      <th></th>\n",
       "      <th>gene_id</th>\n",
       "      <th>uniprot_gene_id</th>\n",
       "      <th>SGDID</th>\n",
       "      <th>locus</th>\n",
       "      <th>genome_release</th>\n",
       "      <th>reverse_complement</th>\n",
       "      <th>orf_status</th>\n",
       "      <th>description</th>\n",
       "      <th>sequence</th>\n",
       "    </tr>\n",
       "  </thead>\n",
       "  <tbody>\n",
       "    <tr>\n",
       "      <th>0</th>\n",
       "      <td>YAL001C</td>\n",
       "      <td>TFC3</td>\n",
       "      <td>S000000001</td>\n",
       "      <td>Chr I from 151006-147594,151166-151097</td>\n",
       "      <td>Genome Release 64-2-1</td>\n",
       "      <td>1.0</td>\n",
       "      <td>Verified ORF</td>\n",
       "      <td>\"Subunit of RNA polymerase III transcription i...</td>\n",
       "      <td>MVLTIYPDELVQIVSDKIASNKGKITLNQLWDISGKYFDLSDKKVK...</td>\n",
       "    </tr>\n",
       "    <tr>\n",
       "      <th>1</th>\n",
       "      <td>YAL002W</td>\n",
       "      <td>VPS8</td>\n",
       "      <td>S000000002</td>\n",
       "      <td>Chr I from 143707-147531</td>\n",
       "      <td>Genome Release 64-2-1</td>\n",
       "      <td>NaN</td>\n",
       "      <td>Verified ORF</td>\n",
       "      <td>\"Membrane-binding component of the CORVET comp...</td>\n",
       "      <td>MEQNGLDHDSRSSIDTTINDTQKTFLEFRSYTQLSEKLASSSSYTA...</td>\n",
       "    </tr>\n",
       "    <tr>\n",
       "      <th>2</th>\n",
       "      <td>YAL003W</td>\n",
       "      <td>EFB1</td>\n",
       "      <td>S000000003</td>\n",
       "      <td>Chr I from 142174-142253,142620-143160</td>\n",
       "      <td>Genome Release 64-2-1</td>\n",
       "      <td>NaN</td>\n",
       "      <td>Verified ORF</td>\n",
       "      <td>\"Translation elongation factor 1 beta; stimula...</td>\n",
       "      <td>MASTDFSKIETLKQLNASLADKSYIEGTAVSQADVTVFKAFQSAYP...</td>\n",
       "    </tr>\n",
       "    <tr>\n",
       "      <th>3</th>\n",
       "      <td>YAL005C</td>\n",
       "      <td>SSA1</td>\n",
       "      <td>S000000004</td>\n",
       "      <td>Chr I from 141431-139503</td>\n",
       "      <td>Genome Release 64-2-1</td>\n",
       "      <td>1.0</td>\n",
       "      <td>Verified ORF</td>\n",
       "      <td>\"ATPase involved in protein folding and NLS-di...</td>\n",
       "      <td>MSKAVGIDLGTTYSCVAHFANDRVDIIANDQGNRTTPSFVAFTDTE...</td>\n",
       "    </tr>\n",
       "    <tr>\n",
       "      <th>4</th>\n",
       "      <td>YAL007C</td>\n",
       "      <td>ERP2</td>\n",
       "      <td>S000000005</td>\n",
       "      <td>Chr I from 138345-137698</td>\n",
       "      <td>Genome Release 64-2-1</td>\n",
       "      <td>1.0</td>\n",
       "      <td>Verified ORF</td>\n",
       "      <td>\"Member of the p24 family involved in ER to Go...</td>\n",
       "      <td>MIKSTIALPSFFIVLILALVNSVAASSSYAPVAISLPAFSKECLYY...</td>\n",
       "    </tr>\n",
       "  </tbody>\n",
       "</table>\n",
       "</div>"
      ],
      "text/plain": [
       "   gene_id uniprot_gene_id       SGDID  \\\n",
       "0  YAL001C            TFC3  S000000001   \n",
       "1  YAL002W            VPS8  S000000002   \n",
       "2  YAL003W            EFB1  S000000003   \n",
       "3  YAL005C            SSA1  S000000004   \n",
       "4  YAL007C            ERP2  S000000005   \n",
       "\n",
       "                                    locus         genome_release  \\\n",
       "0  Chr I from 151006-147594,151166-151097  Genome Release 64-2-1   \n",
       "1                Chr I from 143707-147531  Genome Release 64-2-1   \n",
       "2  Chr I from 142174-142253,142620-143160  Genome Release 64-2-1   \n",
       "3                Chr I from 141431-139503  Genome Release 64-2-1   \n",
       "4                Chr I from 138345-137698  Genome Release 64-2-1   \n",
       "\n",
       "   reverse_complement    orf_status  \\\n",
       "0                 1.0  Verified ORF   \n",
       "1                 NaN  Verified ORF   \n",
       "2                 NaN  Verified ORF   \n",
       "3                 1.0  Verified ORF   \n",
       "4                 1.0  Verified ORF   \n",
       "\n",
       "                                         description  \\\n",
       "0  \"Subunit of RNA polymerase III transcription i...   \n",
       "1  \"Membrane-binding component of the CORVET comp...   \n",
       "2  \"Translation elongation factor 1 beta; stimula...   \n",
       "3  \"ATPase involved in protein folding and NLS-di...   \n",
       "4  \"Member of the p24 family involved in ER to Go...   \n",
       "\n",
       "                                            sequence  \n",
       "0  MVLTIYPDELVQIVSDKIASNKGKITLNQLWDISGKYFDLSDKKVK...  \n",
       "1  MEQNGLDHDSRSSIDTTINDTQKTFLEFRSYTQLSEKLASSSSYTA...  \n",
       "2  MASTDFSKIETLKQLNASLADKSYIEGTAVSQADVTVFKAFQSAYP...  \n",
       "3  MSKAVGIDLGTTYSCVAHFANDRVDIIANDQGNRTTPSFVAFTDTE...  \n",
       "4  MIKSTIALPSFFIVLILALVNSVAASSSYAPVAISLPAFSKECLYY...  "
      ]
     },
     "execution_count": 16,
     "metadata": {},
     "output_type": "execute_result"
    }
   ],
   "source": [
    "df_db.head()"
   ]
  },
  {
   "cell_type": "code",
   "execution_count": null,
   "metadata": {},
   "outputs": [],
   "source": []
  }
 ],
 "metadata": {
  "kernelspec": {
   "display_name": "Python 3",
   "language": "python",
   "name": "python3"
  },
  "language_info": {
   "codemirror_mode": {
    "name": "ipython",
    "version": 3
   },
   "file_extension": ".py",
   "mimetype": "text/x-python",
   "name": "python",
   "nbconvert_exporter": "python",
   "pygments_lexer": "ipython3",
   "version": "3.7.9"
  }
 },
 "nbformat": 4,
 "nbformat_minor": 4
}
