{
 "cells": [
  {
   "cell_type": "code",
   "execution_count": 1,
   "metadata": {},
   "outputs": [],
   "source": [
    "import pandas as pd\n",
    "import itertools, os\n",
    "from collections import OrderedDict"
   ]
  },
  {
   "cell_type": "markdown",
   "metadata": {},
   "source": [
    "#### External fluxes data"
   ]
  },
  {
   "cell_type": "code",
   "execution_count": 2,
   "metadata": {},
   "outputs": [],
   "source": [
    "df_ex = pd.read_excel('./raw_data_files/Elsemman_Nielsen_Teusink_2022_exflux.xlsx',\n",
    "                      sheet_name='Batch', skiprows=14, index_col=0)"
   ]
  },
  {
   "cell_type": "code",
   "execution_count": 3,
   "metadata": {},
   "outputs": [],
   "source": [
    "exr_dict = OrderedDict({'qetoh': 'EX_etoh_e', 'qglyc': 'EX_glyc_e',\n",
    "            'q pyruvate': 'EX_pyr_e', 'qace': 'EX_ac_e', 'q succinate': 'EX_succ_e',\n",
    "            'q citrate': 'EX_cit_e', 'qCO2': 'EX_co2_e'})\n",
    "\n",
    "cond_dict = {'Maltose': ('EX_malt_e', ['Maltose', 'Maltoseb']),\n",
    "             'Galactose': ('EX_gal_e', ['Galactose', 'Galactoseb']),\n",
    "             'Glucose': ('EX_glc__D_e', ['Glucose', 'Glucoseb']),\n",
    "             'Trehalose': ('EX_tre_e', ['Trehalose', 'Trehaloseb'])}\n",
    "\n",
    "fname_prefix = 'Elsemman2022'\n",
    "for cond,keys in cond_dict.items():\n",
    "    sid,ridx = keys\n",
    "    fpath = './' + fname_prefix + '_' + cond + '/'\n",
    "    if os.path.isdir(fpath) == False:\n",
    "        os.makedirs(fpath)\n",
    "        \n",
    "    ptext = []\n",
    "    # Growth rate\n",
    "    mu = round(df_ex.loc[ridx, 'mu (/h)'].mean(),4)\n",
    "    ptext += ['* Growth rate', '$setGlobal mu ' + str(mu),\n",
    "              \"v.fx('BIOSYN-BIODIL') = %mu% * %nscale%;\", \"\"]\n",
    "    \n",
    "    # Carbon substrate uptake and oxygenation\n",
    "    upt = -round(df_ex.loc[ridx, 'qs mmol/gDW/h'].mean(),4)\n",
    "    o2 = -round(df_ex.loc[ridx, 'qO2'].mean(),4)\n",
    "    \n",
    "    ptext += ['* Substrate and oxygenation',\n",
    "              \"v.fx('RXN-\" + sid + \"_REV-SPONT') = \" + str(upt) + \" * %nscale%;\",\n",
    "              \"v.fx('RXN-\" + sid + \"_FWD-SPONT') = 0 * %nscale%;\", \"\",\n",
    "              \"v.fx('RXN-EX_o2_e_REV-SPONT') = \" + str(o2) + \" * %nscale%;\",\n",
    "              \"v.fx('RXN-EX_o2_e_FWD-SPONT') = 0 * %nscale%;\", \"\"]\n",
    "    \n",
    "    # Secretions\n",
    "    ptext += ['* Secretions']\n",
    "    for col,secid in exr_dict.items():\n",
    "        val = round(df_ex.loc[ridx, col].mean(), 4)\n",
    "        if val > 0:\n",
    "            ptext += [\"v.lo('RXN-\" + secid + \"_FWD-SPONT') = \" + str(val) + \" * %nscale%;\",\n",
    "                      \"v.fx('RXN-\" + secid + \"_REV-SPONT') = 0 * %nscale%;\", \"\"]\n",
    "    \n",
    "    with open(fpath + 'phenotype_frompy.txt', 'w') as f:\n",
    "        f.write('\\n'.join(ptext))"
   ]
  },
  {
   "cell_type": "code",
   "execution_count": null,
   "metadata": {},
   "outputs": [],
   "source": []
  }
 ],
 "metadata": {
  "kernelspec": {
   "display_name": "Python 3",
   "language": "python",
   "name": "python3"
  },
  "language_info": {
   "codemirror_mode": {
    "name": "ipython",
    "version": 3
   },
   "file_extension": ".py",
   "mimetype": "text/x-python",
   "name": "python",
   "nbconvert_exporter": "python",
   "pygments_lexer": "ipython3",
   "version": "3.7.9"
  }
 },
 "nbformat": 4,
 "nbformat_minor": 4
}
