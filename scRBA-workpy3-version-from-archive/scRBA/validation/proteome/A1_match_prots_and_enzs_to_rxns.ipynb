{
 "cells": [
  {
   "cell_type": "code",
   "execution_count": 4,
   "metadata": {},
   "outputs": [],
   "source": [
    "import pandas as pd\n",
    "\n",
    "import sys\n",
    "sys.path.append('../../pycore/')\n",
    "from utils import extract_details_from_rxnid"
   ]
  },
  {
   "cell_type": "code",
   "execution_count": 5,
   "metadata": {},
   "outputs": [],
   "source": [
    "df_enz = pd.read_excel('../../build_GAMS_model/input/ENZYME_stoich_curation_2021-10-01.xlsx')"
   ]
  },
  {
   "cell_type": "code",
   "execution_count": 2,
   "metadata": {},
   "outputs": [],
   "source": [
    "df_path = pd.read_excel('./manual_pathways_assignments_start.xlsx')"
   ]
  },
  {
   "cell_type": "code",
   "execution_count": 10,
   "metadata": {},
   "outputs": [],
   "source": [
    "for i in df_path.index:\n",
    "    rxn = df_path.rxn_id[i]\n",
    "    df = df_enz[df_enz.rxn_src == rxn]\n",
    "    \n",
    "    enzs = df.enz.to_list()\n",
    "    prots = []\n",
    "    for text in df.protein_stoich:\n",
    "        x = text.split(',')\n",
    "        prots += [p.split(':')[0] for p in x]\n",
    "        \n",
    "    enzs = sorted(list(set(enzs)))\n",
    "    prots = sorted(list(set(prots)))\n",
    "    \n",
    "    df_path.loc[i, 'enzymes'] = ','.join(enzs)\n",
    "    df_path.loc[i, 'proteins'] = ','.join(prots)"
   ]
  },
  {
   "cell_type": "code",
   "execution_count": 12,
   "metadata": {},
   "outputs": [],
   "source": [
    "df_path2 = pd.DataFrame(columns=['pathway', 'rxn_id', 'protein'])\n",
    "count = -1\n",
    "for i in df_path.index:\n",
    "    prots = df_path.proteins[i].split(',')\n",
    "    for p in prots:\n",
    "        count += 1\n",
    "        df_path2.loc[count, 'pathway'] = df_path.loc[i, 'pathway']\n",
    "        df_path2.loc[count, 'rxn_id'] = df_path.loc[i, 'rxn_id']\n",
    "        df_path2.loc[count, 'protein'] = p"
   ]
  },
  {
   "cell_type": "code",
   "execution_count": 14,
   "metadata": {},
   "outputs": [],
   "source": [
    "df_path2.to_excel('./manual_pathways_assignments.xlsx', index=None)"
   ]
  },
  {
   "cell_type": "code",
   "execution_count": null,
   "metadata": {},
   "outputs": [],
   "source": []
  },
  {
   "cell_type": "code",
   "execution_count": null,
   "metadata": {},
   "outputs": [],
   "source": []
  },
  {
   "cell_type": "code",
   "execution_count": null,
   "metadata": {},
   "outputs": [],
   "source": []
  }
 ],
 "metadata": {
  "kernelspec": {
   "display_name": "Python 3",
   "language": "python",
   "name": "python3"
  },
  "language_info": {
   "codemirror_mode": {
    "name": "ipython",
    "version": 3
   },
   "file_extension": ".py",
   "mimetype": "text/x-python",
   "name": "python",
   "nbconvert_exporter": "python",
   "pygments_lexer": "ipython3",
   "version": "3.7.9"
  }
 },
 "nbformat": 4,
 "nbformat_minor": 4
}
