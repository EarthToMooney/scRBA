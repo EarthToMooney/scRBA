{
 "cells": [
  {
   "cell_type": "code",
   "execution_count": 11,
   "metadata": {},
   "outputs": [],
   "source": [
    "import pandas as pd\n",
    "import cobra\n",
    "from copy import deepcopy\n",
    "\n",
    "import sys\n",
    "sys.path.append('../pycore/')\n",
    "from utils import extract_details_from_rxnid\n",
    "\n",
    "sys.path.append('../../common/')\n",
    "from custom_functions import make_escher_csv"
   ]
  },
  {
   "cell_type": "code",
   "execution_count": 2,
   "metadata": {},
   "outputs": [],
   "source": [
    "prods = ['hdca', 'hxdcol', 'btoh', 'tag', 'nrgn', 'polyhb', 'citm',\n",
    "         'arte', 'sesqt', 'etoh', 'lac__L', 'btd', 'ibutoh', '3hppa',\n",
    "         '3hppb', 'succ', 'mal__L', 'skm', 'muco', '4hbz', '4abz',\n",
    "         '2phetoh', 'cou', 'rsvtol', 'styr', 'retcln', 'glyc', '13ppd']\n",
    "prod_rxns = {p:[] for p in prods}\n",
    "\n",
    "#### Compile product - active rxns dictionary\n",
    "df_rxns = pd.read_excel('./input/pathways.xlsx')\n",
    "for i in df_rxns.index:\n",
    "    rxnid = extract_details_from_rxnid(df_rxns.id[i])[1]\n",
    "    p = df_rxns.loc[i, 'product']\n",
    "    \n",
    "    if p == '3hpp':\n",
    "        prod_rxns['3hppa'].append(rxnid)\n",
    "        prod_rxns['3hppb'].append(rxnid)\n",
    "    else:\n",
    "        prod_rxns[p].append(rxnid)"
   ]
  },
  {
   "cell_type": "code",
   "execution_count": 3,
   "metadata": {},
   "outputs": [
    {
     "name": "stdout",
     "output_type": "stream",
     "text": [
      "Using license file /home/hvdinh16/Workspace/Softwares/gurobi910/linux64/gurobi.lic\n",
      "Academic license - for non-commercial use only - expires 2022-08-08\n"
     ]
    }
   ],
   "source": [
    "model = cobra.io.load_json_model('./input/GSM_iSace1144_rba_pathwayadd.json')\n",
    "model.solver = 'cplex'\n",
    "model.objective = dict()\n",
    "\n",
    "model.reactions.ATPM_c.lower_bound = 1\n",
    "\n",
    "model.reactions.EX_glc__D_e.bounds = (-16,1000)\n",
    "model.reactions.BIOMASS_AERO_SC_hvd.bounds = (0.1, 0.1)\n",
    "model.reactions.EX_o2_e.bounds = (-1000,1000)\n",
    "model.reactions.EX_co2_e.bounds = (-1000,1000)\n",
    "\n",
    "# Allow YNB media uptake\n",
    "model.reactions.EX_thm_e.bounds = (-1000,1000)\n",
    "model.reactions.EX_ribflv_e.bounds = (-1000,1000)\n",
    "model.reactions.EX_nac_e.bounds = (-1000,1000)\n",
    "model.reactions.EX_pydxn_e.bounds = (-1000,1000)\n",
    "model.reactions.EX_fol_e.bounds = (-1000,1000)\n",
    "model.reactions.EX_pnto__R_e.bounds = (-1000,1000)\n",
    "model.reactions.EX_4abz_e.bounds = (-1000,1000)\n",
    "model.reactions.EX_inost_e.bounds = (-1000,1000)"
   ]
  },
  {
   "cell_type": "code",
   "execution_count": 14,
   "metadata": {
    "collapsed": true
   },
   "outputs": [
    {
     "name": "stdout",
     "output_type": "stream",
     "text": [
      "2.0 optimal 1.062 0.431\n",
      "2.1 optimal 1.183 0.457\n",
      "2.2 optimal 1.303 0.48\n",
      "2.3 optimal 1.424 0.502\n",
      "2.4 optimal 1.544 0.522\n",
      "2.5 optimal 1.665 0.54\n",
      "2.6 optimal 1.785 0.557\n",
      "2.7 optimal 1.906 0.572\n",
      "2.8 optimal 2.026 0.587\n",
      "2.9 optimal 2.146 0.6\n",
      "3.0 optimal 2.266 0.613\n",
      "3.1 optimal 2.379 0.622\n",
      "3.2 optimal 2.479 0.628\n",
      "3.3 optimal 2.579 0.634\n",
      "3.4 optimal 2.679 0.639\n",
      "3.5 optimal 2.779 0.644\n",
      "3.6 optimal 2.879 0.649\n",
      "3.7 optimal 2.979 0.653\n",
      "3.8 optimal 3.079 0.657\n",
      "3.9 optimal 3.179 0.661\n",
      "4.0 optimal 3.279 0.665\n",
      "4.1 optimal 3.379 0.668\n",
      "4.2 optimal 3.479 0.672\n",
      "4.3 optimal 3.579 0.675\n",
      "4.4 optimal 3.679 0.678\n",
      "4.5 optimal 3.779 0.681\n",
      "4.6 optimal 3.879 0.684\n",
      "4.7 optimal 3.979 0.687\n",
      "4.8 optimal 4.079 0.689\n",
      "4.9 optimal 4.179 0.692\n",
      "5.0 optimal 4.279 0.694\n",
      "5.1 optimal 4.379 0.696\n",
      "5.2 optimal 4.479 0.699\n",
      "5.3 optimal 4.579 0.701\n",
      "5.4 optimal 4.679 0.703\n",
      "5.5 optimal 4.779 0.705\n",
      "5.6 optimal 4.879 0.707\n",
      "5.7 optimal 4.979 0.708\n",
      "5.8 optimal 5.079 0.71\n",
      "5.9 optimal 5.179 0.712\n",
      "6.0 optimal 5.279 0.714\n",
      "6.1 optimal 5.379 0.715\n",
      "6.2 optimal 5.479 0.717\n",
      "6.3 optimal 5.579 0.718\n",
      "6.4 optimal 5.679 0.72\n",
      "6.5 optimal 5.779 0.721\n",
      "6.6 optimal 5.879 0.722\n",
      "6.7 optimal 5.979 0.724\n",
      "6.8 optimal 6.079 0.725\n",
      "6.9 optimal 6.179 0.726\n",
      "7.0 optimal 6.279 0.727\n",
      "7.1 optimal 6.379 0.729\n",
      "7.2 optimal 6.479 0.73\n",
      "7.3 optimal 6.579 0.731\n",
      "7.4 optimal 6.679 0.732\n",
      "7.5 optimal 6.779 0.733\n",
      "7.6 optimal 6.879 0.734\n",
      "7.7 optimal 6.979 0.735\n",
      "7.8 optimal 7.079 0.736\n",
      "7.9 optimal 7.179 0.737\n",
      "8.0 optimal 7.279 0.738\n",
      "8.1 optimal 7.379 0.739\n",
      "8.2 optimal 7.479 0.74\n",
      "8.3 optimal 7.579 0.741\n",
      "8.4 optimal 7.679 0.741\n",
      "8.5 optimal 7.779 0.742\n",
      "8.6 optimal 7.879 0.743\n",
      "8.7 optimal 7.979 0.744\n",
      "8.8 optimal 8.079 0.745\n",
      "8.9 optimal 8.179 0.745\n",
      "9.0 optimal 8.279 0.746\n",
      "9.1 optimal 8.379 0.747\n",
      "9.2 optimal 8.479 0.747\n",
      "9.3 optimal 8.579 0.748\n",
      "9.4 optimal 8.679 0.749\n",
      "9.5 optimal 8.779 0.749\n",
      "9.6 optimal 8.879 0.75\n",
      "9.7 optimal 8.979 0.751\n",
      "9.8 optimal 9.079 0.751\n",
      "9.9 optimal 9.179 0.752\n",
      "10.0 optimal 9.279 0.753\n",
      "10.1 optimal 9.379 0.753\n",
      "10.2 optimal 9.479 0.754\n",
      "10.3 optimal 9.579 0.754\n",
      "10.4 optimal 9.679 0.755\n",
      "10.5 optimal 9.779 0.755\n",
      "10.6 optimal 9.879 0.756\n",
      "10.7 optimal 9.979 0.756\n",
      "10.8 optimal 10.079 0.757\n",
      "10.9 optimal 10.179 0.757\n",
      "11.0 optimal 10.279 0.758\n",
      "11.1 optimal 10.379 0.758\n",
      "11.2 optimal 10.479 0.759\n",
      "11.3 optimal 10.579 0.759\n",
      "11.4 optimal 10.679 0.76\n",
      "11.5 optimal 10.779 0.76\n",
      "11.6 optimal 10.879 0.761\n",
      "11.7 optimal 10.979 0.761\n",
      "11.8 optimal 11.079 0.761\n",
      "11.9 optimal 11.179 0.762\n",
      "12.0 optimal 11.279 0.762\n",
      "12.1 optimal 11.379 0.763\n",
      "12.2 optimal 11.479 0.763\n",
      "12.3 optimal 11.579 0.763\n",
      "12.4 optimal 11.679 0.764\n",
      "12.5 optimal 11.779 0.764\n",
      "12.6 optimal 11.879 0.765\n",
      "12.7 optimal 11.979 0.765\n",
      "12.8 optimal 12.079 0.765\n",
      "12.9 optimal 12.179 0.766\n",
      "13.0 optimal 12.279 0.766\n",
      "13.1 optimal 12.379 0.766\n",
      "13.2 optimal 12.479 0.767\n",
      "13.3 optimal 12.579 0.767\n",
      "13.4 optimal 12.679 0.767\n",
      "13.5 optimal 12.779 0.768\n",
      "13.6 optimal 12.879 0.768\n",
      "13.7 optimal 12.979 0.768\n",
      "13.8 optimal 13.079 0.769\n",
      "13.9 optimal 13.179 0.769\n",
      "14.0 optimal 13.279 0.769\n",
      "14.1 optimal 13.379 0.77\n",
      "14.2 optimal 13.479 0.77\n",
      "14.3 optimal 13.579 0.77\n",
      "14.4 optimal 13.679 0.77\n",
      "14.5 optimal 13.779 0.771\n",
      "14.6 optimal 13.879 0.771\n",
      "14.7 optimal 13.979 0.771\n",
      "14.8 optimal 14.079 0.771\n",
      "14.9 optimal 14.179 0.772\n",
      "15.0 optimal 14.279 0.772\n",
      "15.1 optimal 14.379 0.772\n",
      "15.2 optimal 14.479 0.773\n",
      "15.3 optimal 14.579 0.773\n",
      "15.4 optimal 14.679 0.773\n",
      "15.5 optimal 14.779 0.773\n",
      "15.6 optimal 14.879 0.774\n",
      "15.7 optimal 14.979 0.774\n",
      "15.8 optimal 15.079 0.774\n",
      "15.9 optimal 15.179 0.774\n",
      "16.0 optimal 15.279 0.774\n"
     ]
    }
   ],
   "source": [
    "p = 'citm'\n",
    "if p in ['3hppa', '3hppb']:\n",
    "    exrxn = 'EX_3hpp_e'\n",
    "else:\n",
    "    exrxn = 'EX_' + p + '_e'\n",
    "model.reactions.get_by_id(exrxn).objective_coefficient = 1\n",
    "model.reactions.THRA_c.knock_out()\n",
    "\n",
    "for i in range(2*10, 16*10+1):\n",
    "    vglc0 = 0.1 * i\n",
    "    model.reactions.EX_glc__D_e.bounds = (-vglc0, 1000)\n",
    "    for r in prod_rxns[p]:\n",
    "        model.reactions.get_by_id(r).bounds = (0,1000)\n",
    "    fba = model.optimize()\n",
    "    v = fba[exrxn]\n",
    "    y = fba[exrxn] * 146.1 / 180.156 / -fba['EX_glc__D_e']\n",
    "    print(str(round(vglc0,1)), fba.status, round(v, 3), round(y, 3))\n",
    "    \n",
    "for r in prod_rxns[p]:\n",
    "    model.reactions.get_by_id(r).bounds = (0,0)\n",
    "model.objective = dict()"
   ]
  },
  {
   "cell_type": "code",
   "execution_count": 15,
   "metadata": {},
   "outputs": [
    {
     "name": "stdout",
     "output_type": "stream",
     "text": [
      "10.6 optimal 9.879 0.756\n"
     ]
    }
   ],
   "source": [
    "p = 'citm'\n",
    "if p in ['3hppa', '3hppb']:\n",
    "    exrxn = 'EX_3hpp_e'\n",
    "else:\n",
    "    exrxn = 'EX_' + p + '_e'\n",
    "model.reactions.get_by_id(exrxn).objective_coefficient = 1\n",
    "model.reactions.THRA_c.knock_out()\n",
    "\n",
    "vglc0 = 10.6\n",
    "model.reactions.EX_glc__D_e.bounds = (-vglc0, 1000)\n",
    "for r in prod_rxns[p]:\n",
    "    model.reactions.get_by_id(r).bounds = (0,1000)\n",
    "fba = model.optimize()\n",
    "v = fba[exrxn]\n",
    "y = fba[exrxn] * 146.1 / 180.156 / -fba['EX_glc__D_e']\n",
    "print(str(round(vglc0,1)), fba.status, round(v,3), round(y,3))\n",
    "\n",
    "for r in prod_rxns[p]:\n",
    "    model.reactions.get_by_id(r).bounds = (0,0)\n",
    "model.objective = dict()"
   ]
  },
  {
   "cell_type": "code",
   "execution_count": 6,
   "metadata": {},
   "outputs": [
    {
     "data": {
      "text/plain": [
       "8.191312147129395"
      ]
     },
     "execution_count": 6,
     "metadata": {},
     "output_type": "execute_result"
    }
   ],
   "source": [
    "fba['EX_co2_e']"
   ]
  },
  {
   "cell_type": "code",
   "execution_count": 9,
   "metadata": {},
   "outputs": [
    {
     "name": "stdout",
     "output_type": "stream",
     "text": [
      "GLYCL_m 1.66 gly_m + nad_m + thf_m <=> co2_m + mlthf_m + nadh_m + nh4_m\n",
      "IGPS_c 1.27 2cpr5p_c + h_c --> 3ig3p_c + co2_c + h2o_c\n",
      "ICDHy_c 0.11 icit_c + nadp_c <=> akg_c + co2_c + nadph_c\n",
      "ME1_m 1.61 mal__L_m + nad_m --> co2_m + nadh_m + pyr_m\n",
      "PYRDC_c 7.08 h_c + pyr_c --> acald_c + co2_c\n",
      "PDH_m 1.47 coa_m + nad_m + pyr_m --> accoa_m + co2_m + nadh_m\n",
      "HCO3E_c 5.33 co2_c + h2o_c <=> h_c + hco3_c\n",
      "CO2t_c_m -4.85 co2_c <=> co2_m\n",
      "CO2t_c_e 8.19 co2_c <=> co2_e\n"
     ]
    }
   ],
   "source": [
    "for rxn in model.reactions:\n",
    "    eqn = rxn.reaction\n",
    "    if 'co2_c' in eqn or 'co2_m' in eqn:\n",
    "        v = fba[rxn.id]\n",
    "        if abs(v) > 0.1:\n",
    "            print(rxn.id, round(v,2), eqn)"
   ]
  },
  {
   "cell_type": "code",
   "execution_count": 16,
   "metadata": {},
   "outputs": [],
   "source": [
    "make_escher_csv(fba, './test.escher.csv')"
   ]
  },
  {
   "cell_type": "code",
   "execution_count": 13,
   "metadata": {
    "scrolled": false
   },
   "outputs": [
    {
     "data": {
      "text/html": [
       "\n",
       "        <table>\n",
       "            <tr>\n",
       "                <td><strong>Reaction identifier</strong></td><td>ATPM_c</td>\n",
       "            </tr><tr>\n",
       "                <td><strong>Name</strong></td><td>non-growth associated maintenance reaction</td>\n",
       "            </tr><tr>\n",
       "                <td><strong>Memory address</strong></td>\n",
       "                <td>0x07f79e5cbd710</td>\n",
       "            </tr><tr>\n",
       "                <td><strong>Stoichiometry</strong></td>\n",
       "                <td>\n",
       "                    <p style='text-align:right'>atp_c + h2o_c --> adp_c + h_c + pi_c</p>\n",
       "                    <p style='text-align:right'>ATP [cytoplasm] + H2O [cytoplasm] --> ADP [cytoplasm] + H+ [cytoplasm] + phosphate [cytoplasm]</p>\n",
       "                </td>\n",
       "            </tr><tr>\n",
       "                <td><strong>GPR</strong></td><td></td>\n",
       "            </tr><tr>\n",
       "                <td><strong>Lower bound</strong></td><td>1</td>\n",
       "            </tr><tr>\n",
       "                <td><strong>Upper bound</strong></td><td>1000.0</td>\n",
       "            </tr>\n",
       "        </table>\n",
       "        "
      ],
      "text/plain": [
       "<Reaction ATPM_c at 0x7f79e5cbd710>"
      ]
     },
     "execution_count": 13,
     "metadata": {},
     "output_type": "execute_result"
    }
   ],
   "source": [
    "model.reactions.ATPM_c"
   ]
  },
  {
   "cell_type": "code",
   "execution_count": null,
   "metadata": {},
   "outputs": [],
   "source": [
    "GLYCL_m 1.608\n",
    "IGPS_c 0.005\n",
    "ICDHy_c 0\n",
    "ME1_m 0\n",
    "PYRDC_c 7.629\n",
    "PDH_m 0\n",
    "HCO3E_n 3.57\n",
    "CO2t_c_m -2.0\n",
    "CO2t_c_e 6.27"
   ]
  }
 ],
 "metadata": {
  "kernelspec": {
   "display_name": "Python 3",
   "language": "python",
   "name": "python3"
  },
  "language_info": {
   "codemirror_mode": {
    "name": "ipython",
    "version": 3
   },
   "file_extension": ".py",
   "mimetype": "text/x-python",
   "name": "python",
   "nbconvert_exporter": "python",
   "pygments_lexer": "ipython3",
   "version": "3.7.9"
  }
 },
 "nbformat": 4,
 "nbformat_minor": 4
}
