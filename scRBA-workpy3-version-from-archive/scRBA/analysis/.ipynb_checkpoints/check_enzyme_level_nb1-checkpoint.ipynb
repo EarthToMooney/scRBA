{
 "cells": [
  {
   "cell_type": "code",
   "execution_count": 2,
   "metadata": {},
   "outputs": [],
   "source": [
    "import pandas as pd"
   ]
  },
  {
   "cell_type": "code",
   "execution_count": 4,
   "metadata": {},
   "outputs": [],
   "source": [
    "df_enz = pd.read_excel('../build_GAMS_model/input/ENZYME_stoich_curation_2021-10-01.xlsx')"
   ]
  },
  {
   "cell_type": "code",
   "execution_count": 5,
   "metadata": {},
   "outputs": [
    {
     "data": {
      "text/html": [
       "<div>\n",
       "<style scoped>\n",
       "    .dataframe tbody tr th:only-of-type {\n",
       "        vertical-align: middle;\n",
       "    }\n",
       "\n",
       "    .dataframe tbody tr th {\n",
       "        vertical-align: top;\n",
       "    }\n",
       "\n",
       "    .dataframe thead th {\n",
       "        text-align: right;\n",
       "    }\n",
       "</style>\n",
       "<table border=\"1\" class=\"dataframe\">\n",
       "  <thead>\n",
       "    <tr style=\"text-align: right;\">\n",
       "      <th></th>\n",
       "      <th>id</th>\n",
       "      <th>rxn_src</th>\n",
       "      <th>enz</th>\n",
       "      <th>gpr</th>\n",
       "      <th>protein_stoich</th>\n",
       "      <th>subunit_comments</th>\n",
       "      <th>status</th>\n",
       "      <th>MW (g/mmol)</th>\n",
       "    </tr>\n",
       "  </thead>\n",
       "  <tbody>\n",
       "    <tr>\n",
       "      <th>3028</th>\n",
       "      <td>RXN-FECOOR_m_FWD-FECOORCPLX1</td>\n",
       "      <td>FECOOR_m</td>\n",
       "      <td>FECOORCPLX1</td>\n",
       "      <td>Q0045 and Q0250 and Q0275 and YGL187C and YHR0...</td>\n",
       "      <td>Q0045:1,Q0250:1,Q0275:1,YGL187C:1,YHR051W:1,YM...</td>\n",
       "      <td>Component of the cytochrome c oxidase (complex...</td>\n",
       "      <td>protStoichAsgnManual</td>\n",
       "      <td>219.87408</td>\n",
       "    </tr>\n",
       "    <tr>\n",
       "      <th>3029</th>\n",
       "      <td>RXN-FECOOR_m_FWD-FECOORCPLX2</td>\n",
       "      <td>FECOOR_m</td>\n",
       "      <td>FECOORCPLX2</td>\n",
       "      <td>Q0045 and Q0250 and Q0275 and YGL187C and YHR0...</td>\n",
       "      <td>Q0045:1,Q0250:1,Q0275:1,YGL187C:1,YHR051W:1,YM...</td>\n",
       "      <td>Component of the cytochrome c oxidase (complex...</td>\n",
       "      <td>protStoichAsgnManual</td>\n",
       "      <td>220.13129</td>\n",
       "    </tr>\n",
       "  </tbody>\n",
       "</table>\n",
       "</div>"
      ],
      "text/plain": [
       "                                id   rxn_src          enz  \\\n",
       "3028  RXN-FECOOR_m_FWD-FECOORCPLX1  FECOOR_m  FECOORCPLX1   \n",
       "3029  RXN-FECOOR_m_FWD-FECOORCPLX2  FECOOR_m  FECOORCPLX2   \n",
       "\n",
       "                                                    gpr  \\\n",
       "3028  Q0045 and Q0250 and Q0275 and YGL187C and YHR0...   \n",
       "3029  Q0045 and Q0250 and Q0275 and YGL187C and YHR0...   \n",
       "\n",
       "                                         protein_stoich  \\\n",
       "3028  Q0045:1,Q0250:1,Q0275:1,YGL187C:1,YHR051W:1,YM...   \n",
       "3029  Q0045:1,Q0250:1,Q0275:1,YGL187C:1,YHR051W:1,YM...   \n",
       "\n",
       "                                       subunit_comments                status  \\\n",
       "3028  Component of the cytochrome c oxidase (complex...  protStoichAsgnManual   \n",
       "3029  Component of the cytochrome c oxidase (complex...  protStoichAsgnManual   \n",
       "\n",
       "      MW (g/mmol)  \n",
       "3028    219.87408  \n",
       "3029    220.13129  "
      ]
     },
     "execution_count": 5,
     "metadata": {},
     "output_type": "execute_result"
    }
   ],
   "source": [
    "df_enz[df_enz.rxn_src == 'FECOOR_m']"
   ]
  },
  {
   "cell_type": "code",
   "execution_count": 6,
   "metadata": {},
   "outputs": [],
   "source": [
    "text = df_enz.protein_stoich[3028]\n",
    "subs = text.split(',')"
   ]
  },
  {
   "cell_type": "code",
   "execution_count": 7,
   "metadata": {},
   "outputs": [],
   "source": [
    "df_atps = pd.DataFrame(columns=['protein', 'stoich'])\n",
    "for s in subs:\n",
    "    p,v = s.split(':')\n",
    "    df_atps.loc[p, 'protein'] = p\n",
    "    df_atps.loc[p, 'stoich'] = int(v)"
   ]
  },
  {
   "cell_type": "code",
   "execution_count": 9,
   "metadata": {},
   "outputs": [],
   "source": [
    "datasets = [\n",
    "    'Bjorkeroth2020_batchYNB', 'Elsemman2022_batchGlc',\n",
    "    'Lahtvee2017_chemoRef', 'Yu2021_chemoClimNH4_010',\n",
    "    'Yu2021_chemoNlimNH4_010', 'Elsemman2022_batchGal']\n",
    "\n",
    "for dname in datasets:\n",
    "    df_data = pd.read_excel('../parameterization/datasets/' + dname + '/' + dname + '.xlsx')\n",
    "    df_data.index = df_data.id.to_list()\n",
    "    \n",
    "    for p in df_atps.index:\n",
    "        if p in df_data.index:\n",
    "            df_atps.loc[p, 'MW (g/mmol)'] = df_data.loc[p, 'MW (g/mmol)']\n",
    "            df_atps.loc[p, dname] = df_data.loc[p, 'conc (g/gDW)']"
   ]
  },
  {
   "cell_type": "code",
   "execution_count": 11,
   "metadata": {},
   "outputs": [],
   "source": [
    "df_atps.to_excel('./enzlevelchecks/enz_level_nb1.xlsx', index=None)"
   ]
  },
  {
   "cell_type": "code",
   "execution_count": null,
   "metadata": {},
   "outputs": [],
   "source": []
  },
  {
   "cell_type": "code",
   "execution_count": null,
   "metadata": {},
   "outputs": [],
   "source": []
  }
 ],
 "metadata": {
  "kernelspec": {
   "display_name": "Python 3",
   "language": "python",
   "name": "python3"
  },
  "language_info": {
   "codemirror_mode": {
    "name": "ipython",
    "version": 3
   },
   "file_extension": ".py",
   "mimetype": "text/x-python",
   "name": "python",
   "nbconvert_exporter": "python",
   "pygments_lexer": "ipython3",
   "version": "3.7.9"
  }
 },
 "nbformat": 4,
 "nbformat_minor": 4
}
