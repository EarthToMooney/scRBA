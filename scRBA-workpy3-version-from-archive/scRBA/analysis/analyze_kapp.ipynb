{
 "cells": [
  {
   "cell_type": "code",
   "execution_count": 1,
   "metadata": {},
   "outputs": [],
   "source": [
    "import pandas as pd\n",
    "\n",
    "import matplotlib.pyplot as plt\n",
    "import matplotlib.patches as mp\n",
    "import seaborn as sns\n",
    "import matplotlib.lines as mlines\n",
    "%matplotlib inline"
   ]
  },
  {
   "cell_type": "code",
   "execution_count": 2,
   "metadata": {},
   "outputs": [],
   "source": [
    "### Load dataset group information\n",
    "df_group = pd.read_csv('./input/data_partition.txt', sep='\\t')\n",
    "df_group.index = df_group.data_group.to_list()\n",
    "datasets = []; dgroup = dict();\n",
    "for i in df_group.index:\n",
    "    entries = df_group.data_entries[i].split(',')\n",
    "    for e in entries:\n",
    "        dgroup[e] = i\n",
    "    datasets += entries\n",
    "\n",
    "### Load kapp data\n",
    "df_kapp = pd.read_excel('../parameterization/results/kapp_inPerSec.xlsx')\n",
    "df_kapp.index = df_kapp.id.to_list()\n",
    "rxns = df_kapp.index.to_list()\n",
    "df_kapp = df_kapp.loc[:, datasets]"
   ]
  },
  {
   "cell_type": "code",
   "execution_count": 3,
   "metadata": {},
   "outputs": [],
   "source": [
    "### Compile kapp_max\n",
    "df_kappmax = pd.DataFrame(index=rxns, columns=['id', 'kappmax (1/s)', 'dataset'])\n",
    "df_kappmax['id'] = df_kappmax.index.to_list()\n",
    "for rxn in rxns:\n",
    "    kmax = df_kapp.loc[rxn, datasets].fillna(0).max()\n",
    "    dmax = df_kapp.loc[rxn, datasets].fillna(0).idxmax()\n",
    "    \n",
    "    df_kappmax.loc[rxn, 'kappmax (1/s)'] = kmax\n",
    "    df_kappmax.loc[rxn, 'dataset'] = dmax\n",
    "    df_kappmax.loc[rxn, 'data_group'] = dgroup[dmax]\n",
    "    \n",
    "df_kappmax = df_kappmax[df_kappmax['kappmax (1/s)'] > 0]"
   ]
  },
  {
   "cell_type": "code",
   "execution_count": 4,
   "metadata": {},
   "outputs": [],
   "source": [
    "### Compile kapp / kappmax\n",
    "rxns = df_kapp.index.to_list()\n",
    "groups = df_group.data_group.to_list()\n",
    "df_ratio = pd.DataFrame(index=rxns, columns=['rxn'] + groups)\n",
    "df_ratio['rxn'] = df_ratio.index.to_list()\n",
    "\n",
    "for rxn in rxns:\n",
    "    for group in groups:\n",
    "        dsets = df_group.data_entries[group].split(',')\n",
    "        kapps = [df_kapp.loc[rxn,d] for d in dsets if pd.isnull(df_kapp.loc[rxn,d]) == False]\n",
    "        if kapps == []:\n",
    "            continue\n",
    "        else:\n",
    "            kmax_within = max(kapps)\n",
    "            kmax_across = df_kappmax.loc[rxn, 'kappmax (1/s)']\n",
    "            df_ratio.loc[rxn, group] = kmax_within / kmax_across"
   ]
  },
  {
   "cell_type": "code",
   "execution_count": 21,
   "metadata": {
    "scrolled": true
   },
   "outputs": [
    {
     "data": {
      "image/png": "[encoded data removed]",
      "text/plain": [
       "<Figure size 1152x360 with 1 Axes>"
      ]
     },
     "metadata": {
      "needs_background": "light"
     },
     "output_type": "display_data"
    }
   ],
   "source": [
    "fig,ax = plt.subplots(figsize=(16,5))\n",
    "\n",
    "w = 0.25\n",
    "flierprops = {'marker': 'o', 'markersize': 1}\n",
    "medianprops = dict(linestyle='-', linewidth=2, color='#b71c1c')\n",
    "boxprops = dict(linestyle='-', linewidth=2)\n",
    "whiskerprops = dict(linestyle='-', linewidth=1)\n",
    "flierprops = dict(marker='o', alpha=0.5)\n",
    "\n",
    "for i in range(0, len(groups)):\n",
    "    group = groups[i]\n",
    "    vals = [v for v in df_ratio[group] if pd.isnull(v) == False]\n",
    "    ax.boxplot(vals, positions=[i], widths=w, boxprops=boxprops,\n",
    "           medianprops=medianprops, whiskerprops=whiskerprops,\n",
    "           flierprops=flierprops);\n",
    "    \n",
    "ax.set_ylim(-0.02, 1.1);\n",
    "yticks = [0, 0.2, 0.4, 0.6, 0.8, 1]\n",
    "ax.set_yticks(yticks);\n",
    "ax.set_yticklabels(yticks, fontsize=14);\n",
    "ax.set_ylabel('$k_{app}$ $/$ $k_{app}^{max}$', fontsize=18)\n",
    "\n",
    "xlabels = ['Batch\\nStandard', 'Batch\\nRich media', 'Batch\\nAnaerobic',\n",
    "           'Chemo.\\nC-lim\\nD=0.1 h$^{-1}$', 'Chemo.\\nC-lim\\nD=0.3 h$^{-1}$',\n",
    "           'Chemo.\\nN-lim\\nD=0.1 h$^{-1}$', 'Chemo.\\nN-lim\\nD=0.3 h$^{-1}$',\n",
    "           'Batch\\nGalactose', 'Batch\\nMaltose', 'Batch\\nTrehalose']\n",
    "xticks = range(0, len(xlabels))\n",
    "ax.set_xticks(xticks)\n",
    "ax.set_xticklabels(xlabels, fontsize=14);"
   ]
  },
  {
   "cell_type": "code",
   "execution_count": 36,
   "metadata": {
    "scrolled": true
   },
   "outputs": [
    {
     "name": "stdout",
     "output_type": "stream",
     "text": [
      "3DSPHR_r_FWD 0.17 1.0\n",
      "3HACD200_rm_FWD 0.12 1.0\n",
      "3HACD220_rm_FWD 0.12 1.0\n",
      "3HACD240_rm_FWD 0.12 1.0\n",
      "3HACD260_rm_FWD 0.12 1.0\n",
      "3OACR200_rm_FWD 0.24 1.0\n",
      "3OACR220_rm_FWD 0.24 1.0\n",
      "3OACR240_rm_FWD 0.24 1.0\n",
      "3OACR260_rm_FWD 0.24 1.0\n",
      "AASADy_c_FWD 0.38 1.0\n",
      "ACCOAC_c_FWD 0.73 1.0\n",
      "ACOADS160_rm_FWD 0.12 1.0\n",
      "ACOADS180_rm_FWD 0.12 1.0\n",
      "ACOTAi_m_FWD 0.41 1.0\n",
      "ADSL1r_c_FWD 0.71 1.0\n",
      "ADSL2i_c_FWD 0.71 1.0\n",
      "ADSS_c_FWD 0.55 1.0\n",
      "AFAT_c_FWD 0.36 1.0\n",
      "ALDD2y_c_FWD 0.64 1.0\n",
      "ANS_c_FWD 0.52 1.0\n",
      "ARGTRS_c_FWD 0.7 1.0\n",
      "ASNS1_c_FWD 0.77 1.0\n",
      "ASPCT_c_FWD 0.56 1.0\n",
      "ASPK_c_FWD 0.44 1.0\n",
      "ASPTRS_c_FWD 0.67 1.0\n",
      "ATPPRT_c_FWD 0.57 1.0\n",
      "BPNT_c_FWD 0.13 1.0\n",
      "C14STR_c_FWD 0.77 1.0\n",
      "C24STR_r_FWD 0.21 1.0\n",
      "CDPDAGS_rm_FWD 0.73 1.0\n",
      "COAt_c_m_FWD 0.85 1.0\n",
      "CTPS2_c_FWD 0.27 1.0\n",
      "CYSTRS_c_FWD 0.45 1.0\n",
      "DDPA_c_FWD 0.31 1.0\n",
      "DHORDfum_c_FWD 0.53 1.0\n",
      "DHORTS_c_REV 0.48 1.0\n",
      "DHQS_c_FWD 0.76 1.0\n",
      "DHQTi_c_FWD 0.76 1.0\n",
      "DPMVD_c_FWD 0.31 1.0\n",
      "FE2t_c_e_FWD 0.08 1.0\n",
      "FE2t_c_m_FWD 0.51 1.0\n",
      "GALUi_c_FWD 0.85 1.0\n",
      "GLNTRS_c_FWD 0.65 1.0\n",
      "GLU5K_c_FWD 0.43 1.0\n",
      "GLUPRT_c_FWD 0.85 0.96\n",
      "GLUt_c_m_FWD 0.01 1.0\n",
      "GLUTRS_c_FWD 0.57 1.0\n",
      "GND_c_FWD 0.54 1.0\n",
      "HISTP_c_FWD 0.17 1.0\n",
      "HISTRS_c_FWD 0.52 1.0\n",
      "HMGCOAR_c_FWD 0.88 1.0\n",
      "ICDHyi_m_FWD 0.54 1.0\n",
      "IG3PS_c_FWD 0.54 1.0\n",
      "IGPS_c_FWD 0.52 1.0\n",
      "ILETRS_c_FWD 0.49 1.0\n",
      "IPCS_g_FWD 0.39 1.0\n",
      "KARA1i_m_FWD 0.6 1.0\n",
      "KARA2i_m_FWD 0.6 1.0\n",
      "LEUTRS_c_FWD 0.48 1.0\n",
      "LNS14DMy_c_FWD 0.69 1.0\n",
      "LNSTLS_c_FWD 0.21 1.0\n",
      "MAN6PI_c_REV 0.75 1.0\n",
      "ME1_m_FWD 0.22 1.0\n",
      "ME2_m_FWD 0.22 1.0\n",
      "METB1_c_FWD 0.26 1.0\n",
      "METTRS_c_FWD 0.61 1.0\n",
      "MEVK1_c_FWD 0.16 1.0\n",
      "MTHFR3_c_FWD 0.25 1.0\n",
      "NACt_c_e_FWD 0.2 1.0\n",
      "NADHq6_m_FWD 0.3 1.0\n",
      "NAMNPP_c_FWD 0.49 1.0\n",
      "NNATi_c_FWD 0.76 1.0\n",
      "OMPDC_c_FWD 0.77 1.0\n",
      "ORNTACi_m_FWD 0.68 1.0\n",
      "ORNtpa_m_FWD 0.59 1.0\n",
      "PGK_c_FWD 0.78 1.0\n",
      "PGM_c_FWD 0.75 1.0\n",
      "PHETRS_c_FWD 0.26 0.93\n",
      "PItps_e_FWD 0.51 1.0\n",
      "PItps_m_FWD 0.34 0.9\n",
      "PMEVK_c_FWD 0.04 1.0\n",
      "PPNCL2_c_FWD 0.33 1.0\n",
      "PRAGSi_c_FWD 0.7 1.0\n",
      "PRAIS_c_FWD 0.7 1.0\n",
      "PRFGS_c_FWD 0.26 1.0\n",
      "PROTRS_c_FWD 0.57 1.0\n",
      "PRPPS_c_FWD 0.29 1.0\n",
      "PSCIT_c_FWD 0.76 1.0\n",
      "PSERT_c_FWD 0.28 0.96\n",
      "PSSA_rm_FWD 0.87 1.0\n",
      "PYK_c_FWD 0.66 1.0\n",
      "RNDR1_c_FWD 0.45 1.0\n",
      "RNDR2_c_FWD 0.45 1.0\n",
      "RNDR3_c_FWD 0.45 1.0\n",
      "SACCD1_c_FWD 0.38 1.0\n",
      "SACCD2_c_FWD 0.76 0.99\n",
      "SERTRS_c_FWD 0.55 1.0\n",
      "SHK3Di_c_FWD 0.76 1.0\n",
      "SHKK_c_FWD 0.76 1.0\n",
      "SLFAT_c_FWD 0.79 1.0\n",
      "SQLEy_r_FWD 0.46 1.0\n",
      "SUCDq6_m_FWD 0.44 1.0\n",
      "SUCOAS_m_FWD 0.51 0.98\n",
      "TKT1_c_FWD 0.3 1.0\n",
      "TKT2_c_FWD 0.3 1.0\n",
      "TRPTRS_c_FWD 0.76 1.0\n",
      "VALTRS_c_FWD 0.3 1.0\n"
     ]
    }
   ],
   "source": [
    "idx_check = df_ratio[(df_ratio.chemo_highN > 0.9) & (df_ratio.batch_std < 0.9)].index\n",
    "for i in idx_check:\n",
    "    print(i, round(df_ratio.batch_std[i], 2), round(df_ratio.chemo_highN[i],2))"
   ]
  },
  {
   "cell_type": "code",
   "execution_count": null,
   "metadata": {},
   "outputs": [],
   "source": []
  },
  {
   "cell_type": "code",
   "execution_count": 8,
   "metadata": {},
   "outputs": [],
   "source": [
    "df_group = pd.read_csv('./input/data_partition.txt', sep='\\t')\n",
    "df_group.index = df_group.data_group.to_list()"
   ]
  },
  {
   "cell_type": "code",
   "execution_count": null,
   "metadata": {},
   "outputs": [],
   "source": []
  },
  {
   "cell_type": "code",
   "execution_count": null,
   "metadata": {},
   "outputs": [],
   "source": []
  },
  {
   "cell_type": "code",
   "execution_count": null,
   "metadata": {},
   "outputs": [],
   "source": []
  }
 ],
 "metadata": {
  "kernelspec": {
   "display_name": "Python 3",
   "language": "python",
   "name": "python3"
  },
  "language_info": {
   "codemirror_mode": {
    "name": "ipython",
    "version": 3
   },
   "file_extension": ".py",
   "mimetype": "text/x-python",
   "name": "python",
   "nbconvert_exporter": "python",
   "pygments_lexer": "ipython3",
   "version": "3.7.9"
  }
 },
 "nbformat": 4,
 "nbformat_minor": 4
}
