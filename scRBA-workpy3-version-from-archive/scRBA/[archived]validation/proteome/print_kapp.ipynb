{
 "cells": [
  {
   "cell_type": "code",
   "execution_count": 1,
   "metadata": {},
   "outputs": [],
   "source": [
    "import pandas as pd"
   ]
  },
  {
   "cell_type": "code",
   "execution_count": 2,
   "metadata": {},
   "outputs": [],
   "source": [
    "df_kapp = pd.read_excel('../../parameterization/results/kapp_inPerSec.xlsx')\n",
    "df_kapp.index = df_kapp.id.to_list()"
   ]
  },
  {
   "cell_type": "code",
   "execution_count": 3,
   "metadata": {
    "scrolled": false
   },
   "outputs": [
    {
     "data": {
      "text/plain": [
       "id                                         PYRDC_c_FWD\n",
       "subsystem_group                     Central metabolism\n",
       "subsystem                          Pyruvate metabolism\n",
       "Lahtvee2017_chemoEtoh1                             NaN\n",
       "Lahtvee2017_chemoEtoh2                             NaN\n",
       "Lahtvee2017_chemoEtoh3                             NaN\n",
       "Lahtvee2017_chemoNaCl1                        3.646594\n",
       "Lahtvee2017_chemoNaCl2                        2.308179\n",
       "Lahtvee2017_chemoNaCl3                        2.205443\n",
       "Lahtvee2017_chemoRef                          4.312319\n",
       "Lahtvee2017_chemoT1                           3.398154\n",
       "Lahtvee2017_chemoT2                           3.247537\n",
       "Lahtvee2017_chemoT3                          66.074395\n",
       "Bjorkeroth2020_batchYNB                     612.055417\n",
       "Bjorkeroth2020_batchYNBAA                    554.75742\n",
       "Bjorkeroth2020_batchYNBAAanaero             642.044154\n",
       "Bjorkeroth2020_batchYNBanaero               824.295485\n",
       "Yu2020_chemoClim                            209.097744\n",
       "Yu2020_chemoNlimCN30                        819.392571\n",
       "Yu2020_chemoNlimCN50                        617.222164\n",
       "Yu2021_chemoClimGlnLowGlc_010                58.652617\n",
       "Yu2021_chemoClimGln_010                      28.581869\n",
       "Yu2021_chemoClimIle_010                      10.132124\n",
       "Yu2021_chemoClimNH4_010                       5.054321\n",
       "Yu2021_chemoClimPhe_010                       9.618763\n",
       "Yu2021_chemoNlimGln_010                        8.40113\n",
       "Yu2021_chemoNlimIle_010                      26.910582\n",
       "Yu2021_chemoNlimNH4_005                       8.105537\n",
       "Yu2021_chemoNlimNH4_010                       8.915797\n",
       "Yu2021_chemoNlimNH4_013                       21.06677\n",
       "Yu2021_chemoNlimNH4_018                      60.028938\n",
       "Yu2021_chemoNlimNH4_030                     228.384154\n",
       "Yu2021_chemoNlimNH4_035                     165.307922\n",
       "Yu2021_chemoNlimPhe_010                       6.730766\n",
       "Elsemman2022_batchGal                        22.122835\n",
       "Elsemman2022_batchGlc                        79.536475\n",
       "Elsemman2022_batchGlcCyHx1                   30.489658\n",
       "Elsemman2022_batchGlcCyHx2                   47.757961\n",
       "Elsemman2022_batchGlcCyHx3                   76.354953\n",
       "Elsemman2022_batchGlcCyHx4                  100.913337\n",
       "Elsemman2022_batchMalt                       66.904543\n",
       "Elsemman2022_batchTre                         2.320935\n",
       "Elsemman2022_chemoGlc020                      6.495764\n",
       "Elsemman2022_chemoGlc023                      5.376185\n",
       "Elsemman2022_chemoGlc027                      9.800745\n",
       "Elsemman2022_chemoGlc030                     40.289596\n",
       "Name: PYRDC_c_FWD, dtype: object"
      ]
     },
     "execution_count": 3,
     "metadata": {},
     "output_type": "execute_result"
    }
   ],
   "source": [
    "df_kapp.loc['PYRDC_c_FWD']"
   ]
  },
  {
   "cell_type": "code",
   "execution_count": null,
   "metadata": {},
   "outputs": [],
   "source": []
  }
 ],
 "metadata": {
  "kernelspec": {
   "display_name": "Python 3",
   "language": "python",
   "name": "python3"
  },
  "language_info": {
   "codemirror_mode": {
    "name": "ipython",
    "version": 3
   },
   "file_extension": ".py",
   "mimetype": "text/x-python",
   "name": "python",
   "nbconvert_exporter": "python",
   "pygments_lexer": "ipython3",
   "version": "3.7.9"
  }
 },
 "nbformat": 4,
 "nbformat_minor": 4
}
