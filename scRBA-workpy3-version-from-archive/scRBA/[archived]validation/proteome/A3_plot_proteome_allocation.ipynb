{
 "cells": [
  {
   "cell_type": "code",
   "execution_count": 1,
   "metadata": {},
   "outputs": [],
   "source": [
    "import pandas as pd\n",
    "import numpy as np\n",
    "\n",
    "import sys\n",
    "sys.path.append('../../pycore/')\n",
    "from simulate import RBA_result\n",
    "from utils import extract_details_from_rxnid\n",
    "\n",
    "import matplotlib.pyplot as plt\n",
    "import matplotlib.patches as mp\n",
    "import seaborn as sns\n",
    "import matplotlib.lines as mlines\n",
    "%matplotlib inline"
   ]
  },
  {
   "cell_type": "code",
   "execution_count": 2,
   "metadata": {},
   "outputs": [],
   "source": [
    "df_prot = pd.read_excel('../../build_GAMS_model/input/PROTEIN_stoich_curation_2021-09-28.xlsx')\n",
    "df_prot.index = df_prot.id.to_list()"
   ]
  },
  {
   "cell_type": "markdown",
   "metadata": {},
   "source": [
    "#### Simulation"
   ]
  },
  {
   "cell_type": "code",
   "execution_count": 3,
   "metadata": {},
   "outputs": [],
   "source": [
    "df_path_sim = pd.read_excel('./manual_pathways_assignments.xlsx')"
   ]
  },
  {
   "cell_type": "code",
   "execution_count": 4,
   "metadata": {},
   "outputs": [],
   "source": [
    "flistall = []\n",
    "\n",
    "flist = ['vglc_0_5', 'vglc_1_0', 'vglc_2_0', 'vglc_3_0', 'vglc_4_0',\n",
    "         'vglc_5_0', 'vglc_5_5']\n",
    "flistall += flist\n",
    "reslist = []\n",
    "for fdir in flist:\n",
    "    res = RBA_result(biom_id=None)\n",
    "    res.load_from_json('../output/clim/results_capacitycorrected/' + fdir + '/RBA_result.json')\n",
    "    reslist.append(res)\n",
    "    \n",
    "flist = ['vglc_5_6', 'vglc_5_7', 'vglc_6_0', 'vglc_7_0', 'vglc_8_0',\n",
    "         'vglc_9_0', 'vglc_10_0', 'vglc_11_0', 'vglc_12_0', 'vglc_13_0',\n",
    "         'vglc_14_0', 'vglc_15_0', 'vglc_16_0', 'vglc_17_0']\n",
    "flistall += flist\n",
    "for fdir in flist:\n",
    "    res = RBA_result(biom_id=None)\n",
    "    res.load_from_json('../output/batch/results_capacitycorrected/' + fdir + '/RBA_result.json')\n",
    "    reslist.append(res)"
   ]
  },
  {
   "cell_type": "code",
   "execution_count": 5,
   "metadata": {},
   "outputs": [],
   "source": [
    "N = len(reslist)\n",
    "for i in range(0,N):\n",
    "    res = reslist[i]\n",
    "    resname = flistall[i]\n",
    "    \n",
    "    for j in df_path_sim.index:\n",
    "        p = df_path_sim.protein[j]\n",
    "        if p in res.proteome_allocation.keys():\n",
    "            df_path_sim.loc[j, resname] = res.proteome_allocation[p]"
   ]
  },
  {
   "cell_type": "markdown",
   "metadata": {},
   "source": [
    "#### Experimental"
   ]
  },
  {
   "cell_type": "code",
   "execution_count": 6,
   "metadata": {},
   "outputs": [],
   "source": [
    "df_data_idx = pd.read_excel('./expmt_exflux_data.xlsx')"
   ]
  },
  {
   "cell_type": "code",
   "execution_count": 7,
   "metadata": {},
   "outputs": [],
   "source": [
    "df_path_expmt_raw = pd.read_excel('./manual_pathways_assignments.xlsx')"
   ]
  },
  {
   "cell_type": "code",
   "execution_count": 8,
   "metadata": {},
   "outputs": [],
   "source": [
    "expmt_data = dict()\n",
    "\n",
    "for i in df_data_idx.index:\n",
    "    # Load proteomics data\n",
    "    i_exp = df_data_idx.data_id[i]\n",
    "    df_data = pd.read_excel('../../parameterization/datasets/' + i_exp + \\\n",
    "                            '/' + i_exp + '.xlsx')\n",
    "    df_data.index = df_data.id.to_list()\n",
    "    \n",
    "    # Conversion g/gDW -> g/gProtein. Conversion factor ptot = gProtein/gDW\n",
    "    mu = df_data_idx.loc[i, 'GR_expmt (1/h)']\n",
    "    ptot = (36.94 + 34.22*mu) / 100\n",
    "    \n",
    "    # Write to working dataframe\n",
    "    df_path_expmt = df_path_expmt_raw.copy(deep=True)\n",
    "    for j in df_path_expmt.index:\n",
    "        p = df_path_expmt.protein[j]\n",
    "        if p in df_data.index:\n",
    "            gpgDW = df_data.loc[p, 'conc (g/gDW)']\n",
    "            df_path_expmt.loc[j, 'conc (g/gProtein)'] = gpgDW / ptot\n",
    "            \n",
    "    expmt_data[i_exp] = df_path_expmt"
   ]
  },
  {
   "cell_type": "markdown",
   "metadata": {},
   "source": [
    "#### Plot"
   ]
  },
  {
   "cell_type": "code",
   "execution_count": 9,
   "metadata": {},
   "outputs": [],
   "source": [
    "pw = 'Glycolysis/PPP'\n",
    "\n",
    "# Simulated\n",
    "df = df_path_sim[df_path_sim.pathway == pw]\n",
    "N = len(reslist)\n",
    "x_sim, y_sim = [],[]\n",
    "for i in range(0,N):\n",
    "    res = reslist[i]\n",
    "    x_sim.append(-res.metabolic_flux['EX_glc__D_e'])\n",
    "    \n",
    "    resname = flistall[i]\n",
    "    y_sim.append(df[resname].fillna(0).sum())\n",
    "\n",
    "# Experimental\n",
    "x_exp, y_exp = [],[]\n",
    "for i in df_data_idx.index:\n",
    "    x_exp.append(df_data_idx.loc[i, 'Glucose uptake rate (mmol/gDW/h)'])\n",
    "    \n",
    "    expname = df_data_idx.data_id[i]\n",
    "    df = expmt_data[expname]\n",
    "    df = df[df.pathway == pw]\n",
    "    y_exp.append(df['conc (g/gProtein)'].fillna(0).sum())"
   ]
  },
  {
   "cell_type": "code",
   "execution_count": 10,
   "metadata": {},
   "outputs": [
    {
     "data": {
      "image/png": "[encoded data removed]",
      "text/plain": [
       "<Figure size 432x360 with 1 Axes>"
      ]
     },
     "metadata": {
      "needs_background": "light"
     },
     "output_type": "display_data"
    }
   ],
   "source": [
    "fig,ax = plt.subplots(figsize=(6,5))\n",
    "\n",
    "# Plot model-predicted protein capacity usage\n",
    "N = len(x_sim)\n",
    "for i in range(0,N-1):\n",
    "    p1 = [x_sim[i], x_sim[i+1]]; p2 = [y_sim[i], y_sim[i+1]]\n",
    "    line = mlines.Line2D(p1, p2, color='k', linestyle='-')\n",
    "    ax.add_line(line);\n",
    "    \n",
    "# Plot experimental protein capacity usage\n",
    "ax.scatter(x_exp, y_exp)\n",
    "\n",
    "ax.set_ylim(0,0.25);\n",
    "ax.set_xlim(0,17);"
   ]
  },
  {
   "cell_type": "code",
   "execution_count": 11,
   "metadata": {},
   "outputs": [],
   "source": [
    "pw = 'Ribosome'\n",
    "\n",
    "# Simulated\n",
    "df = df_path_sim[df_path_sim.pathway == pw]\n",
    "N = len(reslist)\n",
    "x_sim, y_sim = [],[]\n",
    "for i in range(0,N):\n",
    "    res = reslist[i]\n",
    "    x_sim.append(-res.metabolic_flux['EX_glc__D_e'])\n",
    "    \n",
    "    resname = flistall[i]\n",
    "    y_sim.append(df[resname].fillna(0).sum())\n",
    "\n",
    "# Experimental\n",
    "x_exp, y_exp = [],[]\n",
    "for i in df_data_idx.index:\n",
    "    x_exp.append(df_data_idx.loc[i, 'Glucose uptake rate (mmol/gDW/h)'])\n",
    "    \n",
    "    expname = df_data_idx.data_id[i]\n",
    "    df = expmt_data[expname]\n",
    "    df = df[df.pathway == pw]\n",
    "    y_exp.append(df['conc (g/gProtein)'].fillna(0).sum())"
   ]
  },
  {
   "cell_type": "code",
   "execution_count": 12,
   "metadata": {},
   "outputs": [
    {
     "data": {
      "image/png": "[encoded data removed]",
      "text/plain": [
       "<Figure size 432x360 with 1 Axes>"
      ]
     },
     "metadata": {
      "needs_background": "light"
     },
     "output_type": "display_data"
    }
   ],
   "source": [
    "fig,ax = plt.subplots(figsize=(6,5))\n",
    "\n",
    "# Plot model-predicted protein capacity usage\n",
    "N = len(x_sim)\n",
    "for i in range(0,N-1):\n",
    "    p1 = [x_sim[i], x_sim[i+1]]; p2 = [y_sim[i], y_sim[i+1]]\n",
    "    line = mlines.Line2D(p1, p2, color='k', linestyle='-')\n",
    "    ax.add_line(line);\n",
    "    \n",
    "# Plot experimental protein capacity usage\n",
    "ax.scatter(x_exp, y_exp)\n",
    "\n",
    "ax.set_ylim(0,0.25);\n",
    "ax.set_xlim(0,17);"
   ]
  },
  {
   "cell_type": "code",
   "execution_count": 13,
   "metadata": {},
   "outputs": [],
   "source": [
    "pw = 'TCA/Energy'\n",
    "\n",
    "# Simulated\n",
    "df = df_path_sim[df_path_sim.pathway == pw]\n",
    "N = len(reslist)\n",
    "x_sim, y_sim = [],[]\n",
    "for i in range(0,N):\n",
    "    res = reslist[i]\n",
    "    x_sim.append(-res.metabolic_flux['EX_glc__D_e'])\n",
    "    \n",
    "    resname = flistall[i]\n",
    "    y_sim.append(df[resname].fillna(0).sum())\n",
    "\n",
    "# Experimental\n",
    "x_exp, y_exp = [],[]\n",
    "for i in df_data_idx.index:\n",
    "    x_exp.append(df_data_idx.loc[i, 'Glucose uptake rate (mmol/gDW/h)'])\n",
    "    \n",
    "    expname = df_data_idx.data_id[i]\n",
    "    df = expmt_data[expname]\n",
    "    df = df[df.pathway == pw]\n",
    "    y_exp.append(df['conc (g/gProtein)'].fillna(0).sum())"
   ]
  },
  {
   "cell_type": "code",
   "execution_count": 14,
   "metadata": {},
   "outputs": [
    {
     "data": {
      "image/png": "[encoded data removed]",
      "text/plain": [
       "<Figure size 432x360 with 1 Axes>"
      ]
     },
     "metadata": {
      "needs_background": "light"
     },
     "output_type": "display_data"
    }
   ],
   "source": [
    "fig,ax = plt.subplots(figsize=(6,5))\n",
    "\n",
    "# Plot model-predicted protein capacity usage\n",
    "N = len(x_sim)\n",
    "for i in range(0,N-1):\n",
    "    p1 = [x_sim[i], x_sim[i+1]]; p2 = [y_sim[i], y_sim[i+1]]\n",
    "    line = mlines.Line2D(p1, p2, color='k', linestyle='-')\n",
    "    ax.add_line(line);\n",
    "    \n",
    "# Plot experimental protein capacity usage\n",
    "ax.scatter(x_exp, y_exp)\n",
    "\n",
    "ax.set_ylim(0,0.25);\n",
    "ax.set_xlim(0,17);"
   ]
  },
  {
   "cell_type": "code",
   "execution_count": null,
   "metadata": {},
   "outputs": [],
   "source": []
  },
  {
   "cell_type": "code",
   "execution_count": null,
   "metadata": {},
   "outputs": [],
   "source": []
  },
  {
   "cell_type": "code",
   "execution_count": null,
   "metadata": {},
   "outputs": [],
   "source": []
  }
 ],
 "metadata": {
  "kernelspec": {
   "display_name": "Python 3",
   "language": "python",
   "name": "python3"
  },
  "language_info": {
   "codemirror_mode": {
    "name": "ipython",
    "version": 3
   },
   "file_extension": ".py",
   "mimetype": "text/x-python",
   "name": "python",
   "nbconvert_exporter": "python",
   "pygments_lexer": "ipython3",
   "version": "3.7.9"
  }
 },
 "nbformat": 4,
 "nbformat_minor": 4
}
