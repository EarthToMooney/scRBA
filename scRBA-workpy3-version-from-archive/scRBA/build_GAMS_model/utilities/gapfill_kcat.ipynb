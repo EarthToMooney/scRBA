{
 "cells": [
  {
   "cell_type": "code",
   "execution_count": 1,
   "metadata": {},
   "outputs": [],
   "source": [
    "import pandas as pd\n",
    "from collections import OrderedDict"
   ]
  },
  {
   "cell_type": "markdown",
   "metadata": {},
   "source": [
    "#### Rules\n",
    "- Add spontaneous tag to kapp (no assignment)\n",
    "- Add unknown tag to kapp\n",
    "- Transport reactions => Do not assign kcat"
   ]
  },
  {
   "cell_type": "code",
   "execution_count": 2,
   "metadata": {},
   "outputs": [],
   "source": [
    "df_kcat = pd.read_excel('../input/PARAMS_kapp_compiled.xlsx')\n",
    "df_kcat.index = df_kcat.id.to_list()"
   ]
  },
  {
   "cell_type": "code",
   "execution_count": 3,
   "metadata": {},
   "outputs": [],
   "source": [
    "# Spontaneous and unknown tag\n",
    "idx = [i for i in df_kcat.index if i[-6:] == '-SPONT']\n",
    "for i in idx:\n",
    "    df_kcat.loc[i, 'source'] = 'SPONT'\n",
    "    \n",
    "idx = [i for i in df_kcat.index if i[-8:] == '-UNKNOWN']\n",
    "for i in idx:\n",
    "    df_kcat.loc[i, 'source'] = 'UNKNOWN'"
   ]
  },
  {
   "cell_type": "code",
   "execution_count": 4,
   "metadata": {},
   "outputs": [],
   "source": [
    "# Transport reactions\n",
    "idx = df_kcat[df_kcat['source'].isnull()].index\n",
    "idx = [i for i in idx if 't' in i]\n",
    "for i in idx:\n",
    "    df_kcat.loc[i, 'source'] = 'TRANSPORT'\n",
    "    df_kcat.loc[i, 'kapp (1/s)'] = 1e9"
   ]
  },
  {
   "cell_type": "code",
   "execution_count": 5,
   "metadata": {},
   "outputs": [],
   "source": [
    "idx = df_kcat[df_kcat['source'].isnull()].index"
   ]
  },
  {
   "cell_type": "code",
   "execution_count": 6,
   "metadata": {
    "collapsed": true
   },
   "outputs": [
    {
     "name": "stdout",
     "output_type": "stream",
     "text": [
      "RXN-3HXPHBH_c_FWD-YDR376W\n",
      "RXN-3HXPHBH_c_FWD-YPL252C\n",
      "RXN-AOXS_c_FWD-YAR069W-A\n",
      "RXN-AOXS_c_FWD-YHR214W-F\n",
      "RXN-ACOATA_m_FWD-YKL192C\n",
      "RXN-ACOATA_m_REV-YKL192C\n",
      "RXN-ACP1_e_FWD-YHR215W\n",
      "RXN-TREH_v_FWD-YBR001C\n",
      "RXN-CBL_c_FWD-YFR055W\n",
      "RXN-SBTD_D2_c_FWD-YDL246C\n",
      "RXN-FBP2_c_FWD-YLR345W\n",
      "RXN-FRD_m_FWD-YJR051W\n",
      "RXN-GLUN_c_FWD-YFL060C\n",
      "RXN-GLUN_c_FWD-YNL334C\n",
      "RXN-HEX7_c_FWD-YLR446W\n",
      "RXN-HEX4_c_FWD-YLR446W\n",
      "RXN-TYRNFT_c_FWD-YDR403W\n",
      "RXN-ANNAT_c_FWD-YCL047C\n",
      "RXN-NTP3_c_FWD-YAL035W\n",
      "RXN-URIK1_c_FWD-YDR020C\n",
      "RXN-URIK2_c_FWD-YDR020C\n",
      "RXN-FACOAL220_l_FWD-YBR041W\n",
      "RXN-FACOAL240_l_FWD-YBR041W\n",
      "RXN-FACOAL260_l_FWD-YBR041W\n",
      "RXN-AHMMPS4_c_FWD-YFL058W\n",
      "RXN-HCO3E_c_FWD-YNL036W\n",
      "RXN-HCO3E_c_REV-YNL036W\n",
      "RXN-SPRMAT_c_FWD-YDR071C\n",
      "RXN-PYDXK_c_FWD-YNR027W\n",
      "RXN-THMP_c_FWD-YDL024C\n",
      "RXN-CYCCL_m_FWD-YKL087C\n",
      "RXN-CYCCL_m_REV-YKL087C\n",
      "RXN-CYCCL_m_FWD-YAL039C\n",
      "RXN-CYCCL_m_REV-YAL039C\n",
      "RXN-PADPRGH_c_FWD-YMR087W\n",
      "RXN-PADPRGH_c_REV-YMR087W\n",
      "RXN-ADPRIB1P_c_FWD-YBR046C\n",
      "RXN-ADPRIB1P_c_REV-YBR046C\n",
      "RXN-GTHCT_c_FWD-YER163C\n",
      "RXN-5OPROAH_c_FWD-YKL215C\n",
      "RXN-FMNH_c_FWD-YDL024C\n",
      "RXN-FMNH_c_REV-YDL024C\n",
      "RXN-GLCNK_c_FWD-YDR248C\n",
      "RXN-DNTPPY1_c_FWD-YJR069C\n",
      "RXN-DNTPPY2_c_FWD-YJR069C\n",
      "RXN-DNTPPY3_c_FWD-YJR069C\n",
      "RXN-APOOCT_m_FWD-YLR239C\n",
      "RXN-APOOCT_m_REV-YLR239C\n",
      "RXN-APOLIPT_m_FWD-YLR239C\n",
      "RXN-APOLIPT_m_REV-YLR239C\n",
      "RXN-4ABTORy_c_FWD-YMR110C\n",
      "RXN-4ABTORy_c_REV-YMR110C\n",
      "RXN-4ABTORx_c_FWD-YMR110C\n",
      "RXN-r_4323_m_FWD-YOR196C\n",
      "RXN-r_4324_m_FWD-YOR196C\n",
      "RXN-TAGL_l_FWD-YCR068W\n",
      "RXN-PEPSM1_c_FWD-YBL091C\n",
      "RXN-PEPSM1_c_FWD-YLR244C\n",
      "RXN-Q6MT1_m_FWD-COQCPLX\n",
      "RXN-Q6MO_m_FWD-COQCPLX\n",
      "RXN-3HPH5MBDC_m_FWD-YDR539W\n",
      "RXN-FLPT_c_FWD-YDR538W\n",
      "RXN-ATPS_m_FWD-ATPSCPLX\n",
      "RXN-ATPASEP2e_c_FWD-YPL036W\n",
      "RXN-DOLPMMT_r_FWD-PMT13\n",
      "RXN-FECOOR_m_FWD-FECOORCPLX2\n",
      "RXN-PRPPS_c_FWD-PRS12\n",
      "RXN-PRPPS_c_FWD-PRS14\n",
      "RXN-Q6OR_m_FWD-COQCPLX\n",
      "RXN-3DH5HPBMT_m_FWD-COQCPLX\n",
      "RXN-SERAT_c_FWD-NATACPLX\n",
      "RXN-ACTNOR_c_FWD-YAL061W_c\n",
      "RXN-ACTNOR_c_REV-YAL061W_c\n",
      "RXN-ACTNOR_n_FWD-YAL061W_n\n",
      "RXN-ACTNOR_n_REV-YAL061W_n\n",
      "RXN-ALG14RXN_r_FWD-ALG1314\n",
      "RXN-ALG14RXN_r_REV-ALG1314\n",
      "RXN-GTHH_c_FWD-DUG23\n",
      "RXN-ETFOXRq6_m_FWD-CIR1AIM45\n",
      "RXN-PYDX5PS_c_FWD-SNZ1SNO1\n",
      "RXN-PYDX5PS_c_FWD-SNZ2SNO1\n",
      "RXN-PYDX5PS_c_FWD-SNZ3SNO1\n"
     ]
    }
   ],
   "source": [
    "for i in idx: print(i)"
   ]
  },
  {
   "cell_type": "code",
   "execution_count": 68,
   "metadata": {},
   "outputs": [
    {
     "data": {
      "text/html": [
       "<div>\n",
       "<style scoped>\n",
       "    .dataframe tbody tr th:only-of-type {\n",
       "        vertical-align: middle;\n",
       "    }\n",
       "\n",
       "    .dataframe tbody tr th {\n",
       "        vertical-align: top;\n",
       "    }\n",
       "\n",
       "    .dataframe thead th {\n",
       "        text-align: right;\n",
       "    }\n",
       "</style>\n",
       "<table border=\"1\" class=\"dataframe\">\n",
       "  <thead>\n",
       "    <tr style=\"text-align: right;\">\n",
       "      <th></th>\n",
       "      <th>id</th>\n",
       "      <th>kapp (1/s)</th>\n",
       "      <th>source</th>\n",
       "    </tr>\n",
       "  </thead>\n",
       "  <tbody>\n",
       "    <tr>\n",
       "      <th>RXN-PYDX5PS_c_FWD-SNZ1SNO1</th>\n",
       "      <td>RXN-PYDX5PS_c_FWD-SNZ1SNO1</td>\n",
       "      <td>NaN</td>\n",
       "      <td>NaN</td>\n",
       "    </tr>\n",
       "    <tr>\n",
       "      <th>RXN-PYDX5PS_c_FWD-SNZ2SNO1</th>\n",
       "      <td>RXN-PYDX5PS_c_FWD-SNZ2SNO1</td>\n",
       "      <td>NaN</td>\n",
       "      <td>NaN</td>\n",
       "    </tr>\n",
       "    <tr>\n",
       "      <th>RXN-PYDX5PS_c_FWD-SNZ3SNO1</th>\n",
       "      <td>RXN-PYDX5PS_c_FWD-SNZ3SNO1</td>\n",
       "      <td>NaN</td>\n",
       "      <td>NaN</td>\n",
       "    </tr>\n",
       "  </tbody>\n",
       "</table>\n",
       "</div>"
      ],
      "text/plain": [
       "                                                    id  kapp (1/s) source\n",
       "RXN-PYDX5PS_c_FWD-SNZ1SNO1  RXN-PYDX5PS_c_FWD-SNZ1SNO1         NaN    NaN\n",
       "RXN-PYDX5PS_c_FWD-SNZ2SNO1  RXN-PYDX5PS_c_FWD-SNZ2SNO1         NaN    NaN\n",
       "RXN-PYDX5PS_c_FWD-SNZ3SNO1  RXN-PYDX5PS_c_FWD-SNZ3SNO1         NaN    NaN"
      ]
     },
     "execution_count": 68,
     "metadata": {},
     "output_type": "execute_result"
    }
   ],
   "source": [
    "df_kcat[df_kcat.id.str.contains('PYDX5PS_')]"
   ]
  },
  {
   "cell_type": "code",
   "execution_count": 21,
   "metadata": {},
   "outputs": [
    {
     "data": {
      "text/html": [
       "<div>\n",
       "<style scoped>\n",
       "    .dataframe tbody tr th:only-of-type {\n",
       "        vertical-align: middle;\n",
       "    }\n",
       "\n",
       "    .dataframe tbody tr th {\n",
       "        vertical-align: top;\n",
       "    }\n",
       "\n",
       "    .dataframe thead th {\n",
       "        text-align: right;\n",
       "    }\n",
       "</style>\n",
       "<table border=\"1\" class=\"dataframe\">\n",
       "  <thead>\n",
       "    <tr style=\"text-align: right;\">\n",
       "      <th></th>\n",
       "      <th>id</th>\n",
       "      <th>kapp (1/s)</th>\n",
       "      <th>source</th>\n",
       "    </tr>\n",
       "  </thead>\n",
       "  <tbody>\n",
       "    <tr>\n",
       "      <th>RXN-NTP3_c_FWD-YAL035W</th>\n",
       "      <td>RXN-NTP3_c_FWD-YAL035W</td>\n",
       "      <td>NaN</td>\n",
       "      <td>NaN</td>\n",
       "    </tr>\n",
       "  </tbody>\n",
       "</table>\n",
       "</div>"
      ],
      "text/plain": [
       "                                            id  kapp (1/s) source\n",
       "RXN-NTP3_c_FWD-YAL035W  RXN-NTP3_c_FWD-YAL035W         NaN    NaN"
      ]
     },
     "execution_count": 21,
     "metadata": {},
     "output_type": "execute_result"
    }
   ],
   "source": [
    "df_kcat[df_kcat.id.str.contains('YAL035W')]"
   ]
  },
  {
   "cell_type": "code",
   "execution_count": null,
   "metadata": {},
   "outputs": [],
   "source": []
  }
 ],
 "metadata": {
  "kernelspec": {
   "display_name": "Python 3",
   "language": "python",
   "name": "python3"
  },
  "language_info": {
   "codemirror_mode": {
    "name": "ipython",
    "version": 3
   },
   "file_extension": ".py",
   "mimetype": "text/x-python",
   "name": "python",
   "nbconvert_exporter": "python",
   "pygments_lexer": "ipython3",
   "version": "3.7.9"
  }
 },
 "nbformat": 4,
 "nbformat_minor": 4
}
