{
 "cells": [
  {
   "cell_type": "code",
   "execution_count": 1,
   "metadata": {},
   "outputs": [],
   "source": [
    "import pandas as pd\n",
    "from collections import OrderedDict"
   ]
  },
  {
   "cell_type": "markdown",
   "metadata": {},
   "source": [
    "#### Load kcat sources"
   ]
  },
  {
   "cell_type": "code",
   "execution_count": 2,
   "metadata": {},
   "outputs": [],
   "source": [
    "df_kcat0 = pd.read_excel('../input/precursor_files/PARAMS_kapp_manual_curations.xlsx')\n",
    "df_kcat1 = pd.read_excel('../input/precursor_files/PARAMS_kapp_Chen2021_kcat_invivo.xlsx')\n",
    "df_kcat2 = pd.read_excel('../input/precursor_files/PARAMS_kapp_Chen2021_kcat_invitro.xlsx', sheet_name='Literature')\n",
    "df_kcat3 = pd.read_excel('../input/precursor_files/PARAMS_kapp_Chen2021_kcat_invitro.xlsx', sheet_name='SA')\n",
    "df_kcat4 = pd.read_excel('../input/precursor_files/PARAMS_kapp_Chen2021_kcat_invitro.xlsx', sheet_name='SABIORK20210203')\n",
    "df_kcat5 = pd.read_excel('../input/precursor_files/PARAMS_kapp_Chen2021_kcat_invitro.xlsx', sheet_name='BRENDA20210203')\n",
    "df_kcat6 = pd.read_excel('../input/precursor_files/PARAMS_kapp_GECKO_kcat_invitro.xlsx')"
   ]
  },
  {
   "cell_type": "code",
   "execution_count": 3,
   "metadata": {},
   "outputs": [],
   "source": [
    "df_kcat_dict = OrderedDict({'manual_curation': df_kcat0,\n",
    "                            'Chen2021_invivo': df_kcat1, 'Chen2021_invitro_literature': df_kcat2,\n",
    "                            'Chen2021_invitro_SA': df_kcat3, 'Chen2021_invitro_SABIORK': df_kcat4,\n",
    "                            'Chen2021_invitro_BRENDA': df_kcat5, 'Oftadeh2021_invitro_GECKO': df_kcat6})"
   ]
  },
  {
   "cell_type": "markdown",
   "metadata": {},
   "source": [
    "#### Load enzyme dataframe"
   ]
  },
  {
   "cell_type": "code",
   "execution_count": 4,
   "metadata": {},
   "outputs": [],
   "source": [
    "df_enz = pd.read_excel('../input/ENZYME_stoich_curation.xlsx')\n",
    "df_enz.index = df_enz.id.to_list()"
   ]
  },
  {
   "cell_type": "code",
   "execution_count": 5,
   "metadata": {},
   "outputs": [],
   "source": [
    "cols = ['id', 'kapp (1/s)', 'source']\n",
    "df_kapp = pd.DataFrame(index=df_enz.id.to_list(), columns=cols)\n",
    "df_kapp['id'] = df_enz.id\n",
    "\n",
    "for tag,df_kcat in df_kcat_dict.items():\n",
    "    if tag == 'Chen2021_invivo':\n",
    "        continue\n",
    "    \n",
    "    for i in df_kcat.index:\n",
    "        rxn_match = df_kcat.rxn_match[i]\n",
    "        if rxn_match == 'skip':\n",
    "            continue\n",
    "            \n",
    "        rxn_match = rxn_match.split(',')\n",
    "        for rxn in rxn_match:\n",
    "            if pd.isnull(df_kapp.loc[rxn, 'kapp (1/s)']) == False:\n",
    "                continue\n",
    "            \n",
    "            df_kapp.loc[rxn, 'kapp (1/s)'] = df_kcat.loc[i, 'kcat (1/s)']\n",
    "            df_kapp.loc[rxn, 'source'] = tag"
   ]
  },
  {
   "cell_type": "code",
   "execution_count": 6,
   "metadata": {},
   "outputs": [
    {
     "name": "stdout",
     "output_type": "stream",
     "text": [
      "kapp assigned: 1445\n",
      "kapp unassigned 1820\n"
     ]
    }
   ],
   "source": [
    "print('kapp assigned:', df_kapp[df_kapp['kapp (1/s)'].isnull() == False].shape[0])\n",
    "print('kapp unassigned', df_kapp[df_kapp['kapp (1/s)'].isnull()].shape[0])"
   ]
  },
  {
   "cell_type": "code",
   "execution_count": 7,
   "metadata": {},
   "outputs": [],
   "source": [
    "df_kapp.to_excel('../input/PARAMS_kapp_compiled_frompy.xlsx', index=False)"
   ]
  },
  {
   "cell_type": "markdown",
   "metadata": {},
   "source": [
    "#### Processing the rest of entries\n",
    "- Add spontaneous tag to kapp (no assignment)\n",
    "- Add unknown tag to kapp (no assignment)\n",
    "- Transport reactions => Assign an arbitrarily large kcat, 1e9 1/s\n",
    "- For enzyme-associated reactions without kcat assignment, assign median kcat = 70.9 1/s"
   ]
  },
  {
   "cell_type": "code",
   "execution_count": 8,
   "metadata": {},
   "outputs": [],
   "source": [
    "df_kapp.index = df_kapp.id.to_list()"
   ]
  },
  {
   "cell_type": "code",
   "execution_count": 9,
   "metadata": {},
   "outputs": [],
   "source": [
    "# Spontaneous and unknown tag\n",
    "idx = [i for i in df_kapp.index if i[-6:] == '-SPONT']\n",
    "for i in idx:\n",
    "    df_kapp.loc[i, 'source'] = 'SPONT'\n",
    "    \n",
    "idx = [i for i in df_kapp.index if i[-8:] == '-UNKNOWN']\n",
    "for i in idx:\n",
    "    df_kapp.loc[i, 'source'] = 'UNKNOWN'"
   ]
  },
  {
   "cell_type": "code",
   "execution_count": 10,
   "metadata": {},
   "outputs": [],
   "source": [
    "# Transport reactions\n",
    "idx = df_kapp.index\n",
    "idx = [i for i in idx if 't' in i]\n",
    "for i in idx:\n",
    "    df_kapp.loc[i, 'source'] = 'TRANSPORT'\n",
    "    df_kapp.loc[i, 'kapp (1/s)'] = 1e9"
   ]
  },
  {
   "cell_type": "code",
   "execution_count": 11,
   "metadata": {},
   "outputs": [],
   "source": [
    "idx = df_kapp[df_kapp['source'].isnull()].index\n",
    "for i in idx:\n",
    "    df_kapp.loc[i, 'source'] = 'median_kcat'\n",
    "    df_kapp.loc[i, 'kapp (1/s)'] = 70.9"
   ]
  },
  {
   "cell_type": "code",
   "execution_count": 12,
   "metadata": {},
   "outputs": [],
   "source": [
    "df_kapp.to_excel('../input/PARAMS_kapp_compiled_frompy.xlsx', index=False)"
   ]
  },
  {
   "cell_type": "code",
   "execution_count": null,
   "metadata": {},
   "outputs": [],
   "source": []
  }
 ],
 "metadata": {
  "kernelspec": {
   "display_name": "Python 3",
   "language": "python",
   "name": "python3"
  },
  "language_info": {
   "codemirror_mode": {
    "name": "ipython",
    "version": 3
   },
   "file_extension": ".py",
   "mimetype": "text/x-python",
   "name": "python",
   "nbconvert_exporter": "python",
   "pygments_lexer": "ipython3",
   "version": "3.7.9"
  }
 },
 "nbformat": 4,
 "nbformat_minor": 4
}
