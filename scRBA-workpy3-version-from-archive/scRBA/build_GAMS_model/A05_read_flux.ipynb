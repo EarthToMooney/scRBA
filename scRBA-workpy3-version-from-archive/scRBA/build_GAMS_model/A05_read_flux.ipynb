{
 "cells": [
  {
   "cell_type": "code",
   "execution_count": 6,
   "metadata": {},
   "outputs": [],
   "source": [
    "import pandas as pd"
   ]
  },
  {
   "cell_type": "code",
   "execution_count": 7,
   "metadata": {},
   "outputs": [],
   "source": [
    "df_kapp = pd.read_excel('./input/PARAMS_kapp_compiled.xlsx')\n",
    "df_kapp.index = df_kapp.id.to_list()\n",
    "\n",
    "df_enz = pd.read_excel('./input/ENZYME_stoich_curation.xlsx')\n",
    "df_enz.index = df_enz.id.to_list()"
   ]
  },
  {
   "cell_type": "code",
   "execution_count": 8,
   "metadata": {},
   "outputs": [],
   "source": [
    "with open('./flux.txt') as f:\n",
    "    x = f.read().split('\\n')\n",
    "\n",
    "x = [i for i in x if i != '']\n",
    "df_enzFlux = pd.DataFrame(columns=['id', 'flux'])\n",
    "for i in x:\n",
    "    r,_,v = i.split('\\t')\n",
    "    df_enzFlux.loc[r, 'id'] = r\n",
    "    df_enzFlux.loc[r, 'flux'] = float(v)"
   ]
  },
  {
   "cell_type": "code",
   "execution_count": 9,
   "metadata": {},
   "outputs": [],
   "source": [
    "for i in df_kapp.index:\n",
    "    enz_id = 'ENZSYN-' + i[4:]\n",
    "    if enz_id in df_enzFlux.index:\n",
    "        v = df_enzFlux.flux[enz_id]\n",
    "        mw = df_enz.loc[i, 'MW (g/mmol)']\n",
    "        df_kapp.loc[i, 'enz_conc (g/gDW)'] = v * mw / 0.25"
   ]
  },
  {
   "cell_type": "code",
   "execution_count": 10,
   "metadata": {},
   "outputs": [],
   "source": [
    "df_kapp.to_excel('./df_kapp_flux.xlsx', index=None)"
   ]
  },
  {
   "cell_type": "code",
   "execution_count": null,
   "metadata": {},
   "outputs": [],
   "source": []
  },
  {
   "cell_type": "code",
   "execution_count": null,
   "metadata": {},
   "outputs": [],
   "source": []
  },
  {
   "cell_type": "code",
   "execution_count": null,
   "metadata": {},
   "outputs": [],
   "source": []
  }
 ],
 "metadata": {
  "kernelspec": {
   "display_name": "Python 3",
   "language": "python",
   "name": "python3"
  },
  "language_info": {
   "codemirror_mode": {
    "name": "ipython",
    "version": 3
   },
   "file_extension": ".py",
   "mimetype": "text/x-python",
   "name": "python",
   "nbconvert_exporter": "python",
   "pygments_lexer": "ipython3",
   "version": "3.7.9"
  }
 },
 "nbformat": 4,
 "nbformat_minor": 4
}
