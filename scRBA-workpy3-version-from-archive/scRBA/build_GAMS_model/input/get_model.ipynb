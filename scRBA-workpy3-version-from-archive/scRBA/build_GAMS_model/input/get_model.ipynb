{
 "cells": [
  {
   "cell_type": "code",
   "execution_count": 1,
   "metadata": {},
   "outputs": [],
   "source": [
    "import cobra\n",
    "import pandas as pd\n",
    "from collections import OrderedDict\n",
    "\n",
    "import sys\n",
    "sys.path.append('/home/hvdinh16/Workspace/workpy3/common/')\n",
    "from custom_functions import *"
   ]
  },
  {
   "cell_type": "code",
   "execution_count": 2,
   "metadata": {
    "collapsed": true
   },
   "outputs": [
    {
     "name": "stdout",
     "output_type": "stream",
     "text": [
      "Using license file /home/hvdinh16/Workspace/Softwares/gurobi910/linux64/gurobi.lic\n",
      "Academic license - for non-commercial use only - expires 2022-08-08\n"
     ]
    },
    {
     "name": "stderr",
     "output_type": "stream",
     "text": [
      "/home/hvdinh16/Workspace/workpy3/lib/python3.7/site-packages/cobra/core/model.py:757: UserWarning: r_4460 not in yeastGEM_hvd\n",
      "  warn(\"%s not in %s\" % (reaction, self))\n",
      "/home/hvdinh16/Workspace/workpy3/lib/python3.7/site-packages/cobra/core/model.py:757: UserWarning: EX_ppi_e not in yeastGEM_hvd\n",
      "  warn(\"%s not in %s\" % (reaction, self))\n",
      "/home/hvdinh16/Workspace/workpy3/lib/python3.7/site-packages/cobra/core/model.py:757: UserWarning: r_4152 not in yeastGEM_hvd\n",
      "  warn(\"%s not in %s\" % (reaction, self))\n",
      "/home/hvdinh16/Workspace/workpy3/lib/python3.7/site-packages/cobra/core/model.py:757: UserWarning: r_4153 not in yeastGEM_hvd\n",
      "  warn(\"%s not in %s\" % (reaction, self))\n",
      "/home/hvdinh16/Workspace/workpy3/lib/python3.7/site-packages/cobra/core/model.py:757: UserWarning: r_4154 not in yeastGEM_hvd\n",
      "  warn(\"%s not in %s\" % (reaction, self))\n",
      "/home/hvdinh16/Workspace/workpy3/lib/python3.7/site-packages/cobra/core/model.py:757: UserWarning: r_4156 not in yeastGEM_hvd\n",
      "  warn(\"%s not in %s\" % (reaction, self))\n",
      "/home/hvdinh16/Workspace/workpy3/lib/python3.7/site-packages/cobra/core/model.py:757: UserWarning: r_4157 not in yeastGEM_hvd\n",
      "  warn(\"%s not in %s\" % (reaction, self))\n",
      "/home/hvdinh16/Workspace/workpy3/lib/python3.7/site-packages/cobra/core/model.py:757: UserWarning: r_4158 not in yeastGEM_hvd\n",
      "  warn(\"%s not in %s\" % (reaction, self))\n",
      "/home/hvdinh16/Workspace/workpy3/lib/python3.7/site-packages/cobra/core/model.py:757: UserWarning: r_4159 not in yeastGEM_hvd\n",
      "  warn(\"%s not in %s\" % (reaction, self))\n",
      "/home/hvdinh16/Workspace/workpy3/lib/python3.7/site-packages/cobra/core/model.py:757: UserWarning: GCC2a_m not in yeastGEM_hvd\n",
      "  warn(\"%s not in %s\" % (reaction, self))\n",
      "/home/hvdinh16/Workspace/workpy3/lib/python3.7/site-packages/cobra/core/model.py:757: UserWarning: GCC2c_m not in yeastGEM_hvd\n",
      "  warn(\"%s not in %s\" % (reaction, self))\n",
      "/home/hvdinh16/Workspace/workpy3/lib/python3.7/site-packages/cobra/core/model.py:757: UserWarning: GCCa_m not in yeastGEM_hvd\n",
      "  warn(\"%s not in %s\" % (reaction, self))\n",
      "/home/hvdinh16/Workspace/workpy3/lib/python3.7/site-packages/cobra/core/model.py:757: UserWarning: GCCbi_m not in yeastGEM_hvd\n",
      "  warn(\"%s not in %s\" % (reaction, self))\n",
      "/home/hvdinh16/Workspace/workpy3/lib/python3.7/site-packages/cobra/core/model.py:757: UserWarning: GCCc_m not in yeastGEM_hvd\n",
      "  warn(\"%s not in %s\" % (reaction, self))\n",
      "/home/hvdinh16/Workspace/workpy3/lib/python3.7/site-packages/cobra/core/model.py:757: UserWarning: GCC2bi_m not in yeastGEM_hvd\n",
      "  warn(\"%s not in %s\" % (reaction, self))\n",
      "/home/hvdinh16/Workspace/workpy3/lib/python3.7/site-packages/cobra/core/model.py:757: UserWarning: PFK_3_c not in yeastGEM_hvd\n",
      "  warn(\"%s not in %s\" % (reaction, self))\n",
      "/home/hvdinh16/Workspace/workpy3/lib/python3.7/site-packages/cobra/core/model.py:757: UserWarning: ACS_m not in yeastGEM_hvd\n",
      "  warn(\"%s not in %s\" % (reaction, self))\n"
     ]
    }
   ],
   "source": [
    "model_sc = cobra.io.load_json_model('../../../SCProjects/SCModels/yeast8/model/y834_hvd_v6.json')\n",
    "model = cobra.io.load_json_model('../../../SCProjects/SCModels/yeast8/model/y834_hvd_v6.json')\n",
    "model.solver = 'cplex'\n",
    "\n",
    "df_cmds = pd.read_csv('./precursor_files/GSM_adjustments.txt', sep='\\t', comment='#')\n",
    "model = execute_command(model, model_sc, df_cmds, verbose=False)"
   ]
  },
  {
   "cell_type": "code",
   "execution_count": 3,
   "metadata": {},
   "outputs": [],
   "source": [
    "cobra.io.save_json_model(model, './GSM_y834_hvd_v6_rba.json')"
   ]
  },
  {
   "cell_type": "code",
   "execution_count": 4,
   "metadata": {
    "scrolled": true
   },
   "outputs": [
    {
     "data": {
      "text/plain": [
       "1895"
      ]
     },
     "execution_count": 4,
     "metadata": {},
     "output_type": "execute_result"
    }
   ],
   "source": [
    "len(model.reactions)"
   ]
  },
  {
   "cell_type": "code",
   "execution_count": 5,
   "metadata": {
    "collapsed": true
   },
   "outputs": [
    {
     "ename": "NameError",
     "evalue": "name 'm4' is not defined",
     "output_type": "error",
     "traceback": [
      "\u001b[0;31m---------------------------------------------------------------------------\u001b[0m",
      "\u001b[0;31mNameError\u001b[0m                                 Traceback (most recent call last)",
      "\u001b[0;32m<ipython-input-5-ce7ace198557>\u001b[0m in \u001b[0;36m<module>\u001b[0;34m\u001b[0m\n\u001b[1;32m      1\u001b[0m \u001b[0mm6rxns\u001b[0m \u001b[0;34m=\u001b[0m \u001b[0mset\u001b[0m\u001b[0;34m(\u001b[0m\u001b[0;34m[\u001b[0m\u001b[0mrxn\u001b[0m\u001b[0;34m.\u001b[0m\u001b[0mid\u001b[0m \u001b[0;32mfor\u001b[0m \u001b[0mrxn\u001b[0m \u001b[0;32min\u001b[0m \u001b[0mmodel\u001b[0m\u001b[0;34m.\u001b[0m\u001b[0mreactions\u001b[0m\u001b[0;34m]\u001b[0m\u001b[0;34m)\u001b[0m\u001b[0;34m\u001b[0m\u001b[0;34m\u001b[0m\u001b[0m\n\u001b[0;32m----> 2\u001b[0;31m \u001b[0mm4rxns\u001b[0m \u001b[0;34m=\u001b[0m \u001b[0mset\u001b[0m\u001b[0;34m(\u001b[0m\u001b[0;34m[\u001b[0m\u001b[0mrxn\u001b[0m\u001b[0;34m.\u001b[0m\u001b[0mid\u001b[0m \u001b[0;32mfor\u001b[0m \u001b[0mrxn\u001b[0m \u001b[0;32min\u001b[0m \u001b[0mm4\u001b[0m\u001b[0;34m.\u001b[0m\u001b[0mreactions\u001b[0m\u001b[0;34m]\u001b[0m\u001b[0;34m)\u001b[0m\u001b[0;34m\u001b[0m\u001b[0;34m\u001b[0m\u001b[0m\n\u001b[0m",
      "\u001b[0;31mNameError\u001b[0m: name 'm4' is not defined"
     ]
    }
   ],
   "source": [
    "m6rxns = set([rxn.id for rxn in model.reactions])\n",
    "m4rxns = set([rxn.id for rxn in m4.reactions])"
   ]
  },
  {
   "cell_type": "code",
   "execution_count": null,
   "metadata": {},
   "outputs": [],
   "source": [
    "m6rxns - m4rxns"
   ]
  },
  {
   "cell_type": "code",
   "execution_count": null,
   "metadata": {},
   "outputs": [],
   "source": [
    "m4rxns - m6rxns"
   ]
  },
  {
   "cell_type": "code",
   "execution_count": 14,
   "metadata": {},
   "outputs": [
    {
     "data": {
      "text/html": [
       "\n",
       "        <table>\n",
       "            <tr>\n",
       "                <td><strong>Reaction identifier</strong></td><td>LLFC2O_c</td>\n",
       "            </tr><tr>\n",
       "                <td><strong>Name</strong></td><td>(S)-lactate:ferricytochrome-c 2-oxidoreductase</td>\n",
       "            </tr><tr>\n",
       "                <td><strong>Memory address</strong></td>\n",
       "                <td>0x07f7a80516790</td>\n",
       "            </tr><tr>\n",
       "                <td><strong>Stoichiometry</strong></td>\n",
       "                <td>\n",
       "                    <p style='text-align:right'>2.0 ficytC_m + lac__L_c --> 2.0 focytC_m + 2.0 h_c + pyr_c</p>\n",
       "                    <p style='text-align:right'>2.0 ferricytochrome c [mitochondrion] + (S)-lactate [cytoplasm] --> 2.0 ferrocytochrome c [mitochondrion] + 2.0 H+ [cytoplasm] + pyruvate [cytoplasm]</p>\n",
       "                </td>\n",
       "            </tr><tr>\n",
       "                <td><strong>GPR</strong></td><td>(YEL039C and YML054C) or (YJR048W and YML054C)</td>\n",
       "            </tr><tr>\n",
       "                <td><strong>Lower bound</strong></td><td>0.0</td>\n",
       "            </tr><tr>\n",
       "                <td><strong>Upper bound</strong></td><td>1000.0</td>\n",
       "            </tr>\n",
       "        </table>\n",
       "        "
      ],
      "text/plain": [
       "<Reaction LLFC2O_c at 0x7f7a80516790>"
      ]
     },
     "execution_count": 14,
     "metadata": {},
     "output_type": "execute_result"
    }
   ],
   "source": [
    "model.reactions.LLFC2O_c"
   ]
  },
  {
   "cell_type": "code",
   "execution_count": 11,
   "metadata": {},
   "outputs": [
    {
     "data": {
      "text/html": [
       "\n",
       "        <table>\n",
       "            <tr>\n",
       "                <td><strong>Gene identifier</strong></td><td>YEL071W</td>\n",
       "            </tr><tr>\n",
       "                <td><strong>Name</strong></td><td>DLD3</td>\n",
       "            </tr><tr>\n",
       "                <td><strong>Memory address</strong></td>\n",
       "                <td>0x07f7a8053be50</td>\n",
       "            </tr><tr>\n",
       "                <td><strong>Functional</strong></td><td>True</td>\n",
       "            </tr><tr>\n",
       "                <td><strong>In 1 reaction(s)</strong></td><td>\n",
       "                    LDHDf_c</td>\n",
       "            </tr>\n",
       "        </table>"
      ],
      "text/plain": [
       "<Gene YEL071W at 0x7f7a8053be50>"
      ]
     },
     "execution_count": 11,
     "metadata": {},
     "output_type": "execute_result"
    }
   ],
   "source": [
    "model.genes.YEL071W"
   ]
  },
  {
   "cell_type": "code",
   "execution_count": null,
   "metadata": {},
   "outputs": [],
   "source": []
  }
 ],
 "metadata": {
  "kernelspec": {
   "display_name": "Python 3",
   "language": "python",
   "name": "python3"
  },
  "language_info": {
   "codemirror_mode": {
    "name": "ipython",
    "version": 3
   },
   "file_extension": ".py",
   "mimetype": "text/x-python",
   "name": "python",
   "nbconvert_exporter": "python",
   "pygments_lexer": "ipython3",
   "version": "3.7.9"
  }
 },
 "nbformat": 4,
 "nbformat_minor": 4
}
