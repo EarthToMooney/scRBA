{
 "cells": [
  {
   "cell_type": "code",
   "execution_count": 1,
   "metadata": {},
   "outputs": [],
   "source": [
    "import cobra,rba,lxml\n",
    "from lxml import etree"
   ]
  },
  {
   "cell_type": "code",
   "execution_count": 3,
   "metadata": {},
   "outputs": [],
   "source": [
    "rtGSM = cobra.io.load_json_model('./RBArhto/gsmodel/iRhtoC_r2_2.json')"
   ]
  },
  {
   "cell_type": "code",
   "execution_count": 3,
   "metadata": {},
   "outputs": [],
   "source": [
    "modelET = etree.Element('RBAMetabolism')\n",
    "\n",
    "elems = ['listOfCompartments', 'listOfSpecies', 'listOfReactions']\n",
    "for e in elems:\n",
    "    modelET.append(etree.Element(e))"
   ]
  },
  {
   "cell_type": "code",
   "execution_count": 4,
   "metadata": {},
   "outputs": [],
   "source": [
    "comps = sorted(rtGSM.compartments.keys())\n",
    "compET = modelET.find('listOfCompartments')\n",
    "for comp in comps:\n",
    "    compET.append(etree.Element('compartment', attrib={'id':'COM_' + comp}))"
   ]
  },
  {
   "cell_type": "code",
   "execution_count": 5,
   "metadata": {},
   "outputs": [],
   "source": [
    "mets = sorted([met.id for met in rtGSM.metabolites])\n",
    "metET = modelET.find('listOfSpecies')\n",
    "for metid in mets:\n",
    "    met = rtGSM.metabolites.get_by_id(metid)\n",
    "    comp = met.compartment\n",
    "    bcond = 'true' if comp == 'e' else 'false'\n",
    "    att_dict = {'id':'M_'+met.id, 'boundaryCondition':bcond}\n",
    "    metET.append(etree.Element('species', attrib=att_dict))"
   ]
  },
  {
   "cell_type": "code",
   "execution_count": 6,
   "metadata": {},
   "outputs": [],
   "source": [
    "rxns = sorted([rxn.id for rxn in rtGSM.reactions])\n",
    "rxnET = modelET.find('listOfReactions')"
   ]
  },
  {
   "cell_type": "code",
   "execution_count": 7,
   "metadata": {},
   "outputs": [],
   "source": [
    "for rxnid in rxns:\n",
    "    rxn = rtGSM.reactions.get_by_id(rxnid)\n",
    "    rev = 'true' if rxn.reversibility else 'false'\n",
    "    att_dict = {'id':'R_'+rxn.id, 'reversible':rev}\n",
    "    rxnE = etree.SubElement(rxnET, 'reaction', attrib=att_dict)\n",
    "    \n",
    "    reactants = sorted([met.id for met in rxn.reactants])\n",
    "    rxnE_reactants = etree.SubElement(rxnE, 'listOfReactants')\n",
    "    for metid in reactants:\n",
    "        met = rtGSM.metabolites.get_by_id(metid)\n",
    "        coeff = rxn.metabolites[met]\n",
    "        att_dict = {'species':'M_'+met.id, 'stoichiometry':str(coeff)}\n",
    "        rxnE_reactants.append(etree.Element('speciesReference', attrib=att_dict))\n",
    "        \n",
    "    products = sorted([met.id for met in rxn.products])\n",
    "    rxnE_products = etree.SubElement(rxnE, 'listOfProducts')\n",
    "    for metid in products:\n",
    "        met = rtGSM.metabolites.get_by_id(metid)\n",
    "        coeff = rxn.metabolites[met]\n",
    "        att_dict = {'species':'M_'+met.id, 'stoichiometry':str(coeff)}\n",
    "        rxnE_reactants.append(etree.Element('speciesReference', attrib=att_dict))"
   ]
  },
  {
   "cell_type": "code",
   "execution_count": 75,
   "metadata": {},
   "outputs": [
    {
     "data": {
      "text/plain": [
       "{<Metabolite f6p_c at 0x7f0beb1aa410>: 1,\n",
       " <Metabolite g6p_c at 0x7f0beb1aa690>: -1}"
      ]
     },
     "execution_count": 75,
     "metadata": {},
     "output_type": "execute_result"
    }
   ],
   "source": [
    "rtGSM.reactions.PGI_c.metabolites"
   ]
  },
  {
   "cell_type": "code",
   "execution_count": null,
   "metadata": {},
   "outputs": [],
   "source": [
    "g6p = rxn"
   ]
  },
  {
   "cell_type": "code",
   "execution_count": 74,
   "metadata": {},
   "outputs": [
    {
     "ename": "NameError",
     "evalue": "name 'rxn' is not defined",
     "output_type": "error",
     "traceback": [
      "\u001b[0;31m---------------------------------------------------------------------------\u001b[0m",
      "\u001b[0;31mNameError\u001b[0m                                 Traceback (most recent call last)",
      "\u001b[0;32m<ipython-input-74-5e1698da860c>\u001b[0m in \u001b[0;36m<module>\u001b[0;34m\u001b[0m\n\u001b[0;32m----> 1\u001b[0;31m \u001b[0mrxn\u001b[0m\u001b[0;34m.\u001b[0m\u001b[0mmetabolites\u001b[0m\u001b[0;34m\u001b[0m\u001b[0;34m\u001b[0m\u001b[0m\n\u001b[0m",
      "\u001b[0;31mNameError\u001b[0m: name 'rxn' is not defined"
     ]
    }
   ],
   "source": [
    "rxn.metabolites"
   ]
  },
  {
   "cell_type": "code",
   "execution_count": 61,
   "metadata": {},
   "outputs": [
    {
     "data": {
      "text/plain": [
       "{'id': 'M_10fthf_c', 'boundaryCondition': 'false'}"
      ]
     },
     "execution_count": 61,
     "metadata": {},
     "output_type": "execute_result"
    }
   ],
   "source": [
    "metET[0].attrib"
   ]
  },
  {
   "cell_type": "code",
   "execution_count": null,
   "metadata": {},
   "outputs": [],
   "source": []
  },
  {
   "cell_type": "code",
   "execution_count": 57,
   "metadata": {},
   "outputs": [],
   "source": [
    "ch_remove = [c for c in compET]\n",
    "for c in ch_remove:\n",
    "    compET.remove(c)"
   ]
  },
  {
   "cell_type": "code",
   "execution_count": 51,
   "metadata": {},
   "outputs": [
    {
     "data": {
      "text/plain": [
       "[<Element compartment at 0x7f0c192c6370>]"
      ]
     },
     "execution_count": 51,
     "metadata": {},
     "output_type": "execute_result"
    }
   ],
   "source": [
    "[child for child in compET if child.attrib['id'] == 'COM__x']"
   ]
  },
  {
   "cell_type": "code",
   "execution_count": 58,
   "metadata": {},
   "outputs": [
    {
     "data": {
      "text/plain": [
       "[]"
      ]
     },
     "execution_count": 58,
     "metadata": {},
     "output_type": "execute_result"
    }
   ],
   "source": [
    "[c for c in compET]"
   ]
  },
  {
   "cell_type": "code",
   "execution_count": 48,
   "metadata": {},
   "outputs": [
    {
     "name": "stdout",
     "output_type": "stream",
     "text": [
      "<Element compartment at 0x7f0c192c6be0>\n",
      "<Element compartment at 0x7f0c192c6b40>\n",
      "<Element compartment at 0x7f0c192c6d20>\n",
      "<Element compartment at 0x7f0c192c6c80>\n",
      "<Element compartment at 0x7f0c192c67d0>\n",
      "<Element compartment at 0x7f0c192c6e10>\n",
      "<Element compartment at 0x7f0c192c6640>\n",
      "<Element compartment at 0x7f0c192c65a0>\n",
      "<Element compartment at 0x7f0c192c6190>\n",
      "<Element compartment at 0x7f0c192c60a0>\n",
      "<Element compartment at 0x7f0c192c6230>\n",
      "<Element compartment at 0x7f0c192c61e0>\n",
      "<Element compartment at 0x7f0c192c63c0>\n",
      "<Element compartment at 0x7f0c192c6370>\n"
     ]
    }
   ],
   "source": [
    "for child in compET:\n",
    "    print(child)"
   ]
  },
  {
   "cell_type": "code",
   "execution_count": 50,
   "metadata": {},
   "outputs": [
    {
     "data": {
      "text/plain": [
       "'COM__x'"
      ]
     },
     "execution_count": 50,
     "metadata": {},
     "output_type": "execute_result"
    }
   ],
   "source": [
    "child.attrib['id']"
   ]
  },
  {
   "cell_type": "code",
   "execution_count": 28,
   "metadata": {},
   "outputs": [
    {
     "data": {
      "text/plain": [
       "{'en': 'cell envelope',\n",
       " 'c': 'cytoplasm',\n",
       " 'e': 'extracellular',\n",
       " 'm': 'mitochondrion',\n",
       " 'n': 'nucleus',\n",
       " 'x': 'peroxisome',\n",
       " 'r': 'endoplasmic reticulum',\n",
       " 'g': 'Golgi',\n",
       " 'l': 'lipid particle',\n",
       " 'v': 'vacuole',\n",
       " 'rm': 'endoplasmic reticulum membrane',\n",
       " 'vm': 'vacuolar membrane',\n",
       " 'gm': 'Golgi membrane',\n",
       " 'mm': 'mitochondrial membrane'}"
      ]
     },
     "execution_count": 28,
     "metadata": {},
     "output_type": "execute_result"
    }
   ],
   "source": [
    "rtGSM.compartments"
   ]
  },
  {
   "cell_type": "code",
   "execution_count": 26,
   "metadata": {
    "scrolled": true
   },
   "outputs": [
    {
     "name": "stdout",
     "output_type": "stream",
     "text": [
      "b'<RBAMetabolism>\\n  <listOfCompartments/>\\n  <listOfSpecies/>\\n  <listOfReactions/>\\n</RBAMetabolism>\\n'\n"
     ]
    }
   ],
   "source": [
    "print((etree.tostring(rtET, pretty_print=True)))"
   ]
  },
  {
   "cell_type": "code",
   "execution_count": 8,
   "metadata": {},
   "outputs": [
    {
     "data": {
      "text/plain": [
       "<module 'lxml.etree' from '/home/hvdinh16/Workspace/workpy3/lib/python3.7/site-packages/lxml/etree.cpython-37m-x86_64-linux-gnu.so'>"
      ]
     },
     "execution_count": 8,
     "metadata": {},
     "output_type": "execute_result"
    }
   ],
   "source": [
    "newET"
   ]
  },
  {
   "cell_type": "code",
   "execution_count": null,
   "metadata": {},
   "outputs": [],
   "source": []
  },
  {
   "cell_type": "code",
   "execution_count": null,
   "metadata": {},
   "outputs": [],
   "source": [
    "etree()"
   ]
  },
  {
   "cell_type": "code",
   "execution_count": 113,
   "metadata": {},
   "outputs": [
    {
     "data": {
      "text/plain": [
       "<lxml.etree._ElementTree at 0x7f973c2ba870>"
      ]
     },
     "execution_count": 113,
     "metadata": {},
     "output_type": "execute_result"
    }
   ],
   "source": [
    "etree"
   ]
  },
  {
   "cell_type": "code",
   "execution_count": 11,
   "metadata": {},
   "outputs": [],
   "source": [
    "ecoliET = etree.parse('./Bacterial-RBA-models/Escherichia-coli-K12-WT/metabolism.xml')\n",
    "ecoliET = ecoliET.getroot()"
   ]
  },
  {
   "cell_type": "code",
   "execution_count": 12,
   "metadata": {},
   "outputs": [
    {
     "data": {
      "text/plain": [
       "<Element RBAMetabolism at 0x7f0bf26b70a0>"
      ]
     },
     "execution_count": 12,
     "metadata": {},
     "output_type": "execute_result"
    }
   ],
   "source": [
    "ecoliET"
   ]
  },
  {
   "cell_type": "code",
   "execution_count": 5,
   "metadata": {},
   "outputs": [
    {
     "data": {
      "text/plain": [
       "[<Element listOfCompartments at 0x7f0bf64eeaf0>,\n",
       " <Element listOfSpecies at 0x7f0bf643e280>,\n",
       " <Element listOfReactions at 0x7f0bf3407320>]"
      ]
     },
     "execution_count": 5,
     "metadata": {},
     "output_type": "execute_result"
    }
   ],
   "source": [
    "root.getchildren()"
   ]
  },
  {
   "cell_type": "code",
   "execution_count": 104,
   "metadata": {},
   "outputs": [],
   "source": [
    "e = root.find('listOfCompartments')[0]"
   ]
  },
  {
   "cell_type": "code",
   "execution_count": 107,
   "metadata": {},
   "outputs": [
    {
     "data": {
      "text/plain": [
       "{'id': 'Cell_inner_membrane'}"
      ]
     },
     "execution_count": 107,
     "metadata": {},
     "output_type": "execute_result"
    }
   ],
   "source": [
    "e.attrib"
   ]
  },
  {
   "cell_type": "code",
   "execution_count": 90,
   "metadata": {},
   "outputs": [
    {
     "ename": "TypeError",
     "evalue": "'lxml.etree._ElementTree' object is not iterable",
     "output_type": "error",
     "traceback": [
      "\u001b[0;31m---------------------------------------------------------------------------\u001b[0m",
      "\u001b[0;31mTypeError\u001b[0m                                 Traceback (most recent call last)",
      "\u001b[0;32m<ipython-input-90-b16b9edfd6b9>\u001b[0m in \u001b[0;36m<module>\u001b[0;34m\u001b[0m\n\u001b[0;32m----> 1\u001b[0;31m \u001b[0;32mfor\u001b[0m \u001b[0mchild\u001b[0m \u001b[0;32min\u001b[0m \u001b[0mroot\u001b[0m\u001b[0;34m:\u001b[0m\u001b[0;34m\u001b[0m\u001b[0;34m\u001b[0m\u001b[0m\n\u001b[0m\u001b[1;32m      2\u001b[0m     \u001b[0mprint\u001b[0m\u001b[0;34m(\u001b[0m\u001b[0mchild\u001b[0m\u001b[0;34m.\u001b[0m\u001b[0mtag\u001b[0m\u001b[0;34m,\u001b[0m \u001b[0mchild\u001b[0m\u001b[0;34m.\u001b[0m\u001b[0mattrib\u001b[0m\u001b[0;34m)\u001b[0m\u001b[0;34m\u001b[0m\u001b[0;34m\u001b[0m\u001b[0m\n",
      "\u001b[0;31mTypeError\u001b[0m: 'lxml.etree._ElementTree' object is not iterable"
     ]
    }
   ],
   "source": [
    "for child in root:\n",
    "    print(child.tag, child.attrib)"
   ]
  },
  {
   "cell_type": "code",
   "execution_count": null,
   "metadata": {},
   "outputs": [],
   "source": []
  },
  {
   "cell_type": "code",
   "execution_count": null,
   "metadata": {},
   "outputs": [],
   "source": []
  },
  {
   "cell_type": "code",
   "execution_count": 62,
   "metadata": {},
   "outputs": [],
   "source": [
    "model = rba.RbaModel()"
   ]
  },
  {
   "cell_type": "code",
   "execution_count": 68,
   "metadata": {},
   "outputs": [
    {
     "data": {
      "text/plain": [
       "<rba.xml.metabolism.ListOfReactions at 0x7f973dc72a50>"
      ]
     },
     "execution_count": 68,
     "metadata": {},
     "output_type": "execute_result"
    }
   ],
   "source": [
    "model.metabolism.reactions"
   ]
  },
  {
   "cell_type": "code",
   "execution_count": 72,
   "metadata": {},
   "outputs": [],
   "source": [
    "rbametab = rba.xml.RbaMetabolism()"
   ]
  },
  {
   "cell_type": "code",
   "execution_count": 73,
   "metadata": {
    "collapsed": true
   },
   "outputs": [
    {
     "ename": "UserWarning",
     "evalue": "A {http://www.sbml.org/sbml/level3/version1/core}sbml should have exactly one listOfCompartments node child.",
     "output_type": "error",
     "traceback": [
      "\u001b[0;31m---------------------------------------------------------------------------\u001b[0m",
      "\u001b[0;31mUserWarning\u001b[0m                               Traceback (most recent call last)",
      "\u001b[0;32m<ipython-input-73-7cd0601aa3bc>\u001b[0m in \u001b[0;36m<module>\u001b[0;34m\u001b[0m\n\u001b[0;32m----> 1\u001b[0;31m \u001b[0mrbametab\u001b[0m\u001b[0;34m.\u001b[0m\u001b[0mfrom_file\u001b[0m\u001b[0;34m(\u001b[0m\u001b[0;34m'./RBArhto/gsmodel/iRhtoC.xml'\u001b[0m\u001b[0;34m)\u001b[0m\u001b[0;34m\u001b[0m\u001b[0;34m\u001b[0m\u001b[0m\n\u001b[0m",
      "\u001b[0;32m~/Workspace/workpy3/RBA/RBApy/rba/xml/metabolism.py\u001b[0m in \u001b[0;36mfrom_file\u001b[0;34m(cls, input_stream)\u001b[0m\n\u001b[1;32m     67\u001b[0m         \u001b[0mnode\u001b[0m \u001b[0;34m=\u001b[0m \u001b[0metree\u001b[0m\u001b[0;34m.\u001b[0m\u001b[0mElementTree\u001b[0m\u001b[0;34m(\u001b[0m\u001b[0mfile\u001b[0m\u001b[0;34m=\u001b[0m\u001b[0minput_stream\u001b[0m\u001b[0;34m)\u001b[0m\u001b[0;34m.\u001b[0m\u001b[0mgetroot\u001b[0m\u001b[0;34m(\u001b[0m\u001b[0;34m)\u001b[0m\u001b[0;34m\u001b[0m\u001b[0;34m\u001b[0m\u001b[0m\n\u001b[1;32m     68\u001b[0m         \u001b[0mresult\u001b[0m \u001b[0;34m=\u001b[0m \u001b[0mcls\u001b[0m\u001b[0;34m(\u001b[0m\u001b[0;34m)\u001b[0m\u001b[0;34m\u001b[0m\u001b[0;34m\u001b[0m\u001b[0m\n\u001b[0;32m---> 69\u001b[0;31m         \u001b[0mn\u001b[0m \u001b[0;34m=\u001b[0m \u001b[0mget_unique_child\u001b[0m\u001b[0;34m(\u001b[0m\u001b[0mnode\u001b[0m\u001b[0;34m,\u001b[0m \u001b[0mListOfCompartments\u001b[0m\u001b[0;34m.\u001b[0m\u001b[0mtag\u001b[0m\u001b[0;34m)\u001b[0m\u001b[0;34m\u001b[0m\u001b[0;34m\u001b[0m\u001b[0m\n\u001b[0m\u001b[1;32m     70\u001b[0m         \u001b[0mresult\u001b[0m\u001b[0;34m.\u001b[0m\u001b[0mcompartments\u001b[0m \u001b[0;34m=\u001b[0m \u001b[0mListOfCompartments\u001b[0m\u001b[0;34m.\u001b[0m\u001b[0mfrom_xml_node\u001b[0m\u001b[0;34m(\u001b[0m\u001b[0mn\u001b[0m\u001b[0;34m)\u001b[0m\u001b[0;34m\u001b[0m\u001b[0;34m\u001b[0m\u001b[0m\n\u001b[1;32m     71\u001b[0m         \u001b[0mn\u001b[0m \u001b[0;34m=\u001b[0m \u001b[0mget_unique_child\u001b[0m\u001b[0;34m(\u001b[0m\u001b[0mnode\u001b[0m\u001b[0;34m,\u001b[0m \u001b[0mListOfSpecies\u001b[0m\u001b[0;34m.\u001b[0m\u001b[0mtag\u001b[0m\u001b[0;34m)\u001b[0m\u001b[0;34m\u001b[0m\u001b[0;34m\u001b[0m\u001b[0m\n",
      "\u001b[0;32m~/Workspace/workpy3/RBA/RBApy/rba/xml/common.py\u001b[0m in \u001b[0;36mget_unique_child\u001b[0;34m(parent, child_name, strict)\u001b[0m\n\u001b[1;32m     65\u001b[0m         \u001b[0;32mif\u001b[0m \u001b[0mstrict\u001b[0m\u001b[0;34m:\u001b[0m\u001b[0;34m\u001b[0m\u001b[0;34m\u001b[0m\u001b[0m\n\u001b[1;32m     66\u001b[0m             raise UserWarning('A {} should have exactly one {} node child.'\n\u001b[0;32m---> 67\u001b[0;31m                               .format(parent.tag, child_name))\n\u001b[0m\u001b[1;32m     68\u001b[0m         \u001b[0;32melse\u001b[0m\u001b[0;34m:\u001b[0m\u001b[0;34m\u001b[0m\u001b[0;34m\u001b[0m\u001b[0m\n\u001b[1;32m     69\u001b[0m             raise UserWarning('A {} should not have more than one {} node '\n",
      "\u001b[0;31mUserWarning\u001b[0m: A {http://www.sbml.org/sbml/level3/version1/core}sbml should have exactly one listOfCompartments node child."
     ]
    }
   ],
   "source": [
    "rbametab.from_file('./RBArhto/gsmodel/iRhtoC.xml')"
   ]
  },
  {
   "cell_type": "code",
   "execution_count": 74,
   "metadata": {},
   "outputs": [],
   "source": [
    "ecoli = rba.RbaModel.from_xml('./Bacterial-RBA-models/Escherichia-coli-K12-WT/')"
   ]
  },
  {
   "cell_type": "code",
   "execution_count": 75,
   "metadata": {},
   "outputs": [
    {
     "data": {
      "text/plain": [
       "rba.xml.metabolism.RbaMetabolism"
      ]
     },
     "execution_count": 75,
     "metadata": {},
     "output_type": "execute_result"
    }
   ],
   "source": [
    "type(ecoli.metabolism)"
   ]
  },
  {
   "cell_type": "code",
   "execution_count": 30,
   "metadata": {},
   "outputs": [],
   "source": [
    "enzyme = model.enzymes.enzymes[2500]"
   ]
  },
  {
   "cell_type": "code",
   "execution_count": 32,
   "metadata": {},
   "outputs": [
    {
     "data": {
      "text/plain": [
       "'R_MAN6Pt6_2pp'"
      ]
     },
     "execution_count": 32,
     "metadata": {},
     "output_type": "execute_result"
    }
   ],
   "source": [
    "for enz in model.enzymes.enzymes:"
   ]
  },
  {
   "cell_type": "code",
   "execution_count": 34,
   "metadata": {},
   "outputs": [],
   "source": [
    "enzyme = model.enzymes.enzymes.get_by_id('R_PGI_enzyme')"
   ]
  },
  {
   "cell_type": "code",
   "execution_count": 39,
   "metadata": {},
   "outputs": [
    {
     "data": {
      "text/plain": [
       "[]"
      ]
     },
     "execution_count": 39,
     "metadata": {},
     "output_type": "execute_result"
    }
   ],
   "source": [
    "list(enzyme.machinery_composition.products)"
   ]
  },
  {
   "cell_type": "code",
   "execution_count": 40,
   "metadata": {},
   "outputs": [
    {
     "data": {
      "text/plain": [
       "[<rba.xml.common.SpeciesReference at 0x7f9749067390>]"
      ]
     },
     "execution_count": 40,
     "metadata": {},
     "output_type": "execute_result"
    }
   ],
   "source": [
    "list(enzyme.machinery_composition.reactants)"
   ]
  },
  {
   "cell_type": "code",
   "execution_count": 41,
   "metadata": {},
   "outputs": [],
   "source": [
    "reactants = list(enzyme.machinery_composition.reactants)[0]"
   ]
  },
  {
   "cell_type": "code",
   "execution_count": 44,
   "metadata": {},
   "outputs": [
    {
     "data": {
      "text/plain": [
       "'b4025'"
      ]
     },
     "execution_count": 44,
     "metadata": {},
     "output_type": "execute_result"
    }
   ],
   "source": [
    "reactants.species"
   ]
  },
  {
   "cell_type": "code",
   "execution_count": 45,
   "metadata": {},
   "outputs": [
    {
     "data": {
      "text/plain": [
       "2.0"
      ]
     },
     "execution_count": 45,
     "metadata": {},
     "output_type": "execute_result"
    }
   ],
   "source": [
    "reactants.stoichiometry"
   ]
  },
  {
   "cell_type": "code",
   "execution_count": 55,
   "metadata": {},
   "outputs": [
    {
     "data": {
      "text/plain": [
       "[<rba.xml.common.SpeciesReference at 0x7f9749067390>]"
      ]
     },
     "execution_count": 55,
     "metadata": {},
     "output_type": "execute_result"
    }
   ],
   "source": [
    "list(enzyme.machinery_composition.reactants)"
   ]
  },
  {
   "cell_type": "code",
   "execution_count": null,
   "metadata": {},
   "outputs": [],
   "source": []
  }
 ],
 "metadata": {
  "kernelspec": {
   "display_name": "Python 3",
   "language": "python",
   "name": "python3"
  },
  "language_info": {
   "codemirror_mode": {
    "name": "ipython",
    "version": 3
   },
   "file_extension": ".py",
   "mimetype": "text/x-python",
   "name": "python",
   "nbconvert_exporter": "python",
   "pygments_lexer": "ipython3",
   "version": "3.7.9"
  }
 },
 "nbformat": 4,
 "nbformat_minor": 2
}
