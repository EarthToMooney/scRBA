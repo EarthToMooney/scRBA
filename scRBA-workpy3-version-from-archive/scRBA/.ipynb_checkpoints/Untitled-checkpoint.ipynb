{
 "cells": [
  {
   "cell_type": "code",
   "execution_count": 1,
   "metadata": {},
   "outputs": [],
   "source": [
    "import cobra\n",
    "import sys\n",
    "sys.path.append('/home/hvdinh16/Workspace/workpy3/common/')\n",
    "from custom_functions import *"
   ]
  },
  {
   "cell_type": "code",
   "execution_count": 2,
   "metadata": {},
   "outputs": [
    {
     "name": "stdout",
     "output_type": "stream",
     "text": [
      "Using license file /home/hvdinh16/Workspace/Softwares/gurobi910/linux64/gurobi.lic\n",
      "Academic license - for non-commercial use only - expires 2022-08-08\n"
     ]
    }
   ],
   "source": [
    "model = cobra.io.load_json_model('./scRBA_build_GAMS_model/input/GSM_y834_hvd_v6_rba.json')\n",
    "model.solver = 'cplex'"
   ]
  },
  {
   "cell_type": "markdown",
   "metadata": {},
   "source": [
    "#### Examine precursors that cannot be synthesized under anaerobic conditions"
   ]
  },
  {
   "cell_type": "code",
   "execution_count": 3,
   "metadata": {},
   "outputs": [],
   "source": [
    "convert_demand = {\n",
    "    'protrna_c': 'pro__L_c','argtrna_c': 'arg__L_c','lystrna_c': 'lys__L_c',\n",
    "    'alatrna_c': 'ala__L_c','trptrna_c': 'trp__L_c','phetrna_c': 'phe__L_c',\n",
    "    'tyrtrna_c': 'tyr__L_c','glutrna_c': 'glu__L_c','asntrna_c': 'asn__L_c',\n",
    "    'asptrna_c': 'asp__L_c','mettrna_c': 'met__L_c','histrna_c': 'his__L_c',\n",
    "    'glytrna_c': 'gly_c','cystrna_c': 'cys__L_c','thrtrna_c': 'thr__L_c',\n",
    "    'sertrna_c': 'ser__L_c','leutrna_c': 'leu__L_c','glntrna_c': 'gln__L_c',\n",
    "    'valtrna_c': 'val__L_c','iletrna_c': 'ile__L_c'}\n",
    "\n",
    "mdict0 = get_coeff_without_gam(model, 'BIOMASS_SC_hvd', 95.30828)\n",
    "mdict = dict()\n",
    "for k,v in mdict0.items():\n",
    "    if v > 0:\n",
    "        continue\n",
    "    if k in convert_demand.keys():\n",
    "        mdict[convert_demand[k]] = round(v,6)\n",
    "    else:\n",
    "        mdict[k] = round(v,6)"
   ]
  },
  {
   "cell_type": "code",
   "execution_count": 4,
   "metadata": {},
   "outputs": [
    {
     "name": "stdout",
     "output_type": "stream",
     "text": [
      "hemeA_c\n"
     ]
    }
   ],
   "source": [
    "model.reactions.EX_glc__D_e.bounds = (-30,1000)\n",
    "model.reactions.EX_ergst_e.bounds = (-1,1000)\n",
    "model.reactions.EX_hdcea_e.bounds = (-1,1000)\n",
    "model.reactions.EX_ocdcea_e.bounds = (-1,1000)\n",
    "model.reactions.EX_nac_e.bounds = (-1,1000)\n",
    "model.reactions.EX_pnto__R_e.bounds = (-1,1000)\n",
    "\n",
    "model.reactions.EX_o2_e.bounds = (0,0)\n",
    "rxn = cobra.Reaction('compCERANAEROBIC')\n",
    "model.add_reaction(rxn)\n",
    "rxn.reaction = '0.5 cer1_24_r + 0.5 cer1_26_r --> cer_r'\n",
    "rxn.bounds = (0,1000)\n",
    "\n",
    "for m in mdict.keys():\n",
    "    stat,fba = test_metabolite_sink(model, m)\n",
    "    if stat == False:\n",
    "        print(m)"
   ]
  },
  {
   "cell_type": "code",
   "execution_count": null,
   "metadata": {},
   "outputs": [],
   "source": []
  },
  {
   "cell_type": "code",
   "execution_count": null,
   "metadata": {},
   "outputs": [],
   "source": []
  },
  {
   "cell_type": "code",
   "execution_count": 18,
   "metadata": {},
   "outputs": [],
   "source": [
    "model.reactions.ICDHy_c.bounds = (0,1000)\n",
    "model.reactions.GLYC3Pt_c_m.knock_out()\n",
    "fba = cobra.flux_analysis.pfba(model)"
   ]
  },
  {
   "cell_type": "code",
   "execution_count": 19,
   "metadata": {},
   "outputs": [],
   "source": [
    "make_escher_csv(fba, './test.escher.csv')"
   ]
  },
  {
   "cell_type": "code",
   "execution_count": 10,
   "metadata": {},
   "outputs": [
    {
     "data": {
      "text/plain": [
       "'0.968206 13BDglucan_en + 0.254791 16BDglucan_en + 0.370407 alatrna_c + 0.146343 argtrna_c + 0.175915 asntrna_c + 0.175915 asptrna_c + 95.350291 atp_c + 0.001286 ca2_c + 0.022891 chtn_c + 0.00019 coa_c + 0.040823 ctp_c + 0.000114 cu2_c + 0.005308 cystrna_c + 0.00389 datp_c + 0.002626 dctp_c + 0.002626 dgtp_c + 0.00389 dttp_c + 0.006155 ergst161_rm + 0.002258 ergst181_rm + 0.03286 ergst_c + 1e-05 fad_c + 0.000664 fe2_c + 0.293444 glntrna_c + 0.293444 glutrna_c + 0.466786 glycogen_c + 0.337044 glytrna_c + 0.042011 gtp_c + 95.30828 h2o_c + 0.000346 hdca_c + 0.001015 hdcea_c + 1e-06 hemeA_c + 0.073171 histrna_c + 0.223306 iletrna_c + 0.004754 ipc_g + 0.60365 k_c + 0.30368 leutrna_c + 0.249086 lystrna_c + 0.62393 mannan_c + 0.04322 mettrna_c + 0.063607 mg2_c + 9.4e-05 mn2_c + 0.00265 nad_c + 0.00015 nadh_c + 0.00057 nadp_c + 0.0027 nadph_c + 9.6e-05 ocdca_c + 0.000372 ocdcea_c + 0.008542 pail_c + 0.031871 pc_c + 0.008565 pe_c + 0.142552 phetrna_c + 0.159991 protrna_c + 0.007356 ps_c + 0.00099 ribflv_c + 0.202075 sertrna_c + 0.031223 so4_c + 0.008476 tag_c + 6.3e-05 thf_c + 1e-06 thmpp_c + 0.211174 thrtrna_c + 0.023398 tre_c + 0.024643 trptrna_c + 0.074309 tyrtrna_c + 0.054705 utp_c + 0.2779 valtrna_c + 0.001576 zn2_c --> 95.30828 adp_c + 95.30828 h_c + 95.202625 pi_c + 0.192581 ppi_c + 0.370407 trnaala_c + 0.146343 trnaarg_c + 0.175915 trnaasn_c + 0.175915 trnaasp_c + 0.005308 trnacys_c + 0.293444 trnagln_c + 0.293444 trnaglu_c + 0.337044 trnagly_c + 0.073171 trnahis_c + 0.223306 trnaile_c + 0.30368 trnaleu_c + 0.249086 trnalys_c + 0.04322 trnamet_c + 0.142552 trnaphe_c + 0.159991 trnapro_c + 0.202075 trnaser_c + 0.211174 trnathr_c + 0.024643 trnatrp_c + 0.074309 trnatyr_c + 0.2779 trnaval_c'"
      ]
     },
     "execution_count": 10,
     "metadata": {},
     "output_type": "execute_result"
    }
   ],
   "source": [
    "model.reactions.BIOMASS_SC_hvd.reaction"
   ]
  },
  {
   "cell_type": "code",
   "execution_count": 16,
   "metadata": {
    "scrolled": false
   },
   "outputs": [
    {
     "data": {
      "text/plain": [
       "[('Q6MO_m', '2-hexaprenyl-6-methoxyphenol monooxygenase'),\n",
       " ('3HAO_c', '3-hydroxyanthranilate 3,4-dioxygenase'),\n",
       " ('AACTOOR_c',\n",
       "  'Aminoacetone:oxygen oxidoreductase(deaminating)(flavin-containing)'),\n",
       " ('FECOOR_m', 'ferrocytochrome-c:oxygen oxidoreductase'),\n",
       " ('HOMOX_m', 'heme O monooxygenase'),\n",
       " ('KYN3OX_c', 'kynurenine 3-monooxygenase'),\n",
       " ('TRPO2_c', 'L-tryptophan:oxygen 2,3-oxidoreductase (decyclizing)'),\n",
       " ('TAUDO_c', 'taurine dioxygenase'),\n",
       " ('EX_o2_e', 'oxygen exchange')]"
      ]
     },
     "execution_count": 16,
     "metadata": {},
     "output_type": "execute_result"
    }
   ],
   "source": [
    "[(rxn.id,rxn.name) for rxn in model.reactions if 'oxygen' in rxn.name.lower()]"
   ]
  },
  {
   "cell_type": "code",
   "execution_count": 17,
   "metadata": {},
   "outputs": [
    {
     "data": {
      "text/plain": [
       "[('ACOAO100_x', 'acyl-CoA oxidase (decanoyl-CoA)'),\n",
       " ('ACOAO120_x', 'acyl-CoA oxidase (dodecanoyl-CoA)'),\n",
       " ('ACOAO260_x', 'acyl-CoA oxidase (hexacosanoyl-CoA)'),\n",
       " ('ACOAO160_x', 'acyl-CoA oxidase (hexadecanoyl-CoA)'),\n",
       " ('ACOAO180_x', 'acyl-CoA oxidase (octadecanoyl-CoA)'),\n",
       " ('ACOAO140_x', 'acyl-CoA oxidase (tetradecanoyl-CoA)'),\n",
       " ('C4STMO1_c', 'C-4 methyl sterol oxidase'),\n",
       " ('C4STMO2_c', 'C-4 methyl sterol oxidase'),\n",
       " ('C4STMO3_c', 'C-4 methyl sterol oxidase'),\n",
       " ('C4STMO4_c', 'C-4 sterol methyl oxidase (4,4-dimethylzymosterol)'),\n",
       " ('CPPPGO_c', 'coproporphyrinogen oxidase (O2 required)'),\n",
       " ('ARAB14LO_c', 'D-arabinono-1,4-lactone oxidase'),\n",
       " ('GTHP_m', 'glutathione peroxidase, mitochondria'),\n",
       " ('NFTYROX_c', 'N-formyltyrosine oxidase'),\n",
       " ('POLYAO1_c', 'polyamine oxidase'),\n",
       " ('POLYAO2_c', 'poylamine oxidase'),\n",
       " ('POLYAO3_c', 'poylamine oxidase'),\n",
       " ('PROD2_m', 'proline oxidase (NAD)'),\n",
       " ('PPPGO_m', 'protoporphyrinogen oxidase'),\n",
       " ('PYDXO_c', 'pyridoxal oxidase'),\n",
       " ('PYAM5PO_c', \"pyridoxamine 5'-phosphate oxidase\"),\n",
       " ('PDX5POi_c', \"pyridoxine 5'-phosphate oxidase\"),\n",
       " ('PYDXNO_c', 'pyridoxine oxidase'),\n",
       " ('SQLEx_r', 'squalene epoxidase (NAD)'),\n",
       " ('SQLEy_r', 'squalene epoxidase (NADP)'),\n",
       " ('ACOAO40_x', 'acyl-CoA oxidase (butanoyl-CoA)'),\n",
       " ('ACOAO60_x', 'acyl-CoA oxidase (hexanoyl-CoA)'),\n",
       " ('ACOAO80_x', 'acyl-CoA oxidase (octanoyl-CoA)'),\n",
       " ('ACOAO200_x', 'acyl-CoA oxidase (icosanoyl-CoA)'),\n",
       " ('ACOAO220_x', 'acyl-CoA oxidase (docosanoyl-CoA)'),\n",
       " ('ACOAO240_x', 'acyl-CoA oxidase (tetracosanoyl-CoA)'),\n",
       " ('ACOAO161b_x', 'acyl-CoA oxidase (palmitoleoyl-CoA)'),\n",
       " ('ACOAO141b_x', 'acyl-CoA oxidase (cis-tetradec-7-enoyl-CoA)'),\n",
       " ('ACOAO121a_x', 'acyl-CoA oxidase (cis-dodec-5-enoyl-CoA)'),\n",
       " ('ACOAO181a_x', 'acyl-CoA oxidase (oleoyl-CoA)'),\n",
       " ('ACOAO161a_x', 'acyl-CoA oxidase (cis-hexadec-7-enoyl-CoA)'),\n",
       " ('ACOAO141a_x', 'acyl-CoA oxidase (cis-tetradec-5-enoyl-CoA)')]"
      ]
     },
     "execution_count": 17,
     "metadata": {},
     "output_type": "execute_result"
    }
   ],
   "source": [
    "[(rxn.id,rxn.name) for rxn in model.reactions if 'oxidase' in rxn.name.lower()]"
   ]
  },
  {
   "cell_type": "code",
   "execution_count": null,
   "metadata": {},
   "outputs": [],
   "source": []
  }
 ],
 "metadata": {
  "kernelspec": {
   "display_name": "Python 3",
   "language": "python",
   "name": "python3"
  },
  "language_info": {
   "codemirror_mode": {
    "name": "ipython",
    "version": 3
   },
   "file_extension": ".py",
   "mimetype": "text/x-python",
   "name": "python",
   "nbconvert_exporter": "python",
   "pygments_lexer": "ipython3",
   "version": "3.7.9"
  }
 },
 "nbformat": 4,
 "nbformat_minor": 4
}
