{
 "cells": [
  {
   "cell_type": "code",
   "execution_count": 1,
   "metadata": {},
   "outputs": [],
   "source": [
    "import pandas as pd\n",
    "import cobra\n",
    "from copy import deepcopy\n",
    "\n",
    "import sys\n",
    "sys.path.append('../pycore/')\n",
    "from utils import extract_details_from_rxnid"
   ]
  },
  {
   "cell_type": "code",
   "execution_count": 2,
   "metadata": {},
   "outputs": [],
   "source": [
    "prods = ['hdca', 'hxdcol', 'tag', 'citm', 'btoh', 'polyhb', 'arte',\n",
    "         'sesqt', 'etoh', 'lac__L', 'btd', 'ibutoh', '3hppa', '3hppb',\n",
    "         'succ', 'mal__L', 'skm', 'muco', '4hbz', '4abz', '2phetoh',\n",
    "         'styr', 'cou', 'retcln', 'nrgn', 'rsvtol', 'glyc', '13ppd']\n",
    "prod_rxns = {p:[] for p in prods}\n",
    "\n",
    "#### Compile product - active rxns dictionary\n",
    "df_rxns = pd.read_excel('./input/pathways.xlsx')\n",
    "for i in df_rxns.index:\n",
    "    rxnid = extract_details_from_rxnid(df_rxns.id[i])[1]\n",
    "    p = df_rxns.loc[i, 'product']\n",
    "    \n",
    "    if p == '3hpp':\n",
    "        prod_rxns['3hppa'].append(rxnid)\n",
    "        prod_rxns['3hppb'].append(rxnid)\n",
    "    else:\n",
    "        prod_rxns[p].append(rxnid)"
   ]
  },
  {
   "cell_type": "code",
   "execution_count": 3,
   "metadata": {},
   "outputs": [],
   "source": [
    "df_comp = pd.read_excel('./compiled_results.xlsx')\n",
    "df_comp.index = df_comp['product'].to_list()"
   ]
  },
  {
   "cell_type": "code",
   "execution_count": 4,
   "metadata": {
    "collapsed": true
   },
   "outputs": [
    {
     "name": "stdout",
     "output_type": "stream",
     "text": [
      "256.4\n",
      "242.44\n",
      "824.3\n",
      "146.1\n",
      "74.12\n",
      "103.1\n",
      "234.33\n",
      "246.3\n",
      "46.07\n",
      "89.07\n",
      "90.12\n",
      "74.12\n",
      "90.08\n",
      "90.08\n",
      "116.07\n",
      "132.07\n",
      "174.15\n",
      "140.09\n",
      "137.11\n",
      "137.14\n",
      "122.16\n",
      "104.15\n",
      "163.15\n",
      "329.4\n",
      "272.25\n",
      "228.24\n",
      "92.09\n",
      "76.09\n"
     ]
    }
   ],
   "source": [
    "for p in prods:\n",
    "    print(df_comp.loc[p, 'MW (g/mol)'])"
   ]
  },
  {
   "cell_type": "code",
   "execution_count": 5,
   "metadata": {},
   "outputs": [
    {
     "name": "stdout",
     "output_type": "stream",
     "text": [
      "Using license file /home/hvdinh16/Workspace/Softwares/gurobi910/linux64/gurobi.lic\n",
      "Academic license - for non-commercial use only - expires 2023-07-30\n"
     ]
    }
   ],
   "source": [
    "model = cobra.io.load_json_model('./input/GSM_iSace1144_rba_pathwayadd.json')\n",
    "model.solver = 'cplex'\n",
    "model.objective = dict()\n",
    "\n",
    "model.reactions.ATPM_c.lower_bound = 1\n",
    "\n",
    "model.reactions.EX_glc__D_e.bounds = (-13.21,1000)\n",
    "model.reactions.BIOMASS_AERO_SC_hvd.bounds = (0.1, 0.1)\n",
    "model.reactions.EX_o2_e.bounds = (-1000,1000)\n",
    "model.reactions.EX_co2_e.bounds = (-1000,1000)\n",
    "\n",
    "# Allow YNB media uptake\n",
    "model.reactions.EX_thm_e.bounds = (-1000,1000)\n",
    "model.reactions.EX_ribflv_e.bounds = (-1000,1000)\n",
    "model.reactions.EX_nac_e.bounds = (-1000,1000)\n",
    "model.reactions.EX_pydxn_e.bounds = (-1000,1000)\n",
    "model.reactions.EX_fol_e.bounds = (-1000,1000)\n",
    "model.reactions.EX_pnto__R_e.bounds = (-1000,1000)\n",
    "model.reactions.EX_4abz_e.bounds = (-1000,1000)\n",
    "model.reactions.EX_inost_e.bounds = (-1000,1000)"
   ]
  },
  {
   "cell_type": "code",
   "execution_count": 6,
   "metadata": {},
   "outputs": [
    {
     "name": "stdout",
     "output_type": "stream",
     "text": [
      "2.7542949376466868\n",
      "2.6712741530005664\n",
      "0.8468911613060549\n",
      "12.489370538802131\n",
      "11.173180901835627\n",
      "12.489370088802207\n",
      "2.840597430704717\n",
      "2.9532043360139553\n",
      "25.047707005199978\n",
      "24.177146187687157\n",
      "12.88819941946332\n",
      "12.52385350259462\n",
      "20.008672716831395\n",
      "22.291630803855035\n",
      "19.129170614104346\n",
      "21.228713730286326\n",
      "9.697796801579365\n",
      "10.392564331425236\n",
      "9.031912979105506\n",
      "8.61759900162344\n",
      "6.9214891670526\n",
      "6.747110564006811\n",
      "7.076164548897104\n",
      "2.5056296359765433\n",
      "3.9619955552063035\n",
      "3.961995687897341\n",
      "19.91165604358431\n",
      "17.762800717485334\n"
     ]
    }
   ],
   "source": [
    "fba_yields = {p:0 for p in prods}\n",
    "\n",
    "for p in prods:\n",
    "    if p in ['3hppa', '3hppb']:\n",
    "        exrxn = 'EX_3hpp_e'\n",
    "    else:\n",
    "        exrxn = 'EX_' + p + '_e'\n",
    "    if p in ['citm', 'polyhb']:\n",
    "        model.reactions.THRA_c.knock_out()\n",
    "    for r in prod_rxns[p]:\n",
    "        model.reactions.get_by_id(r).bounds = (0,1000)\n",
    "    model.reactions.get_by_id(exrxn).objective_coefficient = 1\n",
    "    fba = model.optimize()\n",
    "    \n",
    "    for r in prod_rxns[p]:\n",
    "        model.reactions.get_by_id(r).bounds = (0,0)\n",
    "    if p in ['citm', 'polyhb']:\n",
    "        model.reactions.THRA_c.bounds = (0,1000)\n",
    "    model.objective = dict()\n",
    "    \n",
    "    #fba_yields[p] = fba[exrxn]\n",
    "    #print(p, fba.status, fba[exrxn], fba['EX_glc__D_e'])\n",
    "    print(fba[exrxn])"
   ]
  },
  {
   "cell_type": "code",
   "execution_count": 14,
   "metadata": {},
   "outputs": [
    {
     "name": "stdout",
     "output_type": "stream",
     "text": [
      "15.905128256361175 -0.806155234301927\n"
     ]
    }
   ],
   "source": [
    "p = 'citm'\n",
    "if p in ['3hppa', '3hppb']:\n",
    "    exrxn = 'EX_3hpp_e'\n",
    "else:\n",
    "    exrxn = 'EX_' + p + '_e'\n",
    "\n",
    "model.reactions.EX_glc__D_e.bounds = (-16, 1000)\n",
    "for r in prod_rxns[p]:\n",
    "    model.reactions.get_by_id(r).bounds = (0,1000)\n",
    "model.reactions.get_by_id(exrxn).objective_coefficient = 1\n",
    "fba = model.optimize()\n",
    "\n",
    "for r in prod_rxns[p]:\n",
    "    model.reactions.get_by_id(r).bounds = (0,0)\n",
    "model.objective = dict()\n",
    "\n",
    "#fba_yields[p] = fba[exrxn]\n",
    "#print(p, fba.status, fba[exrxn], fba['EX_glc__D_e'])\n",
    "print(fba[exrxn], fba[exrxn] * 146.1 / 180.156 / fba['EX_glc__D_e'])"
   ]
  },
  {
   "cell_type": "code",
   "execution_count": 5,
   "metadata": {},
   "outputs": [
    {
     "data": {
      "text/plain": [
       "-1e-07"
      ]
     },
     "execution_count": 5,
     "metadata": {},
     "output_type": "execute_result"
    }
   ],
   "source": [
    "fba['EX_thm_e']"
   ]
  },
  {
   "cell_type": "code",
   "execution_count": 21,
   "metadata": {},
   "outputs": [
    {
     "name": "stdout",
     "output_type": "stream",
     "text": [
      "hdca\n",
      "hxdcol\n",
      "btoh\n",
      "tag\n",
      "nrgn\n",
      "polyhb\n",
      "citm\n",
      "arte\n",
      "sesqt\n",
      "etoh\n",
      "lac__L\n",
      "btd\n",
      "ibutoh\n",
      "3hppa\n",
      "3hppb\n",
      "succ\n",
      "mal__L\n",
      "skm\n",
      "muco\n",
      "4hbz\n",
      "4abz\n",
      "2phetoh\n",
      "cou\n",
      "rsvtol\n",
      "styr\n",
      "retcln\n",
      "glyc\n",
      "13ppd\n"
     ]
    }
   ],
   "source": [
    "for p in prods:\n",
    "    print(p)"
   ]
  },
  {
   "cell_type": "code",
   "execution_count": null,
   "metadata": {},
   "outputs": [],
   "source": []
  }
 ],
 "metadata": {
  "kernelspec": {
   "display_name": "Python 3",
   "language": "python",
   "name": "python3"
  },
  "language_info": {
   "codemirror_mode": {
    "name": "ipython",
    "version": 3
   },
   "file_extension": ".py",
   "mimetype": "text/x-python",
   "name": "python",
   "nbconvert_exporter": "python",
   "pygments_lexer": "ipython3",
   "version": "3.7.9"
  }
 },
 "nbformat": 4,
 "nbformat_minor": 4
}
