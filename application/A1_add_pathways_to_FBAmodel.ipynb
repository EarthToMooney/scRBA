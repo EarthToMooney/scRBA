{
 "cells": [
  {
   "cell_type": "code",
   "execution_count": 1,
   "metadata": {},
   "outputs": [],
   "source": [
    "import pandas as pd\n",
    "import cobra\n",
    "from copy import deepcopy\n",
    "\n",
    "import sys\n",
    "sys.path.append('../pycore/')\n",
    "from utils import extract_details_from_rxnid"
   ]
  },
  {
   "cell_type": "code",
   "execution_count": 2,
   "metadata": {},
   "outputs": [],
   "source": [
    "df_rxns = pd.read_excel('./input/pathways.xlsx')"
   ]
  },
  {
   "cell_type": "code",
   "execution_count": 3,
   "metadata": {},
   "outputs": [
    {
     "name": "stdout",
     "output_type": "stream",
     "text": [
      "Using license file /home/hvdinh16/Workspace/Softwares/gurobi910/linux64/gurobi.lic\n",
      "Academic license - for non-commercial use only - expires 2022-08-08\n"
     ]
    }
   ],
   "source": [
    "model_raw = cobra.io.load_json_model('../build_GAMS_model/input/GSM_iSace1144_rba.json')\n",
    "model_raw.solver = 'cplex'"
   ]
  },
  {
   "cell_type": "code",
   "execution_count": 4,
   "metadata": {
    "collapsed": true
   },
   "outputs": [
    {
     "name": "stdout",
     "output_type": "stream",
     "text": [
      "unknown metabolite 'hxdcal_c' created\n",
      "unknown metabolite 'hxdcol_c' created\n",
      "unknown metabolite '2etmal_m' created\n",
      "unknown metabolite '2etmal_c' created\n",
      "unknown metabolite '3etmal_c' created\n",
      "unknown metabolite '2oxptn_c' created\n",
      "unknown metabolite 'btal_c' created\n",
      "unknown metabolite 'btoh_c' created\n",
      "unknown metabolite 'citm_m' created\n",
      "unknown metabolite 'citac_m' created\n",
      "unknown metabolite '3mmal_m' created\n",
      "unknown metabolite 'btoh_e' created\n",
      "unknown metabolite 'tag_e' created\n",
      "unknown metabolite 'cou_c' created\n",
      "unknown metabolite 'coucoa_c' created\n",
      "unknown metabolite 'nrgnch_c' created\n",
      "unknown metabolite 'nrgn_c' created\n",
      "unknown metabolite 'nrgn_e' created\n",
      "unknown metabolite 'cou_e' created\n",
      "unknown metabolite 'citm_c' created\n",
      "unknown metabolite 'citm_e' created\n",
      "unknown metabolite '3hbcoa__R_c' created\n",
      "unknown metabolite 'polyhb_c' created\n",
      "unknown metabolite 'polyhb_e' created\n",
      "unknown metabolite 'amorph_c' created\n",
      "unknown metabolite 'nhemrd_c' created\n",
      "unknown metabolite 'arte_c' created\n",
      "unknown metabolite 'nhemox_c' created\n",
      "unknown metabolite 'arte_e' created\n",
      "unknown metabolite 'sesqt_c' created\n",
      "unknown metabolite 'sesqt_e' created\n",
      "unknown metabolite 'alac_c' created\n",
      "unknown metabolite 'actn_c' created\n",
      "unknown metabolite '3oxpp_c' created\n",
      "unknown metabolite '3hpp_c' created\n",
      "unknown metabolite '3hpp_e' created\n",
      "unknown metabolite '34dhbz_c' created\n",
      "unknown metabolite 'catechol_c' created\n",
      "unknown metabolite 'muco_c' created\n",
      "unknown metabolite 'muco_e' created\n",
      "unknown metabolite '4hbz_e' created\n",
      "unknown metabolite 'rsvtol_c' created\n",
      "unknown metabolite 'rsvtol_e' created\n",
      "unknown metabolite 'cinnm_c' created\n",
      "unknown metabolite 'styr_c' created\n",
      "unknown metabolite 'styr_e' created\n",
      "unknown metabolite 'hphpyr_c' created\n",
      "unknown metabolite 'hpacald_c' created\n",
      "unknown metabolite 'thptdn_c' created\n",
      "unknown metabolite '34dopa_c' created\n",
      "unknown metabolite 'hthbp_c' created\n",
      "unknown metabolite 'dhptdn_c' created\n",
      "unknown metabolite 'dopa_c' created\n",
      "unknown metabolite 'nrco_c' created\n",
      "unknown metabolite 'cocl_c' created\n",
      "unknown metabolite 'mcocl_c' created\n",
      "unknown metabolite '3hmcocl_c' created\n",
      "unknown metabolite 'retcln_c' created\n",
      "unknown metabolite 'retcln_e' created\n",
      "unknown metabolite '3hppnl_c' created\n",
      "unknown metabolite '13ppd_c' created\n",
      "unknown metabolite '13ppd_e' created\n",
      "unknown metabolite 'skm_e' created\n"
     ]
    }
   ],
   "source": [
    "model = deepcopy(model_raw)\n",
    "\n",
    "for i in df_rxns.index:\n",
    "    rxnid = extract_details_from_rxnid(df_rxns.id[i])[1]\n",
    "    eqn = df_rxns.reaction[i]\n",
    "    eqn = eqn.replace('MET-', '')\n",
    "    \n",
    "    rxn = cobra.Reaction(rxnid)\n",
    "    model.add_reactions([rxn])\n",
    "    rxn.reaction = eqn\n",
    "    rxn.bounds = (0,0)"
   ]
  },
  {
   "cell_type": "code",
   "execution_count": 5,
   "metadata": {},
   "outputs": [],
   "source": [
    "cobra.io.save_json_model(model, './input/GSM_iSace1144_rba_pathwayadd.json')"
   ]
  },
  {
   "cell_type": "code",
   "execution_count": null,
   "metadata": {},
   "outputs": [],
   "source": []
  }
 ],
 "metadata": {
  "kernelspec": {
   "display_name": "Python 3",
   "language": "python",
   "name": "python3"
  },
  "language_info": {
   "codemirror_mode": {
    "name": "ipython",
    "version": 3
   },
   "file_extension": ".py",
   "mimetype": "text/x-python",
   "name": "python",
   "nbconvert_exporter": "python",
   "pygments_lexer": "ipython3",
   "version": "3.7.9"
  }
 },
 "nbformat": 4,
 "nbformat_minor": 4
}
