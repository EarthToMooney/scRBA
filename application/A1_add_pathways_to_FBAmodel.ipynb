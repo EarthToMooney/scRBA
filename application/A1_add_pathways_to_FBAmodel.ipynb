{
 "cells": [
  {
   "cell_type": "code",
   "execution_count": 1,
   "metadata": {},
   "outputs": [],
   "source": [
    "# add rxns making products of interest\n",
    "import pandas as pd\n",
    "import cobra\n",
    "from copy import deepcopy\n",
    "\n",
    "import sys\n",
    "import os,shutil\n",
    "sys.path.append('../pycore/')\n",
    "from utils import extract_details_from_rxnid\n",
    "from gsm_custom_functions import *\n"
   ]
  },
  {
   "cell_type": "code",
   "execution_count": 2,
   "metadata": {},
   "outputs": [],
   "source": [
    "df_rxns = pd.read_excel('./input/pathways.xlsx')\n",
    "copy_input_files = True # set to False if you want to customize them\n",
    "# Manually create input/phenotype_common.txt"
   ]
  },
  {
   "cell_type": "code",
   "execution_count": 3,
   "metadata": {},
   "outputs": [],
   "source": [
    "model = cobra.io.load_json_model('../build_model/input/iRhtoC.json')\n",
    "model = deepcopy(model)\n",
    "model.solver = 'cplex'\n",
    "newmodel_path = './input/iRhtoC_pathwayadd.json'"
   ]
  },
  {
   "cell_type": "code",
   "execution_count": 4,
   "metadata": {},
   "outputs": [],
   "source": [
    "path_gams = '../GAMS/'\n",
    "path_app_gams = '../application/input/GAMS_model_application/'\n",
    "# copy files from GAMS/model folder into path_app_gams, overwriting existing files\n",
    "if copy_input_files:\n",
    "\tfor f in os.listdir(path_gams+'model/'):\n",
    "\t\tshutil.copy(path_gams+'model/'+f, path_app_gams)"
   ]
  },
  {
   "cell_type": "code",
   "execution_count": 5,
   "metadata": {},
   "outputs": [],
   "source": [
    "# model media - same as scRBA\n",
    "model.objective = dict()\n",
    "\n",
    "model.reactions.ATPM_c.lower_bound = 1\n",
    "model.reactions.EX_glc__D_e.bounds = (-13.21,1000)\n",
    "model.reactions.BIOMASS_RT_CLIM.bounds = (0.1, 0.1)\n",
    "model.reactions.EX_o2_e.bounds = (-1000,1000)\n",
    "model.reactions.EX_co2_e.bounds = (-1000,1000)\n",
    "\n",
    "# Allow YNB media uptake\n",
    "model.reactions.EX_thm_e.bounds = (-1000,1000)\n",
    "model.reactions.EX_ribflv_e.bounds = (-1000,1000)\n",
    "model.reactions.EX_nac_e.bounds = (-1000,1000)\n",
    "model.reactions.EX_pydxn_e.bounds = (-1000,1000)\n",
    "model.reactions.EX_fol_e.bounds = (-1000,1000)\n",
    "model.reactions.EX_pnto__R_e.bounds = (-1000,1000)\n",
    "model.reactions.EX_4abz_e.bounds = (-1000,1000)\n",
    "model.reactions.EX_inost_e.bounds = (-1000,1000)"
   ]
  },
  {
   "cell_type": "code",
   "execution_count": 6,
   "metadata": {},
   "outputs": [
    {
     "name": "stdout",
     "output_type": "stream",
     "text": [
      "unknown metabolite 'hxdcal_c' created\n",
      "unknown metabolite 'hxdcol_c' created\n",
      "unknown metabolite '2etmal_m' created\n",
      "unknown metabolite '2etmal_c' created\n",
      "unknown metabolite '3etmal_c' created\n",
      "unknown metabolite '2oxptn_c' created\n",
      "unknown metabolite 'btal_c' created\n",
      "unknown metabolite 'btoh_c' created\n",
      "unknown metabolite 'citm_m' created\n",
      "unknown metabolite 'citac_m' created\n",
      "unknown metabolite '3mmal_m' created\n",
      "unknown metabolite 'btoh_e' created\n",
      "unknown metabolite 'tag_e' created\n",
      "unknown metabolite 'cou_c' created\n",
      "unknown metabolite 'nrgnch_c' created\n",
      "unknown metabolite 'nrgn_c' created\n",
      "unknown metabolite 'nrgn_e' created\n",
      "unknown metabolite 'cou_e' created\n",
      "unknown metabolite 'citm_c' created\n",
      "unknown metabolite 'citm_e' created\n",
      "unknown metabolite '3hbcoa__R_c' created\n",
      "unknown metabolite 'polyhb_c' created\n",
      "unknown metabolite 'polyhb_e' created\n",
      "unknown metabolite 'amorph_c' created\n",
      "unknown metabolite 'nhemrd_c' created\n",
      "unknown metabolite 'arte_c' created\n",
      "unknown metabolite 'nhemox_c' created\n",
      "unknown metabolite 'arte_e' created\n",
      "unknown metabolite 'sesqt_c' created\n",
      "unknown metabolite 'sesqt_e' created\n",
      "unknown metabolite 'alac_c' created\n",
      "unknown metabolite 'actn_c' created\n",
      "unknown metabolite '3oxpp_c' created\n",
      "unknown metabolite '3hpp_c' created\n",
      "unknown metabolite '3hpp_e' created\n",
      "unknown metabolite '34dhbz_c' created\n",
      "unknown metabolite '4hbz_e' created\n",
      "unknown metabolite 'rsvtol_c' created\n",
      "unknown metabolite 'rsvtol_e' created\n",
      "unknown metabolite 'styr_e' created\n",
      "unknown metabolite 'hphpyr_c' created\n",
      "unknown metabolite 'hpacald_c' created\n",
      "unknown metabolite 'thptdn_c' created\n",
      "unknown metabolite '34dopa_c' created\n",
      "unknown metabolite 'hthbp_c' created\n",
      "unknown metabolite 'dhptdn_c' created\n",
      "unknown metabolite 'dopa_c' created\n",
      "unknown metabolite 'nrco_c' created\n",
      "unknown metabolite 'cocl_c' created\n",
      "unknown metabolite 'mcocl_c' created\n",
      "unknown metabolite '3hmcocl_c' created\n",
      "unknown metabolite 'retcln_c' created\n",
      "unknown metabolite 'retcln_e' created\n",
      "unknown metabolite '3hppnl_c' created\n",
      "unknown metabolite '13ppd_c' created\n",
      "unknown metabolite '13ppd_e' created\n",
      "unknown metabolite 'skm_e' created\n",
      "['3hppb', '3hpp', 'citm', 'rsvtol', '13ppd', '3hppa', 'btd', '2phetoh', 'nrgn', 'arte', 'hxdcol', 'polyhb', 'btoh', 'muco', 'sesqt', 'skm', 'cou', 'tag', 'ibutoh', 'hdca', 'retcln', '4hbz', 'lac__L', 'styr']\n"
     ]
    }
   ],
   "source": [
    "prod_rxns = dict()\n",
    "prods = set()\n",
    "\n",
    "sij_add = set()\n",
    "added_rxns = set()\n",
    "\n",
    "# add rxns to both models\n",
    "for i in df_rxns.index:\n",
    "    rxnid = extract_details_from_rxnid(df_rxns.id[i])[1]\n",
    "    eqn = df_rxns.reaction[i]\n",
    "    eqn = eqn.replace('MET-', '')\n",
    "    p = df_rxns.loc[i, 'product']\n",
    "    \n",
    "    rxn = cobra.Reaction(rxnid)\n",
    "    model.add_reactions([rxn])\n",
    "    rxn.reaction = eqn\n",
    "    rxn.bounds = (0,0)\n",
    "\n",
    "    # add to RBA model\n",
    "    met_dict = metabolites_dict_from_reaction_equation_RBA(rxn.reaction)\n",
    "    for k,v in met_dict.items():\n",
    "        if v != '' and k != '':\n",
    "            sij_add.add(\"'\" + k + \"'.'\" + df_rxns.id[i] + \"' \" + str(v))\n",
    "    \n",
    "    ## Example of how you might count 2 related products together\n",
    "    if p == '3hpp':\n",
    "        prod_rxns['3hppa'].append(rxnid)\n",
    "        prod_rxns['3hppb'].append(rxnid)\n",
    "    prods.add(p)\n",
    "    if p in prod_rxns.keys():\n",
    "        prod_rxns[p].append(rxnid)\n",
    "    else:\n",
    "        prod_rxns[p] = [rxnid]\n",
    "    added_rxns.add(df_rxns.id[i])\n",
    "prods = list(prods)\n",
    "print(prods)"
   ]
  },
  {
   "cell_type": "code",
   "execution_count": null,
   "metadata": {},
   "outputs": [],
   "source": [
    "# update sij\n",
    "def process_GAMS_file(f):\n",
    "    with open(f, 'r') as f:\n",
    "        lines = f.readlines()\n",
    "    # remove all lines that are empty or only contain '/'\n",
    "    lines = [x.replace('\\n','') for x in lines if x.strip() != '/' and x.strip() != '']\n",
    "    return lines\n",
    "sij = process_GAMS_file('./input/GAMS_model_application/RBA_sij.txt')\n",
    "# add new lines\n",
    "sij += list(sij_add)\n",
    "# remove duplicates\n",
    "sij = list(set(sij))\n",
    "with open('./input/GAMS_model_application/RBA_sij.txt', 'w') as f:\n",
    "    f.write('\\n'.join(['/'] + sij + ['/']))\n",
    "\n",
    "# add rxns\n",
    "with open('./input/GAMS_model_application/RBA_rxns_add.txt', 'w') as f:\n",
    "    f.write('\\n'.join(['/'] + list(added_rxns) + ['/']))\n",
    "allrxns = process_GAMS_file('./input/GAMS_model_application/RBA_rxns.txt')\n",
    "allrxns += [\"'\" + x + \"'\" for x in added_rxns]\n",
    "allrxns = list(set(allrxns))\n",
    "with open('./input/GAMS_model_application/RBA_rxns.txt', 'w') as f:\n",
    "    f.write('\\n'.join(['/'] + allrxns + ['/']))\n",
    "\n",
    "# add prods\n",
    "species = process_GAMS_file('./input/GAMS_model_application/RBA_species.txt')\n",
    "# add 'MET-' to products\n",
    "species += [\"'MET-\" + x + \"'\" for x in prods]\n",
    "species = list(set(species))\n",
    "with open('./input/GAMS_model_application/RBA_species.txt', 'w') as f:\n",
    "    f.write('\\n'.join(['/'] + species + ['/']))"
   ]
  },
  {
   "cell_type": "code",
   "execution_count": null,
   "metadata": {},
   "outputs": [],
   "source": [
    "cobra.io.save_json_model(model, newmodel_path)"
   ]
  },
  {
   "cell_type": "markdown",
   "metadata": {},
   "source": [
    " # Run FBA"
   ]
  },
  {
   "cell_type": "code",
   "execution_count": null,
   "metadata": {},
   "outputs": [],
   "source": [
    "fba_yields = {p:0 for p in prods}\n",
    "\n",
    "for p in prods:\n",
    "    if p in ['3hppa', '3hppb']:\n",
    "        exrxn = 'EX_3hpp_e'\n",
    "    else:\n",
    "        exrxn = 'EX_' + p + '_e'\n",
    "    if p in ['citm', 'polyhb']:\n",
    "        model.reactions.THRA_c.knock_out()\n",
    "    for r in prod_rxns[p]:\n",
    "        model.reactions.get_by_id(r).bounds = (0,1000)\n",
    "    model.reactions.get_by_id(exrxn).objective_coefficient = 1\n",
    "    fba = model.optimize()\n",
    "    \n",
    "    for r in prod_rxns[p]:\n",
    "        model.reactions.get_by_id(r).bounds = (0,0)\n",
    "    if p in ['citm', 'polyhb']:\n",
    "        model.reactions.THRA_c.bounds = (0,1000)\n",
    "    model.objective = dict()\n",
    "    \n",
    "    fba_yields[p] = fba[exrxn]\n",
    "    #print(p, fba.status, fba[exrxn], fba['EX_glc__D_e'])\n",
    "    print('product exchange flux: '+str(fba[exrxn]))\n",
    "    print('product exchange flux / glc uptake:',str(fba[exrxn]/fba['EX_glc__D_e']))"
   ]
  },
  {
   "cell_type": "markdown",
   "metadata": {},
   "source": [
    " # Create RBA files from template"
   ]
  },
  {
   "cell_type": "code",
   "execution_count": null,
   "metadata": {},
   "outputs": [],
   "source": [
    "# copy runRBA_max_prod.gms\n",
    "# if copy_input_files:\n",
    "# \tfor p in prods:\n",
    "\t\t# copy "
   ]
  },
  {
   "cell_type": "markdown",
   "metadata": {},
   "source": [
    " # Run RBA"
   ]
  },
  {
   "cell_type": "code",
   "execution_count": null,
   "metadata": {},
   "outputs": [],
   "source": [
    "# shutil.copy(os.path.join(path_gams, 'runRBA_max_prod.gms'),\n",
    "#             os.path.join(path_out, 'runRBA_max_prod.gms'));\n",
    "# shutil.copy(os.path.join(path_gams, 'cplex.opt'),\n",
    "#             os.path.join(path_out, 'cplex.opt'));\n",
    "\n",
    "for p in prods:\n",
    "        cmds = ['cd ' + p,\n",
    "                'module load gams',\n",
    "                'python3 runRBA.py']\n",
    "        os.system('\\n'.join(cmds))"
   ]
  },
  {
   "cell_type": "markdown",
   "metadata": {},
   "source": [
    " # Extract RBA yields"
   ]
  },
  {
   "cell_type": "code",
   "execution_count": null,
   "metadata": {},
   "outputs": [],
   "source": [
    "RBA_result_dict = dict()\n",
    "for p in prods:\n",
    "    with open('./output_max/' + p + '/report.txt') as f:\n",
    "        text = f.read().split('\\n')\n",
    "\n",
    "    for t in text:\n",
    "        k,v = t.split('\\t')\n",
    "        try:\n",
    "            RBA_result_dict[p][k] = float(v)\n",
    "        except:\n",
    "            RBA_result_dict[p][k] = v\n",
    "            \n",
    "    print(RBA_result_dict[p]['vprod'])\n",
    "    #print(resdict['vglc'])"
   ]
  },
  {
   "cell_type": "code",
   "execution_count": null,
   "metadata": {},
   "outputs": [],
   "source": [
    "# copy compiled_results_template.xlsx to compiled_results.xlsx\n",
    "shutil.copy(os.path.join('./compiled_results_template.xlsx'),\n",
    "\t\t\tos.path.join('./compiled_results.xlsx'))\n",
    "# write FBA yields to rateFBA column (2nd how has headers)\n",
    "df = pd.read_excel('./compiled_results.xlsx', header=1)\n",
    "for p in prods:\n",
    "\tdf.loc[df['product'] == p, 'rateFBA'] = fba_yields[p]\n",
    "\tdf.loc[df['product'] == p, 'rateRBA'] = RBA_result_dict[p]['vprod']\n",
    "df.to_excel('./compiled_results.xlsx', index=False)\n"
   ]
  }
 ],
 "metadata": {
  "kernelspec": {
   "display_name": "Python 3",
   "language": "python",
   "name": "python3"
  },
  "language_info": {
   "codemirror_mode": {
    "name": "ipython",
    "version": 3
   },
   "file_extension": ".py",
   "mimetype": "text/x-python",
   "name": "python",
   "nbconvert_exporter": "python",
   "pygments_lexer": "ipython3",
   "version": "3.9.16"
  }
 },
 "nbformat": 4,
 "nbformat_minor": 2
}
