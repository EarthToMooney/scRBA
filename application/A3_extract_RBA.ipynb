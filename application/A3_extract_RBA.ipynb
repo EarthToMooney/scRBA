{
 "cells": [
  {
   "cell_type": "code",
   "execution_count": 1,
   "metadata": {},
   "outputs": [],
   "source": [
    "import pandas as pd"
   ]
  },
  {
   "cell_type": "code",
   "execution_count": 2,
   "metadata": {},
   "outputs": [],
   "source": [
    "prods = ['hdca', 'hxdcol', 'tag', 'citm', 'btoh', 'polyhb', 'arte',\n",
    "         'sesqt', 'etoh', 'lac__L', 'btd', 'ibutoh', '3hppa', '3hppb',\n",
    "         'succ', 'mal__L', 'skm', 'muco', '4hbz', '4abz', '2phetoh',\n",
    "         'styr', 'cou', 'retcln', 'nrgn', 'rsvtol', 'glyc', '13ppd']"
   ]
  },
  {
   "cell_type": "code",
   "execution_count": 5,
   "metadata": {},
   "outputs": [
    {
     "name": "stdout",
     "output_type": "stream",
     "text": [
      "1.167394558809706\n",
      "1.156734374534694\n",
      "0.379858526025952\n",
      "15.29546907503841\n",
      "8.42894302709902\n",
      "10.9962296321202\n",
      "1.787924492648007\n",
      "1.793294438641017\n",
      "30.5975474669238\n",
      "29.64995773978482\n",
      "12.26421051767094\n",
      "7.183648339663244\n",
      "11.82535038422266\n",
      "26.21760838716819\n",
      "1.073271133580592\n",
      "25.63796788259069\n",
      "11.78386102891667\n",
      "12.62060033078392\n",
      "8.98165141999762\n",
      "6.64688669581234\n",
      "8.432151048987352\n",
      "7.963938076955749\n",
      "8.292047801415714\n",
      "0.372821513118826\n",
      "3.467089417591387\n",
      "3.467089417591387\n",
      "19.37957795489052\n",
      "11.83416573602794\n"
     ]
    }
   ],
   "source": [
    "for p in prods:\n",
    "    resdict = dict()\n",
    "    with open('./output_eval/' + p + '/report.txt') as f:\n",
    "        text = f.read().split('\\n')\n",
    "\n",
    "    for t in text:\n",
    "        k,v = t.split('\\t')\n",
    "        try:\n",
    "            resdict[k] = float(v)\n",
    "        except:\n",
    "            resdict[k] = v\n",
    "            \n",
    "    print(resdict['vprod'])\n",
    "    #print(resdict['vglc'])"
   ]
  },
  {
   "cell_type": "code",
   "execution_count": 8,
   "metadata": {},
   "outputs": [
    {
     "data": {
      "text/plain": [
       "{'stat': 'optimal',\n",
       " 'vglc': 9.5,\n",
       " 'vprod': 11.83774783269903,\n",
       " 'yield': 0.5262890480823457}"
      ]
     },
     "execution_count": 8,
     "metadata": {},
     "output_type": "execute_result"
    }
   ],
   "source": [
    "resdict"
   ]
  },
  {
   "cell_type": "code",
   "execution_count": 4,
   "metadata": {},
   "outputs": [
    {
     "data": {
      "text/plain": [
       "['stat\\toptimal',\n",
       " 'vglc\\t9.5',\n",
       " 'vprod\\t11.83774783269903',\n",
       " 'yield\\t0.5262890480823457']"
      ]
     },
     "execution_count": 4,
     "metadata": {},
     "output_type": "execute_result"
    }
   ],
   "source": [
    "text"
   ]
  },
  {
   "cell_type": "code",
   "execution_count": null,
   "metadata": {},
   "outputs": [],
   "source": []
  }
 ],
 "metadata": {
  "kernelspec": {
   "display_name": "Python 3",
   "language": "python",
   "name": "python3"
  },
  "language_info": {
   "codemirror_mode": {
    "name": "ipython",
    "version": 3
   },
   "file_extension": ".py",
   "mimetype": "text/x-python",
   "name": "python",
   "nbconvert_exporter": "python",
   "pygments_lexer": "ipython3",
   "version": "3.7.9"
  }
 },
 "nbformat": 4,
 "nbformat_minor": 4
}
