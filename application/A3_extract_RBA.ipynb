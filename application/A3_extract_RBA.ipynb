{
 "cells": [
  {
   "cell_type": "code",
   "execution_count": 1,
   "metadata": {},
   "outputs": [],
   "source": [
    "import pandas as pd"
   ]
  },
  {
   "cell_type": "code",
   "execution_count": 2,
   "metadata": {},
   "outputs": [],
   "source": [
    "prods = ['hdca', 'hxdcol', 'tag', 'citm', 'btoh', 'polyhb', 'arte',\n",
    "         'sesqt', 'etoh', 'lac__L', 'btd', 'ibutoh', '3hppa', '3hppb',\n",
    "         'succ', 'mal__L', 'skm', 'muco', '4hbz', '4abz', '2phetoh',\n",
    "         'styr', 'cou', 'retcln', 'nrgn', 'rsvtol', 'glyc', '13ppd']"
   ]
  },
  {
   "cell_type": "code",
   "execution_count": 4,
   "metadata": {},
   "outputs": [
    {
     "name": "stdout",
     "output_type": "stream",
     "text": [
      "1.218127355213496\n",
      "1.186788386212443\n",
      "0.395523867583504\n",
      "12.4994944594464\n",
      "10.17562539325008\n",
      "12.103362269041899\n",
      "2.292473412023734\n",
      "2.435772802898748\n",
      "25.00416606288313\n",
      "24.05711251446182\n",
      "12.90769250690189\n",
      "6.580719441004766\n",
      "12.217786398521447\n",
      "21.424944144486002\n",
      "1.210408709429328\n",
      "20.80177569567583\n",
      "9.561500344936592\n",
      "10.240355518090107\n",
      "8.839546268750714\n",
      "7.364336889221685\n",
      "6.842141185801959\n",
      "6.644169068549354\n",
      "6.964953332075446\n",
      "0.374972893941748\n",
      "3.598972673079624\n",
      "3.598972673079624\n",
      "19.30391425621638\n",
      "15.224944703445614\n"
     ]
    }
   ],
   "source": [
    "for p in prods:\n",
    "    resdict = dict()\n",
    "    with open('./output_max/' + p + '/report.txt') as f:\n",
    "        text = f.read().split('\\n')\n",
    "\n",
    "    for t in text:\n",
    "        k,v = t.split('\\t')\n",
    "        try:\n",
    "            resdict[k] = float(v)\n",
    "        except:\n",
    "            resdict[k] = v\n",
    "            \n",
    "    print(resdict['vprod'])\n",
    "    #print(resdict['vglc'])"
   ]
  },
  {
   "cell_type": "code",
   "execution_count": 8,
   "metadata": {},
   "outputs": [
    {
     "data": {
      "text/plain": [
       "{'stat': 'optimal',\n",
       " 'vglc': 9.5,\n",
       " 'vprod': 11.83774783269903,\n",
       " 'yield': 0.5262890480823457}"
      ]
     },
     "execution_count": 8,
     "metadata": {},
     "output_type": "execute_result"
    }
   ],
   "source": [
    "resdict"
   ]
  },
  {
   "cell_type": "code",
   "execution_count": 4,
   "metadata": {},
   "outputs": [
    {
     "data": {
      "text/plain": [
       "['stat\\toptimal',\n",
       " 'vglc\\t9.5',\n",
       " 'vprod\\t11.83774783269903',\n",
       " 'yield\\t0.5262890480823457']"
      ]
     },
     "execution_count": 4,
     "metadata": {},
     "output_type": "execute_result"
    }
   ],
   "source": [
    "text"
   ]
  },
  {
   "cell_type": "code",
   "execution_count": null,
   "metadata": {},
   "outputs": [],
   "source": []
  }
 ],
 "metadata": {
  "kernelspec": {
   "display_name": "Python 3",
   "language": "python",
   "name": "python3"
  },
  "language_info": {
   "codemirror_mode": {
    "name": "ipython",
    "version": 3
   },
   "file_extension": ".py",
   "mimetype": "text/x-python",
   "name": "python",
   "nbconvert_exporter": "python",
   "pygments_lexer": "ipython3",
   "version": "3.7.9"
  }
 },
 "nbformat": 4,
 "nbformat_minor": 4
}
