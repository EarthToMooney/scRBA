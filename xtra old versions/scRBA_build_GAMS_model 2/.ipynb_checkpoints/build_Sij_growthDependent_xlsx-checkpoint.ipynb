{
 "cells": [
  {
   "cell_type": "code",
   "execution_count": 1,
   "metadata": {},
   "outputs": [],
   "source": [
    "import pandas as pd\n",
    "from custom_functions_scRBA import *"
   ]
  },
  {
   "cell_type": "code",
   "execution_count": 2,
   "metadata": {},
   "outputs": [],
   "source": [
    "#### LOAD INPUTS AND PARAMETERS\n",
    "# Stoichiometry\n",
    "df_stoich = pd.read_excel('./model/RBA_stoichiometry.xlsx')\n",
    "df_stoich.index = df_stoich.id.to_list()\n",
    "\n",
    "# Enzymes' apparent turnover rates (k_app) (unit: 1/s)\n",
    "# (script will convert the unit to 1/h)\n",
    "df_kapp = pd.read_excel('./input/PARAMS_kapp_compiled.xlsx')\n",
    "df_kapp.index = df_kapp.id.to_list()\n",
    "\n",
    "# Load protein sequence lengths\n",
    "df_pro = pd.read_excel('./input/PROTEIN_stoich_curation_2021-09-28.xlsx')\n",
    "df_pro.index = df_pro.id.to_list()\n",
    "\n",
    "# Ribosome efficiency (amino acids translated per active ribosome per second)\n",
    "# (script will convert the unit to per hour)\n",
    "kribo = 10.5\n",
    "\n",
    "# Dummy protein's length (assigned to be the median protein length)\n",
    "NAA_dummy = 401"
   ]
  },
  {
   "cell_type": "code",
   "execution_count": 3,
   "metadata": {},
   "outputs": [],
   "source": [
    "#### BUILD GROWTH-DEPENDENT STOICHIOMETRY IN STRING FORM FOR PYTHON's eval\n",
    "df_sij = pd.DataFrame(columns=['species', 'reaction', 'Sij'])\n",
    "\n",
    "# Active ribosome ratio\n",
    "i = 'RIBOSYN-ribonucactive'\n",
    "df_sij.loc[i, 'species'] = 'RIBO-ribonucactive'\n",
    "df_sij.loc[i, 'reaction'] = 'RIBOSYN-ribonucactive'\n",
    "df_sij.loc[i, 'Sij'] = 'mu / (mu + 0.15845)'\n",
    "\n",
    "i = 'RIBOSYN-ribomitoactive'\n",
    "df_sij.loc[i, 'species'] = 'RIBO-ribomitoactive'\n",
    "df_sij.loc[i, 'reaction'] = 'RIBOSYN-ribomitoactive'\n",
    "df_sij.loc[i, 'Sij'] = 'mu / (mu + 0.15845)'\n",
    "\n",
    "# Protein translation requirement coupled to metabolic fluxes\n",
    "idx = df_stoich[df_stoich.symbolic_coeffs == 'mu/kapp'].index\n",
    "for i in idx:\n",
    "    met_dict = metabolites_dict_from_reaction_equation_RBA(df_stoich.reaction[i])\n",
    "    for k,v in met_dict.items():\n",
    "        if k != '' and is_number(v) == False:\n",
    "            enz_id = k\n",
    "    df_sij.loc[i, 'species'] = enz_id\n",
    "    df_sij.loc[i, 'reaction'] = i\n",
    "    df_sij.loc[i, 'Sij'] = str(round(-1. / df_kapp.loc[i, 'kapp (1/s)'] / 3600, 14)) + ' * mu'\n",
    "    \n",
    "# Ribosome synthesis requirement coupled to protein translation\n",
    "idx = df_stoich[df_stoich.symbolic_coeffs == 'mu*NAA/kribo'].index\n",
    "for i in idx:\n",
    "    met_dict = metabolites_dict_from_reaction_equation_RBA(df_stoich.reaction[i])\n",
    "    for k,v in met_dict.items():\n",
    "        if k != '' and is_number(v) == False:\n",
    "            ribo_id = k\n",
    "            \n",
    "    pro_id = i[7:]\n",
    "    if pro_id == 'PROTDUMMY':\n",
    "        NAA = NAA_dummy\n",
    "    else:\n",
    "        NAA = len(df_pro.sequence[pro_id]) - 1\n",
    "            \n",
    "    df_sij.loc[i, 'species'] = ribo_id\n",
    "    df_sij.loc[i, 'reaction'] = i\n",
    "    df_sij.loc[i, 'Sij'] = str(round(-float(NAA) / kribo / 3600, 14)) + ' * mu'"
   ]
  },
  {
   "cell_type": "code",
   "execution_count": 4,
   "metadata": {},
   "outputs": [],
   "source": [
    "df_sij.to_excel('./model/RBA_growthDependent_Sij_frompy.xlsx', index=False)"
   ]
  },
  {
   "cell_type": "code",
   "execution_count": null,
   "metadata": {},
   "outputs": [],
   "source": []
  }
 ],
 "metadata": {
  "kernelspec": {
   "display_name": "Python 3",
   "language": "python",
   "name": "python3"
  },
  "language_info": {
   "codemirror_mode": {
    "name": "ipython",
    "version": 3
   },
   "file_extension": ".py",
   "mimetype": "text/x-python",
   "name": "python",
   "nbconvert_exporter": "python",
   "pygments_lexer": "ipython3",
   "version": "3.7.9"
  }
 },
 "nbformat": 4,
 "nbformat_minor": 4
}
