{
 "cells": [
  {
   "cell_type": "code",
   "execution_count": 3,
   "metadata": {},
   "outputs": [],
   "source": [
    "import cobra\n",
    "import pandas as pd\n",
    "from copy import deepcopy\n",
    "\n",
    "import sys\n",
    "sys.path.append('/home/hvdinh16/Workspace/workpy3/RBA/scRBA/')\n",
    "from custom_functions_scRBA import *"
   ]
  },
  {
   "cell_type": "code",
   "execution_count": null,
   "metadata": {},
   "outputs": [],
   "source": [
    "#### LOAD INPUTS\n",
    "# COBRA model containing static stoichiometry\n",
    "model = cobra.io.load_json_model('./model/RBA_constantSij.cobra.json')\n",
    "model.solver = 'cplex'\n",
    "model.solver.configuration.tolerances.feasibility = 1e-8\n",
    "model.solver.configuration.tolerances.optimality = 1e-8\n",
    "\n",
    "# Growth-dependent stoichiometry\n",
    "df_sij_mu = pd.read_excel('./model/RBA_growthDependent_Sij.xlsx')\n",
    "\n",
    "# Add sinks for debugging purposes\n",
    "rxnid = 'DEBUG-ribonucactive'\n",
    "model.add_reactions([cobra.Reaction(rxnid)])\n",
    "rxn = model.reactions.get_by_id(rxnid)\n",
    "rxn.reaction = 'RIBO-ribonuc --> RIBO-ribonucactive'\n",
    "rxn.bounds = (0,0)\n",
    "\n",
    "rxnid = 'DEBUG-ribomitoactive'\n",
    "model.add_reactions([cobra.Reaction(rxnid)])\n",
    "rxn = model.reactions.get_by_id(rxnid)\n",
    "rxn.reaction = 'RIBO-ribomito --> RIBO-ribomitoactive'\n",
    "rxn.bounds = (0,0)\n",
    "\n",
    "rxnid = 'DEBUG-rrnasink'\n",
    "model.add_reactions([cobra.Reaction(rxnid)])\n",
    "rxn = model.reactions.get_by_id(rxnid)\n",
    "rxn.reaction = 'BIO-rrna --> '\n",
    "rxn.bounds = (0,0)"
   ]
  }
 ],
 "metadata": {
  "kernelspec": {
   "display_name": "Python 3",
   "language": "python",
   "name": "python3"
  },
  "language_info": {
   "codemirror_mode": {
    "name": "ipython",
    "version": 3
   },
   "file_extension": ".py",
   "mimetype": "text/x-python",
   "name": "python",
   "nbconvert_exporter": "python",
   "pygments_lexer": "ipython3",
   "version": "3.7.9"
  }
 },
 "nbformat": 4,
 "nbformat_minor": 4
}
