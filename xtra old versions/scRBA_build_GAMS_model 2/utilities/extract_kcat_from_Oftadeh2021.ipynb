{
 "cells": [
  {
   "cell_type": "code",
   "execution_count": 1,
   "metadata": {},
   "outputs": [],
   "source": [
    "import pandas as pd\n",
    "\n",
    "import sys\n",
    "sys.path.append('../')\n",
    "from custom_functions_scRBA import extract_details_from_rxnid"
   ]
  },
  {
   "cell_type": "markdown",
   "metadata": {},
   "source": [
    "#### Model"
   ]
  },
  {
   "cell_type": "code",
   "execution_count": 2,
   "metadata": {},
   "outputs": [],
   "source": [
    "df_model = pd.read_excel('../model/scRAM_network_frompy.xlsx')"
   ]
  },
  {
   "cell_type": "markdown",
   "metadata": {},
   "source": [
    "#### kcat data from Oftadeh2021"
   ]
  },
  {
   "cell_type": "code",
   "execution_count": null,
   "metadata": {},
   "outputs": [],
   "source": [
    "df_kcat1 = pd.read_excel('../input/raw/Oftadeh2021_info_yeast/enzyme2kcat.xlsx')\n",
    "df_kcat1 = pd.read_excel('../input/raw/Oftadeh2021_info_yeast/enzyme2kcat.xlsx')"
   ]
  },
  {
   "cell_type": "code",
   "execution_count": null,
   "metadata": {},
   "outputs": [],
   "source": []
  },
  {
   "cell_type": "code",
   "execution_count": 3,
   "metadata": {},
   "outputs": [
    {
     "data": {
      "text/html": [
       "<div>\n",
       "<style scoped>\n",
       "    .dataframe tbody tr th:only-of-type {\n",
       "        vertical-align: middle;\n",
       "    }\n",
       "\n",
       "    .dataframe tbody tr th {\n",
       "        vertical-align: top;\n",
       "    }\n",
       "\n",
       "    .dataframe thead th {\n",
       "        text-align: right;\n",
       "    }\n",
       "</style>\n",
       "<table border=\"1\" class=\"dataframe\">\n",
       "  <thead>\n",
       "    <tr style=\"text-align: right;\">\n",
       "      <th></th>\n",
       "      <th>id</th>\n",
       "      <th>type</th>\n",
       "      <th>symbolic_coeffs</th>\n",
       "      <th>reaction</th>\n",
       "    </tr>\n",
       "  </thead>\n",
       "  <tbody>\n",
       "    <tr>\n",
       "      <th>0</th>\n",
       "      <td>RXN-BTDDH_c_FWD-YAL060W</td>\n",
       "      <td>metabolic</td>\n",
       "      <td>mu/keff</td>\n",
       "      <td>MET-btd_c + MET-nad_c + mu/keff ENZ-YAL060W --...</td>\n",
       "    </tr>\n",
       "    <tr>\n",
       "      <th>1</th>\n",
       "      <td>RXN-BTDDH_c_REV-YAL060W</td>\n",
       "      <td>metabolic</td>\n",
       "      <td>mu/keff</td>\n",
       "      <td>MET-actn__R_c + MET-h_c + MET-nadh_c + mu/keff...</td>\n",
       "    </tr>\n",
       "    <tr>\n",
       "      <th>2</th>\n",
       "      <td>RXN-13GS_c_FWD-GSC2RHO1</td>\n",
       "      <td>metabolic</td>\n",
       "      <td>mu/keff</td>\n",
       "      <td>MET-udpg_c + mu/keff ENZ-GSC2RHO1 --&gt; MET-13BD...</td>\n",
       "    </tr>\n",
       "    <tr>\n",
       "      <th>3</th>\n",
       "      <td>RXN-13GS_c_FWD-GSC1RHO1</td>\n",
       "      <td>metabolic</td>\n",
       "      <td>mu/keff</td>\n",
       "      <td>MET-udpg_c + mu/keff ENZ-GSC1RHO1 --&gt; MET-13BD...</td>\n",
       "    </tr>\n",
       "    <tr>\n",
       "      <th>4</th>\n",
       "      <td>RXN-16GS_c_FWD-YPR159W</td>\n",
       "      <td>metabolic</td>\n",
       "      <td>mu/keff</td>\n",
       "      <td>MET-udpg_c + mu/keff ENZ-YPR159W --&gt; MET-16BDg...</td>\n",
       "    </tr>\n",
       "    <tr>\n",
       "      <th>...</th>\n",
       "      <td>...</td>\n",
       "      <td>...</td>\n",
       "      <td>...</td>\n",
       "      <td>...</td>\n",
       "    </tr>\n",
       "    <tr>\n",
       "      <th>5475</th>\n",
       "      <td>BIO-COFACTOR8</td>\n",
       "      <td>biomass</td>\n",
       "      <td>NaN</td>\n",
       "      <td>MET-ribflv_c --&gt; 0.375356 BIO-ribflv_c</td>\n",
       "    </tr>\n",
       "    <tr>\n",
       "      <th>5476</th>\n",
       "      <td>BIO-COFACTOR9</td>\n",
       "      <td>biomass</td>\n",
       "      <td>NaN</td>\n",
       "      <td>MET-thf_c --&gt; 0.443413 BIO-thf_c</td>\n",
       "    </tr>\n",
       "    <tr>\n",
       "      <th>5477</th>\n",
       "      <td>BIO-COFACTOR10</td>\n",
       "      <td>biomass</td>\n",
       "      <td>NaN</td>\n",
       "      <td>MET-thmpp_c --&gt; 0.422291 BIO-thmpp_c</td>\n",
       "    </tr>\n",
       "    <tr>\n",
       "      <th>5478</th>\n",
       "      <td>BIO-SO4</td>\n",
       "      <td>biomass</td>\n",
       "      <td>NaN</td>\n",
       "      <td>MET-so4_c --&gt; 0.096063 BIO-so4_c</td>\n",
       "    </tr>\n",
       "    <tr>\n",
       "      <th>5479</th>\n",
       "      <td>BIO-PI</td>\n",
       "      <td>biomass</td>\n",
       "      <td>NaN</td>\n",
       "      <td>MET-pi_c --&gt; 0.095979 BIO-pi_c</td>\n",
       "    </tr>\n",
       "  </tbody>\n",
       "</table>\n",
       "<p>5480 rows × 4 columns</p>\n",
       "</div>"
      ],
      "text/plain": [
       "                           id       type symbolic_coeffs  \\\n",
       "0     RXN-BTDDH_c_FWD-YAL060W  metabolic         mu/keff   \n",
       "1     RXN-BTDDH_c_REV-YAL060W  metabolic         mu/keff   \n",
       "2     RXN-13GS_c_FWD-GSC2RHO1  metabolic         mu/keff   \n",
       "3     RXN-13GS_c_FWD-GSC1RHO1  metabolic         mu/keff   \n",
       "4      RXN-16GS_c_FWD-YPR159W  metabolic         mu/keff   \n",
       "...                       ...        ...             ...   \n",
       "5475            BIO-COFACTOR8    biomass             NaN   \n",
       "5476            BIO-COFACTOR9    biomass             NaN   \n",
       "5477           BIO-COFACTOR10    biomass             NaN   \n",
       "5478                  BIO-SO4    biomass             NaN   \n",
       "5479                   BIO-PI    biomass             NaN   \n",
       "\n",
       "                                               reaction  \n",
       "0     MET-btd_c + MET-nad_c + mu/keff ENZ-YAL060W --...  \n",
       "1     MET-actn__R_c + MET-h_c + MET-nadh_c + mu/keff...  \n",
       "2     MET-udpg_c + mu/keff ENZ-GSC2RHO1 --> MET-13BD...  \n",
       "3     MET-udpg_c + mu/keff ENZ-GSC1RHO1 --> MET-13BD...  \n",
       "4     MET-udpg_c + mu/keff ENZ-YPR159W --> MET-16BDg...  \n",
       "...                                                 ...  \n",
       "5475             MET-ribflv_c --> 0.375356 BIO-ribflv_c  \n",
       "5476                   MET-thf_c --> 0.443413 BIO-thf_c  \n",
       "5477               MET-thmpp_c --> 0.422291 BIO-thmpp_c  \n",
       "5478                   MET-so4_c --> 0.096063 BIO-so4_c  \n",
       "5479                     MET-pi_c --> 0.095979 BIO-pi_c  \n",
       "\n",
       "[5480 rows x 4 columns]"
      ]
     },
     "execution_count": 3,
     "metadata": {},
     "output_type": "execute_result"
    }
   ],
   "source": [
    "df_model"
   ]
  },
  {
   "cell_type": "code",
   "execution_count": null,
   "metadata": {},
   "outputs": [],
   "source": []
  },
  {
   "cell_type": "markdown",
   "metadata": {},
   "source": [
    "#### Scripts to test and learn data"
   ]
  },
  {
   "cell_type": "code",
   "execution_count": null,
   "metadata": {},
   "outputs": [],
   "source": [
    "df_model = pd.read_excel('../model/scRAM_network_frompy.xlsx')\n",
    "df_model = df_model[df_model.type == 'metabolic']\n",
    "df_model.index = df_model.id.to_list()"
   ]
  },
  {
   "cell_type": "code",
   "execution_count": 116,
   "metadata": {},
   "outputs": [],
   "source": [
    "df_enz = pd.read_excel('../input/ENZYME_stoich_curation_2021-09-30.xlsx')"
   ]
  },
  {
   "cell_type": "code",
   "execution_count": 117,
   "metadata": {},
   "outputs": [],
   "source": [
    "df_kcat = pd.read_excel('../input/raw/gecko_enzyme_rxn_pairs_Oftadeh2021.xls')"
   ]
  },
  {
   "cell_type": "code",
   "execution_count": 118,
   "metadata": {},
   "outputs": [],
   "source": [
    "for i in df_kcat.index:\n",
    "    cplx = df_kcat.composition[i]\n",
    "    df = df_enz[df_enz.gpr.str.contains('^'+cplx+'_?.{0,2}')]\n",
    "    if df.shape[0] > 0.5:\n",
    "        rxns = ','.join(df.id)\n",
    "        df_kcat.loc[i, 'rxn_match'] = rxns"
   ]
  },
  {
   "cell_type": "code",
   "execution_count": 126,
   "metadata": {},
   "outputs": [],
   "source": [
    "df_kcat.to_excel('../input/PARAMS_kapp_GECKO_kcat_frompy.xlsx', index=False)"
   ]
  },
  {
   "cell_type": "code",
   "execution_count": null,
   "metadata": {},
   "outputs": [],
   "source": []
  },
  {
   "cell_type": "code",
   "execution_count": null,
   "metadata": {},
   "outputs": [],
   "source": []
  },
  {
   "cell_type": "code",
   "execution_count": 86,
   "metadata": {},
   "outputs": [],
   "source": [
    "df = df_kcat[df_kcat.composition.str.contains('//')]"
   ]
  },
  {
   "cell_type": "code",
   "execution_count": 88,
   "metadata": {},
   "outputs": [],
   "source": [
    "df.to_excel('../input/PARAMS_kapp_complex_match.xlsx', index=False)"
   ]
  },
  {
   "cell_type": "code",
   "execution_count": 78,
   "metadata": {},
   "outputs": [],
   "source": [
    "tuple_kcat = dict()\n",
    "for i in df_kcat.index:\n",
    "    tuple_kcat[tuple(df_kcat.composition[i].split('//'))] = df_kcat.kcat[i]"
   ]
  },
  {
   "cell_type": "code",
   "execution_count": 83,
   "metadata": {},
   "outputs": [
    {
     "data": {
      "text/html": [
       "<div>\n",
       "<style scoped>\n",
       "    .dataframe tbody tr th:only-of-type {\n",
       "        vertical-align: middle;\n",
       "    }\n",
       "\n",
       "    .dataframe tbody tr th {\n",
       "        vertical-align: top;\n",
       "    }\n",
       "\n",
       "    .dataframe thead th {\n",
       "        text-align: right;\n",
       "    }\n",
       "</style>\n",
       "<table border=\"1\" class=\"dataframe\">\n",
       "  <thead>\n",
       "    <tr style=\"text-align: right;\">\n",
       "      <th></th>\n",
       "      <th>id</th>\n",
       "      <th>rxn_src</th>\n",
       "      <th>enz</th>\n",
       "      <th>gpr</th>\n",
       "      <th>protein_stoich</th>\n",
       "      <th>subunit_comments</th>\n",
       "      <th>status</th>\n",
       "      <th>MW (g/mmol)</th>\n",
       "    </tr>\n",
       "  </thead>\n",
       "  <tbody>\n",
       "    <tr>\n",
       "      <th>0</th>\n",
       "      <td>RXN-BTDDH_c_FWD-YAL060W</td>\n",
       "      <td>BTDDH_c</td>\n",
       "      <td>YAL060W</td>\n",
       "      <td>YAL060W</td>\n",
       "      <td>YAL060W:2</td>\n",
       "      <td>NaN</td>\n",
       "      <td>protStoichAsgnAuto</td>\n",
       "      <td>91.17410</td>\n",
       "    </tr>\n",
       "    <tr>\n",
       "      <th>1</th>\n",
       "      <td>RXN-BTDDH_c_REV-YAL060W</td>\n",
       "      <td>BTDDH_c</td>\n",
       "      <td>YAL060W</td>\n",
       "      <td>YAL060W</td>\n",
       "      <td>YAL060W:2</td>\n",
       "      <td>NaN</td>\n",
       "      <td>protStoichAsgnAuto</td>\n",
       "      <td>91.17410</td>\n",
       "    </tr>\n",
       "    <tr>\n",
       "      <th>2</th>\n",
       "      <td>RXN-13GS_c_FWD-GSC2RHO1</td>\n",
       "      <td>13GS_c</td>\n",
       "      <td>GSC2RHO1</td>\n",
       "      <td>YLR342W and YPR165W</td>\n",
       "      <td>YLR342W:1,YPR165W:1</td>\n",
       "      <td>Component of the 1,3-beta-glucan synthase (GS)...</td>\n",
       "      <td>protStoichAsgnManual</td>\n",
       "      <td>238.33867</td>\n",
       "    </tr>\n",
       "    <tr>\n",
       "      <th>3</th>\n",
       "      <td>RXN-13GS_c_FWD-GSC1RHO1</td>\n",
       "      <td>13GS_c</td>\n",
       "      <td>GSC1RHO1</td>\n",
       "      <td>YGR032W and YPR165W</td>\n",
       "      <td>YGR032W:1,YPR165W:1</td>\n",
       "      <td>Component of the 1,3-beta-glucan synthase (GS)...</td>\n",
       "      <td>protStoichAsgnManual</td>\n",
       "      <td>241.31742</td>\n",
       "    </tr>\n",
       "    <tr>\n",
       "      <th>4</th>\n",
       "      <td>RXN-16GS_c_FWD-YPR159W</td>\n",
       "      <td>16GS_c</td>\n",
       "      <td>YPR159W</td>\n",
       "      <td>YPR159W</td>\n",
       "      <td>YPR159W:1</td>\n",
       "      <td>The cytoplasmic domain interacts with the acti...</td>\n",
       "      <td>protStoichAsgnManual</td>\n",
       "      <td>81.57498</td>\n",
       "    </tr>\n",
       "  </tbody>\n",
       "</table>\n",
       "</div>"
      ],
      "text/plain": [
       "                        id  rxn_src       enz                  gpr  \\\n",
       "0  RXN-BTDDH_c_FWD-YAL060W  BTDDH_c   YAL060W              YAL060W   \n",
       "1  RXN-BTDDH_c_REV-YAL060W  BTDDH_c   YAL060W              YAL060W   \n",
       "2  RXN-13GS_c_FWD-GSC2RHO1   13GS_c  GSC2RHO1  YLR342W and YPR165W   \n",
       "3  RXN-13GS_c_FWD-GSC1RHO1   13GS_c  GSC1RHO1  YGR032W and YPR165W   \n",
       "4   RXN-16GS_c_FWD-YPR159W   16GS_c   YPR159W              YPR159W   \n",
       "\n",
       "        protein_stoich                                   subunit_comments  \\\n",
       "0            YAL060W:2                                                NaN   \n",
       "1            YAL060W:2                                                NaN   \n",
       "2  YLR342W:1,YPR165W:1  Component of the 1,3-beta-glucan synthase (GS)...   \n",
       "3  YGR032W:1,YPR165W:1  Component of the 1,3-beta-glucan synthase (GS)...   \n",
       "4            YPR159W:1  The cytoplasmic domain interacts with the acti...   \n",
       "\n",
       "                 status  MW (g/mmol)  \n",
       "0    protStoichAsgnAuto     91.17410  \n",
       "1    protStoichAsgnAuto     91.17410  \n",
       "2  protStoichAsgnManual    238.33867  \n",
       "3  protStoichAsgnManual    241.31742  \n",
       "4  protStoichAsgnManual     81.57498  "
      ]
     },
     "execution_count": 83,
     "metadata": {},
     "output_type": "execute_result"
    }
   ],
   "source": [
    "df_enz.head()"
   ]
  },
  {
   "cell_type": "code",
   "execution_count": 77,
   "metadata": {},
   "outputs": [
    {
     "data": {
      "text/html": [
       "<div>\n",
       "<style scoped>\n",
       "    .dataframe tbody tr th:only-of-type {\n",
       "        vertical-align: middle;\n",
       "    }\n",
       "\n",
       "    .dataframe tbody tr th {\n",
       "        vertical-align: top;\n",
       "    }\n",
       "\n",
       "    .dataframe thead th {\n",
       "        text-align: right;\n",
       "    }\n",
       "</style>\n",
       "<table border=\"1\" class=\"dataframe\">\n",
       "  <thead>\n",
       "    <tr style=\"text-align: right;\">\n",
       "      <th></th>\n",
       "      <th>composition</th>\n",
       "      <th>rxnId</th>\n",
       "      <th>kcat</th>\n",
       "    </tr>\n",
       "  </thead>\n",
       "  <tbody>\n",
       "    <tr>\n",
       "      <th>0</th>\n",
       "      <td>YEL039C//YDL174C</td>\n",
       "      <td>NaN</td>\n",
       "      <td>1499.961001</td>\n",
       "    </tr>\n",
       "    <tr>\n",
       "      <th>1</th>\n",
       "      <td>YDL174C//YJR048W</td>\n",
       "      <td>NaN</td>\n",
       "      <td>1499.961001</td>\n",
       "    </tr>\n",
       "    <tr>\n",
       "      <th>2</th>\n",
       "      <td>YEL039C//YEL071W</td>\n",
       "      <td>NaN</td>\n",
       "      <td>1499.961001</td>\n",
       "    </tr>\n",
       "    <tr>\n",
       "      <th>3</th>\n",
       "      <td>YJR048W//YEL071W</td>\n",
       "      <td>NaN</td>\n",
       "      <td>1499.961001</td>\n",
       "    </tr>\n",
       "    <tr>\n",
       "      <th>4</th>\n",
       "      <td>YEL039C//YDL178W</td>\n",
       "      <td>NaN</td>\n",
       "      <td>1499.961001</td>\n",
       "    </tr>\n",
       "  </tbody>\n",
       "</table>\n",
       "</div>"
      ],
      "text/plain": [
       "        composition rxnId         kcat\n",
       "0  YEL039C//YDL174C   NaN  1499.961001\n",
       "1  YDL174C//YJR048W   NaN  1499.961001\n",
       "2  YEL039C//YEL071W   NaN  1499.961001\n",
       "3  YJR048W//YEL071W   NaN  1499.961001\n",
       "4  YEL039C//YDL178W   NaN  1499.961001"
      ]
     },
     "execution_count": 77,
     "metadata": {},
     "output_type": "execute_result"
    }
   ],
   "source": [
    "df_kcat.head()"
   ]
  },
  {
   "cell_type": "code",
   "execution_count": 81,
   "metadata": {},
   "outputs": [
    {
     "data": {
      "text/html": [
       "<div>\n",
       "<style scoped>\n",
       "    .dataframe tbody tr th:only-of-type {\n",
       "        vertical-align: middle;\n",
       "    }\n",
       "\n",
       "    .dataframe tbody tr th {\n",
       "        vertical-align: top;\n",
       "    }\n",
       "\n",
       "    .dataframe thead th {\n",
       "        text-align: right;\n",
       "    }\n",
       "</style>\n",
       "<table border=\"1\" class=\"dataframe\">\n",
       "  <thead>\n",
       "    <tr style=\"text-align: right;\">\n",
       "      <th></th>\n",
       "      <th>id</th>\n",
       "      <th>type</th>\n",
       "      <th>symbolic_coeffs</th>\n",
       "      <th>reaction</th>\n",
       "    </tr>\n",
       "  </thead>\n",
       "  <tbody>\n",
       "    <tr>\n",
       "      <th>RXN-BTDDH_c_FWD-YAL060W</th>\n",
       "      <td>RXN-BTDDH_c_FWD-YAL060W</td>\n",
       "      <td>metabolic</td>\n",
       "      <td>mu/kapp</td>\n",
       "      <td>MET-btd_c + MET-nad_c + mu/kapp ENZ-YAL060W --...</td>\n",
       "    </tr>\n",
       "    <tr>\n",
       "      <th>RXN-BTDDH_c_REV-YAL060W</th>\n",
       "      <td>RXN-BTDDH_c_REV-YAL060W</td>\n",
       "      <td>metabolic</td>\n",
       "      <td>mu/kapp</td>\n",
       "      <td>MET-actn__R_c + MET-h_c + MET-nadh_c + mu/kapp...</td>\n",
       "    </tr>\n",
       "    <tr>\n",
       "      <th>RXN-13GS_c_FWD-GSC2RHO1</th>\n",
       "      <td>RXN-13GS_c_FWD-GSC2RHO1</td>\n",
       "      <td>metabolic</td>\n",
       "      <td>mu/kapp</td>\n",
       "      <td>MET-udpg_c + mu/kapp ENZ-GSC2RHO1 --&gt; MET-13BD...</td>\n",
       "    </tr>\n",
       "    <tr>\n",
       "      <th>RXN-13GS_c_FWD-GSC1RHO1</th>\n",
       "      <td>RXN-13GS_c_FWD-GSC1RHO1</td>\n",
       "      <td>metabolic</td>\n",
       "      <td>mu/kapp</td>\n",
       "      <td>MET-udpg_c + mu/kapp ENZ-GSC1RHO1 --&gt; MET-13BD...</td>\n",
       "    </tr>\n",
       "    <tr>\n",
       "      <th>RXN-16GS_c_FWD-YPR159W</th>\n",
       "      <td>RXN-16GS_c_FWD-YPR159W</td>\n",
       "      <td>metabolic</td>\n",
       "      <td>mu/kapp</td>\n",
       "      <td>MET-udpg_c + mu/kapp ENZ-YPR159W --&gt; MET-16BDg...</td>\n",
       "    </tr>\n",
       "  </tbody>\n",
       "</table>\n",
       "</div>"
      ],
      "text/plain": [
       "                                              id       type symbolic_coeffs  \\\n",
       "RXN-BTDDH_c_FWD-YAL060W  RXN-BTDDH_c_FWD-YAL060W  metabolic         mu/kapp   \n",
       "RXN-BTDDH_c_REV-YAL060W  RXN-BTDDH_c_REV-YAL060W  metabolic         mu/kapp   \n",
       "RXN-13GS_c_FWD-GSC2RHO1  RXN-13GS_c_FWD-GSC2RHO1  metabolic         mu/kapp   \n",
       "RXN-13GS_c_FWD-GSC1RHO1  RXN-13GS_c_FWD-GSC1RHO1  metabolic         mu/kapp   \n",
       "RXN-16GS_c_FWD-YPR159W    RXN-16GS_c_FWD-YPR159W  metabolic         mu/kapp   \n",
       "\n",
       "                                                                  reaction  \n",
       "RXN-BTDDH_c_FWD-YAL060W  MET-btd_c + MET-nad_c + mu/kapp ENZ-YAL060W --...  \n",
       "RXN-BTDDH_c_REV-YAL060W  MET-actn__R_c + MET-h_c + MET-nadh_c + mu/kapp...  \n",
       "RXN-13GS_c_FWD-GSC2RHO1  MET-udpg_c + mu/kapp ENZ-GSC2RHO1 --> MET-13BD...  \n",
       "RXN-13GS_c_FWD-GSC1RHO1  MET-udpg_c + mu/kapp ENZ-GSC1RHO1 --> MET-13BD...  \n",
       "RXN-16GS_c_FWD-YPR159W   MET-udpg_c + mu/kapp ENZ-YPR159W --> MET-16BDg...  "
      ]
     },
     "execution_count": 81,
     "metadata": {},
     "output_type": "execute_result"
    }
   ],
   "source": [
    "df_model.head()"
   ]
  },
  {
   "cell_type": "code",
   "execution_count": 69,
   "metadata": {},
   "outputs": [
    {
     "data": {
      "text/html": [
       "<div>\n",
       "<style scoped>\n",
       "    .dataframe tbody tr th:only-of-type {\n",
       "        vertical-align: middle;\n",
       "    }\n",
       "\n",
       "    .dataframe tbody tr th {\n",
       "        vertical-align: top;\n",
       "    }\n",
       "\n",
       "    .dataframe thead th {\n",
       "        text-align: right;\n",
       "    }\n",
       "</style>\n",
       "<table border=\"1\" class=\"dataframe\">\n",
       "  <thead>\n",
       "    <tr style=\"text-align: right;\">\n",
       "      <th></th>\n",
       "      <th>composition</th>\n",
       "      <th>rxnId</th>\n",
       "      <th>kcat</th>\n",
       "    </tr>\n",
       "  </thead>\n",
       "  <tbody>\n",
       "    <tr>\n",
       "      <th>0</th>\n",
       "      <td>YEL039C//YDL174C</td>\n",
       "      <td>NaN</td>\n",
       "      <td>1499.961001</td>\n",
       "    </tr>\n",
       "    <tr>\n",
       "      <th>1</th>\n",
       "      <td>YDL174C//YJR048W</td>\n",
       "      <td>NaN</td>\n",
       "      <td>1499.961001</td>\n",
       "    </tr>\n",
       "    <tr>\n",
       "      <th>2</th>\n",
       "      <td>YEL039C//YEL071W</td>\n",
       "      <td>NaN</td>\n",
       "      <td>1499.961001</td>\n",
       "    </tr>\n",
       "    <tr>\n",
       "      <th>3</th>\n",
       "      <td>YJR048W//YEL071W</td>\n",
       "      <td>NaN</td>\n",
       "      <td>1499.961001</td>\n",
       "    </tr>\n",
       "    <tr>\n",
       "      <th>4</th>\n",
       "      <td>YEL039C//YDL178W</td>\n",
       "      <td>NaN</td>\n",
       "      <td>1499.961001</td>\n",
       "    </tr>\n",
       "  </tbody>\n",
       "</table>\n",
       "</div>"
      ],
      "text/plain": [
       "        composition rxnId         kcat\n",
       "0  YEL039C//YDL174C   NaN  1499.961001\n",
       "1  YDL174C//YJR048W   NaN  1499.961001\n",
       "2  YEL039C//YEL071W   NaN  1499.961001\n",
       "3  YJR048W//YEL071W   NaN  1499.961001\n",
       "4  YEL039C//YDL178W   NaN  1499.961001"
      ]
     },
     "execution_count": 69,
     "metadata": {},
     "output_type": "execute_result"
    }
   ],
   "source": [
    "df_kcat.head()"
   ]
  },
  {
   "cell_type": "code",
   "execution_count": null,
   "metadata": {},
   "outputs": [],
   "source": []
  },
  {
   "cell_type": "code",
   "execution_count": 58,
   "metadata": {},
   "outputs": [],
   "source": [
    "# kcat from Oftadeh2021 is in 1/h\n",
    "df_kcat1 = pd.read_excel('../input/raw/Oftadeh2021_info_yeast/enzyme2kcat.xlsx')\n",
    "df_kcat1 = df_kcat1.drop(['kcat_bwd'], axis=1)\n",
    "df_kcat1.index = df_kcat1.complex.to_list()\n",
    "\n",
    "df_kcat2 = pd.read_excel('../input/raw/Oftadeh2021_info_yeast/complex2kcat.xlsx')\n",
    "df_kcat2.index = df_kcat2.complex.to_list()\n",
    "\n",
    "df_kcat = df_kcat2.copy()\n",
    "idx_out = set(df_kcat1.index) - set(df_kcat2.index)\n",
    "for i in idx_out:\n",
    "    df_kcat.loc[i, 'complex'] = df_kcat1.complex[i]\n",
    "    df_kcat.loc[i, 'kcat'] = df_kcat1.kcat[i]\n",
    "    \n",
    "# Convert kcat to 1/s\n",
    "df_kcat.kcat = df_kcat.kcat / 3600\n",
    "\n",
    "# Determine gene being mapped to\n",
    "for i in df_kcat.index:\n",
    "    name = df_kcat.complex[i]\n",
    "    if name[-7:] == '_enzyme':\n",
    "        df_kcat.loc[i, 'gene_ids'] = df_kcat.complex[i][:-7]\n",
    "        \n",
    "# Complex-to-gene mapping info from Oftadeh2021\n",
    "df_cplx1 = pd.read_excel('../input/raw/Oftadeh2021_info_yeast/Yeast_complex_portal.xlsx')\n",
    "df_cplx1.index = df_cplx1['Product Name'].to_list()\n",
    "\n",
    "df_cplx2 = pd.read_excel('../input/raw/Oftadeh2021_info_yeast/yeastcyc_prot_complexes_ids.xlsx')\n",
    "df_cplx2.index = df_cplx2['Product Name'].to_list()\n",
    "\n",
    "for i in df_kcat.index:\n",
    "    if i in df_cplx1.index:\n",
    "        df_kcat.loc[i, 'gene_ids'] = ','.join(df_cplx1.Genes[i].split(' // '))\n",
    "    elif i in df_cplx2.index:\n",
    "        df_kcat.loc[i, 'gene_ids'] = ','.join(df_cplx2.Genes[i].split(' // '))"
   ]
  },
  {
   "cell_type": "code",
   "execution_count": 62,
   "metadata": {},
   "outputs": [],
   "source": [
    "df_model = pd.read_excel('../model/scRAM_network_frompy.xlsx')\n",
    "df_model = df_model[df_model.type == 'metabolic']"
   ]
  },
  {
   "cell_type": "code",
   "execution_count": 56,
   "metadata": {},
   "outputs": [],
   "source": []
  },
  {
   "cell_type": "code",
   "execution_count": 59,
   "metadata": {},
   "outputs": [
    {
     "data": {
      "text/html": [
       "<div>\n",
       "<style scoped>\n",
       "    .dataframe tbody tr th:only-of-type {\n",
       "        vertical-align: middle;\n",
       "    }\n",
       "\n",
       "    .dataframe tbody tr th {\n",
       "        vertical-align: top;\n",
       "    }\n",
       "\n",
       "    .dataframe thead th {\n",
       "        text-align: right;\n",
       "    }\n",
       "</style>\n",
       "<table border=\"1\" class=\"dataframe\">\n",
       "  <thead>\n",
       "    <tr style=\"text-align: right;\">\n",
       "      <th></th>\n",
       "      <th>complex</th>\n",
       "      <th>kcat</th>\n",
       "      <th>gene_ids</th>\n",
       "    </tr>\n",
       "  </thead>\n",
       "  <tbody>\n",
       "    <tr>\n",
       "      <th>CPLX3O-117</th>\n",
       "      <td>CPLX3O-117</td>\n",
       "      <td>693.508208</td>\n",
       "      <td>Q0045,Q0250,Q0275,YGL187C,YNL052W,YHR051W,YMR2...</td>\n",
       "    </tr>\n",
       "    <tr>\n",
       "      <th>CPX-1722</th>\n",
       "      <td>CPX-1722</td>\n",
       "      <td>693.508208</td>\n",
       "      <td>Q0045,Q0250,Q0275,YGL187C,YIL111W,YHR051W,YMR2...</td>\n",
       "    </tr>\n",
       "    <tr>\n",
       "      <th>YDL093W_enzyme</th>\n",
       "      <td>YDL093W_enzyme</td>\n",
       "      <td>70.900278</td>\n",
       "      <td>YDL093W</td>\n",
       "    </tr>\n",
       "    <tr>\n",
       "      <th>YJR143C_enzyme</th>\n",
       "      <td>YJR143C_enzyme</td>\n",
       "      <td>0.005367</td>\n",
       "      <td>YJR143C</td>\n",
       "    </tr>\n",
       "    <tr>\n",
       "      <th>YOR321W_enzyme</th>\n",
       "      <td>YOR321W_enzyme</td>\n",
       "      <td>0.005367</td>\n",
       "      <td>YOR321W</td>\n",
       "    </tr>\n",
       "  </tbody>\n",
       "</table>\n",
       "</div>"
      ],
      "text/plain": [
       "                       complex        kcat  \\\n",
       "CPLX3O-117          CPLX3O-117  693.508208   \n",
       "CPX-1722              CPX-1722  693.508208   \n",
       "YDL093W_enzyme  YDL093W_enzyme   70.900278   \n",
       "YJR143C_enzyme  YJR143C_enzyme    0.005367   \n",
       "YOR321W_enzyme  YOR321W_enzyme    0.005367   \n",
       "\n",
       "                                                         gene_ids  \n",
       "CPLX3O-117      Q0045,Q0250,Q0275,YGL187C,YNL052W,YHR051W,YMR2...  \n",
       "CPX-1722        Q0045,Q0250,Q0275,YGL187C,YIL111W,YHR051W,YMR2...  \n",
       "YDL093W_enzyme                                            YDL093W  \n",
       "YJR143C_enzyme                                            YJR143C  \n",
       "YOR321W_enzyme                                            YOR321W  "
      ]
     },
     "execution_count": 59,
     "metadata": {},
     "output_type": "execute_result"
    }
   ],
   "source": [
    "df_kcat.head()"
   ]
  },
  {
   "cell_type": "code",
   "execution_count": 66,
   "metadata": {},
   "outputs": [
    {
     "name": "stdout",
     "output_type": "stream",
     "text": [
      "trna_ch_s_1035_c_0\n",
      "trna_ch_s_1048_c_0\n",
      "rib_mit\n",
      "trna_ch_s_1051_c_0\n",
      "trna_ch_s_0965_c_0\n",
      "trna_ch_s_1025_c_0\n",
      "trna_ch_s_1006_c_0\n",
      "trna_ch_s_1029_c_0\n",
      "trna_ch_s_1032_c_0\n",
      "trna_ch_s_1056_c_0\n",
      "trna_ch_s_0973_c_0\n",
      "trna_ch_s_0999_c_0\n",
      "trna_ch_s_0981_c_0\n",
      "trna_ch_s_0955_c_0\n",
      "COMPLEX_53\n",
      "COMPLEX_54\n",
      "rnap_mit\n",
      "YLR355C_enzyme_r_0096\n",
      "rnap\n",
      "rib\n",
      "trna_ch_s_1021_c_0\n",
      "YMR062C_enzyme_r_0761\n",
      "YLR044C_enzyme_r_0567\n",
      "trna_ch_s_0991_c_0\n",
      "trna_ch_s_1003_c_0\n",
      "trna_ch_s_1039_c_0\n",
      "trna_ch_s_1016_c_0\n",
      "trna_ch_s_1039_c_1\n",
      "trna_ch_s_1045_c_0\n",
      "trna_ch_s_0969_c_0\n",
      "trna_ch_s_1003_c_1\n",
      "CPLX3O-118_r_0567\n",
      "CPLX3O-8_r_0109\n",
      "CPX-1850_r_0566\n",
      "CPX-1162_r_2140\n",
      "COMPLEX_0\n",
      "COMPLEX_1\n",
      "COMPLEX_2\n",
      "COMPLEX_3\n",
      "COMPLEX_4\n",
      "COMPLEX_5\n",
      "COMPLEX_6\n",
      "COMPLEX_7\n",
      "COMPLEX_8\n",
      "COMPLEX_9\n",
      "COMPLEX_10\n",
      "COMPLEX_11\n",
      "COMPLEX_12\n",
      "COMPLEX_13\n",
      "COMPLEX_14\n",
      "COMPLEX_15\n",
      "COMPLEX_16\n",
      "COMPLEX_17\n",
      "COMPLEX_18\n",
      "COMPLEX_19\n",
      "COMPLEX_20\n",
      "COMPLEX_21\n",
      "COMPLEX_22\n",
      "COMPLEX_23\n",
      "COMPLEX_24\n",
      "COMPLEX_25\n",
      "COMPLEX_26\n",
      "COMPLEX_27\n",
      "COMPLEX_28\n",
      "COMPLEX_29\n",
      "COMPLEX_30\n",
      "COMPLEX_31\n",
      "COMPLEX_32\n",
      "COMPLEX_33\n",
      "COMPLEX_34\n",
      "COMPLEX_35\n",
      "COMPLEX_36\n",
      "COMPLEX_37\n",
      "COMPLEX_38\n",
      "COMPLEX_39\n",
      "COMPLEX_40\n",
      "COMPLEX_41\n",
      "COMPLEX_42\n",
      "COMPLEX_43\n",
      "COMPLEX_44\n",
      "COMPLEX_45\n",
      "COMPLEX_46\n",
      "COMPLEX_47\n",
      "COMPLEX_48\n",
      "COMPLEX_49\n",
      "COMPLEX_50\n",
      "COMPLEX_51\n",
      "COMPLEX_52\n",
      "r_0226_0\n"
     ]
    }
   ],
   "source": [
    "for i in df_kcat[df_kcat.gene_ids.isnull()].index:\n",
    "    print(i)"
   ]
  },
  {
   "cell_type": "code",
   "execution_count": null,
   "metadata": {},
   "outputs": [],
   "source": []
  },
  {
   "cell_type": "code",
   "execution_count": null,
   "metadata": {},
   "outputs": [],
   "source": []
  },
  {
   "cell_type": "code",
   "execution_count": 15,
   "metadata": {},
   "outputs": [
    {
     "name": "stderr",
     "output_type": "stream",
     "text": [
      "WARNING:root:Taxonomy loaded in 5.285283088684082 s.\n"
     ]
    }
   ],
   "source": [
    "import brendapy"
   ]
  },
  {
   "cell_type": "code",
   "execution_count": 16,
   "metadata": {},
   "outputs": [],
   "source": [
    "from brendapy import BrendaParser"
   ]
  },
  {
   "cell_type": "code",
   "execution_count": 17,
   "metadata": {},
   "outputs": [],
   "source": [
    "def parse_yeast_proteins_for_ec(ec):\n",
    "    brenda = BrendaParser()\n",
    "    proteins = brenda.get_proteins(ec)\n",
    "\n",
    "    print(f\"{len(proteins)} proteins for EC {ec} in BRENDA\")\n",
    "    print(f\"Protein identifier: {proteins.keys()}\")\n",
    "    print(\"-\" * 80)\n",
    "    for p in proteins.values():\n",
    "        if p.organism == \"Saccharomyces cerevisiae\":\n",
    "            print(p)\n",
    "            print(\"-\" * 80)"
   ]
  },
  {
   "cell_type": "code",
   "execution_count": 19,
   "metadata": {},
   "outputs": [],
   "source": [
    "brenda = BrendaParser()"
   ]
  },
  {
   "cell_type": "code",
   "execution_count": null,
   "metadata": {},
   "outputs": [],
   "source": [
    "brenda."
   ]
  },
  {
   "cell_type": "code",
   "execution_count": 35,
   "metadata": {},
   "outputs": [
    {
     "name": "stderr",
     "output_type": "stream",
     "text": [
      "ERROR:root:data could not be converted to float: 20-50 {D-glucose 6-phosphate}\n",
      "ERROR:root:data could not be converted to float: 2-3 {deamino-NADP+}\n",
      "ERROR:root:data could not be converted to float: 0.006-0.008 {NADP+}\n",
      "ERROR:root:data could not be converted to float: 0.046-0.047 {D-galactose 6-phosphate}\n",
      "ERROR:root:data could not be converted to float: 0.041-0.043 {NADPH}\n",
      "ERROR:root:data could not be converted to float: -999 {more}\n",
      "WARNING:root:Taxonomy id could not be resolved for species/organism: Penicillium duponti\n",
      "WARNING:root:Taxonomy id could not be resolved for species/organism: Fragaria x\n",
      "ERROR:root:Source/Tissue not found in Brenda Tissue Ontology (BTO): 'neutrophilic granulocyte'\n"
     ]
    }
   ],
   "source": [
    "ec = '1.1.1.49'\n",
    "brenda = BrendaParser()\n",
    "proteins = brenda.get_proteins(ec)"
   ]
  },
  {
   "cell_type": "code",
   "execution_count": 27,
   "metadata": {},
   "outputs": [],
   "source": [
    "prot = proteins[12]"
   ]
  },
  {
   "cell_type": "code",
   "execution_count": 38,
   "metadata": {},
   "outputs": [
    {
     "data": {
      "text/plain": [
       "'Saccharomyces cerevisiae'"
      ]
     },
     "execution_count": 38,
     "metadata": {},
     "output_type": "execute_result"
    }
   ],
   "source": [
    "prot.organism"
   ]
  },
  {
   "cell_type": "code",
   "execution_count": null,
   "metadata": {},
   "outputs": [],
   "source": []
  },
  {
   "cell_type": "code",
   "execution_count": null,
   "metadata": {},
   "outputs": [],
   "source": []
  },
  {
   "cell_type": "code",
   "execution_count": 9,
   "metadata": {},
   "outputs": [],
   "source": [
    "df_kcat = df_kcat1.merge(df_kcat2)"
   ]
  },
  {
   "cell_type": "code",
   "execution_count": 10,
   "metadata": {},
   "outputs": [
    {
     "data": {
      "text/html": [
       "<div>\n",
       "<style scoped>\n",
       "    .dataframe tbody tr th:only-of-type {\n",
       "        vertical-align: middle;\n",
       "    }\n",
       "\n",
       "    .dataframe tbody tr th {\n",
       "        vertical-align: top;\n",
       "    }\n",
       "\n",
       "    .dataframe thead th {\n",
       "        text-align: right;\n",
       "    }\n",
       "</style>\n",
       "<table border=\"1\" class=\"dataframe\">\n",
       "  <thead>\n",
       "    <tr style=\"text-align: right;\">\n",
       "      <th></th>\n",
       "      <th>complex</th>\n",
       "      <th>kcat</th>\n",
       "    </tr>\n",
       "  </thead>\n",
       "  <tbody>\n",
       "    <tr>\n",
       "      <th>0</th>\n",
       "      <td>rib</td>\n",
       "      <td>72000.0</td>\n",
       "    </tr>\n",
       "    <tr>\n",
       "      <th>1</th>\n",
       "      <td>rnap</td>\n",
       "      <td>288000.0</td>\n",
       "    </tr>\n",
       "    <tr>\n",
       "      <th>2</th>\n",
       "      <td>rib_mit</td>\n",
       "      <td>144000.0</td>\n",
       "    </tr>\n",
       "    <tr>\n",
       "      <th>3</th>\n",
       "      <td>rnap_mit</td>\n",
       "      <td>288000.0</td>\n",
       "    </tr>\n",
       "    <tr>\n",
       "      <th>4</th>\n",
       "      <td>YGR036C_enzyme</td>\n",
       "      <td>13788000.0</td>\n",
       "    </tr>\n",
       "    <tr>\n",
       "      <th>...</th>\n",
       "      <td>...</td>\n",
       "      <td>...</td>\n",
       "    </tr>\n",
       "    <tr>\n",
       "      <th>358</th>\n",
       "      <td>YMR210W_enzyme</td>\n",
       "      <td>6418.8</td>\n",
       "    </tr>\n",
       "    <tr>\n",
       "      <th>359</th>\n",
       "      <td>YNL092W_enzyme</td>\n",
       "      <td>280.8</td>\n",
       "    </tr>\n",
       "    <tr>\n",
       "      <th>360</th>\n",
       "      <td>YIR038C_enzyme</td>\n",
       "      <td>137448.0</td>\n",
       "    </tr>\n",
       "    <tr>\n",
       "      <th>361</th>\n",
       "      <td>YIR036C_enzyme</td>\n",
       "      <td>9900.0</td>\n",
       "    </tr>\n",
       "    <tr>\n",
       "      <th>362</th>\n",
       "      <td>dummy_enzyme</td>\n",
       "      <td>0.0</td>\n",
       "    </tr>\n",
       "  </tbody>\n",
       "</table>\n",
       "<p>363 rows × 2 columns</p>\n",
       "</div>"
      ],
      "text/plain": [
       "            complex        kcat\n",
       "0               rib     72000.0\n",
       "1              rnap    288000.0\n",
       "2           rib_mit    144000.0\n",
       "3          rnap_mit    288000.0\n",
       "4    YGR036C_enzyme  13788000.0\n",
       "..              ...         ...\n",
       "358  YMR210W_enzyme      6418.8\n",
       "359  YNL092W_enzyme       280.8\n",
       "360  YIR038C_enzyme    137448.0\n",
       "361  YIR036C_enzyme      9900.0\n",
       "362    dummy_enzyme         0.0\n",
       "\n",
       "[363 rows x 2 columns]"
      ]
     },
     "execution_count": 10,
     "metadata": {},
     "output_type": "execute_result"
    }
   ],
   "source": [
    "df_kcat"
   ]
  },
  {
   "cell_type": "code",
   "execution_count": 11,
   "metadata": {},
   "outputs": [
    {
     "data": {
      "text/plain": [
       "1005"
      ]
     },
     "execution_count": 11,
     "metadata": {},
     "output_type": "execute_result"
    }
   ],
   "source": [
    "df_kcat1.shape[0]"
   ]
  },
  {
   "cell_type": "code",
   "execution_count": 12,
   "metadata": {},
   "outputs": [
    {
     "data": {
      "text/plain": [
       "1067"
      ]
     },
     "execution_count": 12,
     "metadata": {},
     "output_type": "execute_result"
    }
   ],
   "source": [
    "df_kcat2.shape[0]"
   ]
  },
  {
   "cell_type": "code",
   "execution_count": 4,
   "metadata": {},
   "outputs": [
    {
     "data": {
      "text/plain": [
       "{'CPX-1279',\n",
       " 'YAL044C_enzyme',\n",
       " 'YDR019C_enzyme',\n",
       " 'YMR189W_enzyme',\n",
       " 'YNL191W_enzyme',\n",
       " 'r_0226_0'}"
      ]
     },
     "execution_count": 4,
     "metadata": {},
     "output_type": "execute_result"
    }
   ],
   "source": [
    "set(df_kcat1.complex) - set(df_kcat2.complex)"
   ]
  },
  {
   "cell_type": "code",
   "execution_count": 5,
   "metadata": {},
   "outputs": [
    {
     "data": {
      "text/plain": [
       "{'COMPLEX_0',\n",
       " 'COMPLEX_1',\n",
       " 'COMPLEX_10',\n",
       " 'COMPLEX_11',\n",
       " 'COMPLEX_12',\n",
       " 'COMPLEX_13',\n",
       " 'COMPLEX_14',\n",
       " 'COMPLEX_15',\n",
       " 'COMPLEX_16',\n",
       " 'COMPLEX_17',\n",
       " 'COMPLEX_18',\n",
       " 'COMPLEX_19',\n",
       " 'COMPLEX_2',\n",
       " 'COMPLEX_20',\n",
       " 'COMPLEX_21',\n",
       " 'COMPLEX_22',\n",
       " 'COMPLEX_23',\n",
       " 'COMPLEX_24',\n",
       " 'COMPLEX_25',\n",
       " 'COMPLEX_26',\n",
       " 'COMPLEX_27',\n",
       " 'COMPLEX_28',\n",
       " 'COMPLEX_29',\n",
       " 'COMPLEX_3',\n",
       " 'COMPLEX_30',\n",
       " 'COMPLEX_31',\n",
       " 'COMPLEX_32',\n",
       " 'COMPLEX_33',\n",
       " 'COMPLEX_34',\n",
       " 'COMPLEX_35',\n",
       " 'COMPLEX_36',\n",
       " 'COMPLEX_37',\n",
       " 'COMPLEX_38',\n",
       " 'COMPLEX_39',\n",
       " 'COMPLEX_4',\n",
       " 'COMPLEX_40',\n",
       " 'COMPLEX_41',\n",
       " 'COMPLEX_42',\n",
       " 'COMPLEX_43',\n",
       " 'COMPLEX_44',\n",
       " 'COMPLEX_45',\n",
       " 'COMPLEX_46',\n",
       " 'COMPLEX_47',\n",
       " 'COMPLEX_48',\n",
       " 'COMPLEX_49',\n",
       " 'COMPLEX_5',\n",
       " 'COMPLEX_50',\n",
       " 'COMPLEX_51',\n",
       " 'COMPLEX_52',\n",
       " 'COMPLEX_53',\n",
       " 'COMPLEX_54',\n",
       " 'COMPLEX_6',\n",
       " 'COMPLEX_7',\n",
       " 'COMPLEX_8',\n",
       " 'COMPLEX_9',\n",
       " 'CPLX3O-117',\n",
       " 'CPLX3O-118_r_0567',\n",
       " 'CPLX3O-8_r_0109',\n",
       " 'CPX-1162_r_2140',\n",
       " 'CPX-1722',\n",
       " 'CPX-1850_r_0566',\n",
       " 'YDL093W_enzyme',\n",
       " 'YGR209C_enzyme',\n",
       " 'YJR143C_enzyme',\n",
       " 'YLR044C_enzyme_r_0567',\n",
       " 'YLR355C_enzyme_r_0096',\n",
       " 'YMR062C_enzyme_r_0761',\n",
       " 'YOR321W_enzyme'}"
      ]
     },
     "execution_count": 5,
     "metadata": {},
     "output_type": "execute_result"
    }
   ],
   "source": [
    "set(df_kcat2.complex) - set(df_kcat1.complex)"
   ]
  },
  {
   "cell_type": "code",
   "execution_count": null,
   "metadata": {},
   "outputs": [],
   "source": []
  }
 ],
 "metadata": {
  "kernelspec": {
   "display_name": "Python 3",
   "language": "python",
   "name": "python3"
  },
  "language_info": {
   "codemirror_mode": {
    "name": "ipython",
    "version": 3
   },
   "file_extension": ".py",
   "mimetype": "text/x-python",
   "name": "python",
   "nbconvert_exporter": "python",
   "pygments_lexer": "ipython3",
   "version": "3.7.9"
  }
 },
 "nbformat": 4,
 "nbformat_minor": 4
}
