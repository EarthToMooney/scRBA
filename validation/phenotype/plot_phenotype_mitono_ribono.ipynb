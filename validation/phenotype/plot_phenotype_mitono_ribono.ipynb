{
 "cells": [
  {
   "cell_type": "code",
   "execution_count": 1,
   "metadata": {},
   "outputs": [],
   "source": [
    "import pandas as pd\n",
    "import numpy as np\n",
    "\n",
    "import sys\n",
    "sys.path.append('../../pycore/')\n",
    "from simulate import RBA_result\n",
    "from utils import extract_details_from_rxnid\n",
    "\n",
    "import matplotlib.pyplot as plt\n",
    "import matplotlib.patches as mp\n",
    "import seaborn as sns\n",
    "import matplotlib.lines as mlines\n",
    "%matplotlib inline"
   ]
  },
  {
   "cell_type": "markdown",
   "metadata": {},
   "source": [
    "#### Simulation"
   ]
  },
  {
   "cell_type": "code",
   "execution_count": 2,
   "metadata": {},
   "outputs": [],
   "source": [
    "# Mu = 0\n",
    "res = RBA_result(biom_id=None)\n",
    "res.load_from_json('../output/batch/results/mu_0/RBA_result.json')\n",
    "glc0 = -res.metabolic_flux['EX_glc__D_e']"
   ]
  },
  {
   "cell_type": "code",
   "execution_count": 3,
   "metadata": {},
   "outputs": [],
   "source": [
    "reslist = []\n",
    "\n",
    "# Batch\n",
    "flist = ['vglc_0_5', 'vglc_1_0', 'vglc_2_0', 'vglc_3_0', 'vglc_4_0', 'vglc_5_0',\n",
    "         'vglc_6_0', 'vglc_7_0', 'vglc_8_0', 'vglc_9_0', 'vglc_10_0', 'vglc_11_0',\n",
    "         'vglc_11_5', 'vglc_11_6', 'vglc_11_7', 'vglc_12_0', 'vglc_12_1', 'vglc_12_2']\n",
    "for fdir in flist:\n",
    "    res = RBA_result(biom_id=None)\n",
    "    res.load_from_json('../output/batch_mitono_ribono/results_capacitycorrected/' + fdir + '/RBA_result.json')\n",
    "    reslist.append(res)\n",
    "    \n",
    "flist = ['vglc_12_3', 'vglc_12_4', 'vglc_12_5', 'vglc_12_9',\n",
    "         'vglc_13_0', 'vglc_14_0', 'vglc_15_0', 'vglc_16_0', 'vglc_17_0',\n",
    "         'vglc_20_0', 'vglc_21_0', 'vglc_22_0', 'vglc_23_0', 'vglc_24_0', 'vglc_25_0',\n",
    "         'vglc_30_0', 'vglc_31_0', 'vglc_32_0', 'vglc_33_0', 'vglc_34_0', 'vglc_35_0']\n",
    "for fdir in flist:\n",
    "    res = RBA_result(biom_id=None)\n",
    "    res.load_from_json('../output/batch_mitono_ribono/results/' + fdir + '/RBA_result.json')\n",
    "    reslist.append(res)\n",
    "    \n",
    "glcs = [glc0] + [-res.metabolic_flux['EX_glc__D_e'] for res in reslist]\n",
    "etohs = [0] + []\n",
    "for res in reslist:\n",
    "    if 'EX_etoh_e' in res.metabolic_flux.keys():\n",
    "        etohs.append(res.metabolic_flux['EX_etoh_e'])\n",
    "    else:\n",
    "        etohs.append(0)\n",
    "grs = [0] + [res.growth_rate for res in reslist]\n",
    "rcap = [0] + [res.ribo_capacity_usage for res in reslist]\n",
    "pcap = [0] + [res.proteome_capacity_usage for res in reslist]"
   ]
  },
  {
   "cell_type": "markdown",
   "metadata": {},
   "source": [
    "#### Data"
   ]
  },
  {
   "cell_type": "code",
   "execution_count": 4,
   "metadata": {},
   "outputs": [],
   "source": [
    "df_data = pd.read_excel('./experimental_clim_batch.xlsx')\n",
    "glcs_data = df_data['Glucose uptake rate (mmol/gDW/h)'].to_list()\n",
    "grs_data = df_data['GR_expmt (1/h)'].to_list()\n",
    "etohs_data = df_data['Ethanol (mmol/gDW/h)'].to_list()"
   ]
  },
  {
   "cell_type": "markdown",
   "metadata": {},
   "source": [
    "#### Plot"
   ]
  },
  {
   "cell_type": "code",
   "execution_count": 5,
   "metadata": {},
   "outputs": [
    {
     "data": {
      "image/png": "[encoded data removed]",
      "text/plain": [
       "<Figure size 432x360 with 2 Axes>"
      ]
     },
     "metadata": {
      "needs_background": "light"
     },
     "output_type": "display_data"
    }
   ],
   "source": [
    "fig,ax1 = plt.subplots(figsize=(6,5))\n",
    "ax2 = ax1.twinx()\n",
    "\n",
    "# Plot model-predicted growth rates\n",
    "N = len(glcs)\n",
    "for i in range(0,N-1):\n",
    "    p1 = [glcs[i], glcs[i+1]]; p2 = [grs[i], grs[i+1]]\n",
    "    line = mlines.Line2D(p1, p2, color='k', linestyle='-')\n",
    "    ax1.add_line(line);\n",
    "ax1.set_xlim(0,16);\n",
    "ax1.set_ylim(0,0.6);\n",
    "\n",
    "# Plot model-predicted ethanol secretion rates\n",
    "N = len(glcs)\n",
    "for i in range(0,N-1):\n",
    "    p1 = [glcs[i], glcs[i+1]]; p2 = [etohs[i], etohs[i+1]]\n",
    "    line = mlines.Line2D(p1, p2, color='r', linestyle='-')\n",
    "    ax2.add_line(line);\n",
    "ax2.set_xlim(0,16);\n",
    "ax2.set_ylim(0,25);\n",
    "\n",
    "# Plot experimentally observed growth rates\n",
    "ax1.scatter(glcs_data, grs_data, color='k', zorder=2)\n",
    "\n",
    "# Plot experimentally observed ethanol secretion rates\n",
    "ax2.scatter(glcs_data[:-1], etohs_data[:-1], color='r', zorder=1)\n",
    "\n",
    "#ax1.set_xlabel('Glucose uptake rate (mmol gDW$^{-1}$ h$^{-1}$)', fontsize=16);\n",
    "#ax1.set_ylabel('Growth rate (h$^{-1}$)', fontsize=16);\n",
    "#ax2.set_ylabel('Ethanol secretion rate\\n(mmol gDW$^{-1}$ h$^{-1}$)', fontsize=16);\n",
    "\n",
    "ax1.set_xlim(0,25)\n",
    "xticks = [0,5,10,15,20,25]\n",
    "ax1.set_xticks(xticks);\n",
    "ax1.set_xticklabels(xticks, fontsize=18);\n",
    "\n",
    "y1ticks = [0, 0.2, 0.4, 0.6, 0.8, 1.0]\n",
    "ax1.set_yticks(y1ticks);\n",
    "ax1.set_yticklabels(y1ticks, fontsize=18);\n",
    "\n",
    "y2ticks = [0, 10, 20, 30, 40]\n",
    "ax2.set_yticks(y2ticks);\n",
    "ax2.set_yticklabels(y2ticks, fontsize=18);\n",
    "\n",
    "ax1.spines['left'].set_color('k')\n",
    "ax1.tick_params(axis='y', colors='k')\n",
    "ax2.spines['left'].set_color('k')\n",
    "ax2.spines['right'].set_color('red')\n",
    "ax2.tick_params(axis='y', colors='red')\n",
    "\n",
    "#ax1.spines['top'].set_visible(False)\n",
    "#ax2.spines['top'].set_visible(False)\n",
    "\n",
    "# Exhausted capacity line\n",
    "#line = mlines.Line2D([6, 6], [-0.1, 1.1], color='#2962ff', linestyle='--', zorder=0)\n",
    "#ax1.add_line(line);\n",
    "\n",
    "# Legends\n",
    "\"\"\"colors = ['k', 'r']\n",
    "handles = [mlines.Line2D([], [], color=c, lw=2, ls='-') for c in colors]\n",
    "legend_labels = ['     Growth', '     Ethanol']\n",
    "ax1.legend(handles, legend_labels, ncol=1, loc='lower right', fontsize=14);\n",
    "ax2.scatter(12.8, 3.9, color='k'); ax2.text(12.15, 3.3, '/', fontsize=20);\n",
    "ax2.scatter(12.8, 1.85, color='r'); ax2.text(12.15, 1.25, '/', fontsize=20);\"\"\";\n",
    "\n",
    "#plt.savefig('../../../scRBA_figures/components/crabtree/ethanol_overflow_mitono_ribono.png', transparent=True, bbox_inches='tight')"
   ]
  },
  {
   "cell_type": "code",
   "execution_count": 6,
   "metadata": {},
   "outputs": [
    {
     "data": {
      "text/plain": [
       "0.989188305358886"
      ]
     },
     "execution_count": 6,
     "metadata": {},
     "output_type": "execute_result"
    }
   ],
   "source": [
    "max(grs)"
   ]
  },
  {
   "cell_type": "code",
   "execution_count": null,
   "metadata": {},
   "outputs": [],
   "source": []
  }
 ],
 "metadata": {
  "kernelspec": {
   "display_name": "Python 3",
   "language": "python",
   "name": "python3"
  },
  "language_info": {
   "codemirror_mode": {
    "name": "ipython",
    "version": 3
   },
   "file_extension": ".py",
   "mimetype": "text/x-python",
   "name": "python",
   "nbconvert_exporter": "python",
   "pygments_lexer": "ipython3",
   "version": "3.7.9"
  }
 },
 "nbformat": 4,
 "nbformat_minor": 4
}
