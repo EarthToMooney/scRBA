{
 "cells": [
  {
   "cell_type": "code",
   "execution_count": 1,
   "metadata": {},
   "outputs": [],
   "source": [
    "import pandas as pd\n",
    "import numpy as np\n",
    "\n",
    "import sys\n",
    "sys.path.append('../../pycore/')\n",
    "from simulate import RBA_result\n",
    "from utils import extract_details_from_rxnid\n",
    "\n",
    "import matplotlib.pyplot as plt\n",
    "import matplotlib.patches as mp\n",
    "import seaborn as sns\n",
    "import matplotlib.lines as mlines\n",
    "%matplotlib inline"
   ]
  },
  {
   "cell_type": "markdown",
   "metadata": {},
   "source": [
    "#### Simulation"
   ]
  },
  {
   "cell_type": "code",
   "execution_count": 2,
   "metadata": {},
   "outputs": [],
   "source": [
    "# Mu = 0\n",
    "res = RBA_result(biom_id=None)\n",
    "res.load_from_json('../output/batch/results/mu_0/RBA_result.json')\n",
    "glc0 = -res.metabolic_flux['EX_glc__D_e']"
   ]
  },
  {
   "cell_type": "code",
   "execution_count": 3,
   "metadata": {},
   "outputs": [],
   "source": [
    "reslist = []\n",
    "\n",
    "# Batch\n",
    "flist = ['vglc_0_5', 'vglc_1_0', 'vglc_2_0', 'vglc_3_0',\n",
    "         'vglc_3_6', 'vglc_3_7', 'vglc_3_8', 'vglc_3_9', \n",
    "         'vglc_4_0', 'vglc_4_1', 'vglc_4_2', 'vglc_4_3', 'vglc_4_4', 'vglc_4_5',\n",
    "         'vglc_5_0', 'vglc_6_0', 'vglc_7_0',\n",
    "         'vglc_8_0', 'vglc_9_0', 'vglc_10_0', 'vglc_11_0', 'vglc_12_0',\n",
    "         'vglc_13_0', 'vglc_14_0', 'vglc_15_0', 'vglc_16_0', 'vglc_17_0',\n",
    "         'vglc_20_0', 'vglc_21_0']\n",
    "for fdir in flist:\n",
    "    res = RBA_result(biom_id=None)\n",
    "    res.load_from_json('../output/batch_mito_5/results_capacitycorrected/' + fdir + '/RBA_result.json')\n",
    "    reslist.append(res)\n",
    "    \n",
    "flist = ['vglc_22_0', 'vglc_23_0', 'vglc_24_0', 'vglc_25_0', 'vglc_25_0', 'vglc_30_0', 'vglc_35_0']\n",
    "for fdir in flist:\n",
    "    res = RBA_result(biom_id=None)\n",
    "    res.load_from_json('../output/batch_mito_5/results/' + fdir + '/RBA_result.json')\n",
    "    reslist.append(res)\n",
    "    \n",
    "glcs = [glc0] + [-res.metabolic_flux['EX_glc__D_e'] for res in reslist]\n",
    "etohs = []\n",
    "for res in reslist:\n",
    "    if 'EX_etoh_e' in res.metabolic_flux.keys():\n",
    "        etohs.append(res.metabolic_flux['EX_etoh_e'])\n",
    "    else:\n",
    "        etohs.append(0)\n",
    "grs = [0] + [res.growth_rate for res in reslist]\n",
    "rcap = [0] + [res.ribo_capacity_usage for res in reslist]\n",
    "pcap = [0] + [res.proteome_capacity_usage for res in reslist]"
   ]
  },
  {
   "cell_type": "markdown",
   "metadata": {},
   "source": [
    "#### Plot"
   ]
  },
  {
   "cell_type": "code",
   "execution_count": 4,
   "metadata": {},
   "outputs": [
    {
     "data": {
      "image/png": "[encoded data removed]",
      "text/plain": [
       "<Figure size 432x216 with 1 Axes>"
      ]
     },
     "metadata": {
      "needs_background": "light"
     },
     "output_type": "display_data"
    }
   ],
   "source": [
    "fig,ax = plt.subplots(figsize=(6,3))\n",
    "color = '#2962ff'\n",
    "\n",
    "# Plot model-predicted rRNA capacity usage\n",
    "N = len(glcs)\n",
    "for i in range(0,N-1):\n",
    "    p1 = [glcs[i], glcs[i+1]]; p2 = [rcap[i], rcap[i+1]]\n",
    "    line = mlines.Line2D(p1, p2, color=color, linestyle='-')\n",
    "    ax.add_line(line);\n",
    "\n",
    "ax.set_xlim(0,25)\n",
    "xticks = [0,5,10,15,20,25]\n",
    "ax.set_xticks(xticks);\n",
    "ax.set_xticklabels(xticks, fontsize=18);\n",
    "\n",
    "ax.set_ylim(0,1.8);\n",
    "yticks = [0, 0.5, 1, 1.5]\n",
    "yticklabels = [0, 50, 100, 150]\n",
    "ax.set_yticks(yticks);\n",
    "ax.set_yticklabels(yticklabels, fontsize=18);\n",
    "\n",
    "ax.spines['left'].set_color(color)\n",
    "ax.tick_params(axis='y', colors=color)\n",
    "\n",
    "#ax.set_xlabel('Glucose uptake rate (mmol gDW$^{-1}$ h$^{-1}$)', fontsize=16);\n",
    "#ax.set_ylabel('Model-calculated capacity usage (%)', fontsize=16);\n",
    "\n",
    "# Estimating line\n",
    "line = mlines.Line2D([-1, 30], [1, 1], color=color, linestyle='--', zorder=0, lw=1)\n",
    "ax.add_line(line);\n",
    "\n",
    "\"\"\"colors = ['k', '#2962ff']\n",
    "handles = [mlines.Line2D([], [], color=c, lw=2, ls='-') for c in colors]\n",
    "legend_labels = ['Protein', 'rRNA']\n",
    "ax.legend(handles, legend_labels, ncol=1, loc='lower right', fontsize=16);\"\"\";\n",
    "\n",
    "#plt.savefig('../../../scRBA_figures/components/crabtree/capacity_rRNA_usage_mito_5.png', transparent=True, bbox_inches='tight')"
   ]
  },
  {
   "cell_type": "code",
   "execution_count": null,
   "metadata": {},
   "outputs": [],
   "source": []
  }
 ],
 "metadata": {
  "kernelspec": {
   "display_name": "Python 3",
   "language": "python",
   "name": "python3"
  },
  "language_info": {
   "codemirror_mode": {
    "name": "ipython",
    "version": 3
   },
   "file_extension": ".py",
   "mimetype": "text/x-python",
   "name": "python",
   "nbconvert_exporter": "python",
   "pygments_lexer": "ipython3",
   "version": "3.7.9"
  }
 },
 "nbformat": 4,
 "nbformat_minor": 4
}
