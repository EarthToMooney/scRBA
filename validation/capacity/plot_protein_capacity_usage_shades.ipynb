{
 "cells": [
  {
   "cell_type": "code",
   "execution_count": 1,
   "metadata": {},
   "outputs": [],
   "source": [
    "import pandas as pd\n",
    "import numpy as np\n",
    "\n",
    "import sys\n",
    "sys.path.append('../../pycore/')\n",
    "from simulate import RBA_result\n",
    "from utils import extract_details_from_rxnid\n",
    "\n",
    "import matplotlib.pyplot as plt\n",
    "import matplotlib.patches as mp\n",
    "import matplotlib.lines as mlines\n",
    "%matplotlib inline"
   ]
  },
  {
   "cell_type": "markdown",
   "metadata": {},
   "source": [
    "#### Load information to back-calculate ribosome rRNA requirements"
   ]
  },
  {
   "cell_type": "code",
   "execution_count": 2,
   "metadata": {},
   "outputs": [],
   "source": [
    "# Protein lengths and if locating in mitochondria\n",
    "df_pro = pd.read_excel('../../build_model/input/PROTEIN_stoich_curation.xlsx')\n",
    "mito_idx = ['PROSYN-' + df_pro.id[i] for i in df_pro.index \\\n",
    "            if df_pro.subloc_assigned[i] in ['m', 'mm']]\n",
    "\n",
    "prolens = {'PROSYN-' + df_pro.id[i]:len(df_pro.sequence[i])-1 for i in df_pro.index}\n",
    "prolens['PROSYN-PROTDUMMY'] = 401\n",
    "\n",
    "# kribo\n",
    "kribo = 13.2 * 3600\n",
    "\n",
    "# MW contribution of protein and rRNA to ribosome\n",
    "mw_ribonuc_p = 1482.01686; mw_ribonuc_r = 1765.38;\n",
    "mw_ribomito_p = 2006.93545; mw_ribomito_r = 1640.338253108;"
   ]
  },
  {
   "cell_type": "markdown",
   "metadata": {},
   "source": [
    "#### Simulation"
   ]
  },
  {
   "cell_type": "code",
   "execution_count": 3,
   "metadata": {},
   "outputs": [],
   "source": [
    "# Mu = 0\n",
    "res = RBA_result(biom_id=None)\n",
    "res.load_from_json('../output/batch/results/mu_0/RBA_result.json')\n",
    "glc0 = -res.metabolic_flux['EX_glc__D_e']"
   ]
  },
  {
   "cell_type": "code",
   "execution_count": 4,
   "metadata": {},
   "outputs": [],
   "source": [
    "reslist = []\n",
    "\n",
    "# Batch\n",
    "flist = ['vglc_0_5', 'vglc_1_0', 'vglc_2_0', 'vglc_3_0', 'vglc_4_0', 'vglc_5_0',\n",
    "         'vglc_5_5', 'vglc_5_6', 'vglc_5_7', 'vglc_5_8', 'vglc_5_9', 'vglc_6_0', 'vglc_7_0',\n",
    "         'vglc_8_0', 'vglc_9_0', 'vglc_10_0', 'vglc_11_0', 'vglc_12_0',\n",
    "         'vglc_13_0', 'vglc_14_0', 'vglc_15_0', 'vglc_16_0', 'vglc_17_0', 'vglc_20_0', 'vglc_21_0']\n",
    "for fdir in flist:\n",
    "    res = RBA_result(biom_id=None)\n",
    "    res.load_from_json('../output/batch/results_capacitycorrected/' + fdir + '/RBA_result.json')\n",
    "    reslist.append(res)\n",
    "    \n",
    "flist = ['vglc_22_0', 'vglc_23_0', 'vglc_24_0', 'vglc_25_0', 'vglc_25_0', 'vglc_30_0', 'vglc_35_0']\n",
    "for fdir in flist:\n",
    "    res = RBA_result(biom_id=None)\n",
    "    res.load_from_json('../output/batch/results/' + fdir + '/RBA_result.json')\n",
    "    reslist.append(res)\n",
    "    \n",
    "glcs = [glc0] + [-res.metabolic_flux['EX_glc__D_e'] for res in reslist]\n",
    "etohs = []\n",
    "for res in reslist:\n",
    "    if 'EX_etoh_e' in res.metabolic_flux.keys():\n",
    "        etohs.append(res.metabolic_flux['EX_etoh_e'])\n",
    "    else:\n",
    "        etohs.append(0)\n",
    "grs = [0] + [res.growth_rate for res in reslist]\n",
    "pcap = [0] + [res.proteome_capacity_usage for res in reslist]"
   ]
  },
  {
   "cell_type": "code",
   "execution_count": 5,
   "metadata": {},
   "outputs": [],
   "source": [
    "pcap_riboadd = [0];\n",
    "\n",
    "for res in reslist:\n",
    "    prosyn_fluxes = dict()\n",
    "    for k,v in res.raw_flux.items():\n",
    "        if k.split('-')[0] == 'PROSYN':\n",
    "            prosyn_fluxes[k] = v\n",
    "\n",
    "    nuc_rawsum = 0; mito_rawsum = 0;\n",
    "    for k,v in prosyn_fluxes.items():\n",
    "        if k in mito_idx:\n",
    "            mito_rawsum += v * prolens[k]\n",
    "        else:\n",
    "            nuc_rawsum += v * prolens[k]\n",
    "\n",
    "    gr = res.growth_rate\n",
    "    v_ribonuc = gr / kribo * nuc_rawsum\n",
    "    v_ribomito = gr / kribo * mito_rawsum\n",
    "    p_tot = 0.55 * res.raw_flux['BIOSYN-PROTTOBIO']\n",
    "\n",
    "    pcap_riboadd.append((mw_ribonuc_p * v_ribonuc + mw_ribomito_p * v_ribomito) / p_tot)"
   ]
  },
  {
   "cell_type": "code",
   "execution_count": 6,
   "metadata": {},
   "outputs": [],
   "source": [
    "pcap_cor = [pcap[i] for i in range(0,len(pcap))]\n",
    "pcap = [pcap[i] - pcap_riboadd[i] for i in range(0,len(pcap))]"
   ]
  },
  {
   "cell_type": "markdown",
   "metadata": {},
   "source": [
    "#### Plot"
   ]
  },
  {
   "cell_type": "code",
   "execution_count": 9,
   "metadata": {},
   "outputs": [
    {
     "data": {
      "image/png": "[encoded data removed]",
      "text/plain": [
       "<Figure size 432x216 with 1 Axes>"
      ]
     },
     "metadata": {
      "needs_background": "light"
     },
     "output_type": "display_data"
    }
   ],
   "source": [
    "fig,ax = plt.subplots(figsize=(6,3))\n",
    "\n",
    "# Plot model-predicted protein capacity usage\n",
    "# Enzymatic + ribosomal proteins\n",
    "N = len(glcs)\n",
    "for i in range(0,N-1):\n",
    "    p1 = [glcs[i], glcs[i+1]]; p2 = [pcap_cor[i], pcap_cor[i+1]]\n",
    "    line = mlines.Line2D(p1, p2, color='k', linestyle='-')\n",
    "    ax.add_line(line);\n",
    "ax.fill_between(glcs, y1=pcap_cor, y2=pcap, color='#e0e0e0')\n",
    "\n",
    "# Enzymatic\n",
    "N = len(glcs)\n",
    "for i in range(0,N-1):\n",
    "    p1 = [glcs[i], glcs[i+1]]; p2 = [pcap[i], pcap[i+1]]\n",
    "    line = mlines.Line2D(p1, p2, color='k', linestyle='-')\n",
    "    ax.add_line(line);\n",
    "ax.fill_between(glcs, y1=pcap, y2=0, color='#424242')\n",
    "\n",
    "ax.set_xlim(0,25)\n",
    "xticks = [0,5,10,15,20,25]\n",
    "ax.set_xticks(xticks);\n",
    "ax.set_xticklabels(xticks, fontsize=18);\n",
    "\n",
    "ax.set_ylim(0,1.8);\n",
    "yticks = [0, 0.5, 1, 1.5]\n",
    "yticklabels = [0, 50, 100, 150]\n",
    "ax.set_yticks(yticks);\n",
    "ax.set_yticklabels(yticklabels, fontsize=18);\n",
    "\n",
    "ax.spines['left'].set_color('k')\n",
    "ax.tick_params(axis='y', colors='k')\n",
    "\n",
    "#ax.set_xlabel('Glucose uptake rate (mmol gDW$^{-1}$ h$^{-1}$)', fontsize=16);\n",
    "#ax.set_ylabel('Model-calculated capacity usage (%)', fontsize=16);\n",
    "\n",
    "# Estimating line\n",
    "line = mlines.Line2D([-1, 30], [1, 1], color='k', linestyle='--', zorder=2, lw=1)\n",
    "ax.add_line(line);\n",
    "\n",
    "\"\"\"colors = ['k', '#2962ff']\n",
    "handles = [mlines.Line2D([], [], color=c, lw=2, ls='-') for c in colors]\n",
    "legend_labels = ['Protein', 'rRNA']\n",
    "ax.legend(handles, legend_labels, ncol=1, loc='lower right', fontsize=16);\"\"\";\n",
    "\n",
    "#plt.savefig('../../../scRBA_figures/components/crabtree/capacity_protein_usage_shades_mitono_riboyes.png', transparent=True, bbox_inches='tight')"
   ]
  },
  {
   "cell_type": "code",
   "execution_count": null,
   "metadata": {},
   "outputs": [],
   "source": []
  }
 ],
 "metadata": {
  "kernelspec": {
   "display_name": "Python 3",
   "language": "python",
   "name": "python3"
  },
  "language_info": {
   "codemirror_mode": {
    "name": "ipython",
    "version": 3
   },
   "file_extension": ".py",
   "mimetype": "text/x-python",
   "name": "python",
   "nbconvert_exporter": "python",
   "pygments_lexer": "ipython3",
   "version": "3.7.9"
  }
 },
 "nbformat": 4,
 "nbformat_minor": 4
}
