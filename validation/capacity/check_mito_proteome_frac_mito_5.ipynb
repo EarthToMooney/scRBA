{
 "cells": [
  {
   "cell_type": "code",
   "execution_count": 1,
   "metadata": {},
   "outputs": [],
   "source": [
    "import pandas as pd\n",
    "import numpy as np\n",
    "\n",
    "import sys\n",
    "sys.path.append('../../pycore/')\n",
    "from simulate import RBA_result\n",
    "from utils import extract_details_from_rxnid\n",
    "\n",
    "import matplotlib.pyplot as plt\n",
    "import matplotlib.patches as mp\n",
    "import seaborn as sns\n",
    "import matplotlib.lines as mlines\n",
    "%matplotlib inline"
   ]
  },
  {
   "cell_type": "markdown",
   "metadata": {},
   "source": [
    "#### Simulation"
   ]
  },
  {
   "cell_type": "code",
   "execution_count": 2,
   "metadata": {},
   "outputs": [],
   "source": [
    "# Mu = 0\n",
    "res = RBA_result(biom_id=None)\n",
    "res.load_from_json('../output/batch/results/mu_0/RBA_result.json')\n",
    "glc0 = -res.metabolic_flux['EX_glc__D_e']"
   ]
  },
  {
   "cell_type": "code",
   "execution_count": 3,
   "metadata": {},
   "outputs": [],
   "source": [
    "reslist = []\n",
    "\n",
    "# Batch\n",
    "flist = ['vglc_0_5', 'vglc_1_0', 'vglc_2_0', 'vglc_3_0',\n",
    "         'vglc_3_6', 'vglc_3_7', 'vglc_3_8', 'vglc_3_9', \n",
    "         'vglc_4_0', 'vglc_4_1', 'vglc_4_2', 'vglc_4_3', 'vglc_4_4', 'vglc_4_5',\n",
    "         'vglc_5_0', 'vglc_6_0', 'vglc_7_0',\n",
    "         'vglc_8_0', 'vglc_9_0', 'vglc_10_0', 'vglc_11_0', 'vglc_12_0',\n",
    "         'vglc_13_0', 'vglc_14_0', 'vglc_15_0', 'vglc_16_0', 'vglc_17_0',\n",
    "         'vglc_20_0', 'vglc_21_0']\n",
    "for fdir in flist:\n",
    "    res = RBA_result(biom_id=None)\n",
    "    res.load_from_json('../output/batch_mito_5/results_capacitycorrected/' + fdir + '/RBA_result.json')\n",
    "    reslist.append(res)\n",
    "    \n",
    "flist = ['vglc_21_0', 'vglc_23_0', 'vglc_30_0', 'vglc_35_0']\n",
    "for fdir in flist:\n",
    "    res = RBA_result(biom_id=None)\n",
    "    res.load_from_json('../output/batch_mito_5/results/' + fdir + '/RBA_result.json')\n",
    "    reslist.append(res)\n",
    "    \n",
    "glcs = [glc0] + [-res.metabolic_flux['EX_glc__D_e'] for res in reslist]\n",
    "mito_fracs = [0]\n",
    "for res in reslist:\n",
    "    prot_modeled = res.raw_flux['BIOSYN-PROTMODELED']\n",
    "    prot_modeled_mito = res.raw_flux['BIOSYN-PROTMITO']\n",
    "    mito_fracs.append(prot_modeled_mito / prot_modeled)"
   ]
  },
  {
   "cell_type": "code",
   "execution_count": 4,
   "metadata": {},
   "outputs": [
    {
     "data": {
      "text/plain": [
       "0.05000000000000606"
      ]
     },
     "execution_count": 4,
     "metadata": {},
     "output_type": "execute_result"
    }
   ],
   "source": [
    "max(mito_fracs)"
   ]
  },
  {
   "cell_type": "markdown",
   "metadata": {},
   "source": [
    "#### Plot"
   ]
  },
  {
   "cell_type": "code",
   "execution_count": 5,
   "metadata": {},
   "outputs": [
    {
     "data": {
      "image/png": "[encoded data removed]",
      "text/plain": [
       "<Figure size 432x216 with 1 Axes>"
      ]
     },
     "metadata": {
      "needs_background": "light"
     },
     "output_type": "display_data"
    }
   ],
   "source": [
    "fig,ax = plt.subplots(figsize=(6,3))\n",
    "\n",
    "# Plot model-predicted protein capacity usage\n",
    "N = len(glcs)\n",
    "for i in range(0,N-1):\n",
    "    p1 = [glcs[i], glcs[i+1]]; p2 = [mito_fracs[i], mito_fracs[i+1]]\n",
    "    line = mlines.Line2D(p1, p2, color='#1b5e20', linestyle='-')\n",
    "    ax.add_line(line);\n",
    "\n",
    "ax.set_xlim(0,25)\n",
    "xticks = [0,5,10,15,20,25]\n",
    "ax.set_xticks(xticks);\n",
    "ax.set_xticklabels(xticks, fontsize=18);\n",
    "\n",
    "ax.set_ylim(0, 0.16);\n",
    "yticks = [0, 0.05, 0.1, 0.15]\n",
    "yticklabels = [0, 5, 10, 15]\n",
    "ax.set_yticks(yticks);\n",
    "ax.set_yticklabels(yticklabels, fontsize=18);\n",
    "\n",
    "ax.spines['left'].set_color('#1b5e20')\n",
    "ax.tick_params(axis='y', colors='#1b5e20')\n",
    "\n",
    "# Estimating line\n",
    "line = mlines.Line2D([-1, 30], [0.05, 0.05], color='#1b5e20', linestyle='--', zorder=0, lw=1)\n",
    "ax.add_line(line);\n",
    "\n",
    "# Exhausted capacity line\n",
    "#line = mlines.Line2D([23,23], [-1, 18], color='#2962ff', linestyle='--', zorder=0)\n",
    "#ax.add_line(line);\n",
    "\n",
    "#plt.savefig('../../../scRBA_figures/components/crabtree/mito_frac_mito_5.png', transparent=True, bbox_inches='tight')"
   ]
  },
  {
   "cell_type": "code",
   "execution_count": null,
   "metadata": {},
   "outputs": [],
   "source": []
  }
 ],
 "metadata": {
  "kernelspec": {
   "display_name": "Python 3",
   "language": "python",
   "name": "python3"
  },
  "language_info": {
   "codemirror_mode": {
    "name": "ipython",
    "version": 3
   },
   "file_extension": ".py",
   "mimetype": "text/x-python",
   "name": "python",
   "nbconvert_exporter": "python",
   "pygments_lexer": "ipython3",
   "version": "3.7.9"
  }
 },
 "nbformat": 4,
 "nbformat_minor": 4
}
