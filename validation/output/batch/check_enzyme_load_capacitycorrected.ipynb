{
 "cells": [
  {
   "cell_type": "code",
   "execution_count": 1,
   "metadata": {},
   "outputs": [],
   "source": [
    "import pandas as pd\n",
    "import numpy as np\n",
    "\n",
    "import sys\n",
    "sys.path.append('../../../pycore/')\n",
    "from simulate import RBA_result\n",
    "from utils import extract_details_from_rxnid\n",
    "\n",
    "import matplotlib.pyplot as plt\n",
    "import matplotlib.patches as mp\n",
    "import seaborn as sns\n",
    "import matplotlib.lines as mlines\n",
    "%matplotlib inline"
   ]
  },
  {
   "cell_type": "code",
   "execution_count": 2,
   "metadata": {},
   "outputs": [],
   "source": [
    "path_enz_mw = '../../../input/enz_mw_g_per_mmol.txt'\n",
    "path_pro_mw = '../../../input/pro_mw_g_per_mmol.txt'\n",
    "\n",
    "with open(path_enz_mw) as f:\n",
    "    text = f.read().split('\\n')\n",
    "text = [i for i in text if i != '']\n",
    "enz_mw = dict()\n",
    "for i in text:\n",
    "    k,v = i.split('\\t')\n",
    "    enz_mw[k] = float(v)\n",
    "    \n",
    "with open(path_pro_mw) as f:\n",
    "    text = f.read().split('\\n')\n",
    "text = [i for i in text if i != '']\n",
    "pro_mw = dict()\n",
    "for i in text:\n",
    "    k,v = i.split('\\t')\n",
    "    pro_mw[k] = float(v)"
   ]
  },
  {
   "cell_type": "raw",
   "metadata": {},
   "source": [
    "netflux = dict()\n",
    "for k,v in res.metabolic_flux.items():\n",
    "    rdir = 'FWD' if v > 0 else 'REV'\n",
    "    netflux[k+'_'+rdir] = v\n",
    "    \n",
    "netflux_ubs = dict()\n",
    "for k,v in enz_mw.items():\n",
    "    _,rxn,rdir,enz = extract_details_from_rxnid(k)\n",
    "    if rxn + '_' + rdir in netflux.keys():\n",
    "        netflux_ubs['RXN-' + k[8:]] = netflux[rxn+'_'+rdir]\n",
    "    else:\n",
    "        netflux_ubs['RXN-' + k[8:]] = 0"
   ]
  },
  {
   "cell_type": "code",
   "execution_count": 3,
   "metadata": {},
   "outputs": [],
   "source": [
    "flist = ['vglc_0_5', 'vglc_1_0', 'vglc_2_0', 'vglc_3_0', 'vglc_4_0', 'vglc_5_0',\n",
    "         'vglc_5_5', 'vglc_5_6', 'vglc_5_7', 'vglc_5_8', 'vglc_5_9', 'vglc_6_0', 'vglc_7_0',\n",
    "         'vglc_8_0', 'vglc_9_0', 'vglc_10_0', 'vglc_11_0', 'vglc_12_0',\n",
    "         'vglc_13_0', 'vglc_14_0', 'vglc_15_0', 'vglc_16_0', 'vglc_17_0']\n",
    "reslist = []\n",
    "for fdir in flist:\n",
    "    res = RBA_result(biom_id=None)\n",
    "    res.load_from_json('./results_capacitycorrected/' + fdir + '/RBA_result.json')\n",
    "    reslist.append(res)"
   ]
  },
  {
   "cell_type": "code",
   "execution_count": 4,
   "metadata": {},
   "outputs": [
    {
     "name": "stdout",
     "output_type": "stream",
     "text": [
      "vglc_0_5 , GR = 0.0398 , ETOH = 0.0 , raw calculated pcap: 0.0701\n",
      "vglc_1_0 , GR = 0.0828 , ETOH = 0 , raw calculated pcap: 0.1418\n",
      "vglc_2_0 , GR = 0.1681 , ETOH = 0 , raw calculated pcap: 0.2798\n",
      "vglc_3_0 , GR = 0.2525 , ETOH = 0 , raw calculated pcap: 0.4134\n",
      "vglc_4_0 , GR = 0.336 , ETOH = 0 , raw calculated pcap: 0.543\n",
      "vglc_5_0 , GR = 0.4188 , ETOH = 0 , raw calculated pcap: 0.6688\n",
      "vglc_5_5 , GR = 0.4593 , ETOH = 0 , raw calculated pcap: 0.7232\n",
      "vglc_5_6 , GR = 0.4662 , ETOH = 0 , raw calculated pcap: 0.7245\n",
      "vglc_5_7 , GR = 0.4675 , ETOH = 0.1599 , raw calculated pcap: 0.7258\n",
      "vglc_5_8 , GR = 0.4672 , ETOH = 0.3846 , raw calculated pcap: 0.7271\n",
      "vglc_5_9 , GR = 0.4669 , ETOH = 0.6093 , raw calculated pcap: 0.7284\n",
      "vglc_6_0 , GR = 0.4671 , ETOH = 0.8207 , raw calculated pcap: 0.7303\n",
      "vglc_7_0 , GR = 0.4676 , ETOH = 2.9835 , raw calculated pcap: 0.7471\n",
      "vglc_8_0 , GR = 0.4683 , ETOH = 5.1366 , raw calculated pcap: 0.7643\n",
      "vglc_9_0 , GR = 0.4688 , ETOH = 7.2987 , raw calculated pcap: 0.7811\n",
      "vglc_10_0 , GR = 0.4695 , ETOH = 9.4534 , raw calculated pcap: 0.7982\n",
      "vglc_11_0 , GR = 0.4696 , ETOH = 11.6244 , raw calculated pcap: 0.8146\n",
      "vglc_12_0 , GR = 0.4705 , ETOH = 13.7768 , raw calculated pcap: 0.832\n",
      "vglc_13_0 , GR = 0.4709 , ETOH = 15.9399 , raw calculated pcap: 0.8489\n",
      "vglc_14_0 , GR = 0.4715 , ETOH = 18.1018 , raw calculated pcap: 0.8659\n",
      "vglc_15_0 , GR = 0.4719 , ETOH = 20.2645 , raw calculated pcap: 0.8828\n",
      "vglc_16_0 , GR = 0.4724 , ETOH = 22.4271 , raw calculated pcap: 0.8998\n",
      "vglc_17_0 , GR = 0.4727 , ETOH = 24.5942 , raw calculated pcap: 0.9163\n"
     ]
    }
   ],
   "source": [
    "N = len(flist)\n",
    "load_excess = 'ENZLOAD-ACACT40ir_m_REV-YPL028W'\n",
    "load_excess2 = 'ENZLOAD-ACACT40ir_m_FWD-YPL028W'\n",
    "\n",
    "for i in range(0,N):\n",
    "    fname = flist[i]\n",
    "    res = reslist[i]\n",
    "    gr = res.growth_rate\n",
    "    if 'EX_etoh_e' in res.metabolic_flux.keys():\n",
    "        etoh = res.metabolic_flux['EX_etoh_e']\n",
    "    else:\n",
    "        etoh = 0\n",
    "    pcap_raw = round(res.proteome_capacity_usage, 4)\n",
    "    print(fname, ', GR =', round(gr,4), ', ETOH =', round(etoh,4),\n",
    "          ', raw calculated pcap:', pcap_raw)\n",
    "    \n",
    "    # Check bad enzyme load\n",
    "    rxns_nonzero = []\n",
    "    for r,v in res.metabolic_flux.items():\n",
    "        if v > 0:\n",
    "            rxns_nonzero.append(r+'_FWD')\n",
    "        elif v < 0:\n",
    "            rxns_nonzero.append(r+'_REV')\n",
    "            \n",
    "    enzloads = {k:v for k,v in res.raw_flux.items() if k.split('-')[0] == 'ENZLOAD' and v > 0}\n",
    "    for k,v in enzloads.items():\n",
    "        rxn = k.split('-')[1]\n",
    "        if rxn not in rxns_nonzero:\n",
    "            rxn_id = 'RXN-' + k[8:]\n",
    "            print(rxn_id, res.raw_flux[rxn_id])\n",
    "            \n",
    "    try:\n",
    "        rxn_print = 'RXN-ALCD2i1_c_FWD-YMR303C'\n",
    "        print(rxn_print, res.raw_flux[rxn_print])\n",
    "        rxn_print = 'RXN-ALCD2i1_c_FWD-YMR303C'\n",
    "        print(rxn_print, res.raw_flux[rxn_print])\n",
    "    except:\n",
    "        None"
   ]
  },
  {
   "cell_type": "code",
   "execution_count": null,
   "metadata": {},
   "outputs": [],
   "source": []
  }
 ],
 "metadata": {
  "kernelspec": {
   "display_name": "Python 3",
   "language": "python",
   "name": "python3"
  },
  "language_info": {
   "codemirror_mode": {
    "name": "ipython",
    "version": 3
   },
   "file_extension": ".py",
   "mimetype": "text/x-python",
   "name": "python",
   "nbconvert_exporter": "python",
   "pygments_lexer": "ipython3",
   "version": "3.7.9"
  }
 },
 "nbformat": 4,
 "nbformat_minor": 4
}
