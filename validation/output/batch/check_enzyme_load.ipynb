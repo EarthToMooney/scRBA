{
 "cells": [
  {
   "cell_type": "code",
   "execution_count": 1,
   "metadata": {},
   "outputs": [],
   "source": [
    "import pandas as pd\n",
    "import numpy as np\n",
    "\n",
    "import sys\n",
    "sys.path.append('../../../pycore/')\n",
    "from simulate import RBA_result\n",
    "from utils import extract_details_from_rxnid\n",
    "\n",
    "import matplotlib.pyplot as plt\n",
    "import matplotlib.patches as mp\n",
    "import seaborn as sns\n",
    "import matplotlib.lines as mlines\n",
    "%matplotlib inline"
   ]
  },
  {
   "cell_type": "code",
   "execution_count": 2,
   "metadata": {},
   "outputs": [],
   "source": [
    "path_enz_mw = '../../../input/enz_mw_g_per_mmol.txt'\n",
    "path_pro_mw = '../../../input/pro_mw_g_per_mmol.txt'\n",
    "\n",
    "with open(path_enz_mw) as f:\n",
    "    text = f.read().split('\\n')\n",
    "text = [i for i in text if i != '']\n",
    "enz_mw = dict()\n",
    "for i in text:\n",
    "    k,v = i.split('\\t')\n",
    "    enz_mw[k] = float(v)\n",
    "    \n",
    "with open(path_pro_mw) as f:\n",
    "    text = f.read().split('\\n')\n",
    "text = [i for i in text if i != '']\n",
    "pro_mw = dict()\n",
    "for i in text:\n",
    "    k,v = i.split('\\t')\n",
    "    pro_mw[k] = float(v)"
   ]
  },
  {
   "cell_type": "raw",
   "metadata": {},
   "source": [
    "netflux = dict()\n",
    "for k,v in res.metabolic_flux.items():\n",
    "    rdir = 'FWD' if v > 0 else 'REV'\n",
    "    netflux[k+'_'+rdir] = v\n",
    "    \n",
    "netflux_ubs = dict()\n",
    "for k,v in enz_mw.items():\n",
    "    _,rxn,rdir,enz = extract_details_from_rxnid(k)\n",
    "    if rxn + '_' + rdir in netflux.keys():\n",
    "        netflux_ubs['RXN-' + k[8:]] = netflux[rxn+'_'+rdir]\n",
    "    else:\n",
    "        netflux_ubs['RXN-' + k[8:]] = 0"
   ]
  },
  {
   "cell_type": "code",
   "execution_count": 3,
   "metadata": {},
   "outputs": [],
   "source": [
    "flist = ['vglc_0_5', 'vglc_1_0', 'vglc_2_0', 'vglc_3_0', 'vglc_4_0', 'vglc_5_0',\n",
    "         'vglc_5_5', 'vglc_5_6', 'vglc_5_7', 'vglc_5_8', 'vglc_5_9', 'vglc_6_0', 'vglc_7_0',\n",
    "         'vglc_8_0', 'vglc_9_0', 'vglc_10_0', 'vglc_11_0', 'vglc_12_0',\n",
    "         'vglc_13_0', 'vglc_14_0', 'vglc_15_0', 'vglc_16_0', 'vglc_17_0']\n",
    "reslist = []\n",
    "for fdir in flist:\n",
    "    res = RBA_result(biom_id=None)\n",
    "    res.load_from_json('./results/' + fdir + '/RBA_result.json')\n",
    "    reslist.append(res)"
   ]
  },
  {
   "cell_type": "code",
   "execution_count": 4,
   "metadata": {},
   "outputs": [
    {
     "name": "stdout",
     "output_type": "stream",
     "text": [
      "vglc_0_5 , GR = 0.0411 , ETOH = 0 , raw calculated pcap: 1.0\n",
      "RXN-ACACT40ir_m_REV-YPL028W 59.798444163668655\n",
      "vglc_1_0 , GR = 0.0853 , ETOH = 0 , raw calculated pcap: 1.0\n",
      "RXN-ACACT40ir_m_REV-YPL028W 57.34128812950226\n",
      "vglc_2_0 , GR = 0.1723 , ETOH = 0 , raw calculated pcap: 1.0\n",
      "RXN-ACACT40ir_m_REV-YPL028W 51.716181282248556\n",
      "vglc_3_0 , GR = 0.2577 , ETOH = 0 , raw calculated pcap: 1.0\n",
      "RXN-ACACT40ir_m_REV-YPL028W 44.99310232107145\n",
      "vglc_4_0 , GR = 0.3415 , ETOH = 0 , raw calculated pcap: 1.0\n",
      "RXN-ACACT40ir_m_REV-YPL028W 37.250142581366916\n",
      "vglc_5_0 , GR = 0.4238 , ETOH = 0 , raw calculated pcap: 1.0\n",
      "RXN-ACACT40ir_m_REV-YPL028W 28.56023037097381\n",
      "vglc_5_5 , GR = 0.4643 , ETOH = 0 , raw calculated pcap: 1.0\n",
      "RXN-ACACT40ir_m_REV-YPL028W 23.88068201670307\n",
      "vglc_5_6 , GR = 0.4724 , ETOH = 0 , raw calculated pcap: 1.0\n",
      "RXN-ACACT40ir_m_REV-YPL028W 22.918251946065062\n",
      "vglc_5_7 , GR = 0.4797 , ETOH = 0 , raw calculated pcap: 1.0\n",
      "RXN-DBTS_c_FWD-YNR057C 59.425925101996434\n",
      "RXN-DBTS_c_REV-YNR057C 59.425925101996434\n",
      "vglc_5_8 , GR = 0.48 , ETOH = 0.1213 , raw calculated pcap: 1.0\n",
      "RXN-DBTS_c_FWD-YNR057C 62.397531885559054\n",
      "RXN-DBTS_c_REV-YNR057C 62.397531885559054\n",
      "vglc_5_9 , GR = 0.48 , ETOH = 0.344 , raw calculated pcap: 1.0\n",
      "RXN-DBTS_c_FWD-YNR057C 62.098017090674155\n",
      "RXN-DBTS_c_REV-YNR057C 62.098017090674155\n",
      "vglc_6_0 , GR = 0.4799 , ETOH = 0.5567 , raw calculated pcap: 1.0\n",
      "RXN-DBTS_c_FWD-YNR057C 61.65066058121411\n",
      "RXN-DBTS_c_REV-YNR057C 61.65066058121411\n",
      "vglc_7_0 , GR = 0.4796 , ETOH = 2.7337 , raw calculated pcap: 1.0\n",
      "RXN-DBTS_c_FWD-YNR057C 57.79603606989083\n",
      "RXN-DBTS_c_REV-YNR057C 57.79603606989083\n",
      "vglc_8_0 , GR = 0.4793 , ETOH = 4.9107 , raw calculated pcap: 1.0\n",
      "RXN-DBTS_c_FWD-YNR057C 53.870229246686065\n",
      "RXN-DBTS_c_REV-YNR057C 53.870229246686065\n",
      "vglc_9_0 , GR = 0.479 , ETOH = 7.0876 , raw calculated pcap: 1.0\n",
      "RXN-DBTS_c_FWD-YNR057C 50.007818619030466\n",
      "RXN-DBTS_c_REV-YNR057C 50.007818619030466\n",
      "vglc_10_0 , GR = 0.4786 , ETOH = 9.2648 , raw calculated pcap: 1.0\n",
      "RXN-DBTS_c_FWD-YNR057C 46.100625473120516\n",
      "RXN-DBTS_c_REV-YNR057C 46.100625473120516\n",
      "vglc_11_0 , GR = 0.4783 , ETOH = 11.4467 , raw calculated pcap: 1.0\n",
      "RXN-DBTS_c_FWD-YNR057C 42.34213731507599\n",
      "RXN-DBTS_c_REV-YNR057C 42.34213731507599\n",
      "vglc_12_0 , GR = 0.478 , ETOH = 13.6187 , raw calculated pcap: 1.0\n",
      "RXN-DBTS_c_FWD-YNR057C 38.35124196887019\n",
      "RXN-DBTS_c_REV-YNR057C 38.35124196887019\n",
      "vglc_13_0 , GR = 0.4777 , ETOH = 15.7956 , raw calculated pcap: 1.0\n",
      "RXN-DBTS_c_FWD-YNR057C 34.49367301284579\n",
      "RXN-DBTS_c_REV-YNR057C 34.49367301284579\n",
      "vglc_14_0 , GR = 0.4774 , ETOH = 17.9726 , raw calculated pcap: 1.0\n",
      "RXN-DBTS_c_FWD-YNR057C 30.604018258633868\n",
      "RXN-DBTS_c_REV-YNR057C 30.604018258633868\n",
      "vglc_15_0 , GR = 0.477 , ETOH = 20.1497 , raw calculated pcap: 1.0\n",
      "RXN-DBTS_c_FWD-YNR057C 26.74489416214118\n",
      "RXN-DBTS_c_REV-YNR057C 26.74489416214118\n",
      "vglc_16_0 , GR = 0.4767 , ETOH = 22.3268 , raw calculated pcap: 1.0\n",
      "RXN-DBTS_c_FWD-YNR057C 22.86142007217423\n",
      "RXN-DBTS_c_REV-YNR057C 22.86142007217423\n",
      "vglc_17_0 , GR = 0.4764 , ETOH = 24.509 , raw calculated pcap: 1.0\n",
      "RXN-DBTS_c_FWD-YNR057C 19.087180821888627\n",
      "RXN-DBTS_c_REV-YNR057C 19.087180821888627\n"
     ]
    }
   ],
   "source": [
    "N = len(flist)\n",
    "load_excess = 'ENZLOAD-ACACT40ir_m_REV-YPL028W'\n",
    "load_excess2 = 'ENZLOAD-ACACT40ir_m_FWD-YPL028W'\n",
    "\n",
    "for i in range(0,N):\n",
    "    fname = flist[i]\n",
    "    res = reslist[i]\n",
    "    gr = res.growth_rate\n",
    "    if 'EX_etoh_e' in res.metabolic_flux.keys():\n",
    "        etoh = res.metabolic_flux['EX_etoh_e']\n",
    "    else:\n",
    "        etoh = 0\n",
    "    pcap_raw = round(res.proteome_capacity_usage, 4)\n",
    "    print(fname, ', GR =', round(gr,4), ', ETOH =', round(etoh,4),\n",
    "          ', raw calculated pcap:', pcap_raw)\n",
    "\n",
    "    # Check bad enzyme load\n",
    "    rxns_nonzero = []\n",
    "    for r,v in res.metabolic_flux.items():\n",
    "        if v > 0:\n",
    "            rxns_nonzero.append(r+'_FWD')\n",
    "        elif v < 0:\n",
    "            rxns_nonzero.append(r+'_REV')\n",
    "            \n",
    "    enzloads = {k:v for k,v in res.raw_flux.items() if k.split('-')[0] == 'ENZLOAD' and v > 0}\n",
    "    for k,v in enzloads.items():\n",
    "        rxn = k.split('-')[1]\n",
    "        if rxn not in rxns_nonzero:\n",
    "            rxn_id = 'RXN-' + k[8:]\n",
    "            print(rxn_id, res.raw_flux[rxn_id])\n",
    "            \n",
    "    try:\n",
    "        rxn_print = 'RXN-ALCD2i1_c_FWD-YMR303C'\n",
    "        print(rxn_print, res.raw_flux[rxn_print])\n",
    "        rxn_print = 'RXN-ALCD2i1_c_FWD-YMR303C'\n",
    "        print(rxn_print, res.raw_flux[rxn_print])\n",
    "    except:\n",
    "        None"
   ]
  },
  {
   "cell_type": "code",
   "execution_count": null,
   "metadata": {},
   "outputs": [],
   "source": []
  },
  {
   "cell_type": "code",
   "execution_count": 3,
   "metadata": {},
   "outputs": [],
   "source": [
    "flist = ['vglc_12_5246']\n",
    "reslist = []\n",
    "for fdir in flist:\n",
    "    res = RBA_result(biom_id=None)\n",
    "    res.load_from_json('./results/' + fdir + '/RBA_result.json')\n",
    "    reslist.append(res)"
   ]
  },
  {
   "cell_type": "code",
   "execution_count": 4,
   "metadata": {},
   "outputs": [
    {
     "name": "stdout",
     "output_type": "stream",
     "text": [
      "vglc_12_5246 , GR = 0.4623 , ETOH = 15.196 , raw calculated pcap: 1.0\n",
      "RXN-DBTS_c_FWD-YNR057C 43.95985460196\n",
      "RXN-DBTS_c_REV-YNR057C 43.95985460196\n"
     ]
    }
   ],
   "source": [
    "N = len(flist)\n",
    "load_excess = 'ENZLOAD-ACACT40ir_m_REV-YPL028W'\n",
    "load_excess2 = 'ENZLOAD-ACACT40ir_m_FWD-YPL028W'\n",
    "\n",
    "for i in range(0,N):\n",
    "    fname = flist[i]\n",
    "    res = reslist[i]\n",
    "    gr = res.growth_rate\n",
    "    if 'EX_etoh_e' in res.metabolic_flux.keys():\n",
    "        etoh = res.metabolic_flux['EX_etoh_e']\n",
    "    else:\n",
    "        etoh = 0\n",
    "    pcap_raw = round(res.proteome_capacity_usage, 4)\n",
    "    print(fname, ', GR =', round(gr,4), ', ETOH =', round(etoh,4),\n",
    "          ', raw calculated pcap:', pcap_raw)\n",
    "\n",
    "    # Check bad enzyme load\n",
    "    rxns_nonzero = []\n",
    "    for r,v in res.metabolic_flux.items():\n",
    "        if v > 0:\n",
    "            rxns_nonzero.append(r+'_FWD')\n",
    "        elif v < 0:\n",
    "            rxns_nonzero.append(r+'_REV')\n",
    "            \n",
    "    enzloads = {k:v for k,v in res.raw_flux.items() if k.split('-')[0] == 'ENZLOAD' and v > 0}\n",
    "    for k,v in enzloads.items():\n",
    "        rxn = k.split('-')[1]\n",
    "        if rxn not in rxns_nonzero:\n",
    "            rxn_id = 'RXN-' + k[8:]\n",
    "            print(rxn_id, res.raw_flux[rxn_id])\n",
    "            \n",
    "    try:\n",
    "        rxn_print = 'RXN-ALCD2i1_c_FWD-YMR303C'\n",
    "        print(rxn_print, res.raw_flux[rxn_print])\n",
    "        rxn_print = 'RXN-ALCD2i1_c_FWD-YMR303C'\n",
    "        print(rxn_print, res.raw_flux[rxn_print])\n",
    "    except:\n",
    "        None"
   ]
  },
  {
   "cell_type": "code",
   "execution_count": null,
   "metadata": {},
   "outputs": [],
   "source": []
  },
  {
   "cell_type": "code",
   "execution_count": null,
   "metadata": {},
   "outputs": [],
   "source": []
  },
  {
   "cell_type": "code",
   "execution_count": 5,
   "metadata": {},
   "outputs": [
    {
     "name": "stdout",
     "output_type": "stream",
     "text": [
      "vglc_5_5 , growth rate: 0.466 , raw calculated pcap: 1.0\n",
      "RXN-CO2t_c_e_FWD-SPONT 1000.0\n",
      "RXN-CO2t_c_e_REV-SPONT 985.1919041700523\n",
      "RXN-DAGt_gm_rm_FWD-SPONT 1000.0\n",
      "RXN-DAGt_gm_rm_REV-SPONT 999.997870531504\n",
      "RXN-DBTS_c_FWD-YNR057C 301.8838346537199\n",
      "RXN-DBTS_c_REV-YNR057C 301.8838346537199\n",
      "RXN-EX_co2_e_FWD-SPONT 1000.0\n",
      "RXN-EX_co2_e_REV-SPONT 985.1919041700523\n",
      "RXN-EX_h2o_e_FWD-SPONT 1000.0\n",
      "RXN-EX_h2o_e_REV-SPONT 975.5403483179165\n",
      "RXN-EX_h_e_FWD-SPONT 1000.0\n",
      "RXN-EX_h_e_REV-SPONT 998.9604990637412\n",
      "RXN-NADPt_c_r_FWD-SPONT 999.9579126247334\n",
      "RXN-NADPt_c_r_REV-SPONT 1000.0\n",
      "RXN-O2t_c_r_FWD-SPONT 1000.0\n",
      "RXN-O2t_c_r_REV-SPONT 999.9785304186674\n",
      "vglc_5_6 , growth rate: 0.47 , raw calculated pcap: 1.0\n",
      "RXN-DBTS_c_FWD-YNR057C 493.4095088767795\n",
      "RXN-DBTS_c_REV-YNR057C 493.4095088767795\n",
      "vglc_5_7 , growth rate: 0.471 , raw calculated pcap: 1.0\n",
      "RXN-CO2t_c_e_FWD-SPONT 1000.0\n",
      "RXN-CO2t_c_e_REV-SPONT 984.247547663631\n",
      "RXN-DAGt_gm_rm_FWD-SPONT 1000.0\n",
      "RXN-DAGt_gm_rm_REV-SPONT 999.9961658729148\n",
      "RXN-DBTS_c_FWD-YNR057C 507.7843816760416\n",
      "RXN-DBTS_c_REV-YNR057C 507.7843816760416\n",
      "RXN-EX_co2_e_FWD-SPONT 1000.0\n",
      "RXN-EX_co2_e_REV-SPONT 984.247547663631\n",
      "RXN-EX_h2o_e_FWD-SPONT 1000.0\n",
      "RXN-EX_h2o_e_REV-SPONT 974.4757107051965\n",
      "RXN-EX_h_e_FWD-SPONT 1000.0\n",
      "RXN-EX_h_e_REV-SPONT 998.9296311374995\n",
      "RXN-NADPt_c_r_FWD-SPONT 999.9574998978235\n",
      "RXN-NADPt_c_r_REV-SPONT 1000.0\n",
      "RXN-O2t_c_r_FWD-SPONT 1000.0\n",
      "RXN-O2t_c_r_REV-SPONT 999.9783198787156\n",
      "vglc_6_0 , growth rate: 0.471 , raw calculated pcap: 1.0\n",
      "RXN-CO2t_c_e_FWD-SPONT 1000.0\n",
      "RXN-CO2t_c_e_REV-SPONT 983.7332237998696\n",
      "RXN-DAGt_gm_rm_FWD-SPONT 1000.0\n",
      "RXN-DAGt_gm_rm_REV-SPONT 999.9961659490738\n",
      "RXN-DBTS_c_FWD-YNR057C 507.1448947902764\n",
      "RXN-DBTS_c_REV-YNR057C 507.1448947902764\n",
      "RXN-EX_co2_e_FWD-SPONT 1000.0\n",
      "RXN-EX_co2_e_REV-SPONT 983.7332237998696\n",
      "RXN-EX_h2o_e_FWD-SPONT 1000.0\n",
      "RXN-EX_h2o_e_REV-SPONT 974.6046266014998\n",
      "RXN-EX_h_e_FWD-SPONT 1000.0\n",
      "RXN-EX_h_e_REV-SPONT 998.9297115980177\n",
      "RXN-NADPt_c_r_FWD-SPONT 999.9575007420212\n",
      "RXN-NADPt_c_r_REV-SPONT 1000.0\n",
      "RXN-O2t_c_r_FWD-SPONT 1000.0\n",
      "RXN-O2t_c_r_REV-SPONT 999.9783203093572\n",
      "vglc_7_0 , growth rate: 0.471 , raw calculated pcap: 1.0\n",
      "RXN-CO2t_c_e_FWD-SPONT 1000.0\n",
      "RXN-CO2t_c_e_REV-SPONT 982.0730978438734\n",
      "RXN-DAGt_gm_rm_FWD-SPONT 1000.0\n",
      "RXN-DAGt_gm_rm_REV-SPONT 999.9961664463244\n",
      "RXN-DBTS_c_FWD-YNR057C 504.7903066285122\n",
      "RXN-DBTS_c_REV-YNR057C 504.7903066285122\n",
      "RXN-EX_co2_e_FWD-SPONT 1000.0\n",
      "RXN-EX_co2_e_REV-SPONT 982.0730978438734\n",
      "RXN-EX_h2o_e_FWD-SPONT 1000.0\n",
      "RXN-EX_h2o_e_REV-SPONT 975.1163249306734\n",
      "RXN-EX_h_e_FWD-SPONT 1000.0\n",
      "RXN-EX_h_e_REV-SPONT 998.9298768230389\n",
      "RXN-NADPt_c_r_FWD-SPONT 999.957506253889\n",
      "RXN-NADPt_c_r_REV-SPONT 1000.0\n",
      "RXN-O2t_c_r_FWD-SPONT 1000.0\n",
      "RXN-O2t_c_r_REV-SPONT 999.9783231210674\n",
      "vglc_8_0 , growth rate: 0.471 , raw calculated pcap: 1.0\n",
      "RXN-CO2t_c_e_FWD-SPONT 1000.0\n",
      "RXN-CO2t_c_e_REV-SPONT 977.0356558979727\n",
      "RXN-DAGt_gm_rm_FWD-SPONT 1000.0\n",
      "RXN-DAGt_gm_rm_REV-SPONT 999.9961664550164\n",
      "RXN-DBTS_c_FWD-YNR057C 505.1982555309569\n",
      "RXN-DBTS_c_REV-YNR057C 505.1982555309569\n",
      "RXN-EX_co2_e_FWD-SPONT 1000.0\n",
      "RXN-EX_co2_e_REV-SPONT 977.0356558979727\n",
      "RXN-EX_h2o_e_FWD-SPONT 1000.0\n",
      "RXN-EX_h2o_e_REV-SPONT 970.5593535947218\n",
      "RXN-EX_h_e_FWD-SPONT 1000.0\n",
      "RXN-EX_h_e_REV-SPONT 998.9298534392306\n",
      "RXN-NADPt_c_r_FWD-SPONT 999.9575063502365\n",
      "RXN-NADPt_c_r_REV-SPONT 1000.0\n",
      "RXN-O2t_c_r_FWD-SPONT 1000.0\n",
      "RXN-O2t_c_r_REV-SPONT 999.978323170216\n",
      "vglc_9_0 , growth rate: 0.47 , raw calculated pcap: 1.0\n",
      "RXN-ADPt_c_gm_FWD-SPONT 1000.0\n",
      "RXN-ADPt_c_gm_REV-SPONT 1000.0\n",
      "RXN-CO2t_c_e_FWD-SPONT 1000.0\n",
      "RXN-CO2t_c_e_REV-SPONT 978.7687615584533\n",
      "RXN-DAGt_gm_rm_FWD-SPONT 1000.0\n",
      "RXN-DAGt_gm_rm_REV-SPONT 999.996167316513\n",
      "RXN-DBTS_c_FWD-YNR057C 499.8840997486695\n",
      "RXN-DBTS_c_REV-YNR057C 499.8840997486695\n",
      "RXN-EX_co2_e_FWD-SPONT 1000.0\n",
      "RXN-EX_co2_e_REV-SPONT 978.7687615584533\n",
      "RXN-EX_h2o_e_FWD-SPONT 1000.0\n",
      "RXN-EX_h2o_e_REV-SPONT 976.1640083397265\n",
      "RXN-EX_h_e_FWD-SPONT 1000.0\n",
      "RXN-EX_h_e_REV-SPONT 998.9303338788105\n",
      "RXN-NADPt_c_r_FWD-SPONT 999.9575158996581\n",
      "RXN-NADPt_c_r_REV-SPONT 1000.0\n",
      "RXN-O2t_c_r_FWD-SPONT 1000.0\n",
      "RXN-O2t_c_r_REV-SPONT 999.97832804156\n",
      "vglc_10_0 , growth rate: 0.47 , raw calculated pcap: 1.0\n",
      "RXN-CO2t_c_e_FWD-SPONT 1000.0\n",
      "RXN-CO2t_c_e_REV-SPONT 977.098886272102\n",
      "RXN-DAGt_gm_rm_FWD-SPONT 1000.0\n",
      "RXN-DAGt_gm_rm_REV-SPONT 999.9961677516073\n",
      "RXN-DBTS_c_FWD-YNR057C 497.4838624887996\n",
      "RXN-DBTS_c_REV-YNR057C 497.4838624887996\n",
      "RXN-EX_co2_e_FWD-SPONT 1000.0\n",
      "RXN-EX_co2_e_REV-SPONT 977.098886272102\n",
      "RXN-EX_h2o_e_FWD-SPONT 1000.0\n",
      "RXN-EX_h2o_e_REV-SPONT 976.6612899301462\n",
      "RXN-EX_h_e_FWD-SPONT 1000.0\n",
      "RXN-EX_h_e_REV-SPONT 998.9306406485925\n",
      "RXN-NADPt_c_r_FWD-SPONT 999.9575207225425\n",
      "RXN-NADPt_c_r_REV-SPONT 1000.0\n",
      "RXN-O2t_c_r_FWD-SPONT 1000.0\n",
      "RXN-O2t_c_r_REV-SPONT 999.9783305018063\n",
      "vglc_11_0 , growth rate: 0.47 , raw calculated pcap: 1.0\n",
      "RXN-CO2t_c_e_FWD-SPONT 1000.0\n",
      "RXN-CO2t_c_e_REV-SPONT 975.4322801989222\n",
      "RXN-DAGt_gm_rm_FWD-SPONT 1000.0\n",
      "RXN-DAGt_gm_rm_REV-SPONT 999.9961681867017\n",
      "RXN-DBTS_c_FWD-YNR057C 495.1939019692634\n",
      "RXN-DBTS_c_REV-YNR057C 495.1939019692634\n",
      "RXN-EX_co2_e_FWD-SPONT 1000.0\n",
      "RXN-EX_co2_e_REV-SPONT 975.4322801989222\n",
      "RXN-EX_h2o_e_FWD-SPONT 1000.0\n",
      "RXN-EX_h2o_e_REV-SPONT 977.1632686835791\n",
      "RXN-EX_h_e_FWD-SPONT 1000.0\n",
      "RXN-EX_h_e_REV-SPONT 998.9308004505219\n",
      "RXN-NADPt_c_r_FWD-SPONT 999.957525545427\n",
      "RXN-NADPt_c_r_REV-SPONT 1000.0\n",
      "RXN-O2t_c_r_FWD-SPONT 1000.0\n",
      "RXN-O2t_c_r_REV-SPONT 999.9783329620527\n",
      "vglc_12_0 , growth rate: 0.47 , raw calculated pcap: 1.0\n",
      "RXN-CO2t_c_e_FWD-SPONT 1000.0\n",
      "RXN-CO2t_c_e_REV-SPONT 973.7721205537808\n",
      "RXN-DAGt_gm_rm_FWD-SPONT 1000.0\n",
      "RXN-DAGt_gm_rm_REV-SPONT 999.9961686217958\n",
      "RXN-DBTS_c_FWD-YNR057C 492.9388520505362\n",
      "RXN-DBTS_c_REV-YNR057C 492.9388520505362\n",
      "RXN-EX_co2_e_FWD-SPONT 1000.0\n",
      "RXN-EX_co2_e_REV-SPONT 973.7721205537808\n",
      "RXN-EX_h2o_e_FWD-SPONT 1000.0\n",
      "RXN-EX_h2o_e_REV-SPONT 977.6747364898628\n",
      "RXN-EX_h_e_FWD-SPONT 1000.0\n",
      "RXN-EX_h_e_REV-SPONT 998.9309474735454\n",
      "RXN-NADPt_c_r_FWD-SPONT 999.9575303683114\n",
      "RXN-NADPt_c_r_REV-SPONT 1000.0\n",
      "RXN-O2t_c_r_FWD-SPONT 1000.0\n",
      "RXN-O2t_c_r_REV-SPONT 999.9783354222989\n",
      "vglc_13_0 , growth rate: 0.47 , raw calculated pcap: 1.0\n",
      "RXN-CO2t_c_e_FWD-SPONT 1000.0\n",
      "RXN-CO2t_c_e_REV-SPONT 972.1099419689402\n",
      "RXN-DAGt_gm_rm_FWD-SPONT 1000.0\n",
      "RXN-DAGt_gm_rm_REV-SPONT 999.9961690568902\n",
      "RXN-DBTS_c_FWD-YNR057C 490.4684054770683\n",
      "RXN-DBTS_c_REV-YNR057C 490.4684054770683\n",
      "RXN-EX_co2_e_FWD-SPONT 1000.0\n",
      "RXN-EX_co2_e_REV-SPONT 972.1099419689402\n",
      "RXN-EX_h2o_e_FWD-SPONT 1000.0\n",
      "RXN-EX_h2o_e_REV-SPONT 978.1836455004519\n",
      "RXN-EX_h_e_FWD-SPONT 1000.0\n",
      "RXN-EX_h_e_REV-SPONT 998.9312458520373\n",
      "RXN-NADPt_c_r_FWD-SPONT 999.957535191196\n",
      "RXN-NADPt_c_r_REV-SPONT 1000.0\n",
      "RXN-O2t_c_r_FWD-SPONT 1000.0\n",
      "RXN-O2t_c_r_REV-SPONT 999.9783378825452\n",
      "vglc_14_0 , growth rate: 0.47 , raw calculated pcap: 1.0\n",
      "RXN-CO2t_c_e_FWD-SPONT 1000.0\n",
      "RXN-CO2t_c_e_REV-SPONT 970.4514704766761\n",
      "RXN-DAGt_gm_rm_FWD-SPONT 1000.0\n",
      "RXN-DAGt_gm_rm_REV-SPONT 999.9961694919843\n",
      "RXN-DBTS_c_FWD-YNR057C 488.0993544275537\n",
      "RXN-DBTS_c_REV-YNR057C 488.0993544275537\n",
      "RXN-EX_co2_e_FWD-SPONT 1000.0\n",
      "RXN-EX_co2_e_REV-SPONT 970.4514704766761\n",
      "RXN-EX_h2o_e_FWD-SPONT 1000.0\n",
      "RXN-EX_h2o_e_REV-SPONT 978.698075439423\n",
      "RXN-EX_h_e_FWD-SPONT 1000.0\n",
      "RXN-EX_h_e_REV-SPONT 998.9315464767963\n",
      "RXN-NADPt_c_r_FWD-SPONT 999.9575400140805\n",
      "RXN-NADPt_c_r_REV-SPONT 1000.0\n",
      "RXN-O2t_c_r_FWD-SPONT 1000.0\n",
      "RXN-O2t_c_r_REV-SPONT 999.9783403427916\n",
      "vglc_15_0 , growth rate: 0.47 , raw calculated pcap: 1.0\n",
      "RXN-CO2t_c_e_FWD-SPONT 1000.0\n",
      "RXN-CO2t_c_e_REV-SPONT 968.792168744231\n",
      "RXN-DAGt_gm_rm_FWD-SPONT 1000.0\n",
      "RXN-DAGt_gm_rm_REV-SPONT 999.9961699270787\n",
      "RXN-DBTS_c_FWD-YNR057C 485.7505892276606\n",
      "RXN-DBTS_c_REV-YNR057C 485.7505892276606\n",
      "RXN-EX_co2_e_FWD-SPONT 1000.0\n",
      "RXN-EX_co2_e_REV-SPONT 968.792168744231\n",
      "RXN-EX_h2o_e_FWD-SPONT 1000.0\n",
      "RXN-EX_h2o_e_REV-SPONT 979.2087301395209\n",
      "RXN-EX_h_e_FWD-SPONT 1000.0\n",
      "RXN-EX_h_e_REV-SPONT 998.9321725916574\n",
      "RXN-NADPt_c_r_FWD-SPONT 999.9575448369649\n",
      "RXN-NADPt_c_r_REV-SPONT 1000.0\n",
      "RXN-O2t_c_r_FWD-SPONT 1000.0\n",
      "RXN-O2t_c_r_REV-SPONT 999.978342803038\n",
      "vglc_16_0 , growth rate: 0.47 , raw calculated pcap: 1.0\n",
      "RXN-CO2t_c_e_FWD-SPONT 1000.0\n",
      "RXN-CO2t_c_e_REV-SPONT 967.1313750835943\n",
      "RXN-DAGt_gm_rm_FWD-SPONT 1000.0\n",
      "RXN-DAGt_gm_rm_REV-SPONT 999.9961703621731\n",
      "RXN-DBTS_c_FWD-YNR057C 483.5949111500577\n",
      "RXN-DBTS_c_REV-YNR057C 483.5949111500577\n",
      "RXN-EX_co2_e_FWD-SPONT 1000.0\n",
      "RXN-EX_co2_e_REV-SPONT 967.1313750835943\n",
      "RXN-EX_h2o_e_FWD-SPONT 1000.0\n",
      "RXN-EX_h2o_e_REV-SPONT 979.7219554740534\n",
      "RXN-EX_h_e_FWD-SPONT 1000.0\n",
      "RXN-EX_h_e_REV-SPONT 998.9319716776986\n",
      "RXN-NADPt_c_r_FWD-SPONT 999.9575496598495\n",
      "RXN-NADPt_c_r_REV-SPONT 1000.0\n",
      "RXN-O2t_c_r_FWD-SPONT 1000.0\n",
      "RXN-O2t_c_r_REV-SPONT 999.9783452632842\n"
     ]
    }
   ],
   "source": [
    "N = len(flist)\n",
    "load_excess = 'ENZLOAD-ACACT40ir_m_REV-YPL028W'\n",
    "load_excess2 = 'ENZLOAD-ACACT40ir_m_FWD-YPL028W'\n",
    "\n",
    "for i in range(0,N):\n",
    "    fname = flist[i]\n",
    "    res = reslist[i]\n",
    "    gr = round(res.growth_rate,3)\n",
    "    pcap_raw = round(res.proteome_capacity_usage, 4)\n",
    "    #flux_excess = res.metabolic_flux['RXN-' + ]\n",
    "    #acact40_load = res.raw_flux[rxn] * enz_mw[rxn]\n",
    "    print(fname, ', growth rate:', gr, ', raw calculated pcap:', pcap_raw)\n",
    "    for rxn,val in res.raw_flux.items():\n",
    "        tag = rxn.split('-')[0]\n",
    "        if tag == 'RXN':\n",
    "            if val > 100:\n",
    "                print(rxn,val)"
   ]
  },
  {
   "cell_type": "code",
   "execution_count": null,
   "metadata": {},
   "outputs": [],
   "source": []
  },
  {
   "cell_type": "code",
   "execution_count": null,
   "metadata": {},
   "outputs": [],
   "source": []
  },
  {
   "cell_type": "code",
   "execution_count": 5,
   "metadata": {},
   "outputs": [],
   "source": [
    "res = RBA_result(biom_id='BIOSYN-BIODILAERO')\n",
    "res.load_from_json('./RBA_result.json')"
   ]
  },
  {
   "cell_type": "code",
   "execution_count": 6,
   "metadata": {},
   "outputs": [
    {
     "name": "stdout",
     "output_type": "stream",
     "text": [
      "vglc_16_0_test , growth rate: 0.45 , raw calculated pcap: 0.5\n",
      "RXN-DBTS_c_FWD-YNR057C 34.22808270149386\n",
      "RXN-DBTS_c_REV-YNR057C 34.22808270149386\n"
     ]
    }
   ],
   "source": [
    "fname = 'vglc_16_0_test'\n",
    "gr = round(res.growth_rate,3)\n",
    "pcap_raw = round(res.proteome_capacity_usage, 4)\n",
    "#flux_excess = res.metabolic_flux['RXN-' + ]\n",
    "#acact40_load = res.raw_flux[rxn] * enz_mw[rxn]\n",
    "print(fname, ', growth rate:', gr, ', raw calculated pcap:', pcap_raw)\n",
    "\n",
    "\n",
    "# Check bad enzyme load\n",
    "rxns_nonzero = []\n",
    "for r,v in res.metabolic_flux.items():\n",
    "    if v > 0:\n",
    "        rxns_nonzero.append(r+'_FWD')\n",
    "    elif v < 0:\n",
    "        rxns_nonzero.append(r+'_REV')\n",
    "\n",
    "enzloads = {k:v for k,v in res.raw_flux.items() if k.split('-')[0] == 'ENZLOAD' and v > 0}\n",
    "for k,v in enzloads.items():\n",
    "    rxn = k.split('-')[1]\n",
    "    if rxn not in rxns_nonzero:\n",
    "        rxn_id = 'RXN-' + k[8:]\n",
    "        print(rxn_id, res.raw_flux[rxn_id])\n",
    "\n",
    "try:\n",
    "    rxn_print = 'RXN-ALCD2i1_c_FWD-YMR303C'\n",
    "    print(rxn_print, res.raw_flux[rxn_print])\n",
    "    rxn_print = 'RXN-ALCD2i1_c_FWD-YMR303C'\n",
    "    print(rxn_print, res.raw_flux[rxn_print])\n",
    "except:\n",
    "    None"
   ]
  },
  {
   "cell_type": "code",
   "execution_count": null,
   "metadata": {},
   "outputs": [],
   "source": []
  },
  {
   "cell_type": "code",
   "execution_count": 127,
   "metadata": {},
   "outputs": [
    {
     "data": {
      "text/plain": [
       "0.177182006835938"
      ]
     },
     "execution_count": 127,
     "metadata": {},
     "output_type": "execute_result"
    }
   ],
   "source": [
    "res.growth_rate"
   ]
  },
  {
   "cell_type": "code",
   "execution_count": 128,
   "metadata": {
    "scrolled": false
   },
   "outputs": [
    {
     "data": {
      "text/plain": [
       "0.9999112605330238"
      ]
     },
     "execution_count": 128,
     "metadata": {},
     "output_type": "execute_result"
    }
   ],
   "source": [
    "res.proteome_capacity_usage"
   ]
  },
  {
   "cell_type": "code",
   "execution_count": 140,
   "metadata": {},
   "outputs": [],
   "source": [
    "ptot = res.raw_flux['BIOSYN-PROTTOBIO'] * 0.55"
   ]
  },
  {
   "cell_type": "code",
   "execution_count": 141,
   "metadata": {},
   "outputs": [
    {
     "data": {
      "text/plain": [
       "0.04190663210292735"
      ]
     },
     "execution_count": 141,
     "metadata": {},
     "output_type": "execute_result"
    }
   ],
   "source": [
    "ptot"
   ]
  },
  {
   "cell_type": "code",
   "execution_count": 145,
   "metadata": {},
   "outputs": [],
   "source": [
    "rxn = 'ENZLOAD-ACACT40ir_m_REV-YPL028W'\n",
    "acact40_load = res.raw_flux[rxn] * enz_mw[rxn]"
   ]
  },
  {
   "cell_type": "code",
   "execution_count": 147,
   "metadata": {},
   "outputs": [
    {
     "data": {
      "text/plain": [
       "0.5954840320535506"
      ]
     },
     "execution_count": 147,
     "metadata": {},
     "output_type": "execute_result"
    }
   ],
   "source": [
    "(ptot - acact40_load*2) / ptot"
   ]
  },
  {
   "cell_type": "code",
   "execution_count": 148,
   "metadata": {},
   "outputs": [
    {
     "data": {
      "text/plain": [
       "0.000601521713687"
      ]
     },
     "execution_count": 148,
     "metadata": {},
     "output_type": "execute_result"
    }
   ],
   "source": [
    "res.raw_flux[\"ENZLOAD-ACACT40ir_m_FWD-YPL028W\"]"
   ]
  },
  {
   "cell_type": "code",
   "execution_count": 149,
   "metadata": {},
   "outputs": [
    {
     "data": {
      "text/plain": [
       "0.000183059173297"
      ]
     },
     "execution_count": 149,
     "metadata": {},
     "output_type": "execute_result"
    }
   ],
   "source": [
    "res.raw_flux[\"ENZLOAD-ACACT40ir_m_REV-YPL028W\"]"
   ]
  },
  {
   "cell_type": "code",
   "execution_count": 150,
   "metadata": {},
   "outputs": [
    {
     "data": {
      "text/plain": [
       "453.8105350132636"
      ]
     },
     "execution_count": 150,
     "metadata": {},
     "output_type": "execute_result"
    }
   ],
   "source": [
    "res.raw_flux[\"RXN-ACACT40ir_m_FWD-YPL028W\"]"
   ]
  },
  {
   "cell_type": "code",
   "execution_count": 151,
   "metadata": {},
   "outputs": [
    {
     "data": {
      "text/plain": [
       "453.76836140284"
      ]
     },
     "execution_count": 151,
     "metadata": {},
     "output_type": "execute_result"
    }
   ],
   "source": [
    "res.raw_flux[\"RXN-ACACT40ir_m_REV-YPL028W\"]"
   ]
  },
  {
   "cell_type": "code",
   "execution_count": null,
   "metadata": {},
   "outputs": [],
   "source": []
  },
  {
   "cell_type": "code",
   "execution_count": 131,
   "metadata": {},
   "outputs": [],
   "source": [
    "rxns_nonzero = []\n",
    "for r,v in res.metabolic_flux.items():\n",
    "    if v > 0:\n",
    "        rxns_nonzero.append(r+'_FWD')\n",
    "    elif v < 0:\n",
    "        rxns_nonzero.append(r+'_REV')"
   ]
  },
  {
   "cell_type": "code",
   "execution_count": 132,
   "metadata": {},
   "outputs": [],
   "source": [
    "enzloads = {k:v for k,v in res.raw_flux.items() if k.split('-')[0] == 'ENZLOAD' and v > 0}"
   ]
  },
  {
   "cell_type": "code",
   "execution_count": 133,
   "metadata": {},
   "outputs": [
    {
     "name": "stdout",
     "output_type": "stream",
     "text": [
      "ENZLOAD-ACACT40ir_m_REV-YPL028W 0.000183059173297\n"
     ]
    }
   ],
   "source": [
    "for k,v in enzloads.items():\n",
    "    rxn = k.split('-')[1]\n",
    "    if rxn not in rxns_nonzero:\n",
    "        print(k,v)"
   ]
  },
  {
   "cell_type": "code",
   "execution_count": 134,
   "metadata": {},
   "outputs": [
    {
     "data": {
      "text/plain": [
       "453.8105350132636"
      ]
     },
     "execution_count": 134,
     "metadata": {},
     "output_type": "execute_result"
    }
   ],
   "source": [
    "res.raw_flux['RXN-ACACT40ir_m_FWD-YPL028W']"
   ]
  },
  {
   "cell_type": "code",
   "execution_count": 135,
   "metadata": {},
   "outputs": [
    {
     "data": {
      "text/plain": [
       "0.000183059173297"
      ]
     },
     "execution_count": 135,
     "metadata": {},
     "output_type": "execute_result"
    }
   ],
   "source": [
    "res.raw_flux['ENZLOAD-ACACT40ir_m_REV-YPL028W']"
   ]
  },
  {
   "cell_type": "code",
   "execution_count": 136,
   "metadata": {},
   "outputs": [],
   "source": [
    "res.protein_mw = pro_mw\n",
    "res.enzyme_mw = enz_mw"
   ]
  },
  {
   "cell_type": "code",
   "execution_count": 137,
   "metadata": {},
   "outputs": [
    {
     "name": "stdout",
     "output_type": "stream",
     "text": [
      "Already subtracted excess enzyme load (one direction only). But please manually check enzyme ENZLOAD-ACACT40ir_m_REV-YPL028W\n"
     ]
    }
   ],
   "source": [
    "res.calculate_proteome_capacity_usage()"
   ]
  },
  {
   "cell_type": "code",
   "execution_count": 138,
   "metadata": {},
   "outputs": [
    {
     "data": {
      "text/plain": [
       "0.7976353282941079"
      ]
     },
     "execution_count": 138,
     "metadata": {},
     "output_type": "execute_result"
    }
   ],
   "source": [
    "res.proteome_capacity_usage"
   ]
  },
  {
   "cell_type": "code",
   "execution_count": 139,
   "metadata": {},
   "outputs": [
    {
     "data": {
      "text/plain": [
       "0.2953490056474932"
      ]
     },
     "execution_count": 139,
     "metadata": {},
     "output_type": "execute_result"
    }
   ],
   "source": [
    "0.35917487169679285 - 2*(0.35917487169679285 - 0.32726193867214304)"
   ]
  },
  {
   "cell_type": "code",
   "execution_count": null,
   "metadata": {},
   "outputs": [],
   "source": []
  },
  {
   "cell_type": "code",
   "execution_count": 9,
   "metadata": {},
   "outputs": [
    {
     "data": {
      "text/plain": [
       "{'ENZLOAD-13GS_c_FWD-GSC1RHO1': 4.7552e-09,\n",
       " 'ENZLOAD-16GS_c_FWD-YPR159W': 8.47232e-10,\n",
       " 'ENZLOAD-2OXOADPt_c_m_FWD-YOR222W': 1.375143e-09,\n",
       " 'ENZLOAD-3C3HMPt_c_m_REV-YKL120W': 1.529509e-09,\n",
       " 'ENZLOAD-3DSPHR_r_FWD-YBR265W': 2.52974e-10,\n",
       " 'ENZLOAD-3OACR200_rm_FWD-YBR159W': 2.15278e-10,\n",
       " 'ENZLOAD-3OACR220_rm_FWD-YBR159W': 2.15278e-10,\n",
       " 'ENZLOAD-3OACR240_rm_FWD-YBR159W': 2.15278e-10,\n",
       " 'ENZLOAD-3OACR260_rm_FWD-YBR159W': 1.07639e-10,\n",
       " 'ENZLOAD-AASADy_c_FWD-LYS25': 9.795011e-09,\n",
       " 'ENZLOAD-AATA_c_FWD-YER152C': 1.893088e-09,\n",
       " 'ENZLOAD-ACACT40ir_m_FWD-YPL028W': 0.000296168133273,\n",
       " 'ENZLOAD-ACACT40ir_m_REV-YPL028W': 9.0136136978e-05,\n",
       " 'ENZLOAD-ACCOAC_c_FWD-YNR016C': 2.6338333e-08,\n",
       " 'ENZLOAD-ACGAM6PS_c_FWD-YFL017C': 1.32593e-10,\n",
       " 'ENZLOAD-ACGAMPM_c_FWD-YEL058W': 2.24334e-09,\n",
       " 'ENZLOAD-ACGK_m_FWD-YER069W': 8.369221e-09,\n",
       " 'ENZLOAD-ACHBS_m_FWD-ILV26': 1.0347561e-08,\n",
       " 'ENZLOAD-ACLS_m_FWD-ILV26': 1.6829093e-08,\n",
       " 'ENZLOAD-ACOADS160_rm_FWD-YGL055W': 1.663543e-09,\n",
       " 'ENZLOAD-ACOADS180_rm_FWD-YGL055W': 6.10358e-10,\n",
       " 'ENZLOAD-ACONTa_c_FWD-YLR304C_c': 1.235796e-08,\n",
       " 'ENZLOAD-ACONTb_c_FWD-YLR304C_c': 1.235796e-08,\n",
       " 'ENZLOAD-ACOTAi_m_FWD-YOL140W': 3.307905e-09,\n",
       " 'ENZLOAD-ACS_c_FWD-YLR153C': 6.5831347e-08,\n",
       " 'ENZLOAD-ADK1_c_FWD-YDL166C': 1.5561037e-08,\n",
       " 'ENZLOAD-ADNK1_c_FWD-YJR105W': 1.4954695e-08,\n",
       " 'ENZLOAD-ADPATPt_c_m_FWD-YBL030C': 7.9684985e-08,\n",
       " 'ENZLOAD-ADSK_c_FWD-YKL001C': 1.0372213e-08,\n",
       " 'ENZLOAD-ADSL1r_c_FWD-YLR359W': 3.943829e-09,\n",
       " 'ENZLOAD-ADSL2i_c_FWD-YLR359W': 1.707579e-09,\n",
       " 'ENZLOAD-ADSS_c_FWD-YNL220W': 8.669359e-09,\n",
       " 'ENZLOAD-AGPAT_l_FWD-YDL052C': 2.66174e-10,\n",
       " 'ENZLOAD-AGPRi_m_FWD-YER069W': 8.369221e-09,\n",
       " 'ENZLOAD-AHCi_c_FWD-YER043C': 1.5292862e-07,\n",
       " 'ENZLOAD-AHSERL2_c_FWD-YLR303W': 6.1451875e-08,\n",
       " 'ENZLOAD-AICART_c_FWD-YLR028C': 7.733973e-09,\n",
       " 'ENZLOAD-AIRC1_c_FWD-YOR128C': 6.074914e-09,\n",
       " 'ENZLOAD-AKGCITta_m_REV-YMR241W': 4.209752e-09,\n",
       " 'ENZLOAD-AKGDH_m_FWD-KGDCPLX': 1.49389e-09,\n",
       " 'ENZLOAD-ALAS_m_FWD-YDR232W': 4.40771e-10,\n",
       " 'ENZLOAD-ALATA_L_m_REV-YLR089C': 9.65619e-10,\n",
       " 'ENZLOAD-ALATRS_c_FWD-YOR335C': 1.7804902e-08,\n",
       " 'ENZLOAD-ALCD2i1_c_FWD-YMR303C': 1.89340407e-07,\n",
       " 'ENZLOAD-ALCD2i2_m_FWD-YMR083W': 3.0185663e-08,\n",
       " 'ENZLOAD-ALDD2y_c_FWD-YPL061W': 1.4714705e-07,\n",
       " 'ENZLOAD-ANPRT_c_FWD-YDR354W': 9.34856e-10,\n",
       " 'ENZLOAD-ANS_c_FWD-TRP23': 6.71208e-10,\n",
       " 'ENZLOAD-ARGSL_c_FWD-YHR018C': 1.478915e-09,\n",
       " 'ENZLOAD-ARGSS_c_FWD-YOL058W': 4.281489e-09,\n",
       " 'ENZLOAD-ARGTRS_c_FWD-YDR341C': 7.590897e-09,\n",
       " 'ENZLOAD-ASAD_c_FWD-YDR158W': 1.2165567e-08,\n",
       " 'ENZLOAD-ASNS1_c_FWD-YGR124W': 1.372204e-08,\n",
       " 'ENZLOAD-ASNTRS_c_FWD-YHR019C': 1.3842643e-08,\n",
       " 'ENZLOAD-ASPCT_c_FWD-YJL130C': 7.359275e-09,\n",
       " 'ENZLOAD-ASPK_c_FWD-YER052C': 6.455442e-09,\n",
       " 'ENZLOAD-ASPTA_c_REV-YLR027C_c': 9.397275e-09,\n",
       " 'ENZLOAD-ASPTRS_c_FWD-YLL018C': 8.796701e-09,\n",
       " 'ENZLOAD-ATPASEP2e_c_FWD-YGL008C': 1.2404298e-08,\n",
       " 'ENZLOAD-ATPPRT_c_FWD-YER055C': 1.0279548e-08,\n",
       " 'ENZLOAD-ATPS_m_FWD-ATPSCPLX': 1.140113e-09,\n",
       " 'ENZLOAD-BPNT_c_FWD-YOL064C': 3.503975e-09,\n",
       " 'ENZLOAD-C24STR_r_FWD-YGL012W': 4.34405e-10,\n",
       " 'ENZLOAD-C3STDH1_c_FWD-YGL001C': 1.425389e-09,\n",
       " 'ENZLOAD-C3STDH2_c_FWD-YGL001C': 1.425389e-09,\n",
       " 'ENZLOAD-C3STKR1_c_FWD-YLR100W': 6.88931e-10,\n",
       " 'ENZLOAD-C3STKR2_c_FWD-YLR100W': 6.88931e-10,\n",
       " 'ENZLOAD-C4STMO1_c_FWD-YGR060W': 3.74058e-10,\n",
       " 'ENZLOAD-C4STMO2_c_FWD-YGR060W': 3.74058e-10,\n",
       " 'ENZLOAD-C4STMO3_c_FWD-YGR060W': 3.74058e-10,\n",
       " 'ENZLOAD-C4STMO4_c_FWD-YGR060W': 3.74058e-10,\n",
       " 'ENZLOAD-CBPS_c_FWD-CPA12': 2.529739e-09,\n",
       " 'ENZLOAD-CDPDAGS_rm_FWD-YBR029C': 2.944673e-09,\n",
       " 'ENZLOAD-CHORM_c_FWD-YPR060C': 6.04404e-10,\n",
       " 'ENZLOAD-CHORS_c_FWD-YGL148W': 1.483438e-09,\n",
       " 'ENZLOAD-CHTNS_c_FWD-YBR023C': 1.4879e-10,\n",
       " 'ENZLOAD-CITICITt_c_m_REV-YBR291C': 1.165489e-09,\n",
       " 'ENZLOAD-CITMALta_m_FWD-YBR291C': 7.1714e-09,\n",
       " 'ENZLOAD-CPPPGO_c_FWD-YDR044W': 4.39865e-10,\n",
       " 'ENZLOAD-CS_m_FWD-YPR001W': 2.1990704e-08,\n",
       " 'ENZLOAD-CTPS2_c_FWD-YJR103W': 1.914023e-09,\n",
       " 'ENZLOAD-CYSTGL_c_FWD-YAL012W': 8.307197e-09,\n",
       " 'ENZLOAD-CYSTRS_c_FWD-YNL247W': 3.438784e-09,\n",
       " 'ENZLOAD-CYSTS_c_FWD-YGR155W': 2.9076417e-08,\n",
       " 'ENZLOAD-DCMPDA_c_FWD-YHR144C': 2.04837e-10,\n",
       " 'ENZLOAD-DDPA_c_FWD-YBR249C': 2.3375914e-08,\n",
       " 'ENZLOAD-DGAT_rm_FWD-YOR245C_rm': 1.72227e-10,\n",
       " 'ENZLOAD-DHAD1_m_FWD-YJR016C': 4.410235e-09,\n",
       " 'ENZLOAD-DHAD2_m_FWD-YJR016C': 2.711684e-09,\n",
       " 'ENZLOAD-DHFRi_c_FWD-YOR236W_c': 2.43868e-10,\n",
       " 'ENZLOAD-DHORDfum_c_FWD-YKL216W': 5.82936e-10,\n",
       " 'ENZLOAD-DHORTS_c_REV-YLR420W': 9.40983e-10,\n",
       " 'ENZLOAD-DHQS_c_FWD-YDR127W': 2.04253e-09,\n",
       " 'ENZLOAD-DHQTi_c_FWD-YDR127W': 2.04253e-09,\n",
       " 'ENZLOAD-DMATT_c_FWD-YJL167W': 7.866233e-09,\n",
       " 'ENZLOAD-DOLPMMT_r_FWD-PMT12': 7.657848e-09,\n",
       " 'ENZLOAD-DOLPMT_c_FWD-YPR183W': 1.3901067e-08,\n",
       " 'ENZLOAD-DPMVD_c_FWD-YNR043W': 4.729811e-09,\n",
       " 'ENZLOAD-ENO_c_FWD-YHR174W': 5.7364317e-08,\n",
       " 'ENZLOAD-FADH2t_c_m_FWD-YIL134W': 9.72541939e-07,\n",
       " 'ENZLOAD-FADt_c_m_FWD-YIL134W': 9.72541939e-07,\n",
       " 'ENZLOAD-FBA_c_FWD-YKL060C': 8.3673468e-08,\n",
       " 'ENZLOAD-FCLT_m_FWD-YOR176W': 1.111507e-09,\n",
       " 'ENZLOAD-FDH_c_FWD-YOR388C': 3.012238e-09,\n",
       " 'ENZLOAD-FE2t_c_e_FWD-YMR058W': 1.563553e-09,\n",
       " 'ENZLOAD-FECOOR_m_FWD-FECOORCPLX2': 1.724845e-09,\n",
       " 'ENZLOAD-FECRq6_m_FWD-FECRq6CPLX': 1.558924e-09,\n",
       " 'ENZLOAD-FMNRx2_c_FWD-YLR011W': 4.69278e-09,\n",
       " 'ENZLOAD-FRD_c_FWD-YEL047C': 3.767028e-09,\n",
       " 'ENZLOAD-FTHFL_c_REV-YGR204W': 3.940772e-09,\n",
       " 'ENZLOAD-FUM_c_FWD-YPL262W_c': 1.1658263e-08,\n",
       " 'ENZLOAD-G3PAT_l_FWD-YKR067W_l': 1.082896e-09,\n",
       " 'ENZLOAD-G3PD1r_c_FWD-YDL022W': 7.966603e-09,\n",
       " 'ENZLOAD-G3PDf_m_FWD-YIL155C': 4.5024576e-08,\n",
       " 'ENZLOAD-G5SDy_c_FWD-YOR323C': 8.261019e-09,\n",
       " 'ENZLOAD-GALUi_c_FWD-YKL035W': 1.14821e-09,\n",
       " 'ENZLOAD-GAPD_c_FWD-YGR192C': 2.8977316e-08,\n",
       " 'ENZLOAD-GARFT_c_FWD-YDR408C': 1.040159e-09,\n",
       " 'ENZLOAD-GF6PTA_c_FWD-YMR084W': 8.262029e-09,\n",
       " 'ENZLOAD-GHMT2r_c_FWD-YLR058C': 1.7259132e-08,\n",
       " 'ENZLOAD-GHMT2r_m_REV-YBR263W': 2.302438e-09,\n",
       " 'ENZLOAD-GK2_c_FWD-YDR454C': 7.05832e-10,\n",
       " 'ENZLOAD-GLCt_c_e_FWD-YDR345C': 5.5318398e-08,\n",
       " 'ENZLOAD-GLNS_c_FWD-YPR035W': 2.134581e-09,\n",
       " 'ENZLOAD-GLNTRS_c_FWD-YOR168W': 7.027368e-09,\n",
       " 'ENZLOAD-GLU5K_c_FWD-YDR300C': 1.508484e-09,\n",
       " 'ENZLOAD-GLUDy_c_FWD-YOR375C': 1.9283126e-08,\n",
       " 'ENZLOAD-GLUPRT_c_FWD-YMR300C': 4.437689e-09,\n",
       " 'ENZLOAD-GLUTRS_c_FWD-GUS1ARC1': 4.888249e-09,\n",
       " 'ENZLOAD-GLUt_c_m_FWD-YBR104W': 4.64971e-10,\n",
       " 'ENZLOAD-GLYCL_m_FWD-GCV123LPD1': 4.176579e-09,\n",
       " 'ENZLOAD-GLYGS_c_FWD-GSY1GLG1': 6.42102e-10,\n",
       " 'ENZLOAD-GLYTRS_c_FWD-YBR121C': 1.1666607e-08,\n",
       " 'ENZLOAD-GLYt_c_m_FWD-YPR058W': 9.57626e-10,\n",
       " 'ENZLOAD-GMPS2_c_FWD-YMR217W': 4.30327e-09,\n",
       " 'ENZLOAD-GRTT_c_FWD-YJL167W': 7.866233e-09,\n",
       " 'ENZLOAD-HACNH_m_FWD-YDR234W': 5.666932e-09,\n",
       " 'ENZLOAD-HCITR_m_FWD-YDR234W': 5.666932e-09,\n",
       " 'ENZLOAD-HCITS_m_FWD-YDL131W': 7.46309e-09,\n",
       " 'ENZLOAD-HEX1_c_FWD-YCL040W': 5.2405014e-08,\n",
       " 'ENZLOAD-HICITD_m_FWD-YIL094C': 1.2888723e-08,\n",
       " 'ENZLOAD-HISTD_c_FWD-YCL030C': 7.634415e-09,\n",
       " 'ENZLOAD-HISTP_c_FWD-YFR025C': 1.37719e-10,\n",
       " 'ENZLOAD-HISTRS_c_FWD-YPR033C_c': 8.704462e-09,\n",
       " 'ENZLOAD-HMGCOAR_c_FWD-YML075C': 3.07634e-09,\n",
       " 'ENZLOAD-HMGCOAS_m_FWD-YML126C': 2.0226769e-08,\n",
       " 'ENZLOAD-HOMOX_m_FWD-COX15ARH1YAH1': 1.57836e-10,\n",
       " 'ENZLOAD-HSDx_c_FWD-YJR139C': 9.594294e-09,\n",
       " 'ENZLOAD-HSERTA_c_FWD-YNL277W': 9.11228e-10,\n",
       " 'ENZLOAD-HSK_c_FWD-YHR025W': 1.426558e-09,\n",
       " 'ENZLOAD-HSTPT_c_FWD-YIL116W': 1.727725e-09,\n",
       " 'ENZLOAD-ICDHx_m_FWD-IDH12': 5.67868e-09,\n",
       " 'ENZLOAD-ICDHy_c_FWD-YLR174W': 1.98586e-09,\n",
       " 'ENZLOAD-ICDHyi_m_FWD-YDL066W': 2.220923e-09,\n",
       " 'ENZLOAD-IG3PS_c_FWD-YBR248C': 6.990649e-09,\n",
       " 'ENZLOAD-IGPDH_c_FWD-YOR202W': 2.152393e-09,\n",
       " 'ENZLOAD-IGPS_c_FWD-TRP23': 6.71208e-10,\n",
       " 'ENZLOAD-ILETA_c_REV-YJR148W': 4.44538e-10,\n",
       " 'ENZLOAD-ILETRS_c_FWD-YBL076C': 1.8052953e-08,\n",
       " 'ENZLOAD-IMPC_c_FWD-YLR028C': 7.733973e-09,\n",
       " 'ENZLOAD-IMPD_c_FWD-YML056C': 1.349751e-09,\n",
       " 'ENZLOAD-IPCS_g_FWD-KEI1AUR1': 1.88448e-10,\n",
       " 'ENZLOAD-IPDDI_c_FWD-YPL117C': 2.801947e-09,\n",
       " 'ENZLOAD-IPMD_c_FWD-YCL018W': 9.12001e-10,\n",
       " 'ENZLOAD-IPPMIa_c_REV-YGL009C': 9.024538e-09,\n",
       " 'ENZLOAD-IPPMIb_c_REV-YGL009C': 9.024538e-09,\n",
       " 'ENZLOAD-IPPS_m_FWD-YNL104C_m': 6.733447e-09,\n",
       " 'ENZLOAD-KARA1i_m_FWD-YLR355C': 6.0501414e-08,\n",
       " 'ENZLOAD-KARA2i_m_FWD-YLR355C': 3.7199989e-08,\n",
       " 'ENZLOAD-LEUTA_c_REV-YJR148W': 3.96884e-10,\n",
       " 'ENZLOAD-LEUTRS_c_FWD-YPL160W': 8.624301e-09,\n",
       " 'ENZLOAD-LNS14DMy_c_FWD-ERG11NCP1': 4.055869e-09,\n",
       " 'ENZLOAD-LNSTLS_c_FWD-YHR072W': 1.007669e-09,\n",
       " 'ENZLOAD-LYSTRS_c_FWD-YDR037W': 7.887738e-09,\n",
       " 'ENZLOAD-MAN1PT_c_FWD-YDL055C': 1.8894194e-08,\n",
       " 'ENZLOAD-MAN6PI_c_REV-YER003C': 8.423375e-09,\n",
       " 'ENZLOAD-MDH_c_REV-YOL126C': 2.44061e-10,\n",
       " 'ENZLOAD-MDH_m_FWD-YKL085W': 1.3123146e-08,\n",
       " 'ENZLOAD-ME2_m_FWD-YKL029C': 3.929989e-09,\n",
       " 'ENZLOAD-METAT_c_FWD-YLR180W': 1.772687e-08,\n",
       " 'ENZLOAD-METS_c_FWD-YER091C': 2.36986487e-07,\n",
       " 'ENZLOAD-METTRS_c_FWD-MES1ARC1': 5.69661e-09,\n",
       " 'ENZLOAD-MEVK1_c_FWD-YMR208W': 7.79488e-10,\n",
       " 'ENZLOAD-MG2tps_c_e_FWD-YOL130W': 1.85488e-10,\n",
       " 'ENZLOAD-MTHFC_c_FWD-YGR204W': 4.297459e-09,\n",
       " 'ENZLOAD-MTHFD_c_FWD-YGR204W': 4.014041e-09,\n",
       " 'ENZLOAD-MTHFR3_c_FWD-YGL125W': 2.812256e-09,\n",
       " 'ENZLOAD-NACt_c_e_FWD-YGR260W': 3.29622e-10,\n",
       " 'ENZLOAD-NADS2_c_FWD-YHR074W_c': 1.54964e-09,\n",
       " 'ENZLOAD-NAMNPP_c_FWD-YOR209C': 3.669801e-09,\n",
       " 'ENZLOAD-NDPK1_c_FWD-YKL067W': 3.366639e-09,\n",
       " 'ENZLOAD-NDPK2_c_FWD-YKL067W': 8.26759e-10,\n",
       " 'ENZLOAD-NH4t_c_e_FWD-YDR384C': 1.356044e-09,\n",
       " 'ENZLOAD-OCBT_c_FWD-YJL088W': 9.885668e-09,\n",
       " 'ENZLOAD-OMCDC_c_FWD-YJR148W': 3.96884e-10,\n",
       " 'ENZLOAD-OMPDC_c_FWD-YEL021W': 1.036185e-09,\n",
       " 'ENZLOAD-ORNTACi_m_FWD-YMR062C': 1.656618e-09,\n",
       " 'ENZLOAD-ORPT_c_REV-YMR271C': 1.648918e-09,\n",
       " 'ENZLOAD-P5CR_c_FWD-YER023W': 2.291732e-09,\n",
       " 'ENZLOAD-PAILS_rm_FWD-YPR113W': 2.07874e-10,\n",
       " 'ENZLOAD-PAPSR_c_FWD-MET16TRX2': 2.499062e-09,\n",
       " 'ENZLOAD-PC_c_FWD-YGL062W': 6.462205e-09,\n",
       " 'ENZLOAD-PDH_m_FWD-PDHCPLX': 9.22061e-10,\n",
       " 'ENZLOAD-PFK_c_FWD-PFK12': 3.808853e-09,\n",
       " 'ENZLOAD-PGCD_c_FWD-YER081W': 8.468688e-09,\n",
       " 'ENZLOAD-PGI_c_FWD-YBR196C': 1.8059035e-08,\n",
       " 'ENZLOAD-PGK_c_FWD-YCR012W': 1.85038954e-07,\n",
       " 'ENZLOAD-PGMT_c_FWD-YMR105C': 4.091046e-09,\n",
       " 'ENZLOAD-PGM_c_FWD-YOR283W': 1.024598e-08,\n",
       " 'ENZLOAD-PHETA1_c_REV-YGL202W': 8.1984e-10,\n",
       " 'ENZLOAD-PHETRS_c_FWD-FRS12': 4.550918e-09,\n",
       " 'ENZLOAD-PItps_m_FWD-YJR077C': 2.398011e-08,\n",
       " 'ENZLOAD-PMANM_c_REV-YFL045C': 6.477159e-09,\n",
       " 'ENZLOAD-PMEVK_c_FWD-YMR220W': 6.01645e-10,\n",
       " 'ENZLOAD-PNTK_c_FWD-YDR531W': 1.87677e-10,\n",
       " 'ENZLOAD-PPA_m_FWD-YMR267W': 1.11773e-10,\n",
       " 'ENZLOAD-PPBNGD_c_FWD-YDL205C': 1.276472e-09,\n",
       " 'ENZLOAD-PPBNGS_1_c_FWD-YGL040C': 8.79028e-10,\n",
       " 'ENZLOAD-PPCDC_c_FWD-CAB3VHS3': 2.1549e-10,\n",
       " 'ENZLOAD-PPNCL2_c_FWD-YIL083C': 5.25285e-10,\n",
       " 'ENZLOAD-PPND2_c_FWD-YBR166C': 3.48301e-10,\n",
       " 'ENZLOAD-PPNDH_c_FWD-YNL316C': 3.56208e-10,\n",
       " 'ENZLOAD-PPPGO_m_FWD-YER014W': 3.27849e-10,\n",
       " 'ENZLOAD-PRAGSi_c_FWD-YGL234W': 8.160574e-09,\n",
       " 'ENZLOAD-PRAIS_c_FWD-YGL234W': 8.160574e-09,\n",
       " 'ENZLOAD-PRAIi_c_FWD-YDR007W': 8.09923e-10,\n",
       " 'ENZLOAD-PRAMPC_c_FWD-YCL030C': 7.634415e-09,\n",
       " 'ENZLOAD-PRASCSi_c_FWD-YAR015W': 9.385725e-09,\n",
       " 'ENZLOAD-PRATPP_c_FWD-YCL030C': 7.634415e-09,\n",
       " 'ENZLOAD-PRFGS_c_FWD-YGR061C': 1.2083247e-08,\n",
       " 'ENZLOAD-PRMICI_c_FWD-YIL020C': 2.85082e-10,\n",
       " 'ENZLOAD-PROTRS_c_FWD-YHR020W': 1.4408114e-08,\n",
       " 'ENZLOAD-PRPPS_c_FWD-PRS12': 3.061299e-09,\n",
       " 'ENZLOAD-PSCIT_c_FWD-YDR127W': 2.04253e-09,\n",
       " 'ENZLOAD-PSD_mm_FWD-YNL169C': 2.65783e-10,\n",
       " 'ENZLOAD-PSERT_c_FWD-YOR184W': 4.649158e-09,\n",
       " 'ENZLOAD-PSP_L_c_FWD-YGR208W': 7.91463e-10,\n",
       " 'ENZLOAD-PSSA_rm_FWD-YER026C': 9.7009e-10,\n",
       " 'ENZLOAD-PTPAT_c_FWD-YGR277C': 3.85679e-10,\n",
       " 'ENZLOAD-PYK_c_FWD-YAL038W': 1.8205423e-08,\n",
       " 'ENZLOAD-PYRDC_c_FWD-YLR044C': 7.734059e-09,\n",
       " 'ENZLOAD-PYRtps_m_FWD-MPC12': 2.24806e-10,\n",
       " 'ENZLOAD-RPE_c_REV-YJL121C': 2.174365e-09,\n",
       " 'ENZLOAD-RPI_c_FWD-YOR095C': 1.735464e-09,\n",
       " 'ENZLOAD-SACCD1_c_FWD-YNR050C': 3.3900852e-08,\n",
       " 'ENZLOAD-SACCD2_c_FWD-YIR034C': 9.793081e-09,\n",
       " 'ENZLOAD-SERPT_r_FWD-LCB12': 1.637463e-09,\n",
       " 'ENZLOAD-SERTRS_c_FWD-YDR023W': 8.77207e-09,\n",
       " 'ENZLOAD-SERt_c_m_REV-YDR508C': 1.57713245e-07,\n",
       " 'ENZLOAD-SERt_c_r_FWD-YKR039W_rm': 2.01723e-10,\n",
       " 'ENZLOAD-SERt_c_rm_FWD-YKR039W_rm': 2.028026e-09,\n",
       " 'ENZLOAD-SHCHD2_c_FWD-YBR213W': 3.185501e-09,\n",
       " 'ENZLOAD-SHCHF_c_FWD-YBR213W': 3.185501e-09,\n",
       " 'ENZLOAD-SHK3Di_c_FWD-YDR127W': 2.04253e-09,\n",
       " 'ENZLOAD-SHKK_c_FWD-YDR127W': 2.04253e-09,\n",
       " 'ENZLOAD-SLFAT_c_FWD-YCL050C': 4.198167e-09,\n",
       " 'ENZLOAD-SO3R_c_FWD-MET510': 1.2439722e-08,\n",
       " 'ENZLOAD-SO4t_c_e_FWD-YLR092W': 5.03823e-10,\n",
       " 'ENZLOAD-SQLEy_r_FWD-YGR175C': 6.398599e-09,\n",
       " 'ENZLOAD-SQLS_c_FWD-YHR190W': 5.148433e-09,\n",
       " 'ENZLOAD-SUCDq6_m_FWD-SDH9234': 5.315822e-09,\n",
       " 'ENZLOAD-SUCFUMt_c_m_FWD-YJR095W': 1.1786863e-08,\n",
       " 'ENZLOAD-TALA_c_REV-YLR354C': 1.240663e-08,\n",
       " 'ENZLOAD-THMtps_e_FWD-YLR237W': 8.94643e-10,\n",
       " 'ENZLOAD-THRD_L_c_FWD-YCL064C': 2.99857e-09,\n",
       " 'ENZLOAD-THRS_c_FWD-YCR053W': 1.2115696e-08,\n",
       " 'ENZLOAD-THRTRS_c_FWD-YIL078W': 1.1584027e-08,\n",
       " 'ENZLOAD-TKT1_c_REV-YBR117C': 3.203215e-09,\n",
       " 'ENZLOAD-TKT2_c_REV-YBR117C': 2.2191208e-08,\n",
       " 'ENZLOAD-TMDS_c_FWD-YOR074C': 2.73337e-10,\n",
       " 'ENZLOAD-TPI_c_FWD-YDR050C': 3.280592e-08,\n",
       " 'ENZLOAD-TRDR_c_FWD-YDR353W': 4.220182e-09,\n",
       " 'ENZLOAD-TRPS1_c_FWD-YGL026C': 1.4659667e-08,\n",
       " 'ENZLOAD-TRPTRS_c_FWD-YOL097C': 1.195854e-09,\n",
       " 'ENZLOAD-TYRTA_c_FWD-YGL202W': 2.125871e-09,\n",
       " 'ENZLOAD-TYRTRS_c_FWD-YGR185C': 3.401323e-09,\n",
       " 'ENZLOAD-UAGDP_c_FWD-YDL103C': 1.72909e-09,\n",
       " 'ENZLOAD-UMPK_c_FWD-YKL024C_c': 8.59363e-10,\n",
       " 'ENZLOAD-UPP3MT_2_c_FWD-YKR069W': 1.0163994e-08,\n",
       " 'ENZLOAD-UPP3S_c_FWD-YOR278W': 1.40044e-10,\n",
       " 'ENZLOAD-UPPDC1_c_FWD-YDR047W': 3.78805e-10,\n",
       " 'ENZLOAD-VALTA_m_REV-YHR208W': 3.256549e-09,\n",
       " 'ENZLOAD-VALTRS_c_FWD-YGR094W_c': 1.0236634e-08,\n",
       " 'ENZLOAD-ZN2tps_c_e_FWD-YGL255W': 5.18546e-10,\n",
       " 'ENZLOAD-lumpFACS160_c_FWD-FAS12': 1.0664029e-08,\n",
       " 'ENZLOAD-lumpFACS180_c_FWD-FAS12': 3.979326e-09}"
      ]
     },
     "execution_count": 9,
     "metadata": {},
     "output_type": "execute_result"
    }
   ],
   "source": [
    "enzloads"
   ]
  },
  {
   "cell_type": "code",
   "execution_count": null,
   "metadata": {},
   "outputs": [],
   "source": []
  }
 ],
 "metadata": {
  "kernelspec": {
   "display_name": "Python 3",
   "language": "python",
   "name": "python3"
  },
  "language_info": {
   "codemirror_mode": {
    "name": "ipython",
    "version": 3
   },
   "file_extension": ".py",
   "mimetype": "text/x-python",
   "name": "python",
   "nbconvert_exporter": "python",
   "pygments_lexer": "ipython3",
   "version": "3.7.9"
  }
 },
 "nbformat": 4,
 "nbformat_minor": 4
}
