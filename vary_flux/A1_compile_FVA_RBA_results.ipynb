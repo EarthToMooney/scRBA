{
 "cells": [
  {
   "cell_type": "code",
   "execution_count": 1,
   "metadata": {},
   "outputs": [],
   "source": [
    "import pandas as pd\n",
    "import cobra"
   ]
  },
  {
   "cell_type": "code",
   "execution_count": 2,
   "metadata": {},
   "outputs": [],
   "source": [
    "df_in = pd.read_excel('./input/rxn_details.xlsx')\n",
    "df_in.index = df_in.rxn.to_list()\n",
    "\n",
    "# Fix pathway assignment\n",
    "df_in.loc['SUCACCT_m', 'subsystem'] = 'Citric acid cycle'\n",
    "df_in.loc['PYRDC2_c', 'subsystem'] = 'Unassigned'\n",
    "df_in.loc['PPM_c', 'subsystem'] = 'Alternative carbon metabolism'\n",
    "df_in.loc['MALS_x', 'subsystem'] = 'Unassigned'\n",
    "df_in.loc['ACOAHi_m', 'subsystem'] = 'Unassigned'\n",
    "df_in.loc['ATPM_c', 'subsystem'] = 'Pseudoreaction'\n",
    "rxns_new_pseudo = ['DICAT'+str(i)+'_c' for i in range(1,9)] + \\\n",
    "                ['HEME'+str(i)+'_c' for i in range(1,5)] + \\\n",
    "                ['MONCAT'+str(i)+'_c' for i in range(1,4)]\n",
    "for rxn in rxns_new_pseudo:\n",
    "    df_in.loc[rxn, 'subsystem'] = 'Pseudoreaction'"
   ]
  },
  {
   "cell_type": "code",
   "execution_count": 3,
   "metadata": {},
   "outputs": [],
   "source": [
    "rxns = []\n",
    "for i in df_in.index:\n",
    "    if df_in.subsystem[i] not in ['Transport', 'Exchange', 'Pseudoreaction']:\n",
    "        rxns.append(i)"
   ]
  },
  {
   "cell_type": "code",
   "execution_count": 4,
   "metadata": {},
   "outputs": [
    {
     "data": {
      "text/plain": [
       "1104"
      ]
     },
     "execution_count": 4,
     "metadata": {},
     "output_type": "execute_result"
    }
   ],
   "source": [
    "len(rxns)"
   ]
  },
  {
   "cell_type": "code",
   "execution_count": 5,
   "metadata": {},
   "outputs": [
    {
     "name": "stdout",
     "output_type": "stream",
     "text": [
      "Using license file /home/hvdinh16/Workspace/Softwares/gurobi910/linux64/gurobi.lic\n",
      "Academic license - for non-commercial use only - expires 2023-07-30\n"
     ]
    }
   ],
   "source": [
    "model = cobra.io.load_json_model('../build_model/input/GSM_iSace1144_rba.json')\n",
    "model.solver = 'cplex'\n",
    "\n",
    "# Valid turnoff (cycling)\n",
    "model.reactions.LACPYRt_c_m.knock_out()\n",
    "\n",
    "# Turn off due to regulation\n",
    "# Ethanol utilization enzyme expression is repressed under glucose-utilizing condition (pmid:3290644)\n",
    "model.reactions.ALCD2i1_c.knock_out()\n",
    "# Ethanol-acetaldehyde shuttle only active under anaerobic condition (pmid:10940011)\n",
    "model.reactions.ALCD2i2_m.knock_out()\n",
    "# Totally unrelated reactions that form transhydrogenase cycle\n",
    "model.reactions.get_by_id('4ABTORy_c').knock_out()\n",
    "model.reactions.get_by_id('4ABTORx_c').knock_out()\n",
    "# Disable FADH2 transport across mitochondrial membrane. Enable this creating fumarate-succinate shuttle that enables proton gradient generation\n",
    "model.reactions.get_by_id('FADH2t_c_m').knock_out()\n",
    "model.reactions.get_by_id('ICDHy_c').knock_out()\n",
    "# Disable glycolysis bypass via methylglyoxal (disable lactate transport to mito)\n",
    "model.reactions.get_by_id('LACtps_m').knock_out()\n",
    "\n",
    "# Turn off alternative unparameterized pathways (which is cheaper to operate since unparameterized pathways used median kapp)\n",
    "model.reactions.get_by_id('G3PAT_l').knock_out()\n",
    "model.reactions.get_by_id('AGPAT_l').knock_out()\n",
    "model.reactions.get_by_id('PAP_vm').knock_out()\n",
    "model.reactions.get_by_id('PAP_gm').knock_out()\n",
    "model.reactions.get_by_id('DHAPAT_rm').knock_out()\n",
    "model.reactions.get_by_id('DHAPAT_l').knock_out()\n",
    "model.reactions.get_by_id('G3PD1i_m').knock_out()\n",
    "\n",
    "# Turn off cytosolic aconitase due to formation of thermo-infeasible cycle\n",
    "model.reactions.ACONTa_c.knock_out()\n",
    "model.reactions.ACONTb_c.knock_out()\n",
    "\n",
    "# Fix HCO3t_c_n reaction reversibility\n",
    "model.reactions.HCO3t_c_n.bounds = (-1000,1000)\n",
    "\n",
    "# YNB media\n",
    "model.reactions.get_by_id('EX_thm_e').lower_bound = -1000\n",
    "model.reactions.get_by_id('EX_ribflv_e').lower_bound = -1000\n",
    "model.reactions.get_by_id('EX_nac_e').lower_bound = -1000\n",
    "model.reactions.get_by_id('EX_pydxn_e').lower_bound = -1000\n",
    "model.reactions.get_by_id('EX_fol_e').lower_bound = -1000\n",
    "model.reactions.get_by_id('EX_pnto__R_e').lower_bound = -1000\n",
    "model.reactions.get_by_id('EX_4abz_e').lower_bound = -1000\n",
    "model.reactions.get_by_id('EX_inost_e').lower_bound = -1000"
   ]
  },
  {
   "cell_type": "code",
   "execution_count": 7,
   "metadata": {},
   "outputs": [],
   "source": [
    "rxns = [rxn.id for rxn in model.reactions]\n",
    "with model as m:\n",
    "    # Uptake rate increase slightly by 1e-2 to compensate for uptake relaxation (resolve numerical issue) in RBA run\n",
    "    m.reactions.EX_glc__D_e.bounds = (-13.21, -13.21)\n",
    "    m.reactions.BIOMASS_AERO_SC_hvd.bounds = (0.4236, 0.4236)\n",
    "    m.reactions.ATPM_c.lower_bound = 1\n",
    "    \n",
    "    m.objective = dict()\n",
    "    fva = cobra.flux_analysis.flux_variability_analysis(m, reaction_list=rxns)"
   ]
  },
  {
   "cell_type": "code",
   "execution_count": 8,
   "metadata": {},
   "outputs": [],
   "source": [
    "rxns = df_in.index.to_list()"
   ]
  },
  {
   "cell_type": "code",
   "execution_count": 9,
   "metadata": {},
   "outputs": [],
   "source": [
    "cols =['rxn', 'name', 'subsystem', 'rba_min', 'rba_max', 'fva_min', 'fva_max']\n",
    "df_res = pd.DataFrame(columns=cols, index=rxns)\n",
    "\n",
    "df_res['rxn'] = df_in['rxn']\n",
    "df_res['name'] = df_in['name']\n",
    "df_res['subsystem'] = df_in['subsystem']\n",
    "\n",
    "for rxn in df_res.index:\n",
    "    df_res.loc[rxn, 'fva_min'] = fva.minimum[rxn]\n",
    "    df_res.loc[rxn, 'fva_max'] = fva.maximum[rxn]"
   ]
  },
  {
   "cell_type": "code",
   "execution_count": 10,
   "metadata": {},
   "outputs": [],
   "source": [
    "with open('./vary_flux_fragments_minflux/minflux.txt') as f:\n",
    "    text = f.read().split('\\n')[:-1]\n",
    "rbamin = dict()\n",
    "for line in text:\n",
    "    _,rxn,stat,val = line.split('\\t')\n",
    "    if stat == 'optimal':\n",
    "        rbamin[rxn] = float(val)\n",
    "    else:\n",
    "        print('Something wrong with ' + rxn + ', min run, stat = ' + stat)\n",
    "        \n",
    "with open('./vary_flux_fragments_maxflux/maxflux.txt') as f:\n",
    "    text = f.read().split('\\n')[:-1]\n",
    "rbamax = dict()\n",
    "for line in text:\n",
    "    _,rxn,stat,val = line.split('\\t')\n",
    "    if stat == 'optimal':\n",
    "        rbamax[rxn] = float(val)\n",
    "    else:\n",
    "        print('Something wrong with ' + rxn + ', max run, stat = ' + stat)\n",
    "        \n",
    "for rxn in df_res.index:\n",
    "    df_res.loc[rxn, 'rba_min'] = rbamin[rxn]\n",
    "    df_res.loc[rxn, 'rba_max'] = rbamax[rxn]"
   ]
  },
  {
   "cell_type": "raw",
   "metadata": {},
   "source": [
    "# Save raw FVA RBA output\n",
    "df_res.to_excel('./results/FVA_RBA_bounds.xlsx', index=None)"
   ]
  },
  {
   "cell_type": "markdown",
   "metadata": {},
   "source": [
    "### Process for reversibility"
   ]
  },
  {
   "cell_type": "code",
   "execution_count": 11,
   "metadata": {},
   "outputs": [],
   "source": [
    "# Remove pseudoreaction\n",
    "df_res = df_res[df_res.subsystem != 'Pseudoreaction']\n",
    "df_res = df_res[df_res.subsystem != 'Transport']\n",
    "df_res = df_res[df_res.subsystem != 'Exchange']\n",
    "\n",
    "# Handle reversible rxns with non-zero reverse flux\n",
    "df_res = df_res[(df_res.fva_max > 0) | (df_res.fva_min < 0)]\n",
    "\n",
    "idx_remove = []\n",
    "for rxn in df_res.index:\n",
    "    fvamin = df_res.fva_min[rxn]\n",
    "    fvamax = df_res.fva_max[rxn]\n",
    "    rbamin = df_res.rba_min[rxn]\n",
    "    rbamax = df_res.rba_max[rxn]\n",
    "    \n",
    "    rfwd = rxn + '_FWD'\n",
    "    rrev = rxn + '_REV'\n",
    "    if fvamin < 0:\n",
    "        idx_remove.append(rxn)\n",
    "        \n",
    "        df_res.loc[rrev, 'fva_min'] = 0\n",
    "        df_res.loc[rrev, 'fva_max'] = abs(fvamin)\n",
    "        df_res.loc[rrev, 'rba_min'] = 0\n",
    "        df_res.loc[rrev, 'rba_max'] = abs(rbamin)\n",
    "        df_res.loc[rrev, 'rxn'] = rrev\n",
    "        df_res.loc[rrev, 'name'] = df_res.name[rxn]\n",
    "        df_res.loc[rrev, 'subsystem'] = df_res.subsystem[rxn]\n",
    "        \n",
    "        if fvamax > 0:\n",
    "            df_res.loc[rfwd, 'fva_min'] = 0\n",
    "            df_res.loc[rfwd, 'fva_max'] = fvamax\n",
    "            df_res.loc[rfwd, 'rba_min'] = 0\n",
    "            df_res.loc[rfwd, 'rba_max'] = rbamax\n",
    "            df_res.loc[rfwd, 'rxn'] = rfwd\n",
    "            df_res.loc[rfwd, 'name'] = df_res.name[rxn]\n",
    "            df_res.loc[rfwd, 'subsystem'] = df_res.subsystem[rxn]"
   ]
  },
  {
   "cell_type": "code",
   "execution_count": 12,
   "metadata": {},
   "outputs": [],
   "source": [
    "# Save processed FVA RBA results\n",
    "idx_remove_checked = [i for i in idx_remove if i in df_res.index]\n",
    "df_res = df_res.drop(index=idx_remove_checked, axis=0)\n",
    "df_res.to_excel('./results/FVA_RBA_bounds_processed_for_reversibility.xlsx', index=None)"
   ]
  },
  {
   "cell_type": "code",
   "execution_count": null,
   "metadata": {},
   "outputs": [],
   "source": []
  }
 ],
 "metadata": {
  "kernelspec": {
   "display_name": "Python 3",
   "language": "python",
   "name": "python3"
  },
  "language_info": {
   "codemirror_mode": {
    "name": "ipython",
    "version": 3
   },
   "file_extension": ".py",
   "mimetype": "text/x-python",
   "name": "python",
   "nbconvert_exporter": "python",
   "pygments_lexer": "ipython3",
   "version": "3.7.9"
  }
 },
 "nbformat": 4,
 "nbformat_minor": 4
}
