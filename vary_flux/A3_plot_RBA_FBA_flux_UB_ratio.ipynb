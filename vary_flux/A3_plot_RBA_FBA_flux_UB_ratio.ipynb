{
 "cells": [
  {
   "cell_type": "code",
   "execution_count": 1,
   "metadata": {},
   "outputs": [],
   "source": [
    "import pandas as pd\n",
    "\n",
    "import matplotlib.pyplot as plt\n",
    "import matplotlib.lines as mlines\n",
    "from matplotlib.transforms import ScaledTranslation\n",
    "%matplotlib inline"
   ]
  },
  {
   "cell_type": "code",
   "execution_count": 2,
   "metadata": {},
   "outputs": [],
   "source": [
    "# Load results\n",
    "df_fva = pd.read_excel('./results/FVA_RBA_bounds_processed_for_reversibility.xlsx')\n",
    "df_fva.index = df_fva.rxn.to_list()\n",
    "\n",
    "# Remove pseudoreaction\n",
    "df_fva = df_fva[df_fva.subsystem != 'Pseudoreaction']\n",
    "df_fva = df_fva[df_fva.subsystem != 'Transport']\n",
    "df_fva = df_fva[df_fva.subsystem != 'Exchange']\n",
    "\n",
    "# Handle reversible rxns with non-zero reverse flux\n",
    "#df_fva = df_fva[(df_fva.fva_max > 0) | (df_fva.fva_min < 0)]\n",
    "#print('Flux-carrying metabolic rxns:', df_fva.shape[0])\n",
    "\n",
    "# Load pathway assignment\n",
    "ss_dict = dict()\n",
    "df_path = pd.read_excel('./input/pathway_regroup.xlsx')\n",
    "\n",
    "for i in df_path.index:\n",
    "    p,pgroup = df_path.loc[i, ['Pathway', 'Pathway group']]\n",
    "    if pd.isnull(p) == False:\n",
    "        ss_dict[p] = pgroup\n",
    "ss_dict['Transport'] = 'Transport'\n",
    "ss_dict['Exchange'] = 'Exchange'\n",
    "ss_dict['Pseudoreaction'] = 'Pseudoreaction'\n",
    "        \n",
    "# Update pathway assignment to result dataframe \n",
    "for i in df_fva.index:\n",
    "    df_fva.loc[i, 'subsystem_group'] = ss_dict[df_fva.subsystem[i]]"
   ]
  },
  {
   "cell_type": "code",
   "execution_count": 3,
   "metadata": {},
   "outputs": [],
   "source": [
    "ub_ratio = pd.core.series.Series(dtype='float64')\n",
    "for rxn in df_fva.index:\n",
    "    rmax,fmax,fmin = df_fva.loc[rxn, ['rba_max', 'fva_max', 'fva_min']]\n",
    "    if fmax - fmin < 1e-7:\n",
    "        ub_ratio[rxn] = 1\n",
    "    else:\n",
    "        ub_ratio[rxn] = rmax / fmax"
   ]
  },
  {
   "cell_type": "raw",
   "metadata": {},
   "source": [
    "ub_ratio[ub_ratio > 1]"
   ]
  },
  {
   "cell_type": "code",
   "execution_count": 4,
   "metadata": {},
   "outputs": [
    {
     "data": {
      "image/png": "[encoded data removed]",
      "text/plain": [
       "<Figure size 576x360 with 1 Axes>"
      ]
     },
     "metadata": {
      "needs_background": "light"
     },
     "output_type": "display_data"
    }
   ],
   "source": [
    "# Slight shift down so that ratio = 1 entries are not assigned to >= 1 bin\n",
    "for rxn in ub_ratio[ub_ratio == 1.0].index:\n",
    "    ub_ratio[rxn] = 0.9999\n",
    "    \n",
    "# Assign the six glycolysis rxns whose bound ratio is ~102% to be in the last bin\n",
    "# Bin is labeled accordingly to 90-102%\n",
    "for rxn in ub_ratio[(ub_ratio > 1) & (ub_ratio < 1.02)].index:\n",
    "    ub_ratio[rxn] = 0.9999\n",
    "\n",
    "fig,ax = plt.subplots(figsize=(8,5))\n",
    "rwidth = 0.7\n",
    "\n",
    "gap = 0.1\n",
    "bins = [round(i*gap,1) for i in range(0,11)]\n",
    "ax.hist(ub_ratio, bins=bins, rwidth=rwidth,\n",
    "        color='#9e9e9e', edgecolor='k');\n",
    "\n",
    "yticks = [0, 100, 200, 300]\n",
    "ax.set_yticks(yticks);\n",
    "ax.set_yticklabels(yticks, fontsize=16);\n",
    "ax.set_ylabel('Number of reactions', fontsize=16);\n",
    "\n",
    "xticks = [(i+0.5)*0.1 for i in range(0, len(bins)-1)]\n",
    "ax.set_xticks(xticks);\n",
    "\n",
    "xticklabels = [str(i*10) + ' - ' + str((i+1)*10) + '%' for i in range(0, len(bins)-2)]\n",
    "xticklabels += ['90 - 102%']\n",
    "ax.set_xticklabels(xticklabels, fontsize=16);\n",
    "offset = ScaledTranslation(0.2, 0, fig.dpi_scale_trans)\n",
    "for label_obj in ax.get_xticklabels():\n",
    "    label_obj.set_rotation(45)\n",
    "    label_obj.set_transform(label_obj.get_transform() + offset)\n",
    "    label_obj.set_horizontalalignment('right')\n",
    "    \n",
    "ax.set_xlabel('RBA / FBA flux upper bound ratio', fontsize=16);\n",
    "#plt.savefig('../../scRBA_figures/components/Fig6_RBAoverFBA_fluxUB_ratio_histogram.png', transparent=True, bbox_inches='tight')"
   ]
  },
  {
   "cell_type": "code",
   "execution_count": null,
   "metadata": {},
   "outputs": [],
   "source": []
  },
  {
   "cell_type": "markdown",
   "metadata": {},
   "source": [
    "#### Analyze numbers"
   ]
  },
  {
   "cell_type": "code",
   "execution_count": 5,
   "metadata": {},
   "outputs": [],
   "source": [
    "# Load results\n",
    "df_fva = pd.read_excel('./results/FVA_RBA_bounds_processed_for_reversibility.xlsx')\n",
    "df_fva.index = df_fva.rxn.to_list()\n",
    "\n",
    "# Remove pseudoreaction\n",
    "df_fva = df_fva[df_fva.subsystem != 'Pseudoreaction']\n",
    "df_fva = df_fva[df_fva.subsystem != 'Transport']\n",
    "df_fva = df_fva[df_fva.subsystem != 'Exchange']\n",
    "\n",
    "# Handle reversible rxns with non-zero reverse flux\n",
    "#df_fva = df_fva[(df_fva.fva_max > 0) | (df_fva.fva_min < 0)]\n",
    "#print('Flux-carrying metabolic rxns:', df_fva.shape[0])\n",
    "\n",
    "# Load pathway assignment\n",
    "ss_dict = dict()\n",
    "df_path = pd.read_excel('./input/pathway_regroup.xlsx')\n",
    "\n",
    "for i in df_path.index:\n",
    "    p,pgroup = df_path.loc[i, ['Pathway', 'Pathway group']]\n",
    "    if pd.isnull(p) == False:\n",
    "        ss_dict[p] = pgroup\n",
    "ss_dict['Transport'] = 'Transport'\n",
    "ss_dict['Exchange'] = 'Exchange'\n",
    "ss_dict['Pseudoreaction'] = 'Pseudoreaction'\n",
    "        \n",
    "# Update pathway assignment to result dataframe \n",
    "for i in df_fva.index:\n",
    "    df_fva.loc[i, 'subsystem_group'] = ss_dict[df_fva.subsystem[i]]"
   ]
  },
  {
   "cell_type": "code",
   "execution_count": 6,
   "metadata": {},
   "outputs": [],
   "source": [
    "ub_ratio = pd.core.series.Series(dtype='float64')\n",
    "for rxn in df_fva.index:\n",
    "    rmax,fmax,fmin = df_fva.loc[rxn, ['rba_max', 'fva_max', 'fva_min']]\n",
    "    if fmax - fmin < 1e-7:\n",
    "        ub_ratio[rxn] = 1\n",
    "    else:\n",
    "        ub_ratio[rxn] = rmax / fmax"
   ]
  },
  {
   "cell_type": "code",
   "execution_count": 13,
   "metadata": {},
   "outputs": [
    {
     "data": {
      "text/plain": [
       "0.645"
      ]
     },
     "execution_count": 13,
     "metadata": {},
     "output_type": "execute_result"
    }
   ],
   "source": [
    "516 / 800"
   ]
  },
  {
   "cell_type": "code",
   "execution_count": 12,
   "metadata": {},
   "outputs": [
    {
     "data": {
      "text/plain": [
       "800"
      ]
     },
     "execution_count": 12,
     "metadata": {},
     "output_type": "execute_result"
    }
   ],
   "source": [
    "ub_ratio.shape[0]"
   ]
  },
  {
   "cell_type": "code",
   "execution_count": 7,
   "metadata": {
    "scrolled": true
   },
   "outputs": [
    {
     "data": {
      "text/plain": [
       "516"
      ]
     },
     "execution_count": 7,
     "metadata": {},
     "output_type": "execute_result"
    }
   ],
   "source": [
    "ub_ratio[ub_ratio <= 0.2].shape[0]"
   ]
  },
  {
   "cell_type": "code",
   "execution_count": 8,
   "metadata": {},
   "outputs": [
    {
     "data": {
      "text/plain": [
       "120"
      ]
     },
     "execution_count": 8,
     "metadata": {},
     "output_type": "execute_result"
    }
   ],
   "source": [
    "ub_ratio[ub_ratio > 0.9].shape[0]"
   ]
  },
  {
   "cell_type": "code",
   "execution_count": 9,
   "metadata": {},
   "outputs": [
    {
     "name": "stdout",
     "output_type": "stream",
     "text": [
      "61\n",
      "13GS_c 1.0\n",
      "16GS_c 1.0\n",
      "3DSPHR_r 1.0\n",
      "ACGAM6PS_c 1.0\n",
      "ACGAMPM_c 1.0\n",
      "AFAT_c 1.0\n",
      "ALAS_m 1.0\n",
      "ALATRS_c 1.0\n",
      "ARGTRS_c 1.0\n",
      "ASNTRS_c 1.0\n",
      "ASPTRS_c 1.0\n",
      "CERH124B_r 1.0\n",
      "CERH126B_r 1.0\n",
      "CERH2A24_r 1.0\n",
      "CERH2A26_r 1.0\n",
      "CERH324_r 1.0\n",
      "CERH326_r 1.0\n",
      "CHTNS_c 1.0\n",
      "CPPPGO_c 1.0\n",
      "CYSTRS_c 1.0\n",
      "DHFS_1_c 1.0\n",
      "DHNPA2i_m 1.0\n",
      "DOLPMMT_r 1.0\n",
      "DOLPMT_c 1.0\n",
      "FCLT_m 1.0\n",
      "GLNTRS_c 1.0\n",
      "GLUTRS_c 1.0\n",
      "GLYTRS_c 1.0\n",
      "GTPCI_c 1.0\n",
      "HEMEOS_m 1.0\n",
      "HISTRS_c 1.0\n",
      "HOMOX_m 1.0\n",
      "ILETRS_c 1.0\n",
      "IPCS_g 1.0\n",
      "LEUTRS_c 1.0\n",
      "LYSTRS_c 1.0\n",
      "MAN1PT_c 1.0\n",
      "METTRS_c 1.0\n",
      "NADS2_c 1.0\n",
      "NNATi_c 1.0\n",
      "PHETRS_c 1.0\n",
      "PNTK_c 1.0\n",
      "PPBNGD_c 1.0\n",
      "PPBNGS_1_c 1.0\n",
      "PPCDC_c 1.0\n",
      "PPNCL2_c 1.0\n",
      "PPPGO_m 1.0\n",
      "PROTRS_c 1.0\n",
      "RNDR1_c 1.0\n",
      "RNDR2_c 1.0\n",
      "SERPT_r 1.0\n",
      "SERTRS_c 1.0\n",
      "THRTRS_c 1.0\n",
      "TRPTRS_c 1.0\n",
      "TYRTRS_c 1.0\n",
      "UAGDP_c 1.0\n",
      "UPP3S_c 1.0\n",
      "UPPDC1_c 1.0\n",
      "VALTRS_c 1.0\n",
      "HCO3E_c_FWD 1.0\n",
      "HCO3E_n_REV 0.9999762934769927\n"
     ]
    }
   ],
   "source": [
    "check = ub_ratio[(ub_ratio >= 0.9998) & (ub_ratio < 1.0002)]\n",
    "print(check.shape[0])\n",
    "for rxn in check.index:\n",
    "    val = check[rxn]\n",
    "    print(rxn,val)"
   ]
  },
  {
   "cell_type": "code",
   "execution_count": 10,
   "metadata": {},
   "outputs": [
    {
     "name": "stdout",
     "output_type": "stream",
     "text": [
      "36\n",
      "ADK1_m 0.9933750018732627\n",
      "ADK3_m 0.9933750018732627\n",
      "AKP1_c 0.9933750018735209\n",
      "ALCD25xi_c 0.9769751328817645\n",
      "ALCD25xi_m 0.9787470419040942\n",
      "ALCD25yi_c 0.9787395478118548\n",
      "ALCD2i2_c 0.9817490825741351\n",
      "CERH124A_r 0.9611209565385623\n",
      "CERH126A_r 0.9611209565385623\n",
      "CHORM_c 0.9892873414483468\n",
      "DHPTS_m 0.9933750018724876\n",
      "DNMPPA_c 0.9933750018732627\n",
      "DNTPPA_c 0.9933750018735209\n",
      "DURIK1_c 0.978574328569647\n",
      "FECOOR_m 0.9941357592703162\n",
      "FECRq6_m 0.9941357592703162\n",
      "FOLD3_m 0.9933750018724876\n",
      "HPPK2_m 0.9933750018735209\n",
      "HYPOE_c 0.9785742920583866\n",
      "NADHK1_c 0.993299027104692\n",
      "NADK_c 0.9932990271237997\n",
      "NDPK5_c 0.9784151563573846\n",
      "NTD1pp_c 0.9785742920583861\n",
      "NTD5_c 0.9785742920583861\n",
      "NTP4_c 0.9784151899345888\n",
      "OHACT5_c 0.9706253857568066\n",
      "PPND2_c 0.9914913498909688\n",
      "PPNDH_c 0.9758202008982746\n",
      "PPYRDC_c 0.979274413611108\n",
      "PSPHS_r 0.9611209565385623\n",
      "PYDAMK_c 0.9785742920583866\n",
      "TMDK1_c 0.9785742920583866\n",
      "TYRTA_c 0.9914913498909745\n",
      "DHCRD124_r_FWD 0.9611209565385628\n",
      "DHCRD126_r_FWD 0.9611209565385628\n",
      "PHETA1_c_REV 0.9748787307045759\n"
     ]
    }
   ],
   "source": [
    "check = ub_ratio[(ub_ratio > 0.9) & (ub_ratio < 0.9998)]\n",
    "print(check.shape[0])\n",
    "for rxn in check.index:\n",
    "    val = check[rxn]\n",
    "    print(rxn,val)"
   ]
  },
  {
   "cell_type": "code",
   "execution_count": 11,
   "metadata": {},
   "outputs": [
    {
     "name": "stdout",
     "output_type": "stream",
     "text": [
      "23\n",
      "3HAO_c 1.188098249415142\n",
      "AHMMPS4_c 875.1888574126534\n",
      "DB4PS_c 3.40393059490085\n",
      "DHPPDA2_c 3.4039423984891406\n",
      "DRAPPRy_c 3.4039423984891406\n",
      "GTPCII2_c 3.4039423984891406\n",
      "HKYNH_c 1.1880982494282735\n",
      "KYN3OX_c 1.1880982494151398\n",
      "NNDPR_c 1.1880982494208874\n",
      "PMDPHT_c 3.4039423984891406\n",
      "QUILSYN_c 1.1880982494246346\n",
      "RBFSa_c 3.40393059490085\n",
      "RBFSb_c 3.4039423984891406\n",
      "THZPSN1_c 875.1888574126534\n",
      "THZPSN2_c 875.1180358829084\n",
      "TMDPK_c 875.1652502360718\n",
      "TMPK_c 875.1888574126534\n",
      "ENO_c_FWD 1.0150052175313622\n",
      "GAPD_c_FWD 1.0151739105894244\n",
      "PGI_c_FWD 1.0183617718957803\n",
      "PGK_c_FWD 1.0151739105894226\n",
      "PGM_c_FWD 1.015005217531364\n",
      "TPI_c_FWD 1.0178574986403464\n"
     ]
    }
   ],
   "source": [
    "check = ub_ratio[(ub_ratio >= 1.0002)]\n",
    "print(check.shape[0])\n",
    "for rxn in check.index:\n",
    "    val = check[rxn]\n",
    "    print(rxn,val)"
   ]
  },
  {
   "cell_type": "code",
   "execution_count": null,
   "metadata": {},
   "outputs": [],
   "source": []
  },
  {
   "cell_type": "code",
   "execution_count": null,
   "metadata": {},
   "outputs": [],
   "source": []
  },
  {
   "cell_type": "code",
   "execution_count": 20,
   "metadata": {},
   "outputs": [
    {
     "name": "stdout",
     "output_type": "stream",
     "text": [
      "Using license file /home/hvdinh16/Workspace/Softwares/gurobi910/linux64/gurobi.lic\n",
      "Academic license - for non-commercial use only - expires 2023-07-30\n"
     ]
    }
   ],
   "source": [
    "import cobra\n",
    "model = cobra.io.load_json_model('../build_GAMS_model/input/GSM_iSace1144_rba.json')"
   ]
  },
  {
   "cell_type": "code",
   "execution_count": 34,
   "metadata": {},
   "outputs": [
    {
     "data": {
      "text/html": [
       "\n",
       "        <table>\n",
       "            <tr>\n",
       "                <td><strong>Reaction identifier</strong></td><td>TMDK1_c</td>\n",
       "            </tr><tr>\n",
       "                <td><strong>Name</strong></td><td>thymidine kinase (ATP:thymidine)</td>\n",
       "            </tr><tr>\n",
       "                <td><strong>Memory address</strong></td>\n",
       "                <td>0x07fed1bf21f90</td>\n",
       "            </tr><tr>\n",
       "                <td><strong>Stoichiometry</strong></td>\n",
       "                <td>\n",
       "                    <p style='text-align:right'>atp_c + thymd_c --> adp_c + dtmp_c + h_c</p>\n",
       "                    <p style='text-align:right'>ATP [cytoplasm] + thymidine [cytoplasm] --> ADP [cytoplasm] + dTMP [cytoplasm] + H+ [cytoplasm]</p>\n",
       "                </td>\n",
       "            </tr><tr>\n",
       "                <td><strong>GPR</strong></td><td></td>\n",
       "            </tr><tr>\n",
       "                <td><strong>Lower bound</strong></td><td>0.0</td>\n",
       "            </tr><tr>\n",
       "                <td><strong>Upper bound</strong></td><td>1000.0</td>\n",
       "            </tr>\n",
       "        </table>\n",
       "        "
      ],
      "text/plain": [
       "<Reaction TMDK1_c at 0x7fed1bf21f90>"
      ]
     },
     "execution_count": 34,
     "metadata": {},
     "output_type": "execute_result"
    }
   ],
   "source": [
    "model.reactions.TMDK1_c"
   ]
  },
  {
   "cell_type": "code",
   "execution_count": null,
   "metadata": {},
   "outputs": [],
   "source": []
  },
  {
   "cell_type": "code",
   "execution_count": null,
   "metadata": {},
   "outputs": [],
   "source": []
  },
  {
   "cell_type": "code",
   "execution_count": 16,
   "metadata": {
    "scrolled": false
   },
   "outputs": [
    {
     "name": "stdout",
     "output_type": "stream",
     "text": [
      "13GS_c 1.0\n",
      "16GS_c 1.0\n",
      "3DSPHR_r 1.0\n",
      "3HAO_c 1.1964949370855957\n",
      "ACGAM6PS_c 1.0\n",
      "ACGAMPM_c 1.0\n",
      "AFAT_c 1.0\n",
      "AHMMPS4_c 910.127478753541\n",
      "ALAS_m 1.0\n",
      "ALATRS_c 1.0\n",
      "ARGTRS_c 1.0\n",
      "ASNTRS_c 1.0\n",
      "ASPTRS_c 1.0\n",
      "CERH124B_r 1.0\n",
      "CERH126B_r 1.0\n",
      "CERH2A24_r 1.0\n",
      "CERH2A26_r 1.0\n",
      "CERH324_r 1.0\n",
      "CERH326_r 1.0\n",
      "CHTNS_c 1.0\n",
      "CPPPGO_c 1.0\n",
      "CYSTRS_c 1.0\n",
      "DB4PS_c 3.5416784702549577\n",
      "DHFS_1_c 1.0\n",
      "DHNPA2i_m 1.0\n",
      "DHPPDA2_c 3.541666666666667\n",
      "DOLPMMT_r 1.0\n",
      "DOLPMT_c 1.0\n",
      "DRAPPRy_c 3.541666666666667\n",
      "FCLT_m 1.0\n",
      "GLNTRS_c 1.0\n",
      "GLUTRS_c 1.0\n",
      "GLYTRS_c 1.0\n",
      "GTPCII2_c 3.541666666666667\n",
      "GTPCI_c 1.0\n",
      "HEMEOS_m 1.0\n",
      "HISTRS_c 1.0\n",
      "HKYNH_c 1.1964949370827669\n",
      "HOMOX_m 1.0\n",
      "ILETRS_c 1.0\n",
      "IPCS_g 1.0\n",
      "KYN3OX_c 1.1964949370988214\n",
      "LEUTRS_c 1.0\n",
      "LYSTRS_c 1.0\n",
      "MAN1PT_c 1.0\n",
      "METTRS_c 1.0\n",
      "NADS2_c 1.0\n",
      "NAMNPP_c 1.196413264821951\n",
      "NNATi_c 1.0\n",
      "NNDPR_c 1.196494937096755\n",
      "PHETRS_c 1.0\n",
      "PMDPHT_c 3.541666666666667\n",
      "PNTK_c 1.0\n",
      "PPBNGD_c 1.0\n",
      "PPBNGS_1_c 1.0\n",
      "PPCDC_c 1.0\n",
      "PPNCL2_c 1.0\n",
      "PPPGO_m 1.0\n",
      "PROTRS_c 1.0\n",
      "QUILSYN_c 1.1964949371083813\n",
      "RBFSa_c 3.5416784702549577\n",
      "RBFSb_c 3.541666666666667\n",
      "RNDR1_c 1.0\n",
      "RNDR2_c 1.0\n",
      "SERPT_r 1.0\n",
      "SERTRS_c 1.0\n",
      "THRTRS_c 1.0\n",
      "THZPSN1_c 910.127478753541\n",
      "THZPSN2_c 910.127478753541\n",
      "TMDPK_c 910.6232294617563\n",
      "TMPK_c 910.505193578848\n",
      "TRPTRS_c 1.0\n",
      "TYRTRS_c 1.0\n",
      "UAGDP_c 1.0\n",
      "UPP3S_c 1.0\n",
      "UPPDC1_c 1.0\n",
      "VALTRS_c 1.0\n",
      "ENO_c_FWD 1.0148373795265409\n",
      "GAPD_c_FWD 1.014991616567741\n",
      "HCO3E_c_FWD 1.0\n",
      "HCO3E_n_REV 0.9999769076045355\n",
      "PGI_c_FWD 1.0181010295854667\n",
      "PGK_c_FWD 1.014991616567741\n",
      "PGM_c_FWD 1.0148373795265409\n",
      "TPI_c_FWD 1.0176433619206309\n"
     ]
    }
   ],
   "source": [
    "for rxn in ub_ratio[(ub_ratio > 0.9998)].index:\n",
    "    val = ub_ratio[rxn]\n",
    "    print(rxn, val)"
   ]
  },
  {
   "cell_type": "code",
   "execution_count": null,
   "metadata": {},
   "outputs": [],
   "source": [
    "ENO_c_FWD 0.9999\n",
    "GAPD_c_FWD 0.9999\n",
    "PGI_c_FWD 0.9999\n",
    "PGK_c_FWD 0.9999\n",
    "PGM_c_FWD 0.9999\n",
    "TPI_c_FWD 0.9999"
   ]
  },
  {
   "cell_type": "code",
   "execution_count": null,
   "metadata": {},
   "outputs": [],
   "source": [
    "for rxn in ub_ratio[(ub_ratio > 0.9998)].index:\n",
    "    val = ub_ratio[rxn]\n",
    "    print(rxn, val)"
   ]
  },
  {
   "cell_type": "code",
   "execution_count": null,
   "metadata": {},
   "outputs": [],
   "source": []
  },
  {
   "cell_type": "code",
   "execution_count": null,
   "metadata": {},
   "outputs": [],
   "source": []
  },
  {
   "cell_type": "raw",
   "metadata": {},
   "source": [
    "import sys\n",
    "sys.path.append('../../common/')\n",
    "from custom_functions import make_escher_csv\n",
    "make_escher_csv(range_ratio, './range_ratio.escher.csv')"
   ]
  },
  {
   "cell_type": "raw",
   "metadata": {},
   "source": [
    "TDP: 'AHMMPS4_c','THZPSN1_c','THZPSN2_c','TMDPK_c','TMPK_c'\n",
    "NAD(P)+: 'KYN3OX_c','HKYNH_c','3HAO_c','QUILSYN_c','NNDPR_c','NAMNPP_c'\n",
    "Flavins:'GTPCII2_c','DRAPPRy_c','DHPPDA2_c','PMDPHT_c','DB4PS_c','RBFSa_c','RBFSb_c'"
   ]
  },
  {
   "cell_type": "raw",
   "metadata": {},
   "source": [
    "# Biomass coupling but for flux sum of alternative pathways\n",
    "ADK1_m 0.0 2.651e-05 0.0 2.668680000000867e-05\n",
    "amp_m + atp_m --> 2.0 adp_m\n",
    "ADK3_m 0.0 2.651e-05 0.0 2.668680000000867e-05\n",
    "amp_m + gtp_m <=> adp_m + gdp_m\n",
    "\n",
    "AKP1_c 0.0 2.651e-05 0.0 2.668680000000173e-05\n",
    "ahdt_c + 3.0 h2o_c --> dhnpt_c + 2.0 h_c + 3.0 pi_c\n",
    "DNMPPA_c 0.0 2.651e-05 0.0 2.668680000000867e-05\n",
    "dhpmp_c + h2o_c --> dhnpt_c + pi_c\n",
    "\n",
    "DHPTS_m 0.0 2.651e-05 0.0 2.668680000002949e-05\n",
    "4abz_m + 6hmhpt_m --> dhpt_m + h2o_m\n",
    "FOLD3_m 0.0 2.651e-05 0.0 2.668680000002949e-05\n",
    "2ahhmd_m + 4abz_m --> dhpt_m + ppi_m\n",
    "\n",
    "# These two below are the de novo synthesis of folate, alternative to folate uptake\n",
    "DNTPPA_c 0.0 2.651e-05 0.0 2.668680000000173e-05\n",
    "ahdt_c + h2o_c --> dhpmp_c + h_c + ppi_c\n",
    "HPPK2_m 0.0 2.651e-05 0.0 2.668680000000173e-05\n",
    "6hmhpt_m + atp_m --> 2ahhmd_m + amp_m + h_m\n",
    "\n",
    "# These two below are the de novo synthesis of pyridoxal-P, alternative to pyridoxine uptake\n",
    "PYDAMK_c\n",
    "atp_c + pydam_c --> adp_c + h_c + pyam5p_c\n",
    "pyridoxamine kinase\n",
    "Vitamin B6 metabolism\n",
    "HYPOE_c\n",
    "h2o_c + pyam5p_c --> pi_c + pydam_c\n",
    "pyridoxamine phosphatase\n",
    "Vitamin B6 metabolism\n",
    "\n",
    "# These two below are the de novo synthesis of NAD(P), alternative to nicotinate uptake\n",
    "NADHK1_c\n",
    "atp_c + nadh_c --> adp_c + h_c + nadph_c\n",
    "NADH kinase\n",
    "Nicotinate and nicotinamide metabolism\n",
    "\n",
    "NADK_c\n",
    "atp_c + nad_c --> adp_c + h_c + nadp_c\n",
    "NAD kinase\n",
    "Nicotinate and nicotinamide metabolism"
   ]
  },
  {
   "cell_type": "code",
   "execution_count": 13,
   "metadata": {
    "collapsed": true
   },
   "outputs": [
    {
     "name": "stdout",
     "output_type": "stream",
     "text": [
      "ALCD25xi_c\n",
      "h_c + nadh_c + pacald_c --> 2phetoh_c + nad_c\n",
      "aldehyde dehydrogenase (2-phenylethanol, NAD)\n",
      "Phenylalanine, tyrosine and tryptophan metabolism\n",
      "ALCD25xi_m\n",
      "h_m + nadh_m + pacald_m --> 2phetoh_m + nad_m\n",
      "aldehyde dehydrogenase (2-phenylethanol, NAD)\n",
      "Phenylalanine, tyrosine and tryptophan metabolism\n",
      "ALCD25yi_c\n",
      "h_c + nadph_c + pacald_c --> 2phetoh_c + nadp_c\n",
      "aldehyde dehydrogenase (2-phenylethanol, NADP)\n",
      "Unassigned\n",
      "ALCD2i2_c\n",
      "acald_c + h_c + nadh_c --> etoh_c + nad_c\n",
      "alcohol dehydrogenase, (acetaldehyde to ethanol)\n",
      "Pyruvate metabolism\n",
      "BTDDH_c\n",
      "btd_c + nad_c <=> actn__R_c + h_c + nadh_c\n",
      "(R,R)-butanediol dehydrogenase\n",
      "Butanoate metabolism\n",
      "CERH124A_r\n",
      "cer1_24_r + h_r + nadph_r + o2_r --> cer2A_24_r + h2o_r + nadp_r\n",
      "ceramide-1 hydroxylase (24C)\n",
      "Sphingolipid biosynthesis\n",
      "CERH126A_r\n",
      "cer1_26_r + h_r + nadph_r + o2_r --> cer2A_26_r + h2o_r + nadp_r\n",
      "ceramide-1 hydroxylase (26C)\n",
      "Sphingolipid biosynthesis\n",
      "CHORM_c\n",
      "chor_c --> pphn_c\n",
      "chorismate mutase\n",
      "Phenylalanine, tyrosine and tryptophan metabolism\n",
      "DURIK1_c\n",
      "atp_c + duri_c --> adp_c + dump_c + h_c\n",
      "deoxyuridine kinase (ATP:deoxyuridine)\n",
      "Pyrimidine metabolism\n",
      "FECOOR_m\n",
      "4.0 focytC_m + 8.0 h_m + o2_m --> 4.0 ficytC_m + 2.0 h2o_m + 4.0 h_c\n",
      "ferrocytochrome-c:oxygen oxidoreductase\n",
      "Oxidative phosphorylation\n",
      "FECRq6_m\n",
      "2.0 ficytC_m + 2.0 h_m + q6h2_m --> 2.0 focytC_m + 4.0 h_c + q6_m\n",
      "ubiquinol:ferricytochrome c reductase\n",
      "Oxidative phosphorylation\n",
      "NDPK5_c\n",
      "atp_c + dgdp_c --> adp_c + dgtp_c\n",
      "nucleoside diphosphate kinase\n",
      "Purine metabolism\n",
      "NTD1pp_c\n",
      "dump_c + h2o_c --> duri_c + pi_c\n",
      "5'-nucleotidase (dUMP)\n",
      "Purine metabolism\n",
      "NTD5_c\n",
      "dtmp_c + h2o_c --> pi_c + thymd_c\n",
      "5'-nucleotidase (dTMP)\n",
      "Purine metabolism\n",
      "NTP4_c\n",
      "dgtp_c + h2o_c --> dgdp_c + h_c + pi_c\n",
      "nucleoside-triphosphatase (dGTP)\n",
      "Purine metabolism\n",
      "OHACT5_c\n",
      "2phetoh_c + accoa_c --> coa_c + pheac_c\n",
      "alcohol acetyltransferase (phenylethanol alcohol)\n",
      "Unassigned\n",
      "PPND2_c\n",
      "nadp_c + pphn_c --> 34hpp_c + co2_c + nadph_c\n",
      "prephenate dehydrogenase (NADP)\n",
      "Phenylalanine, tyrosine and tryptophan metabolism\n",
      "PPNDH_c\n",
      "h_c + pphn_c --> co2_c + h2o_c + phpyr_c\n",
      "prephenate dehydratase\n",
      "Phenylalanine, tyrosine and tryptophan metabolism\n",
      "PPYRDC_c\n",
      "h_c + phpyr_c --> co2_c + pacald_c\n",
      "phenylpyruvate decarboxylase\n",
      "Phenylalanine, tyrosine and tryptophan metabolism\n",
      "PSPHS_r\n",
      "h_r + nadph_r + o2_r + sphgn_r --> h2o_r + nadp_r + psphings_r\n",
      "phytosphingosine synthesis\n",
      "Sphingolipid biosynthesis\n",
      "PYRDC2_c\n",
      "acald_c + h_c + pyr_c --> actn__R_c + co2_c\n",
      "pyruvate decarboxylase (acetoin-forming)\n",
      "Unassigned\n",
      "TMDK1_c\n",
      "atp_c + thymd_c --> adp_c + dtmp_c + h_c\n",
      "thymidine kinase (ATP:thymidine)\n",
      "Pyrimidine metabolism\n",
      "TYRTA_c\n",
      "34hpp_c + glu__L_c <=> akg_c + tyr__L_c\n",
      "tyrosine transaminase\n",
      "Arginine and proline metabolism\n"
     ]
    }
   ],
   "source": [
    "rxns_excl = []\n",
    "for rxnid in range_ratio[(range_ratio < 0.999) & (range_ratio >= 0.90)].index:\n",
    "    if rxnid not in rxns_excl:\n",
    "        rxn = model.reactions.get_by_id(rxnid)\n",
    "        print(rxnid)\n",
    "        print(rxn.reaction)\n",
    "        print(df_fva.name[rxnid])\n",
    "        print(df_fva.subsystem[rxnid])"
   ]
  },
  {
   "cell_type": "code",
   "execution_count": null,
   "metadata": {},
   "outputs": [],
   "source": []
  },
  {
   "cell_type": "code",
   "execution_count": null,
   "metadata": {},
   "outputs": [],
   "source": []
  },
  {
   "cell_type": "code",
   "execution_count": null,
   "metadata": {},
   "outputs": [],
   "source": []
  },
  {
   "cell_type": "code",
   "execution_count": null,
   "metadata": {},
   "outputs": [],
   "source": [
    "rxns_excl = ['ADK1_m','ADK3_m','AKP1_c','DHPTS_m','DNMPPA_c','DNTPPA_c','FOLD3_m','HPPK2_m']"
   ]
  },
  {
   "cell_type": "code",
   "execution_count": 23,
   "metadata": {
    "collapsed": true
   },
   "outputs": [
    {
     "name": "stdout",
     "output_type": "stream",
     "text": [
      "ALCD25xi_c 0.0 4.31655122 0.0 4.741704963725502\n",
      "ALCD25xi_m 0.0 4.64001525 0.0 4.741704963725503\n",
      "ALCD25yi_c 0.0 4.60483569 0.0 4.706839486051044\n",
      "ALCD2i2_c 0.0 17.78720214 0.0 18.08277316674969\n",
      "BTDDH_c -8.9241089 0.0 -9.78792309025901 0.0\n",
      "CERH124A_r 0.0 0.0011613 0.0 0.00120827664\n",
      "CERH126A_r 0.0 0.0011613 0.0 0.00120827664\n",
      "CHORM_c 0.13188562 4.98095261 0.09186231959999999 5.031138323480723\n",
      "DURIK1_c 0.0 209.06045036 0.0 213.376723367647\n",
      "FECOOR_m 8.08841616 61.47356867 7.534184721835937 61.78250422208488\n",
      "FECRq6_m 16.17683232 122.94713733 15.06836944367187 123.5650084441698\n",
      "HYPOE_c 0.0 209.06044277 0.0 213.3767233676471\n",
      "NADHK1_c 0.0 0.00137589 0.0 0.001385172000006693\n",
      "NADK_c 0.0 0.00137589 0.0 0.001385171999999824\n",
      "NDPK5_c 0.00108118 209.02829379 0.0011123736 213.377835741247\n",
      "NTD1pp_c 0.0 209.06044277 0.0 213.376723367647\n",
      "NTD5_c 0.0 209.06044277 0.0 213.376723367647\n",
      "NTP4_c 0.0 209.02721261 0.0 213.3767233676465\n",
      "OHACT5_c 0.0 3.63925992 0.0 3.91038588944987\n",
      "PPND2_c 0.09044452 4.65297036 0.0314772924 4.970753296280726\n",
      "PPNDH_c 0.03266907 4.88293144 0.0603850272 4.99966103108072\n",
      "PPYRDC_c 0.0 4.84040276 0.0 4.939276003880726\n",
      "PSPHS_r 0.0 0.0011613 0.0 0.00120827664\n",
      "PYDAMK_c 0.0 209.06055869 0.0 213.3767233676471\n",
      "PYRDC2_c 0.0 8.9241089 0.0 9.787923090259035\n",
      "TMDK1_c 0.0 209.06044277 0.0 213.3767233676467\n",
      "TYRTA_c 0.09044452 4.65297036 0.0314772924 4.97075329628068\n"
     ]
    }
   ],
   "source": [
    "#rxns_check = ['ADK1_m','ADK3_m','ALCD25xi_c','ALCD25xi_m','ALCD25yi_c','CHORM_c','DURIK1_c','NDPK5_c',\n",
    "#              'NTD1pp_c', 'NTD5_c','NTP4_c','OHACT5_c','PPND2_c','PPNDH_c','PPYRDC_c','TMDK1_c']\n",
    "rxns_excl = ['ADK1_m','ADK3_m','AKP1_c','DHPTS_m','DNMPPA_c','DNTPPA_c','FOLD3_m','HPPK2_m']\n",
    "rxns_check = range_ratio[(range_ratio < 0.999) & (range_ratio >= 0.90)].index\n",
    "for rxn in rxns_check:\n",
    "    if rxn not in rxns_excl:\n",
    "        rmin,rmax,fmin,fmax = df_fva.loc[rxn, ['rba_min', 'rba_max', 'fva_min', 'fva_max']]\n",
    "        print(rxn, rmin, rmax, fmin, fmax)"
   ]
  },
  {
   "cell_type": "code",
   "execution_count": null,
   "metadata": {},
   "outputs": [],
   "source": []
  },
  {
   "cell_type": "code",
   "execution_count": null,
   "metadata": {},
   "outputs": [],
   "source": []
  },
  {
   "cell_type": "code",
   "execution_count": 10,
   "metadata": {
    "scrolled": false
   },
   "outputs": [
    {
     "data": {
      "text/plain": [
       "0.4015645371577575"
      ]
     },
     "execution_count": 10,
     "metadata": {},
     "output_type": "execute_result"
    }
   ],
   "source": [
    "range_ratio[range_ratio <= 0.1].shape[0] / range_ratio.shape[0]"
   ]
  },
  {
   "cell_type": "code",
   "execution_count": null,
   "metadata": {},
   "outputs": [],
   "source": []
  },
  {
   "cell_type": "code",
   "execution_count": 23,
   "metadata": {},
   "outputs": [
    {
     "data": {
      "text/plain": [
       "13GS_c           1.000000\n",
       "16GS_c           1.000000\n",
       "3DSPHR_r         1.000000\n",
       "3HACD200_rm      0.047266\n",
       "3HACD220_rm      0.044930\n",
       "                   ...   \n",
       "VALTA_m          0.474131\n",
       "VALTRS_c         1.000000\n",
       "XPPT_c           0.069831\n",
       "lumpFACS160_c    0.103825\n",
       "lumpFACS180_c    0.109492\n",
       "Length: 767, dtype: float64"
      ]
     },
     "execution_count": 23,
     "metadata": {},
     "output_type": "execute_result"
    }
   ],
   "source": [
    "range_ratio"
   ]
  },
  {
   "cell_type": "code",
   "execution_count": 27,
   "metadata": {},
   "outputs": [],
   "source": [
    "import sys\n",
    "sys.path.append('../../common/')\n",
    "from custom_functions import make_escher_csv\n",
    "make_escher_csv(range_ratio, './range_ratio.escher.csv')"
   ]
  },
  {
   "cell_type": "code",
   "execution_count": 28,
   "metadata": {},
   "outputs": [],
   "source": [
    "make_escher_csv(range_ratio, './range_ratio.escher.csv')"
   ]
  },
  {
   "cell_type": "code",
   "execution_count": 24,
   "metadata": {},
   "outputs": [],
   "source": [
    "range_ratio_colors = pd.core.series.Series(dtype='int')\n",
    "for rxn in range_ratio.index:\n",
    "    range"
   ]
  },
  {
   "cell_type": "code",
   "execution_count": null,
   "metadata": {},
   "outputs": [],
   "source": []
  }
 ],
 "metadata": {
  "kernelspec": {
   "display_name": "Python 3",
   "language": "python",
   "name": "python3"
  },
  "language_info": {
   "codemirror_mode": {
    "name": "ipython",
    "version": 3
   },
   "file_extension": ".py",
   "mimetype": "text/x-python",
   "name": "python",
   "nbconvert_exporter": "python",
   "pygments_lexer": "ipython3",
   "version": "3.7.9"
  }
 },
 "nbformat": 4,
 "nbformat_minor": 4
}
