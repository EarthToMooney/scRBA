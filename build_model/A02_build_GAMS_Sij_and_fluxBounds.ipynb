{
 "cells": [
  {
   "cell_type": "code",
   "execution_count": 1,
   "metadata": {},
   "outputs": [],
   "source": [
    "import pandas as pd\n",
    "from custom_functions_scRBA import *"
   ]
  },
  {
   "cell_type": "markdown",
   "metadata": {},
   "source": [
    "#### Load excel file"
   ]
  },
  {
   "cell_type": "code",
   "execution_count": null,
   "metadata": {},
   "outputs": [],
   "source": [
    "df_eqn = pd.read_excel('./model/RBA_stoichiometry.xlsx')"
   ]
  },
  {
   "cell_type": "markdown",
   "metadata": {},
   "source": [
    "#### Assemble list of species"
   ]
  },
  {
   "cell_type": "code",
   "execution_count": null,
   "metadata": {},
   "outputs": [],
   "source": [
    "met_list_raw = []\n",
    "for i in df_eqn.index:\n",
    "    met_dict = metabolites_dict_from_reaction_equation_RBA(df_eqn.reaction[i])\n",
    "    met_list_raw += met_dict.keys()\n",
    "\n",
    "met_list = sorted(list(set(met_list_raw)))\n",
    "met_list = [i for i in met_list if i != '']\n",
    "\n",
    "met_list = [\"'\" + i + \"'\" for i in met_list]\n",
    "met_list = ['/'] + met_list + ['/']"
   ]
  },
  {
   "cell_type": "code",
   "execution_count": null,
   "metadata": {},
   "outputs": [],
   "source": [
    "with open('./model/RBA_species.txt', 'w') as f:\n",
    "    f.write('\\n'.join(met_list))"
   ]
  },
  {
   "cell_type": "markdown",
   "metadata": {},
   "source": [
    "#### Assemble list of reactions"
   ]
  },
  {
   "cell_type": "code",
   "execution_count": null,
   "metadata": {},
   "outputs": [],
   "source": [
    "rxn_list = df_eqn.id.to_list()\n",
    "rxn_list = [\"'\" + i + \"'\" for i in rxn_list if i != '']\n",
    "rxn_list = ['/'] + rxn_list + ['/']"
   ]
  },
  {
   "cell_type": "code",
   "execution_count": null,
   "metadata": {},
   "outputs": [],
   "source": [
    "with open('./model/RBA_rxns.txt', 'w') as f:\n",
    "    f.write('\\n'.join(rxn_list))"
   ]
  },
  {
   "cell_type": "markdown",
   "metadata": {},
   "source": [
    "#### Get list of uptake reactions"
   ]
  },
  {
   "cell_type": "code",
   "execution_count": null,
   "metadata": {},
   "outputs": [],
   "source": [
    "rxn_list = []\n",
    "for i in df_eqn.id:\n",
    "    tag,rxn_base_id,rxn_dir,enz_id = extract_details_from_rxnid(i)\n",
    "    if tag == 'RXN' and rxn_base_id[:3] == 'EX_' and rxn_dir == 'REV':\n",
    "        rxn_list.append(i)\n",
    "\n",
    "rxn_list = [\"'\" + i + \"'\" for i in rxn_list if i != '']\n",
    "rxn_list = ['/'] + rxn_list + ['/']"
   ]
  },
  {
   "cell_type": "code",
   "execution_count": null,
   "metadata": {},
   "outputs": [],
   "source": [
    "with open('./model/RBA_rxns_EXREV.txt', 'w') as f:\n",
    "    f.write('\\n'.join(rxn_list))"
   ]
  },
  {
   "cell_type": "markdown",
   "metadata": {},
   "source": [
    "#### Get list of secretion reactions"
   ]
  },
  {
   "cell_type": "code",
   "execution_count": null,
   "metadata": {},
   "outputs": [],
   "source": [
    "rxn_list = []\n",
    "for i in df_eqn.id:\n",
    "    tag,rxn_base_id,rxn_dir,enz_id = extract_details_from_rxnid(i)\n",
    "    if tag == 'RXN' and rxn_base_id[:3] == 'EX_' and rxn_dir == 'FWD':\n",
    "        rxn_list.append(i)\n",
    "\n",
    "rxn_list = [\"'\" + i + \"'\" for i in rxn_list if i != '']\n",
    "rxn_list = ['/'] + rxn_list + ['/']"
   ]
  },
  {
   "cell_type": "code",
   "execution_count": null,
   "metadata": {},
   "outputs": [],
   "source": [
    "with open('./model/RBA_rxns_EXFWD.txt', 'w') as f:\n",
    "    f.write('\\n'.join(rxn_list))"
   ]
  },
  {
   "cell_type": "markdown",
   "metadata": {},
   "source": [
    "#### Get list of protein waste reactions"
   ]
  },
  {
   "cell_type": "code",
   "execution_count": null,
   "metadata": {},
   "outputs": [],
   "source": [
    "rxn_list = []\n",
    "for i in df_eqn.id:\n",
    "    tag = i.split('-')[0]\n",
    "    if tag == 'PROWASTE':\n",
    "        rxn_list.append(i)\n",
    "\n",
    "rxn_list = [\"'\" + i + \"'\" for i in rxn_list if i != '']\n",
    "rxn_list = ['/'] + rxn_list + ['/']"
   ]
  },
  {
   "cell_type": "code",
   "execution_count": null,
   "metadata": {},
   "outputs": [],
   "source": [
    "with open('./model/RBA_rxns_prowaste.txt', 'w') as f:\n",
    "    f.write('\\n'.join(rxn_list))"
   ]
  },
  {
   "cell_type": "markdown",
   "metadata": {},
   "source": [
    "#### Get list of enzyme syn reactions"
   ]
  },
  {
   "cell_type": "code",
   "execution_count": null,
   "metadata": {},
   "outputs": [],
   "source": [
    "rxn_list = []\n",
    "for i in df_eqn.id:\n",
    "    tag = i.split('-')[0]\n",
    "    if tag == 'ENZSYN':\n",
    "        rxn_list.append(i)\n",
    "\n",
    "rxn_list = [\"'\" + i + \"'\" for i in rxn_list if i != '']\n",
    "rxn_list = ['/'] + rxn_list + ['/']"
   ]
  },
  {
   "cell_type": "code",
   "execution_count": null,
   "metadata": {},
   "outputs": [],
   "source": [
    "with open('./model/RBA_rxns_enzsyn.txt', 'w') as f:\n",
    "    f.write('\\n'.join(rxn_list))"
   ]
  },
  {
   "cell_type": "markdown",
   "metadata": {},
   "source": [
    "#### Get list of enzyme load reactions"
   ]
  },
  {
   "cell_type": "code",
   "execution_count": null,
   "metadata": {},
   "outputs": [],
   "source": [
    "rxn_list = []\n",
    "for i in df_eqn.id:\n",
    "    tag = i.split('-')[0]\n",
    "    if tag == 'ENZLOAD':\n",
    "        rxn_list.append(i)\n",
    "\n",
    "rxn_list = [\"'\" + i + \"'\" for i in rxn_list if i != '']\n",
    "rxn_list = ['/'] + rxn_list + ['/']"
   ]
  },
  {
   "cell_type": "code",
   "execution_count": null,
   "metadata": {},
   "outputs": [],
   "source": [
    "with open('./model/RBA_rxns_enzload.txt', 'w') as f:\n",
    "    f.write('\\n'.join(rxn_list))"
   ]
  },
  {
   "cell_type": "markdown",
   "metadata": {},
   "source": [
    "#### Get list of metabolic network reactions"
   ]
  },
  {
   "cell_type": "code",
   "execution_count": null,
   "metadata": {},
   "outputs": [],
   "source": [
    "rxn_list = []\n",
    "for i in df_eqn.id:\n",
    "    tag = i.split('-')[0]\n",
    "    if tag == 'RXN':\n",
    "        rxn_list.append(i)\n",
    "\n",
    "rxn_list = [\"'\" + i + \"'\" for i in rxn_list if i != '']\n",
    "rxn_list = ['/'] + rxn_list + ['/']"
   ]
  },
  {
   "cell_type": "code",
   "execution_count": null,
   "metadata": {},
   "outputs": [],
   "source": [
    "with open('./model/RBA_rxns_rxnmetabolicnetwork.txt', 'w') as f:\n",
    "    f.write('\\n'.join(rxn_list))"
   ]
  },
  {
   "cell_type": "markdown",
   "metadata": {},
   "source": [
    "#### Assemble stoichiometry"
   ]
  },
  {
   "cell_type": "code",
   "execution_count": null,
   "metadata": {},
   "outputs": [],
   "source": [
    "sij = []\n",
    "for i in df_eqn.index:\n",
    "    x = metabolites_dict_from_reaction_equation_RBA(df_eqn.reaction[i])\n",
    "    met_dict = dict()\n",
    "    for k,v in x.items():\n",
    "        if k == '':\n",
    "            continue\n",
    "        if v.is_integer():\n",
    "            met_dict[k] = int(v)\n",
    "        else:\n",
    "            met_dict[k] = v\n",
    "            \n",
    "    for k,v in met_dict.items():\n",
    "        sij.append(\"'\" + k + \"'.'\" + df_eqn.id[i] + \"' \" + str(v))\n",
    "    \n",
    "sij = ['/'] + sij + ['/']"
   ]
  },
  {
   "cell_type": "code",
   "execution_count": null,
   "metadata": {},
   "outputs": [],
   "source": [
    "with open('./model/RBA_sij.txt', 'w') as f:\n",
    "    f.write('\\n'.join(sij))"
   ]
  },
  {
   "cell_type": "code",
   "execution_count": null,
   "metadata": {},
   "outputs": [],
   "source": []
  }
 ],
 "metadata": {
  "kernelspec": {
   "display_name": "Python 3",
   "language": "python",
   "name": "python3"
  },
  "language_info": {
   "codemirror_mode": {
    "name": "ipython",
    "version": 3
   },
   "file_extension": ".py",
   "mimetype": "text/x-python",
   "name": "python",
   "nbconvert_exporter": "python",
   "pygments_lexer": "ipython3",
   "version": "3.9.16"
  }
 },
 "nbformat": 4,
 "nbformat_minor": 4
}
