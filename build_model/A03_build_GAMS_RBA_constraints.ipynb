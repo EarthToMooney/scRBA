{
 "cells": [
  {
   "cell_type": "code",
   "execution_count": 1,
   "metadata": {},
   "outputs": [],
   "source": [
    "import pandas as pd\n",
    "from custom_functions_scRBA import *"
   ]
  },
  {
   "cell_type": "code",
   "execution_count": 2,
   "metadata": {},
   "outputs": [],
   "source": [
    "#### LOAD INPUTS AND PARAMETERS\n",
    "# Stoichiometry\n",
    "df_stoich = pd.read_excel('./model/RBA_stoichiometry.xlsx')\n",
    "df_stoich.index = df_stoich.id.to_list()\n",
    "\n",
    "# Load protein sequence lengths\n",
    "df_pro = pd.read_excel('./input/PROTEIN_stoich_curation_2021-09-28.xlsx')\n",
    "df_pro.index = df_pro.id.to_list()\n",
    "\n",
    "# Ribosome efficiency (amino acids translated per active ribosome per second)\n",
    "# (script will convert the unit to per hour) (obsolete / implement directly in GAMS file now)\n",
    "# kribo = 10.5\n",
    "\n",
    "# Dummy protein's length (assigned to be the median protein length)\n",
    "NAA_dummy = 401"
   ]
  },
  {
   "cell_type": "raw",
   "metadata": {},
   "source": [
    "### Ribosome synthesis requirement coupled to protein translation\n",
    "# (Outdated. Please use the constraints provided directly in the GAMS file)\n",
    "# Mitochondrial\n",
    "idx = df_stoich[(df_stoich.coupling_type == 'prot_ribo') & \\\n",
    "                (df_stoich.coupling_species == 'ribomito')].index\n",
    "lhs = \"v('RIBOSYN-ribomito') * %kribomito%\"\n",
    "rhs = \"%mu% * sum(j$mito_translation(j), NAA(j) * v(j))\"\n",
    "eqn_list.append(lhs + ' =e= ' + rhs + ';')\n",
    "\n",
    "rxn_list = [\"'\" + i + \"'\" for i in idx if i != '']\n",
    "rxn_list = ['/'] + rxn_list + ['/']\n",
    "with open('./model/RBA_mito_translation.txt', 'w') as f:\n",
    "    f.write('\\n'.join(rxn_list))"
   ]
  },
  {
   "cell_type": "raw",
   "metadata": {},
   "source": [
    "# Nucleus (outdated)\n",
    "# (Outdated. Please use the constraints provided directly in the GAMS file)\n",
    "idx = df_stoich[(df_stoich.coupling_type == 'prot_ribo') & \\\n",
    "                (df_stoich.coupling_species == 'ribonuc')].index\n",
    "lhs = \"v('RIBOSYN-ribonuc') * %kribonuc%\"\n",
    "rhs = \"%mu% * sum(j$nuc_translation(j), NAA(j) * v(j))\"\n",
    "eqn_list.append(lhs + ' =e= ' + rhs + ';')\n",
    "\n",
    "rxn_list = [\"'\" + i + \"'\" for i in idx if i != '']\n",
    "rxn_list = ['/'] + rxn_list + ['/']\n",
    "with open('./model/RBA_nuc_translation.txt', 'w') as f:\n",
    "    f.write('\\n'.join(rxn_list))"
   ]
  },
  {
   "cell_type": "code",
   "execution_count": 3,
   "metadata": {},
   "outputs": [],
   "source": [
    "### Enzyme synthesis requirement coupled to metabolic reaction rate\n",
    "idx = df_stoich[df_stoich.coupling_type == 'rxn_enz'].index\n",
    "eqn_list = []; kapp_list = []; eqn_list_equality = [];\n",
    "\n",
    "for i in idx:\n",
    "    lhs = \"v('ENZLOAD-\" + df_stoich.id[i][4:] + \"') * \" + \"kapp('\" + i + \"')\"\n",
    "    rhs = \"%mu% * v('\" + i + \"')\"\n",
    "    eqn_list.append(lhs + ' =g= ' + rhs + ';')\n",
    "    eqn_list_equality.append(lhs + ' =e= ' + rhs + ';')\n",
    "    \n",
    "eqn_idx = ['EnzCap'+str(i) for i in range(0, len(eqn_list))]\n",
    "eqn_list = ['EnzCap'+str(i)+'.. ' + eqn_list[i] for i in range(0, len(eqn_list))]\n",
    "\n",
    "with open('./model/RBA_enzCapacityConstraints_declares.txt', 'w') as f:\n",
    "    f.write('\\n'.join(eqn_idx))\n",
    "with open('./model/RBA_enzCapacityConstraints_eqns.txt', 'w') as f:\n",
    "    f.write('\\n'.join(eqn_list))\n",
    "    \n",
    "eqn_list_equality = ['EnzCap'+str(i)+'.. ' + eqn_list_equality[i] for i in range(0, len(eqn_list_equality))]\n",
    "with open('./model/RBA_enzCapacityConstraints_eqns_equality_version.txt', 'w') as f:\n",
    "    f.write('\\n'.join(eqn_list_equality))"
   ]
  },
  {
   "cell_type": "code",
   "execution_count": 4,
   "metadata": {},
   "outputs": [],
   "source": [
    "### Write protein length file (NAA)\n",
    "pro_list = []\n",
    "for i in df_pro.index:\n",
    "    pro_list.append(\"'PROSYN-\" + df_pro.id[i] + \"' \" + str(len(df_pro.sequence[i]) - 1))\n",
    "pro_list.append(\"'PROSYN-PROTDUMMY' \" + str(NAA_dummy))\n",
    "\n",
    "pro_list = ['/'] + pro_list + ['/']\n",
    "with open('./model/RBA_proteinLength.txt', 'w') as f:\n",
    "    f.write('\\n'.join(pro_list))"
   ]
  },
  {
   "cell_type": "code",
   "execution_count": 5,
   "metadata": {},
   "outputs": [],
   "source": [
    "### Write prosyn reaction\n",
    "idx = [i for i in df_stoich.index if i[:7] == 'PROSYN-']\n",
    "prosyn = [\"'\" + i + \"'\" for i in idx]\n",
    "prosyn = ['/'] + prosyn + ['/']\n",
    "with open('./model/RBA_rxns_prosyn.txt', 'w') as f:\n",
    "    f.write('\\n'.join(prosyn))"
   ]
  },
  {
   "cell_type": "code",
   "execution_count": null,
   "metadata": {},
   "outputs": [],
   "source": []
  }
 ],
 "metadata": {
  "kernelspec": {
   "display_name": "Python 3",
   "language": "python",
   "name": "python3"
  },
  "language_info": {
   "codemirror_mode": {
    "name": "ipython",
    "version": 3
   },
   "file_extension": ".py",
   "mimetype": "text/x-python",
   "name": "python",
   "nbconvert_exporter": "python",
   "pygments_lexer": "ipython3",
   "version": "3.7.9"
  }
 },
 "nbformat": 4,
 "nbformat_minor": 4
}
