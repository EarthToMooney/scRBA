{
 "cells": [
  {
   "cell_type": "code",
   "execution_count": 1,
   "metadata": {},
   "outputs": [],
   "source": [
    "import pandas as pd\n",
    "import numpy as np\n",
    "\n",
    "from Bio import SeqIO\n",
    "from Bio.SeqRecord import SeqRecord\n",
    "from Bio.Seq import Seq"
   ]
  },
  {
   "cell_type": "markdown",
   "metadata": {},
   "source": [
    "Batch"
   ]
  },
  {
   "cell_type": "code",
   "execution_count": 2,
   "metadata": {},
   "outputs": [],
   "source": [
    "df_all = pd.read_csv('./input/RNASeq_counts/FPKM.all.array.txt', sep='\\t', index_col=0)"
   ]
  },
  {
   "cell_type": "code",
   "execution_count": 3,
   "metadata": {},
   "outputs": [],
   "source": [
    "path = '../../SCProjects/genome/Scerevisiae_S288C/GCA_000146045.2_R64_rna_from_genomic.fna'\n",
    "x = SeqIO.parse(path, format='fasta')\n",
    "\n",
    "rna_seqlib = dict()\n",
    "for i in x:\n",
    "    ltag = [j for j in i.description.split(' ') if 'locus_tag=' in j][0]\n",
    "    ltag = ltag.split('=')[-1][:-1]\n",
    "    rna_seqlib[ltag] = str(i.seq.transcribe())\n",
    "    \n",
    "path = './input/RNASeq_counts/added_gene_CDS.fsa'\n",
    "x = SeqIO.parse(path, format='fasta')\n",
    "for i in x:\n",
    "    ltag = i.description.split(' ')[0]\n",
    "    ltag = ltag.split('_')[0]\n",
    "    rna_seqlib[ltag] = str(i.seq.transcribe())"
   ]
  },
  {
   "cell_type": "code",
   "execution_count": 4,
   "metadata": {
    "scrolled": true
   },
   "outputs": [],
   "source": [
    "df_avg = pd.DataFrame(columns=['A', 'U', 'G', 'C'],\n",
    "                      index=['Array.b', 'Gsnap.b', 'Stampy.b', 'Tophat.b', 'RNASeq.b', 'Avg.b',\n",
    "                             'Array.c', 'Gsnap.c', 'Stampy.c', 'Tophat.c', 'RNASeq.c', 'Avg.c',\n",
    "                             'Avg'])\n",
    "\n",
    "cols_map = {'Array.b': ['A.b1', 'A.b2', 'A.b3'],\n",
    "            'Gsnap.b': ['G.b1', 'G.b2', 'G.b3'],\n",
    "            'Stampy.b': ['S.b1', 'S.b2', 'S.b3'],\n",
    "            'Tophat.b': ['T.b1', 'T.b2', 'T.b3'],\n",
    "            'Array.c': ['A.c1', 'A.c2', 'A.c3'],\n",
    "            'Gsnap.c': ['G.c1', 'G.c2', 'G.c3'],\n",
    "            'Stampy.c': ['S.c1', 'S.c2', 'S.c3'],\n",
    "            'Tophat.c': ['T.c1', 'T.c2', 'T.c3']}\n",
    "\n",
    "bs = ['A', 'U', 'G', 'C']\n",
    "\n",
    "for method,cols in cols_map.items():\n",
    "    counts = {col:{b:0 for b in bs} for col in cols}\n",
    "    comp = {col:{b:0 for b in bs} for col in cols}\n",
    "    for col in cols:\n",
    "        for g in df_all.index:\n",
    "            for b in bs:\n",
    "                counts[col][b] += df_all.loc[g,col] * rna_seqlib[g].count(b)\n",
    "\n",
    "        tot = sum(counts[col].values())\n",
    "        for b in bs:\n",
    "            comp[col][b] = counts[col][b] / tot\n",
    "            \n",
    "    for b in bs:\n",
    "        df_avg.loc[method,b] = np.mean([i[b] for i in comp.values()])"
   ]
  },
  {
   "cell_type": "code",
   "execution_count": 5,
   "metadata": {
    "scrolled": true
   },
   "outputs": [],
   "source": [
    "for suffix in ['b', 'c']:\n",
    "    cols = [col + '.' + suffix for col in ['Gsnap', 'Stampy', 'Tophat']]\n",
    "    df_avg.loc['RNASeq.' + suffix, :] = np.mean(df_avg.loc[cols, :], axis=0)\n",
    "    cols = [col + '.' + suffix for col in ['Array', 'RNASeq']]\n",
    "    df_avg.loc['Avg.' + suffix, :] = np.mean(df_avg.loc[cols, :], axis=0)\n",
    "    \n",
    "df_avg.loc['Avg'] = (df_avg.loc['Avg.b'] + df_avg.loc['Avg.c']) / 2"
   ]
  },
  {
   "cell_type": "code",
   "execution_count": 6,
   "metadata": {
    "scrolled": true
   },
   "outputs": [
    {
     "data": {
      "text/html": [
       "<div>\n",
       "<style scoped>\n",
       "    .dataframe tbody tr th:only-of-type {\n",
       "        vertical-align: middle;\n",
       "    }\n",
       "\n",
       "    .dataframe tbody tr th {\n",
       "        vertical-align: top;\n",
       "    }\n",
       "\n",
       "    .dataframe thead th {\n",
       "        text-align: right;\n",
       "    }\n",
       "</style>\n",
       "<table border=\"1\" class=\"dataframe\">\n",
       "  <thead>\n",
       "    <tr style=\"text-align: right;\">\n",
       "      <th></th>\n",
       "      <th>A</th>\n",
       "      <th>U</th>\n",
       "      <th>G</th>\n",
       "      <th>C</th>\n",
       "    </tr>\n",
       "  </thead>\n",
       "  <tbody>\n",
       "    <tr>\n",
       "      <th>Avg.b</th>\n",
       "      <td>0.310292</td>\n",
       "      <td>0.278057</td>\n",
       "      <td>0.214037</td>\n",
       "      <td>0.197614</td>\n",
       "    </tr>\n",
       "    <tr>\n",
       "      <th>Avg.c</th>\n",
       "      <td>0.310517</td>\n",
       "      <td>0.276804</td>\n",
       "      <td>0.214006</td>\n",
       "      <td>0.198672</td>\n",
       "    </tr>\n",
       "    <tr>\n",
       "      <th>Avg</th>\n",
       "      <td>0.310404</td>\n",
       "      <td>0.27743</td>\n",
       "      <td>0.214022</td>\n",
       "      <td>0.198143</td>\n",
       "    </tr>\n",
       "  </tbody>\n",
       "</table>\n",
       "</div>"
      ],
      "text/plain": [
       "              A         U         G         C\n",
       "Avg.b  0.310292  0.278057  0.214037  0.197614\n",
       "Avg.c  0.310517  0.276804  0.214006  0.198672\n",
       "Avg    0.310404   0.27743  0.214022  0.198143"
      ]
     },
     "execution_count": 6,
     "metadata": {},
     "output_type": "execute_result"
    }
   ],
   "source": [
    "df_avg.loc[['Avg.b', 'Avg.c', 'Avg']]"
   ]
  },
  {
   "cell_type": "code",
   "execution_count": 16,
   "metadata": {},
   "outputs": [
    {
     "name": "stdout",
     "output_type": "stream",
     "text": [
      "A 0.310404\n",
      "U 0.27743\n",
      "G 0.214022\n",
      "C 0.198143\n"
     ]
    }
   ],
   "source": [
    "for b in bs:\n",
    "    print(b, round(df_avg.loc['Avg',b], 6))"
   ]
  },
  {
   "cell_type": "code",
   "execution_count": 14,
   "metadata": {},
   "outputs": [
    {
     "data": {
      "text/plain": [
       "1.0"
      ]
     },
     "execution_count": 14,
     "metadata": {},
     "output_type": "execute_result"
    }
   ],
   "source": [
    "sum(df_avg.loc['Avg',:])"
   ]
  },
  {
   "cell_type": "code",
   "execution_count": 43,
   "metadata": {},
   "outputs": [],
   "source": [
    "df_avg.to_excel('./input/RNASeq_counts/read_counts.xlsx', index=True)"
   ]
  },
  {
   "cell_type": "code",
   "execution_count": null,
   "metadata": {},
   "outputs": [],
   "source": []
  }
 ],
 "metadata": {
  "kernelspec": {
   "display_name": "Python 3",
   "language": "python",
   "name": "python3"
  },
  "language_info": {
   "codemirror_mode": {
    "name": "ipython",
    "version": 3
   },
   "file_extension": ".py",
   "mimetype": "text/x-python",
   "name": "python",
   "nbconvert_exporter": "python",
   "pygments_lexer": "ipython3",
   "version": "3.7.9"
  }
 },
 "nbformat": 4,
 "nbformat_minor": 4
}
