{
 "cells": [
  {
   "cell_type": "code",
   "execution_count": 1,
   "metadata": {},
   "outputs": [],
   "source": [
    "import cobra,rba,lxml\n",
    "from lxml import etree\n",
    "import pandas as pd"
   ]
  },
  {
   "cell_type": "code",
   "execution_count": 2,
   "metadata": {},
   "outputs": [],
   "source": [
    "mModel = cobra.io.load_json_model('./input/model/y834_hvd_v3_rba.json')"
   ]
  },
  {
   "cell_type": "markdown",
   "metadata": {},
   "source": [
    "Compartment"
   ]
  },
  {
   "cell_type": "code",
   "execution_count": 3,
   "metadata": {},
   "outputs": [],
   "source": [
    "modelET = etree.Element('RBAMetabolism')\n",
    "\n",
    "elems = ['listOfCompartments', 'listOfSpecies', 'listOfReactions']\n",
    "for e in elems:\n",
    "    modelET.append(etree.Element(e))"
   ]
  },
  {
   "cell_type": "code",
   "execution_count": 4,
   "metadata": {},
   "outputs": [],
   "source": [
    "comps = sorted(mModel.compartments.keys())\n",
    "compET = modelET.find('listOfCompartments')\n",
    "for comp in comps:\n",
    "    compET.append(etree.Element('compartment', attrib={'id':'PART-' + comp}))"
   ]
  },
  {
   "cell_type": "markdown",
   "metadata": {},
   "source": [
    "Metabolites"
   ]
  },
  {
   "cell_type": "code",
   "execution_count": 5,
   "metadata": {},
   "outputs": [],
   "source": [
    "mets = sorted([met.id for met in mModel.metabolites])\n",
    "metET = modelET.find('listOfSpecies')\n",
    "for metid in mets:\n",
    "    met = mModel.metabolites.get_by_id(metid)\n",
    "    comp = met.compartment\n",
    "    bcond = 'true' if comp == 'e' else 'false'\n",
    "    att_dict = {'id':'MET-'+met.id, 'boundaryCondition':bcond}\n",
    "    metET.append(etree.Element('species', attrib=att_dict))"
   ]
  },
  {
   "cell_type": "markdown",
   "metadata": {},
   "source": [
    "Reactions"
   ]
  },
  {
   "cell_type": "code",
   "execution_count": 6,
   "metadata": {},
   "outputs": [],
   "source": [
    "df_rxns = pd.read_excel('./curation/enz_stoich_curation.xlsx')\n",
    "df_rxns.index = df_rxns.id.to_list()"
   ]
  },
  {
   "cell_type": "code",
   "execution_count": 7,
   "metadata": {},
   "outputs": [],
   "source": [
    "#rxns = sorted([rxn.id for rxn in mModel.reactions])\n",
    "rxnET = modelET.find('listOfReactions')"
   ]
  },
  {
   "cell_type": "code",
   "execution_count": 8,
   "metadata": {},
   "outputs": [],
   "source": [
    "for i in df_rxns.index:\n",
    "    rxnentry = df_rxns.id[i]\n",
    "    rxnid = df_rxns.rxn_src[i]\n",
    "    rxn = mModel.reactions.get_by_id(rxnid)\n",
    "    #rev = 'true' if rxn.reversibility else 'false'\n",
    "    rev = 'false'\n",
    "    att_dict = {'id':rxnentry, 'reversible':rev}\n",
    "    rxnE = etree.SubElement(rxnET, 'reaction', attrib=att_dict)\n",
    "    \n",
    "    src_reactants = sorted([met.id for met in rxn.reactants])\n",
    "    src_products = sorted([met.id for met in rxn.products])\n",
    "    side_mapper = {\n",
    "        'FWD': (src_reactants, src_products, 1),\n",
    "        'REV': (src_products, src_reactants, -1)\n",
    "    }\n",
    "    \n",
    "    x = rxnentry.split('-')[1]\n",
    "    x = x.split('_')[-1]\n",
    "    reactants,products,sign = side_mapper[x]\n",
    "    \n",
    "    rxnE_reactants = etree.SubElement(rxnE, 'listOfReactants')\n",
    "    for metid in reactants:\n",
    "        met = mModel.metabolites.get_by_id(metid)\n",
    "        coeff = sign*rxn.metabolites[met]\n",
    "        att_dict = {'species':'MET-'+met.id, 'stoichiometry':str(coeff)}\n",
    "        rxnE_reactants.append(etree.Element('speciesReference', attrib=att_dict))\n",
    "        \n",
    "    rxnE_products = etree.SubElement(rxnE, 'listOfProducts')\n",
    "    for metid in products:\n",
    "        met = mModel.metabolites.get_by_id(metid)\n",
    "        coeff = sign*rxn.metabolites[met]\n",
    "        att_dict = {'species':'MET-'+met.id, 'stoichiometry':str(coeff)}\n",
    "        rxnE_products.append(etree.Element('speciesReference', attrib=att_dict))"
   ]
  },
  {
   "cell_type": "code",
   "execution_count": 9,
   "metadata": {},
   "outputs": [],
   "source": [
    "with open('./rbaModel/metabolism.xml', 'wb') as f:\n",
    "    f.write(etree.tostring(modelET, pretty_print=True))"
   ]
  },
  {
   "cell_type": "code",
   "execution_count": null,
   "metadata": {},
   "outputs": [],
   "source": []
  }
 ],
 "metadata": {
  "kernelspec": {
   "display_name": "Python 3",
   "language": "python",
   "name": "python3"
  },
  "language_info": {
   "codemirror_mode": {
    "name": "ipython",
    "version": 3
   },
   "file_extension": ".py",
   "mimetype": "text/x-python",
   "name": "python",
   "nbconvert_exporter": "python",
   "pygments_lexer": "ipython3",
   "version": "3.7.9"
  }
 },
 "nbformat": 4,
 "nbformat_minor": 2
}
