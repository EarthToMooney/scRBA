{
 "cells": [
  {
   "cell_type": "code",
   "execution_count": 1,
   "metadata": {},
   "outputs": [],
   "source": [
    "import cobra\n",
    "import pandas as pd\n",
    "import io, re\n",
    "from bioservices.uniprot import UniProt\n",
    "import bioservices.xmltools\n",
    "\n",
    "import sys\n",
    "sys.path.append('/home/hvdinh16/Workspace/workpy3/common/')\n",
    "from custom_functions import *\n",
    "\n",
    "import lxml\n",
    "from lxml import etree\n",
    "from lxml.etree import ElementTree"
   ]
  },
  {
   "cell_type": "code",
   "execution_count": 2,
   "metadata": {},
   "outputs": [],
   "source": [
    "model = cobra.io.load_json_model('./input/model/y834_hvd_v4_rba.json')"
   ]
  },
  {
   "cell_type": "code",
   "execution_count": 3,
   "metadata": {},
   "outputs": [],
   "source": [
    "taxonId = '559292' # S. cerevisiae S288C"
   ]
  },
  {
   "cell_type": "code",
   "execution_count": 4,
   "metadata": {},
   "outputs": [],
   "source": [
    "idx = [g.id for g in model.genes if g not in ['UNKNOWN', 'SPONT', 'TRUE']]\n",
    "cols = ['id', 'name', 'sc_id', 'uniprot', 'uniprot_name', 'subunit', 'subloc', 'cofactor']\n",
    "df_info = pd.DataFrame(index=idx, columns=cols)\n",
    "df_info['id'] = idx\n",
    "\n",
    "df_info['sc_id'] = df_info['id']\n",
    "        \n",
    "uniprot = UniProt(verbose=True)\n",
    "for i in df_info.index:\n",
    "    subunit_list, subloc_list, cofactor_list = [], [], []\n",
    "    \n",
    "    if pd.isnull(df_info.sc_id[i]):\n",
    "        continue\n",
    "        \n",
    "    if ',' not in df_info.sc_id[i]:\n",
    "        sc_id = df_info.sc_id[i]\n",
    "    else:\n",
    "        sc_id = df_info.sc_id[i].split(',')[0]\n",
    "    qstr = 'gene:' + df_info.sc_id[i] + ' AND taxonomy:' + taxonId + ' AND reviewed:yes'\n",
    "    \n",
    "    # Extract info from uniprot via REST API\n",
    "    search = uniprot.search(qstr)\n",
    "    if search == '':\n",
    "        continue\n",
    "    df_search = pd.read_table(io.StringIO(search))\n",
    "    \n",
    "    for j in df_search.index:\n",
    "        aliases = df_search.loc[j, 'Gene names'].split(' ')\n",
    "        if df_info.sc_id[i] in aliases:\n",
    "            uniprot_id = df_search.Entry[j]\n",
    "    \n",
    "    retrieve = uniprot.retrieve(uniprot_id, frmt='xml')\n",
    "    \n",
    "    lxmlET = etree.fromstring(retrieve.data.encode())\n",
    "    for elem in lxmlET.getiterator():\n",
    "        elem.tag = etree.QName(elem.tag).localname\n",
    "    etree.cleanup_namespaces(lxmlET)\n",
    "    uniprot_entry = lxmlET.find('entry')\n",
    "    \n",
    "    for elem in uniprot_entry.iter(tag='comment'):\n",
    "        # Extract cofactor info\n",
    "        if elem.attrib['type'] == 'cofactor':\n",
    "            for cofactor_entry in elem.getchildren():\n",
    "                \n",
    "                if cofactor_entry.tag == 'cofactor':\n",
    "                    name = cofactor_entry.find('name')\n",
    "                    if name != None:\n",
    "                        name = name.text\n",
    "\n",
    "                    dbref = cofactor_entry.find('dbReference')\n",
    "                    if dbref != None:\n",
    "                        dbref = dbref.attrib['id']\n",
    "\n",
    "                    cofactor_list.append(str(name) + '/' + str(dbref))\n",
    "                    \n",
    "                elif cofactor_entry.tag == 'text':\n",
    "                    cofactor_list.append(cofactor_entry.text)\n",
    "\n",
    "        # Extract subcellular location\n",
    "        elif elem.attrib['type'] == 'subcellular location':\n",
    "            for subloc_entry in elem.getchildren():\n",
    "                loc = subloc_entry.find('location')\n",
    "                if loc != None:\n",
    "                    subloc_list.append(loc.text)\n",
    "\n",
    "                mol = subloc_entry.find('molecule')\n",
    "                if mol != None:\n",
    "                    subloc_list.append(mol)\n",
    "                    \n",
    "                t = subloc_entry.find('text')\n",
    "                if t != None:\n",
    "                    subloc_list.append(t.text)\n",
    "\n",
    "        # Extract subunit information\n",
    "        elif elem.attrib['type'] == 'subunit':\n",
    "            for subunit_entry in elem.getchildren():\n",
    "                su = subunit_entry.text\n",
    "                if su != None:\n",
    "                    subunit_list.append(su)\n",
    "                \n",
    "    # Record\n",
    "    df_info.loc[i, 'uniprot'] = uniprot_id\n",
    "    df_info.loc[i, 'uniprot_name'] = uniprot_entry.find('name').text\n",
    "    df_info.loc[i, 'subunit'] = ' | '.join(subunit_list)\n",
    "    df_info.loc[i, 'subloc'] = ' | '.join(subloc_list)\n",
    "    df_info.loc[i, 'cofactor'] = ' | '.join(cofactor_list)"
   ]
  },
  {
   "cell_type": "code",
   "execution_count": 5,
   "metadata": {},
   "outputs": [],
   "source": [
    "# Add name\n",
    "for g in model.genes:\n",
    "    if g.id in df_info.index:\n",
    "        df_info.loc[g.id, 'name'] = g.name"
   ]
  },
  {
   "cell_type": "code",
   "execution_count": 6,
   "metadata": {
    "scrolled": true
   },
   "outputs": [],
   "source": [
    "# Complement sublocalization by reaction compartment assignment\n",
    "for i in df_info.index:\n",
    "    if pd.isnull(df_info.subloc[i]) or df_info.subloc[i] == '':\n",
    "        g = model.genes.get_by_id(i)\n",
    "\n",
    "        comps = []\n",
    "        for rxn in g.reactions:\n",
    "            comps.append(rxn.id.split('_')[-1])\n",
    "        comps = set(comps)\n",
    "        \n",
    "        if comps == {'c'}:\n",
    "            df_info.loc[i, 'subloc'] = 'Cytoplasm'\n",
    "            df_info.loc[i, 'notes'] = 'subloc_addedByRxnComp'\n",
    "        #print(i, comps)"
   ]
  },
  {
   "cell_type": "code",
   "execution_count": 9,
   "metadata": {},
   "outputs": [],
   "source": [
    "df_info.to_excel('./enz_info_uniprot.xlsx', sheet_name='uniprot_extract', index=False)"
   ]
  },
  {
   "cell_type": "markdown",
   "metadata": {},
   "source": [
    "Single entry search and check"
   ]
  },
  {
   "cell_type": "code",
   "execution_count": 23,
   "metadata": {},
   "outputs": [],
   "source": [
    "i = 'YAL038W'\n",
    "qstr = 'gene:' + df_info.sc_id[i] + ' AND taxonomy:' + taxonId + ' AND reviewed:yes'\n",
    "\n",
    "# Extract info from uniprot via REST API\n",
    "search = uniprot.search(qstr)\n",
    "if search != '':\n",
    "    df_search = pd.read_table(io.StringIO(search))"
   ]
  },
  {
   "cell_type": "code",
   "execution_count": 49,
   "metadata": {},
   "outputs": [],
   "source": [
    "uniprot_id = 'P27616'\n",
    "retrieve = uniprot.retrieve(uniprot_id, frmt='xml')\n",
    "\n",
    "lxmlET = etree.fromstring(retrieve.data.encode())\n",
    "for elem in lxmlET.getiterator():\n",
    "    elem.tag = etree.QName(elem.tag).localname\n",
    "etree.cleanup_namespaces(lxmlET)\n",
    "uniprot_entry = lxmlET.find('entry')"
   ]
  },
  {
   "cell_type": "code",
   "execution_count": 50,
   "metadata": {},
   "outputs": [
    {
     "name": "stdout",
     "output_type": "stream",
     "text": [
      "catalytic activity\n",
      "pathway\n",
      "subunit\n",
      "interaction\n",
      "miscellaneous\n",
      "similarity\n"
     ]
    }
   ],
   "source": [
    "for elem in uniprot_entry.iter(tag='comment'):\n",
    "    # Extract cofactor info\n",
    "    print(elem.attrib['type'])"
   ]
  },
  {
   "cell_type": "code",
   "execution_count": 64,
   "metadata": {},
   "outputs": [
    {
     "data": {
      "text/html": [
       "\n",
       "        <table>\n",
       "            <tr>\n",
       "                <td><strong>Reaction identifier</strong></td><td>4ABUTtps_e</td>\n",
       "            </tr><tr>\n",
       "                <td><strong>Name</strong></td><td>4-aminobutyrate transport</td>\n",
       "            </tr><tr>\n",
       "                <td><strong>Memory address</strong></td>\n",
       "                <td>0x07f8878be4c90</td>\n",
       "            </tr><tr>\n",
       "                <td><strong>Stoichiometry</strong></td>\n",
       "                <td>\n",
       "                    <p style='text-align:right'>4abut_e + h_e --> 4abut_c + h_c</p>\n",
       "                    <p style='text-align:right'>gamma-aminobutyrate [extracellular] + H+ [extracellular] --> gamma-aminobutyrate [cytoplasm] + H+ [cytoplasm]</p>\n",
       "                </td>\n",
       "            </tr><tr>\n",
       "                <td><strong>GPR</strong></td><td>YDL210W or YOR348C</td>\n",
       "            </tr><tr>\n",
       "                <td><strong>Lower bound</strong></td><td>0.0</td>\n",
       "            </tr><tr>\n",
       "                <td><strong>Upper bound</strong></td><td>1000.0</td>\n",
       "            </tr>\n",
       "        </table>\n",
       "        "
      ],
      "text/plain": [
       "<Reaction 4ABUTtps_e at 0x7f8878be4c90>"
      ]
     },
     "execution_count": 64,
     "metadata": {},
     "output_type": "execute_result"
    }
   ],
   "source": [
    "model.reactions.get_by_id('4ABUTtps_e')"
   ]
  },
  {
   "cell_type": "code",
   "execution_count": 66,
   "metadata": {},
   "outputs": [
    {
     "data": {
      "text/html": [
       "\n",
       "        <table>\n",
       "            <tr>\n",
       "                <td><strong>Gene identifier</strong></td><td>YBR018C</td>\n",
       "            </tr><tr>\n",
       "                <td><strong>Name</strong></td><td>GAL7</td>\n",
       "            </tr><tr>\n",
       "                <td><strong>Memory address</strong></td>\n",
       "                <td>0x07f88793495d0</td>\n",
       "            </tr><tr>\n",
       "                <td><strong>Functional</strong></td><td>True</td>\n",
       "            </tr><tr>\n",
       "                <td><strong>In 2 reaction(s)</strong></td><td>\n",
       "                    GALT_c, UGLT_c</td>\n",
       "            </tr>\n",
       "        </table>"
      ],
      "text/plain": [
       "<Gene YBR018C at 0x7f88793495d0>"
      ]
     },
     "execution_count": 66,
     "metadata": {},
     "output_type": "execute_result"
    }
   ],
   "source": [
    "model.genes.YBR018C"
   ]
  },
  {
   "cell_type": "code",
   "execution_count": 62,
   "metadata": {},
   "outputs": [
    {
     "name": "stdout",
     "output_type": "stream",
     "text": [
      "CTPS1_c\n"
     ]
    }
   ],
   "source": [
    "for rxn in model.reactions:\n",
    "    if 'synthase (NH3)' in rxn.name:\n",
    "        print(rxn.id)"
   ]
  },
  {
   "cell_type": "code",
   "execution_count": 61,
   "metadata": {},
   "outputs": [
    {
     "data": {
      "text/html": [
       "\n",
       "        <table>\n",
       "            <tr>\n",
       "                <td><strong>Reaction identifier</strong></td><td>CTPS1_c</td>\n",
       "            </tr><tr>\n",
       "                <td><strong>Name</strong></td><td>CTP synthase (NH3)</td>\n",
       "            </tr><tr>\n",
       "                <td><strong>Memory address</strong></td>\n",
       "                <td>0x07f887905ae90</td>\n",
       "            </tr><tr>\n",
       "                <td><strong>Stoichiometry</strong></td>\n",
       "                <td>\n",
       "                    <p style='text-align:right'>atp_c + nh4_c + utp_c --> adp_c + ctp_c + 2.0 h_c + pi_c</p>\n",
       "                    <p style='text-align:right'>ATP [cytoplasm] + ammonium [cytoplasm] + UTP [cytoplasm] --> ADP [cytoplasm] + CTP [cytoplasm] + 2.0 H+ [cytoplasm] + phosphate [cytoplasm]</p>\n",
       "                </td>\n",
       "            </tr><tr>\n",
       "                <td><strong>GPR</strong></td><td>YBL039C or YJR103W</td>\n",
       "            </tr><tr>\n",
       "                <td><strong>Lower bound</strong></td><td>0.0</td>\n",
       "            </tr><tr>\n",
       "                <td><strong>Upper bound</strong></td><td>1000.0</td>\n",
       "            </tr>\n",
       "        </table>\n",
       "        "
      ],
      "text/plain": [
       "<Reaction CTPS1_c at 0x7f887905ae90>"
      ]
     },
     "execution_count": 61,
     "metadata": {},
     "output_type": "execute_result"
    }
   ],
   "source": [
    "model.reactions.CTPS1_c"
   ]
  },
  {
   "cell_type": "code",
   "execution_count": 60,
   "metadata": {},
   "outputs": [
    {
     "data": {
      "text/html": [
       "\n",
       "        <table>\n",
       "            <tr>\n",
       "                <td><strong>Reaction identifier</strong></td><td>CTPS2_c</td>\n",
       "            </tr><tr>\n",
       "                <td><strong>Name</strong></td><td>CTP synthase (glutamine)</td>\n",
       "            </tr><tr>\n",
       "                <td><strong>Memory address</strong></td>\n",
       "                <td>0x07f887905a650</td>\n",
       "            </tr><tr>\n",
       "                <td><strong>Stoichiometry</strong></td>\n",
       "                <td>\n",
       "                    <p style='text-align:right'>atp_c + gln__L_c + h2o_c + utp_c --> adp_c + ctp_c + glu__L_c + 2.0 h_c + pi_c</p>\n",
       "                    <p style='text-align:right'>ATP [cytoplasm] + L-glutamine [cytoplasm] + H2O [cytoplasm] + UTP [cytoplasm] --> ADP [cytoplasm] + CTP [cytoplasm] + L-glutamate [cytoplasm] + 2.0 H+ [cytoplasm] + phosphate [cytoplasm]</p>\n",
       "                </td>\n",
       "            </tr><tr>\n",
       "                <td><strong>GPR</strong></td><td>YBL039C or YJR103W</td>\n",
       "            </tr><tr>\n",
       "                <td><strong>Lower bound</strong></td><td>0.0</td>\n",
       "            </tr><tr>\n",
       "                <td><strong>Upper bound</strong></td><td>1000.0</td>\n",
       "            </tr>\n",
       "        </table>\n",
       "        "
      ],
      "text/plain": [
       "<Reaction CTPS2_c at 0x7f887905a650>"
      ]
     },
     "execution_count": 60,
     "metadata": {},
     "output_type": "execute_result"
    }
   ],
   "source": [
    "model.reactions.CTPS2_c"
   ]
  },
  {
   "cell_type": "code",
   "execution_count": 51,
   "metadata": {},
   "outputs": [
    {
     "data": {
      "text/plain": [
       "{'type': 'similarity'}"
      ]
     },
     "execution_count": 51,
     "metadata": {},
     "output_type": "execute_result"
    }
   ],
   "source": [
    "elem.attrib"
   ]
  },
  {
   "cell_type": "code",
   "execution_count": 31,
   "metadata": {},
   "outputs": [
    {
     "data": {
      "text/plain": [
       "[<Element accession at 0x7f8877885a00>,\n",
       " <Element accession at 0x7f8877885aa0>,\n",
       " <Element accession at 0x7f8877885af0>,\n",
       " <Element name at 0x7f8877885b40>,\n",
       " <Element protein at 0x7f8877885b90>,\n",
       " <Element gene at 0x7f8877885be0>,\n",
       " <Element organism at 0x7f8877885c30>,\n",
       " <Element reference at 0x7f8877885c80>,\n",
       " <Element reference at 0x7f8877885cd0>,\n",
       " <Element reference at 0x7f8877885d20>,\n",
       " <Element reference at 0x7f8877885d70>,\n",
       " <Element reference at 0x7f8877885dc0>,\n",
       " <Element reference at 0x7f8877885e10>,\n",
       " <Element reference at 0x7f8877885e60>,\n",
       " <Element reference at 0x7f8877885eb0>,\n",
       " <Element reference at 0x7f8877885f00>,\n",
       " <Element reference at 0x7f8877885f50>,\n",
       " <Element reference at 0x7f8877885fa0>,\n",
       " <Element reference at 0x7f88778c1050>,\n",
       " <Element reference at 0x7f88778c10a0>,\n",
       " <Element reference at 0x7f88778c10f0>,\n",
       " <Element reference at 0x7f88778c1140>,\n",
       " <Element comment at 0x7f88778c1190>,\n",
       " <Element comment at 0x7f88778c11e0>,\n",
       " <Element comment at 0x7f88778c1230>,\n",
       " <Element comment at 0x7f88778c1280>,\n",
       " <Element comment at 0x7f88778c12d0>,\n",
       " <Element comment at 0x7f88778c1320>,\n",
       " <Element comment at 0x7f88778c1370>,\n",
       " <Element comment at 0x7f88778c13c0>,\n",
       " <Element comment at 0x7f88778c1410>,\n",
       " <Element dbReference at 0x7f88778c1460>,\n",
       " <Element dbReference at 0x7f88778c14b0>,\n",
       " <Element dbReference at 0x7f88778c1500>,\n",
       " <Element dbReference at 0x7f88778c1550>,\n",
       " <Element dbReference at 0x7f88778c15a0>,\n",
       " <Element dbReference at 0x7f88778c15f0>,\n",
       " <Element dbReference at 0x7f88778c1640>,\n",
       " <Element dbReference at 0x7f88778c1690>,\n",
       " <Element dbReference at 0x7f88778c16e0>,\n",
       " <Element dbReference at 0x7f88778c1730>,\n",
       " <Element dbReference at 0x7f88778c1780>,\n",
       " <Element dbReference at 0x7f88778c17d0>,\n",
       " <Element dbReference at 0x7f88778c1820>,\n",
       " <Element dbReference at 0x7f88778c1870>,\n",
       " <Element dbReference at 0x7f88778c18c0>,\n",
       " <Element dbReference at 0x7f88778c1910>,\n",
       " <Element dbReference at 0x7f88778c1960>,\n",
       " <Element dbReference at 0x7f88778c19b0>,\n",
       " <Element dbReference at 0x7f88778c1a00>,\n",
       " <Element dbReference at 0x7f88778c1a50>,\n",
       " <Element dbReference at 0x7f88778c1aa0>,\n",
       " <Element dbReference at 0x7f88778c1af0>,\n",
       " <Element dbReference at 0x7f88778c1b40>,\n",
       " <Element dbReference at 0x7f88778c1b90>,\n",
       " <Element dbReference at 0x7f88778c1be0>,\n",
       " <Element dbReference at 0x7f88778c1c30>,\n",
       " <Element dbReference at 0x7f88778c1c80>,\n",
       " <Element dbReference at 0x7f88778c1cd0>,\n",
       " <Element dbReference at 0x7f88778c1d20>,\n",
       " <Element dbReference at 0x7f88778c1d70>,\n",
       " <Element dbReference at 0x7f88778c1dc0>,\n",
       " <Element dbReference at 0x7f88778c1e10>,\n",
       " <Element dbReference at 0x7f88778c1e60>,\n",
       " <Element dbReference at 0x7f88778c1eb0>,\n",
       " <Element dbReference at 0x7f88778c1f00>,\n",
       " <Element dbReference at 0x7f88778c1f50>,\n",
       " <Element dbReference at 0x7f88778c1fa0>,\n",
       " <Element dbReference at 0x7f88778bd050>,\n",
       " <Element dbReference at 0x7f88778bd0a0>,\n",
       " <Element dbReference at 0x7f88778bd0f0>,\n",
       " <Element dbReference at 0x7f88778bd140>,\n",
       " <Element dbReference at 0x7f88778bd190>,\n",
       " <Element dbReference at 0x7f88778bd1e0>,\n",
       " <Element dbReference at 0x7f88778bd230>,\n",
       " <Element dbReference at 0x7f88778bd280>,\n",
       " <Element dbReference at 0x7f88778bd2d0>,\n",
       " <Element dbReference at 0x7f88778bd320>,\n",
       " <Element dbReference at 0x7f88778bd370>,\n",
       " <Element dbReference at 0x7f88778bd3c0>,\n",
       " <Element dbReference at 0x7f88778bd410>,\n",
       " <Element dbReference at 0x7f88778bd460>,\n",
       " <Element dbReference at 0x7f88778bd4b0>,\n",
       " <Element dbReference at 0x7f88778bd500>,\n",
       " <Element dbReference at 0x7f88778bd550>,\n",
       " <Element dbReference at 0x7f88778bd5a0>,\n",
       " <Element dbReference at 0x7f88778bd5f0>,\n",
       " <Element dbReference at 0x7f88778bd640>,\n",
       " <Element dbReference at 0x7f88778bd690>,\n",
       " <Element dbReference at 0x7f88778bd6e0>,\n",
       " <Element dbReference at 0x7f88778bd730>,\n",
       " <Element dbReference at 0x7f88778bd780>,\n",
       " <Element dbReference at 0x7f88778bd7d0>,\n",
       " <Element dbReference at 0x7f88778bd820>,\n",
       " <Element dbReference at 0x7f88778bd870>,\n",
       " <Element dbReference at 0x7f88778bd8c0>,\n",
       " <Element dbReference at 0x7f88778bd910>,\n",
       " <Element dbReference at 0x7f88778bd960>,\n",
       " <Element dbReference at 0x7f88778bd9b0>,\n",
       " <Element dbReference at 0x7f88778bda00>,\n",
       " <Element dbReference at 0x7f88778bda50>,\n",
       " <Element dbReference at 0x7f88778bdaa0>,\n",
       " <Element dbReference at 0x7f88778bdaf0>,\n",
       " <Element dbReference at 0x7f88778bdb40>,\n",
       " <Element dbReference at 0x7f88778bdb90>,\n",
       " <Element dbReference at 0x7f88778bdbe0>,\n",
       " <Element dbReference at 0x7f88778bdc30>,\n",
       " <Element dbReference at 0x7f88778bdc80>,\n",
       " <Element dbReference at 0x7f88778bdcd0>,\n",
       " <Element dbReference at 0x7f88778bdd20>,\n",
       " <Element dbReference at 0x7f88778bdd70>,\n",
       " <Element dbReference at 0x7f88778bddc0>,\n",
       " <Element dbReference at 0x7f88778bde10>,\n",
       " <Element dbReference at 0x7f88778bde60>,\n",
       " <Element dbReference at 0x7f88778bdeb0>,\n",
       " <Element dbReference at 0x7f88778bdf00>,\n",
       " <Element dbReference at 0x7f88778bdf50>,\n",
       " <Element dbReference at 0x7f88778bdfa0>,\n",
       " <Element dbReference at 0x7f8877891050>,\n",
       " <Element dbReference at 0x7f88778910a0>,\n",
       " <Element dbReference at 0x7f88778910f0>,\n",
       " <Element dbReference at 0x7f8877891140>,\n",
       " <Element dbReference at 0x7f8877891190>,\n",
       " <Element dbReference at 0x7f88778911e0>,\n",
       " <Element dbReference at 0x7f8877891230>,\n",
       " <Element dbReference at 0x7f8877891280>,\n",
       " <Element dbReference at 0x7f88778912d0>,\n",
       " <Element dbReference at 0x7f8877891320>,\n",
       " <Element dbReference at 0x7f8877891370>,\n",
       " <Element dbReference at 0x7f88778913c0>,\n",
       " <Element dbReference at 0x7f8877891410>,\n",
       " <Element dbReference at 0x7f8877891460>,\n",
       " <Element dbReference at 0x7f88778914b0>,\n",
       " <Element dbReference at 0x7f8877891500>,\n",
       " <Element dbReference at 0x7f8877891550>,\n",
       " <Element dbReference at 0x7f88778915a0>,\n",
       " <Element proteinExistence at 0x7f88778915f0>,\n",
       " <Element keyword at 0x7f8877891640>,\n",
       " <Element keyword at 0x7f8877891690>,\n",
       " <Element keyword at 0x7f88778916e0>,\n",
       " <Element keyword at 0x7f8877891730>,\n",
       " <Element keyword at 0x7f8877891780>,\n",
       " <Element keyword at 0x7f88778917d0>,\n",
       " <Element keyword at 0x7f8877891820>,\n",
       " <Element keyword at 0x7f8877891870>,\n",
       " <Element keyword at 0x7f88778918c0>,\n",
       " <Element keyword at 0x7f8877710320>,\n",
       " <Element keyword at 0x7f8877885820>,\n",
       " <Element keyword at 0x7f88778857d0>,\n",
       " <Element keyword at 0x7f8877885780>,\n",
       " <Element keyword at 0x7f8877885730>,\n",
       " <Element keyword at 0x7f8877885320>,\n",
       " <Element keyword at 0x7f8877885460>,\n",
       " <Element keyword at 0x7f88778854b0>,\n",
       " <Element feature at 0x7f8877885410>,\n",
       " <Element feature at 0x7f8877885370>,\n",
       " <Element feature at 0x7f8877885280>,\n",
       " <Element feature at 0x7f8877885050>,\n",
       " <Element feature at 0x7f8877a72730>,\n",
       " <Element feature at 0x7f887788c410>,\n",
       " <Element feature at 0x7f887788c820>,\n",
       " <Element feature at 0x7f887788c780>,\n",
       " <Element feature at 0x7f887788ca50>,\n",
       " <Element feature at 0x7f887788c320>,\n",
       " <Element feature at 0x7f887788c7d0>,\n",
       " <Element feature at 0x7f887788cbe0>,\n",
       " <Element feature at 0x7f887788c190>,\n",
       " <Element feature at 0x7f887788c9b0>,\n",
       " <Element feature at 0x7f887788ceb0>,\n",
       " <Element feature at 0x7f887788cc80>,\n",
       " <Element feature at 0x7f887788cfa0>,\n",
       " <Element feature at 0x7f887788cf50>,\n",
       " <Element feature at 0x7f887788ca00>,\n",
       " <Element feature at 0x7f887788c6e0>,\n",
       " <Element feature at 0x7f887788c640>,\n",
       " <Element feature at 0x7f887788c690>,\n",
       " <Element feature at 0x7f887788c5f0>,\n",
       " <Element feature at 0x7f887788c550>,\n",
       " <Element feature at 0x7f887788caa0>,\n",
       " <Element feature at 0x7f887788caf0>,\n",
       " <Element feature at 0x7f887788c0a0>,\n",
       " <Element feature at 0x7f887788c050>,\n",
       " <Element feature at 0x7f8877f21460>,\n",
       " <Element feature at 0x7f8878d2eb40>,\n",
       " <Element feature at 0x7f8877893a00>,\n",
       " <Element feature at 0x7f8877893640>,\n",
       " <Element feature at 0x7f8877893370>,\n",
       " <Element feature at 0x7f8877893be0>,\n",
       " <Element feature at 0x7f8877893cd0>,\n",
       " <Element feature at 0x7f8877893f00>,\n",
       " <Element feature at 0x7f8877893d20>,\n",
       " <Element feature at 0x7f8877893410>,\n",
       " <Element feature at 0x7f88778937d0>,\n",
       " <Element feature at 0x7f8877893aa0>,\n",
       " <Element feature at 0x7f8877893550>,\n",
       " <Element feature at 0x7f8877893fa0>,\n",
       " <Element feature at 0x7f8877893f50>,\n",
       " <Element feature at 0x7f8877893690>,\n",
       " <Element feature at 0x7f8877893910>,\n",
       " <Element feature at 0x7f88778938c0>,\n",
       " <Element feature at 0x7f8877893780>,\n",
       " <Element feature at 0x7f88778936e0>,\n",
       " <Element feature at 0x7f8877893320>,\n",
       " <Element feature at 0x7f88778931e0>,\n",
       " <Element feature at 0x7f8877893190>,\n",
       " <Element feature at 0x7f8877893140>,\n",
       " <Element feature at 0x7f88778930f0>,\n",
       " <Element feature at 0x7f88778930a0>,\n",
       " <Element feature at 0x7f8878090fa0>,\n",
       " <Element feature at 0x7f8877502c80>,\n",
       " <Element feature at 0x7f8877d11c30>,\n",
       " <Element feature at 0x7f887789f5f0>,\n",
       " <Element feature at 0x7f887909c320>,\n",
       " <Element feature at 0x7f8877c206e0>,\n",
       " <Element feature at 0x7f887771e460>,\n",
       " <Element feature at 0x7f8878dc0af0>,\n",
       " <Element feature at 0x7f88778ac320>,\n",
       " <Element feature at 0x7f88778ac5a0>,\n",
       " <Element feature at 0x7f88778aca50>,\n",
       " <Element feature at 0x7f88778ac9b0>,\n",
       " <Element feature at 0x7f88778accd0>,\n",
       " <Element feature at 0x7f88778ace60>,\n",
       " <Element feature at 0x7f88778ac550>,\n",
       " <Element feature at 0x7f88778ac5f0>,\n",
       " <Element feature at 0x7f88778ac960>,\n",
       " <Element feature at 0x7f88778acaa0>,\n",
       " <Element feature at 0x7f88778ace10>,\n",
       " <Element feature at 0x7f88778ac410>,\n",
       " <Element feature at 0x7f88778acc80>,\n",
       " <Element feature at 0x7f88778acc30>,\n",
       " <Element feature at 0x7f88778acb90>,\n",
       " <Element feature at 0x7f88778acbe0>,\n",
       " <Element feature at 0x7f88778acb40>,\n",
       " <Element feature at 0x7f88778acdc0>,\n",
       " <Element feature at 0x7f88778acd20>,\n",
       " <Element feature at 0x7f88778acd70>,\n",
       " <Element feature at 0x7f88778ac910>,\n",
       " <Element feature at 0x7f88778ac870>,\n",
       " <Element feature at 0x7f88778ac820>,\n",
       " <Element evidence at 0x7f88778ac780>,\n",
       " <Element evidence at 0x7f88778ac7d0>,\n",
       " <Element evidence at 0x7f88778ac190>,\n",
       " <Element evidence at 0x7f88778ac2d0>,\n",
       " <Element evidence at 0x7f88778ac460>,\n",
       " <Element evidence at 0x7f88778ac3c0>,\n",
       " <Element evidence at 0x7f88778ac370>,\n",
       " <Element evidence at 0x7f8877694780>,\n",
       " <Element evidence at 0x7f88781bde60>,\n",
       " <Element evidence at 0x7f88781bd2d0>,\n",
       " <Element evidence at 0x7f88781bdb90>,\n",
       " <Element evidence at 0x7f8878de8e60>,\n",
       " <Element evidence at 0x7f8877876640>,\n",
       " <Element sequence at 0x7f8879271b40>]"
      ]
     },
     "execution_count": 31,
     "metadata": {},
     "output_type": "execute_result"
    }
   ],
   "source": [
    "uniprot_entry.getchildren()"
   ]
  },
  {
   "cell_type": "code",
   "execution_count": 25,
   "metadata": {},
   "outputs": [
    {
     "data": {
      "text/plain": [
       "\"Entry\\tEntry name\\tStatus\\tProtein names\\tGene names\\tOrganism\\tLength\\nP00549\\tKPYK1_YEAST\\treviewed\\tPyruvate kinase 1 (PK 1) (EC 2.7.1.40) (cell division cycle protein 19)\\tCDC19 PYK1 YAL038W\\tSaccharomyces cerevisiae (strain ATCC 204508 / S288c) (Baker's yeast)\\t500\\n\""
      ]
     },
     "execution_count": 25,
     "metadata": {},
     "output_type": "execute_result"
    }
   ],
   "source": [
    "search"
   ]
  },
  {
   "cell_type": "code",
   "execution_count": 24,
   "metadata": {},
   "outputs": [
    {
     "data": {
      "text/html": [
       "<div>\n",
       "<style scoped>\n",
       "    .dataframe tbody tr th:only-of-type {\n",
       "        vertical-align: middle;\n",
       "    }\n",
       "\n",
       "    .dataframe tbody tr th {\n",
       "        vertical-align: top;\n",
       "    }\n",
       "\n",
       "    .dataframe thead th {\n",
       "        text-align: right;\n",
       "    }\n",
       "</style>\n",
       "<table border=\"1\" class=\"dataframe\">\n",
       "  <thead>\n",
       "    <tr style=\"text-align: right;\">\n",
       "      <th></th>\n",
       "      <th>Entry</th>\n",
       "      <th>Entry name</th>\n",
       "      <th>Status</th>\n",
       "      <th>Protein names</th>\n",
       "      <th>Gene names</th>\n",
       "      <th>Organism</th>\n",
       "      <th>Length</th>\n",
       "    </tr>\n",
       "  </thead>\n",
       "  <tbody>\n",
       "    <tr>\n",
       "      <th>0</th>\n",
       "      <td>P00549</td>\n",
       "      <td>KPYK1_YEAST</td>\n",
       "      <td>reviewed</td>\n",
       "      <td>Pyruvate kinase 1 (PK 1) (EC 2.7.1.40) (cell d...</td>\n",
       "      <td>CDC19 PYK1 YAL038W</td>\n",
       "      <td>Saccharomyces cerevisiae (strain ATCC 204508 /...</td>\n",
       "      <td>500</td>\n",
       "    </tr>\n",
       "  </tbody>\n",
       "</table>\n",
       "</div>"
      ],
      "text/plain": [
       "    Entry   Entry name    Status  \\\n",
       "0  P00549  KPYK1_YEAST  reviewed   \n",
       "\n",
       "                                       Protein names          Gene names  \\\n",
       "0  Pyruvate kinase 1 (PK 1) (EC 2.7.1.40) (cell d...  CDC19 PYK1 YAL038W   \n",
       "\n",
       "                                            Organism  Length  \n",
       "0  Saccharomyces cerevisiae (strain ATCC 204508 /...     500  "
      ]
     },
     "execution_count": 24,
     "metadata": {},
     "output_type": "execute_result"
    }
   ],
   "source": [
    "df_search"
   ]
  },
  {
   "cell_type": "code",
   "execution_count": 4,
   "metadata": {
    "scrolled": true
   },
   "outputs": [
    {
     "data": {
      "text/plain": [
       "['Cytoplasm', 'Mitochondrion intermembrane space', None]"
      ]
     },
     "execution_count": 4,
     "metadata": {},
     "output_type": "execute_result"
    }
   ],
   "source": [
    "subloc_list"
   ]
  },
  {
   "cell_type": "code",
   "execution_count": 7,
   "metadata": {},
   "outputs": [
    {
     "data": {
      "text/plain": [
       "'rt7128'"
      ]
     },
     "execution_count": 7,
     "metadata": {},
     "output_type": "execute_result"
    }
   ],
   "source": [
    "i"
   ]
  },
  {
   "cell_type": "code",
   "execution_count": 8,
   "metadata": {},
   "outputs": [
    {
     "data": {
      "text/plain": [
       "'rtmCOX1'"
      ]
     },
     "execution_count": 8,
     "metadata": {},
     "output_type": "execute_result"
    }
   ],
   "source": [
    "gid"
   ]
  },
  {
   "cell_type": "code",
   "execution_count": 9,
   "metadata": {},
   "outputs": [
    {
     "data": {
      "text/plain": [
       "id                  rt7128\n",
       "name                  ADK1\n",
       "sc_id              YDR226W\n",
       "uniprot             P07170\n",
       "uniprot_name    KAD2_YEAST\n",
       "subunit           Monomer.\n",
       "subloc                 NaN\n",
       "cofactor               NaN\n",
       "Name: rt7128, dtype: object"
      ]
     },
     "execution_count": 9,
     "metadata": {},
     "output_type": "execute_result"
    }
   ],
   "source": [
    "df_info.loc[i]"
   ]
  },
  {
   "cell_type": "code",
   "execution_count": 13,
   "metadata": {},
   "outputs": [
    {
     "name": "stdout",
     "output_type": "stream",
     "text": [
      "{'type': 'function'}\n",
      "{'type': 'catalytic activity'}\n",
      "{'type': 'subunit'}\n",
      "{'type': 'subcellular location'}\n",
      "{'type': 'domain'}\n",
      "{'type': 'disruption phenotype'}\n",
      "{'type': 'miscellaneous'}\n",
      "{'type': 'similarity'}\n"
     ]
    }
   ],
   "source": [
    "for i in uniprot_entry.findall('comment'):\n",
    "    print(i.attrib)"
   ]
  },
  {
   "cell_type": "code",
   "execution_count": 16,
   "metadata": {},
   "outputs": [],
   "source": [
    "x = uniprot_entry.findall('comment')[2]"
   ]
  },
  {
   "cell_type": "code",
   "execution_count": 21,
   "metadata": {},
   "outputs": [],
   "source": [
    "y = x.getchildren()[0]"
   ]
  },
  {
   "cell_type": "code",
   "execution_count": 23,
   "metadata": {},
   "outputs": [
    {
     "data": {
      "text/plain": [
       "'Monomer.'"
      ]
     },
     "execution_count": 23,
     "metadata": {},
     "output_type": "execute_result"
    }
   ],
   "source": [
    "y.text"
   ]
  },
  {
   "cell_type": "code",
   "execution_count": null,
   "metadata": {},
   "outputs": [],
   "source": []
  }
 ],
 "metadata": {
  "kernelspec": {
   "display_name": "Python 3",
   "language": "python",
   "name": "python3"
  },
  "language_info": {
   "codemirror_mode": {
    "name": "ipython",
    "version": 3
   },
   "file_extension": ".py",
   "mimetype": "text/x-python",
   "name": "python",
   "nbconvert_exporter": "python",
   "pygments_lexer": "ipython3",
   "version": "3.7.9"
  }
 },
 "nbformat": 4,
 "nbformat_minor": 2
}
