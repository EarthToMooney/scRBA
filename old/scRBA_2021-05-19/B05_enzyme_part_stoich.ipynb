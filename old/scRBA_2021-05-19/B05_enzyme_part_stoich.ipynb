{
 "cells": [
  {
   "cell_type": "code",
   "execution_count": 1,
   "metadata": {},
   "outputs": [],
   "source": [
    "import cobra\n",
    "import pandas as pd\n",
    "import numpy as np\n",
    "\n",
    "import sys\n",
    "sys.path.append('/home/hvdinh16/Workspace/workpy3/common/')\n",
    "from custom_functions import *"
   ]
  },
  {
   "cell_type": "code",
   "execution_count": 2,
   "metadata": {},
   "outputs": [],
   "source": [
    "model = cobra.io.load_json_model('./input/model/y834_hvd_v3_rba.json')"
   ]
  },
  {
   "cell_type": "markdown",
   "metadata": {},
   "source": [
    "#### Assign subunit stoichiometry of isozyme to an empty assignment"
   ]
  },
  {
   "cell_type": "markdown",
   "metadata": {},
   "source": [
    "Assume isozymes having the same subunit stoichiometry"
   ]
  },
  {
   "cell_type": "code",
   "execution_count": 3,
   "metadata": {
    "scrolled": true
   },
   "outputs": [
    {
     "name": "stdout",
     "output_type": "stream",
     "text": [
      "ALCD22yi_c there might be discrepancy in subunit assignment for isozyme, check\n",
      "NADK_m there might be discrepancy in subunit assignment for isozyme, check\n",
      "NADN_n there might be discrepancy in subunit assignment for isozyme, check\n",
      "NADHK1_m there might be discrepancy in subunit assignment for isozyme, check\n",
      "SPMDtpa_e there might be discrepancy in subunit assignment for isozyme, check\n",
      "PI3PP_c there might be discrepancy in subunit assignment for isozyme, check\n"
     ]
    }
   ],
   "source": [
    "df_uni = pd.read_excel('./enz_info_uniprot_step2.xlsx')\n",
    "df_uni.index = df_uni.id.to_list()\n",
    "\n",
    "for rxn in model.reactions:\n",
    "    genes = [g.id for g in rxn.genes]\n",
    "    gpr = rxn.gene_reaction_rule\n",
    "    \n",
    "    if 'and' in gpr:\n",
    "        continue\n",
    "        \n",
    "    if len(genes) > 1.5:\n",
    "        #### Subunit assignments\n",
    "        su_asgn = {g:df_uni.subunit[g] for g in genes}\n",
    "        su_asgn_yes = [v for v in su_asgn.values() if pd.isnull(v) == False]\n",
    "        genes_su_asgn_null = [g for g in su_asgn.keys() if pd.isnull(su_asgn[g])]\n",
    "\n",
    "        # Checking for discrepancy in assignment of subunit for isozyme\n",
    "        note_su = ''\n",
    "        if len(su_asgn_yes) > 0.5:\n",
    "            if len(su_asgn) > len(su_asgn_yes):\n",
    "                if len(su_asgn_yes) > 1.5:\n",
    "                    if len(set(su_asgn_yes)) > 1.5:\n",
    "                        print(rxn.id, 'there might be discrepancy in subunit assignment for isozyme, check')\n",
    "                    else:\n",
    "                        for k in genes_su_asgn_null:\n",
    "                            df_uni.loc[k, 'subunit'] = su_asgn_yes[0]\n",
    "                            notes = df_uni.notes[k]\n",
    "                            if pd.isnull(notes):\n",
    "                                df_uni.loc[k, 'notes'] = 'suAsgnByIsozyme'\n",
    "                            else:\n",
    "                                df_uni.loc[k, 'notes'] = notes + ' | suAsgnByIsozyme'\n",
    "                else:\n",
    "                    for k,v in su_asgn.items():\n",
    "                        if pd.isnull(v):\n",
    "                            df_uni.loc[k, 'subunit'] = su_asgn_yes[0]\n",
    "                            notes = df_uni.notes[k]\n",
    "                            if pd.isnull(notes):\n",
    "                                df_uni.loc[k, 'notes'] = 'suAsgnByIsozyme'\n",
    "                            else:\n",
    "                                df_uni.loc[k, 'notes'] = notes + ' | suAsgnByIsozyme'\n",
    "                            #print('Assign subunit for ' + k + ' from isozyme')\n",
    "\n",
    "\n",
    "        #### Cofactor assignments\n",
    "        cof_asgn = {g:df_uni.cofactor[g] for g in genes}\n",
    "        cof_asgn_yes = [v for v in cof_asgn.values() if pd.isnull(v) == False]\n",
    "        genes_cof_asgn_null = [g for g in cof_asgn.keys() if pd.isnull(cof_asgn[g])]\n",
    "\n",
    "        # Checking for discrepancy in assignment of cofactor for isozyme\n",
    "        note_cof = ''\n",
    "        if len(cof_asgn_yes) > 0.5:\n",
    "            if len(cof_asgn) > len(cof_asgn_yes):\n",
    "                if len(cof_asgn_yes) > 1.5:\n",
    "                    if len(set(cof_asgn_yes)) > 1.5:\n",
    "                        print(rxn.id, 'there might be discrepancy in cofactor assignment for isozyme, check')\n",
    "                    else:\n",
    "                        for k in genes_cof_asgn_null:\n",
    "                            df_uni.loc[k, 'cofactor'] = cof_asgn_yes[0]\n",
    "                            notes = df_uni.notes[k]\n",
    "                            if pd.isnull(notes):\n",
    "                                df_uni.loc[k, 'notes'] = 'cofAsgnByIsozyme'\n",
    "                            else:\n",
    "                                df_uni.loc[k, 'notes'] = notes + ' | cofAsgnByIsozyme'\n",
    "                else:\n",
    "                    for k,v in cof_asgn.items():\n",
    "                        if pd.isnull(v):\n",
    "                            df_uni.loc[k, 'cofactor'] = cof_asgn_yes[0]\n",
    "                            notes = df_uni.notes[k]\n",
    "                            if pd.isnull(notes):\n",
    "                                df_uni.loc[k, 'notes'] = 'cofAsgnByIsozyme'\n",
    "                            else:\n",
    "                                df_uni.loc[k, 'notes'] = notes + ' | cofAsgnByIsozyme'"
   ]
  },
  {
   "cell_type": "code",
   "execution_count": 4,
   "metadata": {},
   "outputs": [],
   "source": [
    "#### Resolving conflict in assigning by isozyme\n",
    "df_uni.loc['YPL188W', 'subunit'] = 'Homohexamer.'\n",
    "df_uni.loc['YDR191W', 'subunit'] = 'Monomer.'\n",
    "df_uni.loc['YBR132C', 'subunit'] = 'Monomer.'\n",
    "df_uni.loc['YOR273C', 'subunit'] = 'Monomer.'\n",
    "df_uni.loc['YPL274W', 'subunit'] = 'Monomer.'\n",
    "df_uni.loc['YLL028W', 'subunit'] = 'Monomer.'\n",
    "df_uni.loc['YHL016C', 'subunit'] = 'Monomer.'\n",
    "df_uni.loc['YJR110W', 'subunit'] = 'Monomer.'\n",
    "for g in ['YPL188W', 'YDR191W', 'YBR132C', 'YOR273C', 'YPL274W',\n",
    "          'YLL028W', 'YHL016C', 'YJR110W']:\n",
    "    notes = df_uni.notes[g]\n",
    "    if pd.isnull(notes):\n",
    "        df_uni.loc[g, 'notes'] = 'suAsgnManual'\n",
    "    else:\n",
    "        df_uni.loc[g, 'notes'] = notes + ' | suAsgnManual'"
   ]
  },
  {
   "cell_type": "markdown",
   "metadata": {},
   "source": [
    "#### Write protein stoichiometry"
   ]
  },
  {
   "cell_type": "code",
   "execution_count": 13,
   "metadata": {},
   "outputs": [],
   "source": [
    "df_cof = pd.read_csv('./input/cofactor_stats.txt', sep='\\t')\n",
    "df_cof.index = df_cof.uniprot_id.to_list()"
   ]
  },
  {
   "cell_type": "code",
   "execution_count": 27,
   "metadata": {},
   "outputs": [],
   "source": [
    "df_genes = pd.read_excel('./input/gene_info.xlsx')\n",
    "df_genes.index = df_genes.gene_id.to_list()"
   ]
  },
  {
   "cell_type": "code",
   "execution_count": 55,
   "metadata": {},
   "outputs": [
    {
     "name": "stdout",
     "output_type": "stream",
     "text": [
      "Q0080 []\n"
     ]
    }
   ],
   "source": [
    "cols = ['id', 'gene_src', 'name', 'uniprot', 'subloc_assigned', 'cofactor_stoich',\n",
    "        'cofactor_comments', 'sequence', 'status']\n",
    "df_prot = pd.DataFrame(columns=cols)\n",
    "\n",
    "for i in df_uni.index:\n",
    "    seq = df_genes.sequence[i]\n",
    "    name = df_uni.name[i]\n",
    "    uni = df_uni.uniprot[i]\n",
    "    \n",
    "    # Extract cofactors info\n",
    "    cofs_uni = df_uni.cofactor[i]\n",
    "    if pd.isnull(cofs_uni) == False:\n",
    "        cofs_uni = cofs_uni.split(' | ')\n",
    "        cofs_ok = []\n",
    "        cofs_comment = []\n",
    "        for cof in cofs_uni:\n",
    "            if cof in df_cof.index:\n",
    "                if df_cof.status[cof] == 'OK':\n",
    "                    cofs_ok.append(df_cof.model_id[cof])\n",
    "            else:\n",
    "                cofs_comment.append(cof)\n",
    "                \n",
    "    else:\n",
    "        cofs_ok = []\n",
    "        cofs_comment = []\n",
    "        \n",
    "    # Extract and record subloc and cofactor\n",
    "    sublocs = df_uni.subloc_assigned[i].split(',')\n",
    "    \n",
    "    # Create copies of protein due to presence in multiple compartments\n",
    "    if len(sublocs) > 1.5:\n",
    "        for subloc in sublocs:\n",
    "            df_prot.loc[i+'_'+subloc, 'id'] = i+'_'+subloc\n",
    "            df_prot.loc[i+'_'+subloc, 'subloc_assigned'] = subloc\n",
    "            df_prot.loc[i+'_'+subloc, ['gene_src', 'name', 'uniprot', 'sequence']] = \\\n",
    "                (i, name, uni, seq)\n",
    "            \n",
    "            x = [cof+':' for cof in cofs_ok]\n",
    "            df_prot.loc[i+'_'+subloc, 'cofactor_comments'] = ' | '.join(cofs_comment)\n",
    "            if len(x) == 1 and cofs_comment == []:\n",
    "                df_prot.loc[i+'_'+subloc, 'status'] = 'cofAsgnAuto'\n",
    "                df_prot.loc[i+'_'+subloc, 'cofactor_stoich'] = x[0] + '1'\n",
    "            else:\n",
    "                df_prot.loc[i+'_'+subloc, 'cofactor_stoich'] = ','.join(x)\n",
    "    \n",
    "    # Proceed for protein presence in only a single compartment\n",
    "    else:\n",
    "        df_prot.loc[i, 'id'] = i\n",
    "        df_prot.loc[i, 'subloc_assigned'] = sublocs[0]\n",
    "        df_prot.loc[i, ['gene_src', 'name', 'uniprot', 'sequence']] = \\\n",
    "            (i, name, uni, seq)\n",
    "        \n",
    "        x = [cof+':' for cof in cofs_ok]\n",
    "        df_prot.loc[i, 'cofactor_comments'] = ' | '.join(cofs_comment)\n",
    "        if len(x) == 1 and cofs_comment == []:\n",
    "            df_prot.loc[i, 'status'] = 'cofAsgnAuto'\n",
    "            df_prot.loc[i, 'cofactor_stoich'] = x[0] + '1'\n",
    "        else:\n",
    "            if i == 'Q0080': print(i,x)\n",
    "            df_prot.loc[i, 'cofactor_stoich'] = ','.join(x)"
   ]
  },
  {
   "cell_type": "code",
   "execution_count": 56,
   "metadata": {},
   "outputs": [],
   "source": [
    "df_prot.to_excel('./output/prot_stoich_raw.xlsx', index=False)"
   ]
  },
  {
   "cell_type": "markdown",
   "metadata": {},
   "source": [
    "#### Write enzyme subunit stoichiometry"
   ]
  },
  {
   "cell_type": "code",
   "execution_count": 115,
   "metadata": {},
   "outputs": [],
   "source": [
    "df_rxns = pd.read_excel('./output/rxns_enz.xlsx')\n",
    "df_rxns.index = df_rxns.id.to_list()"
   ]
  },
  {
   "cell_type": "code",
   "execution_count": 116,
   "metadata": {
    "scrolled": true
   },
   "outputs": [],
   "source": [
    "stoich_asgn = {'Homodimer': 2, 'Homohexamer': 6, 'Homooctamer': 8,\n",
    "               'Homopentamer': 5, 'Homotetramer': 4, 'Homotrimer': 3,\n",
    "               'Monomer': 1}\n",
    "\n",
    "idx = df_rxns.id.to_list()\n",
    "cols = df_rxns.columns.to_list() + ['protein_stoich', 'subunit_comments', 'status']\n",
    "df_enz = pd.DataFrame(index=idx, columns=cols)\n",
    "\n",
    "df_enz['id'] = df_rxns.id\n",
    "df_enz['rxn_src'] = df_rxns.rxn_src\n",
    "df_enz['enz'] = df_rxns.enz\n",
    "df_enz['gpr'] = df_rxns.gpr\n",
    "\n",
    "for i in df_enz.index:\n",
    "    \n",
    "    # Remove compartment marker to get gene source (\"prot\")\n",
    "    enz = df_enz.enz[i]\n",
    "    if '_' in enz:\n",
    "        comp = enz.split('_')[-1]\n",
    "        prot = enz[:-len(comp)-1]\n",
    "    else:\n",
    "        prot = enz\n",
    "        \n",
    "    # Assign subunit for DUMMYENZ and SPONT\n",
    "    if prot == 'DUMMYENZ':\n",
    "        df_enz.loc[i, 'protein_stoich'] = 'DUMMYENZ:1'\n",
    "        df_enz.loc[i, 'status'] = 'protStoichAsgnAuto'\n",
    "        continue\n",
    "    elif prot == 'SPONT':\n",
    "        df_enz.loc[i, 'protein_stoich'] = 'zeroCost'\n",
    "        df_enz.loc[i, 'status'] = 'protStoichAsgnAuto'\n",
    "        continue\n",
    "        \n",
    "    # Parsing, and if possible, assign subunit for enzymes with subunit markers\n",
    "    gpr = df_enz.gpr[i]\n",
    "    if 'and' in gpr:\n",
    "        gpr = gpr.replace('(', '')\n",
    "        gpr = gpr.replace(')', '')\n",
    "        genes = gpr.split(' and ')\n",
    "        comments = []\n",
    "        for g in genes:\n",
    "            if '_' in g:\n",
    "                comp = g.split('_')[-1]\n",
    "                g_src = g[:-len(comp)-1]\n",
    "            else:\n",
    "                g_src = g\n",
    "            comments.append(df_uni.subunit[g_src])\n",
    "        \n",
    "        if set(comments) == set([np.nan]):\n",
    "            genes_stoich = [g+':1' for g in genes]\n",
    "            df_enz.loc[i, 'protein_stoich'] = ','.join(genes_stoich)\n",
    "            df_enz.loc[i, 'status'] = 'protStoichAsgnAuto'\n",
    "            continue\n",
    "        else:\n",
    "            genes_stoich = [g+':' for g in genes]\n",
    "            df_enz.loc[i, 'protein_stoich'] = ','.join(genes_stoich)\n",
    "            comments_ok = [c for c in comments if pd.isnull(c) == False]\n",
    "            df_enz.loc[i, 'subunit_comments'] = ' | '.join(comments_ok)\n",
    "            continue\n",
    "    \n",
    "    # If gene source (\"prot\") is not found from extracted info from Uniprot, ignore\n",
    "    if prot not in df_uni.index:\n",
    "        continue\n",
    "    \n",
    "    # Parse enzyme with single protein associated, might contain some comments for subunits \n",
    "    # requiring manual curation\n",
    "    su = df_uni.subunit[prot]\n",
    "    if pd.isnull(su):\n",
    "        df_enz.loc[i, 'protein_stoich'] = prot + ':1'\n",
    "        df_enz.loc[i, 'status'] = 'protStoichAsgnAuto'\n",
    "    else:\n",
    "        su_i0 = su.split('.')[0]\n",
    "        if ' ' not in su_i0:\n",
    "            if su_i0 in stoich_asgn.keys():\n",
    "                df_enz.loc[i, 'protein_stoich'] = prot + ':' + str(stoich_asgn[su_i0])\n",
    "                df_enz.loc[i, 'status'] = 'protStoichAsgnAuto'\n",
    "            else:\n",
    "                df_enz.loc[i, 'protein_stoich'] = prot + ':'\n",
    "                df_enz.loc[i, 'subunit_comments'] = df_uni.subunit[prot]\n",
    "                \n",
    "        else:\n",
    "            df_enz.loc[i, 'protein_stoich'] = prot + ':'\n",
    "            df_enz.loc[i, 'subunit_comments'] = df_uni.subunit[prot]"
   ]
  },
  {
   "cell_type": "code",
   "execution_count": 117,
   "metadata": {},
   "outputs": [],
   "source": [
    "df_enz.to_excel('./output/enz_stoich_raw.xlsx', index=False)"
   ]
  },
  {
   "cell_type": "markdown",
   "metadata": {},
   "source": [
    "#### Test codes"
   ]
  },
  {
   "cell_type": "code",
   "execution_count": 290,
   "metadata": {},
   "outputs": [
    {
     "name": "stdout",
     "output_type": "stream",
     "text": [
      "True 1000.0\n"
     ]
    }
   ],
   "source": [
    "# Test sink\n",
    "model = cobra.io.load_json_model('./input/model/y834_hvd_v3_rba.json')\n",
    "model.reactions.EX_glc__D_e.lower_bound = -10\n",
    "\n",
    "status, fba = test_metabolite_sink(model, 'sdh5req_c')\n",
    "print(status, fba.objective_value)\n",
    "#make_escher_csv(fba.fluxes, './test.csv')"
   ]
  },
  {
   "cell_type": "code",
   "execution_count": 299,
   "metadata": {},
   "outputs": [
    {
     "data": {
      "text/html": [
       "\n",
       "        <table>\n",
       "            <tr>\n",
       "                <td><strong>Reaction identifier</strong></td><td>COX23REQ_c</td>\n",
       "            </tr><tr>\n",
       "                <td><strong>Name</strong></td><td>COX23 requirement for cytochrome c oxidase assembly (for enzyme requirement purpose in RBA)</td>\n",
       "            </tr><tr>\n",
       "                <td><strong>Memory address</strong></td>\n",
       "                <td>0x07fe4d36854d0</td>\n",
       "            </tr><tr>\n",
       "                <td><strong>Stoichiometry</strong></td>\n",
       "                <td>\n",
       "                    <p style='text-align:right'> --> cox23req_c</p>\n",
       "                    <p style='text-align:right'> --> COX23 requirement for cytochrome c oxidase assembly (for enzyme requirement purpose in RBA)</p>\n",
       "                </td>\n",
       "            </tr><tr>\n",
       "                <td><strong>GPR</strong></td><td>YHR116W</td>\n",
       "            </tr><tr>\n",
       "                <td><strong>Lower bound</strong></td><td>0.0</td>\n",
       "            </tr><tr>\n",
       "                <td><strong>Upper bound</strong></td><td>1000.0</td>\n",
       "            </tr>\n",
       "        </table>\n",
       "        "
      ],
      "text/plain": [
       "<Reaction COX23REQ_c at 0x7fe4d36854d0>"
      ]
     },
     "execution_count": 299,
     "metadata": {},
     "output_type": "execute_result"
    }
   ],
   "source": [
    "model.reactions.COX23REQ_c"
   ]
  },
  {
   "cell_type": "code",
   "execution_count": null,
   "metadata": {},
   "outputs": [],
   "source": []
  },
  {
   "cell_type": "code",
   "execution_count": null,
   "metadata": {},
   "outputs": [],
   "source": []
  },
  {
   "cell_type": "code",
   "execution_count": 26,
   "metadata": {},
   "outputs": [],
   "source": [
    "y8 = cobra.io.load_json_model('../../SCProjects/SCModels/yeast8/model/y834_hvd_v3.json')"
   ]
  },
  {
   "cell_type": "code",
   "execution_count": 24,
   "metadata": {},
   "outputs": [
    {
     "data": {
      "text/html": [
       "\n",
       "        <table>\n",
       "            <tr>\n",
       "                <td><strong>Metabolite identifier</strong></td><td>fe2_c</td>\n",
       "            </tr><tr>\n",
       "                <td><strong>Name</strong></td><td>iron(2+) [cytoplasm]</td>\n",
       "            </tr><tr>\n",
       "                <td><strong>Memory address</strong></td>\n",
       "                <td>0x07fc5c188c890</td>\n",
       "            </tr><tr>\n",
       "                <td><strong>Formula</strong></td><td>Fe</td>\n",
       "            </tr><tr>\n",
       "                <td><strong>Compartment</strong></td><td>c</td>\n",
       "            </tr><tr>\n",
       "                <td><strong>In 4 reaction(s)</strong></td><td>\n",
       "                    FE2t_c_m, BIOMASS_SC_hvd, SHCHF_c, FE2t_c_e</td>\n",
       "            </tr>\n",
       "        </table>"
      ],
      "text/plain": [
       "<Metabolite fe2_c at 0x7fc5c188c890>"
      ]
     },
     "execution_count": 24,
     "metadata": {},
     "output_type": "execute_result"
    }
   ],
   "source": [
    "model.metabolites.ni2"
   ]
  },
  {
   "cell_type": "code",
   "execution_count": 7,
   "metadata": {},
   "outputs": [],
   "source": [
    "cofactors = []\n",
    "for i in df_uni.index:\n",
    "    entries = df_uni.cofactor[i]\n",
    "    if pd.isnull(entries) == False:\n",
    "        entries = entries.split(' | ')\n",
    "        for entry in entries:\n",
    "            if '/' in entry:\n",
    "                cofactors.append(entry)"
   ]
  },
  {
   "cell_type": "code",
   "execution_count": 9,
   "metadata": {},
   "outputs": [
    {
     "name": "stdout",
     "output_type": "stream",
     "text": [
      "Mg(2+)/CHEBI:18420\n",
      "[4Fe-4S] cluster/CHEBI:49883\n",
      "siroheme/CHEBI:60052\n",
      "thiamine diphosphate/CHEBI:58937\n",
      "biotin/CHEBI:57586\n",
      "a divalent metal cation/CHEBI:60240\n",
      "[3Fe-4S] cluster/CHEBI:21137\n",
      "Zn(2+)/CHEBI:29105\n",
      "heme/CHEBI:30413\n",
      "[2Fe-2S] cluster/CHEBI:49601\n",
      "a monovalent cation/CHEBI:60242\n",
      "Ca(2+)/CHEBI:29108\n",
      "dipyrromethane/CHEBI:60342\n",
      "Cu cation/CHEBI:23378\n",
      "Fe(2+)/CHEBI:29033\n",
      "pantetheine 4'-phosphate/CHEBI:47942\n",
      "(R)-lipoate/CHEBI:83088\n",
      "Fe cation/CHEBI:24875\n",
      "FMNH2/CHEBI:57618\n",
      "Ni(2+)/CHEBI:49786\n",
      "FMN/CHEBI:58210\n",
      "prenyl-FMN/CHEBI:87746\n",
      "pyridoxal 5'-phosphate/CHEBI:597326\n",
      "pyruvate/CHEBI:15361\n",
      "FAD/CHEBI:57692\n",
      "Co(2+)/CHEBI:48828\n",
      "K(+)/CHEBI:29103\n",
      "AMP/CHEBI:456215\n",
      "NAD(+)/CHEBI:57540\n",
      "heme b/CHEBI:60344\n",
      "Mn(2+)/CHEBI:29035\n",
      "Binds 2 divalent metal cations per subunit. Site 1 may preferentially bind zinc ions, while site 2 has a preference for magnesium and/or manganese ions.\n"
     ]
    }
   ],
   "source": [
    "for i in set(cofactors):\n",
    "    print(i)"
   ]
  },
  {
   "cell_type": "code",
   "execution_count": null,
   "metadata": {},
   "outputs": [],
   "source": []
  }
 ],
 "metadata": {
  "kernelspec": {
   "display_name": "Python 3",
   "language": "python",
   "name": "python3"
  },
  "language_info": {
   "codemirror_mode": {
    "name": "ipython",
    "version": 3
   },
   "file_extension": ".py",
   "mimetype": "text/x-python",
   "name": "python",
   "nbconvert_exporter": "python",
   "pygments_lexer": "ipython3",
   "version": "3.7.9"
  }
 },
 "nbformat": 4,
 "nbformat_minor": 4
}
