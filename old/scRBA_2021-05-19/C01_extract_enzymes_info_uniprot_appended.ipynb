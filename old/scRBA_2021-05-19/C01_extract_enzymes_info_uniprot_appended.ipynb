{
 "cells": [
  {
   "cell_type": "code",
   "execution_count": 1,
   "metadata": {},
   "outputs": [],
   "source": [
    "import cobra\n",
    "import pandas as pd\n",
    "import io, re\n",
    "from bioservices.uniprot import UniProt\n",
    "import bioservices.xmltools\n",
    "\n",
    "import sys\n",
    "sys.path.append('/home/hvdinh16/Workspace/workpy3/common/')\n",
    "from custom_functions import *\n",
    "\n",
    "import lxml\n",
    "from lxml import etree\n",
    "from lxml.etree import ElementTree"
   ]
  },
  {
   "cell_type": "code",
   "execution_count": 2,
   "metadata": {},
   "outputs": [],
   "source": [
    "taxonId = '559292' # S. cerevisiae S288C"
   ]
  },
  {
   "cell_type": "code",
   "execution_count": 3,
   "metadata": {},
   "outputs": [],
   "source": [
    "df_app = pd.read_excel('./input/translation_elongation_machinery.xlsx')\n",
    "df_app = df_app[df_app.paralog.isnull()]\n",
    "df_app = df_app[df_app.id.str.contains('rrna') == False]\n",
    "df_app.index = df_app.id.to_list()"
   ]
  },
  {
   "cell_type": "raw",
   "metadata": {},
   "source": [
    "df_genes = pd.read_excel('../../SCProjects/genome/Scerevisiae_S288C/gene_info.xlsx')\n",
    "df_genes.index = df_genes.gene_id.to_list()"
   ]
  },
  {
   "cell_type": "raw",
   "metadata": {},
   "source": [
    "idx = df_app.index.to_list()"
   ]
  },
  {
   "cell_type": "raw",
   "metadata": {},
   "source": [
    "with open('./temp.txt', 'w') as f:\n",
    "    f.write('\\n'.join(df_genes.sequence[idx]))"
   ]
  },
  {
   "cell_type": "code",
   "execution_count": 12,
   "metadata": {},
   "outputs": [],
   "source": [
    "idx = df_app.id.to_list()\n",
    "cols = ['id', 'name', 'sc_id', 'uniprot', 'uniprot_name', 'subunit', 'subloc', 'cofactor']\n",
    "df_info = pd.DataFrame(index=idx, columns=cols)\n",
    "df_info['id'] = idx\n",
    "\n",
    "df_info['sc_id'] = df_info['id']\n",
    "        \n",
    "uniprot = UniProt(verbose=True)\n",
    "for i in df_info.index:\n",
    "    subunit_list, subloc_list, cofactor_list = [], [], []\n",
    "    \n",
    "    if pd.isnull(df_info.sc_id[i]):\n",
    "        continue\n",
    "        \n",
    "    if ',' not in df_info.sc_id[i]:\n",
    "        sc_id = df_info.sc_id[i]\n",
    "    else:\n",
    "        sc_id = df_info.sc_id[i].split(',')[0]\n",
    "    qstr = 'gene:' + df_info.sc_id[i] + ' AND taxonomy:' + taxonId + ' AND reviewed:yes'\n",
    "    \n",
    "    # Extract info from uniprot via REST API\n",
    "    search = uniprot.search(qstr)\n",
    "    if search == '':\n",
    "        continue\n",
    "    df_search = pd.read_table(io.StringIO(search))\n",
    "    \n",
    "    for j in df_search.index:\n",
    "        aliases = df_search.loc[j, 'Gene names'].split(' ')\n",
    "        if df_info.sc_id[i] in aliases:\n",
    "            uniprot_id = df_search.Entry[j]\n",
    "    \n",
    "    retrieve = uniprot.retrieve(uniprot_id, frmt='xml')\n",
    "    \n",
    "    lxmlET = etree.fromstring(retrieve.data.encode())\n",
    "    for elem in lxmlET.getiterator():\n",
    "        elem.tag = etree.QName(elem.tag).localname\n",
    "    etree.cleanup_namespaces(lxmlET)\n",
    "    uniprot_entry = lxmlET.find('entry')\n",
    "    \n",
    "    for elem in uniprot_entry.iter(tag='comment'):\n",
    "        # Extract cofactor info\n",
    "        if elem.attrib['type'] == 'cofactor':\n",
    "            for cofactor_entry in elem.getchildren():\n",
    "                \n",
    "                if cofactor_entry.tag == 'cofactor':\n",
    "                    name = cofactor_entry.find('name')\n",
    "                    if name != None:\n",
    "                        name = name.text\n",
    "\n",
    "                    dbref = cofactor_entry.find('dbReference')\n",
    "                    if dbref != None:\n",
    "                        dbref = dbref.attrib['id']\n",
    "\n",
    "                    cofactor_list.append(str(name) + '/' + str(dbref))\n",
    "                    \n",
    "                elif cofactor_entry.tag == 'text':\n",
    "                    cofactor_list.append(cofactor_entry.text)\n",
    "\n",
    "        # Extract subcellular location\n",
    "        elif elem.attrib['type'] == 'subcellular location':\n",
    "            for subloc_entry in elem.getchildren():\n",
    "                loc = subloc_entry.find('location')\n",
    "                if loc != None:\n",
    "                    subloc_list.append(loc.text)\n",
    "\n",
    "                mol = subloc_entry.find('molecule')\n",
    "                if mol != None:\n",
    "                    subloc_list.append(mol)\n",
    "                    \n",
    "                t = subloc_entry.find('text')\n",
    "                if t != None:\n",
    "                    subloc_list.append(t.text)\n",
    "\n",
    "        # Extract subunit information\n",
    "        elif elem.attrib['type'] == 'subunit':\n",
    "            for subunit_entry in elem.getchildren():\n",
    "                su = subunit_entry.text\n",
    "                if su != None:\n",
    "                    subunit_list.append(su)\n",
    "                \n",
    "    # Record\n",
    "    df_info.loc[i, 'uniprot'] = uniprot_id\n",
    "    df_info.loc[i, 'uniprot_name'] = uniprot_entry.find('name').text\n",
    "    df_info.loc[i, 'subunit'] = ' | '.join(subunit_list)\n",
    "    df_info.loc[i, 'subloc'] = ' | '.join(subloc_list)\n",
    "    df_info.loc[i, 'cofactor'] = ' | '.join(cofactor_list)"
   ]
  },
  {
   "cell_type": "code",
   "execution_count": 16,
   "metadata": {},
   "outputs": [],
   "source": [
    "df_info.name = df_app.name"
   ]
  },
  {
   "cell_type": "code",
   "execution_count": 21,
   "metadata": {},
   "outputs": [],
   "source": [
    "df_info = df_info.drop(['sc_id'], axis=1)"
   ]
  },
  {
   "cell_type": "code",
   "execution_count": 23,
   "metadata": {},
   "outputs": [],
   "source": [
    "df_info.to_excel('./output/enz_info_uniprot_appended.xlsx', sheet_name='uniprot_extract', index=False)"
   ]
  },
  {
   "cell_type": "code",
   "execution_count": null,
   "metadata": {},
   "outputs": [],
   "source": []
  }
 ],
 "metadata": {
  "kernelspec": {
   "display_name": "Python 3",
   "language": "python",
   "name": "python3"
  },
  "language_info": {
   "codemirror_mode": {
    "name": "ipython",
    "version": 3
   },
   "file_extension": ".py",
   "mimetype": "text/x-python",
   "name": "python",
   "nbconvert_exporter": "python",
   "pygments_lexer": "ipython3",
   "version": "3.7.9"
  }
 },
 "nbformat": 4,
 "nbformat_minor": 4
}
