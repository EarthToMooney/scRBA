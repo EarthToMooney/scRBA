{
 "cells": [
  {
   "cell_type": "code",
   "execution_count": 1,
   "metadata": {},
   "outputs": [],
   "source": [
    "import cobra\n",
    "import pandas as pd\n",
    "import json\n",
    "from collections import OrderedDict\n",
    "from custom_functions_scRBA import *"
   ]
  },
  {
   "cell_type": "markdown",
   "metadata": {},
   "source": [
    "#### Build model containing constant coefficients only"
   ]
  },
  {
   "cell_type": "code",
   "execution_count": 2,
   "metadata": {},
   "outputs": [
    {
     "name": "stdout",
     "output_type": "stream",
     "text": [
      "Using license file /home/hvdinh16/Workspace/Softwares/gurobi910/linux64/gurobi.lic\n",
      "Academic license - for non-commercial use only - expires 2021-07-26\n"
     ]
    }
   ],
   "source": [
    "model = cobra.Model('SCResAlloModel')"
   ]
  },
  {
   "cell_type": "markdown",
   "metadata": {},
   "source": [
    "Metabolites"
   ]
  },
  {
   "cell_type": "code",
   "execution_count": 3,
   "metadata": {},
   "outputs": [],
   "source": [
    "with open('../scRBA_new/species.txt') as f:\n",
    "    species = f.read().split('\\n')\n",
    "for m in species:\n",
    "    met = cobra.Metabolite(m)\n",
    "    model.add_metabolites(met)"
   ]
  },
  {
   "cell_type": "markdown",
   "metadata": {},
   "source": [
    "Reactions"
   ]
  },
  {
   "cell_type": "code",
   "execution_count": 4,
   "metadata": {},
   "outputs": [],
   "source": [
    "# Add reactions\n",
    "df_rxns = pd.read_excel('../scRBA_new/scRAM_network_frompy.xlsx')\n",
    "df_rxns.index = df_rxns.id.to_list()"
   ]
  },
  {
   "cell_type": "code",
   "execution_count": 5,
   "metadata": {},
   "outputs": [],
   "source": [
    "for r in df_rxns.index:\n",
    "    x = metabolites_dict_from_reaction_equation_RBA(df_rxns.reaction[r])\n",
    "    met_dict = dict()\n",
    "    for k,v in x.items():\n",
    "        if is_number(v):\n",
    "            met_dict[k] = v\n",
    "    \n",
    "    rxn = cobra.Reaction(r)\n",
    "    model.add_reaction(rxn)\n",
    "    rxn.reaction = build_reaction_equation_from_metabolites_dict_RBA(met_dict, arrow='-->')"
   ]
  },
  {
   "cell_type": "markdown",
   "metadata": {},
   "source": [
    "Set objective"
   ]
  },
  {
   "cell_type": "markdown",
   "metadata": {},
   "source": [
    "No objective"
   ]
  },
  {
   "cell_type": "code",
   "execution_count": 6,
   "metadata": {},
   "outputs": [],
   "source": [
    "model.objective = dict()\n",
    "cobra.io.save_json_model(model, './models/cobraModel_constantStoichOnly_noObj.json')"
   ]
  },
  {
   "cell_type": "markdown",
   "metadata": {},
   "source": [
    "#### Build dictionary containing symbolic coefficients"
   ]
  },
  {
   "cell_type": "code",
   "execution_count": 7,
   "metadata": {},
   "outputs": [],
   "source": [
    "df_rxns = pd.read_excel('../scRBA_new/scRAM_network_frompy.xlsx')\n",
    "df_rxns.index = df_rxns.id.to_list()\n",
    "df_rxns = df_rxns[df_rxns.symbolic_coeffs.isnull() == False]\n",
    "\n",
    "df_keff = pd.read_excel('../scRBA_new/keff_frompy.xlsx')\n",
    "df_keff.index = df_keff.rxn_id.to_list()\n",
    "\n",
    "df_pro = pd.read_excel('../scRBA/curation/prot_stoich_curation_2021-05-21.xlsx')\n",
    "df_pro.index = df_pro.id.to_list()"
   ]
  },
  {
   "cell_type": "code",
   "execution_count": 8,
   "metadata": {},
   "outputs": [],
   "source": [
    "df_params = pd.read_excel('../scRBA/input/params_respiration.xlsx')\n",
    "df_params.index = df_params.param_id.to_list()"
   ]
  },
  {
   "cell_type": "code",
   "execution_count": 9,
   "metadata": {},
   "outputs": [],
   "source": [
    "stoich = OrderedDict()"
   ]
  },
  {
   "cell_type": "markdown",
   "metadata": {},
   "source": [
    "Symbolic part"
   ]
  },
  {
   "cell_type": "code",
   "execution_count": 10,
   "metadata": {},
   "outputs": [],
   "source": [
    "kribo = 10.5*3600; dummyNAA = 405;"
   ]
  },
  {
   "cell_type": "code",
   "execution_count": 11,
   "metadata": {},
   "outputs": [],
   "source": [
    "for i in df_rxns.index:\n",
    "    met_dict = metabolites_dict_from_reaction_equation_RBA(df_rxns.reaction[i])\n",
    "    met_dict = {k:v for k,v in met_dict.items() if k != '' and is_number(v) == False}\n",
    "    sym = df_rxns.symbolic_coeffs[i]\n",
    "    \n",
    "    for k,v in met_dict.items():\n",
    "        if v == '-mu/keff':\n",
    "            v = str(round(-1 / df_keff.keff[i] / 3600, 12)) + '*mu'\n",
    "        elif v == '-mu*NAA/kribo':\n",
    "            pro_id = i[7:]\n",
    "            if pro_id in ['DUMMYPRO_c', 'DUMMYPRO_m']:\n",
    "                v = str(-round(dummyNAA / kribo, 12)) + '*mu'\n",
    "            else:\n",
    "                v = str(-round((len(df_pro.sequence[pro_id]) - 1) / kribo, 12)) + '*mu'\n",
    "        else:\n",
    "            v = df_params.string[v]\n",
    "            \n",
    "        stoich[i+' | '+k] = str(v)"
   ]
  },
  {
   "cell_type": "code",
   "execution_count": 12,
   "metadata": {},
   "outputs": [],
   "source": [
    "stoich['BIODIL-BIODILRESPIRATION' + ' | ' + 'BIO-unmodeledProtBiom'] = '-(0.118970 + 0.139017*mu)'\n",
    "stoich['BIODIL-BIODILRESPIRATION' + ' | ' + 'BIO-modeledProtBiom_c'] = '-(0.121007 + 0.141397*mu)'\n",
    "stoich['BIODIL-BIODILRESPIRATION' + ' | ' + 'BIO-modeledProtBiom_m'] = '-(0.131677 + 0.153865*mu)'\n",
    "\n",
    "stoich['BIODIL-BIODILFERMENTATION' + ' | ' + 'BIO-unmodeledProtBiom'] = '-(0.118970 + 0.139017*mu)'\n",
    "stoich['BIODIL-BIODILFERMENTATION' + ' | ' + 'BIO-modeledProtBiom_c'] = '-(0.234957 + 0.274546*mu)'\n",
    "stoich['BIODIL-BIODILFERMENTATION' + ' | ' + 'BIO-modeledProtBiom_m'] = '-(0.017728 + 0.020715*mu)'"
   ]
  },
  {
   "cell_type": "markdown",
   "metadata": {},
   "source": [
    "Save<br>\n",
    "For mu < 0.211"
   ]
  },
  {
   "cell_type": "code",
   "execution_count": 13,
   "metadata": {},
   "outputs": [],
   "source": [
    "import json\n",
    "from copy import deepcopy"
   ]
  },
  {
   "cell_type": "code",
   "execution_count": 14,
   "metadata": {},
   "outputs": [],
   "source": [
    "with open('./models/symbolicStoich_lower_0_211.json', 'w') as f: \n",
    "    json.dump(stoich, f)"
   ]
  },
  {
   "cell_type": "markdown",
   "metadata": {},
   "source": [
    "For mu > 0.211"
   ]
  },
  {
   "cell_type": "code",
   "execution_count": 15,
   "metadata": {},
   "outputs": [],
   "source": [
    "stoich_higher = deepcopy(stoich)\n",
    "stoich_higher['BIODIL-BIODILRESPIRATION' + ' | ' + 'BIO-unmodeledProtBiom'] = -0.148303012202\n",
    "stoich_higher['BIODIL-BIODILRESPIRATION' + ' | ' + 'BIO-modeledProtBiom_c'] = -0.150841828568\n",
    "stoich_higher['BIODIL-BIODILRESPIRATION' + ' | ' + 'BIO-modeledProtBiom_m'] = -0.164142817229\n",
    "\n",
    "stoich_higher['BIODIL-BIODILFERMENTATION'+ ' | ' + 'BIO-unmodeledProtBiom'] = -0.148303012202\n",
    "stoich_higher['BIODIL-BIODILFERMENTATION'+ ' | ' + 'BIO-modeledProtBiom_c'] = -0.292885824511\n",
    "stoich_higher['BIODIL-BIODILFERMENTATION'+ ' | ' + 'BIO-modeledProtBiom_m'] = -0.022098821287\n",
    "\n",
    "stoich_higher['BIODIL-BIODILRESPIRATION' + ' | ' + 'MET-mannan_c'] = -0.539010001587\n",
    "stoich_higher['BIODIL-BIODILRESPIRATION' + ' | ' + 'MET-13BDglucan_en'] = -0.836427660720\n",
    "stoich_higher['BIODIL-BIODILRESPIRATION' + ' | ' + 'MET-16BDglucan_en'] = -0.220112542295\n",
    "stoich_higher['BIODIL-BIODILRESPIRATION' + ' | ' + 'MET-chtn_c'] = -0.019775196008\n",
    "stoich_higher['BIODIL-BIODILRESPIRATION' + ' | ' + 'MET-glycogen_c'] = -0.403253827394\n",
    "stoich_higher['BIODIL-BIODILRESPIRATION' + ' | ' + 'MET-tre_c'] = -0.020213206243\n",
    "stoich_higher['BIODIL-BIODILRESPIRATION' + ' | ' + 'BIO-rna_c'] = -0.07219476\n",
    "\n",
    "stoich_higher['BIODIL-BIODILFERMENTATION' + ' | ' + 'MET-mannan_c'] = -0.539010001587\n",
    "stoich_higher['BIODIL-BIODILFERMENTATION' + ' | ' + 'MET-13BDglucan_en'] = -0.836427660720\n",
    "stoich_higher['BIODIL-BIODILFERMENTATION' + ' | ' + 'MET-16BDglucan_en'] = -0.220112542295\n",
    "stoich_higher['BIODIL-BIODILFERMENTATION' + ' | ' + 'MET-chtn_c'] = -0.019775196008\n",
    "stoich_higher['BIODIL-BIODILFERMENTATION' + ' | ' + 'MET-glycogen_c'] = -0.403253827394\n",
    "stoich_higher['BIODIL-BIODILFERMENTATION' + ' | ' + 'MET-tre_c'] = -0.020213206243\n",
    "stoich_higher['BIODIL-BIODILFERMENTATION' + ' | ' + 'BIO-rna_c'] = -0.07219476"
   ]
  },
  {
   "cell_type": "code",
   "execution_count": 16,
   "metadata": {},
   "outputs": [],
   "source": [
    "with open('./models/symbolicStoich_higher_0_211.json', 'w') as f: \n",
    "    json.dump(stoich_higher, f)"
   ]
  },
  {
   "cell_type": "code",
   "execution_count": null,
   "metadata": {},
   "outputs": [],
   "source": []
  },
  {
   "cell_type": "code",
   "execution_count": null,
   "metadata": {},
   "outputs": [],
   "source": []
  },
  {
   "cell_type": "code",
   "execution_count": null,
   "metadata": {},
   "outputs": [],
   "source": []
  }
 ],
 "metadata": {
  "kernelspec": {
   "display_name": "Python 3",
   "language": "python",
   "name": "python3"
  },
  "language_info": {
   "codemirror_mode": {
    "name": "ipython",
    "version": 3
   },
   "file_extension": ".py",
   "mimetype": "text/x-python",
   "name": "python",
   "nbconvert_exporter": "python",
   "pygments_lexer": "ipython3",
   "version": "3.7.9"
  }
 },
 "nbformat": 4,
 "nbformat_minor": 4
}
