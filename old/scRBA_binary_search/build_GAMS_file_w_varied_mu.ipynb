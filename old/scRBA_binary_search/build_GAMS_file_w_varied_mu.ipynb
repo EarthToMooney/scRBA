{
 "cells": [
  {
   "cell_type": "code",
   "execution_count": 2,
   "metadata": {},
   "outputs": [],
   "source": [
    "import shutil\n",
    "shutil.copy('../GAMS/base/runRBA.gms', './runRBA.gms');\n",
    "shutil.copy('../GAMS/base/soplex.opt', './soplex.opt');"
   ]
  },
  {
   "cell_type": "code",
   "execution_count": null,
   "metadata": {},
   "outputs": [],
   "source": [
    "inputs = {'species': 'RBA_species.txt',\n",
    "          'rxns': 'RBA_rxns.txt',\n",
    "          'prosyn_rxns': 'RBA_prosyn.txt',\n",
    "          'nuc_translation': 'RBA_nuc_translation.txt',\n",
    "          'mito_translation': 'RBA_mito_translation.txt',\n",
    "          'uptake': 'RBA_rxns_EXREV.txt',\n",
    "          'media': 'RBA_rxns_EXREV_YNB.txt',\n",
    "          'sij': 'RBA_sij.txt',\n",
    "          'protein_length': 'RBA_proteinLength.txt',\n",
    "          'kapp': 'RBA_kapp.txt'\n",
    "          'enzyme_capacity_declares': 'RBA_enzCapacityConstraints_declares.txt',\n",
    "          'enzyme_capacity_eqns': 'RBA_enzCapacityConstraints_eqns.txt',\n",
    "          'kribonuc': '10.5*3600',\n",
    "          'kribomito': '10.5*3600',\n",
    "          'mu': '0'}"
   ]
  },
  {
   "cell_type": "code",
   "execution_count": 4,
   "metadata": {},
   "outputs": [],
   "source": [
    "with open('./runRBA.gms') as f:\n",
    "    gmstxt = f.read().split('\\n')\n",
    "gmstxt[6] = '$set mu 0.15'\n",
    "with open('./runRBA.gms', 'w') as f:\n",
    "    f.write('\\n'.join(gmstxt))"
   ]
  },
  {
   "cell_type": "code",
   "execution_count": null,
   "metadata": {},
   "outputs": [],
   "source": [
    "import shutil\n",
    "shutil.copy('../GAMS/runRBA.gms', './runRBA.gms');\n",
    "shutil.copy('../GAMS/soplex.opt', './soplex.opt');"
   ]
  },
  {
   "cell_type": "code",
   "execution_count": null,
   "metadata": {},
   "outputs": [],
   "source": [
    "with open('./runRBA.modelStat.txt') as f:\n",
    "    modelStat = f.read()\n",
    "modelStat = modelStat.replace('\\n', '')\n",
    "modelStat = modelStat.replace(' ', '')\n",
    "modelStat = int(float(modelStat))"
   ]
  },
  {
   "cell_type": "code",
   "execution_count": null,
   "metadata": {},
   "outputs": [],
   "source": [
    "import os\n",
    "# Test evaluation at zero\n",
    "os.system('module load gams\\n' + 'gams runRBA.gms --mu=0 o=/dev/null')\n",
    "stat = get_GAMS_modelStat('./runRBA.modelStat.txt')\n",
    "if stat == 'infeasible':\n",
    "    print('Model is infeasible at mu = 0, check model connectivity and other bugs')"
   ]
  },
  {
   "cell_type": "code",
   "execution_count": 1,
   "metadata": {},
   "outputs": [],
   "source": [
    "class bcolors:\n",
    "    GREEN = '\\033[92m' #GREEN\n",
    "    RED = '\\033[91m' #RED\n",
    "    RESET = '\\033[0m' #RESET COLOR"
   ]
  },
  {
   "cell_type": "code",
   "execution_count": 4,
   "metadata": {},
   "outputs": [
    {
     "name": "stdout",
     "output_type": "stream",
     "text": [
      "\u001b[92mmu = 1.0000000, status = opt\u001b[0m\n"
     ]
    }
   ],
   "source": [
    "print(f\"{bcolors.GREEN}mu = {1:.7f}, status = {'opt'}{bcolors.RESET}\")"
   ]
  },
  {
   "cell_type": "code",
   "execution_count": null,
   "metadata": {},
   "outputs": [],
   "source": []
  },
  {
   "cell_type": "code",
   "execution_count": null,
   "metadata": {},
   "outputs": [],
   "source": [
    "mu_min0 = 0.18; mu_max0 = 0.20; mu_tol = 1e-4; maxiter = 100;\n",
    "mu_min = mu_min0; mu_max = mu_max0; itercount = 0;\n",
    "\n",
    "# Start binary search\n",
    "# Evaluate min feasibility\n",
    "mu = mu_min;\n",
    "os.system('module load gams\\n' + 'gams runRBA.gms --mu=' + str(mu) + ' o=/dev/null')\n",
    "stat = get_GAMS_modelStat('./runRBA.modelStat.txt')\n",
    "if stat == 'infeasible':\n",
    "    mu_max = mu_min\n",
    "    mu_min = 0\n",
    "    \n",
    "# Evaluate max infeasibility\n",
    "mu = mu_max;\n",
    "os.system('module load gams\\n' + 'gams runRBA.gms --mu=' + str(mu) + ' o=/dev/null')\n",
    "stat = get_GAMS_modelStat('./runRBA.modelStat.txt')\n",
    "while stat == 'optimal':\n",
    "    mu_max = 1.5*mu_max\n",
    "    mu = mu_max;\n",
    "    os.system('module load gams\\n' + 'gams runRBA.gms --mu=' + str(mu) + ' o=/dev/null')\n",
    "    stat = get_GAMS_modelStat('./runRBA.modelStat.txt')"
   ]
  },
  {
   "cell_type": "code",
   "execution_count": null,
   "metadata": {},
   "outputs": [],
   "source": [
    "# Update min-max\n",
    "mu = float(mu_min + mu_max) / 2; fba_final = None;\n",
    "while mu_max - mu_min > mu_tol and itercount < maxiter:\n",
    "    itercount += 1\n",
    "        \n",
    "    os.system('module load gams\\n' + 'gams runRBA.gms --mu=' + str(mu) + ' o=/dev/null')\n",
    "    stat = get_GAMS_modelStat('./runRBA.modelStat.txt')\n",
    "    if stat == 'optimal':\n",
    "        mu_min = mu\n",
    "        fba_final = fba\n",
    "        #print(f\"{bcolors.GREEN}mu = {mu:.7f}, status = {fba.status}{bcolors.RESET}\")\n",
    "    else:\n",
    "        mu_max = mu\n",
    "        #print(f\"{bcolors.RED}mu = {mu:.7f}, status = {fba.status}{bcolors.RESET}\")\n",
    "        \n",
    "    mu = float(mu_min + mu_max) / 2"
   ]
  },
  {
   "cell_type": "code",
   "execution_count": 52,
   "metadata": {},
   "outputs": [],
   "source": [
    "class GAMS_settings:\n",
    "    def __init__(self,\n",
    "                 species_path='../model/RBA_species.txt',\n",
    "                 rxn_path='../model/RBA_rxns.txt',\n",
    "                 prosyn_path='../model/RBA_rxns_prosyn.txt',\n",
    "                 nuc_trans_path='../model/RBA_nuc_translation.txt',\n",
    "                 mito_trans_path='../model/RBA_mito_translation.txt',\n",
    "                 uptake_path='../model/RBA_rxns_EXREV.txt',\n",
    "                 media_path='../model/RBA_rxns_EXREV_YNB.txt',\n",
    "                 sij_path='../model/RBA_sij.txt',\n",
    "                 prolen_path='../model/RBA_proteinLength.txt',\n",
    "                 kapp_path='../model/RBA_kapp.txt',\n",
    "                 enz_cap_declares_path='../model/RBA_enzCapacityConstraints_declares.txt',\n",
    "                 enz_cap_eqns_path='../model/RBA_enzCapacityConstraints_eqns.txt',\n",
    "                 kribonuc='10.5*3600',\n",
    "                 kribomito='10.5*3600',\n",
    "                 mu='0'):\n",
    "        self.species_path = species_path\n",
    "        self.rxn_path = rxn_path\n",
    "        self.prosyn_path = prosyn_path\n",
    "        self.nuc_trans_path = nuc_trans_path\n",
    "        self.mito_trans_path = mito_trans_path\n",
    "        self.uptake_path = uptake_path\n",
    "        self.media_path = media_path\n",
    "        self.sij_path = sij_path\n",
    "        self.prolen_path = prolen_path\n",
    "        self.kapp_path = kapp_path\n",
    "        self.enz_cap_declares_path = enz_cap_declares_path\n",
    "        self.enz_cap_eqns_path = enz_cap_eqns_path\n",
    "        self.kribonuc = kribonuc\n",
    "        self.kribomito = kribomito\n",
    "        self.mu = mu\n",
    "    \n",
    "    def export_to_txt_file(self, filepath):\n",
    "        props = ['species_path', 'rxn_path', 'prosyn_path', 'nuc_trans_path',\n",
    "                 'mito_trans_path', 'uptake_path', 'media_path', 'sij_path',\n",
    "                 'prolen_path', 'kapp_path', 'enz_cap_declares_path',\n",
    "                 'enz_cap_eqns_path', 'kribonuc', 'kribomito', 'mu']\n",
    "        text = []\n",
    "        for p in props:\n",
    "            text.append('$setGlobal ' + p + ' ' + self.__dict__[p])\n",
    "        \n",
    "        with open(filepath, 'w') as f:\n",
    "            f.write('\\n'.join(text))\n",
    "            \n",
    "    def import_from_txt_file(self, filepath):\n",
    "        with open(filepath) as f:\n",
    "            text = f.read().split('\\n')\n",
    "        text = [i[11:] for i in text if i != '']\n",
    "        for i in text:\n",
    "            k,v = i.split(' ')\n",
    "            self.__setattr__(k,v)"
   ]
  },
  {
   "cell_type": "code",
   "execution_count": 53,
   "metadata": {},
   "outputs": [],
   "source": [
    "x = GAMS_settings()"
   ]
  },
  {
   "cell_type": "code",
   "execution_count": 54,
   "metadata": {},
   "outputs": [
    {
     "data": {
      "text/plain": [
       "'0'"
      ]
     },
     "execution_count": 54,
     "metadata": {},
     "output_type": "execute_result"
    }
   ],
   "source": [
    "x.mu"
   ]
  },
  {
   "cell_type": "code",
   "execution_count": 55,
   "metadata": {},
   "outputs": [],
   "source": [
    "x.import_from_txt_file('./GAMS_settings.txt')"
   ]
  },
  {
   "cell_type": "code",
   "execution_count": 57,
   "metadata": {},
   "outputs": [
    {
     "data": {
      "text/plain": [
       "'0.5'"
      ]
     },
     "execution_count": 57,
     "metadata": {},
     "output_type": "execute_result"
    }
   ],
   "source": [
    "x.mu"
   ]
  },
  {
   "cell_type": "code",
   "execution_count": null,
   "metadata": {},
   "outputs": [],
   "source": []
  },
  {
   "cell_type": "code",
   "execution_count": 20,
   "metadata": {},
   "outputs": [],
   "source": [
    "x.export_to_txt_file('./GAMS_settings.txt')"
   ]
  },
  {
   "cell_type": "code",
   "execution_count": 12,
   "metadata": {},
   "outputs": [
    {
     "data": {
      "text/plain": [
       "{'species_path': '../model/RBA_species.txt',\n",
       " 'rxn_path': '../model/RBA_rxns.txt',\n",
       " 'prosyn_path': '../model/RBA_rxns_prosyn.txt',\n",
       " 'nuc_trans_path': '../model/RBA_nuc_translation.txt',\n",
       " 'mito_trans_path': '../model/RBA_mito_translation.txt',\n",
       " 'uptake_path': '../model/RBA_rxns_EXREV.txt',\n",
       " 'media_path': '../model/RBA_rxns_EXREV_YNB.txt',\n",
       " 'sij_path': '../model/RBA_sij.txt',\n",
       " 'prolen_path': '../model/RBA_proteinLength.txt',\n",
       " 'kapp_path': '../model/RBA_kapp.txt',\n",
       " 'enz_cap_declares_path': '../model/RBA_enzCapacityConstraints_declares.txt',\n",
       " 'enz_cap_eqns_path': '../model/RBA_enzCapacityConstraints_eqns.txt',\n",
       " 'kribonuc': '10.5*3600',\n",
       " 'kribomito': '10.5*3600',\n",
       " 'mu': '0'}"
      ]
     },
     "execution_count": 12,
     "metadata": {},
     "output_type": "execute_result"
    }
   ],
   "source": [
    "x.__dict__"
   ]
  },
  {
   "cell_type": "code",
   "execution_count": 14,
   "metadata": {},
   "outputs": [
    {
     "data": {
      "text/plain": [
       "<method-wrapper '__setattr__' of GAMS_settings object at 0x7fe9183313d0>"
      ]
     },
     "execution_count": 14,
     "metadata": {},
     "output_type": "execute_result"
    }
   ],
   "source": [
    "x._ge"
   ]
  },
  {
   "cell_type": "code",
   "execution_count": null,
   "metadata": {},
   "outputs": [],
   "source": []
  },
  {
   "cell_type": "code",
   "execution_count": null,
   "metadata": {},
   "outputs": [],
   "source": []
  },
  {
   "cell_type": "code",
   "execution_count": 5,
   "metadata": {},
   "outputs": [],
   "source": [
    "class Rba_result:\n",
    "    def __init__(self, growth_rate=None, raw_flux=None, rna_usage=0, proteome_usage=0,\n",
    "                 proteome_allocation=None):\n",
    "        self.growth_rate = growth_rate\n",
    "        self.raw_flux = raw_flux\n",
    "        self.rna_usage = rna_usage\n",
    "        self.proteome_usage = proteome_usage\n",
    "        self.proteome_fraction = proteome_allocation\n",
    "        \n",
    "    def calculate_rna_usage():\n",
    "        None\n",
    "        \n",
    "    def calculate_proteome_usage():\n",
    "        None\n",
    "        \n",
    "    def calculate_proteome_fraction():\n",
    "        None"
   ]
  },
  {
   "cell_type": "code",
   "execution_count": 6,
   "metadata": {},
   "outputs": [],
   "source": [
    "def get_GAMS_modelStat(txtfile='./runRBA.modelStat.txt'):\n",
    "    with open(txtfile) as f:\n",
    "        modelStat = f.read()\n",
    "    modelStat = modelStat.replace('\\n', '')\n",
    "    modelStat = modelStat.replace(' ', '')\n",
    "    modelStat = int(float(modelStat))\n",
    "    if modelStat == 11:\n",
    "        print('Licensing error')\n",
    "    elif modelStat == 12:\n",
    "        print('Error: Unknown cause')\n",
    "    elif modelStat in [4,10,13,14,19]:\n",
    "        stat = 'infeasible'\n",
    "    elif modelStat == 1:\n",
    "        stat = 'optimal'\n",
    "    else:\n",
    "        print('Feasible but not globally optimal')\n",
    "        \n",
    "    return stat"
   ]
  },
  {
   "cell_type": "code",
   "execution_count": null,
   "metadata": {},
   "outputs": [],
   "source": []
  },
  {
   "cell_type": "code",
   "execution_count": 6,
   "metadata": {},
   "outputs": [],
   "source": [
    "with open('./runRBA.gms', 'w') as f:\n",
    "    f.write('\\n'.join(gmstxt))"
   ]
  },
  {
   "cell_type": "code",
   "execution_count": null,
   "metadata": {},
   "outputs": [],
   "source": []
  },
  {
   "cell_type": "code",
   "execution_count": 1,
   "metadata": {},
   "outputs": [],
   "source": [
    "class Rba_result:\n",
    "    def __init__(self, growth_rate=None, raw_flux=None, rna_usage=0, proteome_usage=0,\n",
    "                 proteome_allocation=None):\n",
    "        self.growth_rate = growth_rate\n",
    "        self.raw_flux = raw_flux\n",
    "        self.rna_usage = rna_usage\n",
    "        self.proteome_usage = proteome_usage\n",
    "        self.proteome_fraction = proteome_allocation\n",
    "        \n",
    "    def calculate_rna_usage():\n",
    "        None\n",
    "        \n",
    "    def calculate_proteome_usage():\n",
    "        None\n",
    "        \n",
    "    def calculate_proteome_fraction():\n",
    "        None"
   ]
  },
  {
   "cell_type": "code",
   "execution_count": 13,
   "metadata": {},
   "outputs": [],
   "source": [
    "class Rba_run:\n",
    "    def __init__(self, input_files, mu=0):\n",
    "        self.mu = mu\n",
    "        \n",
    "    "
   ]
  },
  {
   "cell_type": "code",
   "execution_count": 14,
   "metadata": {},
   "outputs": [
    {
     "ename": "AttributeError",
     "evalue": "'Rba_run' object has no attribute 'files'",
     "output_type": "error",
     "traceback": [
      "\u001b[0;31m---------------------------------------------------------------------------\u001b[0m",
      "\u001b[0;31mAttributeError\u001b[0m                            Traceback (most recent call last)",
      "\u001b[0;32m<ipython-input-14-21f757516cd1>\u001b[0m in \u001b[0;36m<module>\u001b[0;34m\u001b[0m\n\u001b[0;32m----> 1\u001b[0;31m \u001b[0mx\u001b[0m \u001b[0;34m=\u001b[0m \u001b[0mRba_run\u001b[0m\u001b[0;34m(\u001b[0m\u001b[0;34m)\u001b[0m\u001b[0;34m\u001b[0m\u001b[0;34m\u001b[0m\u001b[0m\n\u001b[0m",
      "\u001b[0;32m<ipython-input-13-902119bb9e47>\u001b[0m in \u001b[0;36m__init__\u001b[0;34m(self, files)\u001b[0m\n\u001b[1;32m      2\u001b[0m     \u001b[0;32mdef\u001b[0m \u001b[0m__init__\u001b[0m\u001b[0;34m(\u001b[0m\u001b[0mself\u001b[0m\u001b[0;34m,\u001b[0m \u001b[0mfiles\u001b[0m\u001b[0;34m=\u001b[0m\u001b[0;32mNone\u001b[0m\u001b[0;34m)\u001b[0m\u001b[0;34m:\u001b[0m\u001b[0;34m\u001b[0m\u001b[0;34m\u001b[0m\u001b[0m\n\u001b[1;32m      3\u001b[0m         \u001b[0;32mif\u001b[0m \u001b[0mfiles\u001b[0m \u001b[0;34m==\u001b[0m \u001b[0;32mNone\u001b[0m\u001b[0;34m:\u001b[0m\u001b[0;34m\u001b[0m\u001b[0;34m\u001b[0m\u001b[0m\n\u001b[0;32m----> 4\u001b[0;31m             \u001b[0mself\u001b[0m\u001b[0;34m.\u001b[0m\u001b[0mfiles\u001b[0m\u001b[0;34m.\u001b[0m\u001b[0mx\u001b[0m \u001b[0;34m=\u001b[0m \u001b[0;36m0\u001b[0m\u001b[0;34m\u001b[0m\u001b[0;34m\u001b[0m\u001b[0m\n\u001b[0m\u001b[1;32m      5\u001b[0m         \u001b[0;32melse\u001b[0m\u001b[0;34m:\u001b[0m\u001b[0;34m\u001b[0m\u001b[0;34m\u001b[0m\u001b[0m\n\u001b[1;32m      6\u001b[0m             \u001b[0mself\u001b[0m\u001b[0;34m.\u001b[0m\u001b[0mfiles\u001b[0m\u001b[0;34m.\u001b[0m\u001b[0mx\u001b[0m \u001b[0;34m=\u001b[0m \u001b[0;36m1\u001b[0m\u001b[0;34m\u001b[0m\u001b[0;34m\u001b[0m\u001b[0m\n",
      "\u001b[0;31mAttributeError\u001b[0m: 'Rba_run' object has no attribute 'files'"
     ]
    }
   ],
   "source": [
    "x = Rba_run()"
   ]
  },
  {
   "cell_type": "code",
   "execution_count": null,
   "metadata": {},
   "outputs": [],
   "source": [
    "x.fi"
   ]
  }
 ],
 "metadata": {
  "kernelspec": {
   "display_name": "Python 3",
   "language": "python",
   "name": "python3"
  },
  "language_info": {
   "codemirror_mode": {
    "name": "ipython",
    "version": 3
   },
   "file_extension": ".py",
   "mimetype": "text/x-python",
   "name": "python",
   "nbconvert_exporter": "python",
   "pygments_lexer": "ipython3",
   "version": "3.7.9"
  }
 },
 "nbformat": 4,
 "nbformat_minor": 4
}
