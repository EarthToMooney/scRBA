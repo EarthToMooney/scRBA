{
 "cells": [
  {
   "cell_type": "code",
   "execution_count": 1,
   "metadata": {},
   "outputs": [],
   "source": [
    "import pandas as pd\n",
    "\n",
    "import sys\n",
    "sys.path.append('../pycore/')\n",
    "from utils import metabolites_dict_from_reaction_equation_RBA"
   ]
  },
  {
   "cell_type": "code",
   "execution_count": 2,
   "metadata": {},
   "outputs": [],
   "source": [
    "#### LOAD INPUTS AND PARAMETERS\n",
    "# Stoichiometry\n",
    "df_eqn = pd.read_excel('../scRBA_build_GAMS_model/model/RBA_stoichiometry.xlsx')\n",
    "df_eqn.index = df_eqn.id.to_list()"
   ]
  },
  {
   "cell_type": "markdown",
   "metadata": {},
   "source": [
    "#### Assemble list of proteins and enzymes"
   ]
  },
  {
   "cell_type": "code",
   "execution_count": 3,
   "metadata": {},
   "outputs": [],
   "source": [
    "met_list_raw = []\n",
    "for i in df_eqn.index:\n",
    "    met_dict = metabolites_dict_from_reaction_equation_RBA(df_eqn.reaction[i])\n",
    "    met_list_raw += met_dict.keys()\n",
    "\n",
    "met_list = sorted(list(set(met_list_raw)))\n",
    "met_list = [i for i in met_list if i != '']\n",
    "met_list = [i for i in met_list if i.split('-', maxsplit=1)[0] in ['PRO', 'ENZ']]\n",
    "\n",
    "met_list_write = [\"'\" + i + \"'\" for i in met_list]\n",
    "met_list_write = ['/'] + met_list_write + ['/']"
   ]
  },
  {
   "cell_type": "code",
   "execution_count": 4,
   "metadata": {},
   "outputs": [],
   "source": [
    "with open('./enz_from_proteome/pro_and_enz.txt', 'w') as f:\n",
    "    f.write('\\n'.join(met_list_write))"
   ]
  },
  {
   "cell_type": "markdown",
   "metadata": {},
   "source": [
    "#### Assemble list of reactions regarding proteins-to-enzymes balance"
   ]
  },
  {
   "cell_type": "markdown",
   "metadata": {},
   "source": [
    "All reactions"
   ]
  },
  {
   "cell_type": "code",
   "execution_count": 5,
   "metadata": {},
   "outputs": [],
   "source": [
    "rxn_list = df_eqn.id.to_list()\n",
    "rxn_list = [i for i in rxn_list if i.split('-')[0] in ['ENZSYN', 'ENZLOAD']]\n",
    "\n",
    "for met in met_list:\n",
    "    stype,sid = met.split('-', maxsplit=1)\n",
    "    if stype == 'PRO':\n",
    "        rxn_list.append('PROIN-' + sid)\n",
    "        \n",
    "rxn_list_write = [\"'\" + i + \"'\" for i in rxn_list]\n",
    "rxn_list_write = ['/'] + rxn_list_write + ['/']"
   ]
  },
  {
   "cell_type": "code",
   "execution_count": 7,
   "metadata": {},
   "outputs": [],
   "source": [
    "with open('./enz_from_proteome/rxns_pro_and_enz.txt', 'w') as f:\n",
    "    f.write('\\n'.join(rxn_list_write))"
   ]
  },
  {
   "cell_type": "markdown",
   "metadata": {},
   "source": [
    "Enzyme synthesis and enzyme load reactions"
   ]
  },
  {
   "cell_type": "code",
   "execution_count": 8,
   "metadata": {},
   "outputs": [],
   "source": [
    "rxns_enz = df_eqn.id.to_list()\n",
    "rxns_enz = [i for i in rxns_enz if i.split('-')[0] in ['ENZSYN', 'ENZLOAD']]\n",
    "        \n",
    "rxns_enz = [\"'\" + i + \"'\" for i in rxns_enz]\n",
    "rxns_enz = ['/'] + rxns_enz + ['/']"
   ]
  },
  {
   "cell_type": "code",
   "execution_count": 9,
   "metadata": {},
   "outputs": [],
   "source": [
    "with open('./enz_from_proteome/rxns_enz.txt', 'w') as f:\n",
    "    f.write('\\n'.join(rxns_enz))"
   ]
  },
  {
   "cell_type": "markdown",
   "metadata": {},
   "source": [
    "#### Assemble stoichiometry"
   ]
  },
  {
   "cell_type": "code",
   "execution_count": 12,
   "metadata": {},
   "outputs": [],
   "source": [
    "rxns_enz = df_eqn.id.to_list()\n",
    "rxns_enz = [i for i in rxns_enz if i.split('-')[0] in ['ENZSYN', 'ENZLOAD']]\n",
    "\n",
    "sij = []\n",
    "for i in rxns_enz:\n",
    "    x = metabolites_dict_from_reaction_equation_RBA(df_eqn.reaction[i])\n",
    "    met_dict = dict()\n",
    "    for k,v in x.items():\n",
    "        if k == '':\n",
    "            continue\n",
    "        if v.is_integer():\n",
    "            met_dict[k] = int(v)\n",
    "        else:\n",
    "            met_dict[k] = v\n",
    "            \n",
    "    for k,v in met_dict.items():\n",
    "        sij.append(\"'\" + k + \"'.'\" + df_eqn.id[i] + \"' \" + str(v))\n",
    "    \n",
    "for met in met_list:\n",
    "    stype,sid = met.split('-', maxsplit=1)\n",
    "    if stype == 'PRO':\n",
    "        sij.append(\"'\" + met + \"'.'\" + \"PROIN-\" + sid + \"' 1\")\n",
    "\n",
    "sij = ['/'] + sij + ['/']"
   ]
  },
  {
   "cell_type": "code",
   "execution_count": 14,
   "metadata": {},
   "outputs": [],
   "source": [
    "with open('./enz_from_proteome/sij_pro_and_enz.txt', 'w') as f:\n",
    "    f.write('\\n'.join(sij))"
   ]
  },
  {
   "cell_type": "code",
   "execution_count": null,
   "metadata": {},
   "outputs": [],
   "source": []
  }
 ],
 "metadata": {
  "kernelspec": {
   "display_name": "Python 3",
   "language": "python",
   "name": "python3"
  },
  "language_info": {
   "codemirror_mode": {
    "name": "ipython",
    "version": 3
   },
   "file_extension": ".py",
   "mimetype": "text/x-python",
   "name": "python",
   "nbconvert_exporter": "python",
   "pygments_lexer": "ipython3",
   "version": "3.7.9"
  }
 },
 "nbformat": 4,
 "nbformat_minor": 4
}
