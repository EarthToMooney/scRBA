{
 "cells": [
  {
   "cell_type": "code",
   "execution_count": 17,
   "metadata": {},
   "outputs": [],
   "source": [
    "import pandas as pd\n",
    "import numpy as np\n",
    "import cobra\n",
    "\n",
    "import matplotlib.pyplot as plt\n",
    "import matplotlib.lines as mlines\n",
    "%matplotlib inline\n",
    "\n",
    "import sys\n",
    "sys.path.append('../pycore/')\n",
    "from utils import extract_details_from_rxnid"
   ]
  },
  {
   "cell_type": "markdown",
   "metadata": {},
   "source": [
    "#### Pathway"
   ]
  },
  {
   "cell_type": "code",
   "execution_count": 2,
   "metadata": {},
   "outputs": [],
   "source": [
    "df_pw = pd.read_excel('../scRBA_build_GAMS_model/input/GSM_pathway_assignment.xlsx')\n",
    "df_pw.index = df_pw.rxnid.to_list()"
   ]
  },
  {
   "cell_type": "markdown",
   "metadata": {},
   "source": [
    "#### Turnover numbers"
   ]
  },
  {
   "cell_type": "code",
   "execution_count": 3,
   "metadata": {},
   "outputs": [],
   "source": [
    "df_invitro = pd.read_excel('../scRBA_build_GAMS_model/input/PARAMS_kapp_compiled.xlsx')\n",
    "df_invitro.index = df_invitro.id.to_list()\n",
    "excl = ['SPONT', 'TRANSPORT', 'UNKNOWN', 'median_kcat']\n",
    "idx = [i for i in df_invitro.index if df_invitro.source[i] not in excl]\n",
    "df_invitro = df_invitro.loc[idx,:]"
   ]
  },
  {
   "cell_type": "code",
   "execution_count": 4,
   "metadata": {},
   "outputs": [],
   "source": [
    "with open('./kapps_in_vivo.txt') as f:\n",
    "    texts = f.read().split('\\n')[1:]\n",
    "invivo = dict()\n",
    "for i in texts:\n",
    "    k,v = i.split('\\t')\n",
    "    invivo[k] = float(v)"
   ]
  },
  {
   "cell_type": "code",
   "execution_count": 5,
   "metadata": {},
   "outputs": [],
   "source": [
    "rxns_common = set(invivo.keys()) & set(df_invitro.index)\n",
    "rxns_common = sorted(list(rxns_common))\n",
    "\n",
    "cols = ['rxnid', 'rxncore', 'subsystem_group', 'invitro', 'invivo']\n",
    "df_data = pd.DataFrame(index=rxns_common, columns=cols)\n",
    "df_data['rxnid'] = rxns_common\n",
    "\n",
    "for rxn in rxns_common:\n",
    "    _,rxncore,_,_ = extract_details_from_rxnid(rxn)\n",
    "    df_data.loc[rxn, 'rxncore'] = rxncore\n",
    "    df_data.loc[rxn, 'subsystem_group'] = df_pw.subsystem_group[rxncore]\n",
    "    df_data.loc[rxn, 'invitro'] = df_invitro.loc[rxn, 'kapp (1/s)']\n",
    "    df_data.loc[rxn, 'invivo'] = invivo[rxn]\n",
    "    \n",
    "for rxn in rxns_common:\n",
    "    if df_data.subsystem_group[rxn] in ['Other biosynthetic metabolism', 'Other metabolism']:\n",
    "        df_data.loc[rxn, 'subsystem_group'] = 'Other'"
   ]
  },
  {
   "cell_type": "code",
   "execution_count": 6,
   "metadata": {},
   "outputs": [
    {
     "data": {
      "text/plain": [
       "{'Amino acid metabolism',\n",
       " 'Central metabolism',\n",
       " 'Other',\n",
       " 'RNA metabolism',\n",
       " 'tRNA charging'}"
      ]
     },
     "execution_count": 6,
     "metadata": {},
     "output_type": "execute_result"
    }
   ],
   "source": [
    "set(df_data.subsystem_group)"
   ]
  },
  {
   "cell_type": "markdown",
   "metadata": {},
   "source": [
    "#### Histogram plot"
   ]
  },
  {
   "cell_type": "code",
   "execution_count": 36,
   "metadata": {},
   "outputs": [
    {
     "data": {
      "image/png": "[encoded data removed]",
      "text/plain": [
       "<Figure size 360x180 with 1 Axes>"
      ]
     },
     "metadata": {
      "needs_background": "light"
     },
     "output_type": "display_data"
    }
   ],
   "source": [
    "idx = df_data[df_data.subsystem_group == 'Central metabolism'].index\n",
    "vitro_vals = df_data.invitro[idx]\n",
    "vitro_vals = np.log10(vitro_vals.to_list())\n",
    "\n",
    "fig,ax = plt.subplots(figsize=(5,2.5))\n",
    "bins = [0.5*i for i in range(0,14)]\n",
    "ax.hist(vitro_vals, zorder=2, bins=bins, alpha=0.5, edgecolor='k', color='#2962ff');"
   ]
  },
  {
   "cell_type": "code",
   "execution_count": 35,
   "metadata": {},
   "outputs": [
    {
     "data": {
      "image/png": "[encoded data removed]",
      "text/plain": [
       "<Figure size 360x180 with 1 Axes>"
      ]
     },
     "metadata": {
      "needs_background": "light"
     },
     "output_type": "display_data"
    }
   ],
   "source": [
    "idx = df_data[df_data.subsystem_group == 'Central metabolism'].index\n",
    "vivo_vals = df_data.invivo[idx]\n",
    "vivo_vals = np.log10(vivo_vals.to_list())\n",
    "\n",
    "fig,ax = plt.subplots(figsize=(5,2.5))\n",
    "bins = [0.5*i for i in range(0,14)]\n",
    "ax.hist(vivo_vals, zorder=2, bins=bins, alpha=0.5, edgecolor='k', color='#d50000');"
   ]
  },
  {
   "cell_type": "code",
   "execution_count": 37,
   "metadata": {},
   "outputs": [
    {
     "data": {
      "image/png": "[encoded data removed]",
      "text/plain": [
       "<Figure size 360x180 with 1 Axes>"
      ]
     },
     "metadata": {
      "needs_background": "light"
     },
     "output_type": "display_data"
    }
   ],
   "source": [
    "idx = df_data[df_data.subsystem_group == 'Amino acid metabolism'].index\n",
    "vitro_vals = df_data.invitro[idx]\n",
    "vitro_vals = np.log10(vitro_vals.to_list())\n",
    "\n",
    "fig,ax = plt.subplots(figsize=(5,2.5))\n",
    "bins = [0.5*i for i in range(0,14)]\n",
    "ax.hist(vitro_vals, zorder=2, bins=bins, alpha=0.5, edgecolor='k', color='#2962ff');"
   ]
  },
  {
   "cell_type": "code",
   "execution_count": 38,
   "metadata": {},
   "outputs": [
    {
     "data": {
      "image/png": "[encoded data removed]",
      "text/plain": [
       "<Figure size 360x180 with 1 Axes>"
      ]
     },
     "metadata": {
      "needs_background": "light"
     },
     "output_type": "display_data"
    }
   ],
   "source": [
    "idx = df_data[df_data.subsystem_group == 'Amino acid metabolism'].index\n",
    "vivo_vals = df_data.invivo[idx]\n",
    "vivo_vals = np.log10(vivo_vals.to_list())\n",
    "\n",
    "fig,ax = plt.subplots(figsize=(5,2.5))\n",
    "bins = [0.5*i for i in range(0,14)]\n",
    "ax.hist(vivo_vals, zorder=2, bins=bins, alpha=0.5, edgecolor='k', color='#d50000');"
   ]
  },
  {
   "cell_type": "code",
   "execution_count": null,
   "metadata": {},
   "outputs": [],
   "source": []
  },
  {
   "cell_type": "code",
   "execution_count": 30,
   "metadata": {},
   "outputs": [
    {
     "data": {
      "text/plain": [
       "[0.0, 0.5, 1.0, 1.5, 2.0, 2.5, 3.0, 3.5, 4.0, 4.5, 5.0, 5.5, 6.0, 6.5]"
      ]
     },
     "execution_count": 30,
     "metadata": {},
     "output_type": "execute_result"
    }
   ],
   "source": [
    "bins"
   ]
  },
  {
   "cell_type": "code",
   "execution_count": 25,
   "metadata": {},
   "outputs": [
    {
     "data": {
      "text/plain": [
       "array([ 2.09451904,  2.09451904,  1.80757715,  1.80757715, -0.56989489,\n",
       "        2.7648097 ,  2.7648097 ,  1.15417679,  2.55496621,  2.07380569,\n",
       "        5.16465374,  2.18220917,  2.18220917,  2.55803986,  2.55803986,\n",
       "        2.55803986,  2.62846838,  4.54876379,  4.54876379,  6.23263252,\n",
       "        3.23147292,  2.38220576,  2.86328634,  3.81184065,  3.81184065,\n",
       "        2.03461447,  2.03461447,  3.21206006,  3.21206006,  3.21206006,\n",
       "        2.86158935,  1.70221334,  2.68482171,  2.96141318,  2.54470684,\n",
       "        3.95392623,  3.95392623,  3.61523354,  4.06946124,  2.76202189,\n",
       "        2.06256328,  2.83400911,  2.91394614,  2.91394614,  4.72777882,\n",
       "        2.73173259,  2.73173259,  3.65849922,  3.65849922,  3.65849922,\n",
       "        3.04510071,  3.00870492,  3.70040316,  3.70040316,  1.49811189,\n",
       "        1.49811189,  0.50842491,  0.50842491,  0.50842491,  0.50842491,\n",
       "        2.18931693])"
      ]
     },
     "execution_count": 25,
     "metadata": {},
     "output_type": "execute_result"
    }
   ],
   "source": [
    "np.log10(vivo_vals.to_list())"
   ]
  },
  {
   "cell_type": "markdown",
   "metadata": {},
   "source": [
    "#### On RXN-FECRq6_m_FWD-FECRq6CPLX"
   ]
  },
  {
   "cell_type": "code",
   "execution_count": 13,
   "metadata": {},
   "outputs": [
    {
     "name": "stdout",
     "output_type": "stream",
     "text": [
      "Q0105 COB gapfill_subunit 0.23845572234563903\n",
      "YBL045C COR1 truedata 414.585874181724\n",
      "YEL024W RIP1 truedata 89.8265530915519\n",
      "YOR065W CYT1 truedata 57.616563141209895\n",
      "YPR191W QCR2 truedata 616.489383008986\n",
      "YFR033C QCR6 truedata 0.23845572234563903\n",
      "YDR529C QCR7 truedata 171.997589289528\n",
      "YJL166W QCR8 truedata 8.42827874403981\n",
      "YGR183C QCR9 truedata 56.0653058305721\n",
      "YHR001W-A QCR10 truedata 152.175633960808\n"
     ]
    }
   ],
   "source": [
    "enzs = ['Q0105','YBL045C','YEL024W','YOR065W','YPR191W',\n",
    "        'YFR033C','YDR529C','YJL166W','YGR183C','YHR001W-A']\n",
    "df_proteomic = pd.read_excel('./Bjorkeroth_Nielsen_2020_data.xlsx')\n",
    "df_proteomic.index = df_proteomic.id.to_list()\n",
    "\n",
    "for enz in enzs:\n",
    "    print(enz, df_proteomic.name[enz], df_proteomic.type[enz], df_proteomic.loc[enz, 'conc (g/gDW)']*(10**6))"
   ]
  },
  {
   "cell_type": "code",
   "execution_count": null,
   "metadata": {},
   "outputs": [],
   "source": [
    "#internal_id\tstring_external_id\tabundance\traw_spectral_count\n",
    "628966\t4932.YBL045C\t395\t17985\n",
    "630444\t4932.YEL024W\t226\t4325\n",
    "634585\t4932.YOR065W\t166\t4001\n",
    "635445\t4932.YPR191W\t529\t22566\n",
    "630858\t4932.YFR033C\t99.5\t1762\n",
    "630397\t4932.YDR529C\t248\t4069\n",
    "632219\t4932.YJL166W\t72.1\t1016\n",
    "631360\t4932.YGR183C\t80.0\t448\n",
    "631541\t4932.YHR001W-A\t116\t934"
   ]
  },
  {
   "cell_type": "code",
   "execution_count": 11,
   "metadata": {},
   "outputs": [
    {
     "data": {
      "text/html": [
       "<div>\n",
       "<style scoped>\n",
       "    .dataframe tbody tr th:only-of-type {\n",
       "        vertical-align: middle;\n",
       "    }\n",
       "\n",
       "    .dataframe tbody tr th {\n",
       "        vertical-align: top;\n",
       "    }\n",
       "\n",
       "    .dataframe thead th {\n",
       "        text-align: right;\n",
       "    }\n",
       "</style>\n",
       "<table border=\"1\" class=\"dataframe\">\n",
       "  <thead>\n",
       "    <tr style=\"text-align: right;\">\n",
       "      <th></th>\n",
       "      <th>id</th>\n",
       "      <th>name</th>\n",
       "      <th>uniprot</th>\n",
       "      <th>MW (g/mmol)</th>\n",
       "      <th>type</th>\n",
       "      <th>conc (g/gDW)</th>\n",
       "      <th>vtrans (mmol/gDW/h)</th>\n",
       "    </tr>\n",
       "  </thead>\n",
       "  <tbody>\n",
       "    <tr>\n",
       "      <th>0</th>\n",
       "      <td>Q0045</td>\n",
       "      <td>COX1</td>\n",
       "      <td>P00401</td>\n",
       "      <td>59.59198</td>\n",
       "      <td>truedata</td>\n",
       "      <td>1.630526e-05</td>\n",
       "      <td>1.113613e-07</td>\n",
       "    </tr>\n",
       "    <tr>\n",
       "      <th>1</th>\n",
       "      <td>Q0275</td>\n",
       "      <td>COX3</td>\n",
       "      <td>P00420</td>\n",
       "      <td>31.00191</td>\n",
       "      <td>truedata</td>\n",
       "      <td>5.902110e-06</td>\n",
       "      <td>7.748422e-08</td>\n",
       "    </tr>\n",
       "    <tr>\n",
       "      <th>2</th>\n",
       "      <td>YAL012W</td>\n",
       "      <td>CYS3</td>\n",
       "      <td>P31373</td>\n",
       "      <td>44.97039</td>\n",
       "      <td>truedata</td>\n",
       "      <td>2.005035e-04</td>\n",
       "      <td>1.814637e-06</td>\n",
       "    </tr>\n",
       "    <tr>\n",
       "      <th>3</th>\n",
       "      <td>YAL022C</td>\n",
       "      <td>FUN26</td>\n",
       "      <td>P31381</td>\n",
       "      <td>58.66931</td>\n",
       "      <td>truedata</td>\n",
       "      <td>1.374655e-06</td>\n",
       "      <td>9.536243e-09</td>\n",
       "    </tr>\n",
       "    <tr>\n",
       "      <th>4</th>\n",
       "      <td>YAL023C</td>\n",
       "      <td>PMT2</td>\n",
       "      <td>P31382</td>\n",
       "      <td>88.00783</td>\n",
       "      <td>truedata</td>\n",
       "      <td>6.752136e-05</td>\n",
       "      <td>3.122585e-07</td>\n",
       "    </tr>\n",
       "    <tr>\n",
       "      <th>...</th>\n",
       "      <td>...</td>\n",
       "      <td>...</td>\n",
       "      <td>...</td>\n",
       "      <td>...</td>\n",
       "      <td>...</td>\n",
       "      <td>...</td>\n",
       "      <td>...</td>\n",
       "    </tr>\n",
       "    <tr>\n",
       "      <th>930</th>\n",
       "      <td>YLR011W</td>\n",
       "      <td>LOT6</td>\n",
       "      <td>Q07923</td>\n",
       "      <td>22.53961</td>\n",
       "      <td>gapfill_rbacalc</td>\n",
       "      <td>3.285584e-08</td>\n",
       "      <td>5.932812e-10</td>\n",
       "    </tr>\n",
       "    <tr>\n",
       "      <th>931</th>\n",
       "      <td>YCL064C</td>\n",
       "      <td>CHA1</td>\n",
       "      <td>P25379</td>\n",
       "      <td>41.44923</td>\n",
       "      <td>gapfill_rbacalc</td>\n",
       "      <td>3.285584e-08</td>\n",
       "      <td>3.226194e-10</td>\n",
       "    </tr>\n",
       "    <tr>\n",
       "      <th>932</th>\n",
       "      <td>YIL134W</td>\n",
       "      <td>FLX1</td>\n",
       "      <td>P40464</td>\n",
       "      <td>35.96869</td>\n",
       "      <td>gapfill_rbacalc</td>\n",
       "      <td>3.285584e-08</td>\n",
       "      <td>3.717769e-10</td>\n",
       "    </tr>\n",
       "    <tr>\n",
       "      <th>933</th>\n",
       "      <td>YGL186C</td>\n",
       "      <td>TPN1</td>\n",
       "      <td>P53099</td>\n",
       "      <td>66.84040</td>\n",
       "      <td>gapfill_rbacalc</td>\n",
       "      <td>3.285584e-08</td>\n",
       "      <td>2.000635e-10</td>\n",
       "    </tr>\n",
       "    <tr>\n",
       "      <th>934</th>\n",
       "      <td>YDL024C</td>\n",
       "      <td>DIA3</td>\n",
       "      <td>P52290</td>\n",
       "      <td>52.63544</td>\n",
       "      <td>gapfill_rbacalc</td>\n",
       "      <td>3.285584e-08</td>\n",
       "      <td>2.540556e-10</td>\n",
       "    </tr>\n",
       "  </tbody>\n",
       "</table>\n",
       "<p>935 rows × 7 columns</p>\n",
       "</div>"
      ],
      "text/plain": [
       "          id   name uniprot  MW (g/mmol)             type  conc (g/gDW)  \\\n",
       "0      Q0045   COX1  P00401     59.59198         truedata  1.630526e-05   \n",
       "1      Q0275   COX3  P00420     31.00191         truedata  5.902110e-06   \n",
       "2    YAL012W   CYS3  P31373     44.97039         truedata  2.005035e-04   \n",
       "3    YAL022C  FUN26  P31381     58.66931         truedata  1.374655e-06   \n",
       "4    YAL023C   PMT2  P31382     88.00783         truedata  6.752136e-05   \n",
       "..       ...    ...     ...          ...              ...           ...   \n",
       "930  YLR011W   LOT6  Q07923     22.53961  gapfill_rbacalc  3.285584e-08   \n",
       "931  YCL064C   CHA1  P25379     41.44923  gapfill_rbacalc  3.285584e-08   \n",
       "932  YIL134W   FLX1  P40464     35.96869  gapfill_rbacalc  3.285584e-08   \n",
       "933  YGL186C   TPN1  P53099     66.84040  gapfill_rbacalc  3.285584e-08   \n",
       "934  YDL024C   DIA3  P52290     52.63544  gapfill_rbacalc  3.285584e-08   \n",
       "\n",
       "     vtrans (mmol/gDW/h)  \n",
       "0           1.113613e-07  \n",
       "1           7.748422e-08  \n",
       "2           1.814637e-06  \n",
       "3           9.536243e-09  \n",
       "4           3.122585e-07  \n",
       "..                   ...  \n",
       "930         5.932812e-10  \n",
       "931         3.226194e-10  \n",
       "932         3.717769e-10  \n",
       "933         2.000635e-10  \n",
       "934         2.540556e-10  \n",
       "\n",
       "[935 rows x 7 columns]"
      ]
     },
     "execution_count": 11,
     "metadata": {},
     "output_type": "execute_result"
    }
   ],
   "source": [
    "df_proteomic"
   ]
  },
  {
   "cell_type": "code",
   "execution_count": null,
   "metadata": {},
   "outputs": [],
   "source": []
  },
  {
   "cell_type": "code",
   "execution_count": null,
   "metadata": {},
   "outputs": [],
   "source": []
  },
  {
   "cell_type": "code",
   "execution_count": null,
   "metadata": {},
   "outputs": [],
   "source": []
  },
  {
   "cell_type": "code",
   "execution_count": 9,
   "metadata": {},
   "outputs": [
    {
     "data": {
      "text/html": [
       "<div>\n",
       "<style scoped>\n",
       "    .dataframe tbody tr th:only-of-type {\n",
       "        vertical-align: middle;\n",
       "    }\n",
       "\n",
       "    .dataframe tbody tr th {\n",
       "        vertical-align: top;\n",
       "    }\n",
       "\n",
       "    .dataframe thead th {\n",
       "        text-align: right;\n",
       "    }\n",
       "</style>\n",
       "<table border=\"1\" class=\"dataframe\">\n",
       "  <thead>\n",
       "    <tr style=\"text-align: right;\">\n",
       "      <th></th>\n",
       "      <th>rxnid</th>\n",
       "      <th>rxncore</th>\n",
       "      <th>subsystem_group</th>\n",
       "      <th>invitro</th>\n",
       "      <th>invivo</th>\n",
       "    </tr>\n",
       "  </thead>\n",
       "  <tbody>\n",
       "    <tr>\n",
       "      <th>RXN-FECRq6_m_FWD-FECRq6CPLX</th>\n",
       "      <td>RXN-FECRq6_m_FWD-FECRq6CPLX</td>\n",
       "      <td>FECRq6_m</td>\n",
       "      <td>Central metabolism</td>\n",
       "      <td>110</td>\n",
       "      <td>1.70857e+06</td>\n",
       "    </tr>\n",
       "  </tbody>\n",
       "</table>\n",
       "</div>"
      ],
      "text/plain": [
       "                                                   rxnid   rxncore  \\\n",
       "RXN-FECRq6_m_FWD-FECRq6CPLX  RXN-FECRq6_m_FWD-FECRq6CPLX  FECRq6_m   \n",
       "\n",
       "                                subsystem_group invitro       invivo  \n",
       "RXN-FECRq6_m_FWD-FECRq6CPLX  Central metabolism     110  1.70857e+06  "
      ]
     },
     "execution_count": 9,
     "metadata": {},
     "output_type": "execute_result"
    }
   ],
   "source": [
    "df_data[(df_data.subsystem_group == 'Central metabolism') & (df_data.invivo > 10**6)]"
   ]
  },
  {
   "cell_type": "code",
   "execution_count": 69,
   "metadata": {},
   "outputs": [
    {
     "data": {
      "image/png": "[encoded data removed]",
      "text/plain": [
       "<Figure size 360x360 with 1 Axes>"
      ]
     },
     "metadata": {
      "needs_background": "light"
     },
     "output_type": "display_data"
    }
   ],
   "source": [
    "idx = df_data[df_data.subsystem_group == 'Central metabolism'].index\n",
    "vitro_vals = df_data.invitro[idx]\n",
    "vivo_vals = df_data.invivo[idx]\n",
    "\n",
    "fig,ax = plt.subplots(figsize=(5,5))\n",
    "ax.scatter(vitro_vals, vivo_vals, zorder=2)\n",
    "\n",
    "ax.set_xscale('log', base=10)\n",
    "ax.set_yscale('log', base=10)\n",
    "\n",
    "ticks = [-3, 0, 3, 6]; ticklabels = [str(i) for i in ticks]\n",
    "ticks = [10**i for i in ticks]\n",
    "ax.set_xticks(ticks); ax.set_xticklabels(ticklabels, fontsize=18)\n",
    "ax.set_yticks(ticks); ax.set_yticklabels(ticklabels, fontsize=18)\n",
    "ax.set_xlim(10**-4, 10**7);\n",
    "ax.set_ylim(10**-4, 10**7);\n",
    "\n",
    "line = mlines.Line2D([10**-4, 10**7], [10**-4, 10**7], color='k', linestyle='--', zorder=1)\n",
    "ax.add_line(line);"
   ]
  },
  {
   "cell_type": "code",
   "execution_count": 70,
   "metadata": {},
   "outputs": [
    {
     "data": {
      "image/png": "[encoded data removed]",
      "text/plain": [
       "<Figure size 360x360 with 1 Axes>"
      ]
     },
     "metadata": {
      "needs_background": "light"
     },
     "output_type": "display_data"
    }
   ],
   "source": [
    "idx = df_data[df_data.subsystem_group == 'Amino acid metabolism'].index\n",
    "vitro_vals = df_data.invitro[idx]\n",
    "vivo_vals = df_data.invivo[idx]\n",
    "\n",
    "fig,ax = plt.subplots(figsize=(5,5))\n",
    "ax.scatter(vitro_vals, vivo_vals, zorder=2)\n",
    "\n",
    "ax.set_xscale('log', base=10)\n",
    "ax.set_yscale('log', base=10)\n",
    "\n",
    "ticks = [-3, 0, 3, 6]; ticklabels = [str(i) for i in ticks]\n",
    "ticks = [10**i for i in ticks]\n",
    "ax.set_xticks(ticks); ax.set_xticklabels(ticklabels, fontsize=18)\n",
    "ax.set_yticks(ticks); ax.set_yticklabels(ticklabels, fontsize=18)\n",
    "ax.set_xlim(10**-4, 10**7);\n",
    "ax.set_ylim(10**-4, 10**7);\n",
    "\n",
    "line = mlines.Line2D([10**-4, 10**7], [10**-4, 10**7], color='k', linestyle='--', zorder=1)\n",
    "ax.add_line(line);"
   ]
  },
  {
   "cell_type": "code",
   "execution_count": 71,
   "metadata": {},
   "outputs": [
    {
     "data": {
      "image/png": "[encoded data removed]",
      "text/plain": [
       "<Figure size 360x360 with 1 Axes>"
      ]
     },
     "metadata": {
      "needs_background": "light"
     },
     "output_type": "display_data"
    }
   ],
   "source": [
    "idx = df_data[df_data.subsystem_group == 'RNA metabolism'].index\n",
    "vitro_vals = df_data.invitro[idx]\n",
    "vivo_vals = df_data.invivo[idx]\n",
    "\n",
    "fig,ax = plt.subplots(figsize=(5,5))\n",
    "ax.scatter(vitro_vals, vivo_vals, zorder=2)\n",
    "\n",
    "ax.set_xscale('log', base=10)\n",
    "ax.set_yscale('log', base=10)\n",
    "\n",
    "ticks = [-3, 0, 3, 6]; ticklabels = [str(i) for i in ticks]\n",
    "ticks = [10**i for i in ticks]\n",
    "ax.set_xticks(ticks); ax.set_xticklabels(ticklabels, fontsize=18)\n",
    "ax.set_yticks(ticks); ax.set_yticklabels(ticklabels, fontsize=18)\n",
    "ax.set_xlim(10**-4, 10**7);\n",
    "ax.set_ylim(10**-4, 10**7);\n",
    "\n",
    "line = mlines.Line2D([10**-4, 10**7], [10**-4, 10**7], color='k', linestyle='--', zorder=1)\n",
    "ax.add_line(line);"
   ]
  },
  {
   "cell_type": "code",
   "execution_count": 72,
   "metadata": {},
   "outputs": [
    {
     "data": {
      "image/png": "[encoded data removed]",
      "text/plain": [
       "<Figure size 360x360 with 1 Axes>"
      ]
     },
     "metadata": {
      "needs_background": "light"
     },
     "output_type": "display_data"
    }
   ],
   "source": [
    "idx = df_data[df_data.subsystem_group == 'tRNA charging'].index\n",
    "vitro_vals = df_data.invitro[idx]\n",
    "vivo_vals = df_data.invivo[idx]\n",
    "\n",
    "fig,ax = plt.subplots(figsize=(5,5))\n",
    "ax.scatter(vitro_vals, vivo_vals, zorder=2)\n",
    "\n",
    "ax.set_xscale('log', base=10)\n",
    "ax.set_yscale('log', base=10)\n",
    "\n",
    "ticks = [-3, 0, 3, 6]; ticklabels = [str(i) for i in ticks]\n",
    "ticks = [10**i for i in ticks]\n",
    "ax.set_xticks(ticks); ax.set_xticklabels(ticklabels, fontsize=18)\n",
    "ax.set_yticks(ticks); ax.set_yticklabels(ticklabels, fontsize=18)\n",
    "ax.set_xlim(10**-4, 10**7);\n",
    "ax.set_ylim(10**-4, 10**7);\n",
    "\n",
    "line = mlines.Line2D([10**-4, 10**7], [10**-4, 10**7], color='k', linestyle='--', zorder=1)\n",
    "ax.add_line(line);"
   ]
  },
  {
   "cell_type": "code",
   "execution_count": 73,
   "metadata": {},
   "outputs": [
    {
     "data": {
      "image/png": "[encoded data removed]",
      "text/plain": [
       "<Figure size 360x360 with 1 Axes>"
      ]
     },
     "metadata": {
      "needs_background": "light"
     },
     "output_type": "display_data"
    }
   ],
   "source": [
    "idx = df_data[df_data.subsystem_group == 'Other'].index\n",
    "vitro_vals = df_data.invitro[idx]\n",
    "vivo_vals = df_data.invivo[idx]\n",
    "\n",
    "fig,ax = plt.subplots(figsize=(5,5))\n",
    "ax.scatter(vitro_vals, vivo_vals, zorder=2)\n",
    "\n",
    "ax.set_xscale('log', base=10)\n",
    "ax.set_yscale('log', base=10)\n",
    "\n",
    "ticks = [-3, 0, 3, 6]; ticklabels = [str(i) for i in ticks]\n",
    "ticks = [10**i for i in ticks]\n",
    "ax.set_xticks(ticks); ax.set_xticklabels(ticklabels, fontsize=18)\n",
    "ax.set_yticks(ticks); ax.set_yticklabels(ticklabels, fontsize=18)\n",
    "ax.set_xlim(10**-4, 10**7);\n",
    "ax.set_ylim(10**-4, 10**7);\n",
    "\n",
    "line = mlines.Line2D([10**-4, 10**7], [10**-4, 10**7], color='k', linestyle='--', zorder=1)\n",
    "ax.add_line(line);"
   ]
  },
  {
   "cell_type": "code",
   "execution_count": null,
   "metadata": {},
   "outputs": [],
   "source": []
  },
  {
   "cell_type": "code",
   "execution_count": 46,
   "metadata": {},
   "outputs": [
    {
     "data": {
      "text/html": [
       "<div>\n",
       "<style scoped>\n",
       "    .dataframe tbody tr th:only-of-type {\n",
       "        vertical-align: middle;\n",
       "    }\n",
       "\n",
       "    .dataframe tbody tr th {\n",
       "        vertical-align: top;\n",
       "    }\n",
       "\n",
       "    .dataframe thead th {\n",
       "        text-align: right;\n",
       "    }\n",
       "</style>\n",
       "<table border=\"1\" class=\"dataframe\">\n",
       "  <thead>\n",
       "    <tr style=\"text-align: right;\">\n",
       "      <th></th>\n",
       "      <th>id</th>\n",
       "      <th>kapp (1/s)</th>\n",
       "      <th>source</th>\n",
       "    </tr>\n",
       "  </thead>\n",
       "  <tbody>\n",
       "    <tr>\n",
       "      <th>RXN-BTDDH_c_FWD-YAL060W</th>\n",
       "      <td>RXN-BTDDH_c_FWD-YAL060W</td>\n",
       "      <td>1633.333333</td>\n",
       "      <td>Chen2021_invitro_SABIORK</td>\n",
       "    </tr>\n",
       "    <tr>\n",
       "      <th>RXN-BTDDH_c_REV-YAL060W</th>\n",
       "      <td>RXN-BTDDH_c_REV-YAL060W</td>\n",
       "      <td>1633.333333</td>\n",
       "      <td>Chen2021_invitro_SABIORK</td>\n",
       "    </tr>\n",
       "    <tr>\n",
       "      <th>RXN-13GS_c_FWD-GSC2RHO1</th>\n",
       "      <td>RXN-13GS_c_FWD-GSC2RHO1</td>\n",
       "      <td>13.333547</td>\n",
       "      <td>Oftadeh2021_invitro_GECKO</td>\n",
       "    </tr>\n",
       "    <tr>\n",
       "      <th>RXN-13GS_c_FWD-GSC1RHO1</th>\n",
       "      <td>RXN-13GS_c_FWD-GSC1RHO1</td>\n",
       "      <td>13.333547</td>\n",
       "      <td>Oftadeh2021_invitro_GECKO</td>\n",
       "    </tr>\n",
       "    <tr>\n",
       "      <th>RXN-PRMICI_c_FWD-YIL020C</th>\n",
       "      <td>RXN-PRMICI_c_FWD-YIL020C</td>\n",
       "      <td>31.999836</td>\n",
       "      <td>Oftadeh2021_invitro_GECKO</td>\n",
       "    </tr>\n",
       "    <tr>\n",
       "      <th>...</th>\n",
       "      <td>...</td>\n",
       "      <td>...</td>\n",
       "      <td>...</td>\n",
       "    </tr>\n",
       "    <tr>\n",
       "      <th>RXN-PI35P5P_vm_FWD-VAC14FIG4</th>\n",
       "      <td>RXN-PI35P5P_vm_FWD-VAC14FIG4</td>\n",
       "      <td>832.991807</td>\n",
       "      <td>Oftadeh2021_invitro_GECKO</td>\n",
       "    </tr>\n",
       "    <tr>\n",
       "      <th>RXN-IPCS_g_FWD-KEI1AUR1</th>\n",
       "      <td>RXN-IPCS_g_FWD-KEI1AUR1</td>\n",
       "      <td>986.987556</td>\n",
       "      <td>Oftadeh2021_invitro_GECKO</td>\n",
       "    </tr>\n",
       "    <tr>\n",
       "      <th>RXN-MIPCS_g_FWD-CSG2CSH1</th>\n",
       "      <td>RXN-MIPCS_g_FWD-CSG2CSH1</td>\n",
       "      <td>986.987556</td>\n",
       "      <td>Oftadeh2021_invitro_GECKO</td>\n",
       "    </tr>\n",
       "    <tr>\n",
       "      <th>RXN-MIPCS_g_FWD-CSG2SUR1</th>\n",
       "      <td>RXN-MIPCS_g_FWD-CSG2SUR1</td>\n",
       "      <td>70.899660</td>\n",
       "      <td>Oftadeh2021_invitro_GECKO</td>\n",
       "    </tr>\n",
       "    <tr>\n",
       "      <th>RXN-AKGDH_m_FWD-KGDCPLX</th>\n",
       "      <td>RXN-AKGDH_m_FWD-KGDCPLX</td>\n",
       "      <td>27.800018</td>\n",
       "      <td>Oftadeh2021_invitro_GECKO</td>\n",
       "    </tr>\n",
       "  </tbody>\n",
       "</table>\n",
       "<p>1436 rows × 3 columns</p>\n",
       "</div>"
      ],
      "text/plain": [
       "                                                        id   kapp (1/s)  \\\n",
       "RXN-BTDDH_c_FWD-YAL060W            RXN-BTDDH_c_FWD-YAL060W  1633.333333   \n",
       "RXN-BTDDH_c_REV-YAL060W            RXN-BTDDH_c_REV-YAL060W  1633.333333   \n",
       "RXN-13GS_c_FWD-GSC2RHO1            RXN-13GS_c_FWD-GSC2RHO1    13.333547   \n",
       "RXN-13GS_c_FWD-GSC1RHO1            RXN-13GS_c_FWD-GSC1RHO1    13.333547   \n",
       "RXN-PRMICI_c_FWD-YIL020C          RXN-PRMICI_c_FWD-YIL020C    31.999836   \n",
       "...                                                    ...          ...   \n",
       "RXN-PI35P5P_vm_FWD-VAC14FIG4  RXN-PI35P5P_vm_FWD-VAC14FIG4   832.991807   \n",
       "RXN-IPCS_g_FWD-KEI1AUR1            RXN-IPCS_g_FWD-KEI1AUR1   986.987556   \n",
       "RXN-MIPCS_g_FWD-CSG2CSH1          RXN-MIPCS_g_FWD-CSG2CSH1   986.987556   \n",
       "RXN-MIPCS_g_FWD-CSG2SUR1          RXN-MIPCS_g_FWD-CSG2SUR1    70.899660   \n",
       "RXN-AKGDH_m_FWD-KGDCPLX            RXN-AKGDH_m_FWD-KGDCPLX    27.800018   \n",
       "\n",
       "                                                 source  \n",
       "RXN-BTDDH_c_FWD-YAL060W        Chen2021_invitro_SABIORK  \n",
       "RXN-BTDDH_c_REV-YAL060W        Chen2021_invitro_SABIORK  \n",
       "RXN-13GS_c_FWD-GSC2RHO1       Oftadeh2021_invitro_GECKO  \n",
       "RXN-13GS_c_FWD-GSC1RHO1       Oftadeh2021_invitro_GECKO  \n",
       "RXN-PRMICI_c_FWD-YIL020C      Oftadeh2021_invitro_GECKO  \n",
       "...                                                 ...  \n",
       "RXN-PI35P5P_vm_FWD-VAC14FIG4  Oftadeh2021_invitro_GECKO  \n",
       "RXN-IPCS_g_FWD-KEI1AUR1       Oftadeh2021_invitro_GECKO  \n",
       "RXN-MIPCS_g_FWD-CSG2CSH1      Oftadeh2021_invitro_GECKO  \n",
       "RXN-MIPCS_g_FWD-CSG2SUR1      Oftadeh2021_invitro_GECKO  \n",
       "RXN-AKGDH_m_FWD-KGDCPLX       Oftadeh2021_invitro_GECKO  \n",
       "\n",
       "[1436 rows x 3 columns]"
      ]
     },
     "execution_count": 46,
     "metadata": {},
     "output_type": "execute_result"
    }
   ],
   "source": [
    "df_invitro"
   ]
  },
  {
   "cell_type": "code",
   "execution_count": 42,
   "metadata": {},
   "outputs": [
    {
     "data": {
      "text/html": [
       "<div>\n",
       "<style scoped>\n",
       "    .dataframe tbody tr th:only-of-type {\n",
       "        vertical-align: middle;\n",
       "    }\n",
       "\n",
       "    .dataframe tbody tr th {\n",
       "        vertical-align: top;\n",
       "    }\n",
       "\n",
       "    .dataframe thead th {\n",
       "        text-align: right;\n",
       "    }\n",
       "</style>\n",
       "<table border=\"1\" class=\"dataframe\">\n",
       "  <thead>\n",
       "    <tr style=\"text-align: right;\">\n",
       "      <th></th>\n",
       "      <th>id</th>\n",
       "      <th>kapp (1/s)</th>\n",
       "      <th>source</th>\n",
       "    </tr>\n",
       "  </thead>\n",
       "  <tbody>\n",
       "    <tr>\n",
       "      <th>RXN-BTDDH_c_FWD-YAL060W</th>\n",
       "      <td>RXN-BTDDH_c_FWD-YAL060W</td>\n",
       "      <td>1633.333333</td>\n",
       "      <td>Chen2021_invitro_SABIORK</td>\n",
       "    </tr>\n",
       "    <tr>\n",
       "      <th>RXN-BTDDH_c_REV-YAL060W</th>\n",
       "      <td>RXN-BTDDH_c_REV-YAL060W</td>\n",
       "      <td>1633.333333</td>\n",
       "      <td>Chen2021_invitro_SABIORK</td>\n",
       "    </tr>\n",
       "    <tr>\n",
       "      <th>RXN-13GS_c_FWD-GSC2RHO1</th>\n",
       "      <td>RXN-13GS_c_FWD-GSC2RHO1</td>\n",
       "      <td>13.333547</td>\n",
       "      <td>Oftadeh2021_invitro_GECKO</td>\n",
       "    </tr>\n",
       "    <tr>\n",
       "      <th>RXN-13GS_c_FWD-GSC1RHO1</th>\n",
       "      <td>RXN-13GS_c_FWD-GSC1RHO1</td>\n",
       "      <td>13.333547</td>\n",
       "      <td>Oftadeh2021_invitro_GECKO</td>\n",
       "    </tr>\n",
       "    <tr>\n",
       "      <th>RXN-PRMICI_c_FWD-YIL020C</th>\n",
       "      <td>RXN-PRMICI_c_FWD-YIL020C</td>\n",
       "      <td>31.999836</td>\n",
       "      <td>Oftadeh2021_invitro_GECKO</td>\n",
       "    </tr>\n",
       "  </tbody>\n",
       "</table>\n",
       "</div>"
      ],
      "text/plain": [
       "                                                id   kapp (1/s)  \\\n",
       "RXN-BTDDH_c_FWD-YAL060W    RXN-BTDDH_c_FWD-YAL060W  1633.333333   \n",
       "RXN-BTDDH_c_REV-YAL060W    RXN-BTDDH_c_REV-YAL060W  1633.333333   \n",
       "RXN-13GS_c_FWD-GSC2RHO1    RXN-13GS_c_FWD-GSC2RHO1    13.333547   \n",
       "RXN-13GS_c_FWD-GSC1RHO1    RXN-13GS_c_FWD-GSC1RHO1    13.333547   \n",
       "RXN-PRMICI_c_FWD-YIL020C  RXN-PRMICI_c_FWD-YIL020C    31.999836   \n",
       "\n",
       "                                             source  \n",
       "RXN-BTDDH_c_FWD-YAL060W    Chen2021_invitro_SABIORK  \n",
       "RXN-BTDDH_c_REV-YAL060W    Chen2021_invitro_SABIORK  \n",
       "RXN-13GS_c_FWD-GSC2RHO1   Oftadeh2021_invitro_GECKO  \n",
       "RXN-13GS_c_FWD-GSC1RHO1   Oftadeh2021_invitro_GECKO  \n",
       "RXN-PRMICI_c_FWD-YIL020C  Oftadeh2021_invitro_GECKO  "
      ]
     },
     "execution_count": 42,
     "metadata": {},
     "output_type": "execute_result"
    }
   ],
   "source": [
    "df_invitro.head()"
   ]
  },
  {
   "cell_type": "code",
   "execution_count": null,
   "metadata": {},
   "outputs": [],
   "source": []
  },
  {
   "cell_type": "code",
   "execution_count": null,
   "metadata": {},
   "outputs": [],
   "source": []
  },
  {
   "cell_type": "code",
   "execution_count": 5,
   "metadata": {},
   "outputs": [
    {
     "data": {
      "image/png": "[encoded data removed]",
      "text/plain": [
       "<Figure size 360x360 with 1 Axes>"
      ]
     },
     "metadata": {
      "needs_background": "light"
     },
     "output_type": "display_data"
    }
   ],
   "source": [
    "fig,ax = plt.subplots(figsize=(5,5))\n",
    "ax.scatter(vitro_vals, vivo_vals, zorder=2)\n",
    "\n",
    "ax.set_xscale('log', base=10)\n",
    "ax.set_yscale('log', base=10)\n",
    "\n",
    "ticks = [-3, 0, 3, 6]\n",
    "ticks = [10**i for i in ticks]\n",
    "ax.set_xticks(ticks)\n",
    "ax.set_yticks(ticks)\n",
    "ax.set_xlim(10**-4, 10**7);\n",
    "ax.set_ylim(10**-4, 10**7);\n",
    "\n",
    "line = mlines.Line2D([10**-4, 10**7], [10**-4, 10**7], color='k', linestyle='--', zorder=1)\n",
    "ax.add_line(line);"
   ]
  },
  {
   "cell_type": "code",
   "execution_count": null,
   "metadata": {},
   "outputs": [],
   "source": []
  },
  {
   "cell_type": "code",
   "execution_count": null,
   "metadata": {},
   "outputs": [],
   "source": []
  },
  {
   "cell_type": "code",
   "execution_count": null,
   "metadata": {},
   "outputs": [],
   "source": []
  },
  {
   "cell_type": "markdown",
   "metadata": {},
   "source": [
    "#### Working scripts"
   ]
  },
  {
   "cell_type": "code",
   "execution_count": 6,
   "metadata": {
    "scrolled": true
   },
   "outputs": [
    {
     "name": "stdout",
     "output_type": "stream",
     "text": [
      "Using license file /home/hvdinh16/Workspace/Softwares/gurobi910/linux64/gurobi.lic\n",
      "Academic license - for non-commercial use only - expires 2022-08-08\n"
     ]
    }
   ],
   "source": [
    "model = cobra.io.load_json_model('../scRBA_build_GAMS_model/input/GSM_y834_hvd_v6_rba.json')"
   ]
  },
  {
   "cell_type": "code",
   "execution_count": 7,
   "metadata": {},
   "outputs": [],
   "source": [
    "rxns_pathway = dict()\n",
    "for rxn in rxns_common:\n",
    "    _,rxncore,_,_ = extract_details_from_rxnid(rxn)\n",
    "    rxns_pathway[rxncore] = model.reactions.get_by_id(rxncore).subsystem"
   ]
  },
  {
   "cell_type": "code",
   "execution_count": 8,
   "metadata": {},
   "outputs": [],
   "source": [
    "cols = ['rxnid', 'name', 'subsystem_group', 'subsystem']\n",
    "rxns_model = sorted([rxn.id for rxn in model.reactions])\n",
    "df_pathway = pd.DataFrame(columns=cols, index=rxns_model)\n",
    "df_pathway['rxnid'] = df_pathway.index.to_list()\n",
    "\n",
    "for rxn in df_pathway.index:\n",
    "    df_pathway.loc[rxn, 'subsystem'] = model.reactions.get_by_id(rxn).subsystem\n",
    "    df_pathway.loc[rxn, 'name'] = model.reactions.get_by_id(rxn).name"
   ]
  },
  {
   "cell_type": "code",
   "execution_count": 30,
   "metadata": {},
   "outputs": [],
   "source": [
    "pathway_group = {\n",
    "    'Central metabolism': ['Acetyl-CoA synthesis',\n",
    "                           'Citric acid cycle',\n",
    "                           'Glycolysis / Gluconeogenesis',\n",
    "                           'Glyoxylate metabolism',\n",
    "                           'Oxidative phosphorylation',\n",
    "                           'Pentose phosphate pathway',\n",
    "                           'Pyruvate metabolism',\n",
    "                           'Methylglyoxal metabolism'],\n",
    "    'Amino acid metabolism': ['Alanine, aspartate and glutamate metabolism',\n",
    "                              'Arginine and proline metabolism',\n",
    "                              'Cysteine and methionine metabolism',\n",
    "                              'Glycine, serine and threonine metabolism',\n",
    "                              'Histidine metabolism',\n",
    "                              'Lysine metabolism',\n",
    "                              'Phenylalanine, tyrosine and tryptophan metabolism',\n",
    "                              'Valine, leucine and isoleucine metabolism',\n",
    "                              'Valine, leucine and isoleucine biosynthesis',\n",
    "                              'Vitamin B6 metabolism'],\n",
    "    'RNA metabolism': ['Purine metabolism',\n",
    "                       'Pyrimidine metabolism'],\n",
    "    'Other biosynthetic metabolism': ['Biosynthesis of unsaturated fatty acids',\n",
    "                                      'Cell wall biosynthesis',\n",
    "                                      'Ergosterol biosynthesis',\n",
    "                                      'Fatty acid biosynthesis',\n",
    "                                      'Fatty acid elongation',\n",
    "                                      'Folate metabolism',\n",
    "                                      'Glycerophospholipid biosynthesis',\n",
    "                                      'Glycerophospholipid metabolism',\n",
    "                                      'Heme metabolism',\n",
    "                                      'N-Glycan biosynthesis',\n",
    "                                      'Nicotinate and nicotinamide metabolism',\n",
    "                                      'Nitrogen metabolism',\n",
    "                                      'Pantothenate and CoA biosynthesis',\n",
    "                                      'Pentose and glucuronate interconversions',\n",
    "                                      'Phospholipid biosynthesis',\n",
    "                                      'Riboflavin metabolism',\n",
    "                                      'Sphingolipid biosynthesis',\n",
    "                                      'Sulfur metabolism',\n",
    "                                      'Terpenoid backbone biosynthesis',\n",
    "                                      'Thiamine metabolism',\n",
    "                                      'Triacylglycerol biosynthesis',\n",
    "                                      'Biotin metabolism',\n",
    "                                      'Cofactors and prosthetic groups biosynthesis',\n",
    "                                      'GPI biosynthesis',\n",
    "                                      'Glycerolipid metabolism',\n",
    "                                      'O-Glycan biosynthesis',\n",
    "                                      'Sphingolipid metabolism',\n",
    "                                      'Ubiquinone and other terpenoid-quinone biosynthesis',\n",
    "                                      'Ubiquinone biosynthesis'],\n",
    "    'tRNA charging': ['Aminoacyl-tRNA biosynthesis'],\n",
    "    'Other metabolism': ['Detoxification',\n",
    "                         'Amino sugar and nucleotide sugar metabolism',\n",
    "                         'Fatty acid degradation',\n",
    "                         'Fructose and mannose metabolism',\n",
    "                         'Phosphonate and phosphinate metabolism',\n",
    "                         'Starch and sucrose metabolism',\n",
    "                         'Synthesis and degradation of ketone bodies',\n",
    "                         'Unassigned', '',\n",
    "                         'Alternative carbon metabolism',\n",
    "                         'Arachidonic acid metabolism',\n",
    "                         'Butanoate metabolism',\n",
    "                         'C5-Branched dibasic acid metabolism',\n",
    "                         'Galactose metabolism',\n",
    "                         'Glutathione metabolism',\n",
    "                         'Inositol phosphate metabolism',\n",
    "                         'Lipid metabolism',\n",
    "                         'Nucleotide metabolism',\n",
    "                         'Propanoate metabolism',\n",
    "                         'Steroid biosynthesis',\n",
    "                         'Taurine and hypotaurine metabolism',\n",
    "                         'Triacylglycerol degradation',\n",
    "                         'Tryptophan metabolism',\n",
    "                         'beta-Alanine metabolism'],\n",
    "    'Excluded': ['Transport', 'Exchange', 'Pseudoreaction']\n",
    "}\n",
    "\n",
    "pathway_group_rev = {}\n",
    "for k,vs in pathway_group.items():\n",
    "    for v in vs:\n",
    "        pathway_group_rev[v] = k"
   ]
  },
  {
   "cell_type": "code",
   "execution_count": 31,
   "metadata": {},
   "outputs": [],
   "source": [
    "for i in df_pathway.index:\n",
    "    ss = df_pathway.subsystem[i]\n",
    "    if ss in pathway_group_rev.keys():\n",
    "        df_pathway.loc[i, 'subsystem_group'] = pathway_group_rev[ss]"
   ]
  },
  {
   "cell_type": "code",
   "execution_count": null,
   "metadata": {},
   "outputs": [],
   "source": []
  },
  {
   "cell_type": "code",
   "execution_count": null,
   "metadata": {},
   "outputs": [],
   "source": []
  },
  {
   "cell_type": "code",
   "execution_count": null,
   "metadata": {},
   "outputs": [],
   "source": []
  },
  {
   "cell_type": "code",
   "execution_count": 34,
   "metadata": {},
   "outputs": [
    {
     "data": {
      "text/html": [
       "<div>\n",
       "<style scoped>\n",
       "    .dataframe tbody tr th:only-of-type {\n",
       "        vertical-align: middle;\n",
       "    }\n",
       "\n",
       "    .dataframe tbody tr th {\n",
       "        vertical-align: top;\n",
       "    }\n",
       "\n",
       "    .dataframe thead th {\n",
       "        text-align: right;\n",
       "    }\n",
       "</style>\n",
       "<table border=\"1\" class=\"dataframe\">\n",
       "  <thead>\n",
       "    <tr style=\"text-align: right;\">\n",
       "      <th></th>\n",
       "      <th>rxnid</th>\n",
       "      <th>name</th>\n",
       "      <th>subsystem_group</th>\n",
       "      <th>subsystem</th>\n",
       "    </tr>\n",
       "  </thead>\n",
       "  <tbody>\n",
       "    <tr>\n",
       "      <th>12AMANTF_g</th>\n",
       "      <td>12AMANTF_g</td>\n",
       "      <td>alpha 1,2-mannosyltransferase</td>\n",
       "      <td>Other biosynthetic metabolism</td>\n",
       "      <td>N-Glycan biosynthesis</td>\n",
       "    </tr>\n",
       "    <tr>\n",
       "      <th>13BDGLUCANt_c_en</th>\n",
       "      <td>13BDGLUCANt_c_en</td>\n",
       "      <td>(1-&gt;3)-beta-D-glucan transport</td>\n",
       "      <td>Excluded</td>\n",
       "      <td>Transport</td>\n",
       "    </tr>\n",
       "    <tr>\n",
       "      <th>13BGH_e</th>\n",
       "      <td>13BGH_e</td>\n",
       "      <td>exo-1,3-beta-glucan glucohydrase</td>\n",
       "      <td>Other metabolism</td>\n",
       "      <td>Starch and sucrose metabolism</td>\n",
       "    </tr>\n",
       "    <tr>\n",
       "      <th>13GS_c</th>\n",
       "      <td>13GS_c</td>\n",
       "      <td>1,3-beta-glucan synthase</td>\n",
       "      <td>Other metabolism</td>\n",
       "      <td>Starch and sucrose metabolism</td>\n",
       "    </tr>\n",
       "    <tr>\n",
       "      <th>14BMANTF_c</th>\n",
       "      <td>14BMANTF_c</td>\n",
       "      <td>beta-1,4 mannosyltransferase</td>\n",
       "      <td>Other biosynthetic metabolism</td>\n",
       "      <td>N-Glycan biosynthesis</td>\n",
       "    </tr>\n",
       "    <tr>\n",
       "      <th>...</th>\n",
       "      <td>...</td>\n",
       "      <td>...</td>\n",
       "      <td>...</td>\n",
       "      <td>...</td>\n",
       "    </tr>\n",
       "    <tr>\n",
       "      <th>compFALPD_rm</th>\n",
       "      <td>compFALPD_rm</td>\n",
       "      <td>Composition of fatty acid (from lipid)</td>\n",
       "      <td>Excluded</td>\n",
       "      <td>Pseudoreaction</td>\n",
       "    </tr>\n",
       "    <tr>\n",
       "      <th>lumpFACS160_c</th>\n",
       "      <td>lumpFACS160_c</td>\n",
       "      <td>fatty-acyl-CoA synthase (n-C16:0CoA)</td>\n",
       "      <td>Other biosynthetic metabolism</td>\n",
       "      <td>Fatty acid biosynthesis</td>\n",
       "    </tr>\n",
       "    <tr>\n",
       "      <th>lumpFACS180_c</th>\n",
       "      <td>lumpFACS180_c</td>\n",
       "      <td>fatty-acyl-CoA synthase (n-C18:0CoA)</td>\n",
       "      <td>Other biosynthetic metabolism</td>\n",
       "      <td>Fatty acid biosynthesis</td>\n",
       "    </tr>\n",
       "    <tr>\n",
       "      <th>r_4323_m</th>\n",
       "      <td>r_4323_m</td>\n",
       "      <td>protein N6-(octanoyl)lysine:sulfur sulfurtrans...</td>\n",
       "      <td>Other metabolism</td>\n",
       "      <td>Unassigned</td>\n",
       "    </tr>\n",
       "    <tr>\n",
       "      <th>r_4324_m</th>\n",
       "      <td>r_4324_m</td>\n",
       "      <td>octanoyl-[acp]:sulfur sulfurtransferase</td>\n",
       "      <td>Other metabolism</td>\n",
       "      <td>Unassigned</td>\n",
       "    </tr>\n",
       "  </tbody>\n",
       "</table>\n",
       "<p>1891 rows × 4 columns</p>\n",
       "</div>"
      ],
      "text/plain": [
       "                             rxnid  \\\n",
       "12AMANTF_g              12AMANTF_g   \n",
       "13BDGLUCANt_c_en  13BDGLUCANt_c_en   \n",
       "13BGH_e                    13BGH_e   \n",
       "13GS_c                      13GS_c   \n",
       "14BMANTF_c              14BMANTF_c   \n",
       "...                            ...   \n",
       "compFALPD_rm          compFALPD_rm   \n",
       "lumpFACS160_c        lumpFACS160_c   \n",
       "lumpFACS180_c        lumpFACS180_c   \n",
       "r_4323_m                  r_4323_m   \n",
       "r_4324_m                  r_4324_m   \n",
       "\n",
       "                                                               name  \\\n",
       "12AMANTF_g                            alpha 1,2-mannosyltransferase   \n",
       "13BDGLUCANt_c_en                     (1->3)-beta-D-glucan transport   \n",
       "13BGH_e                            exo-1,3-beta-glucan glucohydrase   \n",
       "13GS_c                                     1,3-beta-glucan synthase   \n",
       "14BMANTF_c                             beta-1,4 mannosyltransferase   \n",
       "...                                                             ...   \n",
       "compFALPD_rm                 Composition of fatty acid (from lipid)   \n",
       "lumpFACS160_c                  fatty-acyl-CoA synthase (n-C16:0CoA)   \n",
       "lumpFACS180_c                  fatty-acyl-CoA synthase (n-C18:0CoA)   \n",
       "r_4323_m          protein N6-(octanoyl)lysine:sulfur sulfurtrans...   \n",
       "r_4324_m                    octanoyl-[acp]:sulfur sulfurtransferase   \n",
       "\n",
       "                                subsystem_group                      subsystem  \n",
       "12AMANTF_g        Other biosynthetic metabolism          N-Glycan biosynthesis  \n",
       "13BDGLUCANt_c_en                       Excluded                      Transport  \n",
       "13BGH_e                        Other metabolism  Starch and sucrose metabolism  \n",
       "13GS_c                         Other metabolism  Starch and sucrose metabolism  \n",
       "14BMANTF_c        Other biosynthetic metabolism          N-Glycan biosynthesis  \n",
       "...                                         ...                            ...  \n",
       "compFALPD_rm                           Excluded                 Pseudoreaction  \n",
       "lumpFACS160_c     Other biosynthetic metabolism        Fatty acid biosynthesis  \n",
       "lumpFACS180_c     Other biosynthetic metabolism        Fatty acid biosynthesis  \n",
       "r_4323_m                       Other metabolism                     Unassigned  \n",
       "r_4324_m                       Other metabolism                     Unassigned  \n",
       "\n",
       "[1891 rows x 4 columns]"
      ]
     },
     "execution_count": 34,
     "metadata": {},
     "output_type": "execute_result"
    }
   ],
   "source": [
    "df_pathway"
   ]
  },
  {
   "cell_type": "code",
   "execution_count": null,
   "metadata": {},
   "outputs": [],
   "source": []
  },
  {
   "cell_type": "code",
   "execution_count": null,
   "metadata": {},
   "outputs": [],
   "source": []
  },
  {
   "cell_type": "code",
   "execution_count": null,
   "metadata": {},
   "outputs": [],
   "source": []
  },
  {
   "cell_type": "code",
   "execution_count": 97,
   "metadata": {},
   "outputs": [],
   "source": []
  },
  {
   "cell_type": "code",
   "execution_count": 35,
   "metadata": {},
   "outputs": [],
   "source": [
    "df_pathway.to_excel('./GSM_pathway_assignment_frompy.xlsx', index=None)"
   ]
  },
  {
   "cell_type": "code",
   "execution_count": null,
   "metadata": {},
   "outputs": [],
   "source": []
  },
  {
   "cell_type": "code",
   "execution_count": null,
   "metadata": {},
   "outputs": [],
   "source": []
  },
  {
   "cell_type": "code",
   "execution_count": null,
   "metadata": {},
   "outputs": [],
   "source": []
  },
  {
   "cell_type": "code",
   "execution_count": null,
   "metadata": {},
   "outputs": [],
   "source": []
  },
  {
   "cell_type": "code",
   "execution_count": null,
   "metadata": {},
   "outputs": [],
   "source": []
  },
  {
   "cell_type": "code",
   "execution_count": 26,
   "metadata": {},
   "outputs": [
    {
     "data": {
      "text/plain": [
       "65"
      ]
     },
     "execution_count": 26,
     "metadata": {},
     "output_type": "execute_result"
    }
   ],
   "source": [
    "len(set(invivo.keys()) - set(df_invitro.index))"
   ]
  },
  {
   "cell_type": "code",
   "execution_count": 27,
   "metadata": {},
   "outputs": [
    {
     "data": {
      "text/plain": [
       "396"
      ]
     },
     "execution_count": 27,
     "metadata": {},
     "output_type": "execute_result"
    }
   ],
   "source": [
    "len(set(invivo.keys()) & set(df_invitro.index))"
   ]
  },
  {
   "cell_type": "code",
   "execution_count": 28,
   "metadata": {},
   "outputs": [
    {
     "data": {
      "text/html": [
       "<div>\n",
       "<style scoped>\n",
       "    .dataframe tbody tr th:only-of-type {\n",
       "        vertical-align: middle;\n",
       "    }\n",
       "\n",
       "    .dataframe tbody tr th {\n",
       "        vertical-align: top;\n",
       "    }\n",
       "\n",
       "    .dataframe thead th {\n",
       "        text-align: right;\n",
       "    }\n",
       "</style>\n",
       "<table border=\"1\" class=\"dataframe\">\n",
       "  <thead>\n",
       "    <tr style=\"text-align: right;\">\n",
       "      <th></th>\n",
       "      <th>id</th>\n",
       "      <th>kapp (1/s)</th>\n",
       "      <th>source</th>\n",
       "    </tr>\n",
       "  </thead>\n",
       "  <tbody>\n",
       "    <tr>\n",
       "      <th>RXN-BTDDH_c_FWD-YAL060W</th>\n",
       "      <td>RXN-BTDDH_c_FWD-YAL060W</td>\n",
       "      <td>1633.333333</td>\n",
       "      <td>Chen2021_invitro_SABIORK</td>\n",
       "    </tr>\n",
       "    <tr>\n",
       "      <th>RXN-BTDDH_c_REV-YAL060W</th>\n",
       "      <td>RXN-BTDDH_c_REV-YAL060W</td>\n",
       "      <td>1633.333333</td>\n",
       "      <td>Chen2021_invitro_SABIORK</td>\n",
       "    </tr>\n",
       "    <tr>\n",
       "      <th>RXN-13GS_c_FWD-GSC2RHO1</th>\n",
       "      <td>RXN-13GS_c_FWD-GSC2RHO1</td>\n",
       "      <td>13.333547</td>\n",
       "      <td>Oftadeh2021_invitro_GECKO</td>\n",
       "    </tr>\n",
       "    <tr>\n",
       "      <th>RXN-13GS_c_FWD-GSC1RHO1</th>\n",
       "      <td>RXN-13GS_c_FWD-GSC1RHO1</td>\n",
       "      <td>13.333547</td>\n",
       "      <td>Oftadeh2021_invitro_GECKO</td>\n",
       "    </tr>\n",
       "    <tr>\n",
       "      <th>RXN-PRMICI_c_FWD-YIL020C</th>\n",
       "      <td>RXN-PRMICI_c_FWD-YIL020C</td>\n",
       "      <td>31.999836</td>\n",
       "      <td>Oftadeh2021_invitro_GECKO</td>\n",
       "    </tr>\n",
       "  </tbody>\n",
       "</table>\n",
       "</div>"
      ],
      "text/plain": [
       "                                                id   kapp (1/s)  \\\n",
       "RXN-BTDDH_c_FWD-YAL060W    RXN-BTDDH_c_FWD-YAL060W  1633.333333   \n",
       "RXN-BTDDH_c_REV-YAL060W    RXN-BTDDH_c_REV-YAL060W  1633.333333   \n",
       "RXN-13GS_c_FWD-GSC2RHO1    RXN-13GS_c_FWD-GSC2RHO1    13.333547   \n",
       "RXN-13GS_c_FWD-GSC1RHO1    RXN-13GS_c_FWD-GSC1RHO1    13.333547   \n",
       "RXN-PRMICI_c_FWD-YIL020C  RXN-PRMICI_c_FWD-YIL020C    31.999836   \n",
       "\n",
       "                                             source  \n",
       "RXN-BTDDH_c_FWD-YAL060W    Chen2021_invitro_SABIORK  \n",
       "RXN-BTDDH_c_REV-YAL060W    Chen2021_invitro_SABIORK  \n",
       "RXN-13GS_c_FWD-GSC2RHO1   Oftadeh2021_invitro_GECKO  \n",
       "RXN-13GS_c_FWD-GSC1RHO1   Oftadeh2021_invitro_GECKO  \n",
       "RXN-PRMICI_c_FWD-YIL020C  Oftadeh2021_invitro_GECKO  "
      ]
     },
     "execution_count": 28,
     "metadata": {},
     "output_type": "execute_result"
    }
   ],
   "source": [
    "df_invitro.head()"
   ]
  },
  {
   "cell_type": "code",
   "execution_count": 32,
   "metadata": {},
   "outputs": [
    {
     "data": {
      "text/plain": [
       "{'Chen2021_invitro_BRENDA',\n",
       " 'Chen2021_invitro_SA',\n",
       " 'Chen2021_invitro_SABIORK',\n",
       " 'Chen2021_invitro_literature',\n",
       " 'Oftadeh2021_invitro_GECKO',\n",
       " 'manual_curation'}"
      ]
     },
     "execution_count": 32,
     "metadata": {},
     "output_type": "execute_result"
    }
   ],
   "source": [
    "set(df_invitro.source)"
   ]
  },
  {
   "cell_type": "code",
   "execution_count": null,
   "metadata": {},
   "outputs": [],
   "source": []
  }
 ],
 "metadata": {
  "kernelspec": {
   "display_name": "Python 3",
   "language": "python",
   "name": "python3"
  },
  "language_info": {
   "codemirror_mode": {
    "name": "ipython",
    "version": 3
   },
   "file_extension": ".py",
   "mimetype": "text/x-python",
   "name": "python",
   "nbconvert_exporter": "python",
   "pygments_lexer": "ipython3",
   "version": "3.7.9"
  }
 },
 "nbformat": 4,
 "nbformat_minor": 4
}
