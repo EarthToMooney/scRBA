{
 "cells": [
  {
   "cell_type": "code",
   "execution_count": 1,
   "metadata": {},
   "outputs": [],
   "source": [
    "import cobra\n",
    "import pandas as pd\n",
    "import json\n",
    "from copy import deepcopy\n",
    "from custom_functions_scRBA import *"
   ]
  },
  {
   "cell_type": "code",
   "execution_count": 2,
   "metadata": {},
   "outputs": [
    {
     "name": "stdout",
     "output_type": "stream",
     "text": [
      "Using license file /home/hvdinh16/Workspace/Softwares/gurobi910/linux64/gurobi.lic\n",
      "Academic license - for non-commercial use only - expires 2021-07-26\n"
     ]
    }
   ],
   "source": [
    "model = cobra.io.load_json_model('./models/cobraModel_constantStoichOnly.json')\n",
    "\n",
    "with open('./models/symbolicStoich_lower_0_211.json') as f:\n",
    "    coeffs_low = json.load(f)\n",
    "with open('./models/symbolicStoich_higher_0_211.json') as f:\n",
    "    coeffs_high = json.load(f)\n",
    "    \n",
    "coeffs_low = {tuple(k.split(' | ')):v for k,v in coeffs_low.items()}\n",
    "coeffs_high = {tuple(k.split(' | ')):v for k,v in coeffs_high.items()}"
   ]
  },
  {
   "cell_type": "code",
   "execution_count": 3,
   "metadata": {},
   "outputs": [],
   "source": [
    "model.solver = 'cplex'\n",
    "model.solver.configuration.tolerances.feasibility = 1e-9\n",
    "model.solver.configuration.tolerances.optimality = 1e-7"
   ]
  },
  {
   "cell_type": "code",
   "execution_count": 4,
   "metadata": {},
   "outputs": [
    {
     "data": {
      "text/plain": [
       "'MET-btd_c + MET-nad_c --> MET-actn__R_c + MET-h_c + MET-nadh_c'"
      ]
     },
     "execution_count": 4,
     "metadata": {},
     "output_type": "execute_result"
    }
   ],
   "source": [
    "model.reactions.get_by_id('RXN-BTDDH_c_FWD-YAL060W').reaction"
   ]
  },
  {
   "cell_type": "code",
   "execution_count": 5,
   "metadata": {},
   "outputs": [],
   "source": [
    "mu = 0.1\n",
    "\n",
    "if mu < 0.211:\n",
    "    coeffs = deepcopy(coeffs_low)\n",
    "else:\n",
    "    coeffs = deepcopy(coeffs_high)\n",
    "coeffs = {k:eval(str(v)) for k,v in coeffs.items()}\n",
    "\n",
    "for k,v in coeffs.items():\n",
    "    r,m = k\n",
    "    rxn = model.reactions.get_by_id(r)\n",
    "    met = model.metabolites.get_by_id(m)\n",
    "    rxn.add_metabolites({met:v})"
   ]
  },
  {
   "cell_type": "code",
   "execution_count": 6,
   "metadata": {},
   "outputs": [
    {
     "data": {
      "text/plain": [
       "'4.213459e-07 ENZ-YAL060W + MET-btd_c + MET-nad_c --> MET-actn__R_c + MET-h_c + MET-nadh_c'"
      ]
     },
     "execution_count": 6,
     "metadata": {},
     "output_type": "execute_result"
    }
   ],
   "source": [
    "model.reactions.get_by_id('RXN-BTDDH_c_FWD-YAL060W').reaction"
   ]
  },
  {
   "cell_type": "code",
   "execution_count": 8,
   "metadata": {},
   "outputs": [],
   "source": [
    "df_rxns = pd.read_excel('../scRBA_new/scRAM_network_frompy.xlsx')"
   ]
  },
  {
   "cell_type": "code",
   "execution_count": 9,
   "metadata": {},
   "outputs": [
    {
     "data": {
      "text/html": [
       "<div>\n",
       "<style scoped>\n",
       "    .dataframe tbody tr th:only-of-type {\n",
       "        vertical-align: middle;\n",
       "    }\n",
       "\n",
       "    .dataframe tbody tr th {\n",
       "        vertical-align: top;\n",
       "    }\n",
       "\n",
       "    .dataframe thead th {\n",
       "        text-align: right;\n",
       "    }\n",
       "</style>\n",
       "<table border=\"1\" class=\"dataframe\">\n",
       "  <thead>\n",
       "    <tr style=\"text-align: right;\">\n",
       "      <th></th>\n",
       "      <th>id</th>\n",
       "      <th>type</th>\n",
       "      <th>symbolic_coeffs</th>\n",
       "      <th>reaction</th>\n",
       "    </tr>\n",
       "  </thead>\n",
       "  <tbody>\n",
       "    <tr>\n",
       "      <th>539</th>\n",
       "      <td>RXN-HEX1_c_FWD-YGL253W</td>\n",
       "      <td>metabolic</td>\n",
       "      <td>mu/keff</td>\n",
       "      <td>MET-atp_c + MET-glc__D_c + mu/keff ENZ-YGL253W...</td>\n",
       "    </tr>\n",
       "    <tr>\n",
       "      <th>540</th>\n",
       "      <td>RXN-HEX1_c_FWD-YLR446W</td>\n",
       "      <td>metabolic</td>\n",
       "      <td>mu/keff</td>\n",
       "      <td>MET-atp_c + MET-glc__D_c + mu/keff ENZ-YLR446W...</td>\n",
       "    </tr>\n",
       "    <tr>\n",
       "      <th>541</th>\n",
       "      <td>RXN-HEX1_c_FWD-YFR053C</td>\n",
       "      <td>metabolic</td>\n",
       "      <td>mu/keff</td>\n",
       "      <td>MET-atp_c + MET-glc__D_c + mu/keff ENZ-YFR053C...</td>\n",
       "    </tr>\n",
       "    <tr>\n",
       "      <th>542</th>\n",
       "      <td>RXN-HEX1_c_FWD-YCL040W</td>\n",
       "      <td>metabolic</td>\n",
       "      <td>mu/keff</td>\n",
       "      <td>MET-atp_c + MET-glc__D_c + mu/keff ENZ-YCL040W...</td>\n",
       "    </tr>\n",
       "  </tbody>\n",
       "</table>\n",
       "</div>"
      ],
      "text/plain": [
       "                         id       type symbolic_coeffs  \\\n",
       "539  RXN-HEX1_c_FWD-YGL253W  metabolic         mu/keff   \n",
       "540  RXN-HEX1_c_FWD-YLR446W  metabolic         mu/keff   \n",
       "541  RXN-HEX1_c_FWD-YFR053C  metabolic         mu/keff   \n",
       "542  RXN-HEX1_c_FWD-YCL040W  metabolic         mu/keff   \n",
       "\n",
       "                                              reaction  \n",
       "539  MET-atp_c + MET-glc__D_c + mu/keff ENZ-YGL253W...  \n",
       "540  MET-atp_c + MET-glc__D_c + mu/keff ENZ-YLR446W...  \n",
       "541  MET-atp_c + MET-glc__D_c + mu/keff ENZ-YFR053C...  \n",
       "542  MET-atp_c + MET-glc__D_c + mu/keff ENZ-YCL040W...  "
      ]
     },
     "execution_count": 9,
     "metadata": {},
     "output_type": "execute_result"
    }
   ],
   "source": [
    "df_rxns[df_rxns.id.str.contains('HEX1_c')]"
   ]
  },
  {
   "cell_type": "code",
   "execution_count": 10,
   "metadata": {},
   "outputs": [
    {
     "data": {
      "text/html": [
       "\n",
       "        <table>\n",
       "            <tr>\n",
       "                <td><strong>Reaction identifier</strong></td><td>RXN-HEX1_c_FWD-YGL253W</td>\n",
       "            </tr><tr>\n",
       "                <td><strong>Name</strong></td><td></td>\n",
       "            </tr><tr>\n",
       "                <td><strong>Memory address</strong></td>\n",
       "                <td>0x07f7aa67679d0</td>\n",
       "            </tr><tr>\n",
       "                <td><strong>Stoichiometry</strong></td>\n",
       "                <td>\n",
       "                    <p style='text-align:right'>3.634418e-07 ENZ-YGL253W + MET-atp_c + MET-glc__D_c --> MET-adp_c + MET-g6p_c + MET-h_c</p>\n",
       "                    <p style='text-align:right'>3.634418e-07  +  +  -->  +  + </p>\n",
       "                </td>\n",
       "            </tr><tr>\n",
       "                <td><strong>GPR</strong></td><td></td>\n",
       "            </tr><tr>\n",
       "                <td><strong>Lower bound</strong></td><td>0.0</td>\n",
       "            </tr><tr>\n",
       "                <td><strong>Upper bound</strong></td><td>1000.0</td>\n",
       "            </tr>\n",
       "        </table>\n",
       "        "
      ],
      "text/plain": [
       "<Reaction RXN-HEX1_c_FWD-YGL253W at 0x7f7aa67679d0>"
      ]
     },
     "execution_count": 10,
     "metadata": {},
     "output_type": "execute_result"
    }
   ],
   "source": [
    "model.reactions.get_by_id('RXN-HEX1_c_FWD-YGL253W')"
   ]
  },
  {
   "cell_type": "code",
   "execution_count": 12,
   "metadata": {},
   "outputs": [
    {
     "data": {
      "text/html": [
       "\n",
       "        <table>\n",
       "            <tr>\n",
       "                <td><strong>Reaction identifier</strong></td><td>ENZSYN-YGL253W</td>\n",
       "            </tr><tr>\n",
       "                <td><strong>Name</strong></td><td></td>\n",
       "            </tr><tr>\n",
       "                <td><strong>Memory address</strong></td>\n",
       "                <td>0x07f7aa6a4d190</td>\n",
       "            </tr><tr>\n",
       "                <td><strong>Stoichiometry</strong></td>\n",
       "                <td>\n",
       "                    <p style='text-align:right'>2.0 PRO-YGL253W --> ENZ-YGL253W</p>\n",
       "                    <p style='text-align:right'>2.0  --> </p>\n",
       "                </td>\n",
       "            </tr><tr>\n",
       "                <td><strong>GPR</strong></td><td></td>\n",
       "            </tr><tr>\n",
       "                <td><strong>Lower bound</strong></td><td>0.0</td>\n",
       "            </tr><tr>\n",
       "                <td><strong>Upper bound</strong></td><td>1000.0</td>\n",
       "            </tr>\n",
       "        </table>\n",
       "        "
      ],
      "text/plain": [
       "<Reaction ENZSYN-YGL253W at 0x7f7aa6a4d190>"
      ]
     },
     "execution_count": 12,
     "metadata": {},
     "output_type": "execute_result"
    }
   ],
   "source": [
    "model.reactions.get_by_id('ENZSYN-YGL253W')"
   ]
  },
  {
   "cell_type": "code",
   "execution_count": 11,
   "metadata": {},
   "outputs": [
    {
     "data": {
      "text/html": [
       "<div>\n",
       "<style scoped>\n",
       "    .dataframe tbody tr th:only-of-type {\n",
       "        vertical-align: middle;\n",
       "    }\n",
       "\n",
       "    .dataframe tbody tr th {\n",
       "        vertical-align: top;\n",
       "    }\n",
       "\n",
       "    .dataframe thead th {\n",
       "        text-align: right;\n",
       "    }\n",
       "</style>\n",
       "<table border=\"1\" class=\"dataframe\">\n",
       "  <thead>\n",
       "    <tr style=\"text-align: right;\">\n",
       "      <th></th>\n",
       "      <th>id</th>\n",
       "      <th>type</th>\n",
       "      <th>symbolic_coeffs</th>\n",
       "      <th>reaction</th>\n",
       "    </tr>\n",
       "  </thead>\n",
       "  <tbody>\n",
       "    <tr>\n",
       "      <th>3577</th>\n",
       "      <td>ENZSYN-YGL253W</td>\n",
       "      <td>enzyme</td>\n",
       "      <td>NaN</td>\n",
       "      <td>2 PRO-YGL253W --&gt; ENZ-YGL253W</td>\n",
       "    </tr>\n",
       "  </tbody>\n",
       "</table>\n",
       "</div>"
      ],
      "text/plain": [
       "                  id    type symbolic_coeffs                       reaction\n",
       "3577  ENZSYN-YGL253W  enzyme             NaN  2 PRO-YGL253W --> ENZ-YGL253W"
      ]
     },
     "execution_count": 11,
     "metadata": {},
     "output_type": "execute_result"
    }
   ],
   "source": [
    "df_rxns[df_rxns.id.str.contains('ENZSYN-YGL253W')]"
   ]
  },
  {
   "cell_type": "code",
   "execution_count": null,
   "metadata": {},
   "outputs": [],
   "source": []
  },
  {
   "cell_type": "code",
   "execution_count": 10,
   "metadata": {},
   "outputs": [],
   "source": [
    "for k,v in coeffs.items():\n",
    "    r,m = k\n",
    "    rxn = model.reactions.get_by_id(r)\n",
    "    met = model.metabolites.get_by_id(m)\n",
    "    rxn.subtract_metabolites({met:v})"
   ]
  },
  {
   "cell_type": "code",
   "execution_count": 11,
   "metadata": {},
   "outputs": [
    {
     "data": {
      "text/plain": [
       "'MET-btd_c + MET-nad_c --> MET-actn__R_c + MET-h_c + MET-nadh_c'"
      ]
     },
     "execution_count": 11,
     "metadata": {},
     "output_type": "execute_result"
    }
   ],
   "source": [
    "model.reactions.get_by_id('RXN-BTDDH_c_FWD-YAL060W').reaction"
   ]
  },
  {
   "cell_type": "markdown",
   "metadata": {},
   "source": [
    "#### Test build time"
   ]
  },
  {
   "cell_type": "code",
   "execution_count": 22,
   "metadata": {},
   "outputs": [],
   "source": [
    "import time"
   ]
  },
  {
   "cell_type": "markdown",
   "metadata": {},
   "source": [
    "Initial load"
   ]
  },
  {
   "cell_type": "code",
   "execution_count": 24,
   "metadata": {},
   "outputs": [
    {
     "name": "stdout",
     "output_type": "stream",
     "text": [
      "Run time: 5.349748373031616 sec\n"
     ]
    }
   ],
   "source": [
    "start_time = time.time()\n",
    "model = cobra.io.load_json_model('./models/cobraModel_constantStoichOnly.json')\n",
    "\n",
    "with open('./models/symbolicStoich_lower_0_211.json') as f:\n",
    "    coeffs_low = json.load(f)\n",
    "with open('./models/symbolicStoich_higher_0_211.json') as f:\n",
    "    coeffs_high = json.load(f)\n",
    "    \n",
    "coeffs_low = {tuple(k.split(' | ')):v for k,v in coeffs_low.items()}\n",
    "coeffs_high = {tuple(k.split(' | ')):v for k,v in coeffs_high.items()}\n",
    "\n",
    "print('Run time:', (time.time() - start_time), 'sec')"
   ]
  },
  {
   "cell_type": "markdown",
   "metadata": {},
   "source": [
    "Evaluate symbolic coefficients, add to model, then remove it to return to initial state"
   ]
  },
  {
   "cell_type": "code",
   "execution_count": 25,
   "metadata": {},
   "outputs": [
    {
     "name": "stdout",
     "output_type": "stream",
     "text": [
      "Run time: 8.139089107513428 sec\n"
     ]
    }
   ],
   "source": [
    "start_time = time.time()\n",
    "\n",
    "mu = 0.1\n",
    "\n",
    "if mu < 0.211:\n",
    "    coeffs = deepcopy(coeffs_low)\n",
    "else:\n",
    "    coeffs = deepcopy(coeffs_high)\n",
    "coeffs = {k:eval(str(v)) for k,v in coeffs.items()}\n",
    "\n",
    "for k,v in coeffs.items():\n",
    "    r,m = k\n",
    "    rxn = model.reactions.get_by_id(r)\n",
    "    met = model.metabolites.get_by_id(m)\n",
    "    rxn.add_metabolites({met:v})\n",
    "    \n",
    "for k,v in coeffs.items():\n",
    "    r,m = k\n",
    "    rxn = model.reactions.get_by_id(r)\n",
    "    met = model.metabolites.get_by_id(m)\n",
    "    rxn.subtract_metabolites({met:v})\n",
    "    \n",
    "print('Run time:', (time.time() - start_time), 'sec')"
   ]
  },
  {
   "cell_type": "code",
   "execution_count": null,
   "metadata": {},
   "outputs": [],
   "source": []
  }
 ],
 "metadata": {
  "kernelspec": {
   "display_name": "Python 3",
   "language": "python",
   "name": "python3"
  },
  "language_info": {
   "codemirror_mode": {
    "name": "ipython",
    "version": 3
   },
   "file_extension": ".py",
   "mimetype": "text/x-python",
   "name": "python",
   "nbconvert_exporter": "python",
   "pygments_lexer": "ipython3",
   "version": "3.7.9"
  }
 },
 "nbformat": 4,
 "nbformat_minor": 4
}
