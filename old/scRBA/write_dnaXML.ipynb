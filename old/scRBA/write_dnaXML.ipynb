{
 "cells": [
  {
   "cell_type": "code",
   "execution_count": 1,
   "metadata": {},
   "outputs": [],
   "source": [
    "import cobra,rba,lxml\n",
    "from lxml import etree\n",
    "import pandas as pd\n",
    "from collections import OrderedDict"
   ]
  },
  {
   "cell_type": "code",
   "execution_count": 2,
   "metadata": {},
   "outputs": [],
   "source": [
    "dnaET = etree.Element('RBADna')\n",
    "\n",
    "elems = ['listOfComponents', 'listOfMacromolecules']\n",
    "for e in elems:\n",
    "    dnaET.append(etree.Element(e))"
   ]
  },
  {
   "cell_type": "code",
   "execution_count": 3,
   "metadata": {},
   "outputs": [],
   "source": [
    "comET = dnaET.find('listOfComponents')\n",
    "\n",
    "att_dict = OrderedDict({'id':'COM-nudA', 'type': 'Nucleotide', 'weight':'0'})\n",
    "comET.append(etree.Element('component', attrib=att_dict))\n",
    "\n",
    "att_dict = OrderedDict({'id':'COM-nudC', 'type': 'Nucleotide', 'weight':'0'})\n",
    "comET.append(etree.Element('component', attrib=att_dict))\n",
    "\n",
    "att_dict = OrderedDict({'id':'COM-nudG', 'type': 'Nucleotide', 'weight':'0'})\n",
    "comET.append(etree.Element('component', attrib=att_dict))\n",
    "\n",
    "att_dict = OrderedDict({'id':'COM-nudT', 'type': 'Nucleotide', 'weight':'0'})\n",
    "comET.append(etree.Element('component', attrib=att_dict))"
   ]
  },
  {
   "cell_type": "code",
   "execution_count": 4,
   "metadata": {},
   "outputs": [],
   "source": [
    "macET = dnaET.find('listOfMacromolecules')\n",
    "\n",
    "att_dict = OrderedDict({'id':'MAC-dna', 'compartment': 'PART-c'})\n",
    "macE = etree.SubElement(macET, 'macromolecule', attrib=att_dict)\n",
    "\n",
    "macE_com = etree.SubElement(macE, 'composition')\n",
    "\n",
    "att_dict = {'component':'COM-nudA', 'stoichiometry': '0.195250'}\n",
    "macE_com.append(etree.Element('componentReference', attrib=att_dict))\n",
    "\n",
    "att_dict = {'component':'COM-nudC', 'stoichiometry': '0.304750'}\n",
    "macE_com.append(etree.Element('componentReference', attrib=att_dict))\n",
    "\n",
    "att_dict = {'component':'COM-nudG', 'stoichiometry': '0.304750'}\n",
    "macE_com.append(etree.Element('componentReference', attrib=att_dict))\n",
    "\n",
    "att_dict = {'component':'COM-nudT', 'stoichiometry': '0.195250'}\n",
    "macE_com.append(etree.Element('componentReference', attrib=att_dict))"
   ]
  },
  {
   "cell_type": "code",
   "execution_count": 5,
   "metadata": {},
   "outputs": [],
   "source": [
    "with open('./rbaModel/dna.xml', 'wb') as f:\n",
    "    f.write(etree.tostring(dnaET, pretty_print=True))"
   ]
  },
  {
   "cell_type": "code",
   "execution_count": null,
   "metadata": {},
   "outputs": [],
   "source": []
  }
 ],
 "metadata": {
  "kernelspec": {
   "display_name": "Python 3",
   "language": "python",
   "name": "python3"
  },
  "language_info": {
   "codemirror_mode": {
    "name": "ipython",
    "version": 3
   },
   "file_extension": ".py",
   "mimetype": "text/x-python",
   "name": "python",
   "nbconvert_exporter": "python",
   "pygments_lexer": "ipython3",
   "version": "3.7.9"
  }
 },
 "nbformat": 4,
 "nbformat_minor": 2
}
