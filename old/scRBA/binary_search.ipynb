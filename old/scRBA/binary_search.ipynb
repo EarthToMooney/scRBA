{
 "cells": [
  {
   "cell_type": "code",
   "execution_count": 1,
   "metadata": {},
   "outputs": [],
   "source": [
    "import cobra\n",
    "import pandas as pd\n",
    "from copy import deepcopy\n",
    "\n",
    "from custom_functions_scRBA import *"
   ]
  },
  {
   "cell_type": "code",
   "execution_count": 2,
   "metadata": {},
   "outputs": [
    {
     "name": "stdout",
     "output_type": "stream",
     "text": [
      "Using license file /home/hvdinh16/Workspace/Softwares/gurobi910/linux64/gurobi.lic\n",
      "Academic license - for non-commercial use only - expires 2022-08-08\n"
     ]
    }
   ],
   "source": [
    "#### LOAD INPUTS\n",
    "# COBRA model containing static stoichiometry\n",
    "model = cobra.io.load_json_model('./model/scRBA_constantSij.cobra.json')\n",
    "model.solver = 'cplex'\n",
    "model.solver.configuration.tolerances.feasibility = 1e-9\n",
    "model.solver.configuration.tolerances.optimality = 1e-9\n",
    "\n",
    "# Growth-dependent stoichiometry\n",
    "df_sij_mu = pd.read_excel('./model/scRBA_growthDependent_Sij.xlsx')"
   ]
  },
  {
   "cell_type": "code",
   "execution_count": 3,
   "metadata": {},
   "outputs": [],
   "source": [
    "def protein_fraction(mu):\n",
    "    return (0.3736 + 0.3292*mu)\n",
    "\n",
    "def rna_fraction(mu):\n",
    "    return (0.0402 + 0.1370*mu)\n",
    "\n",
    "def carb_fraction(mu):\n",
    "    return (0.4741 - 0.4662*mu)\n",
    "\n",
    "def evalModelAtMu(model, df_sij_mu, mu, biomId='BIO-BIODIL'):\n",
    "    # Need to load cobraModel \"model\", unevaluated symbolic coefficients \"df_sij_mu\",\n",
    "    # and growth rate at which the model is evaluated \"mu\"\n",
    "    # \"Unevaluated symbolic coefficients\" means the symbolic expression in string\n",
    "    # form before being evaluated into number in float form via eval(\"string\")\n",
    "    \n",
    "    coeffs = dict()\n",
    "    \n",
    "    # Evaluate symbolic coefficients\n",
    "    for i in df_sij_mu.index:\n",
    "        rxn = model.reactions.get_by_id(df_sij_mu.reaction[i])\n",
    "        met = model.metabolites.get_by_id(df_sij_mu.species[i])\n",
    "        v = eval(df_sij_mu.Sij[i])\n",
    "        coeffs[(rxn,met)] = v\n",
    "        # Implement symbolic coefficients\n",
    "        rxn.add_metabolites({met:v})\n",
    "\n",
    "    # Set growth rate mu\n",
    "    model.reactions.get_by_id(biomId).bounds = (mu,mu)\n",
    "    \n",
    "    # Run FBA\n",
    "    fba = model.optimize()\n",
    "    \n",
    "    # Remove symbolic coefficients implementation\n",
    "    for i in df_sij_mu.index:\n",
    "        rxn = model.reactions.get_by_id(df_sij_mu.reaction[i])\n",
    "        met = model.metabolites.get_by_id(df_sij_mu.species[i])\n",
    "        v = eval(df_sij_mu.Sij[i])\n",
    "        rxn.subtract_metabolites({met:v})\n",
    "    \n",
    "    return(fba)"
   ]
  },
  {
   "cell_type": "markdown",
   "metadata": {},
   "source": [
    "#### Set simulation settings"
   ]
  },
  {
   "cell_type": "code",
   "execution_count": 4,
   "metadata": {},
   "outputs": [],
   "source": [
    "# Substrate uptake\n",
    "model.reactions.get_by_id('RXN-EX_glc__D_e_REV-SPONT').bounds = (0,1000)\n",
    "model.reactions.get_by_id('RXN-EX_glc__D_e_FWD-SPONT').bounds = (0,0)"
   ]
  },
  {
   "cell_type": "code",
   "execution_count": 8,
   "metadata": {},
   "outputs": [],
   "source": [
    "fba = evalModelAtMu(model, df_sij_mu, 0)\n",
    "if fba.status == 'infeasible':\n",
    "    print('Model is infeasible at mu = 0, check model connectivity')"
   ]
  },
  {
   "cell_type": "code",
   "execution_count": 10,
   "metadata": {
    "scrolled": true
   },
   "outputs": [
    {
     "name": "stderr",
     "output_type": "stream",
     "text": [
      "/home/hvdinh16/Workspace/workpy3/lib/python3.7/site-packages/cobra/util/solver.py:430: UserWarning: solver status is 'infeasible'\n",
      "  warn(\"solver status is '{}'\".format(status), UserWarning)\n"
     ]
    },
    {
     "name": "stdout",
     "output_type": "stream",
     "text": [
      "\u001b[91mmu = 0.2100000, status = infeasible\u001b[0m\n",
      "\u001b[91mmu = 0.1050000, status = infeasible\u001b[0m\n",
      "\u001b[91mmu = 0.0525000, status = infeasible\u001b[0m\n",
      "\u001b[91mmu = 0.0262500, status = infeasible\u001b[0m\n"
     ]
    },
    {
     "ename": "KeyboardInterrupt",
     "evalue": "",
     "output_type": "error",
     "traceback": [
      "\u001b[0;31m---------------------------------------------------------------------------\u001b[0m",
      "\u001b[0;31mKeyboardInterrupt\u001b[0m                         Traceback (most recent call last)",
      "\u001b[0;32m<ipython-input-10-50a0e48c12ae>\u001b[0m in \u001b[0;36m<module>\u001b[0;34m\u001b[0m\n\u001b[1;32m     59\u001b[0m     \u001b[0mcarb\u001b[0m \u001b[0;34m=\u001b[0m \u001b[0mcarb_fraction\u001b[0m\u001b[0;34m(\u001b[0m\u001b[0mmu\u001b[0m\u001b[0;34m)\u001b[0m\u001b[0;34m*\u001b[0m\u001b[0mmu\u001b[0m\u001b[0;34m\u001b[0m\u001b[0;34m\u001b[0m\u001b[0m\n\u001b[1;32m     60\u001b[0m     \u001b[0mmodel\u001b[0m\u001b[0;34m.\u001b[0m\u001b[0mreactions\u001b[0m\u001b[0;34m.\u001b[0m\u001b[0mget_by_id\u001b[0m\u001b[0;34m(\u001b[0m\u001b[0;34m'BIO-CARBTOBIO'\u001b[0m\u001b[0;34m)\u001b[0m\u001b[0;34m.\u001b[0m\u001b[0mbounds\u001b[0m \u001b[0;34m=\u001b[0m \u001b[0;34m(\u001b[0m\u001b[0mcarb\u001b[0m\u001b[0;34m,\u001b[0m\u001b[0mcarb\u001b[0m\u001b[0;34m)\u001b[0m\u001b[0;34m\u001b[0m\u001b[0;34m\u001b[0m\u001b[0m\n\u001b[0;32m---> 61\u001b[0;31m     \u001b[0mfba\u001b[0m \u001b[0;34m=\u001b[0m \u001b[0mevalModelAtMu\u001b[0m\u001b[0;34m(\u001b[0m\u001b[0mmodel\u001b[0m\u001b[0;34m,\u001b[0m \u001b[0mdf_sij_mu\u001b[0m\u001b[0;34m,\u001b[0m \u001b[0mmu\u001b[0m\u001b[0;34m)\u001b[0m\u001b[0;34m\u001b[0m\u001b[0;34m\u001b[0m\u001b[0m\n\u001b[0m\u001b[1;32m     62\u001b[0m \u001b[0;34m\u001b[0m\u001b[0m\n\u001b[1;32m     63\u001b[0m     \u001b[0;32mif\u001b[0m \u001b[0mfba\u001b[0m\u001b[0;34m.\u001b[0m\u001b[0mstatus\u001b[0m \u001b[0;34m==\u001b[0m \u001b[0;34m'optimal'\u001b[0m\u001b[0;34m:\u001b[0m\u001b[0;34m\u001b[0m\u001b[0;34m\u001b[0m\u001b[0m\n",
      "\u001b[0;32m<ipython-input-3-78cd5fbd0f3c>\u001b[0m in \u001b[0;36mevalModelAtMu\u001b[0;34m(model, df_sij_mu, mu, biomId)\u001b[0m\n\u001b[1;32m     23\u001b[0m         \u001b[0mcoeffs\u001b[0m\u001b[0;34m[\u001b[0m\u001b[0;34m(\u001b[0m\u001b[0mrxn\u001b[0m\u001b[0;34m,\u001b[0m\u001b[0mmet\u001b[0m\u001b[0;34m)\u001b[0m\u001b[0;34m]\u001b[0m \u001b[0;34m=\u001b[0m \u001b[0mv\u001b[0m\u001b[0;34m\u001b[0m\u001b[0;34m\u001b[0m\u001b[0m\n\u001b[1;32m     24\u001b[0m         \u001b[0;31m# Implement symbolic coefficients\u001b[0m\u001b[0;34m\u001b[0m\u001b[0;34m\u001b[0m\u001b[0;34m\u001b[0m\u001b[0m\n\u001b[0;32m---> 25\u001b[0;31m         \u001b[0mrxn\u001b[0m\u001b[0;34m.\u001b[0m\u001b[0madd_metabolites\u001b[0m\u001b[0;34m(\u001b[0m\u001b[0;34m{\u001b[0m\u001b[0mmet\u001b[0m\u001b[0;34m:\u001b[0m\u001b[0mv\u001b[0m\u001b[0;34m}\u001b[0m\u001b[0;34m)\u001b[0m\u001b[0;34m\u001b[0m\u001b[0;34m\u001b[0m\u001b[0m\n\u001b[0m\u001b[1;32m     26\u001b[0m \u001b[0;34m\u001b[0m\u001b[0m\n\u001b[1;32m     27\u001b[0m     \u001b[0;31m# Set growth rate mu\u001b[0m\u001b[0;34m\u001b[0m\u001b[0;34m\u001b[0m\u001b[0;34m\u001b[0m\u001b[0m\n",
      "\u001b[0;32m~/Workspace/workpy3/lib/python3.7/site-packages/cobra/core/reaction.py\u001b[0m in \u001b[0;36madd_metabolites\u001b[0;34m(self, metabolites_to_add, combine, reversibly)\u001b[0m\n\u001b[1;32m    866\u001b[0m                     {\n\u001b[1;32m    867\u001b[0m                         \u001b[0mself\u001b[0m\u001b[0;34m.\u001b[0m\u001b[0mforward_variable\u001b[0m\u001b[0;34m:\u001b[0m \u001b[0mcoefficient\u001b[0m\u001b[0;34m,\u001b[0m\u001b[0;34m\u001b[0m\u001b[0;34m\u001b[0m\u001b[0m\n\u001b[0;32m--> 868\u001b[0;31m                         \u001b[0mself\u001b[0m\u001b[0;34m.\u001b[0m\u001b[0mreverse_variable\u001b[0m\u001b[0;34m:\u001b[0m \u001b[0;34m-\u001b[0m\u001b[0mcoefficient\u001b[0m\u001b[0;34m,\u001b[0m\u001b[0;34m\u001b[0m\u001b[0;34m\u001b[0m\u001b[0m\n\u001b[0m\u001b[1;32m    869\u001b[0m                     }\n\u001b[1;32m    870\u001b[0m                 )\n",
      "\u001b[0;32m~/Workspace/workpy3/lib/python3.7/site-packages/optlang/cplex_interface.py\u001b[0m in \u001b[0;36mset_linear_coefficients\u001b[0;34m(self, coefficients)\u001b[0m\n\u001b[1;32m    222\u001b[0m             \u001b[0mself\u001b[0m\u001b[0;34m.\u001b[0m\u001b[0mproblem\u001b[0m\u001b[0;34m.\u001b[0m\u001b[0mupdate\u001b[0m\u001b[0;34m(\u001b[0m\u001b[0;34m)\u001b[0m\u001b[0;34m\u001b[0m\u001b[0;34m\u001b[0m\u001b[0m\n\u001b[1;32m    223\u001b[0m             \u001b[0mtriplets\u001b[0m \u001b[0;34m=\u001b[0m \u001b[0;34m[\u001b[0m\u001b[0;34m(\u001b[0m\u001b[0mself\u001b[0m\u001b[0;34m.\u001b[0m\u001b[0mname\u001b[0m\u001b[0;34m,\u001b[0m \u001b[0mvar\u001b[0m\u001b[0;34m.\u001b[0m\u001b[0mname\u001b[0m\u001b[0;34m,\u001b[0m \u001b[0mfloat\u001b[0m\u001b[0;34m(\u001b[0m\u001b[0mcoeff\u001b[0m\u001b[0;34m)\u001b[0m\u001b[0;34m)\u001b[0m \u001b[0;32mfor\u001b[0m \u001b[0mvar\u001b[0m\u001b[0;34m,\u001b[0m \u001b[0mcoeff\u001b[0m \u001b[0;32min\u001b[0m \u001b[0msix\u001b[0m\u001b[0;34m.\u001b[0m\u001b[0miteritems\u001b[0m\u001b[0;34m(\u001b[0m\u001b[0mcoefficients\u001b[0m\u001b[0;34m)\u001b[0m\u001b[0;34m]\u001b[0m\u001b[0;34m\u001b[0m\u001b[0;34m\u001b[0m\u001b[0m\n\u001b[0;32m--> 224\u001b[0;31m             \u001b[0mself\u001b[0m\u001b[0;34m.\u001b[0m\u001b[0mproblem\u001b[0m\u001b[0;34m.\u001b[0m\u001b[0mproblem\u001b[0m\u001b[0;34m.\u001b[0m\u001b[0mlinear_constraints\u001b[0m\u001b[0;34m.\u001b[0m\u001b[0mset_coefficients\u001b[0m\u001b[0;34m(\u001b[0m\u001b[0mtriplets\u001b[0m\u001b[0;34m)\u001b[0m\u001b[0;34m\u001b[0m\u001b[0;34m\u001b[0m\u001b[0m\n\u001b[0m\u001b[1;32m    225\u001b[0m         \u001b[0;32melse\u001b[0m\u001b[0;34m:\u001b[0m\u001b[0;34m\u001b[0m\u001b[0;34m\u001b[0m\u001b[0m\n\u001b[1;32m    226\u001b[0m             \u001b[0;32mraise\u001b[0m \u001b[0mException\u001b[0m\u001b[0;34m(\u001b[0m\u001b[0;34m\"Can't change coefficients if constraint is not associated with a model.\"\u001b[0m\u001b[0;34m)\u001b[0m\u001b[0;34m\u001b[0m\u001b[0;34m\u001b[0m\u001b[0m\n",
      "\u001b[0;32m~/Workspace/workpy3/lib/python3.7/site-packages/cplex/_internal/_subinterfaces.py\u001b[0m in \u001b[0;36mset_coefficients\u001b[0;34m(self, *args)\u001b[0m\n\u001b[1;32m   1563\u001b[0m             \u001b[0mself\u001b[0m\u001b[0;34m.\u001b[0m\u001b[0m_conv\u001b[0m\u001b[0;34m(\u001b[0m\u001b[0marg_list\u001b[0m\u001b[0;34m[\u001b[0m\u001b[0;36m0\u001b[0m\u001b[0;34m]\u001b[0m\u001b[0;34m)\u001b[0m\u001b[0;34m,\u001b[0m\u001b[0;34m\u001b[0m\u001b[0;34m\u001b[0m\u001b[0m\n\u001b[1;32m   1564\u001b[0m             \u001b[0mself\u001b[0m\u001b[0;34m.\u001b[0m\u001b[0m_cplex\u001b[0m\u001b[0;34m.\u001b[0m\u001b[0mvariables\u001b[0m\u001b[0;34m.\u001b[0m\u001b[0m_conv\u001b[0m\u001b[0;34m(\u001b[0m\u001b[0marg_list\u001b[0m\u001b[0;34m[\u001b[0m\u001b[0;36m1\u001b[0m\u001b[0;34m]\u001b[0m\u001b[0;34m)\u001b[0m\u001b[0;34m,\u001b[0m\u001b[0;34m\u001b[0m\u001b[0;34m\u001b[0m\u001b[0m\n\u001b[0;32m-> 1565\u001b[0;31m             arg_list[2])\n\u001b[0m\u001b[1;32m   1566\u001b[0m \u001b[0;34m\u001b[0m\u001b[0m\n\u001b[1;32m   1567\u001b[0m     \u001b[0;32mdef\u001b[0m \u001b[0mget_rhs\u001b[0m\u001b[0;34m(\u001b[0m\u001b[0mself\u001b[0m\u001b[0;34m,\u001b[0m \u001b[0;34m*\u001b[0m\u001b[0margs\u001b[0m\u001b[0;34m)\u001b[0m\u001b[0;34m:\u001b[0m\u001b[0;34m\u001b[0m\u001b[0;34m\u001b[0m\u001b[0m\n",
      "\u001b[0;32m~/Workspace/workpy3/lib/python3.7/site-packages/cplex/_internal/_procedural.py\u001b[0m in \u001b[0;36mchgcoeflist\u001b[0;34m(env, lp, rowlist, collist, vallist)\u001b[0m\n\u001b[1;32m   1118\u001b[0m \u001b[0;34m\u001b[0m\u001b[0m\n\u001b[1;32m   1119\u001b[0m \u001b[0;32mdef\u001b[0m \u001b[0mchgcoeflist\u001b[0m\u001b[0;34m(\u001b[0m\u001b[0menv\u001b[0m\u001b[0;34m,\u001b[0m \u001b[0mlp\u001b[0m\u001b[0;34m,\u001b[0m \u001b[0mrowlist\u001b[0m\u001b[0;34m,\u001b[0m \u001b[0mcollist\u001b[0m\u001b[0;34m,\u001b[0m \u001b[0mvallist\u001b[0m\u001b[0;34m)\u001b[0m\u001b[0;34m:\u001b[0m\u001b[0;34m\u001b[0m\u001b[0;34m\u001b[0m\u001b[0m\n\u001b[0;32m-> 1120\u001b[0;31m     \u001b[0;32mwith\u001b[0m \u001b[0mLAU\u001b[0m\u001b[0;34m.\u001b[0m\u001b[0mint_c_array\u001b[0m\u001b[0;34m(\u001b[0m\u001b[0mrowlist\u001b[0m\u001b[0;34m)\u001b[0m \u001b[0;32mas\u001b[0m \u001b[0mc_rowlist\u001b[0m\u001b[0;34m,\u001b[0m\u001b[0;31m \u001b[0m\u001b[0;31m\\\u001b[0m\u001b[0;34m\u001b[0m\u001b[0;34m\u001b[0m\u001b[0m\n\u001b[0m\u001b[1;32m   1121\u001b[0m             \u001b[0mLAU\u001b[0m\u001b[0;34m.\u001b[0m\u001b[0mint_c_array\u001b[0m\u001b[0;34m(\u001b[0m\u001b[0mcollist\u001b[0m\u001b[0;34m)\u001b[0m \u001b[0;32mas\u001b[0m \u001b[0mc_collist\u001b[0m\u001b[0;34m,\u001b[0m\u001b[0;31m \u001b[0m\u001b[0;31m\\\u001b[0m\u001b[0;34m\u001b[0m\u001b[0;34m\u001b[0m\u001b[0m\n\u001b[1;32m   1122\u001b[0m             \u001b[0mLAU\u001b[0m\u001b[0;34m.\u001b[0m\u001b[0mdouble_c_array\u001b[0m\u001b[0;34m(\u001b[0m\u001b[0mvallist\u001b[0m\u001b[0;34m)\u001b[0m \u001b[0;32mas\u001b[0m \u001b[0mc_vallist\u001b[0m\u001b[0;34m:\u001b[0m\u001b[0;34m\u001b[0m\u001b[0;34m\u001b[0m\u001b[0m\n",
      "\u001b[0;31mKeyboardInterrupt\u001b[0m: "
     ]
    }
   ],
   "source": [
    "mu_min0 = 0; mu_max0 = 0.42; mu_tol = 1e-5; maxiter = 50;\n",
    "mu_min = mu_min0; mu_max = mu_max0; itercount = 0;\n",
    "\n",
    "class bcolors:\n",
    "    GREEN = '\\033[92m' #GREEN\n",
    "    RED = '\\033[91m' #RED\n",
    "    RESET = '\\033[0m' #RESET COLOR\n",
    "\n",
    "# Test evaluation at zero\n",
    "fba = evalModelAtMu(model, df_sij_mu, 0)\n",
    "if fba.status == 'infeasible':\n",
    "    print('Model is infeasible at mu = 0, check model connectivity')\n",
    "\n",
    "# Start binary search\n",
    "# Evaluate min feasibility\n",
    "mu = mu_min;\n",
    "prot = protein_fraction(mu)*mu\n",
    "model.reactions.get_by_id('BIO-PROTTOBIO').bounds = (prot,prot)\n",
    "rna = rna_fraction(mu)*mu\n",
    "model.reactions.get_by_id('BIO-RNATOBIO').bounds = (rna,rna)\n",
    "carb = carb_fraction(mu)*mu\n",
    "model.reactions.get_by_id('BIO-CARBTOBIO').bounds = (carb,carb)\n",
    "fba = evalModelAtMu(model, df_sij_mu, mu)\n",
    "if fba.status == 'infeasible':\n",
    "    mu_max = mu_min\n",
    "    mu_min = 0\n",
    "    print(f\"{bcolors.RED}mu = {mu:.7f}, status = {fba.status}{bcolors.RESET}\")\n",
    "    \n",
    "# Evaluate max infeasibility\n",
    "mu = mu_max;\n",
    "prot = protein_fraction(mu)*mu\n",
    "model.reactions.get_by_id('BIO-PROTTOBIO').bounds = (prot,prot)\n",
    "rna = rna_fraction(mu)*mu\n",
    "model.reactions.get_by_id('BIO-RNATOBIO').bounds = (rna,rna)\n",
    "carb = carb_fraction(mu)*mu\n",
    "model.reactions.get_by_id('BIO-CARBTOBIO').bounds = (carb,carb)\n",
    "fba = evalModelAtMu(model, df_sij_mu, mu)\n",
    "while fba.status == 'optimal':\n",
    "    print(f\"{bcolors.GREEN}mu = {mu:.7f}, status = {fba.status}{bcolors.RESET}\")\n",
    "    mu_max = 1.5*mu_max\n",
    "    mu = mu_max;\n",
    "    prot = protein_fraction(mu)*mu\n",
    "    model.reactions.get_by_id('BIO-PROTTOBIO').bounds = (prot,prot)\n",
    "    rna = rna_fraction(mu)*mu\n",
    "    model.reactions.get_by_id('BIO-RNATOBIO').bounds = (rna,rna)\n",
    "    carb = carb_fraction(mu)*mu\n",
    "    model.reactions.get_by_id('BIO-CARBTOBIO').bounds = (carb,carb)\n",
    "    fba = evalModelAtMu(model, df_sij_mu, mu)\n",
    "\n",
    "# Update min-max\n",
    "mu = float(mu_min + mu_max) / 2; fba_final = None;\n",
    "while mu_max - mu_min > mu_tol and itercount < maxiter:\n",
    "    itercount += 1\n",
    "        \n",
    "    prot = protein_fraction(mu)*mu\n",
    "    model.reactions.get_by_id('BIO-PROTTOBIO').bounds = (prot,prot)\n",
    "    rna = rna_fraction(mu)*mu\n",
    "    model.reactions.get_by_id('BIO-RNATOBIO').bounds = (rna,rna)\n",
    "    carb = carb_fraction(mu)*mu\n",
    "    model.reactions.get_by_id('BIO-CARBTOBIO').bounds = (carb,carb)\n",
    "    fba = evalModelAtMu(model, df_sij_mu, mu)\n",
    "    \n",
    "    if fba.status == 'optimal':\n",
    "        mu_min = mu\n",
    "        fba_final = fba\n",
    "        print(f\"{bcolors.GREEN}mu = {mu:.7f}, status = {fba.status}{bcolors.RESET}\")\n",
    "    else:\n",
    "        mu_max = mu\n",
    "        print(f\"{bcolors.RED}mu = {mu:.7f}, status = {fba.status}{bcolors.RESET}\")\n",
    "        \n",
    "    mu = float(mu_min + mu_max) / 2"
   ]
  },
  {
   "cell_type": "code",
   "execution_count": 11,
   "metadata": {},
   "outputs": [],
   "source": [
    "mu = 1e-4\n",
    "prot = protein_fraction(mu)*mu\n",
    "model.reactions.get_by_id('BIO-PROTTOBIO').bounds = (prot,prot)\n",
    "rna = rna_fraction(mu)*mu\n",
    "model.reactions.get_by_id('BIO-RNATOBIO').bounds = (rna,rna)\n",
    "carb = carb_fraction(mu)*mu\n",
    "model.reactions.get_by_id('BIO-CARBTOBIO').bounds = (carb,carb)\n",
    "fba = evalModelAtMu(model, df_sij_mu, mu)"
   ]
  },
  {
   "cell_type": "code",
   "execution_count": 12,
   "metadata": {},
   "outputs": [
    {
     "data": {
      "text/html": [
       "<strong><em>infeasible</em> solution</strong>"
      ],
      "text/plain": [
       "<Solution infeasible at 0x7ffa9ef7a050>"
      ]
     },
     "execution_count": 12,
     "metadata": {},
     "output_type": "execute_result"
    }
   ],
   "source": [
    "fba"
   ]
  },
  {
   "cell_type": "code",
   "execution_count": null,
   "metadata": {},
   "outputs": [],
   "source": []
  }
 ],
 "metadata": {
  "kernelspec": {
   "display_name": "Python 3",
   "language": "python",
   "name": "python3"
  },
  "language_info": {
   "codemirror_mode": {
    "name": "ipython",
    "version": 3
   },
   "file_extension": ".py",
   "mimetype": "text/x-python",
   "name": "python",
   "nbconvert_exporter": "python",
   "pygments_lexer": "ipython3",
   "version": "3.7.9"
  }
 },
 "nbformat": 4,
 "nbformat_minor": 4
}
