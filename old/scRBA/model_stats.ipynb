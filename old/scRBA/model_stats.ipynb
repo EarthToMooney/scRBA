{
 "cells": [
  {
   "cell_type": "code",
   "execution_count": 24,
   "metadata": {},
   "outputs": [],
   "source": [
    "import cobra\n",
    "import pandas as pd\n",
    "from custom_functions_scRBA import *"
   ]
  },
  {
   "cell_type": "code",
   "execution_count": 2,
   "metadata": {},
   "outputs": [
    {
     "name": "stdout",
     "output_type": "stream",
     "text": [
      "Using license file /home/hvdinh16/Workspace/Softwares/gurobi910/linux64/gurobi.lic\n",
      "Academic license - for non-commercial use only - expires 2021-07-26\n"
     ]
    }
   ],
   "source": [
    "model = cobra.io.load_json_model('./models/cobraModel_constantStoichOnly_minFluxSum.json')\n",
    "model.solver = 'cplex'"
   ]
  },
  {
   "cell_type": "code",
   "execution_count": 5,
   "metadata": {},
   "outputs": [],
   "source": [
    "df_raw = pd.read_excel('../scRBA_new/scRAM_network_frompy.xlsx')"
   ]
  },
  {
   "cell_type": "code",
   "execution_count": 33,
   "metadata": {},
   "outputs": [],
   "source": [
    "with open('../scRBA_new/species.txt') as f:\n",
    "    species = f.read().split('\\n')"
   ]
  },
  {
   "cell_type": "code",
   "execution_count": 35,
   "metadata": {},
   "outputs": [
    {
     "name": "stdout",
     "output_type": "stream",
     "text": [
      "No of metabolites: 1608\n"
     ]
    }
   ],
   "source": [
    "mets = [i for i in species if i[:4] == 'MET-']\n",
    "mets = list(set(mets))\n",
    "print('No of metabolites:', len(mets))"
   ]
  },
  {
   "cell_type": "code",
   "execution_count": 36,
   "metadata": {},
   "outputs": [
    {
     "name": "stdout",
     "output_type": "stream",
     "text": [
      "No of genes: 1104\n",
      "No of proteins: 1136\n"
     ]
    }
   ],
   "source": [
    "genes = []; prots = []\n",
    "for i in df_raw[df_raw.type == 'protein'].index:\n",
    "    prot = df_raw.id[i][7:]\n",
    "    prots.append(prot)\n",
    "    if '_' in prot:\n",
    "        comp = prot.split('_')[-1]\n",
    "        gene = prot[:-len(comp)-1]\n",
    "    else:\n",
    "        gene = prot\n",
    "    genes.append(gene)\n",
    "    \n",
    "genes = list(set(genes))\n",
    "prots = list(set(prots))\n",
    "print('No of genes:', len(genes))\n",
    "print('No of proteins:', len(prots))"
   ]
  },
  {
   "cell_type": "code",
   "execution_count": 74,
   "metadata": {},
   "outputs": [
    {
     "name": "stdout",
     "output_type": "stream",
     "text": [
      "No of enzymes: 934\n",
      "\n",
      "No of reactions: 3265\n",
      "\n",
      "Metabolic reactions\n",
      "No of metabolic reactions: 1623\n",
      "No of metabolic reactions (without copies for isozyme and reverse direction): 1137\n",
      "No of enz associated reactions: 93%\n",
      "No of spontaneous reactions: 3%\n",
      "No of median-enzyme associated reactions: 4%\n",
      "\n",
      "Transport reactions\n",
      "No of transport reactions: 1467\n",
      "No of transport reactions (without copies for isozyme and reverse direction): 597\n",
      "No of transporter associated reactions: 49%\n",
      "No of spontaneous reactions: 51%\n",
      "No of median-enzyme associated reactions: 0%\n",
      "\n",
      "No of exchage reactions: 175\n",
      "No of protein and ribosome synthesis reactions\n",
      "\n",
      "No of protein, enzyme, and ribosome synthesis reactions: 2077\n"
     ]
    }
   ],
   "source": [
    "enzs = []\n",
    "idx = df_raw[df_raw.type == 'metabolic'].index\n",
    "\n",
    "rxns = {'enz_assoc': [], 'spont': [], 'dummy': []}\n",
    "rxns_trans = {'enz_assoc': [], 'spont': [], 'dummy': []}\n",
    "rxns_ex = []\n",
    "rxns_base = []\n",
    "rxns_trans_base = []\n",
    "\n",
    "for i in idx:\n",
    "    tag,rxn_base_id,rxn_dir,enz_id = extract_details_from_rxnid(df_raw.id[i])\n",
    "    enzs.append(enz_id)\n",
    "    \n",
    "    if rxn_base_id[:3] == 'EX_':\n",
    "        rxns_ex.append(df_raw.id[i])\n",
    "    elif 't' not in rxn_base_id:\n",
    "        rxns_base.append(rxn_base_id)\n",
    "        if enz_id in ['DUMMYENZ_m', 'DUMMYENZ_c']:\n",
    "            rxns['dummy'].append(df_raw.id[i])\n",
    "        elif enz_id in ['SPONT']:\n",
    "            rxns['spont'].append(df_raw.id[i])\n",
    "        else:\n",
    "            rxns['enz_assoc'].append(df_raw.id[i])\n",
    "    else:\n",
    "        rxns_trans_base.append(rxn_base_id)\n",
    "        if enz_id in ['DUMMYENZ_m', 'DUMMYENZ_c']:\n",
    "            rxns_trans['dummy'].append(df_raw.id[i])\n",
    "        elif enz_id in ['SPONT']:\n",
    "            rxns_trans['spont'].append(df_raw.id[i])\n",
    "        else:\n",
    "            rxns_trans['enz_assoc'].append(df_raw.id[i])\n",
    "    \n",
    "rxns['total'] = sum(rxns.values(), [])\n",
    "rxns_trans['total'] = sum(rxns_trans.values(), [])\n",
    "\n",
    "enzs = list(set(enzs))\n",
    "print('No of enzymes:', len(enzs))\n",
    "print('')\n",
    "print('No of reactions:', len(idx))\n",
    "print('')\n",
    "print('Metabolic reactions')\n",
    "print('No of metabolic reactions:', len(rxns['total']))\n",
    "rxns_base = list(set(rxns_base))\n",
    "print('No of metabolic reactions (without copies for isozyme and reverse direction):', len(rxns_base))\n",
    "rxns = {k:list(set(v)) for k,v in rxns.items()}\n",
    "Ntotal = len(rxns['total'])\n",
    "n = float(len(rxns['enz_assoc']))\n",
    "print('No of enz associated reactions: %.0f' % (n / Ntotal * 100) + '%')\n",
    "n = float(len(rxns['spont']))\n",
    "print('No of spontaneous reactions: %.0f' % (n / Ntotal * 100) + '%')\n",
    "n = float(len(rxns['dummy']))\n",
    "print('No of median-enzyme associated reactions: %.0f' % (n / Ntotal * 100) + '%')\n",
    "print('')\n",
    "print('Transport reactions')\n",
    "print('No of transport reactions:', len(rxns_trans['total']))\n",
    "rxns_trans_base = list(set(rxns_trans_base))\n",
    "print('No of transport reactions (without copies for isozyme and reverse direction):', len(rxns_trans_base))\n",
    "rxns_trans = {k:list(set(v)) for k,v in rxns_trans.items()}\n",
    "Ntotal = len(rxns_trans['total'])\n",
    "n = float(len(rxns_trans['enz_assoc']))\n",
    "print('No of transporter associated reactions: %.0f' % (n / Ntotal * 100) + '%')\n",
    "n = float(len(rxns_trans['spont']))\n",
    "print('No of spontaneous reactions: %.0f' % (n / Ntotal * 100) + '%')\n",
    "n = float(len(rxns_trans['dummy']))\n",
    "print('No of median-enzyme associated reactions: %.0f' % (n / Ntotal * 100) + '%')\n",
    "print('')\n",
    "print('No of exchage reactions:', len(rxns_ex))\n",
    "print('No of protein and ribosome synthesis reactions')\n",
    "print('')\n",
    "n1 = df_raw[df_raw.type == 'protein'].shape[0]\n",
    "n2 = df_raw[df_raw.type == 'ribosome'].shape[0]\n",
    "n3 = df_raw[df_raw.type == 'enzyme'].shape[0]\n",
    "print('No of protein, enzyme, and ribosome synthesis reactions:', n1+n2+n3)"
   ]
  },
  {
   "cell_type": "code",
   "execution_count": null,
   "metadata": {},
   "outputs": [],
   "source": [
    "n = df_raw[df_raw.type == 'biomass'].shape[0] + df_raw[df_raw.type == 'debug'].shape[0]\n",
    "print('No of biomass diluted related:', n)"
   ]
  },
  {
   "cell_type": "code",
   "execution_count": 58,
   "metadata": {},
   "outputs": [
    {
     "data": {
      "text/plain": [
       "'RXN-PYDX5PS_c_FWD-SNZ3SNO1'"
      ]
     },
     "execution_count": 58,
     "metadata": {},
     "output_type": "execute_result"
    }
   ],
   "source": [
    "df_raw.id[i]"
   ]
  },
  {
   "cell_type": "code",
   "execution_count": 56,
   "metadata": {},
   "outputs": [
    {
     "data": {
      "text/plain": [
       "['SPONT']"
      ]
     },
     "execution_count": 56,
     "metadata": {},
     "output_type": "execute_result"
    }
   ],
   "source": [
    "rxns['spont']"
   ]
  },
  {
   "cell_type": "code",
   "execution_count": 38,
   "metadata": {},
   "outputs": [
    {
     "data": {
      "text/plain": [
       "['DUMMYENZ_m', 'DUMMYENZ_c']"
      ]
     },
     "execution_count": 38,
     "metadata": {},
     "output_type": "execute_result"
    }
   ],
   "source": [
    "[e for e in enzs if 'DUMMY' in e]"
   ]
  },
  {
   "cell_type": "code",
   "execution_count": 39,
   "metadata": {},
   "outputs": [
    {
     "data": {
      "text/plain": [
       "['SPONT']"
      ]
     },
     "execution_count": 39,
     "metadata": {},
     "output_type": "execute_result"
    }
   ],
   "source": [
    "[e for e in enzs if 'SPONT' in e]"
   ]
  },
  {
   "cell_type": "code",
   "execution_count": 40,
   "metadata": {},
   "outputs": [
    {
     "data": {
      "text/plain": [
       "'SNZ3SNO1'"
      ]
     },
     "execution_count": 40,
     "metadata": {},
     "output_type": "execute_result"
    }
   ],
   "source": [
    "enz_id"
   ]
  },
  {
   "cell_type": "code",
   "execution_count": 26,
   "metadata": {},
   "outputs": [
    {
     "data": {
      "text/plain": [
       "{'biomass', 'debug', 'enzyme', 'metabolic', 'protein', 'ribosome'}"
      ]
     },
     "execution_count": 26,
     "metadata": {},
     "output_type": "execute_result"
    }
   ],
   "source": [
    "set(df_raw.type)"
   ]
  },
  {
   "cell_type": "code",
   "execution_count": 25,
   "metadata": {},
   "outputs": [
    {
     "data": {
      "text/html": [
       "<div>\n",
       "<style scoped>\n",
       "    .dataframe tbody tr th:only-of-type {\n",
       "        vertical-align: middle;\n",
       "    }\n",
       "\n",
       "    .dataframe tbody tr th {\n",
       "        vertical-align: top;\n",
       "    }\n",
       "\n",
       "    .dataframe thead th {\n",
       "        text-align: right;\n",
       "    }\n",
       "</style>\n",
       "<table border=\"1\" class=\"dataframe\">\n",
       "  <thead>\n",
       "    <tr style=\"text-align: right;\">\n",
       "      <th></th>\n",
       "      <th>id</th>\n",
       "      <th>type</th>\n",
       "      <th>symbolic_coeffs</th>\n",
       "      <th>reaction</th>\n",
       "    </tr>\n",
       "  </thead>\n",
       "  <tbody>\n",
       "    <tr>\n",
       "      <th>0</th>\n",
       "      <td>RXN-BTDDH_c_FWD-YAL060W</td>\n",
       "      <td>metabolic</td>\n",
       "      <td>mu/keff</td>\n",
       "      <td>MET-btd_c + MET-nad_c + mu/keff ENZ-YAL060W --...</td>\n",
       "    </tr>\n",
       "    <tr>\n",
       "      <th>1</th>\n",
       "      <td>RXN-BTDDH_c_REV-YAL060W</td>\n",
       "      <td>metabolic</td>\n",
       "      <td>mu/keff</td>\n",
       "      <td>MET-actn__R_c + MET-h_c + MET-nadh_c + mu/keff...</td>\n",
       "    </tr>\n",
       "    <tr>\n",
       "      <th>2</th>\n",
       "      <td>RXN-13GS_c_FWD-GSC2RHO1</td>\n",
       "      <td>metabolic</td>\n",
       "      <td>mu/keff</td>\n",
       "      <td>MET-udpg_c + mu/keff ENZ-GSC2RHO1 --&gt; MET-13BD...</td>\n",
       "    </tr>\n",
       "    <tr>\n",
       "      <th>3</th>\n",
       "      <td>RXN-13GS_c_FWD-GSC1RHO1</td>\n",
       "      <td>metabolic</td>\n",
       "      <td>mu/keff</td>\n",
       "      <td>MET-udpg_c + mu/keff ENZ-GSC1RHO1 --&gt; MET-13BD...</td>\n",
       "    </tr>\n",
       "    <tr>\n",
       "      <th>4</th>\n",
       "      <td>RXN-16GS_c_FWD-YPR159W</td>\n",
       "      <td>metabolic</td>\n",
       "      <td>mu/keff</td>\n",
       "      <td>MET-udpg_c + mu/keff ENZ-YPR159W --&gt; MET-16BDg...</td>\n",
       "    </tr>\n",
       "    <tr>\n",
       "      <th>...</th>\n",
       "      <td>...</td>\n",
       "      <td>...</td>\n",
       "      <td>...</td>\n",
       "      <td>...</td>\n",
       "    </tr>\n",
       "    <tr>\n",
       "      <th>3260</th>\n",
       "      <td>RXN-AKGDH_m_FWD-KGDCPLX</td>\n",
       "      <td>metabolic</td>\n",
       "      <td>mu/keff</td>\n",
       "      <td>MET-akg_m + MET-coa_m + MET-nad_m + mu/keff EN...</td>\n",
       "    </tr>\n",
       "    <tr>\n",
       "      <th>3261</th>\n",
       "      <td>RXN-ETFOXRq6_m_FWD-CIR1AIM45</td>\n",
       "      <td>metabolic</td>\n",
       "      <td>mu/keff</td>\n",
       "      <td>MET-fadh2_m + MET-q6_m + mu/keff ENZ-CIR1AIM45...</td>\n",
       "    </tr>\n",
       "    <tr>\n",
       "      <th>3262</th>\n",
       "      <td>RXN-PYDX5PS_c_FWD-SNZ1SNO1</td>\n",
       "      <td>metabolic</td>\n",
       "      <td>mu/keff</td>\n",
       "      <td>MET-g3p_c + MET-gln__L_c + MET-r5p_c + mu/keff...</td>\n",
       "    </tr>\n",
       "    <tr>\n",
       "      <th>3263</th>\n",
       "      <td>RXN-PYDX5PS_c_FWD-SNZ2SNO1</td>\n",
       "      <td>metabolic</td>\n",
       "      <td>mu/keff</td>\n",
       "      <td>MET-g3p_c + MET-gln__L_c + MET-r5p_c + mu/keff...</td>\n",
       "    </tr>\n",
       "    <tr>\n",
       "      <th>3264</th>\n",
       "      <td>RXN-PYDX5PS_c_FWD-SNZ3SNO1</td>\n",
       "      <td>metabolic</td>\n",
       "      <td>mu/keff</td>\n",
       "      <td>MET-g3p_c + MET-gln__L_c + MET-r5p_c + mu/keff...</td>\n",
       "    </tr>\n",
       "  </tbody>\n",
       "</table>\n",
       "<p>3265 rows × 4 columns</p>\n",
       "</div>"
      ],
      "text/plain": [
       "                                id       type symbolic_coeffs  \\\n",
       "0          RXN-BTDDH_c_FWD-YAL060W  metabolic         mu/keff   \n",
       "1          RXN-BTDDH_c_REV-YAL060W  metabolic         mu/keff   \n",
       "2          RXN-13GS_c_FWD-GSC2RHO1  metabolic         mu/keff   \n",
       "3          RXN-13GS_c_FWD-GSC1RHO1  metabolic         mu/keff   \n",
       "4           RXN-16GS_c_FWD-YPR159W  metabolic         mu/keff   \n",
       "...                            ...        ...             ...   \n",
       "3260       RXN-AKGDH_m_FWD-KGDCPLX  metabolic         mu/keff   \n",
       "3261  RXN-ETFOXRq6_m_FWD-CIR1AIM45  metabolic         mu/keff   \n",
       "3262    RXN-PYDX5PS_c_FWD-SNZ1SNO1  metabolic         mu/keff   \n",
       "3263    RXN-PYDX5PS_c_FWD-SNZ2SNO1  metabolic         mu/keff   \n",
       "3264    RXN-PYDX5PS_c_FWD-SNZ3SNO1  metabolic         mu/keff   \n",
       "\n",
       "                                               reaction  \n",
       "0     MET-btd_c + MET-nad_c + mu/keff ENZ-YAL060W --...  \n",
       "1     MET-actn__R_c + MET-h_c + MET-nadh_c + mu/keff...  \n",
       "2     MET-udpg_c + mu/keff ENZ-GSC2RHO1 --> MET-13BD...  \n",
       "3     MET-udpg_c + mu/keff ENZ-GSC1RHO1 --> MET-13BD...  \n",
       "4     MET-udpg_c + mu/keff ENZ-YPR159W --> MET-16BDg...  \n",
       "...                                                 ...  \n",
       "3260  MET-akg_m + MET-coa_m + MET-nad_m + mu/keff EN...  \n",
       "3261  MET-fadh2_m + MET-q6_m + mu/keff ENZ-CIR1AIM45...  \n",
       "3262  MET-g3p_c + MET-gln__L_c + MET-r5p_c + mu/keff...  \n",
       "3263  MET-g3p_c + MET-gln__L_c + MET-r5p_c + mu/keff...  \n",
       "3264  MET-g3p_c + MET-gln__L_c + MET-r5p_c + mu/keff...  \n",
       "\n",
       "[3265 rows x 4 columns]"
      ]
     },
     "execution_count": 25,
     "metadata": {},
     "output_type": "execute_result"
    }
   ],
   "source": [
    "df_raw[df_raw.type == 'metabolic']"
   ]
  },
  {
   "cell_type": "code",
   "execution_count": 27,
   "metadata": {},
   "outputs": [
    {
     "data": {
      "text/html": [
       "<div>\n",
       "<style scoped>\n",
       "    .dataframe tbody tr th:only-of-type {\n",
       "        vertical-align: middle;\n",
       "    }\n",
       "\n",
       "    .dataframe tbody tr th {\n",
       "        vertical-align: top;\n",
       "    }\n",
       "\n",
       "    .dataframe thead th {\n",
       "        text-align: right;\n",
       "    }\n",
       "</style>\n",
       "<table border=\"1\" class=\"dataframe\">\n",
       "  <thead>\n",
       "    <tr style=\"text-align: right;\">\n",
       "      <th></th>\n",
       "      <th>id</th>\n",
       "      <th>type</th>\n",
       "      <th>symbolic_coeffs</th>\n",
       "      <th>reaction</th>\n",
       "    </tr>\n",
       "  </thead>\n",
       "  <tbody>\n",
       "    <tr>\n",
       "      <th>4200</th>\n",
       "      <td>RIBO-rrna18s_c</td>\n",
       "      <td>ribosome</td>\n",
       "      <td>NaN</td>\n",
       "      <td>483 MET-atp_c + 348 MET-ctp_c + 459 MET-gtp_c ...</td>\n",
       "    </tr>\n",
       "    <tr>\n",
       "      <th>4201</th>\n",
       "      <td>RIBO-rrna5s_c</td>\n",
       "      <td>ribosome</td>\n",
       "      <td>NaN</td>\n",
       "      <td>30 MET-atp_c + 30 MET-ctp_c + 33 MET-gtp_c + 2...</td>\n",
       "    </tr>\n",
       "    <tr>\n",
       "      <th>4202</th>\n",
       "      <td>RIBO-rrna58s_c</td>\n",
       "      <td>ribosome</td>\n",
       "      <td>NaN</td>\n",
       "      <td>41 MET-atp_c + 36 MET-ctp_c + 37 MET-gtp_c + 4...</td>\n",
       "    </tr>\n",
       "    <tr>\n",
       "      <th>4203</th>\n",
       "      <td>RIBO-rrna25s_c</td>\n",
       "      <td>ribosome</td>\n",
       "      <td>NaN</td>\n",
       "      <td>899 MET-atp_c + 662 MET-ctp_c + 966 MET-gtp_c ...</td>\n",
       "    </tr>\n",
       "    <tr>\n",
       "      <th>4204</th>\n",
       "      <td>RIBO-ribosome_c</td>\n",
       "      <td>ribosome</td>\n",
       "      <td>NaN</td>\n",
       "      <td>PRO-YMR116C + PRO-YGR214W + PRO-YOR293W + PRO-...</td>\n",
       "    </tr>\n",
       "    <tr>\n",
       "      <th>4205</th>\n",
       "      <td>RIBO-riboactive_c</td>\n",
       "      <td>ribosome</td>\n",
       "      <td>friboactive</td>\n",
       "      <td>MET-ribosome_c --&gt; friboactive MET-riboactive_c</td>\n",
       "    </tr>\n",
       "  </tbody>\n",
       "</table>\n",
       "</div>"
      ],
      "text/plain": [
       "                     id      type symbolic_coeffs  \\\n",
       "4200     RIBO-rrna18s_c  ribosome             NaN   \n",
       "4201      RIBO-rrna5s_c  ribosome             NaN   \n",
       "4202     RIBO-rrna58s_c  ribosome             NaN   \n",
       "4203     RIBO-rrna25s_c  ribosome             NaN   \n",
       "4204    RIBO-ribosome_c  ribosome             NaN   \n",
       "4205  RIBO-riboactive_c  ribosome     friboactive   \n",
       "\n",
       "                                               reaction  \n",
       "4200  483 MET-atp_c + 348 MET-ctp_c + 459 MET-gtp_c ...  \n",
       "4201  30 MET-atp_c + 30 MET-ctp_c + 33 MET-gtp_c + 2...  \n",
       "4202  41 MET-atp_c + 36 MET-ctp_c + 37 MET-gtp_c + 4...  \n",
       "4203  899 MET-atp_c + 662 MET-ctp_c + 966 MET-gtp_c ...  \n",
       "4204  PRO-YMR116C + PRO-YGR214W + PRO-YOR293W + PRO-...  \n",
       "4205    MET-ribosome_c --> friboactive MET-riboactive_c  "
      ]
     },
     "execution_count": 27,
     "metadata": {},
     "output_type": "execute_result"
    }
   ],
   "source": [
    "df_raw[df_raw.type == 'ribosome']"
   ]
  },
  {
   "cell_type": "code",
   "execution_count": 30,
   "metadata": {},
   "outputs": [
    {
     "name": "stdout",
     "output_type": "stream",
     "text": [
      "No of biomass diluted related: 15\n"
     ]
    }
   ],
   "source": []
  },
  {
   "cell_type": "code",
   "execution_count": 29,
   "metadata": {},
   "outputs": [
    {
     "data": {
      "text/html": [
       "<div>\n",
       "<style scoped>\n",
       "    .dataframe tbody tr th:only-of-type {\n",
       "        vertical-align: middle;\n",
       "    }\n",
       "\n",
       "    .dataframe tbody tr th {\n",
       "        vertical-align: top;\n",
       "    }\n",
       "\n",
       "    .dataframe thead th {\n",
       "        text-align: right;\n",
       "    }\n",
       "</style>\n",
       "<table border=\"1\" class=\"dataframe\">\n",
       "  <thead>\n",
       "    <tr style=\"text-align: right;\">\n",
       "      <th></th>\n",
       "      <th>id</th>\n",
       "      <th>type</th>\n",
       "      <th>symbolic_coeffs</th>\n",
       "      <th>reaction</th>\n",
       "    </tr>\n",
       "  </thead>\n",
       "  <tbody>\n",
       "    <tr>\n",
       "      <th>5342</th>\n",
       "      <td>BIODIL-SINKDUMMY_c</td>\n",
       "      <td>biomass</td>\n",
       "      <td>NaN</td>\n",
       "      <td>PRO-DUMMYPRO_c --&gt;</td>\n",
       "    </tr>\n",
       "    <tr>\n",
       "      <th>5343</th>\n",
       "      <td>BIODIL-SINKDUMMY_m</td>\n",
       "      <td>biomass</td>\n",
       "      <td>NaN</td>\n",
       "      <td>PRO-DUMMYPRO_m --&gt;</td>\n",
       "    </tr>\n",
       "    <tr>\n",
       "      <th>5344</th>\n",
       "      <td>BIODIL-PRO1</td>\n",
       "      <td>biomass</td>\n",
       "      <td>NaN</td>\n",
       "      <td>PRO-preModeledProtBiom_m --&gt; BIO-modeledProtBi...</td>\n",
       "    </tr>\n",
       "    <tr>\n",
       "      <th>5345</th>\n",
       "      <td>BIODIL-PRO2</td>\n",
       "      <td>biomass</td>\n",
       "      <td>NaN</td>\n",
       "      <td>PRO-preModeledProtBiom_c --&gt; BIO-modeledProtBi...</td>\n",
       "    </tr>\n",
       "    <tr>\n",
       "      <th>5346</th>\n",
       "      <td>BIODIL-PRO3</td>\n",
       "      <td>biomass</td>\n",
       "      <td>NaN</td>\n",
       "      <td>PRO-preUnmodeledProtBiom --&gt; BIO-modeledProtBi...</td>\n",
       "    </tr>\n",
       "    <tr>\n",
       "      <th>5347</th>\n",
       "      <td>BIODIL-PRO4</td>\n",
       "      <td>biomass</td>\n",
       "      <td>NaN</td>\n",
       "      <td>PRO-preModeledProtBiom_c --&gt; BIO-modeledProtBi...</td>\n",
       "    </tr>\n",
       "    <tr>\n",
       "      <th>5348</th>\n",
       "      <td>BIODIL-PRO5</td>\n",
       "      <td>biomass</td>\n",
       "      <td>NaN</td>\n",
       "      <td>PRO-preUnmodeledProtBiom --&gt; BIO-modeledProtBi...</td>\n",
       "    </tr>\n",
       "    <tr>\n",
       "      <th>5349</th>\n",
       "      <td>BIODIL-PRO6</td>\n",
       "      <td>biomass</td>\n",
       "      <td>NaN</td>\n",
       "      <td>PRO-preUnmodeledProtBiom --&gt; BIO-unmodeledProt...</td>\n",
       "    </tr>\n",
       "    <tr>\n",
       "      <th>5350</th>\n",
       "      <td>BIODIL-RNA</td>\n",
       "      <td>biomass</td>\n",
       "      <td>NaN</td>\n",
       "      <td>0.233979 MET-atp_c + 0.227364 MET-ctp_c + 0.23...</td>\n",
       "    </tr>\n",
       "    <tr>\n",
       "      <th>5351</th>\n",
       "      <td>BIODIL-BIODILFERMENTATION</td>\n",
       "      <td>biomass</td>\n",
       "      <td>PARAM-BIO-unmodeledProtBiom,PARAM-BIO-modeledP...</td>\n",
       "      <td>PARAM-BIO-unmodeledProtBiom BIO-unmodeledProtB...</td>\n",
       "    </tr>\n",
       "    <tr>\n",
       "      <th>5352</th>\n",
       "      <td>BIODIL-BIODILRESPIRATION</td>\n",
       "      <td>biomass</td>\n",
       "      <td>PARAM-BIO-unmodeledProtBiom,PARAM-BIO-modeledP...</td>\n",
       "      <td>PARAM-BIO-unmodeledProtBiom BIO-unmodeledProtB...</td>\n",
       "    </tr>\n",
       "  </tbody>\n",
       "</table>\n",
       "</div>"
      ],
      "text/plain": [
       "                             id     type  \\\n",
       "5342         BIODIL-SINKDUMMY_c  biomass   \n",
       "5343         BIODIL-SINKDUMMY_m  biomass   \n",
       "5344                BIODIL-PRO1  biomass   \n",
       "5345                BIODIL-PRO2  biomass   \n",
       "5346                BIODIL-PRO3  biomass   \n",
       "5347                BIODIL-PRO4  biomass   \n",
       "5348                BIODIL-PRO5  biomass   \n",
       "5349                BIODIL-PRO6  biomass   \n",
       "5350                 BIODIL-RNA  biomass   \n",
       "5351  BIODIL-BIODILFERMENTATION  biomass   \n",
       "5352   BIODIL-BIODILRESPIRATION  biomass   \n",
       "\n",
       "                                        symbolic_coeffs  \\\n",
       "5342                                                NaN   \n",
       "5343                                                NaN   \n",
       "5344                                                NaN   \n",
       "5345                                                NaN   \n",
       "5346                                                NaN   \n",
       "5347                                                NaN   \n",
       "5348                                                NaN   \n",
       "5349                                                NaN   \n",
       "5350                                                NaN   \n",
       "5351  PARAM-BIO-unmodeledProtBiom,PARAM-BIO-modeledP...   \n",
       "5352  PARAM-BIO-unmodeledProtBiom,PARAM-BIO-modeledP...   \n",
       "\n",
       "                                               reaction  \n",
       "5342                                PRO-DUMMYPRO_c -->   \n",
       "5343                                PRO-DUMMYPRO_m -->   \n",
       "5344  PRO-preModeledProtBiom_m --> BIO-modeledProtBi...  \n",
       "5345  PRO-preModeledProtBiom_c --> BIO-modeledProtBi...  \n",
       "5346  PRO-preUnmodeledProtBiom --> BIO-modeledProtBi...  \n",
       "5347  PRO-preModeledProtBiom_c --> BIO-modeledProtBi...  \n",
       "5348  PRO-preUnmodeledProtBiom --> BIO-modeledProtBi...  \n",
       "5349  PRO-preUnmodeledProtBiom --> BIO-unmodeledProt...  \n",
       "5350  0.233979 MET-atp_c + 0.227364 MET-ctp_c + 0.23...  \n",
       "5351  PARAM-BIO-unmodeledProtBiom BIO-unmodeledProtB...  \n",
       "5352  PARAM-BIO-unmodeledProtBiom BIO-unmodeledProtB...  "
      ]
     },
     "execution_count": 29,
     "metadata": {},
     "output_type": "execute_result"
    }
   ],
   "source": [
    "df_raw[df_raw.type == 'biomass']"
   ]
  },
  {
   "cell_type": "code",
   "execution_count": 28,
   "metadata": {},
   "outputs": [
    {
     "data": {
      "text/html": [
       "<div>\n",
       "<style scoped>\n",
       "    .dataframe tbody tr th:only-of-type {\n",
       "        vertical-align: middle;\n",
       "    }\n",
       "\n",
       "    .dataframe tbody tr th {\n",
       "        vertical-align: top;\n",
       "    }\n",
       "\n",
       "    .dataframe thead th {\n",
       "        text-align: right;\n",
       "    }\n",
       "</style>\n",
       "<table border=\"1\" class=\"dataframe\">\n",
       "  <thead>\n",
       "    <tr style=\"text-align: right;\">\n",
       "      <th></th>\n",
       "      <th>id</th>\n",
       "      <th>type</th>\n",
       "      <th>symbolic_coeffs</th>\n",
       "      <th>reaction</th>\n",
       "    </tr>\n",
       "  </thead>\n",
       "  <tbody>\n",
       "    <tr>\n",
       "      <th>5353</th>\n",
       "      <td>DMRXNS-BIO-unmodeledProtBiom</td>\n",
       "      <td>debug</td>\n",
       "      <td>NaN</td>\n",
       "      <td>BIO-unmodeledProtBiom --&gt;</td>\n",
       "    </tr>\n",
       "    <tr>\n",
       "      <th>5354</th>\n",
       "      <td>DMRXNS-BIO-modeledProtBiom_c</td>\n",
       "      <td>debug</td>\n",
       "      <td>NaN</td>\n",
       "      <td>BIO-modeledProtBiom_c --&gt;</td>\n",
       "    </tr>\n",
       "    <tr>\n",
       "      <th>5355</th>\n",
       "      <td>DMRXNS-BIO-modeledProtBiom_m</td>\n",
       "      <td>debug</td>\n",
       "      <td>NaN</td>\n",
       "      <td>BIO-modeledProtBiom_m --&gt;</td>\n",
       "    </tr>\n",
       "    <tr>\n",
       "      <th>5356</th>\n",
       "      <td>DMRXNS-BIO-rna_c</td>\n",
       "      <td>debug</td>\n",
       "      <td>NaN</td>\n",
       "      <td>BIO-rna_c --&gt;</td>\n",
       "    </tr>\n",
       "  </tbody>\n",
       "</table>\n",
       "</div>"
      ],
      "text/plain": [
       "                                id   type symbolic_coeffs  \\\n",
       "5353  DMRXNS-BIO-unmodeledProtBiom  debug             NaN   \n",
       "5354  DMRXNS-BIO-modeledProtBiom_c  debug             NaN   \n",
       "5355  DMRXNS-BIO-modeledProtBiom_m  debug             NaN   \n",
       "5356              DMRXNS-BIO-rna_c  debug             NaN   \n",
       "\n",
       "                        reaction  \n",
       "5353  BIO-unmodeledProtBiom -->   \n",
       "5354  BIO-modeledProtBiom_c -->   \n",
       "5355  BIO-modeledProtBiom_m -->   \n",
       "5356              BIO-rna_c -->   "
      ]
     },
     "execution_count": 28,
     "metadata": {},
     "output_type": "execute_result"
    }
   ],
   "source": [
    "df_raw[df_raw.type == 'debug']"
   ]
  },
  {
   "cell_type": "code",
   "execution_count": null,
   "metadata": {},
   "outputs": [],
   "source": [
    "df_raw[df_raw.type == 'metabolic']"
   ]
  },
  {
   "cell_type": "code",
   "execution_count": 21,
   "metadata": {
    "scrolled": true
   },
   "outputs": [
    {
     "data": {
      "text/plain": [
       "1104"
      ]
     },
     "execution_count": 21,
     "metadata": {},
     "output_type": "execute_result"
    }
   ],
   "source": [
    "len(genes)"
   ]
  },
  {
   "cell_type": "code",
   "execution_count": 22,
   "metadata": {},
   "outputs": [
    {
     "data": {
      "text/plain": [
       "1136"
      ]
     },
     "execution_count": 22,
     "metadata": {},
     "output_type": "execute_result"
    }
   ],
   "source": [
    "len(prots)"
   ]
  },
  {
   "cell_type": "code",
   "execution_count": 6,
   "metadata": {
    "scrolled": false
   },
   "outputs": [
    {
     "data": {
      "text/html": [
       "<div>\n",
       "<style scoped>\n",
       "    .dataframe tbody tr th:only-of-type {\n",
       "        vertical-align: middle;\n",
       "    }\n",
       "\n",
       "    .dataframe tbody tr th {\n",
       "        vertical-align: top;\n",
       "    }\n",
       "\n",
       "    .dataframe thead th {\n",
       "        text-align: right;\n",
       "    }\n",
       "</style>\n",
       "<table border=\"1\" class=\"dataframe\">\n",
       "  <thead>\n",
       "    <tr style=\"text-align: right;\">\n",
       "      <th></th>\n",
       "      <th>id</th>\n",
       "      <th>type</th>\n",
       "      <th>symbolic_coeffs</th>\n",
       "      <th>reaction</th>\n",
       "    </tr>\n",
       "  </thead>\n",
       "  <tbody>\n",
       "    <tr>\n",
       "      <th>0</th>\n",
       "      <td>RXN-BTDDH_c_FWD-YAL060W</td>\n",
       "      <td>metabolic</td>\n",
       "      <td>mu/keff</td>\n",
       "      <td>MET-btd_c + MET-nad_c + mu/keff ENZ-YAL060W --...</td>\n",
       "    </tr>\n",
       "    <tr>\n",
       "      <th>1</th>\n",
       "      <td>RXN-BTDDH_c_REV-YAL060W</td>\n",
       "      <td>metabolic</td>\n",
       "      <td>mu/keff</td>\n",
       "      <td>MET-actn__R_c + MET-h_c + MET-nadh_c + mu/keff...</td>\n",
       "    </tr>\n",
       "    <tr>\n",
       "      <th>2</th>\n",
       "      <td>RXN-13GS_c_FWD-GSC2RHO1</td>\n",
       "      <td>metabolic</td>\n",
       "      <td>mu/keff</td>\n",
       "      <td>MET-udpg_c + mu/keff ENZ-GSC2RHO1 --&gt; MET-13BD...</td>\n",
       "    </tr>\n",
       "    <tr>\n",
       "      <th>3</th>\n",
       "      <td>RXN-13GS_c_FWD-GSC1RHO1</td>\n",
       "      <td>metabolic</td>\n",
       "      <td>mu/keff</td>\n",
       "      <td>MET-udpg_c + mu/keff ENZ-GSC1RHO1 --&gt; MET-13BD...</td>\n",
       "    </tr>\n",
       "    <tr>\n",
       "      <th>4</th>\n",
       "      <td>RXN-16GS_c_FWD-YPR159W</td>\n",
       "      <td>metabolic</td>\n",
       "      <td>mu/keff</td>\n",
       "      <td>MET-udpg_c + mu/keff ENZ-YPR159W --&gt; MET-16BDg...</td>\n",
       "    </tr>\n",
       "    <tr>\n",
       "      <th>...</th>\n",
       "      <td>...</td>\n",
       "      <td>...</td>\n",
       "      <td>...</td>\n",
       "      <td>...</td>\n",
       "    </tr>\n",
       "    <tr>\n",
       "      <th>5352</th>\n",
       "      <td>BIODIL-BIODILRESPIRATION</td>\n",
       "      <td>biomass</td>\n",
       "      <td>PARAM-BIO-unmodeledProtBiom,PARAM-BIO-modeledP...</td>\n",
       "      <td>PARAM-BIO-unmodeledProtBiom BIO-unmodeledProtB...</td>\n",
       "    </tr>\n",
       "    <tr>\n",
       "      <th>5353</th>\n",
       "      <td>DMRXNS-BIO-unmodeledProtBiom</td>\n",
       "      <td>debug</td>\n",
       "      <td>NaN</td>\n",
       "      <td>BIO-unmodeledProtBiom --&gt;</td>\n",
       "    </tr>\n",
       "    <tr>\n",
       "      <th>5354</th>\n",
       "      <td>DMRXNS-BIO-modeledProtBiom_c</td>\n",
       "      <td>debug</td>\n",
       "      <td>NaN</td>\n",
       "      <td>BIO-modeledProtBiom_c --&gt;</td>\n",
       "    </tr>\n",
       "    <tr>\n",
       "      <th>5355</th>\n",
       "      <td>DMRXNS-BIO-modeledProtBiom_m</td>\n",
       "      <td>debug</td>\n",
       "      <td>NaN</td>\n",
       "      <td>BIO-modeledProtBiom_m --&gt;</td>\n",
       "    </tr>\n",
       "    <tr>\n",
       "      <th>5356</th>\n",
       "      <td>DMRXNS-BIO-rna_c</td>\n",
       "      <td>debug</td>\n",
       "      <td>NaN</td>\n",
       "      <td>BIO-rna_c --&gt;</td>\n",
       "    </tr>\n",
       "  </tbody>\n",
       "</table>\n",
       "<p>5357 rows × 4 columns</p>\n",
       "</div>"
      ],
      "text/plain": [
       "                                id       type  \\\n",
       "0          RXN-BTDDH_c_FWD-YAL060W  metabolic   \n",
       "1          RXN-BTDDH_c_REV-YAL060W  metabolic   \n",
       "2          RXN-13GS_c_FWD-GSC2RHO1  metabolic   \n",
       "3          RXN-13GS_c_FWD-GSC1RHO1  metabolic   \n",
       "4           RXN-16GS_c_FWD-YPR159W  metabolic   \n",
       "...                            ...        ...   \n",
       "5352      BIODIL-BIODILRESPIRATION    biomass   \n",
       "5353  DMRXNS-BIO-unmodeledProtBiom      debug   \n",
       "5354  DMRXNS-BIO-modeledProtBiom_c      debug   \n",
       "5355  DMRXNS-BIO-modeledProtBiom_m      debug   \n",
       "5356              DMRXNS-BIO-rna_c      debug   \n",
       "\n",
       "                                        symbolic_coeffs  \\\n",
       "0                                               mu/keff   \n",
       "1                                               mu/keff   \n",
       "2                                               mu/keff   \n",
       "3                                               mu/keff   \n",
       "4                                               mu/keff   \n",
       "...                                                 ...   \n",
       "5352  PARAM-BIO-unmodeledProtBiom,PARAM-BIO-modeledP...   \n",
       "5353                                                NaN   \n",
       "5354                                                NaN   \n",
       "5355                                                NaN   \n",
       "5356                                                NaN   \n",
       "\n",
       "                                               reaction  \n",
       "0     MET-btd_c + MET-nad_c + mu/keff ENZ-YAL060W --...  \n",
       "1     MET-actn__R_c + MET-h_c + MET-nadh_c + mu/keff...  \n",
       "2     MET-udpg_c + mu/keff ENZ-GSC2RHO1 --> MET-13BD...  \n",
       "3     MET-udpg_c + mu/keff ENZ-GSC1RHO1 --> MET-13BD...  \n",
       "4     MET-udpg_c + mu/keff ENZ-YPR159W --> MET-16BDg...  \n",
       "...                                                 ...  \n",
       "5352  PARAM-BIO-unmodeledProtBiom BIO-unmodeledProtB...  \n",
       "5353                         BIO-unmodeledProtBiom -->   \n",
       "5354                         BIO-modeledProtBiom_c -->   \n",
       "5355                         BIO-modeledProtBiom_m -->   \n",
       "5356                                     BIO-rna_c -->   \n",
       "\n",
       "[5357 rows x 4 columns]"
      ]
     },
     "execution_count": 6,
     "metadata": {},
     "output_type": "execute_result"
    }
   ],
   "source": [
    "df_raw"
   ]
  },
  {
   "cell_type": "code",
   "execution_count": null,
   "metadata": {},
   "outputs": [],
   "source": []
  }
 ],
 "metadata": {
  "kernelspec": {
   "display_name": "Python 3",
   "language": "python",
   "name": "python3"
  },
  "language_info": {
   "codemirror_mode": {
    "name": "ipython",
    "version": 3
   },
   "file_extension": ".py",
   "mimetype": "text/x-python",
   "name": "python",
   "nbconvert_exporter": "python",
   "pygments_lexer": "ipython3",
   "version": "3.7.9"
  }
 },
 "nbformat": 4,
 "nbformat_minor": 4
}
