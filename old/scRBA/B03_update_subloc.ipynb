{
 "cells": [
  {
   "cell_type": "code",
   "execution_count": 1,
   "metadata": {},
   "outputs": [],
   "source": [
    "import cobra\n",
    "import pandas as pd"
   ]
  },
  {
   "cell_type": "code",
   "execution_count": 2,
   "metadata": {},
   "outputs": [],
   "source": [
    "model = cobra.io.load_json_model('./input/model/y834_hvd_v3_rba.json')"
   ]
  },
  {
   "cell_type": "markdown",
   "metadata": {},
   "source": [
    "Compile info"
   ]
  },
  {
   "cell_type": "code",
   "execution_count": 3,
   "metadata": {},
   "outputs": [],
   "source": [
    "df_info = pd.read_excel('./enz_info_uniprot.xlsx')\n",
    "df_info.index = df_info.id.to_list()\n",
    "\n",
    "df_subloc = pd.read_excel('./enz_subloc_compiled.xlsx')\n",
    "df_subloc.index = df_subloc.id.to_list()\n",
    "\n",
    "df_fix = pd.read_excel('./enz_subloc_curation.xlsx')\n",
    "df_fix.index = df_fix.id.to_list()"
   ]
  },
  {
   "cell_type": "code",
   "execution_count": 4,
   "metadata": {},
   "outputs": [],
   "source": [
    "for i in df_fix.index:\n",
    "    # Check for \"remove\" in note\n",
    "    note = df_fix.notes[i]\n",
    "    if pd.isnull(note) == False:\n",
    "        x1,x2 = note.split(':')\n",
    "        if x1 == 'remove':\n",
    "            if x2 in df_subloc.uniprot:\n",
    "                print(i)\n",
    "                \n",
    "    if i in df_subloc.index:\n",
    "        df_subloc.loc[i, 'compiled_subloc'] = df_fix.loc[i, 'compiled_subloc']"
   ]
  },
  {
   "cell_type": "code",
   "execution_count": 5,
   "metadata": {},
   "outputs": [
    {
     "data": {
      "text/html": [
       "<div>\n",
       "<style scoped>\n",
       "    .dataframe tbody tr th:only-of-type {\n",
       "        vertical-align: middle;\n",
       "    }\n",
       "\n",
       "    .dataframe tbody tr th {\n",
       "        vertical-align: top;\n",
       "    }\n",
       "\n",
       "    .dataframe thead th {\n",
       "        text-align: right;\n",
       "    }\n",
       "</style>\n",
       "<table border=\"1\" class=\"dataframe\">\n",
       "  <thead>\n",
       "    <tr style=\"text-align: right;\">\n",
       "      <th></th>\n",
       "      <th>id</th>\n",
       "      <th>name</th>\n",
       "      <th>uniprot</th>\n",
       "      <th>uniprot_name</th>\n",
       "      <th>uniprot_subloc</th>\n",
       "      <th>gem_subloc</th>\n",
       "      <th>uniprot_membrane</th>\n",
       "      <th>compiled_subloc</th>\n",
       "    </tr>\n",
       "  </thead>\n",
       "  <tbody>\n",
       "  </tbody>\n",
       "</table>\n",
       "</div>"
      ],
      "text/plain": [
       "Empty DataFrame\n",
       "Columns: [id, name, uniprot, uniprot_name, uniprot_subloc, gem_subloc, uniprot_membrane, compiled_subloc]\n",
       "Index: []"
      ]
     },
     "execution_count": 5,
     "metadata": {},
     "output_type": "execute_result"
    }
   ],
   "source": [
    "df_subloc[df_subloc.compiled_subloc.isnull()]"
   ]
  },
  {
   "cell_type": "code",
   "execution_count": 6,
   "metadata": {},
   "outputs": [],
   "source": [
    "if 'subloc_assigned' not in df_info.columns:\n",
    "    df_info.insert(7, 'subloc_assigned', [None]*df_info.shape[0])\n",
    "df_info['subloc_assigned'] = df_subloc['compiled_subloc']"
   ]
  },
  {
   "cell_type": "code",
   "execution_count": null,
   "metadata": {},
   "outputs": [],
   "source": [
    "df_info.to_excel('./enz_info_uniprot_step2.xlsx', index=False)"
   ]
  },
  {
   "cell_type": "markdown",
   "metadata": {},
   "source": [
    "Create compartmentalized enzyme entries"
   ]
  },
  {
   "cell_type": "raw",
   "metadata": {},
   "source": [
    "cols = ['id', 'name', 'uniprot', 'uniprot_name', 'subunit', 'subloc',\n",
    "        'subloc_assigned', 'cofactor', 'notes']\n",
    "cols_trans = ['name', 'uniprot', 'uniprot_name', 'subunit', 'subloc',\n",
    "              'cofactor', 'notes']\n",
    "\n",
    "df_info2 = pd.DataFrame(columns=cols)\n",
    "\n",
    "for i in df_info.index:\n",
    "    sublocs = df_info.subloc_assigned[i].split(',')\n",
    "    for subloc in sublocs:\n",
    "        i2 = i + '_' + subloc\n",
    "        df_info2.loc[i2, 'id'] = i2\n",
    "        df_info2.loc[i2, cols_trans] = df_info.loc[i, cols_trans]\n",
    "        df_info2.loc[i2, 'subloc_assigned'] = subloc"
   ]
  },
  {
   "cell_type": "code",
   "execution_count": null,
   "metadata": {},
   "outputs": [],
   "source": []
  }
 ],
 "metadata": {
  "kernelspec": {
   "display_name": "Python 3",
   "language": "python",
   "name": "python3"
  },
  "language_info": {
   "codemirror_mode": {
    "name": "ipython",
    "version": 3
   },
   "file_extension": ".py",
   "mimetype": "text/x-python",
   "name": "python",
   "nbconvert_exporter": "python",
   "pygments_lexer": "ipython3",
   "version": "3.7.9"
  }
 },
 "nbformat": 4,
 "nbformat_minor": 4
}
