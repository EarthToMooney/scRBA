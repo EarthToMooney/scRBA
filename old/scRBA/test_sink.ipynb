{
 "cells": [
  {
   "cell_type": "code",
   "execution_count": 1,
   "metadata": {},
   "outputs": [],
   "source": [
    "import cobra\n",
    "import pandas as pd\n",
    "from copy import deepcopy\n",
    "\n",
    "from custom_functions_scRBA import *"
   ]
  },
  {
   "cell_type": "code",
   "execution_count": 2,
   "metadata": {},
   "outputs": [
    {
     "name": "stdout",
     "output_type": "stream",
     "text": [
      "Using license file /home/hvdinh16/Workspace/Softwares/gurobi910/linux64/gurobi.lic\n",
      "Academic license - for non-commercial use only - expires 2022-08-08\n"
     ]
    }
   ],
   "source": [
    "#### LOAD INPUTS\n",
    "# COBRA model containing static stoichiometry\n",
    "model = cobra.io.load_json_model('./model/RBA_constantSij.cobra.json')\n",
    "model.solver = 'cplex'\n",
    "model.solver.configuration.tolerances.feasibility = 1e-8\n",
    "model.solver.configuration.tolerances.optimality = 1e-8\n",
    "\n",
    "# Growth-dependent stoichiometry\n",
    "df_sij_mu = pd.read_excel('./model/RBA_growthDependent_Sij.xlsx')\n",
    "\n",
    "# Debugging reactions\n",
    "rxnid = 'DEBUG-ribonucactive'\n",
    "model.add_reactions([cobra.Reaction(rxnid)])\n",
    "rxn = model.reactions.get_by_id(rxnid)\n",
    "rxn.reaction = 'RIBO-ribonuc --> RIBO-ribonucactive'\n",
    "rxn.bounds = (0,0)\n",
    "\n",
    "rxnid = 'DEBUG-ribomitoactive'\n",
    "model.add_reactions([cobra.Reaction(rxnid)])\n",
    "rxn = model.reactions.get_by_id(rxnid)\n",
    "rxn.reaction = 'RIBO-ribomito --> RIBO-ribomitoactive'\n",
    "rxn.bounds = (0,0)\n",
    "\n",
    "rxnid = 'SINK-BIO-prot'\n",
    "model.add_reactions([cobra.Reaction(rxnid)])\n",
    "rxn = model.reactions.get_by_id(rxnid)\n",
    "rxn.reaction = 'BIO-prot --> '\n",
    "rxn.bounds = (0,0)\n",
    "\n",
    "rxnid = 'SINK-BIO-rna'\n",
    "model.add_reactions([cobra.Reaction(rxnid)])\n",
    "rxn = model.reactions.get_by_id(rxnid)\n",
    "rxn.reaction = 'BIO-rna --> '\n",
    "rxn.bounds = (0,0)\n",
    "\n",
    "rxnid = 'SINK-BIO-rrna'\n",
    "model.add_reactions([cobra.Reaction(rxnid)])\n",
    "rxn = model.reactions.get_by_id(rxnid)\n",
    "rxn.reaction = 'BIO-rrna --> '\n",
    "rxn.bounds = (0,0)"
   ]
  },
  {
   "cell_type": "code",
   "execution_count": 3,
   "metadata": {},
   "outputs": [],
   "source": [
    "def evalModelAtMu(model, df_sij_mu, mu, biomId='BIOSYN-BIODIL'):\n",
    "    # Need to load cobraModel \"model\", unevaluated symbolic coefficients \"df_sij_mu\",\n",
    "    # and growth rate at which the model is evaluated \"mu\"\n",
    "    # \"Unevaluated symbolic coefficients\" means the symbolic expression in string\n",
    "    # form before being evaluated into number in float form via eval(\"string\")\n",
    "    \n",
    "    coeffs = dict()\n",
    "    \n",
    "    # Evaluate symbolic coefficients\n",
    "    for i in df_sij_mu.index:\n",
    "        rxn = model.reactions.get_by_id(df_sij_mu.reaction[i])\n",
    "        met = model.metabolites.get_by_id(df_sij_mu.species[i])\n",
    "        v = eval(df_sij_mu.Sij[i])\n",
    "        coeffs[(rxn,met)] = v\n",
    "        # Implement symbolic coefficients\n",
    "        rxn.add_metabolites({met:v})\n",
    "\n",
    "    # Set growth rate mu\n",
    "    #model.reactions.get_by_id(biomId).bounds = (mu,mu)\n",
    "    \n",
    "    # Run FBA\n",
    "    fba = model.optimize()\n",
    "    \n",
    "    # Remove symbolic coefficients implementation\n",
    "    for k,v in coeffs.items():\n",
    "        rxn,met = k\n",
    "        rxn.subtract_metabolites({met:v})\n",
    "    \n",
    "    return(fba)"
   ]
  },
  {
   "cell_type": "code",
   "execution_count": 8,
   "metadata": {},
   "outputs": [],
   "source": [
    "biomId = 'BIOSYN-BIODIL'\n",
    "mu = 1e-2\n",
    "coeffs = dict()\n",
    "\n",
    "# Evaluate symbolic coefficients\n",
    "for i in df_sij_mu.index:\n",
    "    rxn = model.reactions.get_by_id(df_sij_mu.reaction[i])\n",
    "    met = model.metabolites.get_by_id(df_sij_mu.species[i])\n",
    "    v = eval(df_sij_mu.Sij[i])\n",
    "    coeffs[(rxn,met)] = v\n",
    "    # Implement symbolic coefficients\n",
    "    rxn.add_metabolites({met:v})\n",
    "\n",
    "# Set growth rate mu\n",
    "model.reactions.get_by_id(biomId).bounds = (mu,mu)"
   ]
  },
  {
   "cell_type": "code",
   "execution_count": 9,
   "metadata": {},
   "outputs": [
    {
     "name": "stdout",
     "output_type": "stream",
     "text": [
      "infeasible\n",
      "0.01\n"
     ]
    }
   ],
   "source": [
    "fba = model.optimize()\n",
    "print(fba.status)\n",
    "print(fba[biomId])"
   ]
  },
  {
   "cell_type": "code",
   "execution_count": 6,
   "metadata": {},
   "outputs": [
    {
     "data": {
      "text/plain": [
       "'44.0 MET-alatrna_c + 9.0 MET-argtrna_c + 27.0 MET-asntrna_c + 13.0 MET-asptrna_c + MET-atp_c + MET-cu2_c + MET-cystrna_c + MET-fmettrna_c + 9.0 MET-glntrna_c + 9.0 MET-glutrna_c + 43.0 MET-glytrna_c + 1068.0 MET-gtp_c + 1069.0 MET-h2o_c + 2.0 MET-hemegen_c + 16.0 MET-histrna_c + 49.0 MET-iletrna_c + 68.0 MET-leutrna_c + 10.0 MET-lystrna_c + 20.0 MET-mettrna_c + 44.0 MET-phetrna_c + 25.0 MET-protrna_c + 43.0 MET-sertrna_c + 31.0 MET-thrtrna_c + 10.0 MET-trptrna_c + 24.0 MET-tyrtrna_c + 38.0 MET-valtrna_c + 1.412698412698e-06 RIBO-ribomitoactive --> 59.59198 BIO-protmito + MET-adp_c + MET-for_c + 1068.0 MET-gdp_c + 1069.0 MET-h_c + 1069.0 MET-pi_c + 44.0 MET-trnaala_c + 9.0 MET-trnaarg_c + 27.0 MET-trnaasn_c + 13.0 MET-trnaasp_c + MET-trnacys_c + 9.0 MET-trnagln_c + 9.0 MET-trnaglu_c + 43.0 MET-trnagly_c + 16.0 MET-trnahis_c + 49.0 MET-trnaile_c + 68.0 MET-trnaleu_c + 10.0 MET-trnalys_c + 21.0 MET-trnamet_c + 44.0 MET-trnaphe_c + 25.0 MET-trnapro_c + 43.0 MET-trnaser_c + 31.0 MET-trnathr_c + 10.0 MET-trnatrp_c + 24.0 MET-trnatyr_c + 38.0 MET-trnaval_c + PRO-Q0045'"
      ]
     },
     "execution_count": 6,
     "metadata": {},
     "output_type": "execute_result"
    }
   ],
   "source": [
    "model.reactions.get_by_id('PROSYN-Q0045').reaction"
   ]
  },
  {
   "cell_type": "code",
   "execution_count": 6,
   "metadata": {},
   "outputs": [
    {
     "data": {
      "text/plain": [
       "'RIBO-ribomito --> 0.3869220352099052 RIBO-ribomitoactive'"
      ]
     },
     "execution_count": 6,
     "metadata": {},
     "output_type": "execute_result"
    }
   ],
   "source": [
    "model.reactions.get_by_id('RIBOSYN-ribomitoactive').reaction"
   ]
  },
  {
   "cell_type": "code",
   "execution_count": 7,
   "metadata": {},
   "outputs": [],
   "source": [
    "# Remove symbolic coefficients implementation\n",
    "for i in df_sij_mu.index:\n",
    "    rxn = model.reactions.get_by_id(df_sij_mu.reaction[i])\n",
    "    met = model.metabolites.get_by_id(df_sij_mu.species[i])\n",
    "    v = eval(df_sij_mu.Sij[i])\n",
    "    rxn.subtract_metabolites({met:v})"
   ]
  },
  {
   "cell_type": "code",
   "execution_count": 8,
   "metadata": {},
   "outputs": [
    {
     "data": {
      "text/plain": [
       "'44.0 MET-alatrna_c + 9.0 MET-argtrna_c + 27.0 MET-asntrna_c + 13.0 MET-asptrna_c + MET-atp_c + MET-cu2_c + MET-cystrna_c + MET-fmettrna_c + 9.0 MET-glntrna_c + 9.0 MET-glutrna_c + 43.0 MET-glytrna_c + 1068.0 MET-gtp_c + 1069.0 MET-h2o_c + 2.0 MET-hemegen_c + 16.0 MET-histrna_c + 49.0 MET-iletrna_c + 68.0 MET-leutrna_c + 10.0 MET-lystrna_c + 20.0 MET-mettrna_c + 44.0 MET-phetrna_c + 25.0 MET-protrna_c + 43.0 MET-sertrna_c + 31.0 MET-thrtrna_c + 10.0 MET-trptrna_c + 24.0 MET-tyrtrna_c + 38.0 MET-valtrna_c --> 59.59198 BIO-protmito + MET-adp_c + MET-for_c + 1068.0 MET-gdp_c + 1069.0 MET-h_c + 1069.0 MET-pi_c + 44.0 MET-trnaala_c + 9.0 MET-trnaarg_c + 27.0 MET-trnaasn_c + 13.0 MET-trnaasp_c + MET-trnacys_c + 9.0 MET-trnagln_c + 9.0 MET-trnaglu_c + 43.0 MET-trnagly_c + 16.0 MET-trnahis_c + 49.0 MET-trnaile_c + 68.0 MET-trnaleu_c + 10.0 MET-trnalys_c + 21.0 MET-trnamet_c + 44.0 MET-trnaphe_c + 25.0 MET-trnapro_c + 43.0 MET-trnaser_c + 31.0 MET-trnathr_c + 10.0 MET-trnatrp_c + 24.0 MET-trnatyr_c + 38.0 MET-trnaval_c + PRO-Q0045'"
      ]
     },
     "execution_count": 8,
     "metadata": {},
     "output_type": "execute_result"
    }
   ],
   "source": [
    "model.reactions.get_by_id('PROSYN-Q0045').reaction"
   ]
  },
  {
   "cell_type": "code",
   "execution_count": 9,
   "metadata": {},
   "outputs": [
    {
     "data": {
      "text/plain": [
       "'RIBO-ribomito --> '"
      ]
     },
     "execution_count": 9,
     "metadata": {},
     "output_type": "execute_result"
    }
   ],
   "source": [
    "model.reactions.get_by_id('RIBOSYN-ribomitoactive').reaction"
   ]
  },
  {
   "cell_type": "code",
   "execution_count": null,
   "metadata": {},
   "outputs": [],
   "source": []
  },
  {
   "cell_type": "code",
   "execution_count": null,
   "metadata": {},
   "outputs": [],
   "source": []
  },
  {
   "cell_type": "code",
   "execution_count": 4,
   "metadata": {},
   "outputs": [],
   "source": [
    "# Substrate uptake\n",
    "model.reactions.get_by_id('RXN-EX_glc__D_e_REV-SPONT').bounds = (0,1000)\n",
    "model.reactions.get_by_id('RXN-EX_glc__D_e_FWD-SPONT').bounds = (0,0)"
   ]
  },
  {
   "cell_type": "code",
   "execution_count": 5,
   "metadata": {},
   "outputs": [
    {
     "name": "stdout",
     "output_type": "stream",
     "text": [
      "Sink test for RIBO-ribonucactive\n",
      "optimal\n",
      "0.0008542935645882732\n"
     ]
    }
   ],
   "source": [
    "met = 'RIBO-ribonucactive'\n",
    "rxnid = 'SINK-' + met\n",
    "model.add_reactions([cobra.Reaction('SINK-' + met)])\n",
    "rxn = model.reactions.get_by_id(rxnid)\n",
    "rxn.reaction = met + ' --> '\n",
    "\n",
    "model.reactions.get_by_id('SINK-BIO-prot').bounds = (0,1000)\n",
    "model.reactions.get_by_id('SINK-BIO-rna').bounds = (0,1000)\n",
    "\n",
    "rxn.objective_coefficient = 1\n",
    "fba = evalModelAtMu(model, df_sij_mu, 0.01)\n",
    "print('Sink test for ' + met)\n",
    "print(fba.status)\n",
    "print(fba[rxn.id])\n",
    "\n",
    "model.remove_reactions([rxn])\n",
    "model.reactions.get_by_id('SINK-BIO-prot').bounds = (0,0)\n",
    "model.reactions.get_by_id('SINK-BIO-rna').bounds = (0,0)"
   ]
  },
  {
   "cell_type": "code",
   "execution_count": 10,
   "metadata": {},
   "outputs": [],
   "source": []
  },
  {
   "cell_type": "code",
   "execution_count": null,
   "metadata": {},
   "outputs": [],
   "source": []
  },
  {
   "cell_type": "code",
   "execution_count": 12,
   "metadata": {},
   "outputs": [],
   "source": [
    "# Remove symbolic coefficients implementation\n",
    "for i in df_sij_mu.index:\n",
    "    rxn = model.reactions.get_by_id(df_sij_mu.reaction[i])\n",
    "    met = model.metabolites.get_by_id(df_sij_mu.species[i])\n",
    "    v = eval(df_sij_mu.Sij[i])\n",
    "    rxn.subtract_metabolites({met:v})"
   ]
  },
  {
   "cell_type": "code",
   "execution_count": 13,
   "metadata": {},
   "outputs": [
    {
     "data": {
      "text/plain": [
       "'44.0 MET-alatrna_c + 9.0 MET-argtrna_c + 27.0 MET-asntrna_c + 13.0 MET-asptrna_c + MET-atp_c + MET-cu2_c + MET-cystrna_c + MET-fmettrna_c + 9.0 MET-glntrna_c + 9.0 MET-glutrna_c + 43.0 MET-glytrna_c + 1068.0 MET-gtp_c + 1069.0 MET-h2o_c + 2.0 MET-hemegen_c + 16.0 MET-histrna_c + 49.0 MET-iletrna_c + 68.0 MET-leutrna_c + 10.0 MET-lystrna_c + 20.0 MET-mettrna_c + 44.0 MET-phetrna_c + 25.0 MET-protrna_c + 43.0 MET-sertrna_c + 31.0 MET-thrtrna_c + 10.0 MET-trptrna_c + 24.0 MET-tyrtrna_c + 38.0 MET-valtrna_c + 0.0001412698412698 RIBO-ribomitoactive --> 59.59198 BIO-protmito + MET-adp_c + MET-for_c + 1068.0 MET-gdp_c + 1069.0 MET-h_c + 1069.0 MET-pi_c + 44.0 MET-trnaala_c + 9.0 MET-trnaarg_c + 27.0 MET-trnaasn_c + 13.0 MET-trnaasp_c + MET-trnacys_c + 9.0 MET-trnagln_c + 9.0 MET-trnaglu_c + 43.0 MET-trnagly_c + 16.0 MET-trnahis_c + 49.0 MET-trnaile_c + 68.0 MET-trnaleu_c + 10.0 MET-trnalys_c + 21.0 MET-trnamet_c + 44.0 MET-trnaphe_c + 25.0 MET-trnapro_c + 43.0 MET-trnaser_c + 31.0 MET-trnathr_c + 10.0 MET-trnatrp_c + 24.0 MET-trnatyr_c + 38.0 MET-trnaval_c + PRO-Q0045'"
      ]
     },
     "execution_count": 13,
     "metadata": {},
     "output_type": "execute_result"
    }
   ],
   "source": [
    "model.reactions.get_by_id('PROSYN-Q0045').reaction"
   ]
  },
  {
   "cell_type": "code",
   "execution_count": null,
   "metadata": {},
   "outputs": [],
   "source": []
  },
  {
   "cell_type": "code",
   "execution_count": 7,
   "metadata": {},
   "outputs": [
    {
     "name": "stdout",
     "output_type": "stream",
     "text": [
      "RIBO-rrna18s_c --> \n",
      "Sink test for RIBO-rrna18s_c\n",
      "optimal\n",
      "0.04713084126842829\n"
     ]
    }
   ],
   "source": [
    "met = 'RIBO-rrna18s_c'\n",
    "rxnid = 'SINK-' + met\n",
    "model.add_reactions([cobra.Reaction('SINK-' + met)])\n",
    "rxn = model.reactions.get_by_id(rxnid)\n",
    "rxn.reaction = met + ' --> '\n",
    "\n",
    "model.reactions.get_by_id('SINK-BIO-rna').bounds = (0,1000)\n",
    "\n",
    "print(rxn.reaction)\n",
    "\n",
    "rxn.objective_coefficient = 1\n",
    "fba = evalModelAtMu(model, df_sij_mu, 0)\n",
    "print('Sink test for ' + met)\n",
    "print(fba.status)\n",
    "print(fba[rxn.id])\n",
    "\n",
    "model.remove_reactions([rxn])\n",
    "model.reactions.get_by_id('SINK-BIO-rna').bounds = (0,0)"
   ]
  },
  {
   "cell_type": "code",
   "execution_count": 17,
   "metadata": {},
   "outputs": [
    {
     "name": "stdout",
     "output_type": "stream",
     "text": [
      "PRO-YDR036C --> \n",
      "Sink test for PRO-YDR036C\n",
      "infeasible\n",
      "-4.072437895966771e-08\n"
     ]
    }
   ],
   "source": [
    "met = 'PRO-YDR036C'\n",
    "rxnid = 'SINK-' + met\n",
    "model.add_reactions([cobra.Reaction('SINK-' + met)])\n",
    "rxn = model.reactions.get_by_id(rxnid)\n",
    "rxn.reaction = met + ' --> '\n",
    "\n",
    "model.reactions.get_by_id('SINK-BIO-prot').bounds = (0,1000)\n",
    "\n",
    "print(rxn.reaction)\n",
    "\n",
    "rxn.objective_coefficient = 1\n",
    "fba = evalModelAtMu(model, df_sij_mu, 0.01)\n",
    "print('Sink test for ' + met)\n",
    "print(fba.status)\n",
    "print(fba[rxn.id])\n",
    "\n",
    "model.remove_reactions([rxn])\n",
    "model.reactions.get_by_id('SINK-BIO-prot').bounds = (0,0)"
   ]
  },
  {
   "cell_type": "code",
   "execution_count": 6,
   "metadata": {},
   "outputs": [
    {
     "name": "stdout",
     "output_type": "stream",
     "text": [
      "BIO-pi --> \n",
      "Sink test for BIO-pi\n",
      "optimal\n",
      "95.979\n"
     ]
    }
   ],
   "source": [
    "met = 'BIO-pi'\n",
    "rxnid = 'SINK-' + met\n",
    "model.add_reactions([cobra.Reaction('SINK-' + met)])\n",
    "rxn = model.reactions.get_by_id(rxnid)\n",
    "rxn.reaction = met + ' --> '\n",
    "\n",
    "#model.reactions.get_by_id('SINK-BIO-prot').bounds = (0,1000)\n",
    "\n",
    "print(rxn.reaction)\n",
    "\n",
    "rxn.objective_coefficient = 1\n",
    "fba = evalModelAtMu(model, df_sij_mu, 0)\n",
    "print('Sink test for ' + met)\n",
    "print(fba.status)\n",
    "print(fba[rxn.id])\n",
    "\n",
    "model.remove_reactions([rxn])\n",
    "#model.reactions.get_by_id('SINK-BIO-prot').bounds = (0,0)"
   ]
  },
  {
   "cell_type": "code",
   "execution_count": null,
   "metadata": {},
   "outputs": [],
   "source": []
  },
  {
   "cell_type": "code",
   "execution_count": 10,
   "metadata": {},
   "outputs": [
    {
     "data": {
      "text/plain": [
       "'0.0048 BIO-cofactor + 0.0039 BIO-dna + 0.0697 BIO-lipid + 0.0254 BIO-metal + 0.0101 BIO-pi + 0.003 BIO-so4 + 0.8879 BIO-varbiom + 76.0 MET-atp_c + 76.0 MET-h2o_c --> 76.0 MET-adp_c + 76.0 MET-h_c + 76.0 MET-pi_c'"
      ]
     },
     "execution_count": 10,
     "metadata": {},
     "output_type": "execute_result"
    }
   ],
   "source": [
    "model.reactions.get_by_id('BIO-BIODIL').reaction"
   ]
  },
  {
   "cell_type": "code",
   "execution_count": null,
   "metadata": {},
   "outputs": [],
   "source": []
  },
  {
   "cell_type": "code",
   "execution_count": 13,
   "metadata": {},
   "outputs": [
    {
     "data": {
      "text/html": [
       "\n",
       "        <table>\n",
       "            <tr>\n",
       "                <td><strong>Reaction identifier</strong></td><td>SINK-BIO-rrna</td>\n",
       "            </tr><tr>\n",
       "                <td><strong>Name</strong></td><td></td>\n",
       "            </tr><tr>\n",
       "                <td><strong>Memory address</strong></td>\n",
       "                <td>0x07f9db528fc10</td>\n",
       "            </tr><tr>\n",
       "                <td><strong>Stoichiometry</strong></td>\n",
       "                <td>\n",
       "                    <p style='text-align:right'>BIO-rrna --> </p>\n",
       "                    <p style='text-align:right'> --> </p>\n",
       "                </td>\n",
       "            </tr><tr>\n",
       "                <td><strong>GPR</strong></td><td></td>\n",
       "            </tr><tr>\n",
       "                <td><strong>Lower bound</strong></td><td>0</td>\n",
       "            </tr><tr>\n",
       "                <td><strong>Upper bound</strong></td><td>0</td>\n",
       "            </tr>\n",
       "        </table>\n",
       "        "
      ],
      "text/plain": [
       "<Reaction SINK-BIO-rrna at 0x7f9db528fc10>"
      ]
     },
     "execution_count": 13,
     "metadata": {},
     "output_type": "execute_result"
    }
   ],
   "source": [
    "model.reactions.get_by_id('SINK-BIO-rrna')"
   ]
  },
  {
   "cell_type": "code",
   "execution_count": null,
   "metadata": {},
   "outputs": [],
   "source": [
    "model.reactions.get_by_id('SINK-BIO-rrna')"
   ]
  },
  {
   "cell_type": "code",
   "execution_count": null,
   "metadata": {},
   "outputs": [],
   "source": []
  },
  {
   "cell_type": "code",
   "execution_count": 12,
   "metadata": {},
   "outputs": [
    {
     "name": "stdout",
     "output_type": "stream",
     "text": [
      "Sink test for MET-utp_c\n",
      "optimal\n",
      "133.888532991672\n"
     ]
    }
   ],
   "source": [
    "met = 'MET-utp_c'\n",
    "rxnid = 'SINK-' + met\n",
    "model.add_reactions([cobra.Reaction('SINK-' + met)])\n",
    "rxn = model.reactions.get_by_id(rxnid)\n",
    "rxn.reaction = met + ' --> '\n",
    "\n",
    "\n",
    "rxn.objective_coefficient = 1\n",
    "fba = evalModelAtMu(model, df_sij_mu, 0)\n",
    "print('Sink test for ' + met)\n",
    "print(fba.status)\n",
    "print(fba[rxn.id])\n",
    "\n",
    "model.remove_reactions([rxn])"
   ]
  },
  {
   "cell_type": "code",
   "execution_count": null,
   "metadata": {},
   "outputs": [],
   "source": [
    "model.reactions.get_by_id()"
   ]
  },
  {
   "cell_type": "code",
   "execution_count": 41,
   "metadata": {},
   "outputs": [
    {
     "name": "stdout",
     "output_type": "stream",
     "text": [
      "Sink test\n",
      "optimal\n",
      "0.47493199837296013\n"
     ]
    }
   ],
   "source": [
    "met = 'PRO-Q0045'\n",
    "rxnid = 'SINK-' + met\n",
    "model.add_reactions([cobra.Reaction('SINK-' + met)])\n",
    "rxn = model.reactions.get_by_id(rxnid)\n",
    "rxn.reaction = met + ' --> '\n",
    "\n",
    "rxn.objective_coefficient = 1\n",
    "\n",
    "met = 'BIO-prot'\n",
    "rxnid = 'SINK-' + met\n",
    "model.add_reactions([cobra.Reaction('SINK-' + met)])\n",
    "rxn = model.reactions.get_by_id(rxnid)\n",
    "rxn.reaction = met + ' --> '\n",
    "\n",
    "fba = evalModelAtMu(model, df_sij_mu, 0)\n",
    "model.objective = dict()\n",
    "print('Sink test')\n",
    "print(fba.status)\n",
    "print(fba['SINK-PRO-Q0045'])\n",
    "\n",
    "model.remove_reactions(['SINK-PRO-Q0045', 'SINK-BIO-prot'])"
   ]
  },
  {
   "cell_type": "code",
   "execution_count": 35,
   "metadata": {},
   "outputs": [
    {
     "data": {
      "text/plain": [
       "'44.0 MET-alatrna_c + 9.0 MET-argtrna_c + 27.0 MET-asntrna_c + 13.0 MET-asptrna_c + MET-atp_c + MET-cu2_c + MET-cystrna_c + MET-fmettrna_c + 9.0 MET-glntrna_c + 9.0 MET-glutrna_c + 43.0 MET-glytrna_c + 1068.0 MET-gtp_c + 1069.0 MET-h2o_c + 2.0 MET-hemegen_c + 16.0 MET-histrna_c + 49.0 MET-iletrna_c + 68.0 MET-leutrna_c + 10.0 MET-lystrna_c + 20.0 MET-mettrna_c + 44.0 MET-phetrna_c + 25.0 MET-protrna_c + 43.0 MET-sertrna_c + 31.0 MET-thrtrna_c + 10.0 MET-trptrna_c + 24.0 MET-tyrtrna_c + 38.0 MET-valtrna_c --> 59.59198 BIO-protmito + MET-adp_c + MET-for_c + 1068.0 MET-gdp_c + 1069.0 MET-h_c + 1069.0 MET-pi_c + 44.0 MET-trnaala_c + 9.0 MET-trnaarg_c + 27.0 MET-trnaasn_c + 13.0 MET-trnaasp_c + MET-trnacys_c + 9.0 MET-trnagln_c + 9.0 MET-trnaglu_c + 43.0 MET-trnagly_c + 16.0 MET-trnahis_c + 49.0 MET-trnaile_c + 68.0 MET-trnaleu_c + 10.0 MET-trnalys_c + 21.0 MET-trnamet_c + 44.0 MET-trnaphe_c + 25.0 MET-trnapro_c + 43.0 MET-trnaser_c + 31.0 MET-trnathr_c + 10.0 MET-trnatrp_c + 24.0 MET-trnatyr_c + 38.0 MET-trnaval_c + PRO-Q0045'"
      ]
     },
     "execution_count": 35,
     "metadata": {},
     "output_type": "execute_result"
    }
   ],
   "source": [
    "model.reactions.get_by_id('PROSYN-Q0045').reaction"
   ]
  },
  {
   "cell_type": "code",
   "execution_count": null,
   "metadata": {},
   "outputs": [],
   "source": []
  }
 ],
 "metadata": {
  "kernelspec": {
   "display_name": "Python 3",
   "language": "python",
   "name": "python3"
  },
  "language_info": {
   "codemirror_mode": {
    "name": "ipython",
    "version": 3
   },
   "file_extension": ".py",
   "mimetype": "text/x-python",
   "name": "python",
   "nbconvert_exporter": "python",
   "pygments_lexer": "ipython3",
   "version": "3.7.9"
  }
 },
 "nbformat": 4,
 "nbformat_minor": 4
}
