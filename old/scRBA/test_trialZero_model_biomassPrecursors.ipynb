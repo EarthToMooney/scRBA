{
 "cells": [
  {
   "cell_type": "code",
   "execution_count": 1,
   "metadata": {},
   "outputs": [],
   "source": [
    "import cobra\n",
    "import pandas as pd\n",
    "import json\n",
    "from custom_functions_scRBA import *"
   ]
  },
  {
   "cell_type": "code",
   "execution_count": 2,
   "metadata": {},
   "outputs": [],
   "source": [
    "model = cobra.io.load_json_model('./cobraModel_zero.json')\n",
    "model_raw = model.copy()"
   ]
  },
  {
   "cell_type": "code",
   "execution_count": 6,
   "metadata": {},
   "outputs": [],
   "source": [
    "bioms = ['BIO-unmodeledProtBiom', 'BIO-modeledProtBiom_c', 'BIO-modeledProtBiom_m',\n",
    "         'MET-mannan_c', 'MET-13BDglucan_en', 'MET-16BDglucan_en', 'MET-chtn_c',\n",
    "         'MET-glycogen_c', 'MET-tre_c', 'MET-ergst161_rm', 'MET-ergst181_rm',\n",
    "         'MET-ergst_c', 'MET-hdca_c', 'MET-hdcea_c', 'MET-ocdca_c', 'MET-ocdcea_c',\n",
    "         'MET-pail_c', 'MET-pc_c', 'MET-pe_c', 'MET-ps_c', 'MET-tag_c',\n",
    "         'MET-ipc_g', 'BIO-rna_c', 'MET-datp_c', 'MET-dctp_c', 'MET-dgtp_c',\n",
    "         'MET-dttp_c', 'MET-ca2_c', 'MET-cu2_c', 'MET-fe2_c', 'MET-k_c',\n",
    "         'MET-mg2_c', 'MET-mn2_c', 'MET-zn2_c', 'MET-coa_c', 'MET-fad_c',\n",
    "         'MET-hemeA_c', 'MET-nad_c', 'MET-nadh_c', 'MET-nadp_c', 'MET-nadph_c',\n",
    "         'MET-ribflv_c', 'MET-thf_c', 'MET-thmpp_c', 'MET-so4_c', 'MET-pi_c']\n",
    "text = []\n",
    "for b in bioms:\n",
    "    rxn = cobra.Reaction('DMRXN-' + b)\n",
    "    model.add_reaction(rxn)\n",
    "    rxn.reaction = b + ' --> '\n",
    "    \n",
    "    model.objective = dict()\n",
    "    model.reactions.get_by_id('DMRXN-' + b).objective_coefficient = 1\n",
    "    fba = model.optimize()\n",
    "    \n",
    "    model.remove_reactions(['DMRXN-' + b])\n",
    "    text.append([b, fba.status, str(fba.objective_value)])"
   ]
  },
  {
   "cell_type": "code",
   "execution_count": 7,
   "metadata": {},
   "outputs": [],
   "source": [
    "text = ['\\t'.join(i) for i in text]\n",
    "with open('./test_results/biomassPrecursors.txt', 'w') as f:\n",
    "    f.write('\\n'.join(text))"
   ]
  },
  {
   "cell_type": "code",
   "execution_count": null,
   "metadata": {},
   "outputs": [],
   "source": []
  },
  {
   "cell_type": "code",
   "execution_count": 4,
   "metadata": {},
   "outputs": [
    {
     "data": {
      "text/plain": [
       "'0.203109 BIO-modeledProtBiom_c + 0.017728 BIO-modeledProtBiom_m + 0.04241 BIO-rna_c + 0.150818 BIO-unmodeledProtBiom + 1.12819 MET-13BDglucan_en + 0.296892 MET-16BDglucan_en + 76.0 MET-atp_c + 0.000512 MET-ca2_c + 0.026673 MET-chtn_c + 0.000189 MET-coa_c + 4.5e-05 MET-cu2_c + 0.002411 MET-datp_c + 0.001628 MET-dctp_c + 0.001628 MET-dgtp_c + 0.002411 MET-dttp_c + 0.005916 MET-ergst161_rm + 0.002171 MET-ergst181_rm + 0.031584 MET-ergst_c + 1e-05 MET-fad_c + 0.000265 MET-fe2_c + 0.543917 MET-glycogen_c + 76.0 MET-h2o_c + 0.000333 MET-hdca_c + 0.000975 MET-hdcea_c + 1e-06 MET-hemeA_c + 0.004569 MET-ipc_g + 0.240491 MET-k_c + 0.727027 MET-mannan_c + 0.025341 MET-mg2_c + 3.7e-05 MET-mn2_c + 0.002632 MET-nad_c + 0.000149 MET-nadh_c + 0.000566 MET-nadp_c + 0.002682 MET-nadph_c + 9.3e-05 MET-ocdca_c + 0.000358 MET-ocdcea_c + 0.00821 MET-pail_c + 0.030633 MET-pc_c + 0.008233 MET-pe_c + 0.007071 MET-ps_c + 0.000983 MET-ribflv_c + 0.03123 MET-so4_c + 0.008147 MET-tag_c + 6.3e-05 MET-thf_c + 1e-06 MET-thmpp_c + 0.027264 MET-tre_c + 0.000628 MET-zn2_c --> 76.0 MET-adp_c + 76.0 MET-h_c + 75.894769 MET-pi_c + 0.034333 MET-ppi_c'"
      ]
     },
     "execution_count": 4,
     "metadata": {},
     "output_type": "execute_result"
    }
   ],
   "source": [
    "model.reactions.get_by_id('BIODIL-BIODIL').reaction"
   ]
  },
  {
   "cell_type": "code",
   "execution_count": null,
   "metadata": {},
   "outputs": [],
   "source": []
  }
 ],
 "metadata": {
  "kernelspec": {
   "display_name": "Python 3",
   "language": "python",
   "name": "python3"
  },
  "language_info": {
   "codemirror_mode": {
    "name": "ipython",
    "version": 3
   },
   "file_extension": ".py",
   "mimetype": "text/x-python",
   "name": "python",
   "nbconvert_exporter": "python",
   "pygments_lexer": "ipython3",
   "version": "3.7.9"
  }
 },
 "nbformat": 4,
 "nbformat_minor": 4
}
