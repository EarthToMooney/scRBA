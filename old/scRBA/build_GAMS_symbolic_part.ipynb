{
 "cells": [
  {
   "cell_type": "code",
   "execution_count": 1,
   "metadata": {},
   "outputs": [],
   "source": [
    "import pandas as pd\n",
    "from custom_functions_scRBA import *"
   ]
  },
  {
   "cell_type": "code",
   "execution_count": 42,
   "metadata": {},
   "outputs": [],
   "source": [
    "df_rxns = pd.read_excel('./scRAM_network.xlsx')\n",
    "df_rxns.index = df_rxns.id.to_list()\n",
    "df_rxns = df_rxns[df_rxns.symbolic_coeffs.isnull() == False]\n",
    "\n",
    "df_keff = pd.read_excel('./keff.xlsx')\n",
    "df_keff.index = df_keff.rxn_id.to_list()\n",
    "\n",
    "df_pro = pd.read_excel('../scRBA/curation/prot_stoich_curation_2021-05-21.xlsx')\n",
    "df_pro.index = df_pro.id.to_list()\n",
    "\n",
    "df_params = pd.read_excel('../scRBA/input/parameters_info.xlsx')\n",
    "df_params.index = df_params.param_id.to_list()"
   ]
  },
  {
   "cell_type": "code",
   "execution_count": 40,
   "metadata": {},
   "outputs": [],
   "source": [
    "kribo = 10.5; dummyNAA = 405;"
   ]
  },
  {
   "cell_type": "markdown",
   "metadata": {},
   "source": [
    "#### Build symbolic stoichiometry"
   ]
  },
  {
   "cell_type": "code",
   "execution_count": 43,
   "metadata": {},
   "outputs": [],
   "source": [
    "stoich = ['/', '* List of stoichiometric relations']\n",
    "for i in df_rxns.index:\n",
    "    met_dict = metabolites_dict_from_reaction_equation_RBA(df_rxns.reaction[i])\n",
    "    met_dict = {k:v for k,v in met_dict.items() if k != '' and is_number(v) == False}\n",
    "    sym = df_rxns.symbolic_coeffs[i]\n",
    "    \n",
    "    for k,v in met_dict.items():\n",
    "        if v == '-mu/keff':\n",
    "            v = str(round(-1 / df_keff.keff[i], 12)) + '*mu'\n",
    "        elif v == '-mu*NAA/kribo':\n",
    "            pro_id = i[7:]\n",
    "            if pro_id in ['DUMMYPRO_c', 'DUMMYPRO_m']:\n",
    "                v = str(round(dummyNAA / kribo, 12)) + '*mu'\n",
    "            else:\n",
    "                v = str(round((len(df_pro.sequence[pro_id]) - 1) / kribo, 12)) + '*mu'\n",
    "        else:\n",
    "            v = df_params.string[v]\n",
    "            \n",
    "        stoich.append(\"'\" + i + \"'.'\" + k + \"' \" + str(v))\n",
    "            \n",
    "stoich.append('/')\n",
    "with open('./GAMSmodel/sij_symbolic.txt', 'w') as f:\n",
    "    f.write('\\n'.join(stoich))"
   ]
  },
  {
   "cell_type": "markdown",
   "metadata": {},
   "source": [
    "#### Merge two lists of stoichiometry: constant and symbolic"
   ]
  },
  {
   "cell_type": "code",
   "execution_count": 56,
   "metadata": {},
   "outputs": [],
   "source": [
    "with open('./GAMSmodel/sij_constant.txt') as f:\n",
    "    sij_constant = f.read().split('\\n')\n",
    "sij_constant = [i for i in sij_constant if i not in ['/', ''] and i [0] != '*']\n",
    "\n",
    "with open('./GAMSmodel/sij_symbolic.txt') as f:\n",
    "    sij_sym = f.read().split('\\n')\n",
    "sij_sym = [i for i in sij_sym if i not in ['/', ''] and i [0] != '*']"
   ]
  },
  {
   "cell_type": "code",
   "execution_count": 66,
   "metadata": {},
   "outputs": [],
   "source": [
    "sij = sij_constant + sij_sym\n",
    "sij = ['/'] + sij + ['/']\n",
    "with open('./GAMSmodel/sij_merged_lower_0_211.txt', 'w') as f:\n",
    "    f.write('\\n'.join(sij))"
   ]
  },
  {
   "cell_type": "code",
   "execution_count": null,
   "metadata": {},
   "outputs": [],
   "source": []
  }
 ],
 "metadata": {
  "kernelspec": {
   "display_name": "Python 3",
   "language": "python",
   "name": "python3"
  },
  "language_info": {
   "codemirror_mode": {
    "name": "ipython",
    "version": 3
   },
   "file_extension": ".py",
   "mimetype": "text/x-python",
   "name": "python",
   "nbconvert_exporter": "python",
   "pygments_lexer": "ipython3",
   "version": "3.7.9"
  }
 },
 "nbformat": 4,
 "nbformat_minor": 4
}
