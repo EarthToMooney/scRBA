{
 "cells": [
  {
   "cell_type": "code",
   "execution_count": 1,
   "metadata": {},
   "outputs": [],
   "source": [
    "import pandas as pd\n",
    "import numpy as np"
   ]
  },
  {
   "cell_type": "markdown",
   "metadata": {},
   "source": [
    "#### Calculate enzyme MW"
   ]
  },
  {
   "cell_type": "raw",
   "metadata": {},
   "source": [
    "with open('../scRBA/input/rxns_req.txt') as f:\n",
    "    rxns_req = f.read().split('\\n')[:-1]"
   ]
  },
  {
   "cell_type": "raw",
   "metadata": {},
   "source": [
    "df_pro = pd.read_excel('../scRBA/curation/prot_stoich_curation_2021-05-21.xlsx')\n",
    "df_pro.index = df_pro.id.to_list()"
   ]
  },
  {
   "cell_type": "raw",
   "metadata": {},
   "source": [
    "df_enz = pd.read_excel('../scRBA/curation/enz_stoich_curation_2021-05-21.xlsx')\n",
    "\n",
    "for i in df_enz.index:\n",
    "    if df_enz.enz[i] == 'SPONT':\n",
    "        continue\n",
    "    \n",
    "    pro_str = df_enz.protein_stoich[i].split(',')\n",
    "    pro_st = {p.split(':')[0]:int(p.split(':')[1]) for p in pro_str}\n",
    "    mw = 0\n",
    "    for k,v in pro_st.items():\n",
    "        if k in ['DUMMYENZ_m', 'DUMMYENZ_c']:\n",
    "            mw += v * 44.465469\n",
    "        else:\n",
    "            mw += v * df_pro.loc[k, 'MW (g/mmol)']\n",
    "    df_enz.loc[i, 'MW (g/mmol)'] = mw"
   ]
  },
  {
   "cell_type": "markdown",
   "metadata": {},
   "source": [
    "#### Approximate enzyme keff using solvent accessible surface area distribution centering at median turnover rates"
   ]
  },
  {
   "cell_type": "code",
   "execution_count": 2,
   "metadata": {},
   "outputs": [],
   "source": [
    "df_enz = pd.read_excel('../scRBA/curation/enz_stoich_curation_2021-05-21.xlsx')"
   ]
  },
  {
   "cell_type": "code",
   "execution_count": 3,
   "metadata": {},
   "outputs": [],
   "source": [
    "df_keff = pd.DataFrame(columns=['rxn_id', 'enz_id', 'MW (g/mmol)', 'SASA', 'keff'])\n",
    "for i in df_enz.index:\n",
    "    if df_enz.enz[i] == 'SPONT':\n",
    "        continue\n",
    "        \n",
    "    df_keff.loc[i, 'rxn_id'] = df_enz.id[i]\n",
    "    df_keff.loc[i, 'enz_id'] = df_enz.enz[i]\n",
    "    df_keff.loc[i, 'MW (g/mmol)'] = df_enz.loc[i, 'MW (g/mmol)']\n",
    "    df_keff.loc[i, 'SASA'] = df_enz.loc[i, 'MW (g/mmol)'] ** 0.76"
   ]
  },
  {
   "cell_type": "code",
   "execution_count": 4,
   "metadata": {},
   "outputs": [],
   "source": [
    "SASAavg = np.mean(df_keff.SASA)\n",
    "for i in df_keff.index:\n",
    "    df_keff.loc[i, 'keff'] = 65 * df_keff.SASA[i] / SASAavg"
   ]
  },
  {
   "cell_type": "code",
   "execution_count": 5,
   "metadata": {
    "scrolled": true
   },
   "outputs": [
    {
     "data": {
      "image/png": "[encoded data removed]",
      "text/plain": [
       "<Figure size 432x288 with 1 Axes>"
      ]
     },
     "metadata": {
      "needs_background": "light"
     },
     "output_type": "display_data"
    }
   ],
   "source": [
    "df_keff.SASA.hist(bins=100);"
   ]
  },
  {
   "cell_type": "code",
   "execution_count": 6,
   "metadata": {},
   "outputs": [
    {
     "data": {
      "text/plain": [
       "65.00000000000028"
      ]
     },
     "execution_count": 6,
     "metadata": {},
     "output_type": "execute_result"
    }
   ],
   "source": [
    "np.mean(df_keff.keff)"
   ]
  },
  {
   "cell_type": "code",
   "execution_count": 7,
   "metadata": {},
   "outputs": [],
   "source": [
    "df_keff.to_excel('./keff_frompy.xlsx', index=None)"
   ]
  },
  {
   "cell_type": "markdown",
   "metadata": {},
   "source": [
    "#### Median keff from Bar-Evan 2011"
   ]
  },
  {
   "cell_type": "code",
   "execution_count": 2,
   "metadata": {},
   "outputs": [],
   "source": [
    "df_kin = pd.read_excel('./kineticParams_BarEvan2011.xls', sheet_name='1. KineticTable')"
   ]
  },
  {
   "cell_type": "code",
   "execution_count": 5,
   "metadata": {},
   "outputs": [],
   "source": [
    "df_kin = df_kin[df_kin['Organism ID'] == 9]"
   ]
  },
  {
   "cell_type": "code",
   "execution_count": 8,
   "metadata": {},
   "outputs": [],
   "source": [
    "kcats = [i for i in df_kin['kcat (1/sec)'] if pd.isnull(i) == False]"
   ]
  },
  {
   "cell_type": "code",
   "execution_count": 10,
   "metadata": {},
   "outputs": [
    {
     "data": {
      "text/plain": [
       "21.75"
      ]
     },
     "execution_count": 10,
     "metadata": {},
     "output_type": "execute_result"
    }
   ],
   "source": [
    "np.median(kcats)"
   ]
  },
  {
   "cell_type": "code",
   "execution_count": null,
   "metadata": {},
   "outputs": [],
   "source": []
  }
 ],
 "metadata": {
  "kernelspec": {
   "display_name": "Python 3",
   "language": "python",
   "name": "python3"
  },
  "language_info": {
   "codemirror_mode": {
    "name": "ipython",
    "version": 3
   },
   "file_extension": ".py",
   "mimetype": "text/x-python",
   "name": "python",
   "nbconvert_exporter": "python",
   "pygments_lexer": "ipython3",
   "version": "3.7.9"
  }
 },
 "nbformat": 4,
 "nbformat_minor": 4
}
