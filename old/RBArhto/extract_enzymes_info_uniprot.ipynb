{
 "cells": [
  {
   "cell_type": "code",
   "execution_count": null,
   "metadata": {},
   "outputs": [],
   "source": [
    "import cobra\n",
    "import pandas as pd\n",
    "import io, re\n",
    "from bioservices.uniprot import UniProt\n",
    "import bioservices.xmltools\n",
    "\n",
    "import sys,os\n",
    "# keep going up until the \"pycore\" folder is found\n",
    "wd = os.getcwd()\n",
    "while not os.path.exists('pycore'):\n",
    "\tos.chdir('..')\n",
    "base_path = os.getcwd()\n",
    "sys.path.append(base_path + '/pycore')\n",
    "from gsm_custom_functions import *\n",
    "\n",
    "import lxml\n",
    "from lxml import etree\n",
    "from lxml.etree import ElementTree\n",
    "os.chdir(wd)"
   ]
  },
  {
   "cell_type": "code",
   "execution_count": null,
   "metadata": {},
   "outputs": [
    {
     "ename": "FileNotFoundError",
     "evalue": "[Errno 2] No such file or directory: './gsmodel/iRhtoC_r2_2.json'",
     "output_type": "error",
     "traceback": [
      "\u001b[0;31m---------------------------------------------------------------------------\u001b[0m",
      "\u001b[0;31mFileNotFoundError\u001b[0m                         Traceback (most recent call last)",
      "Cell \u001b[0;32mIn[5], line 1\u001b[0m\n\u001b[0;32m----> 1\u001b[0m model \u001b[38;5;241m=\u001b[39m \u001b[43mcobra\u001b[49m\u001b[38;5;241;43m.\u001b[39;49m\u001b[43mio\u001b[49m\u001b[38;5;241;43m.\u001b[39;49m\u001b[43mload_json_model\u001b[49m\u001b[43m(\u001b[49m\u001b[38;5;124;43m'\u001b[39;49m\u001b[38;5;124;43m./gsmodel/iRhtoC_r2_2.json\u001b[39;49m\u001b[38;5;124;43m'\u001b[39;49m\u001b[43m)\u001b[49m\n",
      "File \u001b[0;32m/Applications/anaconda3/envs/rba/lib/python3.9/site-packages/cobra/io/json.py:148\u001b[0m, in \u001b[0;36mload_json_model\u001b[0;34m(filename)\u001b[0m\n\u001b[1;32m    129\u001b[0m \u001b[38;5;250m\u001b[39m\u001b[38;5;124;03m\"\"\"Load a cobra model from a file in JSON format.\u001b[39;00m\n\u001b[1;32m    130\u001b[0m \n\u001b[1;32m    131\u001b[0m \u001b[38;5;124;03mParameters\u001b[39;00m\n\u001b[0;32m   (...)\u001b[0m\n\u001b[1;32m    145\u001b[0m \n\u001b[1;32m    146\u001b[0m \u001b[38;5;124;03m\"\"\"\u001b[39;00m\n\u001b[1;32m    147\u001b[0m \u001b[38;5;28;01mif\u001b[39;00m \u001b[38;5;28misinstance\u001b[39m(filename, (\u001b[38;5;28mstr\u001b[39m, Path)):\n\u001b[0;32m--> 148\u001b[0m     \u001b[38;5;28;01mwith\u001b[39;00m \u001b[38;5;28;43mopen\u001b[39;49m\u001b[43m(\u001b[49m\u001b[43mfilename\u001b[49m\u001b[43m,\u001b[49m\u001b[43m \u001b[49m\u001b[38;5;124;43m\"\u001b[39;49m\u001b[38;5;124;43mr\u001b[39;49m\u001b[38;5;124;43m\"\u001b[39;49m\u001b[43m)\u001b[49m \u001b[38;5;28;01mas\u001b[39;00m file_handle:\n\u001b[1;32m    149\u001b[0m         \u001b[38;5;28;01mreturn\u001b[39;00m model_from_dict(json\u001b[38;5;241m.\u001b[39mload(file_handle))\n\u001b[1;32m    150\u001b[0m \u001b[38;5;28;01melse\u001b[39;00m:\n",
      "\u001b[0;31mFileNotFoundError\u001b[0m: [Errno 2] No such file or directory: './gsmodel/iRhtoC_r2_2.json'"
     ]
    }
   ],
   "source": [
    "model = cobra.io.load_json_model('../iRhtoC.json')"
   ]
  },
  {
   "cell_type": "code",
   "execution_count": null,
   "metadata": {},
   "outputs": [
    {
     "name": "stderr",
     "output_type": "stream",
     "text": [
      "INFO    [bioservices:UniProt]:  Initialising UniProt service (REST)\n"
     ]
    }
   ],
   "source": [
    "idx = [g.id for g in model.genes if g not in ['UNKNOWN', 'SPONT', 'TRUE']]\n",
    "cols = ['id', 'name', 'sc_id', 'uniprot', 'uniprot_name', 'subunit', 'subloc', 'cofactor']\n",
    "df_info = pd.DataFrame(index=idx, columns=cols)\n",
    "df_info['id'] = idx\n",
    "\n",
    "for gid in df_info.index:\n",
    "    g = model.genes.get_by_id(gid)\n",
    "    if 'rt' not in g.name:\n",
    "        df_info.loc[g.id, 'name'] = g.name\n",
    "    \n",
    "    if 'sc_id' in g.annotation.keys():\n",
    "        df_info.loc[g.id, 'sc_id'] = g.annotation['sc_id']\n",
    "        \n",
    "uniprot = UniProt(verbose=True)\n",
    "\n",
    "cofactor_attrib_list = []\n",
    "subloc_attrib_list = []\n",
    "subunit_attrib_list = []\n",
    "\n",
    "for i in df_info.index:\n",
    "    subunit_list, subloc_list, cofactor_list = [], [], []\n",
    "    \n",
    "    if pd.isnull(df_info.sc_id[i]):\n",
    "        continue\n",
    "        \n",
    "    if ',' not in df_info.sc_id[i]:\n",
    "        sc_id = df_info.sc_id[i]\n",
    "    else:\n",
    "        sc_id = df_info.sc_id[i].split(',')[0]\n",
    "    qstr = 'gene:' + df_info.sc_id[i] + ' AND taxonomy:4932 AND reviewed:yes'\n",
    "    \n",
    "    # Extract info from uniprot via REST API\n",
    "    search = uniprot.search(qstr)\n",
    "    if search == '':\n",
    "        continue\n",
    "    df_search = pd.read_table(io.StringIO(search))\n",
    "    \n",
    "    uniprot_id = df_search.Entry[0]\n",
    "    retrieve = uniprot.retrieve(uniprot_id, frmt='xml')\n",
    "    \n",
    "    lxmlET = etree.fromstring(retrieve.data.encode())\n",
    "    for elem in lxmlET.getiterator():\n",
    "        elem.tag = etree.QName(elem.tag).localname\n",
    "    etree.cleanup_namespaces(lxmlET)\n",
    "    uniprot_entry = lxmlET.find('entry')\n",
    "    \n",
    "    for elem in uniprot_entry.iter(tag='comment'):\n",
    "        # Extract cofactor info\n",
    "        if elem.attrib['type'] == 'cofactor':\n",
    "            for cofactor_entry in elem.getchildren():\n",
    "                cofactor_attrib_list.append(cofactor_entry.tag)\n",
    "                if cofactor_entry.tag == 'cofactor':\n",
    "                    name = cofactor_entry.find('name')\n",
    "                    if name != None:\n",
    "                        name = name.text\n",
    "\n",
    "                    dbref = cofactor_entry.find('dbReference')\n",
    "                    if dbref != None:\n",
    "                        dbref = dbref.attrib['id']\n",
    "\n",
    "                    cofactor_list.append(str(name) + '/' + str(dbref))\n",
    "                    \n",
    "                elif cofactor_entry.tag == 'text':\n",
    "                    cofactor_list.append(cofactor_entry.text)\n",
    "\n",
    "        # Extract subcellular location\n",
    "        elif elem.attrib['type'] == 'subcellular location':\n",
    "            for subloc_entry in elem.getchildren():\n",
    "                subloc_attrib_list.append(subloc_entry.tag)\n",
    "                loc = subloc_entry.find('location')\n",
    "                if loc != None:\n",
    "                    subloc_list.append(loc.text)\n",
    "\n",
    "                mol = subloc_entry.find('molecule')\n",
    "                if mol != None:\n",
    "                    subloc_list.append(mol)\n",
    "                    \n",
    "                t = subloc_entry.find('text')\n",
    "                if t != None:\n",
    "                    subloc_list.append(t.text)\n",
    "\n",
    "        # Extract subunit information\n",
    "        elif elem.attrib['type'] == 'subunit':\n",
    "            for subunit_entry in elem.getchildren():\n",
    "                subunit_attrib_list.append(subunit_entry.tag)\n",
    "                su = subunit_entry.text\n",
    "                if su != None:\n",
    "                    subunit_list.append(su)\n",
    "                \n",
    "    # Record\n",
    "    df_info.loc[i, 'uniprot'] = uniprot_id\n",
    "    df_info.loc[i, 'uniprot_name'] = uniprot_entry.find('name').text\n",
    "    df_info.loc[i, 'subunit'] = ' | '.join(subunit_list)\n",
    "    df_info.loc[i, 'subloc'] = ' | '.join(subloc_list)\n",
    "    df_info.loc[i, 'cofactor'] = ' | '.join(cofactor_list)"
   ]
  },
  {
   "cell_type": "code",
   "execution_count": null,
   "metadata": {},
   "outputs": [],
   "source": [
    "cofactor_attrib_list = set(cofactor_attrib_list)\n",
    "subloc_attrib_list = set(subloc_attrib_list)\n",
    "subunit_attrib_list = set(subunit_attrib_list)\n",
    "print('cofactor_attrib_list')\n",
    "print(cofactor_attrib_list)\n",
    "print('subloc_attrib_list')\n",
    "print(subloc_attrib_list)\n",
    "print('subunit_attrib_list')\n",
    "print(subunit_attrib_list)"
   ]
  },
  {
   "cell_type": "code",
   "execution_count": 4,
   "metadata": {},
   "outputs": [],
   "source": [
    "df_info.to_excel('./enzyme_information.xlsx', sheet_name='uniprot_extract', index=False)"
   ]
  },
  {
   "cell_type": "code",
   "execution_count": 4,
   "metadata": {},
   "outputs": [
    {
     "data": {
      "text/plain": [
       "['Cytoplasm', 'Mitochondrion intermembrane space', None]"
      ]
     },
     "execution_count": 4,
     "metadata": {},
     "output_type": "execute_result"
    }
   ],
   "source": [
    "subloc_list"
   ]
  },
  {
   "cell_type": "code",
   "execution_count": 7,
   "metadata": {},
   "outputs": [
    {
     "data": {
      "text/plain": [
       "'rt7128'"
      ]
     },
     "execution_count": 7,
     "metadata": {},
     "output_type": "execute_result"
    }
   ],
   "source": [
    "i"
   ]
  },
  {
   "cell_type": "code",
   "execution_count": 8,
   "metadata": {},
   "outputs": [
    {
     "data": {
      "text/plain": [
       "'rtmCOX1'"
      ]
     },
     "execution_count": 8,
     "metadata": {},
     "output_type": "execute_result"
    }
   ],
   "source": [
    "gid"
   ]
  },
  {
   "cell_type": "code",
   "execution_count": 9,
   "metadata": {},
   "outputs": [
    {
     "data": {
      "text/plain": [
       "id                  rt7128\n",
       "name                  ADK1\n",
       "sc_id              YDR226W\n",
       "uniprot             P07170\n",
       "uniprot_name    KAD2_YEAST\n",
       "subunit           Monomer.\n",
       "subloc                 NaN\n",
       "cofactor               NaN\n",
       "Name: rt7128, dtype: object"
      ]
     },
     "execution_count": 9,
     "metadata": {},
     "output_type": "execute_result"
    }
   ],
   "source": [
    "df_info.loc[i]"
   ]
  },
  {
   "cell_type": "code",
   "execution_count": 13,
   "metadata": {},
   "outputs": [
    {
     "name": "stdout",
     "output_type": "stream",
     "text": [
      "{'type': 'function'}\n",
      "{'type': 'catalytic activity'}\n",
      "{'type': 'subunit'}\n",
      "{'type': 'subcellular location'}\n",
      "{'type': 'domain'}\n",
      "{'type': 'disruption phenotype'}\n",
      "{'type': 'miscellaneous'}\n",
      "{'type': 'similarity'}\n"
     ]
    }
   ],
   "source": [
    "for i in uniprot_entry.findall('comment'):\n",
    "    print(i.attrib)"
   ]
  },
  {
   "cell_type": "code",
   "execution_count": 16,
   "metadata": {},
   "outputs": [],
   "source": [
    "x = uniprot_entry.findall('comment')[2]"
   ]
  },
  {
   "cell_type": "code",
   "execution_count": 21,
   "metadata": {},
   "outputs": [],
   "source": [
    "y = x.getchildren()[0]"
   ]
  },
  {
   "cell_type": "code",
   "execution_count": 23,
   "metadata": {},
   "outputs": [
    {
     "data": {
      "text/plain": [
       "'Monomer.'"
      ]
     },
     "execution_count": 23,
     "metadata": {},
     "output_type": "execute_result"
    }
   ],
   "source": [
    "y.text"
   ]
  },
  {
   "cell_type": "code",
   "execution_count": null,
   "metadata": {},
   "outputs": [],
   "source": []
  }
 ],
 "metadata": {
  "kernelspec": {
   "display_name": "Python 3",
   "language": "python",
   "name": "python3"
  },
  "language_info": {
   "codemirror_mode": {
    "name": "ipython",
    "version": 3
   },
   "file_extension": ".py",
   "mimetype": "text/x-python",
   "name": "python",
   "nbconvert_exporter": "python",
   "pygments_lexer": "ipython3",
   "version": "3.9.18"
  }
 },
 "nbformat": 4,
 "nbformat_minor": 2
}
