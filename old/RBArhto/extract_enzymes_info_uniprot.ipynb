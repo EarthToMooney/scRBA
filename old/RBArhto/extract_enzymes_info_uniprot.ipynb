{
 "cells": [
  {
   "cell_type": "code",
   "execution_count": 1,
   "metadata": {},
   "outputs": [],
   "source": [
    "import cobra\n",
    "import pandas as pd\n",
    "import io, re\n",
    "from bioservices.uniprot import UniProt\n",
    "import bioservices.xmltools\n",
    "\n",
    "import sys\n",
    "sys.path.append('/home/hvdinh16/Workspace/workpy3/common/')\n",
    "from custom_functions import *\n",
    "\n",
    "import lxml\n",
    "from lxml import etree\n",
    "from lxml.etree import ElementTree"
   ]
  },
  {
   "cell_type": "code",
   "execution_count": 2,
   "metadata": {},
   "outputs": [
    {
     "name": "stdout",
     "output_type": "stream",
     "text": [
      "Academic license - for non-commercial use only\n"
     ]
    }
   ],
   "source": [
    "model = cobra.io.load_json_model('./gsmodel/iRhtoC_r2_2.json')"
   ]
  },
  {
   "cell_type": "code",
   "execution_count": 3,
   "metadata": {},
   "outputs": [
    {
     "name": "stderr",
     "output_type": "stream",
     "text": [
      "INFO    [bioservices:UniProt]:  Initialising UniProt service (REST)\n"
     ]
    }
   ],
   "source": [
    "idx = [g.id for g in model.genes if g not in ['UNKNOWN', 'SPONT', 'TRUE']]\n",
    "cols = ['id', 'name', 'sc_id', 'uniprot', 'uniprot_name', 'subunit', 'subloc', 'cofactor']\n",
    "df_info = pd.DataFrame(index=idx, columns=cols)\n",
    "df_info['id'] = idx\n",
    "\n",
    "for gid in df_info.index:\n",
    "    g = model.genes.get_by_id(gid)\n",
    "    if 'rt' not in g.name:\n",
    "        df_info.loc[g.id, 'name'] = g.name\n",
    "    \n",
    "    if 'sc_id' in g.annotation.keys():\n",
    "        df_info.loc[g.id, 'sc_id'] = g.annotation['sc_id']\n",
    "        \n",
    "uniprot = UniProt(verbose=True)\n",
    "for i in df_info.index:\n",
    "    subunit_list, subloc_list, cofactor_list = [], [], []\n",
    "    \n",
    "    if pd.isnull(df_info.sc_id[i]):\n",
    "        continue\n",
    "        \n",
    "    if ',' not in df_info.sc_id[i]:\n",
    "        sc_id = df_info.sc_id[i]\n",
    "    else:\n",
    "        sc_id = df_info.sc_id[i].split(',')[0]\n",
    "    qstr = 'gene:' + df_info.sc_id[i] + ' AND taxonomy:4932 AND reviewed:yes'\n",
    "    \n",
    "    # Extract info from uniprot via REST API\n",
    "    search = uniprot.search(qstr)\n",
    "    if search == '':\n",
    "        continue\n",
    "    df_search = pd.read_table(io.StringIO(search))\n",
    "    \n",
    "    uniprot_id = df_search.Entry[0]\n",
    "    retrieve = uniprot.retrieve(uniprot_id, frmt='xml')\n",
    "    \n",
    "    lxmlET = etree.fromstring(retrieve.data.encode())\n",
    "    for elem in lxmlET.getiterator():\n",
    "        elem.tag = etree.QName(elem.tag).localname\n",
    "    etree.cleanup_namespaces(lxmlET)\n",
    "    uniprot_entry = lxmlET.find('entry')\n",
    "    \n",
    "    for elem in uniprot_entry.iter(tag='comment'):\n",
    "        # Extract cofactor info\n",
    "        if elem.attrib['type'] == 'cofactor':\n",
    "            for cofactor_entry in elem.getchildren():\n",
    "                \n",
    "                if cofactor_entry.tag == 'cofactor':\n",
    "                    name = cofactor_entry.find('name')\n",
    "                    if name != None:\n",
    "                        name = name.text\n",
    "\n",
    "                    dbref = cofactor_entry.find('dbReference')\n",
    "                    if dbref != None:\n",
    "                        dbref = dbref.attrib['id']\n",
    "\n",
    "                    cofactor_list.append(str(name) + '/' + str(dbref))\n",
    "                    \n",
    "                elif cofactor_entry.tag == 'text':\n",
    "                    cofactor_list.append(cofactor_entry.text)\n",
    "\n",
    "        # Extract subcellular location\n",
    "        elif elem.attrib['type'] == 'subcellular location':\n",
    "            for subloc_entry in elem.getchildren():\n",
    "                loc = subloc_entry.find('location')\n",
    "                if loc != None:\n",
    "                    subloc_list.append(loc.text)\n",
    "\n",
    "                mol = subloc_entry.find('molecule')\n",
    "                if mol != None:\n",
    "                    subloc_list.append(mol)\n",
    "                    \n",
    "                t = subloc_entry.find('text')\n",
    "                if t != None:\n",
    "                    subloc_list.append(t.text)\n",
    "\n",
    "        # Extract subunit information\n",
    "        elif elem.attrib['type'] == 'subunit':\n",
    "            for subunit_entry in elem.getchildren():\n",
    "                su = subunit_entry.text\n",
    "                if su != None:\n",
    "                    subunit_list.append(su)\n",
    "                \n",
    "    # Record\n",
    "    df_info.loc[i, 'uniprot'] = uniprot_id\n",
    "    df_info.loc[i, 'uniprot_name'] = uniprot_entry.find('name').text\n",
    "    df_info.loc[i, 'subunit'] = ' | '.join(subunit_list)\n",
    "    df_info.loc[i, 'subloc'] = ' | '.join(subloc_list)\n",
    "    df_info.loc[i, 'cofactor'] = ' | '.join(cofactor_list)"
   ]
  },
  {
   "cell_type": "code",
   "execution_count": 4,
   "metadata": {},
   "outputs": [],
   "source": [
    "df_info.to_excel('./enzyme_information.xlsx', sheet_name='uniprot_extract', index=False)"
   ]
  },
  {
   "cell_type": "code",
   "execution_count": 4,
   "metadata": {},
   "outputs": [
    {
     "data": {
      "text/plain": [
       "['Cytoplasm', 'Mitochondrion intermembrane space', None]"
      ]
     },
     "execution_count": 4,
     "metadata": {},
     "output_type": "execute_result"
    }
   ],
   "source": [
    "subloc_list"
   ]
  },
  {
   "cell_type": "code",
   "execution_count": 7,
   "metadata": {},
   "outputs": [
    {
     "data": {
      "text/plain": [
       "'rt7128'"
      ]
     },
     "execution_count": 7,
     "metadata": {},
     "output_type": "execute_result"
    }
   ],
   "source": [
    "i"
   ]
  },
  {
   "cell_type": "code",
   "execution_count": 8,
   "metadata": {},
   "outputs": [
    {
     "data": {
      "text/plain": [
       "'rtmCOX1'"
      ]
     },
     "execution_count": 8,
     "metadata": {},
     "output_type": "execute_result"
    }
   ],
   "source": [
    "gid"
   ]
  },
  {
   "cell_type": "code",
   "execution_count": 9,
   "metadata": {},
   "outputs": [
    {
     "data": {
      "text/plain": [
       "id                  rt7128\n",
       "name                  ADK1\n",
       "sc_id              YDR226W\n",
       "uniprot             P07170\n",
       "uniprot_name    KAD2_YEAST\n",
       "subunit           Monomer.\n",
       "subloc                 NaN\n",
       "cofactor               NaN\n",
       "Name: rt7128, dtype: object"
      ]
     },
     "execution_count": 9,
     "metadata": {},
     "output_type": "execute_result"
    }
   ],
   "source": [
    "df_info.loc[i]"
   ]
  },
  {
   "cell_type": "code",
   "execution_count": 13,
   "metadata": {},
   "outputs": [
    {
     "name": "stdout",
     "output_type": "stream",
     "text": [
      "{'type': 'function'}\n",
      "{'type': 'catalytic activity'}\n",
      "{'type': 'subunit'}\n",
      "{'type': 'subcellular location'}\n",
      "{'type': 'domain'}\n",
      "{'type': 'disruption phenotype'}\n",
      "{'type': 'miscellaneous'}\n",
      "{'type': 'similarity'}\n"
     ]
    }
   ],
   "source": [
    "for i in uniprot_entry.findall('comment'):\n",
    "    print(i.attrib)"
   ]
  },
  {
   "cell_type": "code",
   "execution_count": 16,
   "metadata": {},
   "outputs": [],
   "source": [
    "x = uniprot_entry.findall('comment')[2]"
   ]
  },
  {
   "cell_type": "code",
   "execution_count": 21,
   "metadata": {},
   "outputs": [],
   "source": [
    "y = x.getchildren()[0]"
   ]
  },
  {
   "cell_type": "code",
   "execution_count": 23,
   "metadata": {},
   "outputs": [
    {
     "data": {
      "text/plain": [
       "'Monomer.'"
      ]
     },
     "execution_count": 23,
     "metadata": {},
     "output_type": "execute_result"
    }
   ],
   "source": [
    "y.text"
   ]
  },
  {
   "cell_type": "code",
   "execution_count": null,
   "metadata": {},
   "outputs": [],
   "source": []
  }
 ],
 "metadata": {
  "kernelspec": {
   "display_name": "Python 3",
   "language": "python",
   "name": "python3"
  },
  "language_info": {
   "codemirror_mode": {
    "name": "ipython",
    "version": 3
   },
   "file_extension": ".py",
   "mimetype": "text/x-python",
   "name": "python",
   "nbconvert_exporter": "python",
   "pygments_lexer": "ipython3",
   "version": "3.7.4"
  }
 },
 "nbformat": 4,
 "nbformat_minor": 2
}
