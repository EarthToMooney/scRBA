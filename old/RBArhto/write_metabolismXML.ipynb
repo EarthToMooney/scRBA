{
 "cells": [
  {
   "cell_type": "code",
   "execution_count": 1,
   "metadata": {},
   "outputs": [],
   "source": [
    "import cobra,rba,lxml\n",
    "from lxml import etree"
   ]
  },
  {
   "cell_type": "code",
   "execution_count": 2,
   "metadata": {},
   "outputs": [
    {
     "name": "stdout",
     "output_type": "stream",
     "text": [
      "Academic license - for non-commercial use only\n"
     ]
    }
   ],
   "source": [
    "rtGSM = cobra.io.load_json_model('./gsmodel/iRhtoC_r2_2.json')"
   ]
  },
  {
   "cell_type": "code",
   "execution_count": 3,
   "metadata": {},
   "outputs": [],
   "source": [
    "modelET = etree.Element('RBAMetabolism')\n",
    "\n",
    "elems = ['listOfCompartments', 'listOfSpecies', 'listOfReactions']\n",
    "for e in elems:\n",
    "    modelET.append(etree.Element(e))"
   ]
  },
  {
   "cell_type": "code",
   "execution_count": 4,
   "metadata": {},
   "outputs": [],
   "source": [
    "comps = sorted(rtGSM.compartments.keys())\n",
    "compET = modelET.find('listOfCompartments')\n",
    "for comp in comps:\n",
    "    compET.append(etree.Element('compartment', attrib={'id':'PART-' + comp}))"
   ]
  },
  {
   "cell_type": "code",
   "execution_count": 5,
   "metadata": {},
   "outputs": [],
   "source": [
    "mets = sorted([met.id for met in rtGSM.metabolites])\n",
    "metET = modelET.find('listOfSpecies')\n",
    "for metid in mets:\n",
    "    met = rtGSM.metabolites.get_by_id(metid)\n",
    "    comp = met.compartment\n",
    "    bcond = 'true' if comp == 'e' else 'false'\n",
    "    att_dict = {'id':'MET-'+met.id, 'boundaryCondition':bcond}\n",
    "    metET.append(etree.Element('species', attrib=att_dict))"
   ]
  },
  {
   "cell_type": "code",
   "execution_count": 6,
   "metadata": {},
   "outputs": [],
   "source": [
    "rxns = sorted([rxn.id for rxn in rtGSM.reactions])\n",
    "rxnET = modelET.find('listOfReactions')"
   ]
  },
  {
   "cell_type": "code",
   "execution_count": 7,
   "metadata": {},
   "outputs": [],
   "source": [
    "for rxnid in rxns:\n",
    "    rxn = rtGSM.reactions.get_by_id(rxnid)\n",
    "    rev = 'true' if rxn.reversibility else 'false'\n",
    "    att_dict = {'id':'RXN-'+rxn.id, 'reversible':rev}\n",
    "    rxnE = etree.SubElement(rxnET, 'reaction', attrib=att_dict)\n",
    "    \n",
    "    reactants = sorted([met.id for met in rxn.reactants])\n",
    "    rxnE_reactants = etree.SubElement(rxnE, 'listOfReactants')\n",
    "    for metid in reactants:\n",
    "        met = rtGSM.metabolites.get_by_id(metid)\n",
    "        coeff = rxn.metabolites[met]\n",
    "        att_dict = {'species':'M_'+met.id, 'stoichiometry':str(coeff)}\n",
    "        rxnE_reactants.append(etree.Element('speciesReference', attrib=att_dict))\n",
    "        \n",
    "    products = sorted([met.id for met in rxn.products])\n",
    "    rxnE_products = etree.SubElement(rxnE, 'listOfProducts')\n",
    "    for metid in products:\n",
    "        met = rtGSM.metabolites.get_by_id(metid)\n",
    "        coeff = rxn.metabolites[met]\n",
    "        att_dict = {'species':'M_'+met.id, 'stoichiometry':str(coeff)}\n",
    "        rxnE_products.append(etree.Element('speciesReference', attrib=att_dict))"
   ]
  },
  {
   "cell_type": "code",
   "execution_count": 8,
   "metadata": {},
   "outputs": [],
   "source": [
    "with open('./metabolism.xml', 'wb') as f:\n",
    "    f.write(etree.tostring(modelET, pretty_print=True))"
   ]
  },
  {
   "cell_type": "code",
   "execution_count": null,
   "metadata": {},
   "outputs": [],
   "source": []
  }
 ],
 "metadata": {
  "kernelspec": {
   "display_name": "Python 3",
   "language": "python",
   "name": "python3"
  },
  "language_info": {
   "codemirror_mode": {
    "name": "ipython",
    "version": 3
   },
   "file_extension": ".py",
   "mimetype": "text/x-python",
   "name": "python",
   "nbconvert_exporter": "python",
   "pygments_lexer": "ipython3",
   "version": "3.7.4"
  }
 },
 "nbformat": 4,
 "nbformat_minor": 2
}
