{
 "cells": [
  {
   "cell_type": "code",
   "execution_count": 469,
   "metadata": {},
   "outputs": [],
   "source": [
    "import cobra\n",
    "import pandas as pd\n",
    "import io, re\n",
    "from bioservices.uniprot import UniProt\n",
    "import bioservices.xmltools\n",
    "\n",
    "import sys\n",
    "sys.path.append('/home/hvdinh16/Workspace/workpy3/common/')\n",
    "from custom_functions import *\n",
    "\n",
    "import lxml\n",
    "from lxml import etree\n",
    "from lxml.etree import ElementTree"
   ]
  },
  {
   "cell_type": "code",
   "execution_count": null,
   "metadata": {},
   "outputs": [],
   "source": []
  },
  {
   "cell_type": "code",
   "execution_count": null,
   "metadata": {},
   "outputs": [],
   "source": [
    "def parse_bioservices_uniprot_XML():\n",
    "    "
   ]
  },
  {
   "cell_type": "code",
   "execution_count": 2,
   "metadata": {
    "scrolled": true
   },
   "outputs": [
    {
     "name": "stdout",
     "output_type": "stream",
     "text": [
      "Academic license - for non-commercial use only\n"
     ]
    }
   ],
   "source": [
    "model = cobra.io.load_json_model('./gsmodel/iRhtoC_r2_2.json')"
   ]
  },
  {
   "cell_type": "code",
   "execution_count": 3,
   "metadata": {},
   "outputs": [
    {
     "data": {
      "text/plain": [
       "['SPONT', 'TRUE', 'UNKNOWN']"
      ]
     },
     "execution_count": 3,
     "metadata": {},
     "output_type": "execute_result"
    }
   ],
   "source": [
    "[g.id for g in model.genes if g.id[:2] != 'rt']"
   ]
  },
  {
   "cell_type": "code",
   "execution_count": 4,
   "metadata": {},
   "outputs": [
    {
     "name": "stderr",
     "output_type": "stream",
     "text": [
      "INFO    [bioservices:UniProt]:  Initialising UniProt service (REST)\n"
     ]
    },
    {
     "name": "stdout",
     "output_type": "stream",
     "text": [
      "P40825 ['CC   -!- SUBCELLULAR LOCATION: [Isoform Cytoplasmic]: Cytoplasm.', 'CC   -!- SUBCELLULAR LOCATION: [Isoform Mitochondrial]: Mitochondrion.']\n",
      "P11491 ['CC   -!- SUBCELLULAR LOCATION: [Repressible alkaline phosphatase]: Vacuole', 'CC   -!- SUBCELLULAR LOCATION: [Soluble alkaline phosphatase]: Cytoplasm.']\n",
      "P32796 ['CC   -!- SUBCELLULAR LOCATION: [Isoform Mitochondrial]: Mitochondrion inner', 'CC   -!- SUBCELLULAR LOCATION: [Isoform Peroxisomal]: Peroxisome.']\n",
      "P17695 ['CC   -!- SUBCELLULAR LOCATION: [Isoform Cytoplasmic]: Cytoplasm', 'CC   -!- SUBCELLULAR LOCATION: [Isoform Mitochondrial]: Mitochondrion']\n",
      "P38088 ['CC   -!- SUBCELLULAR LOCATION: [Isoform Cytoplasmic]: Cytoplasm.', 'CC   -!- SUBCELLULAR LOCATION: [Isoform Mitochondrial]: Mitochondrion matrix.']\n",
      "P07263 ['CC   -!- SUBCELLULAR LOCATION: [Isoform Cytoplasmic]: Cytoplasm.', 'CC   -!- SUBCELLULAR LOCATION: [Isoform Mitochondrial]: Mitochondrion.']\n",
      "P00724 ['CC   -!- SUBCELLULAR LOCATION: [Isoform Intracellular]: Cytoplasm.', 'CC   -!- SUBCELLULAR LOCATION: [Isoform Secreted]: Secreted.']\n",
      "P07806 ['CC   -!- SUBCELLULAR LOCATION: [Isoform Cytoplasmic]: Cytoplasm.', 'CC   -!- SUBCELLULAR LOCATION: [Isoform Mitochondrial]: Mitochondrion.']\n",
      "P39006 ['CC   -!- SUBCELLULAR LOCATION: [Phosphatidylserine decarboxylase 1 beta chain]:', 'CC   -!- SUBCELLULAR LOCATION: [Phosphatidylserine decarboxylase 1 alpha chain]:']\n",
      "P32796 ['CC   -!- SUBCELLULAR LOCATION: [Isoform Mitochondrial]: Mitochondrion inner', 'CC   -!- SUBCELLULAR LOCATION: [Isoform Peroxisomal]: Peroxisome.']\n",
      "P32796 ['CC   -!- SUBCELLULAR LOCATION: [Isoform Mitochondrial]: Mitochondrion inner', 'CC   -!- SUBCELLULAR LOCATION: [Isoform Peroxisomal]: Peroxisome.']\n"
     ]
    }
   ],
   "source": [
    "idx = [g.id for g in model.genes if g not in ['UNKNOWN', 'SPONT', 'TRUE']]\n",
    "cols = ['id', 'name', 'sc_id', 'uniprot', 'uniprot_name', 'uniprot_subunit', 'uniprot_subloc', 'check']\n",
    "df_info = pd.DataFrame(index=idx, columns=cols)\n",
    "df_info['id'] = idx\n",
    "\n",
    "for gid in df_info.index:\n",
    "    g = model.genes.get_by_id(gid)\n",
    "    if 'rt' not in g.name:\n",
    "        df_info.loc[g.id, 'name'] = g.name\n",
    "    \n",
    "    if 'sc_id' in g.annotation.keys():\n",
    "        df_info.loc[g.id, 'sc_id'] = g.annotation['sc_id']\n",
    "        \n",
    "uniprot = UniProt(verbose=True)\n",
    "for i in df_info.index:\n",
    "    if pd.isnull(df_info.sc_id[i]):\n",
    "        continue\n",
    "        \n",
    "    if ',' not in df_info.sc_id[i]:\n",
    "        sc_id = df_info.sc_id[i]\n",
    "    else:\n",
    "        sc_id = df_info.sc_id[i].split(',')[0]\n",
    "    qstr = 'gene:' + df_info.sc_id[i] + ' AND taxonomy:4932 AND reviewed:yes'\n",
    "    \n",
    "    search = uniprot.search(qstr)\n",
    "    if search == '':\n",
    "        continue\n",
    "    df_search = pd.read_table(io.StringIO(search))\n",
    "    \n",
    "    uniprot_id = df_search.Entry[0]\n",
    "    retrieve = uniprot.retrieve(uniprot_id, frmt='txt')\n",
    "    \n",
    "    lines = retrieve.split('\\n')\n",
    "    \n",
    "    df_info.loc[i, 'uniprot'] = uniprot_id\n",
    "    df_info.loc[i, 'uniprot_name'] = re.split('\\s+', lines[0])[1]\n",
    "    \n",
    "    subunit = [l for l in lines if l[:2] == 'CC' and 'SUBUNIT' in l]\n",
    "    subunit_stat = ''\n",
    "    if len(subunit) > 1:\n",
    "        subunit_stat = 'check_subunit'\n",
    "        print(uniprot_id, subunit)\n",
    "    elif len(subunit) > 0:\n",
    "        df_info.loc[i, 'uniprot_subunit'] = subunit[0].split(': ')[1][:-1]\n",
    "        \n",
    "    subloc = [l for l in lines if l[:2] == 'CC' and 'SUBCELLULAR LOCATION' in l]\n",
    "    subloc_stat = ''\n",
    "    if len(subloc) > 1:\n",
    "        subloc_stat = 'check_subloc'\n",
    "        print(uniprot_id, subloc)\n",
    "    elif len(subloc) > 0:\n",
    "        x = subloc[0].split(': ')[1]\n",
    "        x = x[:-1] if x[-1] == '.' else x\n",
    "        x = x.split(' {')[0] if ' {' in x else x\n",
    "        df_info.loc[i, 'uniprot_subloc'] = x\n",
    "        \n",
    "    stats = []\n",
    "    if subunit_stat != '':\n",
    "        stats.append(subunit_stat)\n",
    "    if subloc_stat != '':\n",
    "        stats.append(subloc_stat)\n",
    "    if stats != []:\n",
    "        df_info.loc[i, 'check'] = ' | '.join(stats)"
   ]
  },
  {
   "cell_type": "code",
   "execution_count": 53,
   "metadata": {},
   "outputs": [
    {
     "data": {
      "text/html": [
       "<div>\n",
       "<style scoped>\n",
       "    .dataframe tbody tr th:only-of-type {\n",
       "        vertical-align: middle;\n",
       "    }\n",
       "\n",
       "    .dataframe tbody tr th {\n",
       "        vertical-align: top;\n",
       "    }\n",
       "\n",
       "    .dataframe thead th {\n",
       "        text-align: right;\n",
       "    }\n",
       "</style>\n",
       "<table border=\"1\" class=\"dataframe\">\n",
       "  <thead>\n",
       "    <tr style=\"text-align: right;\">\n",
       "      <th></th>\n",
       "      <th>id</th>\n",
       "      <th>name</th>\n",
       "      <th>sc_id</th>\n",
       "      <th>uniprot</th>\n",
       "      <th>uniprot_name</th>\n",
       "      <th>uniprot_subunit</th>\n",
       "      <th>uniprot_subloc</th>\n",
       "      <th>check</th>\n",
       "    </tr>\n",
       "  </thead>\n",
       "  <tbody>\n",
       "    <tr>\n",
       "      <th>rt2671</th>\n",
       "      <td>rt2671</td>\n",
       "      <td>GUT2</td>\n",
       "      <td>YIL155C</td>\n",
       "      <td>P32191</td>\n",
       "      <td>GPDM_YEAST</td>\n",
       "      <td>NaN</td>\n",
       "      <td>Mitochondrion inner membrane</td>\n",
       "      <td>NaN</td>\n",
       "    </tr>\n",
       "  </tbody>\n",
       "</table>\n",
       "</div>"
      ],
      "text/plain": [
       "            id  name    sc_id uniprot uniprot_name uniprot_subunit  \\\n",
       "rt2671  rt2671  GUT2  YIL155C  P32191   GPDM_YEAST             NaN   \n",
       "\n",
       "                      uniprot_subloc check  \n",
       "rt2671  Mitochondrion inner membrane   NaN  "
      ]
     },
     "execution_count": 53,
     "metadata": {},
     "output_type": "execute_result"
    }
   ],
   "source": [
    "df_info[df_info.name == 'GUT2']"
   ]
  },
  {
   "cell_type": "code",
   "execution_count": 51,
   "metadata": {},
   "outputs": [
    {
     "data": {
      "text/html": [
       "<div>\n",
       "<style scoped>\n",
       "    .dataframe tbody tr th:only-of-type {\n",
       "        vertical-align: middle;\n",
       "    }\n",
       "\n",
       "    .dataframe tbody tr th {\n",
       "        vertical-align: top;\n",
       "    }\n",
       "\n",
       "    .dataframe thead th {\n",
       "        text-align: right;\n",
       "    }\n",
       "</style>\n",
       "<table border=\"1\" class=\"dataframe\">\n",
       "  <thead>\n",
       "    <tr style=\"text-align: right;\">\n",
       "      <th></th>\n",
       "      <th>id</th>\n",
       "      <th>name</th>\n",
       "      <th>sc_id</th>\n",
       "      <th>uniprot</th>\n",
       "      <th>uniprot_name</th>\n",
       "      <th>uniprot_subunit</th>\n",
       "      <th>uniprot_subloc</th>\n",
       "      <th>check</th>\n",
       "    </tr>\n",
       "  </thead>\n",
       "  <tbody>\n",
       "    <tr>\n",
       "      <th>rt0434</th>\n",
       "      <td>rt0434</td>\n",
       "      <td>CYC7</td>\n",
       "      <td>YEL039C</td>\n",
       "      <td>P00045</td>\n",
       "      <td>CYC7_YEAST</td>\n",
       "      <td>NaN</td>\n",
       "      <td>Mitochondrion intermembrane space</td>\n",
       "      <td>NaN</td>\n",
       "    </tr>\n",
       "    <tr>\n",
       "      <th>rt4960</th>\n",
       "      <td>rt4960</td>\n",
       "      <td>DLD1</td>\n",
       "      <td>YDL174C</td>\n",
       "      <td>P32891</td>\n",
       "      <td>DLD1_YEAST</td>\n",
       "      <td>NaN</td>\n",
       "      <td>Mitochondrion inner membrane</td>\n",
       "      <td>NaN</td>\n",
       "    </tr>\n",
       "    <tr>\n",
       "      <th>rt8275</th>\n",
       "      <td>rt8275</td>\n",
       "      <td>DLD2</td>\n",
       "      <td>YDL178W</td>\n",
       "      <td>P46681</td>\n",
       "      <td>DLD2_YEAST</td>\n",
       "      <td>Interacts with F-actin. {ECO:0000269|PubMed:15...</td>\n",
       "      <td>Mitochondrion matrix</td>\n",
       "      <td>NaN</td>\n",
       "    </tr>\n",
       "    <tr>\n",
       "      <th>rt5273</th>\n",
       "      <td>rt5273</td>\n",
       "      <td>BDH1</td>\n",
       "      <td>YAL060W</td>\n",
       "      <td>P39714</td>\n",
       "      <td>BDH1_YEAST</td>\n",
       "      <td>Homodimer</td>\n",
       "      <td>Cytoplasm</td>\n",
       "      <td>NaN</td>\n",
       "    </tr>\n",
       "    <tr>\n",
       "      <th>rt8239</th>\n",
       "      <td>rt8239</td>\n",
       "      <td>CYB2</td>\n",
       "      <td>YML054C</td>\n",
       "      <td>P00175</td>\n",
       "      <td>CYB2_YEAST</td>\n",
       "      <td>Homotetramer</td>\n",
       "      <td>Mitochondrion intermembrane space</td>\n",
       "      <td>NaN</td>\n",
       "    </tr>\n",
       "  </tbody>\n",
       "</table>\n",
       "</div>"
      ],
      "text/plain": [
       "            id  name    sc_id uniprot uniprot_name  \\\n",
       "rt0434  rt0434  CYC7  YEL039C  P00045   CYC7_YEAST   \n",
       "rt4960  rt4960  DLD1  YDL174C  P32891   DLD1_YEAST   \n",
       "rt8275  rt8275  DLD2  YDL178W  P46681   DLD2_YEAST   \n",
       "rt5273  rt5273  BDH1  YAL060W  P39714   BDH1_YEAST   \n",
       "rt8239  rt8239  CYB2  YML054C  P00175   CYB2_YEAST   \n",
       "\n",
       "                                          uniprot_subunit  \\\n",
       "rt0434                                                NaN   \n",
       "rt4960                                                NaN   \n",
       "rt8275  Interacts with F-actin. {ECO:0000269|PubMed:15...   \n",
       "rt5273                                          Homodimer   \n",
       "rt8239                                       Homotetramer   \n",
       "\n",
       "                           uniprot_subloc check  \n",
       "rt0434  Mitochondrion intermembrane space   NaN  \n",
       "rt4960       Mitochondrion inner membrane   NaN  \n",
       "rt8275               Mitochondrion matrix   NaN  \n",
       "rt5273                          Cytoplasm   NaN  \n",
       "rt8239  Mitochondrion intermembrane space   NaN  "
      ]
     },
     "execution_count": 51,
     "metadata": {},
     "output_type": "execute_result"
    }
   ],
   "source": [
    "df_info.head()"
   ]
  },
  {
   "cell_type": "code",
   "execution_count": null,
   "metadata": {},
   "outputs": [],
   "source": []
  },
  {
   "cell_type": "code",
   "execution_count": null,
   "metadata": {},
   "outputs": [],
   "source": [
    "def parse_bioservices_uniprot_XML(retrieve):\n",
    "    # Parse an XML entry of Uniprot extracted by bioservices\n",
    "    # Only extract info for subunit, subcellular location, and cofactor\n",
    "    from bioservices.uniprot import UniProt\n",
    "    \n",
    "    # Initiate\n",
    "    info_dict = {i:None for i in ['subunit', 'subcellular location', 'cofactor']}\n",
    "    \n",
    "    # Parse\n",
    "    uniprot_entry = retrieve.getchildren()[0]\n",
    "    comments = [i for i in iter(uniprot_entry.getchildren()) if i.tag == '{http://uniprot.org/uniprot}comment']"
   ]
  },
  {
   "cell_type": "code",
   "execution_count": 177,
   "metadata": {},
   "outputs": [
    {
     "name": "stderr",
     "output_type": "stream",
     "text": [
      "/home/hvdinh16/Workspace/workpy3/lib/python3.7/site-packages/ipykernel_launcher.py:2 DeprecationWarning: This method will be removed in future versions.  Use 'list(elem)' or iteration over elem instead.\n"
     ]
    }
   ],
   "source": [
    "uniprot_entry = retrieve.getchildren()[0]\n",
    "comments = [i for i in iter(uniprot_entry.getchildren()) if i.tag == '{http://uniprot.org/uniprot}comment']"
   ]
  },
  {
   "cell_type": "code",
   "execution_count": 367,
   "metadata": {},
   "outputs": [],
   "source": [
    "x = [i for i in uniprot_entry.iter(tag='{http://uniprot.org/uniprot}comment')][0]"
   ]
  },
  {
   "cell_type": "code",
   "execution_count": 368,
   "metadata": {},
   "outputs": [],
   "source": [
    "x1 = x[0]"
   ]
  },
  {
   "cell_type": "code",
   "execution_count": 370,
   "metadata": {},
   "outputs": [
    {
     "data": {
      "text/plain": [
       "'{http://uniprot.org/uniprot}comment'"
      ]
     },
     "execution_count": 370,
     "metadata": {},
     "output_type": "execute_result"
    }
   ],
   "source": [
    "x.tag"
   ]
  },
  {
   "cell_type": "code",
   "execution_count": 362,
   "metadata": {},
   "outputs": [
    {
     "data": {
      "text/plain": [
       "{'type': 'miscellaneous'}"
      ]
     },
     "execution_count": 362,
     "metadata": {},
     "output_type": "execute_result"
    }
   ],
   "source": [
    "x.attrib"
   ]
  },
  {
   "cell_type": "code",
   "execution_count": 360,
   "metadata": {},
   "outputs": [
    {
     "name": "stderr",
     "output_type": "stream",
     "text": [
      "/home/hvdinh16/Workspace/workpy3/lib/python3.7/site-packages/ipykernel_launcher.py:1 DeprecationWarning: This method will be removed in future versions.  Use 'list(elem)' or iteration over elem instead.\n"
     ]
    },
    {
     "data": {
      "text/plain": [
       "'Present with 1670 molecules/cell in log phase SD medium.'"
      ]
     },
     "execution_count": 360,
     "metadata": {},
     "output_type": "execute_result"
    }
   ],
   "source": [
    "x.getchildren()[0].text"
   ]
  },
  {
   "cell_type": "code",
   "execution_count": 336,
   "metadata": {},
   "outputs": [
    {
     "data": {
      "text/plain": [
       "'Mitochondrion inner membrane'"
      ]
     },
     "execution_count": 336,
     "metadata": {},
     "output_type": "execute_result"
    }
   ],
   "source": [
    "y1.find(xmlns+'location').text"
   ]
  },
  {
   "cell_type": "code",
   "execution_count": 337,
   "metadata": {},
   "outputs": [
    {
     "data": {
      "text/plain": [
       "'Mitochondrion intermembrane space'"
      ]
     },
     "execution_count": 337,
     "metadata": {},
     "output_type": "execute_result"
    }
   ],
   "source": [
    "y2.find(xmlns+'location').text"
   ]
  },
  {
   "cell_type": "code",
   "execution_count": 339,
   "metadata": {},
   "outputs": [
    {
     "name": "stderr",
     "output_type": "stream",
     "text": [
      "/home/hvdinh16/Workspace/workpy3/lib/python3.7/site-packages/ipykernel_launcher.py:1 DeprecationWarning: This method will be removed in future versions.  Use 'list(elem)' or iteration over elem instead.\n"
     ]
    },
    {
     "data": {
      "text/plain": [
       "[<Element '{http://uniprot.org/uniprot}location' at 0x7f2342894e30>]"
      ]
     },
     "execution_count": 339,
     "metadata": {},
     "output_type": "execute_result"
    }
   ],
   "source": [
    "y2.getchildren()"
   ]
  },
  {
   "cell_type": "code",
   "execution_count": 269,
   "metadata": {},
   "outputs": [
    {
     "data": {
      "text/plain": [
       "{'type': 'ChEBI', 'id': 'CHEBI:57692'}"
      ]
     },
     "execution_count": 269,
     "metadata": {},
     "output_type": "execute_result"
    }
   ],
   "source": [
    "x2.attrib"
   ]
  },
  {
   "cell_type": "code",
   "execution_count": 378,
   "metadata": {},
   "outputs": [
    {
     "name": "stderr",
     "output_type": "stream",
     "text": [
      "/home/hvdinh16/Workspace/workpy3/lib/python3.7/site-packages/ipykernel_launcher.py:1 DeprecationWarning: This method will be removed in future versions.  Use 'list(elem)' or iteration over elem instead.\n"
     ]
    },
    {
     "name": "stdout",
     "output_type": "stream",
     "text": [
      "{'type': 'catalytic activity'}\n",
      "{'type': 'cofactor'}\n",
      "{'type': 'pathway'}\n",
      "{'type': 'subcellular location'}\n",
      "{'type': 'miscellaneous'}\n",
      "{'type': 'similarity'}\n"
     ]
    }
   ],
   "source": [
    "x = [i for i in uniprot_entry.getchildren() if i.tag == xmlns+'comment']\n",
    "for i in x:\n",
    "    print(i.attrib)"
   ]
  },
  {
   "cell_type": "code",
   "execution_count": null,
   "metadata": {},
   "outputs": [],
   "source": [
    "etree.tostring()"
   ]
  },
  {
   "cell_type": "code",
   "execution_count": 476,
   "metadata": {},
   "outputs": [
    {
     "data": {
      "text/plain": [
       "lxml.etree._Element"
      ]
     },
     "execution_count": 476,
     "metadata": {},
     "output_type": "execute_result"
    }
   ],
   "source": [
    "type(lxmlET)"
   ]
  },
  {
   "cell_type": "code",
   "execution_count": 513,
   "metadata": {},
   "outputs": [],
   "source": [
    "qstr = 'gene:' + 'YEL039C' + ' AND taxonomy:4932 AND reviewed:yes'\n",
    "search = uniprot.search(qstr)\n",
    "\n",
    "df_search = pd.read_table(io.StringIO(search))\n",
    "uniprot_id = df_search.Entry[0]\n",
    "retrieve = uniprot.retrieve(uniprot_id, frmt='xml')"
   ]
  },
  {
   "cell_type": "code",
   "execution_count": 514,
   "metadata": {},
   "outputs": [],
   "source": [
    "lxmlET = etree.fromstring(retrieve.data.encode())\n",
    "for elem in lxmlET.getiterator():\n",
    "    elem.tag = etree.QName(elem.tag).localname\n",
    "etree.cleanup_namespaces(lxmlET)"
   ]
  },
  {
   "cell_type": "code",
   "execution_count": 515,
   "metadata": {},
   "outputs": [],
   "source": [
    "a = lxmlET.find('entry')\n",
    "comments = a.findall('comment')"
   ]
  },
  {
   "cell_type": "code",
   "execution_count": 517,
   "metadata": {},
   "outputs": [
    {
     "name": "stdout",
     "output_type": "stream",
     "text": [
      "{'type': 'function'}\n",
      "{'type': 'cofactor'}\n",
      "{'type': 'subcellular location'}\n",
      "{'type': 'induction'}\n",
      "{'type': 'miscellaneous'}\n",
      "{'type': 'similarity'}\n",
      "{'type': 'online information', 'name': 'Protein Spotlight'}\n"
     ]
    }
   ],
   "source": [
    "comments = a.findall('comment')\n",
    "for i in comments:\n",
    "    print(i.attrib)"
   ]
  },
  {
   "cell_type": "code",
   "execution_count": 518,
   "metadata": {},
   "outputs": [],
   "source": [
    "x = comments[1]"
   ]
  },
  {
   "cell_type": "code",
   "execution_count": 521,
   "metadata": {},
   "outputs": [
    {
     "data": {
      "text/plain": [
       "[<Element cofactor at 0x7f2342552b90>, <Element text at 0x7f2342552af0>]"
      ]
     },
     "execution_count": 521,
     "metadata": {},
     "output_type": "execute_result"
    }
   ],
   "source": [
    "x.getchildren()"
   ]
  },
  {
   "cell_type": "code",
   "execution_count": 522,
   "metadata": {},
   "outputs": [],
   "source": [
    "y = x.getchildren()[1]"
   ]
  },
  {
   "cell_type": "code",
   "execution_count": 528,
   "metadata": {},
   "outputs": [
    {
     "data": {
      "text/plain": [
       "{'evidence': '7'}"
      ]
     },
     "execution_count": 528,
     "metadata": {},
     "output_type": "execute_result"
    }
   ],
   "source": [
    "y.attrib"
   ]
  },
  {
   "cell_type": "code",
   "execution_count": 524,
   "metadata": {},
   "outputs": [
    {
     "data": {
      "text/plain": [
       "'Binds 1 heme group covalently per subunit.'"
      ]
     },
     "execution_count": 524,
     "metadata": {},
     "output_type": "execute_result"
    }
   ],
   "source": [
    "y.text"
   ]
  },
  {
   "cell_type": "code",
   "execution_count": 512,
   "metadata": {},
   "outputs": [
    {
     "data": {
      "text/plain": [
       "'Monomer.'"
      ]
     },
     "execution_count": 512,
     "metadata": {},
     "output_type": "execute_result"
    }
   ],
   "source": [
    "y.text"
   ]
  },
  {
   "cell_type": "code",
   "execution_count": 503,
   "metadata": {},
   "outputs": [
    {
     "data": {
      "text/plain": [
       "'SDHX_YEAST'"
      ]
     },
     "execution_count": 503,
     "metadata": {},
     "output_type": "execute_result"
    }
   ],
   "source": [
    "uniprot_entry.find('name').text"
   ]
  },
  {
   "cell_type": "code",
   "execution_count": null,
   "metadata": {},
   "outputs": [],
   "source": []
  },
  {
   "cell_type": "code",
   "execution_count": 488,
   "metadata": {},
   "outputs": [
    {
     "data": {
      "text/plain": [
       "b'<comment xmlns:xsi=\"http://www.w3.org/2001/XMLSchema-instance\" type=\"subcellular location\">\\n<subcellularLocation>\\n<location evidence=\"2\">Mitochondrion inner membrane</location>\\n<topology evidence=\"2\">Peripheral membrane protein</topology>\\n<orientation evidence=\"2\">Matrix side</orientation>\\n</subcellularLocation>\\n</comment>\\n'"
      ]
     },
     "execution_count": 488,
     "metadata": {},
     "output_type": "execute_result"
    }
   ],
   "source": [
    "etree.tostring(x)"
   ]
  },
  {
   "cell_type": "code",
   "execution_count": 440,
   "metadata": {},
   "outputs": [],
   "source": [
    "y = x.findall('cofactor')[0]"
   ]
  },
  {
   "cell_type": "code",
   "execution_count": 444,
   "metadata": {},
   "outputs": [
    {
     "name": "stderr",
     "output_type": "stream",
     "text": [
      "/home/hvdinh16/Workspace/workpy3/lib/python3.7/site-packages/ipykernel_launcher.py:1 DeprecationWarning: This method will be removed in future versions.  Use 'list(elem)' or iteration over elem instead.\n"
     ]
    },
    {
     "data": {
      "text/plain": [
       "[<Element 'name' at 0x7f2342628ad0>, <Element 'dbReference' at 0x7f2342628b90>]"
      ]
     },
     "execution_count": 444,
     "metadata": {},
     "output_type": "execute_result"
    }
   ],
   "source": [
    "y.getchildren()"
   ]
  },
  {
   "cell_type": "code",
   "execution_count": null,
   "metadata": {},
   "outputs": [],
   "source": []
  },
  {
   "cell_type": "code",
   "execution_count": 454,
   "metadata": {},
   "outputs": [
    {
     "name": "stderr",
     "output_type": "stream",
     "text": [
      "/home/hvdinh16/Workspace/workpy3/lib/python3.7/site-packages/ipykernel_launcher.py:2 DeprecationWarning: This method will be removed in future versions.  Use 'list(elem)' or iteration over elem instead.\n"
     ]
    },
    {
     "name": "stdout",
     "output_type": "stream",
     "text": [
      "<Element 'comment' at 0x7f234257a050> {'type': 'similarity'} [<Element 'text' at 0x7f234257a0b0>]\n",
      "<Element 'text' at 0x7f234257a0b0> {'evidence': '7'} []\n"
     ]
    }
   ],
   "source": [
    "for i in elem.iter():\n",
    "    print(i, i.attrib, i.getchildren())"
   ]
  },
  {
   "cell_type": "code",
   "execution_count": 484,
   "metadata": {},
   "outputs": [
    {
     "name": "stderr",
     "output_type": "stream",
     "text": [
      "/home/hvdinh16/Workspace/workpy3/lib/python3.7/site-packages/ipykernel_launcher.py:1 DeprecationWarning: This method will be removed in future versions.  Use 'list(elem)' or iteration over elem instead.\n"
     ]
    }
   ],
   "source": [
    "a = cofactor_entry.getchildren()[0]"
   ]
  },
  {
   "cell_type": "code",
   "execution_count": null,
   "metadata": {},
   "outputs": [],
   "source": [
    "cofactor_attrib_list\n",
    "{'cofactor', 'text'}\n",
    "subloc_attrib_list\n",
    "{'subcellularLocation', 'text', 'molecule'}\n",
    "subunit_attrib_list\n",
    "{'text'}"
   ]
  },
  {
   "cell_type": "code",
   "execution_count": 485,
   "metadata": {
    "scrolled": true
   },
   "outputs": [
    {
     "data": {
      "text/plain": [
       "'name'"
      ]
     },
     "execution_count": 485,
     "metadata": {},
     "output_type": "execute_result"
    }
   ],
   "source": [
    "a.tag"
   ]
  },
  {
   "cell_type": "code",
   "execution_count": 486,
   "metadata": {},
   "outputs": [
    {
     "data": {
      "text/plain": [
       "\"{'a': 'b'}\""
      ]
     },
     "execution_count": 486,
     "metadata": {},
     "output_type": "execute_result"
    }
   ],
   "source": [
    "str({'a':'b'})"
   ]
  },
  {
   "cell_type": "code",
   "execution_count": null,
   "metadata": {},
   "outputs": [],
   "source": [
    "for elem in uniprot_entry.iter(tag='comment'):\n",
    "    \n",
    "    # Extract cofactor info\n",
    "    if elem.attrib['type'] == 'cofactor':\n",
    "        cofactor_list = []\n",
    "        for cofactor_entry in elem.getchildren():\n",
    "            name = cofactor_entry.find('name')\n",
    "            if name != None:\n",
    "                name = name.text\n",
    "            \n",
    "            dbref = cofactor_entry.find('dbReference')\n",
    "            if dbref != None:\n",
    "                dbref = dbref.attrib['id']\n",
    "                \n",
    "            cofactor_list.append(str(name) + '/' + str(dbref))\n",
    "            \n",
    "    # Extract subcellular location\n",
    "    elif elem.attrib['type'] == 'subcellular location':\n",
    "        subloc_list = []\n",
    "        for subloc_entry in elem.getchildren():\n",
    "            loc = subloc_entry.find('location')\n",
    "            if loc != None:\n",
    "                loc = loc.text\n",
    "                \n",
    "            subloc_list.append(loc)\n",
    "        continue\n",
    "            \n",
    "    # Extract subunit information\n",
    "    elif elem.attrib['type'] == 'subunit'"
   ]
  },
  {
   "cell_type": "code",
   "execution_count": 447,
   "metadata": {},
   "outputs": [
    {
     "name": "stderr",
     "output_type": "stream",
     "text": [
      "/home/hvdinh16/Workspace/workpy3/lib/python3.7/site-packages/ipykernel_launcher.py:6 DeprecationWarning: This method will be removed in future versions.  Use 'list(elem)' or iteration over elem instead.\n",
      "/home/hvdinh16/Workspace/workpy3/lib/python3.7/site-packages/ipykernel_launcher.py:20 DeprecationWarning: This method will be removed in future versions.  Use 'list(elem)' or iteration over elem instead.\n"
     ]
    }
   ],
   "source": [
    "for elem in uniprot_entry.iter(tag='comment'):\n",
    "    \n",
    "    # Extract cofactor info\n",
    "    if elem.attrib['type'] == 'cofactor':\n",
    "        cofactor_list = []\n",
    "        for cofactor_entry in elem.getchildren():\n",
    "            name = cofactor_entry.find('name')\n",
    "            if name != None:\n",
    "                name = name.text\n",
    "            \n",
    "            dbref = cofactor_entry.find('dbReference')\n",
    "            if dbref != None:\n",
    "                dbref = dbref.attrib['id']\n",
    "                \n",
    "            cofactor_list.append(str(name) + '/' + str(dbref))\n",
    "            \n",
    "    # Extract subcellular location\n",
    "    elif elem.attrib['type'] == 'subcellular location':\n",
    "        subloc_list = []\n",
    "        for subloc_entry in elem.getchildren():\n",
    "            loc = subloc_entry.find('location')\n",
    "            if loc != None:\n",
    "                loc = loc.text\n",
    "                \n",
    "            subloc_list.append(loc)\n",
    "        continue\n",
    "            \n",
    "    # Extract subunit information\n",
    "    elif elem.attrib['type'] == 'subunit'"
   ]
  },
  {
   "cell_type": "code",
   "execution_count": null,
   "metadata": {},
   "outputs": [],
   "source": []
  },
  {
   "cell_type": "code",
   "execution_count": 195,
   "metadata": {},
   "outputs": [
    {
     "data": {
      "text/html": [
       "<div>\n",
       "<style scoped>\n",
       "    .dataframe tbody tr th:only-of-type {\n",
       "        vertical-align: middle;\n",
       "    }\n",
       "\n",
       "    .dataframe tbody tr th {\n",
       "        vertical-align: top;\n",
       "    }\n",
       "\n",
       "    .dataframe thead th {\n",
       "        text-align: right;\n",
       "    }\n",
       "</style>\n",
       "<table border=\"1\" class=\"dataframe\">\n",
       "  <thead>\n",
       "    <tr style=\"text-align: right;\">\n",
       "      <th></th>\n",
       "      <th>id</th>\n",
       "      <th>name</th>\n",
       "      <th>sc_id</th>\n",
       "      <th>uniprot</th>\n",
       "      <th>uniprot_name</th>\n",
       "      <th>uniprot_subunit</th>\n",
       "      <th>uniprot_subloc</th>\n",
       "      <th>check</th>\n",
       "    </tr>\n",
       "  </thead>\n",
       "  <tbody>\n",
       "    <tr>\n",
       "      <th>rt7913</th>\n",
       "      <td>rt7913</td>\n",
       "      <td>SDH1</td>\n",
       "      <td>YKL148C,YJL045W</td>\n",
       "      <td>NaN</td>\n",
       "      <td>NaN</td>\n",
       "      <td>NaN</td>\n",
       "      <td>NaN</td>\n",
       "      <td>NaN</td>\n",
       "    </tr>\n",
       "  </tbody>\n",
       "</table>\n",
       "</div>"
      ],
      "text/plain": [
       "            id  name            sc_id uniprot uniprot_name uniprot_subunit  \\\n",
       "rt7913  rt7913  SDH1  YKL148C,YJL045W     NaN          NaN             NaN   \n",
       "\n",
       "       uniprot_subloc check  \n",
       "rt7913            NaN   NaN  "
      ]
     },
     "execution_count": 195,
     "metadata": {},
     "output_type": "execute_result"
    }
   ],
   "source": [
    "df_info[df_info.name == 'SDH1']"
   ]
  },
  {
   "cell_type": "code",
   "execution_count": 504,
   "metadata": {},
   "outputs": [],
   "source": [
    "qstr = 'gene:' + 'YDR226W' + ' AND taxonomy:4932 AND reviewed:yes'\n",
    "search = uniprot.search(qstr)\n",
    "\n",
    "df_search = pd.read_table(io.StringIO(search))\n",
    "uniprot_id = df_search.Entry[0]\n",
    "retrieve = uniprot.retrieve(uniprot_id, frmt='xml')"
   ]
  },
  {
   "cell_type": "code",
   "execution_count": null,
   "metadata": {},
   "outputs": [],
   "source": []
  }
 ],
 "metadata": {
  "kernelspec": {
   "display_name": "Python 3",
   "language": "python",
   "name": "python3"
  },
  "language_info": {
   "codemirror_mode": {
    "name": "ipython",
    "version": 3
   },
   "file_extension": ".py",
   "mimetype": "text/x-python",
   "name": "python",
   "nbconvert_exporter": "python",
   "pygments_lexer": "ipython3",
   "version": "3.7.4"
  }
 },
 "nbformat": 4,
 "nbformat_minor": 2
}
