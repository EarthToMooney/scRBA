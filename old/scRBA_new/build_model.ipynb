{
 "cells": [
  {
   "cell_type": "code",
   "execution_count": 1,
   "metadata": {},
   "outputs": [],
   "source": [
    "import pandas as pd\n",
    "import cobra\n",
    "from collections import OrderedDict\n",
    "from copy import deepcopy\n",
    "\n",
    "from custom_functions_scRBA import *"
   ]
  },
  {
   "cell_type": "markdown",
   "metadata": {},
   "source": [
    "#### Load data"
   ]
  },
  {
   "cell_type": "code",
   "execution_count": 2,
   "metadata": {},
   "outputs": [],
   "source": [
    "df_enz = pd.read_excel('../scRBA/curation/enz_stoich_curation_2021-05-21.xlsx')"
   ]
  },
  {
   "cell_type": "code",
   "execution_count": 3,
   "metadata": {},
   "outputs": [
    {
     "name": "stdout",
     "output_type": "stream",
     "text": [
      "Using license file /home/hvdinh16/Workspace/Softwares/gurobi910/linux64/gurobi.lic\n",
      "Academic license - for non-commercial use only - expires 2021-07-26\n"
     ]
    }
   ],
   "source": [
    "model = cobra.io.load_json_model('../scRBA/input/model/y834_hvd_v4_rba.json')"
   ]
  },
  {
   "cell_type": "code",
   "execution_count": 4,
   "metadata": {},
   "outputs": [],
   "source": [
    "df_rnas = pd.read_excel('../scRBA/input/scRNA/RNA_stoich.xlsx')\n",
    "df_rnas.index = df_rnas.RNAid.to_list()"
   ]
  },
  {
   "cell_type": "code",
   "execution_count": 5,
   "metadata": {},
   "outputs": [],
   "source": [
    "df_elo = pd.read_excel('../scRBA/input/translation_elongation_machinery.xlsx')\n",
    "df_elo = df_elo[df_elo.paralog.isnull()]"
   ]
  },
  {
   "cell_type": "code",
   "execution_count": 6,
   "metadata": {},
   "outputs": [],
   "source": [
    "df_pro = pd.read_excel('../scRBA/curation/prot_stoich_curation_2021-05-21.xlsx')\n",
    "df_pro.index = df_pro.id.to_list()"
   ]
  },
  {
   "cell_type": "code",
   "execution_count": 7,
   "metadata": {},
   "outputs": [],
   "source": [
    "df_aamap = pd.read_csv('../scRBA/input/amino_acid_map.txt', sep='\\t')\n",
    "df_aamap.index = df_aamap.aa_abbv.to_list()"
   ]
  },
  {
   "cell_type": "code",
   "execution_count": 8,
   "metadata": {},
   "outputs": [],
   "source": [
    "with open('../scRBA/input/rxns_req.txt') as f:\n",
    "    rxns_req = f.read().split('\\n')[:-1]\n",
    "with open('../scRBA/input/proteins_req.txt') as f:\n",
    "    pros_req = f.read().split('\\n')[:-1]\n",
    "with open('../scRBA/input/cofactors_req.txt') as f:\n",
    "    cofs_req = f.read().split('\\n')[:-1]"
   ]
  },
  {
   "cell_type": "code",
   "execution_count": 9,
   "metadata": {},
   "outputs": [],
   "source": [
    "df_aa_dummy = pd.read_excel('../scRBA/input/dummy_prot_calc.xlsx')\n",
    "df_aa_dummy.index = df_aa_dummy.aa_abbv.to_list()"
   ]
  },
  {
   "cell_type": "markdown",
   "metadata": {},
   "source": [
    "#### Assemble reactions\n",
    "Remove interactive support subunit and reactions that synthesize them"
   ]
  },
  {
   "cell_type": "code",
   "execution_count": 10,
   "metadata": {},
   "outputs": [],
   "source": [
    "df_eqn = pd.DataFrame(columns=['id', 'type', 'symbolic_coeffs', 'reaction'])\n",
    "c = df_eqn.shape[0] - 1\n",
    "\n",
    "### Metabolic network reaction\n",
    "for i in df_enz.index:\n",
    "    rxn_id = df_enz.id[i]\n",
    "    if rxn_id in rxns_req:\n",
    "        continue\n",
    "        \n",
    "    c += 1\n",
    "    _,rxn_base_id,rxn_dir,enz_id = extract_details_from_rxnid(rxn_id)\n",
    "    \n",
    "    rxn_base = model.reactions.get_by_id(rxn_base_id)\n",
    "    \n",
    "    met_dict = metabolites_dict_from_reaction_equation_RBA(rxn_base.reaction)\n",
    "    met_dict = {k:v for k,v in met_dict.items() if k != ''}\n",
    "    met_dict = {'MET-' + k:v for k,v in met_dict.items()}\n",
    "    if rxn_dir == 'REV':\n",
    "        met_dict = {k:-v for k,v in met_dict.items()}\n",
    "    elif rxn_dir == 'FWD':\n",
    "        None\n",
    "    else:\n",
    "        print(\"Unknown ID that indicate reaction direction, only accepting 'FWD' and 'REV'\")\n",
    "    \n",
    "    if enz_id != 'SPONT':\n",
    "        met_dict['ENZ-' + enz_id] = '-mu/keff'\n",
    "        df_eqn.loc[c, 'symbolic_coeffs'] = 'mu/keff'\n",
    "    \n",
    "    df_eqn.loc[c, 'id'] = rxn_id\n",
    "    df_eqn.loc[c, 'type'] = 'metabolic'\n",
    "    df_eqn.loc[c, 'reaction'] = build_reaction_equation_from_metabolites_dict_RBA(met_dict, arrow='-->')\n",
    "    \n",
    "### Enzyme synthesis network reaction\n",
    "enz_stoich = OrderedDict()\n",
    "for i in df_enz.index:\n",
    "    if df_enz.enz[i] not in pros_req:\n",
    "        enz_stoich[df_enz.enz[i]] = df_enz.protein_stoich[i]\n",
    "\n",
    "c = df_eqn.shape[0] - 1\n",
    "for enz_id,prot_str in enz_stoich.items():\n",
    "    if prot_str == 'zeroCost':\n",
    "        continue\n",
    "    \n",
    "    c += 1\n",
    "    prot_str = prot_str.split(',')\n",
    "    coeffs = OrderedDict({'PRO-' + i.split(':')[0]:-int(i.split(':')[1]) for i in prot_str})\n",
    "    coeffs['ENZ-'+enz_id] = 1\n",
    "    \n",
    "    df_eqn.loc[c, 'id'] = 'ENZSYN-' + enz_id\n",
    "    df_eqn.loc[c, 'type'] = 'enzyme'\n",
    "    df_eqn.loc[c, 'reaction'] = build_reaction_equation_from_metabolites_dict_RBA(coeffs, arrow='-->')\n",
    "    \n",
    "\"\"\"# Dummy enzyme\n",
    "c += 1\n",
    "df_eqn.loc[c, 'id'] = 'ENZSYN-DUMMYENZ_c'\n",
    "df_eqn.loc[c, 'type'] = 'enzyme'\n",
    "df_eqn.loc[c, 'reaction'] = 'PRO-DUMMYPRO_c --> ENZ-DUMMYENZ_c'\n",
    "\n",
    "# Dummy enzyme\n",
    "c += 1\n",
    "df_eqn.loc[c, 'id'] = 'ENZSYN-DUMMYENZ_m'\n",
    "df_eqn.loc[c, 'type'] = 'enzyme'\n",
    "df_eqn.loc[c, 'reaction'] = 'PRO-DUMMYPRO_m --> ENZ-DUMMYENZ_m'\"\"\";\n",
    "    \n",
    "### Ribosome\n",
    "rnas = ['rrna18s_c', 'rrna5s_c', 'rrna58s_c', 'rrna25s_c']\n",
    "rnas_mw = {'rrna18s_c': 608.60, 'rrna5s_c': 40.93, 'rrna58s_c': 53.26, 'rrna25s_c': 1151.85}\n",
    "c = df_eqn.shape[0] - 1\n",
    "for rna in rnas:\n",
    "    c += 1\n",
    "    rna_stoich = OrderedDict({i:0 for i in ['MET-'+rna, 'MET-atp_c', 'MET-ctp_c',\n",
    "                                            'MET-gtp_c', 'MET-utp_c', 'MET-ppi_c']})\n",
    "    rna_stoich['MET-'+rna] = 1\n",
    "    rna_stoich['MET-atp_c'] = -int(df_rnas.A[rna])\n",
    "    rna_stoich['MET-ctp_c'] = -int(df_rnas.C[rna])\n",
    "    rna_stoich['MET-gtp_c'] = -int(df_rnas.G[rna])\n",
    "    rna_stoich['MET-utp_c'] = -int(df_rnas.U[rna])\n",
    "    rna_stoich['MET-ppi_c'] = int(df_rnas.loc[rna, ['A','C','G','U']].sum())\n",
    "    rna_stoich['BIO-rna_c'] = rnas_mw[rna]\n",
    "    \n",
    "    df_eqn.loc[c, 'id'] = 'RIBO-' + rna\n",
    "    df_eqn.loc[c, 'type'] = 'ribosome'\n",
    "    df_eqn.loc[c, 'reaction'] = build_reaction_equation_from_metabolites_dict_RBA(rna_stoich, arrow='-->')\n",
    "    \n",
    "c += 1\n",
    "ribo_stoich = OrderedDict()\n",
    "ribo_stoich['MET-ribosome_c'] = 1\n",
    "rnas = ['rrna18s_c', 'rrna5s_c', 'rrna58s_c', 'rrna25s_c']\n",
    "for i in df_elo.index:\n",
    "    if df_elo.id[i] in rnas:\n",
    "        ribo_stoich['MET-' + df_elo.id[i]] = -1\n",
    "    else:\n",
    "        ribo_stoich['PRO-' + df_elo.id[i]] = -1\n",
    "#ribo_stoich['BIO-rna_c'] = 1854.64\n",
    "        \n",
    "df_eqn.loc[c, 'id'] = 'RIBO-ribosome_c'\n",
    "df_eqn.loc[c, 'type'] = 'ribosome'\n",
    "df_eqn.loc[c, 'reaction'] = build_reaction_equation_from_metabolites_dict_RBA(ribo_stoich, arrow='-->')\n",
    "\n",
    "# Active ribosome and ribosome biomass\n",
    "c += 1\n",
    "ribo_active = OrderedDict()\n",
    "ribo_active['MET-ribosome_c'] = -1\n",
    "ribo_active['MET-riboactive_c'] = 'friboactive'\n",
    "df_eqn.loc[c, 'symbolic_coeffs'] = 'friboactive'\n",
    "\n",
    "df_eqn.loc[c, 'id'] = 'RIBO-riboactive_c'\n",
    "df_eqn.loc[c, 'type'] = 'ribosome'\n",
    "df_eqn.loc[c, 'reaction'] = build_reaction_equation_from_metabolites_dict_RBA(ribo_active, arrow='-->')\n",
    "\n",
    "### Protein\n",
    "c = df_eqn.shape[0] - 1\n",
    "for i in df_pro.index:\n",
    "    if df_pro.id[i] in pros_req:\n",
    "        continue\n",
    "        \n",
    "    c += 1\n",
    "    prot_st = OrderedDict()\n",
    "    for met in ['MET-fmettrna_c', 'MET-atp_c', 'MET-h2o_c', 'MET-mettrna_c',\n",
    "                'MET-for_c', 'MET-adp_c', 'MET-pi_c', 'MET-h_c', 'MET-gtp_c',\n",
    "                'MET-gdp_c']:\n",
    "        prot_st[met] = 0\n",
    "\n",
    "    seq = df_pro.sequence[i][:-1]\n",
    "    for aa in df_aamap.index:\n",
    "        prot_st[df_aamap.tRNA_in[aa]] = -seq.count(aa)\n",
    "        prot_st[df_aamap.tRNA_out[aa]] = seq.count(aa)\n",
    "        \n",
    "    cofs_str = df_pro.cofactor_stoich[i]\n",
    "    if pd.isnull(cofs_str) == False:\n",
    "        cofs_st = cofs_str.split(',')\n",
    "        cofs_st = OrderedDict({c.split(':')[0]:c.split(':')[1] for c in cofs_st})\n",
    "        for k,v in cofs_st.items():\n",
    "            if k not in cofs_req:\n",
    "                prot_st['MET-' + k] = -int(v)\n",
    "                \n",
    "    prot_st['PRO-' + df_pro.id[i]] = 1\n",
    "    prot_st['MET-riboactive_c'] = '-mu*NAA/kribo'\n",
    "    \n",
    "    if df_pro.subloc_assigned[i] in ['m', 'mm']:\n",
    "        prot_st['PRO-preModeledProtBiom_m'] = df_pro.loc[i, 'MW (g/mmol)']\n",
    "    else:\n",
    "        prot_st['PRO-preModeledProtBiom_c'] = df_pro.loc[i, 'MW (g/mmol)']\n",
    "    \n",
    "    df_eqn.loc[c, 'symbolic_coeffs'] = 'mu*NAA/kribo'\n",
    "    for met in ['MET-fmettrna_c', 'MET-atp_c', 'MET-h2o_c']:\n",
    "        prot_st[met] -= 1\n",
    "    for met in ['MET-mettrna_c', 'MET-for_c', 'MET-adp_c', 'MET-pi_c', 'MET-h_c']:\n",
    "        prot_st[met] += 1\n",
    "                \n",
    "    for met in ['MET-gtp_c', 'MET-h2o_c']:\n",
    "        prot_st[met] -= 2*len(seq)\n",
    "    for met in ['MET-gdp_c', 'MET-pi_c', 'MET-h_c']:\n",
    "        prot_st[met] += 2*len(seq)\n",
    "    \n",
    "    df_eqn.loc[c, 'id'] = 'PROSYN-' + df_pro.id[i]\n",
    "    df_eqn.loc[c, 'type'] = 'protein'\n",
    "    df_eqn.loc[c, 'reaction'] = build_reaction_equation_from_metabolites_dict_RBA(prot_st, arrow='-->')\n",
    "    \n",
    "# Dummy protein\n",
    "dummyL = 405; dummyMW = 44.465469;\n",
    "for dummy in ['DUMMYPRO_c', 'DUMMYPRO_m']:\n",
    "    prot_st = OrderedDict()\n",
    "    for met in ['MET-fmettrna_c', 'MET-atp_c', 'MET-h2o_c', 'MET-mettrna_c',\n",
    "                'MET-for_c', 'MET-adp_c', 'MET-pi_c', 'MET-h_c', 'MET-gtp_c',\n",
    "                'MET-gdp_c']:\n",
    "        prot_st[met] = 0\n",
    "\n",
    "    seq = df_pro.sequence[i][:-1]\n",
    "    for aa in df_aamap.index:\n",
    "        prot_st[df_aamap.tRNA_in[aa]] = -round(df_aa_dummy.N_AA[aa], 4)\n",
    "        prot_st[df_aamap.tRNA_out[aa]] = round(df_aa_dummy.N_AA[aa], 4)\n",
    "\n",
    "    prot_st['PRO-' + dummy] = 1\n",
    "    prot_st['MET-riboactive_c'] = '-mu*NAA/kribo'\n",
    "    \n",
    "    for met in ['MET-fmettrna_c', 'MET-atp_c', 'MET-h2o_c']:\n",
    "        prot_st[met] -= 1\n",
    "    for met in ['MET-mettrna_c', 'MET-for_c', 'MET-adp_c', 'MET-pi_c', 'MET-h_c']:\n",
    "        prot_st[met] += 1\n",
    "\n",
    "    for met in ['MET-gtp_c', 'MET-h2o_c']:\n",
    "        prot_st[met] -= 2*dummyL\n",
    "    for met in ['MET-gdp_c', 'MET-pi_c', 'MET-h_c']:\n",
    "        prot_st[met] += 2*dummyL\n",
    "    \n",
    "    c += 1\n",
    "    prot_st['PRO-preUnmodeledProtBiom'] = dummyMW\n",
    "    df_eqn.loc[c, 'symbolic_coeffs'] = 'mu*NAA/kribo'\n",
    "    df_eqn.loc[c, 'id'] = 'PROSYN-' + dummy\n",
    "    df_eqn.loc[c, 'type'] = 'protein'\n",
    "    df_eqn.loc[c, 'reaction'] = build_reaction_equation_from_metabolites_dict_RBA(prot_st,\n",
    "                                                            arrow='-->', floatdecimal=6)\n",
    "\n",
    "### Dummy protein object sink\n",
    "c += 1\n",
    "df_eqn.loc[c, 'id'] = 'BIODIL-SINKDUMMY_c'\n",
    "df_eqn.loc[c, 'type'] = 'biomass'\n",
    "df_eqn.loc[c, 'reaction'] = 'PRO-DUMMYPRO_c --> '\n",
    "\n",
    "c += 1\n",
    "df_eqn.loc[c, 'id'] = 'BIODIL-SINKDUMMY_m'\n",
    "df_eqn.loc[c, 'type'] = 'biomass'\n",
    "df_eqn.loc[c, 'reaction'] = 'PRO-DUMMYPRO_m --> '\n",
    "\n",
    "### Biomass\n",
    "c += 1\n",
    "df_eqn.loc[c, 'id'] = 'BIODIL-PRO1'\n",
    "df_eqn.loc[c, 'type'] = 'biomass'\n",
    "df_eqn.loc[c, 'reaction'] = 'PRO-preModeledProtBiom_m --> BIO-modeledProtBiom_m'\n",
    "\n",
    "c += 1\n",
    "df_eqn.loc[c, 'id'] = 'BIODIL-PRO2'\n",
    "df_eqn.loc[c, 'type'] = 'biomass'\n",
    "df_eqn.loc[c, 'reaction'] = 'PRO-preModeledProtBiom_c --> BIO-modeledProtBiom_m'\n",
    "\n",
    "c += 1\n",
    "df_eqn.loc[c, 'id'] = 'BIODIL-PRO3'\n",
    "df_eqn.loc[c, 'type'] = 'biomass'\n",
    "df_eqn.loc[c, 'reaction'] = 'PRO-preUnmodeledProtBiom --> BIO-modeledProtBiom_m'\n",
    "\n",
    "c += 1\n",
    "df_eqn.loc[c, 'id'] = 'BIODIL-PRO4'\n",
    "df_eqn.loc[c, 'type'] = 'biomass'\n",
    "df_eqn.loc[c, 'reaction'] = 'PRO-preModeledProtBiom_c --> BIO-modeledProtBiom_c'\n",
    "\n",
    "c += 1\n",
    "df_eqn.loc[c, 'id'] = 'BIODIL-PRO5'\n",
    "df_eqn.loc[c, 'type'] = 'biomass'\n",
    "df_eqn.loc[c, 'reaction'] = 'PRO-preUnmodeledProtBiom --> BIO-modeledProtBiom_c'\n",
    "\n",
    "c += 1\n",
    "df_eqn.loc[c, 'id'] = 'BIODIL-PRO6'\n",
    "df_eqn.loc[c, 'type'] = 'biomass'\n",
    "df_eqn.loc[c, 'reaction'] = 'PRO-preUnmodeledProtBiom --> BIO-unmodeledProtBiom'\n",
    "\n",
    "c += 1\n",
    "df_eqn.loc[c, 'id'] = 'BIODIL-RNA'\n",
    "df_eqn.loc[c, 'type'] = 'biomass'\n",
    "df_eqn.loc[c, 'reaction'] = '0.233979 MET-atp_c + 0.227364 MET-ctp_c + 0.233979 MET-gtp_c + 0.304678 MET-utp_c --> 0.319459 BIO-rna_c + MET-ppi_c'\n",
    "\n",
    "c += 1\n",
    "df_biom = pd.read_excel('../scRBA/input/biomass/biomass_RBA_2021-05-18_fermentation.xlsx')\n",
    "df_biom = df_biom[df_biom.type.str.contains('intermediate') == False]\n",
    "biom_st = OrderedDict()\n",
    "symcoeffs = []\n",
    "for i in df_biom.index:\n",
    "    if df_biom.type[i] == 'constant':\n",
    "        biom_st[df_biom.Metabolite[i]] = df_biom.linearConstant[i]\n",
    "        \n",
    "    elif df_biom.type[i] == 'symbolic':\n",
    "        if df_biom.sign[i] == 'neg':\n",
    "            biom_st[df_biom.Metabolite[i]] = '-' + df_biom.coeff_id[i]\n",
    "            symcoeffs.append(df_biom.coeff_id[i])\n",
    "        elif df_biom.sign[i] == 'pos':\n",
    "            biom_st[df_biom.Metabolite[i]] = df_biom.coeff_id[i]\n",
    "            symcoeffs.append(df_biom.coeff_id[i])\n",
    "        else:\n",
    "            print(\"Unrecoginzed sign, only recognize 'pos' or 'neg' string for sign assignment\")\n",
    "df_eqn.loc[c, 'id'] = 'BIODIL-BIODILFERMENTATION'\n",
    "df_eqn.loc[c, 'type'] = 'biomass'\n",
    "df_eqn.loc[c, 'symbolic_coeffs'] = ','.join(symcoeffs)\n",
    "df_eqn.loc[c, 'reaction'] = build_reaction_equation_from_metabolites_dict_RBA(biom_st,\n",
    "                                                        arrow='-->', floatdecimal=6)\n",
    "\n",
    "c += 1\n",
    "df_biom = pd.read_excel('../scRBA/input/biomass/biomass_RBA_2021-05-18_respiration.xlsx')\n",
    "df_biom = df_biom[df_biom.type.str.contains('intermediate') == False]\n",
    "biom_st = OrderedDict()\n",
    "symcoeffs = []\n",
    "for i in df_biom.index:\n",
    "    if df_biom.type[i] == 'constant':\n",
    "        biom_st[df_biom.Metabolite[i]] = df_biom.linearConstant[i]\n",
    "        \n",
    "    elif df_biom.type[i] == 'symbolic':\n",
    "        if df_biom.sign[i] == 'neg':\n",
    "            biom_st[df_biom.Metabolite[i]] = '-' + df_biom.coeff_id[i]\n",
    "            symcoeffs.append(df_biom.coeff_id[i])\n",
    "        elif df_biom.sign[i] == 'pos':\n",
    "            biom_st[df_biom.Metabolite[i]] = df_biom.coeff_id[i]\n",
    "            symcoeffs.append(df_biom.coeff_id[i])\n",
    "        else:\n",
    "            print(\"Unrecoginzed sign, only recognize 'pos' or 'neg' string for sign assignment\")\n",
    "df_eqn.loc[c, 'id'] = 'BIODIL-BIODILRESPIRATION'\n",
    "df_eqn.loc[c, 'type'] = 'biomass'\n",
    "df_eqn.loc[c, 'symbolic_coeffs'] = ','.join(symcoeffs)\n",
    "df_eqn.loc[c, 'reaction'] = build_reaction_equation_from_metabolites_dict_RBA(biom_st,\n",
    "                                                        arrow='-->', floatdecimal=6)\n",
    "\n",
    "### For debugging purpose\n",
    "c += 1\n",
    "df_eqn.loc[c, 'id'] = 'DMRXNS-BIO-unmodeledProtBiom'\n",
    "df_eqn.loc[c, 'type'] = 'debug'\n",
    "df_eqn.loc[c, 'reaction'] = 'BIO-unmodeledProtBiom --> '\n",
    "\n",
    "c += 1\n",
    "df_eqn.loc[c, 'id'] = 'DMRXNS-BIO-modeledProtBiom_c'\n",
    "df_eqn.loc[c, 'type'] = 'debug'\n",
    "df_eqn.loc[c, 'reaction'] = 'BIO-modeledProtBiom_c --> '\n",
    "\n",
    "c += 1\n",
    "df_eqn.loc[c, 'id'] = 'DMRXNS-BIO-modeledProtBiom_m'\n",
    "df_eqn.loc[c, 'type'] = 'debug'\n",
    "df_eqn.loc[c, 'reaction'] = 'BIO-modeledProtBiom_m --> '\n",
    "\n",
    "c += 1\n",
    "df_eqn.loc[c, 'id'] = 'DMRXNS-BIO-rna_c'\n",
    "df_eqn.loc[c, 'type'] = 'debug'\n",
    "df_eqn.loc[c, 'reaction'] = 'BIO-rna_c --> '"
   ]
  },
  {
   "cell_type": "code",
   "execution_count": 11,
   "metadata": {},
   "outputs": [],
   "source": [
    "df_eqn.to_excel('./scRAM_network_frompy.xlsx', index=None)"
   ]
  },
  {
   "cell_type": "markdown",
   "metadata": {},
   "source": [
    "#### Assemble species list"
   ]
  },
  {
   "cell_type": "code",
   "execution_count": 12,
   "metadata": {},
   "outputs": [],
   "source": [
    "met_list_raw = []\n",
    "for i in df_eqn.index:\n",
    "    met_dict = metabolites_dict_from_reaction_equation_RBA(df_eqn.reaction[i])\n",
    "    met_list_raw += met_dict.keys()\n",
    "\n",
    "met_list = sorted(list(set(met_list_raw)))\n",
    "met_list = [i for i in met_list if i != '']"
   ]
  },
  {
   "cell_type": "code",
   "execution_count": 13,
   "metadata": {},
   "outputs": [],
   "source": [
    "with open('./species.txt', 'w') as f:\n",
    "    f.write('\\n'.join(met_list))"
   ]
  },
  {
   "cell_type": "markdown",
   "metadata": {},
   "source": [
    "#### Assemble coefficients"
   ]
  },
  {
   "cell_type": "code",
   "execution_count": 14,
   "metadata": {},
   "outputs": [],
   "source": [
    "df_rxns = pd.read_excel('./scRAM_network_frompy.xlsx')\n",
    "df_rxns.index = df_rxns.id.to_list()\n",
    "df_rxns = df_rxns[df_rxns.symbolic_coeffs.isnull() == False]\n",
    "\n",
    "df_keff = pd.read_excel('./keff_frompy.xlsx')\n",
    "df_keff.index = df_keff.rxn_id.to_list()\n",
    "\n",
    "df_pro = pd.read_excel('../scRBA/curation/prot_stoich_curation_2021-05-21.xlsx')\n",
    "df_pro.index = df_pro.id.to_list()"
   ]
  },
  {
   "cell_type": "code",
   "execution_count": 15,
   "metadata": {},
   "outputs": [],
   "source": [
    "df_params = pd.read_excel('../scRBA/input/params_respiration.xlsx')\n",
    "df_params.index = df_params.param_id.to_list()"
   ]
  },
  {
   "cell_type": "code",
   "execution_count": 16,
   "metadata": {},
   "outputs": [],
   "source": [
    "stoich = OrderedDict()"
   ]
  },
  {
   "cell_type": "markdown",
   "metadata": {},
   "source": [
    "Constant part"
   ]
  },
  {
   "cell_type": "code",
   "execution_count": 17,
   "metadata": {},
   "outputs": [],
   "source": [
    "for i in df_rxns.index:\n",
    "    rxn_id = df_rxns.id[i]\n",
    "    met_dict = metabolites_dict_from_reaction_equation_RBA(df_rxns.reaction[i])\n",
    "    met_dict = {k:v for k,v in met_dict.items() if k != ''}\n",
    "    for k,v in met_dict.items():\n",
    "        if is_number(v):\n",
    "            stoich[\"'\" + k + \"'.'\" + rxn_id + \"'\"] = v"
   ]
  },
  {
   "cell_type": "markdown",
   "metadata": {},
   "source": [
    "Symbolic part"
   ]
  },
  {
   "cell_type": "code",
   "execution_count": 18,
   "metadata": {},
   "outputs": [],
   "source": [
    "kribo = 10.5*3600; dummyNAA = 405;"
   ]
  },
  {
   "cell_type": "code",
   "execution_count": 19,
   "metadata": {},
   "outputs": [],
   "source": [
    "for i in df_rxns.index:\n",
    "    met_dict = metabolites_dict_from_reaction_equation_RBA(df_rxns.reaction[i])\n",
    "    met_dict = {k:v for k,v in met_dict.items() if k != '' and is_number(v) == False}\n",
    "    sym = df_rxns.symbolic_coeffs[i]\n",
    "    \n",
    "    for k,v in met_dict.items():\n",
    "        if v == '-mu/keff':\n",
    "            v = str(round(-1 / df_keff.keff[i] / 3600, 12)) + '*mu'\n",
    "        elif v == '-mu*NAA/kribo':\n",
    "            pro_id = i[7:]\n",
    "            if pro_id in ['DUMMYPRO_c', 'DUMMYPRO_m']:\n",
    "                v = str(-round(dummyNAA / kribo, 12)) + '*mu'\n",
    "            else:\n",
    "                v = str(-round((len(df_pro.sequence[pro_id]) - 1) / kribo, 12)) + '*mu'\n",
    "        else:\n",
    "            v = df_params.string[v]\n",
    "            \n",
    "        stoich[\"'\" + k + \"'.'\" + i + \"'\"] = str(v)"
   ]
  },
  {
   "cell_type": "markdown",
   "metadata": {},
   "source": [
    "Fix stoichiometry of respiration and fermentation phenotype biomass dilution reaction"
   ]
  },
  {
   "cell_type": "code",
   "execution_count": 20,
   "metadata": {},
   "outputs": [],
   "source": [
    "stoich[\"'BIO-unmodeledProtBiom'.'BIODIL-BIODILRESPIRATION'\"] = '-(0.118970 + 0.139017*mu)'\n",
    "stoich[\"'BIO-modeledProtBiom_c'.'BIODIL-BIODILRESPIRATION'\"] = '-(0.121007 + 0.141397*mu)'\n",
    "stoich[\"'BIO-modeledProtBiom_m'.'BIODIL-BIODILRESPIRATION'\"] = '-(0.131677 + 0.153865*mu)'\n",
    "\n",
    "stoich[\"'BIO-unmodeledProtBiom'.'BIODIL-BIODILFERMENTATION'\"] = '-(0.118970 + 0.139017*mu)'\n",
    "stoich[\"'BIO-modeledProtBiom_c'.'BIODIL-BIODILFERMENTATION'\"] = '-(0.234957 + 0.274546*mu)'\n",
    "stoich[\"'BIO-modeledProtBiom_m'.'BIODIL-BIODILFERMENTATION'\"] = '-(0.017728 + 0.020715*mu)'"
   ]
  },
  {
   "cell_type": "markdown",
   "metadata": {},
   "source": [
    "Save<br>\n",
    "For mu < 0.211"
   ]
  },
  {
   "cell_type": "code",
   "execution_count": 21,
   "metadata": {},
   "outputs": [],
   "source": [
    "import json"
   ]
  },
  {
   "cell_type": "code",
   "execution_count": 22,
   "metadata": {},
   "outputs": [],
   "source": [
    "with open('./symbolic_stoich/sij_lower_0_211.json', 'w') as f: \n",
    "    json.dump(stoich, f)"
   ]
  },
  {
   "cell_type": "markdown",
   "metadata": {},
   "source": [
    "For mu > 0.211"
   ]
  },
  {
   "cell_type": "code",
   "execution_count": 23,
   "metadata": {},
   "outputs": [],
   "source": [
    "stoich_higher = deepcopy(stoich)\n",
    "stoich_higher[\"'BIO-unmodeledProtBiom'.'BIODIL-BIODILRESPIRATION'\"] = -0.148303012202\n",
    "stoich_higher[\"'BIO-modeledProtBiom_c'.'BIODIL-BIODILRESPIRATION'\"] = -0.150841828568\n",
    "stoich_higher[\"'BIO-modeledProtBiom_m'.'BIODIL-BIODILRESPIRATION'\"] = -0.164142817229\n",
    "\n",
    "stoich_higher[\"'BIO-unmodeledProtBiom'.'BIODIL-BIODILFERMENTATION'\"] = -0.148303012202\n",
    "stoich_higher[\"'BIO-modeledProtBiom_c'.'BIODIL-BIODILFERMENTATION'\"] = -0.292885824511\n",
    "stoich_higher[\"'BIO-modeledProtBiom_m'.'BIODIL-BIODILFERMENTATION'\"] = -0.022098821287\n",
    "\n",
    "stoich_higher[\"'MET-mannan_c'.'BIODIL-BIODILRESPIRATION'\"] = -0.539010001587\n",
    "stoich_higher[\"'MET-13BDglucan_en'.'BIODIL-BIODILRESPIRATION'\"] = -0.836427660720\n",
    "stoich_higher[\"'MET-16BDglucan_en'.'BIODIL-BIODILRESPIRATION'\"] = -0.220112542295\n",
    "stoich_higher[\"'MET-chtn_c'.'BIODIL-BIODILRESPIRATION'\"] = -0.019775196008\n",
    "stoich_higher[\"'MET-glycogen_c'.'BIODIL-BIODILRESPIRATION'\"] = -0.403253827394\n",
    "stoich_higher[\"'MET-tre_c'.'BIODIL-BIODILRESPIRATION'\"] = -0.020213206243\n",
    "stoich_higher[\"'BIO-rna_c'.'BIODIL-BIODILRESPIRATION'\"] = -0.07219476\n",
    "\n",
    "stoich_higher[\"'MET-mannan_c'.'BIODIL-BIODILFERMENTATION'\"] = -0.539010001587\n",
    "stoich_higher[\"'MET-13BDglucan_en'.'BIODIL-BIODILFERMENTATION'\"] = -0.836427660720\n",
    "stoich_higher[\"'MET-16BDglucan_en'.'BIODIL-BIODILFERMENTATION'\"] = -0.220112542295\n",
    "stoich_higher[\"'MET-chtn_c'.'BIODIL-BIODILFERMENTATION'\"] = -0.019775196008\n",
    "stoich_higher[\"'MET-glycogen_c'.'BIODIL-BIODILFERMENTATION'\"] = -0.403253827394\n",
    "stoich_higher[\"'MET-tre_c'.'BIODIL-BIODILFERMENTATION'\"] = -0.020213206243\n",
    "stoich_higher[\"'BIO-rna_c'.'BIODIL-BIODILFERMENTATION'\"] = -0.07219476"
   ]
  },
  {
   "cell_type": "code",
   "execution_count": 24,
   "metadata": {},
   "outputs": [],
   "source": [
    "with open('./symbolic_stoich/sij_higher_0_211.json', 'w') as f: \n",
    "    json.dump(stoich_higher, f)"
   ]
  },
  {
   "cell_type": "code",
   "execution_count": null,
   "metadata": {},
   "outputs": [],
   "source": []
  }
 ],
 "metadata": {
  "kernelspec": {
   "display_name": "Python 3",
   "language": "python",
   "name": "python3"
  },
  "language_info": {
   "codemirror_mode": {
    "name": "ipython",
    "version": 3
   },
   "file_extension": ".py",
   "mimetype": "text/x-python",
   "name": "python",
   "nbconvert_exporter": "python",
   "pygments_lexer": "ipython3",
   "version": "3.7.9"
  }
 },
 "nbformat": 4,
 "nbformat_minor": 4
}
