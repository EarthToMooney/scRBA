{
 "cells": [
  {
   "cell_type": "code",
   "execution_count": 1,
   "metadata": {},
   "outputs": [],
   "source": [
    "import cobra\n",
    "import pandas as pd\n",
    "import json\n",
    "from custom_functions_scRBA import *"
   ]
  },
  {
   "cell_type": "markdown",
   "metadata": {},
   "source": [
    "#### Create new blank model"
   ]
  },
  {
   "cell_type": "code",
   "execution_count": 2,
   "metadata": {},
   "outputs": [],
   "source": [
    "model = cobra.Model('test')"
   ]
  },
  {
   "cell_type": "markdown",
   "metadata": {},
   "source": [
    "#### Add metabolites"
   ]
  },
  {
   "cell_type": "code",
   "execution_count": 3,
   "metadata": {},
   "outputs": [],
   "source": [
    "with open('./species.txt') as f:\n",
    "    species = f.read().split('\\n')\n",
    "for m in species:\n",
    "    met = cobra.Metabolite(m)\n",
    "    model.add_metabolites(met)"
   ]
  },
  {
   "cell_type": "markdown",
   "metadata": {},
   "source": [
    "#### Add reactions"
   ]
  },
  {
   "cell_type": "code",
   "execution_count": 4,
   "metadata": {},
   "outputs": [],
   "source": [
    "mu = 0"
   ]
  },
  {
   "cell_type": "code",
   "execution_count": 5,
   "metadata": {},
   "outputs": [],
   "source": [
    "df_rxns = pd.read_excel('./scRAM_network_frompy.xlsx')\n",
    "df_rxns.index = df_rxns.id.to_list()"
   ]
  },
  {
   "cell_type": "code",
   "execution_count": 6,
   "metadata": {},
   "outputs": [],
   "source": [
    "with open('./sij_lower_0_211.json') as f:\n",
    "    coeffs = json.load(f)\n",
    "coeffs = {k:eval(str(v)) for k,v in coeffs.items()}"
   ]
  },
  {
   "cell_type": "code",
   "execution_count": 7,
   "metadata": {},
   "outputs": [],
   "source": [
    "for r in df_rxns.index:\n",
    "    x = metabolites_dict_from_reaction_equation_RBA(df_rxns.reaction[r])\n",
    "    met_dict = dict()\n",
    "    for k,v in x.items():\n",
    "        if is_number(v):\n",
    "            met_dict[k] = v\n",
    "        else:\n",
    "            met_dict[k] = coeffs[\"'\" + k + \"'.'\" + r + \"'\"]\n",
    "\n",
    "    rxn = cobra.Reaction(r)\n",
    "    model.add_reaction(rxn)\n",
    "    rxn.reaction = build_reaction_equation_from_metabolites_dict_RBA(met_dict, arrow='-->')"
   ]
  },
  {
   "cell_type": "markdown",
   "metadata": {},
   "source": [
    "#### Save raw model"
   ]
  },
  {
   "cell_type": "code",
   "execution_count": 8,
   "metadata": {},
   "outputs": [],
   "source": [
    "cobra.io.save_json_model(model, './cobraModel.json')"
   ]
  },
  {
   "cell_type": "markdown",
   "metadata": {},
   "source": [
    "### Working"
   ]
  },
  {
   "cell_type": "code",
   "execution_count": 9,
   "metadata": {},
   "outputs": [],
   "source": [
    "model = cobra.io.load_json_model('./cobraModel.json')\n",
    "model_raw = model.copy()"
   ]
  },
  {
   "cell_type": "code",
   "execution_count": 10,
   "metadata": {},
   "outputs": [],
   "source": [
    "model = model_raw.copy()\n",
    "\n",
    "rxn = cobra.Reaction('TESTRXNTRNA')\n",
    "model.add_reaction(rxn)\n",
    "rxn.reaction = 'MET-fmettrna_c --> MET-for_c + MET-mettrna_c'\n",
    "\n",
    "model.objective = dict()\n",
    "model.reactions.get_by_id('TESTRXNTRNA').objective_coefficient = 1\n",
    "\n",
    "fba = model.optimize()"
   ]
  },
  {
   "cell_type": "code",
   "execution_count": 11,
   "metadata": {},
   "outputs": [
    {
     "data": {
      "text/plain": [
       "'MET-rrna18s_c + MET-rrna25s_c + MET-rrna58s_c + MET-rrna5s_c + PRO-YBL072C + PRO-YBL087C + PRO-YBL092W + PRO-YBR031W + PRO-YBR084C-A + PRO-YBR191W + PRO-YCR031C + PRO-YDL075W + PRO-YDL081C + PRO-YDL082W + PRO-YDL130W + PRO-YDL184C + PRO-YDL191W + PRO-YDR025W + PRO-YDR064W + PRO-YDR382W + PRO-YDR450W + PRO-YEL054C + PRO-YER056C-A + PRO-YER074W + PRO-YFR032C-A + PRO-YGL030W + PRO-YGL031C + PRO-YGL076C + PRO-YGL103W + PRO-YGL123W + PRO-YGL147C + PRO-YGL189C + PRO-YGR027C + PRO-YGR118W + PRO-YGR214W + PRO-YHL015W + PRO-YHL033C + PRO-YHR010W + PRO-YIL133C + PRO-YIL148W + PRO-YJL189W + PRO-YJL190C + PRO-YJR123W + PRO-YJR145C + PRO-YKL006W + PRO-YKL156W + PRO-YKL180W + PRO-YKR057W + PRO-YLR029C + PRO-YLR061W + PRO-YLR075W + PRO-YLR167W + PRO-YLR185W + PRO-YLR287C-A + PRO-YLR325C + PRO-YLR340W + PRO-YLR344W + PRO-YLR388W + PRO-YLR441C + PRO-YML024W + PRO-YML073C + PRO-YMR116C + PRO-YMR143W + PRO-YMR194W + PRO-YMR242C + PRO-YNL162W + PRO-YNL178W + PRO-YOL039W + PRO-YOL040C + PRO-YOL120C + PRO-YOL121C + PRO-YOL127W + PRO-YOR063W + PRO-YOR096W + PRO-YOR167C + PRO-YOR293W + PRO-YOR369C + PRO-YPL081W + PRO-YPL090C + PRO-YPL131W + PRO-YPL143W + PRO-YPL220W + PRO-YPR043W + PRO-YPR102C --> 1854.64 BIO-rna_c + MET-ribosome_c'"
      ]
     },
     "execution_count": 11,
     "metadata": {},
     "output_type": "execute_result"
    }
   ],
   "source": [
    "model.reactions.get_by_id('RIBO-ribosome_c').reaction"
   ]
  },
  {
   "cell_type": "code",
   "execution_count": 12,
   "metadata": {},
   "outputs": [
    {
     "data": {
      "text/plain": [
       "'MET-ribosome_c --> '"
      ]
     },
     "execution_count": 12,
     "metadata": {},
     "output_type": "execute_result"
    }
   ],
   "source": [
    "model.reactions.get_by_id('RIBO-riboactive_c').reaction"
   ]
  },
  {
   "cell_type": "code",
   "execution_count": 13,
   "metadata": {},
   "outputs": [
    {
     "data": {
      "text/plain": [
       "'483.0 MET-atp_c + 348.0 MET-ctp_c + 459.0 MET-gtp_c + 510.0 MET-utp_c --> 1800.0 MET-ppi_c + MET-rrna18s_c'"
      ]
     },
     "execution_count": 13,
     "metadata": {},
     "output_type": "execute_result"
    }
   ],
   "source": [
    "model.reactions.get_by_id('RIBO-rrna18s_c').reaction"
   ]
  },
  {
   "cell_type": "code",
   "execution_count": 14,
   "metadata": {},
   "outputs": [
    {
     "data": {
      "text/plain": [
       "'44.0 MET-alatrna_c + 9.0 MET-argtrna_c + 27.0 MET-asntrna_c + 13.0 MET-asptrna_c + MET-atp_c + MET-cu2_c + MET-cystrna_c + MET-fmettrna_c + 9.0 MET-glntrna_c + 9.0 MET-glutrna_c + 43.0 MET-glytrna_c + 1068.0 MET-gtp_c + 1069.0 MET-h2o_c + 2.0 MET-hemegen_c + 16.0 MET-histrna_c + 49.0 MET-iletrna_c + 68.0 MET-leutrna_c + 10.0 MET-lystrna_c + 20.0 MET-mettrna_c + 44.0 MET-phetrna_c + 25.0 MET-protrna_c + 43.0 MET-sertrna_c + 31.0 MET-thrtrna_c + 10.0 MET-trptrna_c + 24.0 MET-tyrtrna_c + 38.0 MET-valtrna_c --> MET-adp_c + MET-for_c + 1068.0 MET-gdp_c + 1069.0 MET-h_c + 1069.0 MET-pi_c + 44.0 MET-trnaala_c + 9.0 MET-trnaarg_c + 27.0 MET-trnaasn_c + 13.0 MET-trnaasp_c + MET-trnacys_c + 9.0 MET-trnagln_c + 9.0 MET-trnaglu_c + 43.0 MET-trnagly_c + 16.0 MET-trnahis_c + 49.0 MET-trnaile_c + 68.0 MET-trnaleu_c + 10.0 MET-trnalys_c + 21.0 MET-trnamet_c + 44.0 MET-trnaphe_c + 25.0 MET-trnapro_c + 43.0 MET-trnaser_c + 31.0 MET-trnathr_c + 10.0 MET-trnatrp_c + 24.0 MET-trnatyr_c + 38.0 MET-trnaval_c + PRO-Q0045 + 59.59198 PRO-preModeledProtBiom_m'"
      ]
     },
     "execution_count": 14,
     "metadata": {},
     "output_type": "execute_result"
    }
   ],
   "source": [
    "model.reactions.get_by_id('PROSYN-Q0045').reaction"
   ]
  },
  {
   "cell_type": "code",
   "execution_count": 26,
   "metadata": {},
   "outputs": [
    {
     "data": {
      "text/html": [
       "<strong><em>Optimal</em> solution with objective value 0.604</strong><br><div>\n",
       "<style scoped>\n",
       "    .dataframe tbody tr th:only-of-type {\n",
       "        vertical-align: middle;\n",
       "    }\n",
       "\n",
       "    .dataframe tbody tr th {\n",
       "        vertical-align: top;\n",
       "    }\n",
       "\n",
       "    .dataframe thead th {\n",
       "        text-align: right;\n",
       "    }\n",
       "</style>\n",
       "<table border=\"1\" class=\"dataframe\">\n",
       "  <thead>\n",
       "    <tr style=\"text-align: right;\">\n",
       "      <th></th>\n",
       "      <th>fluxes</th>\n",
       "      <th>reduced_costs</th>\n",
       "    </tr>\n",
       "  </thead>\n",
       "  <tbody>\n",
       "    <tr>\n",
       "      <th>RXN-BTDDH_c_FWD-YAL060W</th>\n",
       "      <td>0.000000</td>\n",
       "      <td>0.0</td>\n",
       "    </tr>\n",
       "    <tr>\n",
       "      <th>RXN-BTDDH_c_REV-YAL060W</th>\n",
       "      <td>0.000000</td>\n",
       "      <td>0.0</td>\n",
       "    </tr>\n",
       "    <tr>\n",
       "      <th>RXN-13GS_c_FWD-GSC2RHO1</th>\n",
       "      <td>0.000000</td>\n",
       "      <td>0.0</td>\n",
       "    </tr>\n",
       "    <tr>\n",
       "      <th>RXN-13GS_c_FWD-GSC1RHO1</th>\n",
       "      <td>0.000000</td>\n",
       "      <td>0.0</td>\n",
       "    </tr>\n",
       "    <tr>\n",
       "      <th>RXN-16GS_c_FWD-YPR159W</th>\n",
       "      <td>0.000000</td>\n",
       "      <td>0.0</td>\n",
       "    </tr>\n",
       "    <tr>\n",
       "      <th>...</th>\n",
       "      <td>...</td>\n",
       "      <td>...</td>\n",
       "    </tr>\n",
       "    <tr>\n",
       "      <th>DMRXNS-BIO-unmodeledProtBiom</th>\n",
       "      <td>-0.000000</td>\n",
       "      <td>0.0</td>\n",
       "    </tr>\n",
       "    <tr>\n",
       "      <th>DMRXNS-BIO-modeledProtBiom_c</th>\n",
       "      <td>26.854301</td>\n",
       "      <td>0.0</td>\n",
       "    </tr>\n",
       "    <tr>\n",
       "      <th>DMRXNS-BIO-modeledProtBiom_m</th>\n",
       "      <td>0.000000</td>\n",
       "      <td>0.0</td>\n",
       "    </tr>\n",
       "    <tr>\n",
       "      <th>DMRXNS-BIO-rna_c</th>\n",
       "      <td>-0.000000</td>\n",
       "      <td>0.0</td>\n",
       "    </tr>\n",
       "    <tr>\n",
       "      <th>DMRXN-PRO-DUMMYPRO_m</th>\n",
       "      <td>0.603936</td>\n",
       "      <td>0.0</td>\n",
       "    </tr>\n",
       "  </tbody>\n",
       "</table>\n",
       "<p>5351 rows × 2 columns</p>\n",
       "</div>"
      ],
      "text/plain": [
       "<Solution 0.604 at 0x7f02cf729cd0>"
      ]
     },
     "execution_count": 26,
     "metadata": {},
     "output_type": "execute_result"
    }
   ],
   "source": [
    "model = model_raw.copy()\n",
    "e = 'PRO-DUMMYPRO_m'\n",
    "\n",
    "rxn = cobra.Reaction('DMRXN-' + e)\n",
    "model.add_reaction(rxn)\n",
    "rxn.reaction = e + ' --> '\n",
    "model.objective = dict()\n",
    "model.reactions.get_by_id('DMRXN-' + e).objective_coefficient = 1\n",
    "fba = model.optimize()\n",
    "fba"
   ]
  },
  {
   "cell_type": "code",
   "execution_count": 21,
   "metadata": {},
   "outputs": [
    {
     "data": {
      "text/plain": [
       "{'BIODIL', 'DMRXNS', 'ENZSYN', 'PROSYN', 'RIBO', 'RXN'}"
      ]
     },
     "execution_count": 21,
     "metadata": {},
     "output_type": "execute_result"
    }
   ],
   "source": [
    "set([i.split('-')[0] for i in df_rxns.id])"
   ]
  },
  {
   "cell_type": "code",
   "execution_count": 24,
   "metadata": {},
   "outputs": [
    {
     "data": {
      "text/html": [
       "<div>\n",
       "<style scoped>\n",
       "    .dataframe tbody tr th:only-of-type {\n",
       "        vertical-align: middle;\n",
       "    }\n",
       "\n",
       "    .dataframe tbody tr th {\n",
       "        vertical-align: top;\n",
       "    }\n",
       "\n",
       "    .dataframe thead th {\n",
       "        text-align: right;\n",
       "    }\n",
       "</style>\n",
       "<table border=\"1\" class=\"dataframe\">\n",
       "  <thead>\n",
       "    <tr style=\"text-align: right;\">\n",
       "      <th></th>\n",
       "      <th>id</th>\n",
       "      <th>type</th>\n",
       "      <th>symbolic_coeffs</th>\n",
       "      <th>reaction</th>\n",
       "    </tr>\n",
       "  </thead>\n",
       "  <tbody>\n",
       "    <tr>\n",
       "      <th>PROSYN-DUMMYPRO_c</th>\n",
       "      <td>PROSYN-DUMMYPRO_c</td>\n",
       "      <td>protein</td>\n",
       "      <td>mu*NAA/kribo</td>\n",
       "      <td>MET-fmettrna_c + MET-atp_c + 811 MET-h2o_c + 3...</td>\n",
       "    </tr>\n",
       "    <tr>\n",
       "      <th>PROSYN-DUMMYPRO_m</th>\n",
       "      <td>PROSYN-DUMMYPRO_m</td>\n",
       "      <td>protein</td>\n",
       "      <td>mu*NAA/kribo</td>\n",
       "      <td>MET-fmettrna_c + MET-atp_c + 811 MET-h2o_c + 3...</td>\n",
       "    </tr>\n",
       "  </tbody>\n",
       "</table>\n",
       "</div>"
      ],
      "text/plain": [
       "                                  id     type symbolic_coeffs  \\\n",
       "PROSYN-DUMMYPRO_c  PROSYN-DUMMYPRO_c  protein    mu*NAA/kribo   \n",
       "PROSYN-DUMMYPRO_m  PROSYN-DUMMYPRO_m  protein    mu*NAA/kribo   \n",
       "\n",
       "                                                            reaction  \n",
       "PROSYN-DUMMYPRO_c  MET-fmettrna_c + MET-atp_c + 811 MET-h2o_c + 3...  \n",
       "PROSYN-DUMMYPRO_m  MET-fmettrna_c + MET-atp_c + 811 MET-h2o_c + 3...  "
      ]
     },
     "execution_count": 24,
     "metadata": {},
     "output_type": "execute_result"
    }
   ],
   "source": [
    "df_rxns[df_rxns.id.str.contains('PROSYN-DUMMY')]"
   ]
  },
  {
   "cell_type": "code",
   "execution_count": 17,
   "metadata": {},
   "outputs": [
    {
     "data": {
      "text/plain": [
       "'483.0 MET-atp_c + 348.0 MET-ctp_c + 459.0 MET-gtp_c + 510.0 MET-utp_c --> 1800.0 MET-ppi_c + MET-rrna18s_c'"
      ]
     },
     "execution_count": 17,
     "metadata": {},
     "output_type": "execute_result"
    }
   ],
   "source": [
    "model.reactions.get_by_id('RIBO-rrna18s_c').reaction"
   ]
  },
  {
   "cell_type": "code",
   "execution_count": 18,
   "metadata": {},
   "outputs": [
    {
     "data": {
      "text/plain": [
       "'MET-ribosome_c --> '"
      ]
     },
     "execution_count": 18,
     "metadata": {},
     "output_type": "execute_result"
    }
   ],
   "source": [
    "model.reactions.get_by_id('RIBO-riboactive_c').reaction"
   ]
  },
  {
   "cell_type": "code",
   "execution_count": null,
   "metadata": {},
   "outputs": [],
   "source": []
  }
 ],
 "metadata": {
  "kernelspec": {
   "display_name": "Python 3",
   "language": "python",
   "name": "python3"
  },
  "language_info": {
   "codemirror_mode": {
    "name": "ipython",
    "version": 3
   },
   "file_extension": ".py",
   "mimetype": "text/x-python",
   "name": "python",
   "nbconvert_exporter": "python",
   "pygments_lexer": "ipython3",
   "version": "3.7.9"
  }
 },
 "nbformat": 4,
 "nbformat_minor": 4
}
