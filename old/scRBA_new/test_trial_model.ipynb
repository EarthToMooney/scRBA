{
 "cells": [
  {
   "cell_type": "code",
   "execution_count": 1,
   "metadata": {},
   "outputs": [],
   "source": [
    "import cobra\n",
    "import pandas as pd\n",
    "import json\n",
    "from copy import deepcopy\n",
    "from custom_functions_scRBA import *"
   ]
  },
  {
   "cell_type": "code",
   "execution_count": 2,
   "metadata": {
    "scrolled": true
   },
   "outputs": [],
   "source": [
    "config = cobra.Configuration()\n",
    "config.solver = 'glpk'\n",
    "config.tolerance = 1e-15"
   ]
  },
  {
   "cell_type": "markdown",
   "metadata": {},
   "source": [
    "### Working"
   ]
  },
  {
   "cell_type": "code",
   "execution_count": 3,
   "metadata": {},
   "outputs": [
    {
     "data": {
      "text/html": [
       "<strong><em>Optimal</em> solution with objective value -1.047</strong><br><div>\n",
       "<style scoped>\n",
       "    .dataframe tbody tr th:only-of-type {\n",
       "        vertical-align: middle;\n",
       "    }\n",
       "\n",
       "    .dataframe tbody tr th {\n",
       "        vertical-align: top;\n",
       "    }\n",
       "\n",
       "    .dataframe thead th {\n",
       "        text-align: right;\n",
       "    }\n",
       "</style>\n",
       "<table border=\"1\" class=\"dataframe\">\n",
       "  <thead>\n",
       "    <tr style=\"text-align: right;\">\n",
       "      <th></th>\n",
       "      <th>fluxes</th>\n",
       "      <th>reduced_costs</th>\n",
       "    </tr>\n",
       "  </thead>\n",
       "  <tbody>\n",
       "    <tr>\n",
       "      <th>RXN-BTDDH_c_FWD-YAL060W</th>\n",
       "      <td>0.000000</td>\n",
       "      <td>1.110223e-16</td>\n",
       "    </tr>\n",
       "    <tr>\n",
       "      <th>RXN-BTDDH_c_REV-YAL060W</th>\n",
       "      <td>0.000000</td>\n",
       "      <td>-2.220446e-16</td>\n",
       "    </tr>\n",
       "    <tr>\n",
       "      <th>RXN-13GS_c_FWD-GSC2RHO1</th>\n",
       "      <td>0.098991</td>\n",
       "      <td>-2.081668e-17</td>\n",
       "    </tr>\n",
       "    <tr>\n",
       "      <th>RXN-13GS_c_FWD-GSC1RHO1</th>\n",
       "      <td>0.000000</td>\n",
       "      <td>-4.163336e-17</td>\n",
       "    </tr>\n",
       "    <tr>\n",
       "      <th>RXN-16GS_c_FWD-YPR159W</th>\n",
       "      <td>0.000000</td>\n",
       "      <td>-4.163336e-17</td>\n",
       "    </tr>\n",
       "    <tr>\n",
       "      <th>...</th>\n",
       "      <td>...</td>\n",
       "      <td>...</td>\n",
       "    </tr>\n",
       "    <tr>\n",
       "      <th>DMRXNS-BIO-unmodeledProtBiom</th>\n",
       "      <td>0.000000</td>\n",
       "      <td>-2.174371e+01</td>\n",
       "    </tr>\n",
       "    <tr>\n",
       "      <th>DMRXNS-BIO-modeledProtBiom_c</th>\n",
       "      <td>0.000000</td>\n",
       "      <td>-1.904928e+01</td>\n",
       "    </tr>\n",
       "    <tr>\n",
       "      <th>DMRXNS-BIO-modeledProtBiom_m</th>\n",
       "      <td>0.000000</td>\n",
       "      <td>-1.904928e+01</td>\n",
       "    </tr>\n",
       "    <tr>\n",
       "      <th>DMRXNS-BIO-rna_c</th>\n",
       "      <td>0.002056</td>\n",
       "      <td>0.000000e+00</td>\n",
       "    </tr>\n",
       "    <tr>\n",
       "      <th>BIODIL-ProtBiomM2C</th>\n",
       "      <td>0.000000</td>\n",
       "      <td>0.000000e+00</td>\n",
       "    </tr>\n",
       "  </tbody>\n",
       "</table>\n",
       "<p>5357 rows × 2 columns</p>\n",
       "</div>"
      ],
      "text/plain": [
       "<Solution -1.047 at 0x7fed7f4b6210>"
      ]
     },
     "execution_count": 3,
     "metadata": {},
     "output_type": "execute_result"
    }
   ],
   "source": [
    "mu = 0.1\n",
    "\n",
    "model = cobra.io.load_json_model('./models/cobraModel_' + str(mu) + '.json')\n",
    "\n",
    "rxn = cobra.Reaction('BIODIL-ProtBiomM2C')\n",
    "model.add_reaction(rxn)\n",
    "rxn.reaction = 'BIO-modeledProtBiom_m --> BIO-modeledProtBiom_c'\n",
    "\n",
    "model.reactions.get_by_id('DMRXNS-BIO-modeledProtBiom_m').bounds = (0,0)\n",
    "model.reactions.get_by_id('DMRXNS-BIO-modeledProtBiom_c').bounds = (0,0)\n",
    "model.reactions.get_by_id('DMRXNS-BIO-unmodeledProtBiom').bounds = (0,0)\n",
    "\n",
    "model.reactions.get_by_id('BIODIL-BIODIL').bounds = (mu,mu)\n",
    "\n",
    "model.objective = dict()\n",
    "model.reactions.get_by_id('RXN-EX_glc__D_e_REV-SPONT').objective_coefficient = -1\n",
    "model.reactions.get_by_id('RXN-EX_glc__D_e_FWD-SPONT').objective_coefficient = 1\n",
    "\n",
    "fba = model.optimize()\n",
    "fba"
   ]
  },
  {
   "cell_type": "code",
   "execution_count": null,
   "metadata": {},
   "outputs": [],
   "source": []
  },
  {
   "cell_type": "code",
   "execution_count": null,
   "metadata": {},
   "outputs": [],
   "source": []
  },
  {
   "cell_type": "code",
   "execution_count": null,
   "metadata": {},
   "outputs": [],
   "source": []
  },
  {
   "cell_type": "code",
   "execution_count": 30,
   "metadata": {},
   "outputs": [
    {
     "data": {
      "text/html": [
       "<strong><em>Optimal</em> solution with objective value 18.127</strong><br><div>\n",
       "<style scoped>\n",
       "    .dataframe tbody tr th:only-of-type {\n",
       "        vertical-align: middle;\n",
       "    }\n",
       "\n",
       "    .dataframe tbody tr th {\n",
       "        vertical-align: top;\n",
       "    }\n",
       "\n",
       "    .dataframe thead th {\n",
       "        text-align: right;\n",
       "    }\n",
       "</style>\n",
       "<table border=\"1\" class=\"dataframe\">\n",
       "  <thead>\n",
       "    <tr style=\"text-align: right;\">\n",
       "      <th></th>\n",
       "      <th>fluxes</th>\n",
       "      <th>reduced_costs</th>\n",
       "    </tr>\n",
       "  </thead>\n",
       "  <tbody>\n",
       "    <tr>\n",
       "      <th>RXN-BTDDH_c_FWD-YAL060W</th>\n",
       "      <td>0.000000</td>\n",
       "      <td>0.000000e+00</td>\n",
       "    </tr>\n",
       "    <tr>\n",
       "      <th>RXN-BTDDH_c_REV-YAL060W</th>\n",
       "      <td>0.000000</td>\n",
       "      <td>-3.128213e-04</td>\n",
       "    </tr>\n",
       "    <tr>\n",
       "      <th>RXN-13GS_c_FWD-GSC2RHO1</th>\n",
       "      <td>0.000000</td>\n",
       "      <td>-1.478016e+00</td>\n",
       "    </tr>\n",
       "    <tr>\n",
       "      <th>RXN-13GS_c_FWD-GSC1RHO1</th>\n",
       "      <td>0.000000</td>\n",
       "      <td>-1.478020e+00</td>\n",
       "    </tr>\n",
       "    <tr>\n",
       "      <th>RXN-16GS_c_FWD-YPR159W</th>\n",
       "      <td>0.000000</td>\n",
       "      <td>0.000000e+00</td>\n",
       "    </tr>\n",
       "    <tr>\n",
       "      <th>...</th>\n",
       "      <td>...</td>\n",
       "      <td>...</td>\n",
       "    </tr>\n",
       "    <tr>\n",
       "      <th>BIODIL-BIODIL</th>\n",
       "      <td>0.000000</td>\n",
       "      <td>-2.164935e-15</td>\n",
       "    </tr>\n",
       "    <tr>\n",
       "      <th>DMRXNS-BIO-unmodeledProtBiom</th>\n",
       "      <td>18.126908</td>\n",
       "      <td>0.000000e+00</td>\n",
       "    </tr>\n",
       "    <tr>\n",
       "      <th>DMRXNS-BIO-modeledProtBiom_c</th>\n",
       "      <td>5.383503</td>\n",
       "      <td>0.000000e+00</td>\n",
       "    </tr>\n",
       "    <tr>\n",
       "      <th>DMRXNS-BIO-modeledProtBiom_m</th>\n",
       "      <td>0.521125</td>\n",
       "      <td>0.000000e+00</td>\n",
       "    </tr>\n",
       "    <tr>\n",
       "      <th>DMRXNS-BIO-rna_c</th>\n",
       "      <td>4.553691</td>\n",
       "      <td>0.000000e+00</td>\n",
       "    </tr>\n",
       "  </tbody>\n",
       "</table>\n",
       "<p>5356 rows × 2 columns</p>\n",
       "</div>"
      ],
      "text/plain": [
       "<Solution 18.127 at 0x7fe5f5db7750>"
      ]
     },
     "execution_count": 30,
     "metadata": {},
     "output_type": "execute_result"
    }
   ],
   "source": [
    "model = model_raw.copy()\n",
    "\n",
    "model.objective = dict()\n",
    "model.reactions.get_by_id('DMRXNS-BIO-unmodeledProtBiom').objective_coefficient = 1\n",
    "\n",
    "fba = model.optimize()\n",
    "fba"
   ]
  },
  {
   "cell_type": "code",
   "execution_count": 7,
   "metadata": {},
   "outputs": [],
   "source": [
    "df_rxns = pd.read_excel('./scRAM_network_frompy.xlsx')"
   ]
  },
  {
   "cell_type": "code",
   "execution_count": 10,
   "metadata": {},
   "outputs": [
    {
     "data": {
      "text/html": [
       "<div>\n",
       "<style scoped>\n",
       "    .dataframe tbody tr th:only-of-type {\n",
       "        vertical-align: middle;\n",
       "    }\n",
       "\n",
       "    .dataframe tbody tr th {\n",
       "        vertical-align: top;\n",
       "    }\n",
       "\n",
       "    .dataframe thead th {\n",
       "        text-align: right;\n",
       "    }\n",
       "</style>\n",
       "<table border=\"1\" class=\"dataframe\">\n",
       "  <thead>\n",
       "    <tr style=\"text-align: right;\">\n",
       "      <th></th>\n",
       "      <th>id</th>\n",
       "      <th>type</th>\n",
       "      <th>symbolic_coeffs</th>\n",
       "      <th>reaction</th>\n",
       "    </tr>\n",
       "  </thead>\n",
       "  <tbody>\n",
       "    <tr>\n",
       "      <th>5340</th>\n",
       "      <td>PROSYN-DUMMYPRO_c</td>\n",
       "      <td>protein</td>\n",
       "      <td>mu*NAA/kribo</td>\n",
       "      <td>MET-fmettrna_c + MET-atp_c + 811 MET-h2o_c + 3...</td>\n",
       "    </tr>\n",
       "    <tr>\n",
       "      <th>5341</th>\n",
       "      <td>PROSYN-DUMMYPRO_m</td>\n",
       "      <td>protein</td>\n",
       "      <td>mu*NAA/kribo</td>\n",
       "      <td>MET-fmettrna_c + MET-atp_c + 811 MET-h2o_c + 3...</td>\n",
       "    </tr>\n",
       "    <tr>\n",
       "      <th>5346</th>\n",
       "      <td>BIODIL-PRO3</td>\n",
       "      <td>biomass</td>\n",
       "      <td>NaN</td>\n",
       "      <td>PRO-preUnmodeledProtBiom --&gt; BIO-modeledProtBi...</td>\n",
       "    </tr>\n",
       "    <tr>\n",
       "      <th>5348</th>\n",
       "      <td>BIODIL-PRO5</td>\n",
       "      <td>biomass</td>\n",
       "      <td>NaN</td>\n",
       "      <td>PRO-preUnmodeledProtBiom --&gt; BIO-modeledProtBi...</td>\n",
       "    </tr>\n",
       "    <tr>\n",
       "      <th>5349</th>\n",
       "      <td>BIODIL-PRO6</td>\n",
       "      <td>biomass</td>\n",
       "      <td>NaN</td>\n",
       "      <td>PRO-preUnmodeledProtBiom --&gt; BIO-unmodeledProt...</td>\n",
       "    </tr>\n",
       "  </tbody>\n",
       "</table>\n",
       "</div>"
      ],
      "text/plain": [
       "                     id     type symbolic_coeffs  \\\n",
       "5340  PROSYN-DUMMYPRO_c  protein    mu*NAA/kribo   \n",
       "5341  PROSYN-DUMMYPRO_m  protein    mu*NAA/kribo   \n",
       "5346        BIODIL-PRO3  biomass             NaN   \n",
       "5348        BIODIL-PRO5  biomass             NaN   \n",
       "5349        BIODIL-PRO6  biomass             NaN   \n",
       "\n",
       "                                               reaction  \n",
       "5340  MET-fmettrna_c + MET-atp_c + 811 MET-h2o_c + 3...  \n",
       "5341  MET-fmettrna_c + MET-atp_c + 811 MET-h2o_c + 3...  \n",
       "5346  PRO-preUnmodeledProtBiom --> BIO-modeledProtBi...  \n",
       "5348  PRO-preUnmodeledProtBiom --> BIO-modeledProtBi...  \n",
       "5349  PRO-preUnmodeledProtBiom --> BIO-unmodeledProt...  "
      ]
     },
     "execution_count": 10,
     "metadata": {},
     "output_type": "execute_result"
    }
   ],
   "source": [
    "df_rxns[df_rxns.reaction.str.contains('preUnmodeledProtBiom')]"
   ]
  },
  {
   "cell_type": "code",
   "execution_count": 8,
   "metadata": {},
   "outputs": [
    {
     "data": {
      "text/plain": [
       "'PRO-preUnmodeledProtBiom --> BIO-unmodeledProtBiom'"
      ]
     },
     "execution_count": 8,
     "metadata": {},
     "output_type": "execute_result"
    }
   ],
   "source": [
    "model.reactions.get_by_id('BIODIL-PRO6').reaction"
   ]
  },
  {
   "cell_type": "code",
   "execution_count": 14,
   "metadata": {},
   "outputs": [
    {
     "data": {
      "text/plain": [
       "'39.6557 MET-alatrna_c + 17.1287 MET-argtrna_c + 26.6672 MET-asntrna_c + 18.8334 MET-asptrna_c + MET-atp_c + 15.6675 MET-cystrna_c + MET-fmettrna_c + 15.2616 MET-glntrna_c + 18.8334 MET-glutrna_c + 31.4161 MET-glytrna_c + 810.0 MET-gtp_c + 811.0 MET-h2o_c + 31.4161 MET-histrna_c + 36.0839 MET-iletrna_c + 23.9071 MET-leutrna_c + 7.8337 MET-lystrna_c + 31.512 MET-mettrna_c + 0.5683 MET-phetrna_c + 4.6272 MET-protrna_c + 0.001071 MET-riboactive_c + 21.6341 MET-sertrna_c + 22.6082 MET-thrtrna_c + 7.9555 MET-trptrna_c + 29.752 MET-tyrtrna_c + 2.6383 MET-valtrna_c --> MET-adp_c + MET-for_c + 810.0 MET-gdp_c + 811.0 MET-h_c + 811.0 MET-pi_c + 39.6557 MET-trnaala_c + 17.1287 MET-trnaarg_c + 26.6672 MET-trnaasn_c + 18.8334 MET-trnaasp_c + 15.6675 MET-trnacys_c + 15.2616 MET-trnagln_c + 18.8334 MET-trnaglu_c + 31.4161 MET-trnagly_c + 31.4161 MET-trnahis_c + 36.0839 MET-trnaile_c + 23.9071 MET-trnaleu_c + 7.8337 MET-trnalys_c + 32.512 MET-trnamet_c + 0.5683 MET-trnaphe_c + 4.6272 MET-trnapro_c + 21.6341 MET-trnaser_c + 22.6082 MET-trnathr_c + 7.9555 MET-trnatrp_c + 29.752 MET-trnatyr_c + 2.6383 MET-trnaval_c + PRO-DUMMYPRO_c + 44.465469 PRO-preUnmodeledProtBiom'"
      ]
     },
     "execution_count": 14,
     "metadata": {},
     "output_type": "execute_result"
    }
   ],
   "source": [
    "model.reactions.get_by_id('PROSYN-DUMMYPRO_c').reaction"
   ]
  },
  {
   "cell_type": "code",
   "execution_count": 16,
   "metadata": {},
   "outputs": [],
   "source": [
    "met = model.metabolites.get_by_id('MET-riboactive_c')"
   ]
  },
  {
   "cell_type": "code",
   "execution_count": 21,
   "metadata": {},
   "outputs": [
    {
     "data": {
      "text/plain": [
       "-0.001071"
      ]
     },
     "execution_count": 21,
     "metadata": {},
     "output_type": "execute_result"
    }
   ],
   "source": [
    "model.reactions.get_by_id('PROSYN-DUMMYPRO_c').metabolites[met]"
   ]
  },
  {
   "cell_type": "code",
   "execution_count": null,
   "metadata": {},
   "outputs": [],
   "source": []
  },
  {
   "cell_type": "code",
   "execution_count": null,
   "metadata": {},
   "outputs": [],
   "source": []
  },
  {
   "cell_type": "code",
   "execution_count": null,
   "metadata": {},
   "outputs": [],
   "source": []
  },
  {
   "cell_type": "code",
   "execution_count": 8,
   "metadata": {},
   "outputs": [
    {
     "data": {
      "text/html": [
       "<div>\n",
       "<style scoped>\n",
       "    .dataframe tbody tr th:only-of-type {\n",
       "        vertical-align: middle;\n",
       "    }\n",
       "\n",
       "    .dataframe tbody tr th {\n",
       "        vertical-align: top;\n",
       "    }\n",
       "\n",
       "    .dataframe thead th {\n",
       "        text-align: right;\n",
       "    }\n",
       "</style>\n",
       "<table border=\"1\" class=\"dataframe\">\n",
       "  <thead>\n",
       "    <tr style=\"text-align: right;\">\n",
       "      <th></th>\n",
       "      <th>id</th>\n",
       "      <th>type</th>\n",
       "      <th>symbolic_coeffs</th>\n",
       "      <th>reaction</th>\n",
       "    </tr>\n",
       "  </thead>\n",
       "  <tbody>\n",
       "    <tr>\n",
       "      <th>539</th>\n",
       "      <td>RXN-HEX1_c_FWD-YGL253W</td>\n",
       "      <td>metabolic</td>\n",
       "      <td>mu/keff</td>\n",
       "      <td>MET-atp_c + MET-glc__D_c + mu/keff ENZ-YGL253W...</td>\n",
       "    </tr>\n",
       "    <tr>\n",
       "      <th>540</th>\n",
       "      <td>RXN-HEX1_c_FWD-YLR446W</td>\n",
       "      <td>metabolic</td>\n",
       "      <td>mu/keff</td>\n",
       "      <td>MET-atp_c + MET-glc__D_c + mu/keff ENZ-YLR446W...</td>\n",
       "    </tr>\n",
       "    <tr>\n",
       "      <th>541</th>\n",
       "      <td>RXN-HEX1_c_FWD-YFR053C</td>\n",
       "      <td>metabolic</td>\n",
       "      <td>mu/keff</td>\n",
       "      <td>MET-atp_c + MET-glc__D_c + mu/keff ENZ-YFR053C...</td>\n",
       "    </tr>\n",
       "    <tr>\n",
       "      <th>542</th>\n",
       "      <td>RXN-HEX1_c_FWD-YCL040W</td>\n",
       "      <td>metabolic</td>\n",
       "      <td>mu/keff</td>\n",
       "      <td>MET-atp_c + MET-glc__D_c + mu/keff ENZ-YCL040W...</td>\n",
       "    </tr>\n",
       "  </tbody>\n",
       "</table>\n",
       "</div>"
      ],
      "text/plain": [
       "                         id       type symbolic_coeffs  \\\n",
       "539  RXN-HEX1_c_FWD-YGL253W  metabolic         mu/keff   \n",
       "540  RXN-HEX1_c_FWD-YLR446W  metabolic         mu/keff   \n",
       "541  RXN-HEX1_c_FWD-YFR053C  metabolic         mu/keff   \n",
       "542  RXN-HEX1_c_FWD-YCL040W  metabolic         mu/keff   \n",
       "\n",
       "                                              reaction  \n",
       "539  MET-atp_c + MET-glc__D_c + mu/keff ENZ-YGL253W...  \n",
       "540  MET-atp_c + MET-glc__D_c + mu/keff ENZ-YLR446W...  \n",
       "541  MET-atp_c + MET-glc__D_c + mu/keff ENZ-YFR053C...  \n",
       "542  MET-atp_c + MET-glc__D_c + mu/keff ENZ-YCL040W...  "
      ]
     },
     "execution_count": 8,
     "metadata": {},
     "output_type": "execute_result"
    }
   ],
   "source": [
    "df_rxns[df_rxns.id.str.contains('HEX1_c')]"
   ]
  },
  {
   "cell_type": "code",
   "execution_count": null,
   "metadata": {},
   "outputs": [],
   "source": [
    "model.reactions.RXN-HEX1_c"
   ]
  },
  {
   "cell_type": "code",
   "execution_count": 12,
   "metadata": {},
   "outputs": [
    {
     "data": {
      "text/plain": [
       "'MET-fmettrna_c + MET-atp_c + 811 MET-h2o_c + 31.512000 MET-mettrna_c + 810 MET-gtp_c + 39.655700 MET-alatrna_c + 15.667500 MET-cystrna_c + 18.833400 MET-asptrna_c + 18.833400 MET-glutrna_c + 0.568300 MET-phetrna_c + 31.416100 MET-glytrna_c + 31.416100 MET-histrna_c + 36.083900 MET-iletrna_c + 7.833700 MET-lystrna_c + 23.907100 MET-leutrna_c + 26.667200 MET-asntrna_c + 4.627200 MET-protrna_c + 15.261600 MET-glntrna_c + 17.128700 MET-argtrna_c + 21.634100 MET-sertrna_c + 22.608200 MET-thrtrna_c + 2.638300 MET-valtrna_c + 7.955500 MET-trptrna_c + 29.752000 MET-tyrtrna_c + mu*NAA/kribo MET-riboactive_c --> MET-for_c + MET-adp_c + 811 MET-pi_c + 811 MET-h_c + 810 MET-gdp_c + 39.655700 MET-trnaala_c + 15.667500 MET-trnacys_c + 18.833400 MET-trnaasp_c + 18.833400 MET-trnaglu_c + 0.568300 MET-trnaphe_c + 31.416100 MET-trnagly_c + 31.416100 MET-trnahis_c + 36.083900 MET-trnaile_c + 7.833700 MET-trnalys_c + 23.907100 MET-trnaleu_c + 32.512000 MET-trnamet_c + 26.667200 MET-trnaasn_c + 4.627200 MET-trnapro_c + 15.261600 MET-trnagln_c + 17.128700 MET-trnaarg_c + 21.634100 MET-trnaser_c + 22.608200 MET-trnathr_c + 2.638300 MET-trnaval_c + 7.955500 MET-trnatrp_c + 29.752000 MET-trnatyr_c + PRO-DUMMYPRO_c + 44.465469 PRO-preUnmodeledProtBiom'"
      ]
     },
     "execution_count": 12,
     "metadata": {},
     "output_type": "execute_result"
    }
   ],
   "source": [
    "df_rxns.reaction[5340]"
   ]
  },
  {
   "cell_type": "code",
   "execution_count": 13,
   "metadata": {},
   "outputs": [
    {
     "data": {
      "text/plain": [
       "'0.00677 ENZ-YBR199W + MET-gdpmann_g + MET-mpdol_g --> MET-gdp_g + MET-h_g + MET-mmpdol_g'"
      ]
     },
     "execution_count": 13,
     "metadata": {},
     "output_type": "execute_result"
    }
   ],
   "source": [
    "model.reactions.get_by_id('RXN-12AMANTF_g_FWD-YBR199W').reaction"
   ]
  },
  {
   "cell_type": "code",
   "execution_count": null,
   "metadata": {},
   "outputs": [],
   "source": []
  },
  {
   "cell_type": "code",
   "execution_count": 31,
   "metadata": {},
   "outputs": [
    {
     "data": {
      "text/html": [
       "<strong><em>Optimal</em> solution with objective value 998.372</strong><br><div>\n",
       "<style scoped>\n",
       "    .dataframe tbody tr th:only-of-type {\n",
       "        vertical-align: middle;\n",
       "    }\n",
       "\n",
       "    .dataframe tbody tr th {\n",
       "        vertical-align: top;\n",
       "    }\n",
       "\n",
       "    .dataframe thead th {\n",
       "        text-align: right;\n",
       "    }\n",
       "</style>\n",
       "<table border=\"1\" class=\"dataframe\">\n",
       "  <thead>\n",
       "    <tr style=\"text-align: right;\">\n",
       "      <th></th>\n",
       "      <th>fluxes</th>\n",
       "      <th>reduced_costs</th>\n",
       "    </tr>\n",
       "  </thead>\n",
       "  <tbody>\n",
       "    <tr>\n",
       "      <th>RXN-BTDDH_c_FWD-YAL060W</th>\n",
       "      <td>0.000000</td>\n",
       "      <td>0.000000</td>\n",
       "    </tr>\n",
       "    <tr>\n",
       "      <th>RXN-BTDDH_c_REV-YAL060W</th>\n",
       "      <td>0.000000</td>\n",
       "      <td>-0.004446</td>\n",
       "    </tr>\n",
       "    <tr>\n",
       "      <th>RXN-13GS_c_FWD-GSC2RHO1</th>\n",
       "      <td>0.000000</td>\n",
       "      <td>0.000000</td>\n",
       "    </tr>\n",
       "    <tr>\n",
       "      <th>RXN-13GS_c_FWD-GSC1RHO1</th>\n",
       "      <td>0.000000</td>\n",
       "      <td>-0.000049</td>\n",
       "    </tr>\n",
       "    <tr>\n",
       "      <th>RXN-16GS_c_FWD-YPR159W</th>\n",
       "      <td>0.000000</td>\n",
       "      <td>0.000000</td>\n",
       "    </tr>\n",
       "    <tr>\n",
       "      <th>...</th>\n",
       "      <td>...</td>\n",
       "      <td>...</td>\n",
       "    </tr>\n",
       "    <tr>\n",
       "      <th>DMRXNS-BIO-unmodeledProtBiom</th>\n",
       "      <td>0.000004</td>\n",
       "      <td>0.000000</td>\n",
       "    </tr>\n",
       "    <tr>\n",
       "      <th>DMRXNS-BIO-modeledProtBiom_c</th>\n",
       "      <td>0.151318</td>\n",
       "      <td>0.000000</td>\n",
       "    </tr>\n",
       "    <tr>\n",
       "      <th>DMRXNS-BIO-modeledProtBiom_m</th>\n",
       "      <td>0.004055</td>\n",
       "      <td>0.000000</td>\n",
       "    </tr>\n",
       "    <tr>\n",
       "      <th>DMRXNS-BIO-rna_c</th>\n",
       "      <td>0.028621</td>\n",
       "      <td>0.000000</td>\n",
       "    </tr>\n",
       "    <tr>\n",
       "      <th>DMRXN-MET-glc__D_c</th>\n",
       "      <td>998.371811</td>\n",
       "      <td>0.000000</td>\n",
       "    </tr>\n",
       "  </tbody>\n",
       "</table>\n",
       "<p>5357 rows × 2 columns</p>\n",
       "</div>"
      ],
      "text/plain": [
       "<Solution 998.372 at 0x7fe5f83bf9d0>"
      ]
     },
     "execution_count": 31,
     "metadata": {},
     "output_type": "execute_result"
    }
   ],
   "source": [
    "e = 'MET-glc__D_c'\n",
    "\n",
    "rxn = cobra.Reaction('DMRXN-' + e)\n",
    "model.add_reaction(rxn)\n",
    "rxn.reaction = e + ' --> '\n",
    "model.objective = dict()\n",
    "model.reactions.get_by_id('DMRXN-' + e).objective_coefficient = 1\n",
    "fba = model.optimize()\n",
    "model.remove_reactions([rxn])\n",
    "fba"
   ]
  },
  {
   "cell_type": "code",
   "execution_count": 25,
   "metadata": {},
   "outputs": [
    {
     "data": {
      "text/plain": [
       "'0.005878 ENZ-YOL156W + MET-glc__D_e --> MET-glc__D_c'"
      ]
     },
     "execution_count": 25,
     "metadata": {},
     "output_type": "execute_result"
    }
   ],
   "source": [
    "model.reactions.get_by_id('RXN-GLCt_c_e_FWD-YOL156W').reaction"
   ]
  },
  {
   "cell_type": "code",
   "execution_count": null,
   "metadata": {},
   "outputs": [],
   "source": [
    "model.reactions.get_by_id('RXN-GLCt_c_e_FWD-YOL156W').reaction"
   ]
  },
  {
   "cell_type": "code",
   "execution_count": 23,
   "metadata": {},
   "outputs": [
    {
     "data": {
      "text/html": [
       "<div>\n",
       "<style scoped>\n",
       "    .dataframe tbody tr th:only-of-type {\n",
       "        vertical-align: middle;\n",
       "    }\n",
       "\n",
       "    .dataframe tbody tr th {\n",
       "        vertical-align: top;\n",
       "    }\n",
       "\n",
       "    .dataframe thead th {\n",
       "        text-align: right;\n",
       "    }\n",
       "</style>\n",
       "<table border=\"1\" class=\"dataframe\">\n",
       "  <thead>\n",
       "    <tr style=\"text-align: right;\">\n",
       "      <th></th>\n",
       "      <th>id</th>\n",
       "      <th>type</th>\n",
       "      <th>symbolic_coeffs</th>\n",
       "      <th>reaction</th>\n",
       "    </tr>\n",
       "  </thead>\n",
       "  <tbody>\n",
       "    <tr>\n",
       "      <th>1294</th>\n",
       "      <td>RXN-GLCt_c_e_FWD-YOL156W</td>\n",
       "      <td>metabolic</td>\n",
       "      <td>mu/keff</td>\n",
       "      <td>MET-glc__D_e + mu/keff ENZ-YOL156W --&gt; MET-glc...</td>\n",
       "    </tr>\n",
       "    <tr>\n",
       "      <th>1295</th>\n",
       "      <td>RXN-GLCt_c_e_FWD-YJR158W</td>\n",
       "      <td>metabolic</td>\n",
       "      <td>mu/keff</td>\n",
       "      <td>MET-glc__D_e + mu/keff ENZ-YJR158W --&gt; MET-glc...</td>\n",
       "    </tr>\n",
       "    <tr>\n",
       "      <th>1296</th>\n",
       "      <td>RXN-GLCt_c_e_FWD-YJL214W</td>\n",
       "      <td>metabolic</td>\n",
       "      <td>mu/keff</td>\n",
       "      <td>MET-glc__D_e + mu/keff ENZ-YJL214W --&gt; MET-glc...</td>\n",
       "    </tr>\n",
       "    <tr>\n",
       "      <th>1297</th>\n",
       "      <td>RXN-GLCt_c_e_FWD-YJR160C</td>\n",
       "      <td>metabolic</td>\n",
       "      <td>mu/keff</td>\n",
       "      <td>MET-glc__D_e + mu/keff ENZ-YJR160C --&gt; MET-glc...</td>\n",
       "    </tr>\n",
       "    <tr>\n",
       "      <th>1298</th>\n",
       "      <td>RXN-GLCt_c_e_FWD-YJL219W</td>\n",
       "      <td>metabolic</td>\n",
       "      <td>mu/keff</td>\n",
       "      <td>MET-glc__D_e + mu/keff ENZ-YJL219W --&gt; MET-glc...</td>\n",
       "    </tr>\n",
       "    <tr>\n",
       "      <th>1299</th>\n",
       "      <td>RXN-GLCt_c_e_FWD-YDL245C</td>\n",
       "      <td>metabolic</td>\n",
       "      <td>mu/keff</td>\n",
       "      <td>MET-glc__D_e + mu/keff ENZ-YDL245C --&gt; MET-glc...</td>\n",
       "    </tr>\n",
       "    <tr>\n",
       "      <th>1300</th>\n",
       "      <td>RXN-GLCt_c_e_FWD-YDL247W</td>\n",
       "      <td>metabolic</td>\n",
       "      <td>mu/keff</td>\n",
       "      <td>MET-glc__D_e + mu/keff ENZ-YDL247W --&gt; MET-glc...</td>\n",
       "    </tr>\n",
       "    <tr>\n",
       "      <th>1301</th>\n",
       "      <td>RXN-GLCt_c_e_FWD-YDR342C</td>\n",
       "      <td>metabolic</td>\n",
       "      <td>mu/keff</td>\n",
       "      <td>MET-glc__D_e + mu/keff ENZ-YDR342C --&gt; MET-glc...</td>\n",
       "    </tr>\n",
       "    <tr>\n",
       "      <th>1302</th>\n",
       "      <td>RXN-GLCt_c_e_FWD-YDR536W</td>\n",
       "      <td>metabolic</td>\n",
       "      <td>mu/keff</td>\n",
       "      <td>MET-glc__D_e + mu/keff ENZ-YDR536W --&gt; MET-glc...</td>\n",
       "    </tr>\n",
       "    <tr>\n",
       "      <th>1303</th>\n",
       "      <td>RXN-GLCt_c_e_FWD-YEL069C</td>\n",
       "      <td>metabolic</td>\n",
       "      <td>mu/keff</td>\n",
       "      <td>MET-glc__D_e + mu/keff ENZ-YEL069C --&gt; MET-glc...</td>\n",
       "    </tr>\n",
       "    <tr>\n",
       "      <th>1304</th>\n",
       "      <td>RXN-GLCt_c_e_FWD-YDR343C</td>\n",
       "      <td>metabolic</td>\n",
       "      <td>mu/keff</td>\n",
       "      <td>MET-glc__D_e + mu/keff ENZ-YDR343C --&gt; MET-glc...</td>\n",
       "    </tr>\n",
       "    <tr>\n",
       "      <th>1305</th>\n",
       "      <td>RXN-GLCt_c_e_FWD-YDR387C</td>\n",
       "      <td>metabolic</td>\n",
       "      <td>mu/keff</td>\n",
       "      <td>MET-glc__D_e + mu/keff ENZ-YDR387C --&gt; MET-glc...</td>\n",
       "    </tr>\n",
       "    <tr>\n",
       "      <th>1306</th>\n",
       "      <td>RXN-GLCt_c_e_FWD-YNR072W</td>\n",
       "      <td>metabolic</td>\n",
       "      <td>mu/keff</td>\n",
       "      <td>MET-glc__D_e + mu/keff ENZ-YNR072W --&gt; MET-glc...</td>\n",
       "    </tr>\n",
       "    <tr>\n",
       "      <th>1307</th>\n",
       "      <td>RXN-GLCt_c_e_FWD-YDR345C</td>\n",
       "      <td>metabolic</td>\n",
       "      <td>mu/keff</td>\n",
       "      <td>MET-glc__D_e + mu/keff ENZ-YDR345C --&gt; MET-glc...</td>\n",
       "    </tr>\n",
       "    <tr>\n",
       "      <th>1308</th>\n",
       "      <td>RXN-GLCt_c_e_FWD-YHR092C</td>\n",
       "      <td>metabolic</td>\n",
       "      <td>mu/keff</td>\n",
       "      <td>MET-glc__D_e + mu/keff ENZ-YHR092C --&gt; MET-glc...</td>\n",
       "    </tr>\n",
       "    <tr>\n",
       "      <th>1309</th>\n",
       "      <td>RXN-GLCt_c_e_FWD-YMR011W</td>\n",
       "      <td>metabolic</td>\n",
       "      <td>mu/keff</td>\n",
       "      <td>MET-glc__D_e + mu/keff ENZ-YMR011W --&gt; MET-glc...</td>\n",
       "    </tr>\n",
       "    <tr>\n",
       "      <th>1310</th>\n",
       "      <td>RXN-GLCt_c_e_FWD-YHR094C</td>\n",
       "      <td>metabolic</td>\n",
       "      <td>mu/keff</td>\n",
       "      <td>MET-glc__D_e + mu/keff ENZ-YHR094C --&gt; MET-glc...</td>\n",
       "    </tr>\n",
       "    <tr>\n",
       "      <th>1311</th>\n",
       "      <td>RXN-GLCt_c_e_FWD-YFL011W</td>\n",
       "      <td>metabolic</td>\n",
       "      <td>mu/keff</td>\n",
       "      <td>MET-glc__D_e + mu/keff ENZ-YFL011W --&gt; MET-glc...</td>\n",
       "    </tr>\n",
       "    <tr>\n",
       "      <th>1312</th>\n",
       "      <td>RXN-GLCt_c_e_FWD-YHR096C</td>\n",
       "      <td>metabolic</td>\n",
       "      <td>mu/keff</td>\n",
       "      <td>MET-glc__D_e + mu/keff ENZ-YHR096C --&gt; MET-glc...</td>\n",
       "    </tr>\n",
       "    <tr>\n",
       "      <th>1313</th>\n",
       "      <td>RXN-GLCt_c_e_FWD-YLR081W</td>\n",
       "      <td>metabolic</td>\n",
       "      <td>mu/keff</td>\n",
       "      <td>MET-glc__D_e + mu/keff ENZ-YLR081W --&gt; MET-glc...</td>\n",
       "    </tr>\n",
       "  </tbody>\n",
       "</table>\n",
       "</div>"
      ],
      "text/plain": [
       "                            id       type symbolic_coeffs  \\\n",
       "1294  RXN-GLCt_c_e_FWD-YOL156W  metabolic         mu/keff   \n",
       "1295  RXN-GLCt_c_e_FWD-YJR158W  metabolic         mu/keff   \n",
       "1296  RXN-GLCt_c_e_FWD-YJL214W  metabolic         mu/keff   \n",
       "1297  RXN-GLCt_c_e_FWD-YJR160C  metabolic         mu/keff   \n",
       "1298  RXN-GLCt_c_e_FWD-YJL219W  metabolic         mu/keff   \n",
       "1299  RXN-GLCt_c_e_FWD-YDL245C  metabolic         mu/keff   \n",
       "1300  RXN-GLCt_c_e_FWD-YDL247W  metabolic         mu/keff   \n",
       "1301  RXN-GLCt_c_e_FWD-YDR342C  metabolic         mu/keff   \n",
       "1302  RXN-GLCt_c_e_FWD-YDR536W  metabolic         mu/keff   \n",
       "1303  RXN-GLCt_c_e_FWD-YEL069C  metabolic         mu/keff   \n",
       "1304  RXN-GLCt_c_e_FWD-YDR343C  metabolic         mu/keff   \n",
       "1305  RXN-GLCt_c_e_FWD-YDR387C  metabolic         mu/keff   \n",
       "1306  RXN-GLCt_c_e_FWD-YNR072W  metabolic         mu/keff   \n",
       "1307  RXN-GLCt_c_e_FWD-YDR345C  metabolic         mu/keff   \n",
       "1308  RXN-GLCt_c_e_FWD-YHR092C  metabolic         mu/keff   \n",
       "1309  RXN-GLCt_c_e_FWD-YMR011W  metabolic         mu/keff   \n",
       "1310  RXN-GLCt_c_e_FWD-YHR094C  metabolic         mu/keff   \n",
       "1311  RXN-GLCt_c_e_FWD-YFL011W  metabolic         mu/keff   \n",
       "1312  RXN-GLCt_c_e_FWD-YHR096C  metabolic         mu/keff   \n",
       "1313  RXN-GLCt_c_e_FWD-YLR081W  metabolic         mu/keff   \n",
       "\n",
       "                                               reaction  \n",
       "1294  MET-glc__D_e + mu/keff ENZ-YOL156W --> MET-glc...  \n",
       "1295  MET-glc__D_e + mu/keff ENZ-YJR158W --> MET-glc...  \n",
       "1296  MET-glc__D_e + mu/keff ENZ-YJL214W --> MET-glc...  \n",
       "1297  MET-glc__D_e + mu/keff ENZ-YJR160C --> MET-glc...  \n",
       "1298  MET-glc__D_e + mu/keff ENZ-YJL219W --> MET-glc...  \n",
       "1299  MET-glc__D_e + mu/keff ENZ-YDL245C --> MET-glc...  \n",
       "1300  MET-glc__D_e + mu/keff ENZ-YDL247W --> MET-glc...  \n",
       "1301  MET-glc__D_e + mu/keff ENZ-YDR342C --> MET-glc...  \n",
       "1302  MET-glc__D_e + mu/keff ENZ-YDR536W --> MET-glc...  \n",
       "1303  MET-glc__D_e + mu/keff ENZ-YEL069C --> MET-glc...  \n",
       "1304  MET-glc__D_e + mu/keff ENZ-YDR343C --> MET-glc...  \n",
       "1305  MET-glc__D_e + mu/keff ENZ-YDR387C --> MET-glc...  \n",
       "1306  MET-glc__D_e + mu/keff ENZ-YNR072W --> MET-glc...  \n",
       "1307  MET-glc__D_e + mu/keff ENZ-YDR345C --> MET-glc...  \n",
       "1308  MET-glc__D_e + mu/keff ENZ-YHR092C --> MET-glc...  \n",
       "1309  MET-glc__D_e + mu/keff ENZ-YMR011W --> MET-glc...  \n",
       "1310  MET-glc__D_e + mu/keff ENZ-YHR094C --> MET-glc...  \n",
       "1311  MET-glc__D_e + mu/keff ENZ-YFL011W --> MET-glc...  \n",
       "1312  MET-glc__D_e + mu/keff ENZ-YHR096C --> MET-glc...  \n",
       "1313  MET-glc__D_e + mu/keff ENZ-YLR081W --> MET-glc...  "
      ]
     },
     "execution_count": 23,
     "metadata": {},
     "output_type": "execute_result"
    }
   ],
   "source": [
    "df_rxns[df_rxns.id.str.contains('GLCt_c_e')]"
   ]
  },
  {
   "cell_type": "code",
   "execution_count": 21,
   "metadata": {},
   "outputs": [
    {
     "data": {
      "text/plain": [
       "'483.0 MET-atp_c + 348.0 MET-ctp_c + 459.0 MET-gtp_c + 510.0 MET-utp_c --> 1800.0 MET-ppi_c + MET-rrna18s_c'"
      ]
     },
     "execution_count": 21,
     "metadata": {},
     "output_type": "execute_result"
    }
   ],
   "source": [
    "model.reactions.get_by_id('RIBO-rrna18s_c').reaction"
   ]
  },
  {
   "cell_type": "code",
   "execution_count": 22,
   "metadata": {},
   "outputs": [
    {
     "data": {
      "text/plain": [
       "'MET-ribosome_c --> 0.232688 MET-riboactive_c'"
      ]
     },
     "execution_count": 22,
     "metadata": {},
     "output_type": "execute_result"
    }
   ],
   "source": [
    "model.reactions.get_by_id('RIBO-riboactive_c').reaction"
   ]
  },
  {
   "cell_type": "code",
   "execution_count": 53,
   "metadata": {},
   "outputs": [],
   "source": [
    "proteins = [met.id for met in model.metabolites if met.id[:4] == 'PRO-']\n",
    "for p in proteins:\n",
    "    model = model_raw.copy()\n",
    "    rxn = cobra.Reaction('DMRXN-' + p)\n",
    "    model.add_reaction(rxn)\n",
    "    rxn.reaction = e + ' --> '\n",
    "    model.objective = dict()\n",
    "    model.reactions.get_by_id('DMRXN-' + p).objective_coefficient = 1\n",
    "    fba = model.optimize()\n",
    "    \n",
    "    print(p, fba.status, fba.objective_value)"
   ]
  },
  {
   "cell_type": "code",
   "execution_count": null,
   "metadata": {},
   "outputs": [],
   "source": []
  }
 ],
 "metadata": {
  "kernelspec": {
   "display_name": "Python 3",
   "language": "python",
   "name": "python3"
  },
  "language_info": {
   "codemirror_mode": {
    "name": "ipython",
    "version": 3
   },
   "file_extension": ".py",
   "mimetype": "text/x-python",
   "name": "python",
   "nbconvert_exporter": "python",
   "pygments_lexer": "ipython3",
   "version": "3.7.9"
  }
 },
 "nbformat": 4,
 "nbformat_minor": 4
}
